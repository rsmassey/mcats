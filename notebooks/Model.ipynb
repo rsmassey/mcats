{
 "cells": [
  {
   "cell_type": "code",
   "execution_count": null,
   "metadata": {},
   "outputs": [],
   "source": []
  }
 ],
 "metadata": {
  "kernelspec": {
   "display_name": "Python 3",
   "language": "python",
   "name": "python3"
  },
  "language_info": {
   "name": "python",
   "version": "3.8.12 (default, Sep 25 2022, 22:43:22) \n[Clang 14.0.0 (clang-1400.0.29.201)]"
  },
  "orig_nbformat": 4,
  "vscode": {
   "interpreter": {
    "hash": "da16a9ccc67f1ec7864e3e9704965328bee10738550ddfb92b906db73c82f710"
   }
  }
 },
 "nbformat": 4,
 "nbformat_minor": 2
}
