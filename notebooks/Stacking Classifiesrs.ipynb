{
 "cells": [
  {
   "cell_type": "code",
   "execution_count": 25,
   "id": "0e13ca86",
   "metadata": {},
   "outputs": [],
   "source": [
    "import pandas as pd\n",
    "from sklearn.ensemble import RandomForestClassifier\n",
    "from sklearn.svm import LinearSVC\n",
    "from sklearn.linear_model import LogisticRegression\n",
    "from sklearn.neighbors import KNeighborsClassifier\n",
    "from xgboost import XGBClassifier\n",
    "from sklearn.pipeline import make_pipeline\n",
    "from sklearn.ensemble import StackingClassifier\n",
    "from sklearn.model_selection import train_test_split\n",
    "from sklearn.preprocessing import LabelEncoder"
   ]
  },
  {
   "cell_type": "code",
   "execution_count": 2,
   "id": "d40c3123",
   "metadata": {},
   "outputs": [],
   "source": [
    "data = pd.read_csv(\"../mcats/data/norm_jamendo_data.csv\")"
   ]
  },
  {
   "cell_type": "code",
   "execution_count": 3,
   "id": "95b77de5",
   "metadata": {},
   "outputs": [],
   "source": [
    "data = data.drop(\"Unnamed: 0\", axis =1)"
   ]
  },
  {
   "cell_type": "code",
   "execution_count": 4,
   "id": "e5239790",
   "metadata": {},
   "outputs": [],
   "source": [
    "X = data.drop(columns = \"genre\")\n",
    "y = data[\"genre\"]"
   ]
  },
  {
   "cell_type": "code",
   "execution_count": 26,
   "id": "bbdbac98",
   "metadata": {},
   "outputs": [],
   "source": [
    "\n",
    "le = LabelEncoder()\n",
    "y = le.fit_transform(y)"
   ]
  },
  {
   "cell_type": "code",
   "execution_count": 27,
   "id": "61248a7d",
   "metadata": {},
   "outputs": [],
   "source": [
    "X_train, X_test, y_train, y_test = train_test_split(X, y, test_size=0.3, random_state=42)"
   ]
  },
  {
   "cell_type": "code",
   "execution_count": 28,
   "id": "95bb7bae",
   "metadata": {},
   "outputs": [
    {
     "name": "stderr",
     "output_type": "stream",
     "text": [
      "/root/.pyenv/versions/3.8.12/envs/mcats/lib/python3.8/site-packages/xgboost/sklearn.py:1395: UserWarning: `use_label_encoder` is deprecated in 1.7.0.\n",
      "  warnings.warn(\"`use_label_encoder` is deprecated in 1.7.0.\")\n"
     ]
    }
   ],
   "source": [
    "forest = RandomForestClassifier(n_estimators=100,\n",
    "                                random_state=42)\n",
    "\n",
    "neigh = KNeighborsClassifier(n_neighbors=5)\n",
    "# Create a Logistic regression classifier\n",
    "#\n",
    "lgclassifier = LogisticRegression(max_iter=300, random_state=42)\n",
    "\n",
    "boost = XGBClassifier(random_state=123, verbosity=0, use_label_encoder=False)"
   ]
  },
  {
   "cell_type": "code",
   "execution_count": 29,
   "id": "810cd84d",
   "metadata": {},
   "outputs": [],
   "source": [
    "estimators = [\n",
    "     ('rf', forest),\n",
    "    ('knn', neigh),\n",
    "    ('XGBboost', boost),\n",
    "    ('log', lgclassifier)]\n",
    "\n",
    "sclf = StackingClassifier(estimators=estimators,\n",
    "                            final_estimator=lgclassifier,\n",
    "                            cv=10)"
   ]
  },
  {
   "cell_type": "code",
   "execution_count": 30,
   "id": "70c8495e",
   "metadata": {},
   "outputs": [
    {
     "name": "stdout",
     "output_type": "stream",
     "text": [
      "Random forest model training Accuracy: 1.00\n",
      "Random forest model test Accuracy: 0.45\n"
     ]
    }
   ],
   "source": [
    "forest.fit(X_train, y_train)\n",
    "print(f\"Random forest model training Accuracy: {forest.score(X_train, y_train):0.2f}\")\n",
    "print(f\"Random forest model test Accuracy: {forest.score(X_test, y_test):0.2f}\")"
   ]
  },
  {
   "cell_type": "code",
   "execution_count": 31,
   "id": "8ed8e010",
   "metadata": {},
   "outputs": [
    {
     "name": "stdout",
     "output_type": "stream",
     "text": [
      "\n",
      "KNN model training Accuracy: 0.59\n",
      "KNN model test Accuracy: 0.37\n"
     ]
    }
   ],
   "source": [
    "neigh.fit(X_train, y_train)\n",
    "print(f\"\\nKNN model training Accuracy: {neigh.score(X_train, y_train):0.2f}\")\n",
    "print(f\"KNN model test Accuracy: {neigh.score(X_test, y_test):0.2f}\")"
   ]
  },
  {
   "cell_type": "code",
   "execution_count": 32,
   "id": "21739f10",
   "metadata": {},
   "outputs": [
    {
     "name": "stdout",
     "output_type": "stream",
     "text": [
      "\n",
      "XGBoost model training Accuracy: 1.00\n",
      "XGBoost model test Accuracy: 0.47\n"
     ]
    }
   ],
   "source": [
    "boost.fit(X_train, y_train)\n",
    "print(f\"\\nXGBoost model training Accuracy: {boost.score(X_train, y_train):0.2f}\")\n",
    "print(f\"XGBoost model test Accuracy: {boost.score(X_test, y_test):0.2f}\")"
   ]
  },
  {
   "cell_type": "code",
   "execution_count": 33,
   "id": "88c7e638",
   "metadata": {},
   "outputs": [
    {
     "name": "stderr",
     "output_type": "stream",
     "text": [
      "/root/.pyenv/versions/3.8.12/envs/mcats/lib/python3.8/site-packages/xgboost/sklearn.py:1395: UserWarning: `use_label_encoder` is deprecated in 1.7.0.\n",
      "  warnings.warn(\"`use_label_encoder` is deprecated in 1.7.0.\")\n",
      "/root/.pyenv/versions/3.8.12/envs/mcats/lib/python3.8/site-packages/xgboost/sklearn.py:1395: UserWarning: `use_label_encoder` is deprecated in 1.7.0.\n",
      "  warnings.warn(\"`use_label_encoder` is deprecated in 1.7.0.\")\n",
      "/root/.pyenv/versions/3.8.12/envs/mcats/lib/python3.8/site-packages/xgboost/sklearn.py:1395: UserWarning: `use_label_encoder` is deprecated in 1.7.0.\n",
      "  warnings.warn(\"`use_label_encoder` is deprecated in 1.7.0.\")\n"
     ]
    },
    {
     "name": "stdout",
     "output_type": "stream",
     "text": [
      "\n",
      "Stacking classifier training Accuracy: 0.94\n",
      "Stacking classifier test Accuracy: 0.46\n"
     ]
    }
   ],
   "source": [
    "sclf.fit(X_train, y_train)\n",
    "print(f\"\\nStacking classifier training Accuracy: {sclf.score(X_train, y_train):0.2f}\")\n",
    "print(f\"Stacking classifier test Accuracy: {sclf.score(X_test, y_test):0.2f}\")"
   ]
  },
  {
   "cell_type": "code",
   "execution_count": null,
   "id": "ee27cd6a",
   "metadata": {},
   "outputs": [],
   "source": []
  }
 ],
 "metadata": {
  "kernelspec": {
   "display_name": "Python 3 (ipykernel)",
   "language": "python",
   "name": "python3"
  },
  "language_info": {
   "codemirror_mode": {
    "name": "ipython",
    "version": 3
   },
   "file_extension": ".py",
   "mimetype": "text/x-python",
   "name": "python",
   "nbconvert_exporter": "python",
   "pygments_lexer": "ipython3",
   "version": "3.8.12"
  },
  "toc": {
   "base_numbering": 1,
   "nav_menu": {},
   "number_sections": true,
   "sideBar": true,
   "skip_h1_title": false,
   "title_cell": "Table of Contents",
   "title_sidebar": "Contents",
   "toc_cell": false,
   "toc_position": {},
   "toc_section_display": true,
   "toc_window_display": false
  }
 },
 "nbformat": 4,
 "nbformat_minor": 5
}
