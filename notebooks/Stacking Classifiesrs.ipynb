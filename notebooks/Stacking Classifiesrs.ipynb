{
 "cells": [
  {
   "cell_type": "code",
   "execution_count": 1,
   "id": "0e13ca86",
   "metadata": {},
   "outputs": [],
   "source": [
    "import pandas as pd\n",
    "from sklearn.linear_model import LogisticRegression\n",
    "from sklearn.svm import SVC\n",
    "from sklearn.neighbors import KNeighborsClassifier\n",
    "from sklearn.pipeline import make_pipeline\n",
    "from sklearn.ensemble import StackingClassifier, RandomForestClassifier\n",
    "from sklearn.model_selection import train_test_split\n",
    "from sklearn.preprocessing import LabelEncoder"
   ]
  },
  {
   "cell_type": "code",
   "execution_count": 2,
   "id": "bbdbac98",
   "metadata": {},
   "outputs": [],
   "source": [
    "\n",
    "# le = LabelEncoder()\n",
    "# y = le.fit_transform(y)"
   ]
  },
  {
   "cell_type": "code",
   "execution_count": 3,
   "id": "61248a7d",
   "metadata": {},
   "outputs": [],
   "source": [
    "# Load the data splits\n",
    "train_data = pd.read_csv('../mcats/data/train_data.csv')\n",
    "val_data = pd.read_csv('../mcats/data/test_data.csv')\n",
    "test_data = pd.read_csv('../mcats/data/val_data.csv')\n",
    "\n",
    "# Split the data into X and y\n",
    "X_train = train_data.iloc[:, 1:-1]\n",
    "y_train = train_data.iloc[:, -1]\n",
    "X_val = val_data.iloc[:, 1:-1]\n",
    "y_val = val_data.iloc[:, -1]\n",
    "X_test = test_data.iloc[:, 1:-1]\n",
    "y_test = test_data.iloc[:, -1]"
   ]
  },
  {
   "cell_type": "code",
   "execution_count": 39,
   "id": "1fbf3322",
   "metadata": {},
   "outputs": [],
   "source": [
    "X_train= X_train[['tempo',\n",
    " 'zero_crossings_mean',\n",
    " 'zero_crossings_var',\n",
    " 'spectral_centroids_mean',\n",
    " 'spectral_centroids_var',\n",
    " 'spectral_rolloff_mean',\n",
    " 'spectral_rolloff_var',\n",
    " 'mfcc_1_var',\n",
    " 'mfcc_2_mean',\n",
    " 'mfcc_2_var',\n",
    " 'mfcc_5_var',\n",
    " 'mfcc_6_var',\n",
    " 'mfcc_7_var',\n",
    " 'mfcc_8_var',\n",
    " 'mfcc_11_mean',\n",
    " 'mfcc_12_mean',\n",
    " 'mfcc_13_mean',\n",
    " 'mfcc_14_mean',\n",
    " 'mfcc_15_mean',\n",
    " 'mfcc_16_mean',\n",
    " 'mfcc_19_mean',\n",
    " 'mfcc_20_mean',\n",
    " 'mfcc_21_mean',\n",
    " 'mfcc_28_mean',\n",
    " 'mfcc_28_var',\n",
    " 'mfcc_29_mean',\n",
    " 'mfcc_33_mean',\n",
    " 'mfcc_37_mean',\n",
    " 'mfcc_40_mean']]"
   ]
  },
  {
   "cell_type": "code",
   "execution_count": 17,
   "id": "ebaec68b",
   "metadata": {},
   "outputs": [],
   "source": [
    "X_test= X_test[['tempo',\n",
    " 'zero_crossings_mean',\n",
    " 'zero_crossings_var',\n",
    " 'spectral_centroids_mean',\n",
    " 'spectral_centroids_var',\n",
    " 'spectral_rolloff_mean',\n",
    " 'spectral_rolloff_var',\n",
    " 'mfcc_1_var',\n",
    " 'mfcc_2_mean',\n",
    " 'mfcc_2_var',\n",
    " 'mfcc_5_var',\n",
    " 'mfcc_6_var',\n",
    " 'mfcc_7_var',\n",
    " 'mfcc_8_var',\n",
    " 'mfcc_11_mean',\n",
    " 'mfcc_12_mean',\n",
    " 'mfcc_13_mean',\n",
    " 'mfcc_14_mean',\n",
    " 'mfcc_15_mean',\n",
    " 'mfcc_16_mean',\n",
    " 'mfcc_19_mean',\n",
    " 'mfcc_20_mean',\n",
    " 'mfcc_21_mean',\n",
    " 'mfcc_28_mean',\n",
    " 'mfcc_28_var',\n",
    " 'mfcc_29_mean',\n",
    " 'mfcc_33_mean',\n",
    " 'mfcc_37_mean',\n",
    " 'mfcc_40_mean']]"
   ]
  },
  {
   "cell_type": "code",
   "execution_count": 82,
   "id": "95bb7bae",
   "metadata": {},
   "outputs": [],
   "source": [
    "svm = SVC(C= .50, gamma= 'scale', kernel='sigmoid')\n",
    "\n",
    "rf= RandomForestClassifier(n_estimators=49, random_state=42, max_depth =3)  \n",
    "\n",
    "knn = KNeighborsClassifier(n_neighbors=90)\n",
    "\n",
    "log = LogisticRegression(max_iter=1000, C= 2, penalty = 'l2', solver ='newton-cg')\n"
   ]
  },
  {
   "cell_type": "code",
   "execution_count": 83,
   "id": "810cd84d",
   "metadata": {},
   "outputs": [],
   "source": [
    "estimators = [\n",
    "     ('svm', svm),\n",
    "    ('rf', rf),\n",
    "    ('knn', knn),\n",
    "    ('log', log)]\n",
    "\n",
    "sclf = StackingClassifier(estimators=estimators,\n",
    "                            final_estimator=log,\n",
    "                            cv=10)"
   ]
  },
  {
   "cell_type": "code",
   "execution_count": 84,
   "id": "70c8495e",
   "metadata": {},
   "outputs": [
    {
     "name": "stdout",
     "output_type": "stream",
     "text": [
      "Random forest model training Accuracy: 0.50\n",
      "Random forest model test Accuracy: 0.48\n"
     ]
    }
   ],
   "source": [
    "svm.fit(X_train, y_train)\n",
    "print(f\"Random forest model training Accuracy: {svm.score(X_train, y_train):0.2f}\")\n",
    "print(f\"Random forest model test Accuracy: {svm.score(X_test, y_test):0.2f}\")"
   ]
  },
  {
   "cell_type": "code",
   "execution_count": 85,
   "id": "8ed8e010",
   "metadata": {},
   "outputs": [
    {
     "name": "stdout",
     "output_type": "stream",
     "text": [
      "Random Forest model training Accuracy: 0.53\n",
      "Random Forest model test Accuracy: 0.49\n"
     ]
    }
   ],
   "source": [
    "rf.fit(X_train, y_train)\n",
    "print(f\"Random Forest model training Accuracy: {rf.score(X_train, y_train):0.2f}\")\n",
    "print(f\"Random Forest model test Accuracy: {rf.score(X_test, y_test):0.2f}\")"
   ]
  },
  {
   "cell_type": "code",
   "execution_count": 86,
   "id": "c8523c34",
   "metadata": {},
   "outputs": [
    {
     "name": "stdout",
     "output_type": "stream",
     "text": [
      "KNN model training Accuracy: 0.57\n",
      "KNN model test Accuracy: 0.49\n"
     ]
    }
   ],
   "source": [
    "knn.fit(X_train, y_train)\n",
    "print(f\"KNN model training Accuracy: {knn.score(X_train, y_train):0.2f}\")\n",
    "print(f\"KNN model test Accuracy: {knn.score(X_test, y_test):0.2f}\")"
   ]
  },
  {
   "cell_type": "code",
   "execution_count": 87,
   "id": "b165ee43",
   "metadata": {},
   "outputs": [
    {
     "name": "stdout",
     "output_type": "stream",
     "text": [
      "Logistic regression model training Accuracy: 0.62\n",
      "Logistic regression model test Accuracy: 0.52\n"
     ]
    }
   ],
   "source": [
    "log.fit(X_train, y_train)\n",
    "print(f\"Logistic regression model training Accuracy: {log.score(X_train, y_train):0.2f}\")\n",
    "print(f\"Logistic regression model test Accuracy: {log.score(X_test, y_test):0.2f}\")"
   ]
  },
  {
   "cell_type": "code",
   "execution_count": 88,
   "id": "88c7e638",
   "metadata": {},
   "outputs": [
    {
     "name": "stdout",
     "output_type": "stream",
     "text": [
      "\n",
      "Stacking classifier training Accuracy: 0.68\n",
      "Stacking classifier test Accuracy: 0.53\n"
     ]
    }
   ],
   "source": [
    "sclf.fit(X_train, y_train)\n",
    "print(f\"\\nStacking classifier training Accuracy: {sclf.score(X_train, y_train):0.2f}\")\n",
    "print(f\"Stacking classifier test Accuracy: {sclf.score(X_test, y_test):0.2f}\")"
   ]
  },
  {
   "cell_type": "code",
   "execution_count": null,
   "id": "ee27cd6a",
   "metadata": {},
   "outputs": [],
   "source": []
  },
  {
   "cell_type": "code",
   "execution_count": null,
   "id": "ead3937c",
   "metadata": {},
   "outputs": [],
   "source": []
  }
 ],
 "metadata": {
  "kernelspec": {
   "display_name": "Python 3 (ipykernel)",
   "language": "python",
   "name": "python3"
  },
  "language_info": {
   "codemirror_mode": {
    "name": "ipython",
    "version": 3
   },
   "file_extension": ".py",
   "mimetype": "text/x-python",
   "name": "python",
   "nbconvert_exporter": "python",
   "pygments_lexer": "ipython3",
   "version": "3.8.12"
  },
  "toc": {
   "base_numbering": 1,
   "nav_menu": {},
   "number_sections": true,
   "sideBar": true,
   "skip_h1_title": false,
   "title_cell": "Table of Contents",
   "title_sidebar": "Contents",
   "toc_cell": false,
   "toc_position": {},
   "toc_section_display": true,
   "toc_window_display": false
  }
 },
 "nbformat": 4,
 "nbformat_minor": 5
}
