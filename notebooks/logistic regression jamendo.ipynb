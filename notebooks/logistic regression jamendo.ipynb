{
 "cells": [
  {
   "cell_type": "code",
   "execution_count": 48,
   "id": "f410a332",
   "metadata": {},
   "outputs": [],
   "source": [
    "import pandas as pd\n",
    "import numpy as np\n",
    "import statsmodels.formula.api as sm\n",
    "from statsmodels.api import add_constant\n",
    "from sklearn.model_selection import train_test_split\n",
    "from sklearn.model_selection import cross_validate\n",
    "from sklearn.linear_model import LogisticRegression\n",
    "from sklearn.metrics import classification_report\n",
    "from sklearn.decomposition import PCA\n",
    "from sklearn.pipeline import Pipeline\n",
    "from sklearn.metrics import accuracy_score\n",
    "from sklearn.model_selection import GridSearchCV\n",
    "from sklearn.model_selection import RandomizedSearchCV\n",
    "import matplotlib.pyplot as plt\n",
    "from scipy.stats import randint"
   ]
  },
  {
   "cell_type": "code",
   "execution_count": 60,
   "id": "8c905cfd",
   "metadata": {},
   "outputs": [
    {
     "name": "stdout",
     "output_type": "stream",
     "text": [
      "Requirement already satisfied: librosa in /root/.pyenv/versions/3.8.12/envs/mcats/lib/python3.8/site-packages (0.9.2)\n",
      "Requirement already satisfied: numpy>=1.17.0 in /root/.pyenv/versions/3.8.12/envs/mcats/lib/python3.8/site-packages (from librosa) (1.23.5)\n",
      "Requirement already satisfied: resampy>=0.2.2 in /root/.pyenv/versions/3.8.12/envs/mcats/lib/python3.8/site-packages (from librosa) (0.4.2)\n",
      "Requirement already satisfied: scikit-learn>=0.19.1 in /root/.pyenv/versions/3.8.12/envs/mcats/lib/python3.8/site-packages (from librosa) (1.2.1)\n",
      "Requirement already satisfied: scipy>=1.2.0 in /root/.pyenv/versions/3.8.12/envs/mcats/lib/python3.8/site-packages (from librosa) (1.10.0)\n",
      "Requirement already satisfied: decorator>=4.0.10 in /root/.pyenv/versions/3.8.12/envs/mcats/lib/python3.8/site-packages (from librosa) (5.1.1)\n",
      "Requirement already satisfied: packaging>=20.0 in /root/.pyenv/versions/3.8.12/envs/mcats/lib/python3.8/site-packages (from librosa) (22.0)\n",
      "Requirement already satisfied: numba>=0.45.1 in /root/.pyenv/versions/3.8.12/envs/mcats/lib/python3.8/site-packages (from librosa) (0.56.4)\n",
      "Requirement already satisfied: pooch>=1.0 in /root/.pyenv/versions/3.8.12/envs/mcats/lib/python3.8/site-packages (from librosa) (1.6.0)\n",
      "Requirement already satisfied: audioread>=2.1.9 in /root/.pyenv/versions/3.8.12/envs/mcats/lib/python3.8/site-packages (from librosa) (3.0.0)\n",
      "Requirement already satisfied: joblib>=0.14 in /root/.pyenv/versions/3.8.12/envs/mcats/lib/python3.8/site-packages (from librosa) (1.2.0)\n",
      "Requirement already satisfied: soundfile>=0.10.2 in /root/.pyenv/versions/3.8.12/envs/mcats/lib/python3.8/site-packages (from librosa) (0.11.0)\n",
      "Requirement already satisfied: importlib-metadata in /root/.pyenv/versions/3.8.12/envs/mcats/lib/python3.8/site-packages (from numba>=0.45.1->librosa) (5.2.0)\n",
      "Requirement already satisfied: setuptools in /root/.pyenv/versions/3.8.12/envs/mcats/lib/python3.8/site-packages (from numba>=0.45.1->librosa) (56.0.0)\n",
      "Requirement already satisfied: llvmlite<0.40,>=0.39.0dev0 in /root/.pyenv/versions/3.8.12/envs/mcats/lib/python3.8/site-packages (from numba>=0.45.1->librosa) (0.39.1)\n",
      "Requirement already satisfied: requests>=2.19.0 in /root/.pyenv/versions/3.8.12/envs/mcats/lib/python3.8/site-packages (from pooch>=1.0->librosa) (2.28.2)\n",
      "Requirement already satisfied: appdirs>=1.3.0 in /root/.pyenv/versions/3.8.12/envs/mcats/lib/python3.8/site-packages (from pooch>=1.0->librosa) (1.4.4)\n",
      "Requirement already satisfied: threadpoolctl>=2.0.0 in /root/.pyenv/versions/3.8.12/envs/mcats/lib/python3.8/site-packages (from scikit-learn>=0.19.1->librosa) (3.1.0)\n",
      "Requirement already satisfied: cffi>=1.0 in /root/.pyenv/versions/3.8.12/envs/mcats/lib/python3.8/site-packages (from soundfile>=0.10.2->librosa) (1.15.1)\n",
      "Requirement already satisfied: pycparser in /root/.pyenv/versions/3.8.12/envs/mcats/lib/python3.8/site-packages (from cffi>=1.0->soundfile>=0.10.2->librosa) (2.21)\n",
      "Requirement already satisfied: certifi>=2017.4.17 in /root/.pyenv/versions/3.8.12/envs/mcats/lib/python3.8/site-packages (from requests>=2.19.0->pooch>=1.0->librosa) (2022.12.7)\n",
      "Requirement already satisfied: urllib3<1.27,>=1.21.1 in /root/.pyenv/versions/3.8.12/envs/mcats/lib/python3.8/site-packages (from requests>=2.19.0->pooch>=1.0->librosa) (1.26.14)\n",
      "Requirement already satisfied: idna<4,>=2.5 in /root/.pyenv/versions/3.8.12/envs/mcats/lib/python3.8/site-packages (from requests>=2.19.0->pooch>=1.0->librosa) (3.4)\n",
      "Requirement already satisfied: charset-normalizer<4,>=2 in /root/.pyenv/versions/3.8.12/envs/mcats/lib/python3.8/site-packages (from requests>=2.19.0->pooch>=1.0->librosa) (2.1.1)\n",
      "Requirement already satisfied: zipp>=0.5 in /root/.pyenv/versions/3.8.12/envs/mcats/lib/python3.8/site-packages (from importlib-metadata->numba>=0.45.1->librosa) (3.12.1)\n",
      "Note: you may need to restart the kernel to use updated packages.\n"
     ]
    }
   ],
   "source": [
    "pip install librosa\n"
   ]
  },
  {
   "cell_type": "code",
   "execution_count": 27,
   "id": "cfa1acd3",
   "metadata": {},
   "outputs": [],
   "source": [
    "\n",
    "# Load the data splits\n",
    "train_data = pd.read_csv('../mcats/data/train_data.csv')\n",
    "val_data = pd.read_csv('../mcats/data/test_data.csv')\n",
    "test_data = pd.read_csv('../mcats/data/val_data.csv')\n",
    "\n",
    "# Split the data into X and y\n",
    "X_train = train_data.iloc[:, 1:-1]\n",
    "y_train = train_data.iloc[:, -1]\n",
    "X_val = val_data.iloc[:, 1:-1]\n",
    "y_val = val_data.iloc[:, -1]\n",
    "X_test = test_data.iloc[:, 1:-1]\n",
    "y_test = test_data.iloc[:, -1]"
   ]
  },
  {
   "cell_type": "code",
   "execution_count": 28,
   "id": "f5060b08",
   "metadata": {},
   "outputs": [
    {
     "data": {
      "text/plain": [
       "0.7246458923512747"
      ]
     },
     "execution_count": 28,
     "metadata": {},
     "output_type": "execute_result"
    }
   ],
   "source": [
    "model = LogisticRegression(max_iter=1000)\n",
    "# random grid search mess around with penalties, C, and solver. If not good try different feature engineering.\n",
    "\n",
    "\n",
    "cv_results = cross_validate(model, X_train, y_train, cv=5)\n",
    "\n",
    "accuracy = cv_results['test_score'].mean()\n",
    "accuracy"
   ]
  },
  {
   "cell_type": "code",
   "execution_count": 29,
   "id": "b606b5d2",
   "metadata": {},
   "outputs": [
    {
     "name": "stdout",
     "output_type": "stream",
     "text": [
      "              precision    recall  f1-score   support\n",
      "\n",
      "      hiphop       0.81      0.80      0.80       477\n",
      "   classical       0.94      0.94      0.94       437\n",
      "         pop       0.66      0.61      0.64       423\n",
      "  electronic       0.75      0.75      0.75       424\n",
      "       metal       0.76      0.81      0.79       443\n",
      "        rock       0.71      0.68      0.69       450\n",
      "     country       0.71      0.74      0.72       419\n",
      "      reggae       0.80      0.79      0.80       457\n",
      "\n",
      "    accuracy                           0.77      3530\n",
      "   macro avg       0.77      0.77      0.77      3530\n",
      "weighted avg       0.77      0.77      0.77      3530\n",
      "\n"
     ]
    }
   ],
   "source": [
    "model.fit(X_train, y_train)\n",
    "preds = model.predict(X_train)\n",
    "#y_ true is y_test  predict on x_text  y_pred is the output of the model\n",
    "y_true = y_train\n",
    "y_pred = preds\n",
    "target_names = ['hiphop','classical','pop','electronic','metal', 'rock','country','reggae']\n",
    "print(classification_report(y_true, y_pred, target_names=target_names))"
   ]
  },
  {
   "cell_type": "code",
   "execution_count": 30,
   "id": "2fb85b5a",
   "metadata": {},
   "outputs": [
    {
     "name": "stdout",
     "output_type": "stream",
     "text": [
      "              precision    recall  f1-score   support\n",
      "\n",
      "      hiphop       0.53      0.66      0.59       140\n",
      "   classical       0.86      0.85      0.85       172\n",
      "         pop       0.34      0.27      0.30       164\n",
      "  electronic       0.46      0.45      0.45       148\n",
      "       metal       0.57      0.59      0.58       122\n",
      "        rock       0.41      0.39      0.40       154\n",
      "     country       0.38      0.39      0.39       119\n",
      "      reggae       0.62      0.63      0.62       155\n",
      "\n",
      "    accuracy                           0.53      1174\n",
      "   macro avg       0.52      0.53      0.52      1174\n",
      "weighted avg       0.53      0.53      0.53      1174\n",
      "\n"
     ]
    }
   ],
   "source": [
    "model.fit(X_train, y_train)\n",
    "preds = model.predict(X_test)\n",
    "#y_ true is y_test  predict on x_text  y_pred is the output of the model\n",
    "y_true = y_test\n",
    "y_pred = preds\n",
    "target_names = ['hiphop','classical','pop','electronic','metal', 'rock','country','reggae']\n",
    "print(classification_report(y_true, y_pred, target_names=target_names))"
   ]
  },
  {
   "cell_type": "code",
   "execution_count": 31,
   "id": "f466b6df",
   "metadata": {},
   "outputs": [
    {
     "name": "stdout",
     "output_type": "stream",
     "text": [
      "Fitting 5 folds for each of 100 candidates, totalling 500 fits\n",
      "[CV] END ......................C=3, penalty=l1, solver=lbfgs; total time=   0.0s\n",
      "[CV] END ......................C=3, penalty=l1, solver=lbfgs; total time=   0.0s\n",
      "[CV] END ......................C=3, penalty=l1, solver=lbfgs; total time=   0.0s\n",
      "[CV] END ......................C=3, penalty=l1, solver=lbfgs; total time=   0.0s\n",
      "[CV] END ......................C=3, penalty=l1, solver=lbfgs; total time=   0.0s\n",
      "[CV] END .....................C=1, penalty=None, solver=saga; total time=   4.5s\n",
      "[CV] END .....................C=1, penalty=None, solver=saga; total time=   3.0s\n",
      "[CV] END .....................C=1, penalty=None, solver=saga; total time=   2.8s\n",
      "[CV] END .....................C=1, penalty=None, solver=saga; total time=   2.8s\n",
      "[CV] END .....................C=1, penalty=None, solver=saga; total time=   2.7s\n",
      "[CV] END ..................C=0, penalty=l1, solver=liblinear; total time=   0.0s\n",
      "[CV] END ..................C=0, penalty=l1, solver=liblinear; total time=   0.0s\n",
      "[CV] END ..................C=0, penalty=l1, solver=liblinear; total time=   0.0s\n",
      "[CV] END ..................C=0, penalty=l1, solver=liblinear; total time=   0.0s\n",
      "[CV] END ..................C=0, penalty=l1, solver=liblinear; total time=   0.0s\n"
     ]
    },
    {
     "name": "stderr",
     "output_type": "stream",
     "text": [
      "/root/.pyenv/versions/3.8.12/envs/mcats/lib/python3.8/site-packages/sklearn/linear_model/_logistic.py:1181: UserWarning: Setting penalty=None will ignore the C and l1_ratio parameters\n",
      "  warnings.warn(\n"
     ]
    },
    {
     "name": "stdout",
     "output_type": "stream",
     "text": [
      "[CV] END .....................C=4, penalty=None, solver=saga; total time=   2.7s\n"
     ]
    },
    {
     "name": "stderr",
     "output_type": "stream",
     "text": [
      "/root/.pyenv/versions/3.8.12/envs/mcats/lib/python3.8/site-packages/sklearn/linear_model/_logistic.py:1181: UserWarning: Setting penalty=None will ignore the C and l1_ratio parameters\n",
      "  warnings.warn(\n"
     ]
    },
    {
     "name": "stdout",
     "output_type": "stream",
     "text": [
      "[CV] END .....................C=4, penalty=None, solver=saga; total time=   2.6s\n"
     ]
    },
    {
     "name": "stderr",
     "output_type": "stream",
     "text": [
      "/root/.pyenv/versions/3.8.12/envs/mcats/lib/python3.8/site-packages/sklearn/linear_model/_logistic.py:1181: UserWarning: Setting penalty=None will ignore the C and l1_ratio parameters\n",
      "  warnings.warn(\n"
     ]
    },
    {
     "name": "stdout",
     "output_type": "stream",
     "text": [
      "[CV] END .....................C=4, penalty=None, solver=saga; total time=   2.6s\n"
     ]
    },
    {
     "name": "stderr",
     "output_type": "stream",
     "text": [
      "/root/.pyenv/versions/3.8.12/envs/mcats/lib/python3.8/site-packages/sklearn/linear_model/_logistic.py:1181: UserWarning: Setting penalty=None will ignore the C and l1_ratio parameters\n",
      "  warnings.warn(\n"
     ]
    },
    {
     "name": "stdout",
     "output_type": "stream",
     "text": [
      "[CV] END .....................C=4, penalty=None, solver=saga; total time=   2.1s\n"
     ]
    },
    {
     "name": "stderr",
     "output_type": "stream",
     "text": [
      "/root/.pyenv/versions/3.8.12/envs/mcats/lib/python3.8/site-packages/sklearn/linear_model/_logistic.py:1181: UserWarning: Setting penalty=None will ignore the C and l1_ratio parameters\n",
      "  warnings.warn(\n"
     ]
    },
    {
     "name": "stdout",
     "output_type": "stream",
     "text": [
      "[CV] END .....................C=4, penalty=None, solver=saga; total time=   2.0s\n",
      "[CV] END ..........C=4, penalty=elasticnet, solver=liblinear; total time=   0.0s\n",
      "[CV] END ..........C=4, penalty=elasticnet, solver=liblinear; total time=   0.0s\n",
      "[CV] END ..........C=4, penalty=elasticnet, solver=liblinear; total time=   0.0s\n",
      "[CV] END ..........C=4, penalty=elasticnet, solver=liblinear; total time=   0.0s\n",
      "[CV] END ..........C=4, penalty=elasticnet, solver=liblinear; total time=   0.0s\n",
      "[CV] END .......................C=2, penalty=l1, solver=saga; total time=   3.4s\n",
      "[CV] END .......................C=2, penalty=l1, solver=saga; total time=   4.0s\n",
      "[CV] END .......................C=2, penalty=l1, solver=saga; total time=   3.9s\n",
      "[CV] END .......................C=2, penalty=l1, solver=saga; total time=   4.0s\n",
      "[CV] END .......................C=2, penalty=l1, solver=saga; total time=   3.2s\n",
      "[CV] END ............C=2, penalty=l1, solver=newton-cholesky; total time=   0.0s\n",
      "[CV] END ............C=2, penalty=l1, solver=newton-cholesky; total time=   0.0s\n",
      "[CV] END ............C=2, penalty=l1, solver=newton-cholesky; total time=   0.0s\n",
      "[CV] END ............C=2, penalty=l1, solver=newton-cholesky; total time=   0.0s\n",
      "[CV] END ............C=2, penalty=l1, solver=newton-cholesky; total time=   0.0s\n",
      "[CV] END ................C=4, penalty=elasticnet, solver=sag; total time=   0.0s\n",
      "[CV] END ................C=4, penalty=elasticnet, solver=sag; total time=   0.0s\n",
      "[CV] END ................C=4, penalty=elasticnet, solver=sag; total time=   0.0s\n",
      "[CV] END ................C=4, penalty=elasticnet, solver=sag; total time=   0.0s\n",
      "[CV] END ................C=4, penalty=elasticnet, solver=sag; total time=   0.0s\n"
     ]
    },
    {
     "name": "stderr",
     "output_type": "stream",
     "text": [
      "/root/.pyenv/versions/3.8.12/envs/mcats/lib/python3.8/site-packages/sklearn/linear_model/_logistic.py:1211: UserWarning: 'n_jobs' > 1 does not have any effect when 'solver' is set to 'liblinear'. Got 'n_jobs' = 8.\n",
      "  warnings.warn(\n"
     ]
    },
    {
     "name": "stdout",
     "output_type": "stream",
     "text": [
      "[CV] END ..................C=2, penalty=l1, solver=liblinear; total time=   9.0s\n"
     ]
    },
    {
     "name": "stderr",
     "output_type": "stream",
     "text": [
      "/root/.pyenv/versions/3.8.12/envs/mcats/lib/python3.8/site-packages/sklearn/linear_model/_logistic.py:1211: UserWarning: 'n_jobs' > 1 does not have any effect when 'solver' is set to 'liblinear'. Got 'n_jobs' = 8.\n",
      "  warnings.warn(\n"
     ]
    },
    {
     "name": "stdout",
     "output_type": "stream",
     "text": [
      "[CV] END ..................C=2, penalty=l1, solver=liblinear; total time=   9.2s\n"
     ]
    },
    {
     "name": "stderr",
     "output_type": "stream",
     "text": [
      "/root/.pyenv/versions/3.8.12/envs/mcats/lib/python3.8/site-packages/sklearn/linear_model/_logistic.py:1211: UserWarning: 'n_jobs' > 1 does not have any effect when 'solver' is set to 'liblinear'. Got 'n_jobs' = 8.\n",
      "  warnings.warn(\n"
     ]
    },
    {
     "name": "stdout",
     "output_type": "stream",
     "text": [
      "[CV] END ..................C=2, penalty=l1, solver=liblinear; total time=   8.9s\n"
     ]
    },
    {
     "name": "stderr",
     "output_type": "stream",
     "text": [
      "/root/.pyenv/versions/3.8.12/envs/mcats/lib/python3.8/site-packages/sklearn/linear_model/_logistic.py:1211: UserWarning: 'n_jobs' > 1 does not have any effect when 'solver' is set to 'liblinear'. Got 'n_jobs' = 8.\n",
      "  warnings.warn(\n"
     ]
    },
    {
     "name": "stdout",
     "output_type": "stream",
     "text": [
      "[CV] END ..................C=2, penalty=l1, solver=liblinear; total time=   9.8s\n"
     ]
    },
    {
     "name": "stderr",
     "output_type": "stream",
     "text": [
      "/root/.pyenv/versions/3.8.12/envs/mcats/lib/python3.8/site-packages/sklearn/linear_model/_logistic.py:1211: UserWarning: 'n_jobs' > 1 does not have any effect when 'solver' is set to 'liblinear'. Got 'n_jobs' = 8.\n",
      "  warnings.warn(\n"
     ]
    },
    {
     "name": "stdout",
     "output_type": "stream",
     "text": [
      "[CV] END ..................C=2, penalty=l1, solver=liblinear; total time=  10.3s\n",
      "[CV] END ....................C=1, penalty=None, solver=lbfgs; total time=   1.4s\n",
      "[CV] END ....................C=1, penalty=None, solver=lbfgs; total time=   1.3s\n",
      "[CV] END ....................C=1, penalty=None, solver=lbfgs; total time=   1.3s\n",
      "[CV] END ....................C=1, penalty=None, solver=lbfgs; total time=   1.3s\n",
      "[CV] END ....................C=1, penalty=None, solver=lbfgs; total time=   1.3s\n",
      "[CV] END .......................C=1, penalty=l2, solver=saga; total time=   2.2s\n",
      "[CV] END .......................C=1, penalty=l2, solver=saga; total time=   1.9s\n",
      "[CV] END .......................C=1, penalty=l2, solver=saga; total time=   1.9s\n",
      "[CV] END .......................C=1, penalty=l2, solver=saga; total time=   1.8s\n",
      "[CV] END .......................C=1, penalty=l2, solver=saga; total time=   1.8s\n",
      "[CV] END ......................C=1, penalty=l2, solver=lbfgs; total time=   1.3s\n",
      "[CV] END ......................C=1, penalty=l2, solver=lbfgs; total time=   1.3s\n",
      "[CV] END ......................C=1, penalty=l2, solver=lbfgs; total time=   1.3s\n",
      "[CV] END ......................C=1, penalty=l2, solver=lbfgs; total time=   1.3s\n",
      "[CV] END ......................C=1, penalty=l2, solver=lbfgs; total time=   1.4s\n",
      "[CV] END ......................C=4, penalty=l2, solver=lbfgs; total time=   1.3s\n",
      "[CV] END ......................C=4, penalty=l2, solver=lbfgs; total time=   1.3s\n",
      "[CV] END ......................C=4, penalty=l2, solver=lbfgs; total time=   1.4s\n",
      "[CV] END ......................C=4, penalty=l2, solver=lbfgs; total time=   1.2s\n",
      "[CV] END ......................C=4, penalty=l2, solver=lbfgs; total time=   1.4s\n",
      "[CV] END ............C=0, penalty=l2, solver=newton-cholesky; total time=   0.0s\n",
      "[CV] END ............C=0, penalty=l2, solver=newton-cholesky; total time=   0.0s\n",
      "[CV] END ............C=0, penalty=l2, solver=newton-cholesky; total time=   0.0s\n",
      "[CV] END ............C=0, penalty=l2, solver=newton-cholesky; total time=   0.0s\n",
      "[CV] END ............C=0, penalty=l2, solver=newton-cholesky; total time=   0.0s\n",
      "[CV] END ......................C=2, penalty=l2, solver=lbfgs; total time=   1.3s\n",
      "[CV] END ......................C=2, penalty=l2, solver=lbfgs; total time=   1.3s\n",
      "[CV] END ......................C=2, penalty=l2, solver=lbfgs; total time=   1.3s\n",
      "[CV] END ......................C=2, penalty=l2, solver=lbfgs; total time=   1.3s\n",
      "[CV] END ......................C=2, penalty=l2, solver=lbfgs; total time=   1.3s\n",
      "[CV] END ...............C=3, penalty=elasticnet, solver=saga; total time=   0.1s\n",
      "[CV] END ...............C=3, penalty=elasticnet, solver=saga; total time=   1.1s\n",
      "[CV] END ...............C=3, penalty=elasticnet, solver=saga; total time=   1.2s\n",
      "[CV] END ...............C=3, penalty=elasticnet, solver=saga; total time=   1.5s\n",
      "[CV] END ...............C=3, penalty=elasticnet, solver=saga; total time=   1.2s\n",
      "[CV] END ............C=1, penalty=l2, solver=newton-cholesky; total time=   2.3s\n",
      "[CV] END ............C=1, penalty=l2, solver=newton-cholesky; total time=   0.3s\n",
      "[CV] END ............C=1, penalty=l2, solver=newton-cholesky; total time=   0.3s\n",
      "[CV] END ............C=1, penalty=l2, solver=newton-cholesky; total time=   0.3s\n",
      "[CV] END ............C=1, penalty=l2, solver=newton-cholesky; total time=   0.3s\n"
     ]
    },
    {
     "name": "stderr",
     "output_type": "stream",
     "text": [
      "/root/.pyenv/versions/3.8.12/envs/mcats/lib/python3.8/site-packages/sklearn/linear_model/_logistic.py:1211: UserWarning: 'n_jobs' > 1 does not have any effect when 'solver' is set to 'liblinear'. Got 'n_jobs' = 8.\n",
      "  warnings.warn(\n"
     ]
    },
    {
     "name": "stdout",
     "output_type": "stream",
     "text": [
      "[CV] END ..................C=4, penalty=l1, solver=liblinear; total time=  12.4s\n"
     ]
    },
    {
     "name": "stderr",
     "output_type": "stream",
     "text": [
      "/root/.pyenv/versions/3.8.12/envs/mcats/lib/python3.8/site-packages/sklearn/linear_model/_logistic.py:1211: UserWarning: 'n_jobs' > 1 does not have any effect when 'solver' is set to 'liblinear'. Got 'n_jobs' = 8.\n",
      "  warnings.warn(\n"
     ]
    },
    {
     "name": "stdout",
     "output_type": "stream",
     "text": [
      "[CV] END ..................C=4, penalty=l1, solver=liblinear; total time=  10.4s\n"
     ]
    },
    {
     "name": "stderr",
     "output_type": "stream",
     "text": [
      "/root/.pyenv/versions/3.8.12/envs/mcats/lib/python3.8/site-packages/sklearn/linear_model/_logistic.py:1211: UserWarning: 'n_jobs' > 1 does not have any effect when 'solver' is set to 'liblinear'. Got 'n_jobs' = 8.\n",
      "  warnings.warn(\n"
     ]
    },
    {
     "name": "stdout",
     "output_type": "stream",
     "text": [
      "[CV] END ..................C=4, penalty=l1, solver=liblinear; total time=  14.1s\n"
     ]
    },
    {
     "name": "stderr",
     "output_type": "stream",
     "text": [
      "/root/.pyenv/versions/3.8.12/envs/mcats/lib/python3.8/site-packages/sklearn/linear_model/_logistic.py:1211: UserWarning: 'n_jobs' > 1 does not have any effect when 'solver' is set to 'liblinear'. Got 'n_jobs' = 8.\n",
      "  warnings.warn(\n"
     ]
    },
    {
     "name": "stdout",
     "output_type": "stream",
     "text": [
      "[CV] END ..................C=4, penalty=l1, solver=liblinear; total time=  13.0s\n"
     ]
    },
    {
     "name": "stderr",
     "output_type": "stream",
     "text": [
      "/root/.pyenv/versions/3.8.12/envs/mcats/lib/python3.8/site-packages/sklearn/linear_model/_logistic.py:1211: UserWarning: 'n_jobs' > 1 does not have any effect when 'solver' is set to 'liblinear'. Got 'n_jobs' = 8.\n",
      "  warnings.warn(\n"
     ]
    },
    {
     "name": "stdout",
     "output_type": "stream",
     "text": [
      "[CV] END ..................C=4, penalty=l1, solver=liblinear; total time=  14.7s\n",
      "[CV] END ..................C=3, penalty=l1, solver=newton-cg; total time=   0.0s\n",
      "[CV] END ..................C=3, penalty=l1, solver=newton-cg; total time=   0.0s\n",
      "[CV] END ..................C=3, penalty=l1, solver=newton-cg; total time=   0.0s\n",
      "[CV] END ..................C=3, penalty=l1, solver=newton-cg; total time=   0.0s\n",
      "[CV] END ..................C=3, penalty=l1, solver=newton-cg; total time=   0.0s\n",
      "[CV] END .......................C=4, penalty=l1, solver=saga; total time=   3.3s\n",
      "[CV] END .......................C=4, penalty=l1, solver=saga; total time=   3.4s\n",
      "[CV] END .......................C=4, penalty=l1, solver=saga; total time=   3.4s\n",
      "[CV] END .......................C=4, penalty=l1, solver=saga; total time=   3.3s\n",
      "[CV] END .......................C=4, penalty=l1, solver=saga; total time=   3.6s\n",
      "[CV] END ..................C=3, penalty=l2, solver=newton-cg; total time=   1.1s\n",
      "[CV] END ..................C=3, penalty=l2, solver=newton-cg; total time=   1.1s\n",
      "[CV] END ..................C=3, penalty=l2, solver=newton-cg; total time=   1.1s\n",
      "[CV] END ..................C=3, penalty=l2, solver=newton-cg; total time=   1.1s\n",
      "[CV] END ..................C=3, penalty=l2, solver=newton-cg; total time=   1.0s\n",
      "[CV] END ..................C=0, penalty=l1, solver=liblinear; total time=   0.0s\n",
      "[CV] END ..................C=0, penalty=l1, solver=liblinear; total time=   0.0s\n",
      "[CV] END ..................C=0, penalty=l1, solver=liblinear; total time=   0.0s\n",
      "[CV] END ..................C=0, penalty=l1, solver=liblinear; total time=   0.0s\n",
      "[CV] END ..................C=0, penalty=l1, solver=liblinear; total time=   0.0s\n"
     ]
    },
    {
     "name": "stderr",
     "output_type": "stream",
     "text": [
      "/root/.pyenv/versions/3.8.12/envs/mcats/lib/python3.8/site-packages/sklearn/linear_model/_logistic.py:1181: UserWarning: Setting penalty=None will ignore the C and l1_ratio parameters\n",
      "  warnings.warn(\n"
     ]
    },
    {
     "name": "stdout",
     "output_type": "stream",
     "text": [
      "[CV] END ................C=2, penalty=None, solver=newton-cg; total time=   2.8s\n"
     ]
    },
    {
     "name": "stderr",
     "output_type": "stream",
     "text": [
      "/root/.pyenv/versions/3.8.12/envs/mcats/lib/python3.8/site-packages/sklearn/linear_model/_logistic.py:1181: UserWarning: Setting penalty=None will ignore the C and l1_ratio parameters\n",
      "  warnings.warn(\n"
     ]
    },
    {
     "name": "stdout",
     "output_type": "stream",
     "text": [
      "[CV] END ................C=2, penalty=None, solver=newton-cg; total time=   2.4s\n"
     ]
    },
    {
     "name": "stderr",
     "output_type": "stream",
     "text": [
      "/root/.pyenv/versions/3.8.12/envs/mcats/lib/python3.8/site-packages/sklearn/linear_model/_logistic.py:1181: UserWarning: Setting penalty=None will ignore the C and l1_ratio parameters\n",
      "  warnings.warn(\n"
     ]
    },
    {
     "name": "stdout",
     "output_type": "stream",
     "text": [
      "[CV] END ................C=2, penalty=None, solver=newton-cg; total time=   2.3s\n"
     ]
    },
    {
     "name": "stderr",
     "output_type": "stream",
     "text": [
      "/root/.pyenv/versions/3.8.12/envs/mcats/lib/python3.8/site-packages/sklearn/linear_model/_logistic.py:1181: UserWarning: Setting penalty=None will ignore the C and l1_ratio parameters\n",
      "  warnings.warn(\n"
     ]
    },
    {
     "name": "stdout",
     "output_type": "stream",
     "text": [
      "[CV] END ................C=2, penalty=None, solver=newton-cg; total time=   2.5s\n"
     ]
    },
    {
     "name": "stderr",
     "output_type": "stream",
     "text": [
      "/root/.pyenv/versions/3.8.12/envs/mcats/lib/python3.8/site-packages/sklearn/linear_model/_logistic.py:1181: UserWarning: Setting penalty=None will ignore the C and l1_ratio parameters\n",
      "  warnings.warn(\n"
     ]
    },
    {
     "name": "stdout",
     "output_type": "stream",
     "text": [
      "[CV] END ................C=2, penalty=None, solver=newton-cg; total time=   2.1s\n"
     ]
    },
    {
     "name": "stderr",
     "output_type": "stream",
     "text": [
      "/root/.pyenv/versions/3.8.12/envs/mcats/lib/python3.8/site-packages/sklearn/linear_model/_logistic.py:1211: UserWarning: 'n_jobs' > 1 does not have any effect when 'solver' is set to 'liblinear'. Got 'n_jobs' = 8.\n",
      "  warnings.warn(\n"
     ]
    },
    {
     "name": "stdout",
     "output_type": "stream",
     "text": [
      "[CV] END ..................C=1, penalty=l1, solver=liblinear; total time=   5.1s\n"
     ]
    },
    {
     "name": "stderr",
     "output_type": "stream",
     "text": [
      "/root/.pyenv/versions/3.8.12/envs/mcats/lib/python3.8/site-packages/sklearn/linear_model/_logistic.py:1211: UserWarning: 'n_jobs' > 1 does not have any effect when 'solver' is set to 'liblinear'. Got 'n_jobs' = 8.\n",
      "  warnings.warn(\n"
     ]
    },
    {
     "name": "stdout",
     "output_type": "stream",
     "text": [
      "[CV] END ..................C=1, penalty=l1, solver=liblinear; total time=   5.2s\n"
     ]
    },
    {
     "name": "stderr",
     "output_type": "stream",
     "text": [
      "/root/.pyenv/versions/3.8.12/envs/mcats/lib/python3.8/site-packages/sklearn/linear_model/_logistic.py:1211: UserWarning: 'n_jobs' > 1 does not have any effect when 'solver' is set to 'liblinear'. Got 'n_jobs' = 8.\n",
      "  warnings.warn(\n"
     ]
    },
    {
     "name": "stdout",
     "output_type": "stream",
     "text": [
      "[CV] END ..................C=1, penalty=l1, solver=liblinear; total time=   5.5s\n"
     ]
    },
    {
     "name": "stderr",
     "output_type": "stream",
     "text": [
      "/root/.pyenv/versions/3.8.12/envs/mcats/lib/python3.8/site-packages/sklearn/linear_model/_logistic.py:1211: UserWarning: 'n_jobs' > 1 does not have any effect when 'solver' is set to 'liblinear'. Got 'n_jobs' = 8.\n",
      "  warnings.warn(\n"
     ]
    },
    {
     "name": "stdout",
     "output_type": "stream",
     "text": [
      "[CV] END ..................C=1, penalty=l1, solver=liblinear; total time=   5.1s\n"
     ]
    },
    {
     "name": "stderr",
     "output_type": "stream",
     "text": [
      "/root/.pyenv/versions/3.8.12/envs/mcats/lib/python3.8/site-packages/sklearn/linear_model/_logistic.py:1211: UserWarning: 'n_jobs' > 1 does not have any effect when 'solver' is set to 'liblinear'. Got 'n_jobs' = 8.\n",
      "  warnings.warn(\n"
     ]
    },
    {
     "name": "stdout",
     "output_type": "stream",
     "text": [
      "[CV] END ..................C=1, penalty=l1, solver=liblinear; total time=   7.7s\n"
     ]
    },
    {
     "name": "stderr",
     "output_type": "stream",
     "text": [
      "/root/.pyenv/versions/3.8.12/envs/mcats/lib/python3.8/site-packages/sklearn/linear_model/_logistic.py:1181: UserWarning: Setting penalty=None will ignore the C and l1_ratio parameters\n",
      "  warnings.warn(\n"
     ]
    },
    {
     "name": "stdout",
     "output_type": "stream",
     "text": [
      "[CV] END .....................C=3, penalty=None, solver=saga; total time=   2.4s\n"
     ]
    },
    {
     "name": "stderr",
     "output_type": "stream",
     "text": [
      "/root/.pyenv/versions/3.8.12/envs/mcats/lib/python3.8/site-packages/sklearn/linear_model/_logistic.py:1181: UserWarning: Setting penalty=None will ignore the C and l1_ratio parameters\n",
      "  warnings.warn(\n"
     ]
    },
    {
     "name": "stdout",
     "output_type": "stream",
     "text": [
      "[CV] END .....................C=3, penalty=None, solver=saga; total time=   2.3s\n"
     ]
    },
    {
     "name": "stderr",
     "output_type": "stream",
     "text": [
      "/root/.pyenv/versions/3.8.12/envs/mcats/lib/python3.8/site-packages/sklearn/linear_model/_logistic.py:1181: UserWarning: Setting penalty=None will ignore the C and l1_ratio parameters\n",
      "  warnings.warn(\n"
     ]
    },
    {
     "name": "stdout",
     "output_type": "stream",
     "text": [
      "[CV] END .....................C=3, penalty=None, solver=saga; total time=   2.3s\n"
     ]
    },
    {
     "name": "stderr",
     "output_type": "stream",
     "text": [
      "/root/.pyenv/versions/3.8.12/envs/mcats/lib/python3.8/site-packages/sklearn/linear_model/_logistic.py:1181: UserWarning: Setting penalty=None will ignore the C and l1_ratio parameters\n",
      "  warnings.warn(\n"
     ]
    },
    {
     "name": "stdout",
     "output_type": "stream",
     "text": [
      "[CV] END .....................C=3, penalty=None, solver=saga; total time=   2.3s\n"
     ]
    },
    {
     "name": "stderr",
     "output_type": "stream",
     "text": [
      "/root/.pyenv/versions/3.8.12/envs/mcats/lib/python3.8/site-packages/sklearn/linear_model/_logistic.py:1181: UserWarning: Setting penalty=None will ignore the C and l1_ratio parameters\n",
      "  warnings.warn(\n"
     ]
    },
    {
     "name": "stdout",
     "output_type": "stream",
     "text": [
      "[CV] END .....................C=3, penalty=None, solver=saga; total time=   2.2s\n"
     ]
    },
    {
     "name": "stderr",
     "output_type": "stream",
     "text": [
      "/root/.pyenv/versions/3.8.12/envs/mcats/lib/python3.8/site-packages/sklearn/linear_model/_logistic.py:1181: UserWarning: Setting penalty=None will ignore the C and l1_ratio parameters\n",
      "  warnings.warn(\n"
     ]
    },
    {
     "name": "stdout",
     "output_type": "stream",
     "text": [
      "[CV] END .....................C=4, penalty=None, solver=saga; total time=   2.1s\n"
     ]
    },
    {
     "name": "stderr",
     "output_type": "stream",
     "text": [
      "/root/.pyenv/versions/3.8.12/envs/mcats/lib/python3.8/site-packages/sklearn/linear_model/_logistic.py:1181: UserWarning: Setting penalty=None will ignore the C and l1_ratio parameters\n",
      "  warnings.warn(\n"
     ]
    },
    {
     "name": "stdout",
     "output_type": "stream",
     "text": [
      "[CV] END .....................C=4, penalty=None, solver=saga; total time=   2.4s\n"
     ]
    },
    {
     "name": "stderr",
     "output_type": "stream",
     "text": [
      "/root/.pyenv/versions/3.8.12/envs/mcats/lib/python3.8/site-packages/sklearn/linear_model/_logistic.py:1181: UserWarning: Setting penalty=None will ignore the C and l1_ratio parameters\n",
      "  warnings.warn(\n"
     ]
    },
    {
     "name": "stdout",
     "output_type": "stream",
     "text": [
      "[CV] END .....................C=4, penalty=None, solver=saga; total time=   2.4s\n"
     ]
    },
    {
     "name": "stderr",
     "output_type": "stream",
     "text": [
      "/root/.pyenv/versions/3.8.12/envs/mcats/lib/python3.8/site-packages/sklearn/linear_model/_logistic.py:1181: UserWarning: Setting penalty=None will ignore the C and l1_ratio parameters\n",
      "  warnings.warn(\n"
     ]
    },
    {
     "name": "stdout",
     "output_type": "stream",
     "text": [
      "[CV] END .....................C=4, penalty=None, solver=saga; total time=   2.1s\n"
     ]
    },
    {
     "name": "stderr",
     "output_type": "stream",
     "text": [
      "/root/.pyenv/versions/3.8.12/envs/mcats/lib/python3.8/site-packages/sklearn/linear_model/_logistic.py:1181: UserWarning: Setting penalty=None will ignore the C and l1_ratio parameters\n",
      "  warnings.warn(\n"
     ]
    },
    {
     "name": "stdout",
     "output_type": "stream",
     "text": [
      "[CV] END .....................C=4, penalty=None, solver=saga; total time=   2.5s\n",
      "[CV] END ....................C=1, penalty=None, solver=lbfgs; total time=   1.4s\n",
      "[CV] END ....................C=1, penalty=None, solver=lbfgs; total time=   1.3s\n",
      "[CV] END ....................C=1, penalty=None, solver=lbfgs; total time=   1.3s\n",
      "[CV] END ....................C=1, penalty=None, solver=lbfgs; total time=   1.3s\n",
      "[CV] END ....................C=1, penalty=None, solver=lbfgs; total time=   1.3s\n",
      "[CV] END ..........C=0, penalty=elasticnet, solver=newton-cg; total time=   0.0s\n",
      "[CV] END ..........C=0, penalty=elasticnet, solver=newton-cg; total time=   0.0s\n",
      "[CV] END ..........C=0, penalty=elasticnet, solver=newton-cg; total time=   0.0s\n",
      "[CV] END ..........C=0, penalty=elasticnet, solver=newton-cg; total time=   0.0s\n",
      "[CV] END ..........C=0, penalty=elasticnet, solver=newton-cg; total time=   0.0s\n",
      "[CV] END ..........C=1, penalty=None, solver=newton-cholesky; total time=   0.2s\n",
      "[CV] END ..........C=1, penalty=None, solver=newton-cholesky; total time=   0.2s\n",
      "[CV] END ..........C=1, penalty=None, solver=newton-cholesky; total time=   0.3s\n",
      "[CV] END ..........C=1, penalty=None, solver=newton-cholesky; total time=   0.3s\n",
      "[CV] END ..........C=1, penalty=None, solver=newton-cholesky; total time=   0.3s\n",
      "[CV] END ..............C=4, penalty=elasticnet, solver=lbfgs; total time=   0.0s\n",
      "[CV] END ..............C=4, penalty=elasticnet, solver=lbfgs; total time=   0.0s\n",
      "[CV] END ..............C=4, penalty=elasticnet, solver=lbfgs; total time=   0.0s\n",
      "[CV] END ..............C=4, penalty=elasticnet, solver=lbfgs; total time=   0.0s\n",
      "[CV] END ..............C=4, penalty=elasticnet, solver=lbfgs; total time=   0.0s\n",
      "[CV] END ................C=0, penalty=None, solver=liblinear; total time=   0.0s\n",
      "[CV] END ................C=0, penalty=None, solver=liblinear; total time=   0.0s\n",
      "[CV] END ................C=0, penalty=None, solver=liblinear; total time=   0.0s\n",
      "[CV] END ................C=0, penalty=None, solver=liblinear; total time=   0.0s\n",
      "[CV] END ................C=0, penalty=None, solver=liblinear; total time=   0.0s\n",
      "[CV] END ............C=1, penalty=l2, solver=newton-cholesky; total time=   0.3s\n",
      "[CV] END ............C=1, penalty=l2, solver=newton-cholesky; total time=   0.3s\n",
      "[CV] END ............C=1, penalty=l2, solver=newton-cholesky; total time=   0.3s\n",
      "[CV] END ............C=1, penalty=l2, solver=newton-cholesky; total time=   0.3s\n",
      "[CV] END ............C=1, penalty=l2, solver=newton-cholesky; total time=   0.3s\n",
      "[CV] END .......................C=0, penalty=l1, solver=saga; total time=   0.0s\n",
      "[CV] END .......................C=0, penalty=l1, solver=saga; total time=   0.0s\n",
      "[CV] END .......................C=0, penalty=l1, solver=saga; total time=   0.0s\n",
      "[CV] END .......................C=0, penalty=l1, solver=saga; total time=   0.0s\n",
      "[CV] END .......................C=0, penalty=l1, solver=saga; total time=   0.0s\n",
      "[CV] END ..................C=4, penalty=l2, solver=newton-cg; total time=   1.4s\n",
      "[CV] END ..................C=4, penalty=l2, solver=newton-cg; total time=   1.5s\n",
      "[CV] END ..................C=4, penalty=l2, solver=newton-cg; total time=   1.3s\n",
      "[CV] END ..................C=4, penalty=l2, solver=newton-cg; total time=   1.3s\n",
      "[CV] END ..................C=4, penalty=l2, solver=newton-cg; total time=   1.4s\n"
     ]
    },
    {
     "name": "stderr",
     "output_type": "stream",
     "text": [
      "/root/.pyenv/versions/3.8.12/envs/mcats/lib/python3.8/site-packages/sklearn/linear_model/_logistic.py:1181: UserWarning: Setting penalty=None will ignore the C and l1_ratio parameters\n",
      "  warnings.warn(\n"
     ]
    },
    {
     "name": "stdout",
     "output_type": "stream",
     "text": [
      "[CV] END .....................C=4, penalty=None, solver=saga; total time=   2.1s\n"
     ]
    },
    {
     "name": "stderr",
     "output_type": "stream",
     "text": [
      "/root/.pyenv/versions/3.8.12/envs/mcats/lib/python3.8/site-packages/sklearn/linear_model/_logistic.py:1181: UserWarning: Setting penalty=None will ignore the C and l1_ratio parameters\n",
      "  warnings.warn(\n"
     ]
    },
    {
     "name": "stdout",
     "output_type": "stream",
     "text": [
      "[CV] END .....................C=4, penalty=None, solver=saga; total time=   2.5s\n"
     ]
    },
    {
     "name": "stderr",
     "output_type": "stream",
     "text": [
      "/root/.pyenv/versions/3.8.12/envs/mcats/lib/python3.8/site-packages/sklearn/linear_model/_logistic.py:1181: UserWarning: Setting penalty=None will ignore the C and l1_ratio parameters\n",
      "  warnings.warn(\n"
     ]
    },
    {
     "name": "stdout",
     "output_type": "stream",
     "text": [
      "[CV] END .....................C=4, penalty=None, solver=saga; total time=   2.4s\n"
     ]
    },
    {
     "name": "stderr",
     "output_type": "stream",
     "text": [
      "/root/.pyenv/versions/3.8.12/envs/mcats/lib/python3.8/site-packages/sklearn/linear_model/_logistic.py:1181: UserWarning: Setting penalty=None will ignore the C and l1_ratio parameters\n",
      "  warnings.warn(\n"
     ]
    },
    {
     "name": "stdout",
     "output_type": "stream",
     "text": [
      "[CV] END .....................C=4, penalty=None, solver=saga; total time=   2.7s\n"
     ]
    },
    {
     "name": "stderr",
     "output_type": "stream",
     "text": [
      "/root/.pyenv/versions/3.8.12/envs/mcats/lib/python3.8/site-packages/sklearn/linear_model/_logistic.py:1181: UserWarning: Setting penalty=None will ignore the C and l1_ratio parameters\n",
      "  warnings.warn(\n"
     ]
    },
    {
     "name": "stdout",
     "output_type": "stream",
     "text": [
      "[CV] END .....................C=4, penalty=None, solver=saga; total time=   2.6s\n"
     ]
    },
    {
     "name": "stderr",
     "output_type": "stream",
     "text": [
      "/root/.pyenv/versions/3.8.12/envs/mcats/lib/python3.8/site-packages/sklearn/linear_model/_logistic.py:1181: UserWarning: Setting penalty=None will ignore the C and l1_ratio parameters\n",
      "  warnings.warn(\n"
     ]
    },
    {
     "name": "stdout",
     "output_type": "stream",
     "text": [
      "[CV] END .....................C=3, penalty=None, solver=saga; total time=   2.5s\n"
     ]
    },
    {
     "name": "stderr",
     "output_type": "stream",
     "text": [
      "/root/.pyenv/versions/3.8.12/envs/mcats/lib/python3.8/site-packages/sklearn/linear_model/_logistic.py:1181: UserWarning: Setting penalty=None will ignore the C and l1_ratio parameters\n",
      "  warnings.warn(\n"
     ]
    },
    {
     "name": "stdout",
     "output_type": "stream",
     "text": [
      "[CV] END .....................C=3, penalty=None, solver=saga; total time=   2.5s\n"
     ]
    },
    {
     "name": "stderr",
     "output_type": "stream",
     "text": [
      "/root/.pyenv/versions/3.8.12/envs/mcats/lib/python3.8/site-packages/sklearn/linear_model/_logistic.py:1181: UserWarning: Setting penalty=None will ignore the C and l1_ratio parameters\n",
      "  warnings.warn(\n"
     ]
    },
    {
     "name": "stdout",
     "output_type": "stream",
     "text": [
      "[CV] END .....................C=3, penalty=None, solver=saga; total time=   2.8s\n"
     ]
    },
    {
     "name": "stderr",
     "output_type": "stream",
     "text": [
      "/root/.pyenv/versions/3.8.12/envs/mcats/lib/python3.8/site-packages/sklearn/linear_model/_logistic.py:1181: UserWarning: Setting penalty=None will ignore the C and l1_ratio parameters\n",
      "  warnings.warn(\n"
     ]
    },
    {
     "name": "stdout",
     "output_type": "stream",
     "text": [
      "[CV] END .....................C=3, penalty=None, solver=saga; total time=   2.7s\n"
     ]
    },
    {
     "name": "stderr",
     "output_type": "stream",
     "text": [
      "/root/.pyenv/versions/3.8.12/envs/mcats/lib/python3.8/site-packages/sklearn/linear_model/_logistic.py:1181: UserWarning: Setting penalty=None will ignore the C and l1_ratio parameters\n",
      "  warnings.warn(\n"
     ]
    },
    {
     "name": "stdout",
     "output_type": "stream",
     "text": [
      "[CV] END .....................C=3, penalty=None, solver=saga; total time=   2.6s\n",
      "[CV] END ......................C=0, penalty=None, solver=sag; total time=   0.0s\n",
      "[CV] END ......................C=0, penalty=None, solver=sag; total time=   0.0s\n",
      "[CV] END ......................C=0, penalty=None, solver=sag; total time=   0.0s\n",
      "[CV] END ......................C=0, penalty=None, solver=sag; total time=   0.0s\n",
      "[CV] END ......................C=0, penalty=None, solver=sag; total time=   0.0s\n",
      "[CV] END ........................C=3, penalty=l1, solver=sag; total time=   0.0s\n",
      "[CV] END ........................C=3, penalty=l1, solver=sag; total time=   0.0s\n",
      "[CV] END ........................C=3, penalty=l1, solver=sag; total time=   0.0s\n",
      "[CV] END ........................C=3, penalty=l1, solver=sag; total time=   0.0s\n",
      "[CV] END ........................C=3, penalty=l1, solver=sag; total time=   0.0s\n",
      "[CV] END ......................C=4, penalty=l2, solver=lbfgs; total time=   1.4s\n",
      "[CV] END ......................C=4, penalty=l2, solver=lbfgs; total time=   1.5s\n",
      "[CV] END ......................C=4, penalty=l2, solver=lbfgs; total time=   1.4s\n",
      "[CV] END ......................C=4, penalty=l2, solver=lbfgs; total time=   1.3s\n",
      "[CV] END ......................C=4, penalty=l2, solver=lbfgs; total time=   1.4s\n",
      "[CV] END ..............C=4, penalty=elasticnet, solver=lbfgs; total time=   0.0s\n",
      "[CV] END ..............C=4, penalty=elasticnet, solver=lbfgs; total time=   0.0s\n",
      "[CV] END ..............C=4, penalty=elasticnet, solver=lbfgs; total time=   0.0s\n",
      "[CV] END ..............C=4, penalty=elasticnet, solver=lbfgs; total time=   0.0s\n",
      "[CV] END ..............C=4, penalty=elasticnet, solver=lbfgs; total time=   0.0s\n"
     ]
    },
    {
     "name": "stderr",
     "output_type": "stream",
     "text": [
      "/root/.pyenv/versions/3.8.12/envs/mcats/lib/python3.8/site-packages/sklearn/linear_model/_logistic.py:1181: UserWarning: Setting penalty=None will ignore the C and l1_ratio parameters\n",
      "  warnings.warn(\n"
     ]
    },
    {
     "name": "stdout",
     "output_type": "stream",
     "text": [
      "[CV] END ......................C=2, penalty=None, solver=sag; total time=   2.2s\n"
     ]
    },
    {
     "name": "stderr",
     "output_type": "stream",
     "text": [
      "/root/.pyenv/versions/3.8.12/envs/mcats/lib/python3.8/site-packages/sklearn/linear_model/_logistic.py:1181: UserWarning: Setting penalty=None will ignore the C and l1_ratio parameters\n",
      "  warnings.warn(\n"
     ]
    },
    {
     "name": "stdout",
     "output_type": "stream",
     "text": [
      "[CV] END ......................C=2, penalty=None, solver=sag; total time=   1.9s\n"
     ]
    },
    {
     "name": "stderr",
     "output_type": "stream",
     "text": [
      "/root/.pyenv/versions/3.8.12/envs/mcats/lib/python3.8/site-packages/sklearn/linear_model/_logistic.py:1181: UserWarning: Setting penalty=None will ignore the C and l1_ratio parameters\n",
      "  warnings.warn(\n"
     ]
    },
    {
     "name": "stdout",
     "output_type": "stream",
     "text": [
      "[CV] END ......................C=2, penalty=None, solver=sag; total time=   2.2s\n"
     ]
    },
    {
     "name": "stderr",
     "output_type": "stream",
     "text": [
      "/root/.pyenv/versions/3.8.12/envs/mcats/lib/python3.8/site-packages/sklearn/linear_model/_logistic.py:1181: UserWarning: Setting penalty=None will ignore the C and l1_ratio parameters\n",
      "  warnings.warn(\n"
     ]
    },
    {
     "name": "stdout",
     "output_type": "stream",
     "text": [
      "[CV] END ......................C=2, penalty=None, solver=sag; total time=   2.1s\n"
     ]
    },
    {
     "name": "stderr",
     "output_type": "stream",
     "text": [
      "/root/.pyenv/versions/3.8.12/envs/mcats/lib/python3.8/site-packages/sklearn/linear_model/_logistic.py:1181: UserWarning: Setting penalty=None will ignore the C and l1_ratio parameters\n",
      "  warnings.warn(\n"
     ]
    },
    {
     "name": "stdout",
     "output_type": "stream",
     "text": [
      "[CV] END ......................C=2, penalty=None, solver=sag; total time=   2.0s\n",
      "[CV] END ................C=1, penalty=None, solver=liblinear; total time=   0.0s\n",
      "[CV] END ................C=1, penalty=None, solver=liblinear; total time=   0.0s\n",
      "[CV] END ................C=1, penalty=None, solver=liblinear; total time=   0.0s\n",
      "[CV] END ................C=1, penalty=None, solver=liblinear; total time=   0.0s\n",
      "[CV] END ................C=1, penalty=None, solver=liblinear; total time=   0.0s\n",
      "[CV] END ................C=0, penalty=elasticnet, solver=sag; total time=   0.0s\n",
      "[CV] END ................C=0, penalty=elasticnet, solver=sag; total time=   0.0s\n",
      "[CV] END ................C=0, penalty=elasticnet, solver=sag; total time=   0.0s\n",
      "[CV] END ................C=0, penalty=elasticnet, solver=sag; total time=   0.0s\n",
      "[CV] END ................C=0, penalty=elasticnet, solver=sag; total time=   0.0s\n",
      "[CV] END ........................C=4, penalty=l1, solver=sag; total time=   0.0s\n",
      "[CV] END ........................C=4, penalty=l1, solver=sag; total time=   0.0s\n",
      "[CV] END ........................C=4, penalty=l1, solver=sag; total time=   0.0s\n",
      "[CV] END ........................C=4, penalty=l1, solver=sag; total time=   0.0s\n",
      "[CV] END ........................C=4, penalty=l1, solver=sag; total time=   0.0s\n",
      "[CV] END ................C=1, penalty=elasticnet, solver=sag; total time=   0.0s\n",
      "[CV] END ................C=1, penalty=elasticnet, solver=sag; total time=   0.0s\n",
      "[CV] END ................C=1, penalty=elasticnet, solver=sag; total time=   0.0s\n",
      "[CV] END ................C=1, penalty=elasticnet, solver=sag; total time=   0.0s\n",
      "[CV] END ................C=1, penalty=elasticnet, solver=sag; total time=   0.0s\n"
     ]
    },
    {
     "name": "stderr",
     "output_type": "stream",
     "text": [
      "/root/.pyenv/versions/3.8.12/envs/mcats/lib/python3.8/site-packages/sklearn/linear_model/_logistic.py:1211: UserWarning: 'n_jobs' > 1 does not have any effect when 'solver' is set to 'liblinear'. Got 'n_jobs' = 8.\n",
      "  warnings.warn(\n",
      "/root/.pyenv/versions/3.8.12/envs/mcats/lib/python3.8/site-packages/sklearn/linear_model/_logistic.py:1211: UserWarning: 'n_jobs' > 1 does not have any effect when 'solver' is set to 'liblinear'. Got 'n_jobs' = 8.\n",
      "  warnings.warn(\n",
      "/root/.pyenv/versions/3.8.12/envs/mcats/lib/python3.8/site-packages/sklearn/linear_model/_logistic.py:1211: UserWarning: 'n_jobs' > 1 does not have any effect when 'solver' is set to 'liblinear'. Got 'n_jobs' = 8.\n",
      "  warnings.warn(\n",
      "/root/.pyenv/versions/3.8.12/envs/mcats/lib/python3.8/site-packages/sklearn/linear_model/_logistic.py:1211: UserWarning: 'n_jobs' > 1 does not have any effect when 'solver' is set to 'liblinear'. Got 'n_jobs' = 8.\n",
      "  warnings.warn(\n",
      "/root/.pyenv/versions/3.8.12/envs/mcats/lib/python3.8/site-packages/sklearn/linear_model/_logistic.py:1211: UserWarning: 'n_jobs' > 1 does not have any effect when 'solver' is set to 'liblinear'. Got 'n_jobs' = 8.\n",
      "  warnings.warn(\n"
     ]
    },
    {
     "name": "stdout",
     "output_type": "stream",
     "text": [
      "[CV] END ..................C=1, penalty=l1, solver=newton-cg; total time=   0.0s\n",
      "[CV] END ..................C=1, penalty=l1, solver=newton-cg; total time=   0.0s\n",
      "[CV] END ..................C=1, penalty=l1, solver=newton-cg; total time=   0.0s\n",
      "[CV] END ..................C=1, penalty=l1, solver=newton-cg; total time=   0.0s\n",
      "[CV] END ..................C=1, penalty=l1, solver=newton-cg; total time=   0.0s\n",
      "[CV] END ..................C=3, penalty=l2, solver=newton-cg; total time=   1.3s\n",
      "[CV] END ..................C=3, penalty=l2, solver=newton-cg; total time=   1.5s\n",
      "[CV] END ..................C=3, penalty=l2, solver=newton-cg; total time=   1.4s\n",
      "[CV] END ..................C=3, penalty=l2, solver=newton-cg; total time=   1.4s\n",
      "[CV] END ..................C=3, penalty=l2, solver=newton-cg; total time=   1.6s\n",
      "[CV] END ..................C=4, penalty=l1, solver=newton-cg; total time=   0.0s\n",
      "[CV] END ..................C=4, penalty=l1, solver=newton-cg; total time=   0.0s\n",
      "[CV] END ..................C=4, penalty=l1, solver=newton-cg; total time=   0.0s\n",
      "[CV] END ..................C=4, penalty=l1, solver=newton-cg; total time=   0.0s\n",
      "[CV] END ..................C=4, penalty=l1, solver=newton-cg; total time=   0.0s\n",
      "[CV] END ..............C=2, penalty=elasticnet, solver=lbfgs; total time=   0.0s\n",
      "[CV] END ..............C=2, penalty=elasticnet, solver=lbfgs; total time=   0.0s\n",
      "[CV] END ..............C=2, penalty=elasticnet, solver=lbfgs; total time=   0.0s\n",
      "[CV] END ..............C=2, penalty=elasticnet, solver=lbfgs; total time=   0.0s\n",
      "[CV] END ..............C=2, penalty=elasticnet, solver=lbfgs; total time=   0.0s\n",
      "[CV] END ..........C=1, penalty=elasticnet, solver=newton-cg; total time=   0.0s\n",
      "[CV] END ..........C=1, penalty=elasticnet, solver=newton-cg; total time=   0.0s\n",
      "[CV] END ..........C=1, penalty=elasticnet, solver=newton-cg; total time=   0.0s\n",
      "[CV] END ..........C=1, penalty=elasticnet, solver=newton-cg; total time=   0.0s\n",
      "[CV] END ..........C=1, penalty=elasticnet, solver=newton-cg; total time=   0.0s\n",
      "[CV] END ...............C=0, penalty=elasticnet, solver=saga; total time=   0.0s\n",
      "[CV] END ...............C=0, penalty=elasticnet, solver=saga; total time=   0.0s\n",
      "[CV] END ...............C=0, penalty=elasticnet, solver=saga; total time=   0.0s\n",
      "[CV] END ...............C=0, penalty=elasticnet, solver=saga; total time=   0.0s\n",
      "[CV] END ...............C=0, penalty=elasticnet, solver=saga; total time=   0.0s\n",
      "[CV] END ................C=1, penalty=elasticnet, solver=sag; total time=   0.0s\n",
      "[CV] END ................C=1, penalty=elasticnet, solver=sag; total time=   0.0s\n",
      "[CV] END ................C=1, penalty=elasticnet, solver=sag; total time=   0.0s\n",
      "[CV] END ................C=1, penalty=elasticnet, solver=sag; total time=   0.0s\n",
      "[CV] END ................C=1, penalty=elasticnet, solver=sag; total time=   0.0s\n",
      "[CV] END ...............C=0, penalty=elasticnet, solver=saga; total time=   0.0s\n",
      "[CV] END ...............C=0, penalty=elasticnet, solver=saga; total time=   0.0s\n",
      "[CV] END ...............C=0, penalty=elasticnet, solver=saga; total time=   0.0s\n",
      "[CV] END ...............C=0, penalty=elasticnet, solver=saga; total time=   0.0s\n",
      "[CV] END ...............C=0, penalty=elasticnet, solver=saga; total time=   0.0s\n",
      "[CV] END ..........C=1, penalty=elasticnet, solver=liblinear; total time=   0.0s\n",
      "[CV] END ..........C=1, penalty=elasticnet, solver=liblinear; total time=   0.0s\n",
      "[CV] END ..........C=1, penalty=elasticnet, solver=liblinear; total time=   0.0s\n",
      "[CV] END ..........C=1, penalty=elasticnet, solver=liblinear; total time=   0.0s\n",
      "[CV] END ..........C=1, penalty=elasticnet, solver=liblinear; total time=   0.0s\n",
      "[CV] END ..............C=4, penalty=elasticnet, solver=lbfgs; total time=   0.0s\n",
      "[CV] END ..............C=4, penalty=elasticnet, solver=lbfgs; total time=   0.0s\n",
      "[CV] END ..............C=4, penalty=elasticnet, solver=lbfgs; total time=   0.0s\n",
      "[CV] END ..............C=4, penalty=elasticnet, solver=lbfgs; total time=   0.0s\n",
      "[CV] END ..............C=4, penalty=elasticnet, solver=lbfgs; total time=   0.0s\n",
      "[CV] END .......................C=0, penalty=l2, solver=saga; total time=   0.0s\n",
      "[CV] END .......................C=0, penalty=l2, solver=saga; total time=   0.0s\n",
      "[CV] END .......................C=0, penalty=l2, solver=saga; total time=   0.0s\n",
      "[CV] END .......................C=0, penalty=l2, solver=saga; total time=   0.0s\n",
      "[CV] END .......................C=0, penalty=l2, solver=saga; total time=   0.0s\n",
      "[CV] END ............C=0, penalty=l2, solver=newton-cholesky; total time=   0.0s\n",
      "[CV] END ............C=0, penalty=l2, solver=newton-cholesky; total time=   0.0s\n",
      "[CV] END ............C=0, penalty=l2, solver=newton-cholesky; total time=   0.0s\n",
      "[CV] END ............C=0, penalty=l2, solver=newton-cholesky; total time=   0.0s\n",
      "[CV] END ............C=0, penalty=l2, solver=newton-cholesky; total time=   0.0s\n",
      "[CV] END .......................C=1, penalty=l2, solver=saga; total time=   2.5s\n",
      "[CV] END .......................C=1, penalty=l2, solver=saga; total time=   2.8s\n",
      "[CV] END .......................C=1, penalty=l2, solver=saga; total time=   3.2s\n",
      "[CV] END .......................C=1, penalty=l2, solver=saga; total time=   2.8s\n",
      "[CV] END .......................C=1, penalty=l2, solver=saga; total time=   2.4s\n",
      "[CV] END ............C=4, penalty=l1, solver=newton-cholesky; total time=   0.0s\n",
      "[CV] END ............C=4, penalty=l1, solver=newton-cholesky; total time=   0.0s\n",
      "[CV] END ............C=4, penalty=l1, solver=newton-cholesky; total time=   0.0s\n",
      "[CV] END ............C=4, penalty=l1, solver=newton-cholesky; total time=   0.0s\n",
      "[CV] END ............C=4, penalty=l1, solver=newton-cholesky; total time=   0.0s\n",
      "[CV] END ....................C=0, penalty=None, solver=lbfgs; total time=   0.0s\n",
      "[CV] END ....................C=0, penalty=None, solver=lbfgs; total time=   0.0s\n",
      "[CV] END ....................C=0, penalty=None, solver=lbfgs; total time=   0.0s\n",
      "[CV] END ....................C=0, penalty=None, solver=lbfgs; total time=   0.0s\n",
      "[CV] END ....................C=0, penalty=None, solver=lbfgs; total time=   0.0s\n",
      "[CV] END ..................C=3, penalty=l2, solver=newton-cg; total time=   1.4s\n",
      "[CV] END ..................C=3, penalty=l2, solver=newton-cg; total time=   1.4s\n",
      "[CV] END ..................C=3, penalty=l2, solver=newton-cg; total time=   1.4s\n",
      "[CV] END ..................C=3, penalty=l2, solver=newton-cg; total time=   1.5s\n",
      "[CV] END ..................C=3, penalty=l2, solver=newton-cg; total time=   1.2s\n",
      "[CV] END ......................C=4, penalty=l2, solver=lbfgs; total time=   1.5s\n",
      "[CV] END ......................C=4, penalty=l2, solver=lbfgs; total time=   1.4s\n",
      "[CV] END ......................C=4, penalty=l2, solver=lbfgs; total time=   1.4s\n",
      "[CV] END ......................C=4, penalty=l2, solver=lbfgs; total time=   1.3s\n",
      "[CV] END ......................C=4, penalty=l2, solver=lbfgs; total time=   1.3s\n",
      "[CV] END ............C=0, penalty=l2, solver=newton-cholesky; total time=   0.0s\n",
      "[CV] END ............C=0, penalty=l2, solver=newton-cholesky; total time=   0.0s\n",
      "[CV] END ............C=0, penalty=l2, solver=newton-cholesky; total time=   0.0s\n",
      "[CV] END ............C=0, penalty=l2, solver=newton-cholesky; total time=   0.0s\n",
      "[CV] END ............C=0, penalty=l2, solver=newton-cholesky; total time=   0.0s\n",
      "[CV] END .......................C=1, penalty=l2, solver=saga; total time=   2.4s\n",
      "[CV] END .......................C=1, penalty=l2, solver=saga; total time=   2.7s\n",
      "[CV] END .......................C=1, penalty=l2, solver=saga; total time=   2.6s\n",
      "[CV] END .......................C=1, penalty=l2, solver=saga; total time=   2.6s\n",
      "[CV] END .......................C=1, penalty=l2, solver=saga; total time=   2.5s\n",
      "[CV] END ...............C=0, penalty=elasticnet, solver=saga; total time=   0.0s\n",
      "[CV] END ...............C=0, penalty=elasticnet, solver=saga; total time=   0.0s\n",
      "[CV] END ...............C=0, penalty=elasticnet, solver=saga; total time=   0.0s\n",
      "[CV] END ...............C=0, penalty=elasticnet, solver=saga; total time=   0.0s\n",
      "[CV] END ...............C=0, penalty=elasticnet, solver=saga; total time=   0.0s\n",
      "[CV] END ..................C=0, penalty=l1, solver=newton-cg; total time=   0.0s\n",
      "[CV] END ..................C=0, penalty=l1, solver=newton-cg; total time=   0.0s\n",
      "[CV] END ..................C=0, penalty=l1, solver=newton-cg; total time=   0.0s\n",
      "[CV] END ..................C=0, penalty=l1, solver=newton-cg; total time=   0.0s\n",
      "[CV] END ..................C=0, penalty=l1, solver=newton-cg; total time=   0.0s\n",
      "[CV] END ..................C=3, penalty=l1, solver=newton-cg; total time=   0.0s\n",
      "[CV] END ..................C=3, penalty=l1, solver=newton-cg; total time=   0.0s\n",
      "[CV] END ..................C=3, penalty=l1, solver=newton-cg; total time=   0.0s\n",
      "[CV] END ..................C=3, penalty=l1, solver=newton-cg; total time=   0.0s\n",
      "[CV] END ..................C=3, penalty=l1, solver=newton-cg; total time=   0.0s\n",
      "[CV] END ............C=0, penalty=l2, solver=newton-cholesky; total time=   0.0s\n",
      "[CV] END ............C=0, penalty=l2, solver=newton-cholesky; total time=   0.0s\n",
      "[CV] END ............C=0, penalty=l2, solver=newton-cholesky; total time=   0.0s\n",
      "[CV] END ............C=0, penalty=l2, solver=newton-cholesky; total time=   0.0s\n",
      "[CV] END ............C=0, penalty=l2, solver=newton-cholesky; total time=   0.0s\n"
     ]
    },
    {
     "name": "stdout",
     "output_type": "stream",
     "text": [
      "[CV] END .......................C=3, penalty=l2, solver=saga; total time=   2.5s\n",
      "[CV] END .......................C=3, penalty=l2, solver=saga; total time=   2.6s\n",
      "[CV] END .......................C=3, penalty=l2, solver=saga; total time=   2.6s\n",
      "[CV] END .......................C=3, penalty=l2, solver=saga; total time=   2.6s\n",
      "[CV] END .......................C=3, penalty=l2, solver=saga; total time=   3.3s\n",
      "[CV] END ................C=1, penalty=elasticnet, solver=sag; total time=   0.0s\n",
      "[CV] END ................C=1, penalty=elasticnet, solver=sag; total time=   0.0s\n",
      "[CV] END ................C=1, penalty=elasticnet, solver=sag; total time=   0.0s\n",
      "[CV] END ................C=1, penalty=elasticnet, solver=sag; total time=   0.0s\n",
      "[CV] END ................C=1, penalty=elasticnet, solver=sag; total time=   0.0s\n",
      "[CV] END ......................C=3, penalty=l1, solver=lbfgs; total time=   0.0s\n",
      "[CV] END ......................C=3, penalty=l1, solver=lbfgs; total time=   0.0s\n",
      "[CV] END ......................C=3, penalty=l1, solver=lbfgs; total time=   0.0s\n",
      "[CV] END ......................C=3, penalty=l1, solver=lbfgs; total time=   0.0s\n",
      "[CV] END ......................C=3, penalty=l1, solver=lbfgs; total time=   0.0s\n"
     ]
    },
    {
     "name": "stderr",
     "output_type": "stream",
     "text": [
      "/root/.pyenv/versions/3.8.12/envs/mcats/lib/python3.8/site-packages/sklearn/linear_model/_logistic.py:1181: UserWarning: Setting penalty=None will ignore the C and l1_ratio parameters\n",
      "  warnings.warn(\n"
     ]
    },
    {
     "name": "stdout",
     "output_type": "stream",
     "text": [
      "[CV] END ................C=4, penalty=None, solver=newton-cg; total time=   4.6s\n"
     ]
    },
    {
     "name": "stderr",
     "output_type": "stream",
     "text": [
      "/root/.pyenv/versions/3.8.12/envs/mcats/lib/python3.8/site-packages/sklearn/linear_model/_logistic.py:1181: UserWarning: Setting penalty=None will ignore the C and l1_ratio parameters\n",
      "  warnings.warn(\n"
     ]
    },
    {
     "name": "stdout",
     "output_type": "stream",
     "text": [
      "[CV] END ................C=4, penalty=None, solver=newton-cg; total time=   3.1s\n"
     ]
    },
    {
     "name": "stderr",
     "output_type": "stream",
     "text": [
      "/root/.pyenv/versions/3.8.12/envs/mcats/lib/python3.8/site-packages/sklearn/linear_model/_logistic.py:1181: UserWarning: Setting penalty=None will ignore the C and l1_ratio parameters\n",
      "  warnings.warn(\n"
     ]
    },
    {
     "name": "stdout",
     "output_type": "stream",
     "text": [
      "[CV] END ................C=4, penalty=None, solver=newton-cg; total time=   3.0s\n"
     ]
    },
    {
     "name": "stderr",
     "output_type": "stream",
     "text": [
      "/root/.pyenv/versions/3.8.12/envs/mcats/lib/python3.8/site-packages/sklearn/linear_model/_logistic.py:1181: UserWarning: Setting penalty=None will ignore the C and l1_ratio parameters\n",
      "  warnings.warn(\n"
     ]
    },
    {
     "name": "stdout",
     "output_type": "stream",
     "text": [
      "[CV] END ................C=4, penalty=None, solver=newton-cg; total time=   3.1s\n"
     ]
    },
    {
     "name": "stderr",
     "output_type": "stream",
     "text": [
      "/root/.pyenv/versions/3.8.12/envs/mcats/lib/python3.8/site-packages/sklearn/linear_model/_logistic.py:1181: UserWarning: Setting penalty=None will ignore the C and l1_ratio parameters\n",
      "  warnings.warn(\n"
     ]
    },
    {
     "name": "stdout",
     "output_type": "stream",
     "text": [
      "[CV] END ................C=4, penalty=None, solver=newton-cg; total time=   2.8s\n",
      "[CV] END ..........C=4, penalty=elasticnet, solver=newton-cg; total time=   0.0s\n",
      "[CV] END ..........C=4, penalty=elasticnet, solver=newton-cg; total time=   0.0s\n",
      "[CV] END ..........C=4, penalty=elasticnet, solver=newton-cg; total time=   0.0s\n",
      "[CV] END ..........C=4, penalty=elasticnet, solver=newton-cg; total time=   0.0s\n",
      "[CV] END ..........C=4, penalty=elasticnet, solver=newton-cg; total time=   0.0s\n",
      "[CV] END ............C=0, penalty=l2, solver=newton-cholesky; total time=   0.0s\n",
      "[CV] END ............C=0, penalty=l2, solver=newton-cholesky; total time=   0.0s\n",
      "[CV] END ............C=0, penalty=l2, solver=newton-cholesky; total time=   0.0s\n",
      "[CV] END ............C=0, penalty=l2, solver=newton-cholesky; total time=   0.0s\n",
      "[CV] END ............C=0, penalty=l2, solver=newton-cholesky; total time=   0.0s\n",
      "[CV] END ........................C=0, penalty=l1, solver=sag; total time=   0.0s\n",
      "[CV] END ........................C=0, penalty=l1, solver=sag; total time=   0.0s\n",
      "[CV] END ........................C=0, penalty=l1, solver=sag; total time=   0.0s\n",
      "[CV] END ........................C=0, penalty=l1, solver=sag; total time=   0.0s\n",
      "[CV] END ........................C=0, penalty=l1, solver=sag; total time=   0.0s\n",
      "[CV] END ................C=2, penalty=None, solver=liblinear; total time=   0.0s\n",
      "[CV] END ................C=2, penalty=None, solver=liblinear; total time=   0.0s\n",
      "[CV] END ................C=2, penalty=None, solver=liblinear; total time=   0.0s\n",
      "[CV] END ................C=2, penalty=None, solver=liblinear; total time=   0.0s\n",
      "[CV] END ................C=2, penalty=None, solver=liblinear; total time=   0.0s\n",
      "[CV] END ............C=0, penalty=l1, solver=newton-cholesky; total time=   0.0s\n",
      "[CV] END ............C=0, penalty=l1, solver=newton-cholesky; total time=   0.0s\n",
      "[CV] END ............C=0, penalty=l1, solver=newton-cholesky; total time=   0.0s\n",
      "[CV] END ............C=0, penalty=l1, solver=newton-cholesky; total time=   0.0s\n",
      "[CV] END ............C=0, penalty=l1, solver=newton-cholesky; total time=   0.0s\n",
      "[CV] END ..................C=0, penalty=l2, solver=newton-cg; total time=   0.0s\n",
      "[CV] END ..................C=0, penalty=l2, solver=newton-cg; total time=   0.0s\n",
      "[CV] END ..................C=0, penalty=l2, solver=newton-cg; total time=   0.0s\n",
      "[CV] END ..................C=0, penalty=l2, solver=newton-cg; total time=   0.0s\n",
      "[CV] END ..................C=0, penalty=l2, solver=newton-cg; total time=   0.0s\n",
      "[CV] END ............C=4, penalty=l1, solver=newton-cholesky; total time=   0.0s\n",
      "[CV] END ............C=4, penalty=l1, solver=newton-cholesky; total time=   0.0s\n",
      "[CV] END ............C=4, penalty=l1, solver=newton-cholesky; total time=   0.0s\n",
      "[CV] END ............C=4, penalty=l1, solver=newton-cholesky; total time=   0.0s\n",
      "[CV] END ............C=4, penalty=l1, solver=newton-cholesky; total time=   0.0s\n"
     ]
    },
    {
     "name": "stderr",
     "output_type": "stream",
     "text": [
      "/root/.pyenv/versions/3.8.12/envs/mcats/lib/python3.8/site-packages/sklearn/linear_model/_logistic.py:1181: UserWarning: Setting penalty=None will ignore the C and l1_ratio parameters\n",
      "  warnings.warn(\n",
      "/root/.pyenv/versions/3.8.12/envs/mcats/lib/python3.8/site-packages/sklearn/linear_model/_logistic.py:1211: UserWarning: 'n_jobs' > 1 does not have any effect when 'solver' is set to 'liblinear'. Got 'n_jobs' = 8.\n",
      "  warnings.warn(\n",
      "/root/.pyenv/versions/3.8.12/envs/mcats/lib/python3.8/site-packages/sklearn/linear_model/_logistic.py:1181: UserWarning: Setting penalty=None will ignore the C and l1_ratio parameters\n",
      "  warnings.warn(\n",
      "/root/.pyenv/versions/3.8.12/envs/mcats/lib/python3.8/site-packages/sklearn/linear_model/_logistic.py:1211: UserWarning: 'n_jobs' > 1 does not have any effect when 'solver' is set to 'liblinear'. Got 'n_jobs' = 8.\n",
      "  warnings.warn(\n",
      "/root/.pyenv/versions/3.8.12/envs/mcats/lib/python3.8/site-packages/sklearn/linear_model/_logistic.py:1181: UserWarning: Setting penalty=None will ignore the C and l1_ratio parameters\n",
      "  warnings.warn(\n",
      "/root/.pyenv/versions/3.8.12/envs/mcats/lib/python3.8/site-packages/sklearn/linear_model/_logistic.py:1211: UserWarning: 'n_jobs' > 1 does not have any effect when 'solver' is set to 'liblinear'. Got 'n_jobs' = 8.\n",
      "  warnings.warn(\n",
      "/root/.pyenv/versions/3.8.12/envs/mcats/lib/python3.8/site-packages/sklearn/linear_model/_logistic.py:1181: UserWarning: Setting penalty=None will ignore the C and l1_ratio parameters\n",
      "  warnings.warn(\n",
      "/root/.pyenv/versions/3.8.12/envs/mcats/lib/python3.8/site-packages/sklearn/linear_model/_logistic.py:1211: UserWarning: 'n_jobs' > 1 does not have any effect when 'solver' is set to 'liblinear'. Got 'n_jobs' = 8.\n",
      "  warnings.warn(\n",
      "/root/.pyenv/versions/3.8.12/envs/mcats/lib/python3.8/site-packages/sklearn/linear_model/_logistic.py:1181: UserWarning: Setting penalty=None will ignore the C and l1_ratio parameters\n",
      "  warnings.warn(\n",
      "/root/.pyenv/versions/3.8.12/envs/mcats/lib/python3.8/site-packages/sklearn/linear_model/_logistic.py:1211: UserWarning: 'n_jobs' > 1 does not have any effect when 'solver' is set to 'liblinear'. Got 'n_jobs' = 8.\n",
      "  warnings.warn(\n",
      "/root/.pyenv/versions/3.8.12/envs/mcats/lib/python3.8/site-packages/sklearn/linear_model/_logistic.py:1181: UserWarning: Setting penalty=None will ignore the C and l1_ratio parameters\n",
      "  warnings.warn(\n"
     ]
    },
    {
     "name": "stdout",
     "output_type": "stream",
     "text": [
      "[CV] END ..........C=3, penalty=None, solver=newton-cholesky; total time=   0.2s\n"
     ]
    },
    {
     "name": "stderr",
     "output_type": "stream",
     "text": [
      "/root/.pyenv/versions/3.8.12/envs/mcats/lib/python3.8/site-packages/sklearn/linear_model/_logistic.py:1181: UserWarning: Setting penalty=None will ignore the C and l1_ratio parameters\n",
      "  warnings.warn(\n"
     ]
    },
    {
     "name": "stdout",
     "output_type": "stream",
     "text": [
      "[CV] END ..........C=3, penalty=None, solver=newton-cholesky; total time=   0.3s\n"
     ]
    },
    {
     "name": "stderr",
     "output_type": "stream",
     "text": [
      "/root/.pyenv/versions/3.8.12/envs/mcats/lib/python3.8/site-packages/sklearn/linear_model/_logistic.py:1181: UserWarning: Setting penalty=None will ignore the C and l1_ratio parameters\n",
      "  warnings.warn(\n"
     ]
    },
    {
     "name": "stdout",
     "output_type": "stream",
     "text": [
      "[CV] END ..........C=3, penalty=None, solver=newton-cholesky; total time=   0.3s\n"
     ]
    },
    {
     "name": "stderr",
     "output_type": "stream",
     "text": [
      "/root/.pyenv/versions/3.8.12/envs/mcats/lib/python3.8/site-packages/sklearn/linear_model/_logistic.py:1181: UserWarning: Setting penalty=None will ignore the C and l1_ratio parameters\n",
      "  warnings.warn(\n"
     ]
    },
    {
     "name": "stdout",
     "output_type": "stream",
     "text": [
      "[CV] END ..........C=3, penalty=None, solver=newton-cholesky; total time=   0.3s\n"
     ]
    },
    {
     "name": "stderr",
     "output_type": "stream",
     "text": [
      "/root/.pyenv/versions/3.8.12/envs/mcats/lib/python3.8/site-packages/sklearn/linear_model/_logistic.py:1181: UserWarning: Setting penalty=None will ignore the C and l1_ratio parameters\n",
      "  warnings.warn(\n"
     ]
    },
    {
     "name": "stdout",
     "output_type": "stream",
     "text": [
      "[CV] END ..........C=3, penalty=None, solver=newton-cholesky; total time=   0.3s\n"
     ]
    },
    {
     "name": "stderr",
     "output_type": "stream",
     "text": [
      "/root/.pyenv/versions/3.8.12/envs/mcats/lib/python3.8/site-packages/sklearn/linear_model/_logistic.py:1181: UserWarning: Setting penalty=None will ignore the C and l1_ratio parameters\n",
      "  warnings.warn(\n"
     ]
    },
    {
     "name": "stdout",
     "output_type": "stream",
     "text": [
      "[CV] END ..........C=2, penalty=None, solver=newton-cholesky; total time=   0.3s\n"
     ]
    },
    {
     "name": "stderr",
     "output_type": "stream",
     "text": [
      "/root/.pyenv/versions/3.8.12/envs/mcats/lib/python3.8/site-packages/sklearn/linear_model/_logistic.py:1181: UserWarning: Setting penalty=None will ignore the C and l1_ratio parameters\n",
      "  warnings.warn(\n"
     ]
    },
    {
     "name": "stdout",
     "output_type": "stream",
     "text": [
      "[CV] END ..........C=2, penalty=None, solver=newton-cholesky; total time=   0.3s\n"
     ]
    },
    {
     "name": "stderr",
     "output_type": "stream",
     "text": [
      "/root/.pyenv/versions/3.8.12/envs/mcats/lib/python3.8/site-packages/sklearn/linear_model/_logistic.py:1181: UserWarning: Setting penalty=None will ignore the C and l1_ratio parameters\n",
      "  warnings.warn(\n"
     ]
    },
    {
     "name": "stdout",
     "output_type": "stream",
     "text": [
      "[CV] END ..........C=2, penalty=None, solver=newton-cholesky; total time=   0.3s\n"
     ]
    },
    {
     "name": "stderr",
     "output_type": "stream",
     "text": [
      "/root/.pyenv/versions/3.8.12/envs/mcats/lib/python3.8/site-packages/sklearn/linear_model/_logistic.py:1181: UserWarning: Setting penalty=None will ignore the C and l1_ratio parameters\n",
      "  warnings.warn(\n"
     ]
    },
    {
     "name": "stdout",
     "output_type": "stream",
     "text": [
      "[CV] END ..........C=2, penalty=None, solver=newton-cholesky; total time=   0.3s\n"
     ]
    },
    {
     "name": "stderr",
     "output_type": "stream",
     "text": [
      "/root/.pyenv/versions/3.8.12/envs/mcats/lib/python3.8/site-packages/sklearn/linear_model/_logistic.py:1181: UserWarning: Setting penalty=None will ignore the C and l1_ratio parameters\n",
      "  warnings.warn(\n"
     ]
    },
    {
     "name": "stdout",
     "output_type": "stream",
     "text": [
      "[CV] END ..........C=2, penalty=None, solver=newton-cholesky; total time=   0.3s\n"
     ]
    },
    {
     "name": "stderr",
     "output_type": "stream",
     "text": [
      "/root/.pyenv/versions/3.8.12/envs/mcats/lib/python3.8/site-packages/sklearn/linear_model/_logistic.py:1181: UserWarning: Setting penalty=None will ignore the C and l1_ratio parameters\n",
      "  warnings.warn(\n"
     ]
    },
    {
     "name": "stdout",
     "output_type": "stream",
     "text": [
      "[CV] END ................C=4, penalty=None, solver=newton-cg; total time=   3.4s\n"
     ]
    },
    {
     "name": "stderr",
     "output_type": "stream",
     "text": [
      "/root/.pyenv/versions/3.8.12/envs/mcats/lib/python3.8/site-packages/sklearn/linear_model/_logistic.py:1181: UserWarning: Setting penalty=None will ignore the C and l1_ratio parameters\n",
      "  warnings.warn(\n"
     ]
    },
    {
     "name": "stdout",
     "output_type": "stream",
     "text": [
      "[CV] END ................C=4, penalty=None, solver=newton-cg; total time=   3.1s\n"
     ]
    },
    {
     "name": "stderr",
     "output_type": "stream",
     "text": [
      "/root/.pyenv/versions/3.8.12/envs/mcats/lib/python3.8/site-packages/sklearn/linear_model/_logistic.py:1181: UserWarning: Setting penalty=None will ignore the C and l1_ratio parameters\n",
      "  warnings.warn(\n"
     ]
    },
    {
     "name": "stdout",
     "output_type": "stream",
     "text": [
      "[CV] END ................C=4, penalty=None, solver=newton-cg; total time=   2.9s\n"
     ]
    },
    {
     "name": "stderr",
     "output_type": "stream",
     "text": [
      "/root/.pyenv/versions/3.8.12/envs/mcats/lib/python3.8/site-packages/sklearn/linear_model/_logistic.py:1181: UserWarning: Setting penalty=None will ignore the C and l1_ratio parameters\n",
      "  warnings.warn(\n"
     ]
    },
    {
     "name": "stdout",
     "output_type": "stream",
     "text": [
      "[CV] END ................C=4, penalty=None, solver=newton-cg; total time=   2.9s\n"
     ]
    },
    {
     "name": "stderr",
     "output_type": "stream",
     "text": [
      "/root/.pyenv/versions/3.8.12/envs/mcats/lib/python3.8/site-packages/sklearn/linear_model/_logistic.py:1181: UserWarning: Setting penalty=None will ignore the C and l1_ratio parameters\n",
      "  warnings.warn(\n"
     ]
    },
    {
     "name": "stdout",
     "output_type": "stream",
     "text": [
      "[CV] END ................C=4, penalty=None, solver=newton-cg; total time=   2.5s\n",
      "[CV] END ......................C=4, penalty=l1, solver=lbfgs; total time=   0.0s\n",
      "[CV] END ......................C=4, penalty=l1, solver=lbfgs; total time=   0.0s\n",
      "[CV] END ......................C=4, penalty=l1, solver=lbfgs; total time=   0.0s\n",
      "[CV] END ......................C=4, penalty=l1, solver=lbfgs; total time=   0.0s\n",
      "[CV] END ......................C=4, penalty=l1, solver=lbfgs; total time=   0.0s\n"
     ]
    },
    {
     "name": "stderr",
     "output_type": "stream",
     "text": [
      "/root/.pyenv/versions/3.8.12/envs/mcats/lib/python3.8/site-packages/sklearn/linear_model/_logistic.py:1181: UserWarning: Setting penalty=None will ignore the C and l1_ratio parameters\n",
      "  warnings.warn(\n"
     ]
    },
    {
     "name": "stdout",
     "output_type": "stream",
     "text": [
      "[CV] END ....................C=3, penalty=None, solver=lbfgs; total time=   1.3s\n"
     ]
    },
    {
     "name": "stderr",
     "output_type": "stream",
     "text": [
      "/root/.pyenv/versions/3.8.12/envs/mcats/lib/python3.8/site-packages/sklearn/linear_model/_logistic.py:1181: UserWarning: Setting penalty=None will ignore the C and l1_ratio parameters\n",
      "  warnings.warn(\n"
     ]
    },
    {
     "name": "stdout",
     "output_type": "stream",
     "text": [
      "[CV] END ....................C=3, penalty=None, solver=lbfgs; total time=   1.3s\n"
     ]
    },
    {
     "name": "stderr",
     "output_type": "stream",
     "text": [
      "/root/.pyenv/versions/3.8.12/envs/mcats/lib/python3.8/site-packages/sklearn/linear_model/_logistic.py:1181: UserWarning: Setting penalty=None will ignore the C and l1_ratio parameters\n",
      "  warnings.warn(\n"
     ]
    },
    {
     "name": "stdout",
     "output_type": "stream",
     "text": [
      "[CV] END ....................C=3, penalty=None, solver=lbfgs; total time=   1.3s\n"
     ]
    },
    {
     "name": "stderr",
     "output_type": "stream",
     "text": [
      "/root/.pyenv/versions/3.8.12/envs/mcats/lib/python3.8/site-packages/sklearn/linear_model/_logistic.py:1181: UserWarning: Setting penalty=None will ignore the C and l1_ratio parameters\n",
      "  warnings.warn(\n"
     ]
    },
    {
     "name": "stdout",
     "output_type": "stream",
     "text": [
      "[CV] END ....................C=3, penalty=None, solver=lbfgs; total time=   1.3s\n"
     ]
    },
    {
     "name": "stderr",
     "output_type": "stream",
     "text": [
      "/root/.pyenv/versions/3.8.12/envs/mcats/lib/python3.8/site-packages/sklearn/linear_model/_logistic.py:1181: UserWarning: Setting penalty=None will ignore the C and l1_ratio parameters\n",
      "  warnings.warn(\n"
     ]
    },
    {
     "name": "stdout",
     "output_type": "stream",
     "text": [
      "[CV] END ....................C=3, penalty=None, solver=lbfgs; total time=   1.4s\n",
      "[CV] END .......................C=3, penalty=l2, solver=saga; total time=   2.5s\n",
      "[CV] END .......................C=3, penalty=l2, solver=saga; total time=   2.3s\n",
      "[CV] END .......................C=3, penalty=l2, solver=saga; total time=   2.1s\n",
      "[CV] END .......................C=3, penalty=l2, solver=saga; total time=   2.3s\n",
      "[CV] END .......................C=3, penalty=l2, solver=saga; total time=   2.2s\n",
      "[CV] END ....................C=1, penalty=None, solver=lbfgs; total time=   1.3s\n",
      "[CV] END ....................C=1, penalty=None, solver=lbfgs; total time=   1.3s\n",
      "[CV] END ....................C=1, penalty=None, solver=lbfgs; total time=   1.3s\n",
      "[CV] END ....................C=1, penalty=None, solver=lbfgs; total time=   1.4s\n",
      "[CV] END ....................C=1, penalty=None, solver=lbfgs; total time=   1.3s\n",
      "[CV] END ..........C=2, penalty=elasticnet, solver=newton-cg; total time=   0.0s\n",
      "[CV] END ..........C=2, penalty=elasticnet, solver=newton-cg; total time=   0.0s\n",
      "[CV] END ..........C=2, penalty=elasticnet, solver=newton-cg; total time=   0.0s\n",
      "[CV] END ..........C=2, penalty=elasticnet, solver=newton-cg; total time=   0.0s\n",
      "[CV] END ..........C=2, penalty=elasticnet, solver=newton-cg; total time=   0.0s\n",
      "[CV] END ..........C=0, penalty=elasticnet, solver=liblinear; total time=   0.0s\n",
      "[CV] END ..........C=0, penalty=elasticnet, solver=liblinear; total time=   0.0s\n",
      "[CV] END ..........C=0, penalty=elasticnet, solver=liblinear; total time=   0.0s\n",
      "[CV] END ..........C=0, penalty=elasticnet, solver=liblinear; total time=   0.0s\n",
      "[CV] END ..........C=0, penalty=elasticnet, solver=liblinear; total time=   0.0s\n",
      "[CV] END ........................C=4, penalty=l1, solver=sag; total time=   0.0s\n",
      "[CV] END ........................C=4, penalty=l1, solver=sag; total time=   0.0s\n",
      "[CV] END ........................C=4, penalty=l1, solver=sag; total time=   0.0s\n",
      "[CV] END ........................C=4, penalty=l1, solver=sag; total time=   0.0s\n",
      "[CV] END ........................C=4, penalty=l1, solver=sag; total time=   0.0s\n",
      "[CV] END ..........C=4, penalty=elasticnet, solver=liblinear; total time=   0.0s\n",
      "[CV] END ..........C=4, penalty=elasticnet, solver=liblinear; total time=   0.0s\n",
      "[CV] END ..........C=4, penalty=elasticnet, solver=liblinear; total time=   0.0s\n",
      "[CV] END ..........C=4, penalty=elasticnet, solver=liblinear; total time=   0.0s\n",
      "[CV] END ..........C=4, penalty=elasticnet, solver=liblinear; total time=   0.0s\n",
      "[CV] END ........................C=3, penalty=l2, solver=sag; total time=   1.8s\n",
      "[CV] END ........................C=3, penalty=l2, solver=sag; total time=   1.8s\n",
      "[CV] END ........................C=3, penalty=l2, solver=sag; total time=   1.9s\n",
      "[CV] END ........................C=3, penalty=l2, solver=sag; total time=   1.8s\n",
      "[CV] END ........................C=3, penalty=l2, solver=sag; total time=   1.7s\n",
      "[CV] END ...............C=1, penalty=elasticnet, solver=saga; total time=   0.1s\n",
      "[CV] END ...............C=1, penalty=elasticnet, solver=saga; total time=   1.6s\n",
      "[CV] END ...............C=1, penalty=elasticnet, solver=saga; total time=   1.5s\n",
      "[CV] END ...............C=1, penalty=elasticnet, solver=saga; total time=   1.3s\n",
      "[CV] END ...............C=1, penalty=elasticnet, solver=saga; total time=   1.3s\n",
      "[CV] END ..............C=1, penalty=elasticnet, solver=lbfgs; total time=   0.0s\n",
      "[CV] END ..............C=1, penalty=elasticnet, solver=lbfgs; total time=   0.0s\n",
      "[CV] END ..............C=1, penalty=elasticnet, solver=lbfgs; total time=   0.0s\n",
      "[CV] END ..............C=1, penalty=elasticnet, solver=lbfgs; total time=   0.0s\n",
      "[CV] END ..............C=1, penalty=elasticnet, solver=lbfgs; total time=   0.0s\n",
      "[CV] END ................C=0, penalty=elasticnet, solver=sag; total time=   0.0s\n",
      "[CV] END ................C=0, penalty=elasticnet, solver=sag; total time=   0.0s\n",
      "[CV] END ................C=0, penalty=elasticnet, solver=sag; total time=   0.0s\n",
      "[CV] END ................C=0, penalty=elasticnet, solver=sag; total time=   0.0s\n",
      "[CV] END ................C=0, penalty=elasticnet, solver=sag; total time=   0.0s\n",
      "[CV] END ..............C=1, penalty=elasticnet, solver=lbfgs; total time=   0.0s\n",
      "[CV] END ..............C=1, penalty=elasticnet, solver=lbfgs; total time=   0.0s\n",
      "[CV] END ..............C=1, penalty=elasticnet, solver=lbfgs; total time=   0.0s\n",
      "[CV] END ..............C=1, penalty=elasticnet, solver=lbfgs; total time=   0.0s\n",
      "[CV] END ..............C=1, penalty=elasticnet, solver=lbfgs; total time=   0.0s\n",
      "[CV] END ................C=0, penalty=None, solver=liblinear; total time=   0.0s\n",
      "[CV] END ................C=0, penalty=None, solver=liblinear; total time=   0.0s\n",
      "[CV] END ................C=0, penalty=None, solver=liblinear; total time=   0.0s\n",
      "[CV] END ................C=0, penalty=None, solver=liblinear; total time=   0.0s\n",
      "[CV] END ................C=0, penalty=None, solver=liblinear; total time=   0.0s\n",
      "[CV] END ............C=0, penalty=l1, solver=newton-cholesky; total time=   0.0s\n",
      "[CV] END ............C=0, penalty=l1, solver=newton-cholesky; total time=   0.0s\n",
      "[CV] END ............C=0, penalty=l1, solver=newton-cholesky; total time=   0.0s\n",
      "[CV] END ............C=0, penalty=l1, solver=newton-cholesky; total time=   0.0s\n",
      "[CV] END ............C=0, penalty=l1, solver=newton-cholesky; total time=   0.0s\n"
     ]
    },
    {
     "name": "stderr",
     "output_type": "stream",
     "text": [
      "/root/.pyenv/versions/3.8.12/envs/mcats/lib/python3.8/site-packages/sklearn/linear_model/_logistic.py:1181: UserWarning: Setting penalty=None will ignore the C and l1_ratio parameters\n",
      "  warnings.warn(\n"
     ]
    },
    {
     "name": "stdout",
     "output_type": "stream",
     "text": [
      "[CV] END ......................C=2, penalty=None, solver=sag; total time=   3.0s\n"
     ]
    },
    {
     "name": "stderr",
     "output_type": "stream",
     "text": [
      "/root/.pyenv/versions/3.8.12/envs/mcats/lib/python3.8/site-packages/sklearn/linear_model/_logistic.py:1181: UserWarning: Setting penalty=None will ignore the C and l1_ratio parameters\n",
      "  warnings.warn(\n"
     ]
    },
    {
     "name": "stdout",
     "output_type": "stream",
     "text": [
      "[CV] END ......................C=2, penalty=None, solver=sag; total time=   2.6s\n"
     ]
    },
    {
     "name": "stderr",
     "output_type": "stream",
     "text": [
      "/root/.pyenv/versions/3.8.12/envs/mcats/lib/python3.8/site-packages/sklearn/linear_model/_logistic.py:1181: UserWarning: Setting penalty=None will ignore the C and l1_ratio parameters\n",
      "  warnings.warn(\n"
     ]
    },
    {
     "name": "stdout",
     "output_type": "stream",
     "text": [
      "[CV] END ......................C=2, penalty=None, solver=sag; total time=   2.5s\n"
     ]
    },
    {
     "name": "stderr",
     "output_type": "stream",
     "text": [
      "/root/.pyenv/versions/3.8.12/envs/mcats/lib/python3.8/site-packages/sklearn/linear_model/_logistic.py:1181: UserWarning: Setting penalty=None will ignore the C and l1_ratio parameters\n",
      "  warnings.warn(\n"
     ]
    },
    {
     "name": "stdout",
     "output_type": "stream",
     "text": [
      "[CV] END ......................C=2, penalty=None, solver=sag; total time=   2.8s\n"
     ]
    },
    {
     "name": "stderr",
     "output_type": "stream",
     "text": [
      "/root/.pyenv/versions/3.8.12/envs/mcats/lib/python3.8/site-packages/sklearn/linear_model/_logistic.py:1181: UserWarning: Setting penalty=None will ignore the C and l1_ratio parameters\n",
      "  warnings.warn(\n"
     ]
    },
    {
     "name": "stdout",
     "output_type": "stream",
     "text": [
      "[CV] END ......................C=2, penalty=None, solver=sag; total time=   2.8s\n"
     ]
    },
    {
     "name": "stderr",
     "output_type": "stream",
     "text": [
      "/root/.pyenv/versions/3.8.12/envs/mcats/lib/python3.8/site-packages/sklearn/linear_model/_logistic.py:1181: UserWarning: Setting penalty=None will ignore the C and l1_ratio parameters\n",
      "  warnings.warn(\n"
     ]
    },
    {
     "name": "stdout",
     "output_type": "stream",
     "text": [
      "[CV] END ....................C=4, penalty=None, solver=lbfgs; total time=   1.1s\n"
     ]
    },
    {
     "name": "stderr",
     "output_type": "stream",
     "text": [
      "/root/.pyenv/versions/3.8.12/envs/mcats/lib/python3.8/site-packages/sklearn/linear_model/_logistic.py:1181: UserWarning: Setting penalty=None will ignore the C and l1_ratio parameters\n",
      "  warnings.warn(\n"
     ]
    },
    {
     "name": "stdout",
     "output_type": "stream",
     "text": [
      "[CV] END ....................C=4, penalty=None, solver=lbfgs; total time=   1.3s\n"
     ]
    },
    {
     "name": "stderr",
     "output_type": "stream",
     "text": [
      "/root/.pyenv/versions/3.8.12/envs/mcats/lib/python3.8/site-packages/sklearn/linear_model/_logistic.py:1181: UserWarning: Setting penalty=None will ignore the C and l1_ratio parameters\n",
      "  warnings.warn(\n"
     ]
    },
    {
     "name": "stdout",
     "output_type": "stream",
     "text": [
      "[CV] END ....................C=4, penalty=None, solver=lbfgs; total time=   1.4s\n"
     ]
    },
    {
     "name": "stderr",
     "output_type": "stream",
     "text": [
      "/root/.pyenv/versions/3.8.12/envs/mcats/lib/python3.8/site-packages/sklearn/linear_model/_logistic.py:1181: UserWarning: Setting penalty=None will ignore the C and l1_ratio parameters\n",
      "  warnings.warn(\n"
     ]
    },
    {
     "name": "stdout",
     "output_type": "stream",
     "text": [
      "[CV] END ....................C=4, penalty=None, solver=lbfgs; total time=   1.4s\n"
     ]
    },
    {
     "name": "stderr",
     "output_type": "stream",
     "text": [
      "/root/.pyenv/versions/3.8.12/envs/mcats/lib/python3.8/site-packages/sklearn/linear_model/_logistic.py:1181: UserWarning: Setting penalty=None will ignore the C and l1_ratio parameters\n",
      "  warnings.warn(\n"
     ]
    },
    {
     "name": "stdout",
     "output_type": "stream",
     "text": [
      "[CV] END ....................C=4, penalty=None, solver=lbfgs; total time=   1.4s\n",
      "[CV] END ........................C=0, penalty=l1, solver=sag; total time=   0.0s\n",
      "[CV] END ........................C=0, penalty=l1, solver=sag; total time=   0.0s\n",
      "[CV] END ........................C=0, penalty=l1, solver=sag; total time=   0.0s\n",
      "[CV] END ........................C=0, penalty=l1, solver=sag; total time=   0.0s\n",
      "[CV] END ........................C=0, penalty=l1, solver=sag; total time=   0.0s\n"
     ]
    },
    {
     "name": "stderr",
     "output_type": "stream",
     "text": [
      "/root/.pyenv/versions/3.8.12/envs/mcats/lib/python3.8/site-packages/sklearn/model_selection/_validation.py:378: FitFailedWarning: \n",
      "295 fits failed out of a total of 500.\n",
      "The score on these train-test partitions for these parameters will be set to nan.\n",
      "If these failures are not expected, you can try to debug them by setting error_score='raise'.\n",
      "\n",
      "Below are more details about the failures:\n",
      "--------------------------------------------------------------------------------\n",
      "15 fits failed with the following error:\n",
      "Traceback (most recent call last):\n",
      "  File \"/root/.pyenv/versions/3.8.12/envs/mcats/lib/python3.8/site-packages/sklearn/model_selection/_validation.py\", line 686, in _fit_and_score\n",
      "    estimator.fit(X_train, y_train, **fit_params)\n",
      "  File \"/root/.pyenv/versions/3.8.12/envs/mcats/lib/python3.8/site-packages/sklearn/linear_model/_logistic.py\", line 1162, in fit\n",
      "    solver = _check_solver(self.solver, self.penalty, self.dual)\n",
      "  File \"/root/.pyenv/versions/3.8.12/envs/mcats/lib/python3.8/site-packages/sklearn/linear_model/_logistic.py\", line 54, in _check_solver\n",
      "    raise ValueError(\n",
      "ValueError: Solver lbfgs supports only 'l2' or 'none' penalties, got l1 penalty.\n",
      "\n",
      "--------------------------------------------------------------------------------\n",
      "130 fits failed with the following error:\n",
      "Traceback (most recent call last):\n",
      "  File \"/root/.pyenv/versions/3.8.12/envs/mcats/lib/python3.8/site-packages/sklearn/model_selection/_validation.py\", line 686, in _fit_and_score\n",
      "    estimator.fit(X_train, y_train, **fit_params)\n",
      "  File \"/root/.pyenv/versions/3.8.12/envs/mcats/lib/python3.8/site-packages/sklearn/linear_model/_logistic.py\", line 1160, in fit\n",
      "    self._validate_params()\n",
      "  File \"/root/.pyenv/versions/3.8.12/envs/mcats/lib/python3.8/site-packages/sklearn/base.py\", line 581, in _validate_params\n",
      "    validate_parameter_constraints(\n",
      "  File \"/root/.pyenv/versions/3.8.12/envs/mcats/lib/python3.8/site-packages/sklearn/utils/_param_validation.py\", line 97, in validate_parameter_constraints\n",
      "    raise InvalidParameterError(\n",
      "sklearn.utils._param_validation.InvalidParameterError: The 'C' parameter of LogisticRegression must be a float in the range (0, inf]. Got 0 instead.\n",
      "\n",
      "--------------------------------------------------------------------------------\n",
      "15 fits failed with the following error:\n",
      "Traceback (most recent call last):\n",
      "  File \"/root/.pyenv/versions/3.8.12/envs/mcats/lib/python3.8/site-packages/sklearn/model_selection/_validation.py\", line 686, in _fit_and_score\n",
      "    estimator.fit(X_train, y_train, **fit_params)\n",
      "  File \"/root/.pyenv/versions/3.8.12/envs/mcats/lib/python3.8/site-packages/sklearn/linear_model/_logistic.py\", line 1162, in fit\n",
      "    solver = _check_solver(self.solver, self.penalty, self.dual)\n",
      "  File \"/root/.pyenv/versions/3.8.12/envs/mcats/lib/python3.8/site-packages/sklearn/linear_model/_logistic.py\", line 64, in _check_solver\n",
      "    raise ValueError(\n",
      "ValueError: Only 'saga' solver supports elasticnet penalty, got solver=liblinear.\n",
      "\n",
      "--------------------------------------------------------------------------------\n",
      "15 fits failed with the following error:\n",
      "Traceback (most recent call last):\n",
      "  File \"/root/.pyenv/versions/3.8.12/envs/mcats/lib/python3.8/site-packages/sklearn/model_selection/_validation.py\", line 686, in _fit_and_score\n",
      "    estimator.fit(X_train, y_train, **fit_params)\n",
      "  File \"/root/.pyenv/versions/3.8.12/envs/mcats/lib/python3.8/site-packages/sklearn/linear_model/_logistic.py\", line 1162, in fit\n",
      "    solver = _check_solver(self.solver, self.penalty, self.dual)\n",
      "  File \"/root/.pyenv/versions/3.8.12/envs/mcats/lib/python3.8/site-packages/sklearn/linear_model/_logistic.py\", line 54, in _check_solver\n",
      "    raise ValueError(\n",
      "ValueError: Solver newton-cholesky supports only 'l2' or 'none' penalties, got l1 penalty.\n",
      "\n",
      "--------------------------------------------------------------------------------\n",
      "20 fits failed with the following error:\n",
      "Traceback (most recent call last):\n",
      "  File \"/root/.pyenv/versions/3.8.12/envs/mcats/lib/python3.8/site-packages/sklearn/model_selection/_validation.py\", line 686, in _fit_and_score\n",
      "    estimator.fit(X_train, y_train, **fit_params)\n",
      "  File \"/root/.pyenv/versions/3.8.12/envs/mcats/lib/python3.8/site-packages/sklearn/linear_model/_logistic.py\", line 1162, in fit\n",
      "    solver = _check_solver(self.solver, self.penalty, self.dual)\n",
      "  File \"/root/.pyenv/versions/3.8.12/envs/mcats/lib/python3.8/site-packages/sklearn/linear_model/_logistic.py\", line 54, in _check_solver\n",
      "    raise ValueError(\n",
      "ValueError: Solver sag supports only 'l2' or 'none' penalties, got elasticnet penalty.\n",
      "\n",
      "--------------------------------------------------------------------------------\n",
      "10 fits failed with the following error:\n",
      "joblib.externals.loky.process_executor._RemoteTraceback: \n",
      "\"\"\"\n",
      "Traceback (most recent call last):\n",
      "  File \"/root/.pyenv/versions/3.8.12/envs/mcats/lib/python3.8/site-packages/joblib/externals/loky/process_executor.py\", line 428, in _process_worker\n",
      "    r = call_item()\n",
      "  File \"/root/.pyenv/versions/3.8.12/envs/mcats/lib/python3.8/site-packages/joblib/externals/loky/process_executor.py\", line 275, in __call__\n",
      "    return self.fn(*self.args, **self.kwargs)\n",
      "  File \"/root/.pyenv/versions/3.8.12/envs/mcats/lib/python3.8/site-packages/joblib/_parallel_backends.py\", line 620, in __call__\n",
      "    return self.func(*args, **kwargs)\n",
      "  File \"/root/.pyenv/versions/3.8.12/envs/mcats/lib/python3.8/site-packages/joblib/parallel.py\", line 288, in __call__\n",
      "    return [func(*args, **kwargs)\n",
      "  File \"/root/.pyenv/versions/3.8.12/envs/mcats/lib/python3.8/site-packages/joblib/parallel.py\", line 288, in <listcomp>\n",
      "    return [func(*args, **kwargs)\n",
      "  File \"/root/.pyenv/versions/3.8.12/envs/mcats/lib/python3.8/site-packages/sklearn/utils/parallel.py\", line 123, in __call__\n",
      "    return self.function(*args, **kwargs)\n",
      "  File \"/root/.pyenv/versions/3.8.12/envs/mcats/lib/python3.8/site-packages/sklearn/linear_model/_logistic.py\", line 521, in _logistic_regression_path\n",
      "    alpha = (1.0 / C) * (1 - l1_ratio)\n",
      "TypeError: unsupported operand type(s) for -: 'int' and 'NoneType'\n",
      "\"\"\"\n",
      "\n",
      "The above exception was the direct cause of the following exception:\n",
      "\n",
      "Traceback (most recent call last):\n",
      "  File \"/root/.pyenv/versions/3.8.12/envs/mcats/lib/python3.8/site-packages/sklearn/model_selection/_validation.py\", line 686, in _fit_and_score\n",
      "    estimator.fit(X_train, y_train, **fit_params)\n",
      "  File \"/root/.pyenv/versions/3.8.12/envs/mcats/lib/python3.8/site-packages/sklearn/linear_model/_logistic.py\", line 1291, in fit\n",
      "    fold_coefs_ = Parallel(n_jobs=self.n_jobs, verbose=self.verbose, prefer=prefer)(\n",
      "  File \"/root/.pyenv/versions/3.8.12/envs/mcats/lib/python3.8/site-packages/sklearn/utils/parallel.py\", line 63, in __call__\n",
      "    return super().__call__(iterable_with_config)\n",
      "  File \"/root/.pyenv/versions/3.8.12/envs/mcats/lib/python3.8/site-packages/joblib/parallel.py\", line 1098, in __call__\n",
      "    self.retrieve()\n",
      "  File \"/root/.pyenv/versions/3.8.12/envs/mcats/lib/python3.8/site-packages/joblib/parallel.py\", line 975, in retrieve\n",
      "    self._output.extend(job.get(timeout=self.timeout))\n",
      "  File \"/root/.pyenv/versions/3.8.12/envs/mcats/lib/python3.8/site-packages/joblib/_parallel_backends.py\", line 567, in wrap_future_result\n",
      "    return future.result(timeout=timeout)\n",
      "  File \"/root/.pyenv/versions/3.8.12/lib/python3.8/concurrent/futures/_base.py\", line 444, in result\n",
      "    return self.__get_result()\n",
      "  File \"/root/.pyenv/versions/3.8.12/lib/python3.8/concurrent/futures/_base.py\", line 389, in __get_result\n",
      "    raise self._exception\n",
      "TypeError: unsupported operand type(s) for -: 'int' and 'NoneType'\n",
      "\n",
      "--------------------------------------------------------------------------------\n",
      "20 fits failed with the following error:\n",
      "Traceback (most recent call last):\n",
      "  File \"/root/.pyenv/versions/3.8.12/envs/mcats/lib/python3.8/site-packages/sklearn/model_selection/_validation.py\", line 686, in _fit_and_score\n",
      "    estimator.fit(X_train, y_train, **fit_params)\n",
      "  File \"/root/.pyenv/versions/3.8.12/envs/mcats/lib/python3.8/site-packages/sklearn/linear_model/_logistic.py\", line 1162, in fit\n",
      "    solver = _check_solver(self.solver, self.penalty, self.dual)\n",
      "  File \"/root/.pyenv/versions/3.8.12/envs/mcats/lib/python3.8/site-packages/sklearn/linear_model/_logistic.py\", line 54, in _check_solver\n",
      "    raise ValueError(\n",
      "ValueError: Solver newton-cg supports only 'l2' or 'none' penalties, got l1 penalty.\n",
      "\n",
      "--------------------------------------------------------------------------------\n",
      "30 fits failed with the following error:\n",
      "Traceback (most recent call last):\n",
      "  File \"/root/.pyenv/versions/3.8.12/envs/mcats/lib/python3.8/site-packages/sklearn/model_selection/_validation.py\", line 686, in _fit_and_score\n",
      "    estimator.fit(X_train, y_train, **fit_params)\n",
      "  File \"/root/.pyenv/versions/3.8.12/envs/mcats/lib/python3.8/site-packages/sklearn/linear_model/_logistic.py\", line 1162, in fit\n",
      "    solver = _check_solver(self.solver, self.penalty, self.dual)\n",
      "  File \"/root/.pyenv/versions/3.8.12/envs/mcats/lib/python3.8/site-packages/sklearn/linear_model/_logistic.py\", line 54, in _check_solver\n",
      "    raise ValueError(\n",
      "ValueError: Solver lbfgs supports only 'l2' or 'none' penalties, got elasticnet penalty.\n",
      "\n",
      "--------------------------------------------------------------------------------\n",
      "15 fits failed with the following error:\n",
      "Traceback (most recent call last):\n",
      "  File \"/root/.pyenv/versions/3.8.12/envs/mcats/lib/python3.8/site-packages/sklearn/model_selection/_validation.py\", line 686, in _fit_and_score\n",
      "    estimator.fit(X_train, y_train, **fit_params)\n",
      "  File \"/root/.pyenv/versions/3.8.12/envs/mcats/lib/python3.8/site-packages/sklearn/linear_model/_logistic.py\", line 1162, in fit\n",
      "    solver = _check_solver(self.solver, self.penalty, self.dual)\n",
      "  File \"/root/.pyenv/versions/3.8.12/envs/mcats/lib/python3.8/site-packages/sklearn/linear_model/_logistic.py\", line 54, in _check_solver\n",
      "    raise ValueError(\n",
      "ValueError: Solver sag supports only 'l2' or 'none' penalties, got l1 penalty.\n",
      "\n",
      "--------------------------------------------------------------------------------\n",
      "10 fits failed with the following error:\n",
      "Traceback (most recent call last):\n",
      "  File \"/root/.pyenv/versions/3.8.12/envs/mcats/lib/python3.8/site-packages/sklearn/model_selection/_validation.py\", line 686, in _fit_and_score\n",
      "    estimator.fit(X_train, y_train, **fit_params)\n",
      "  File \"/root/.pyenv/versions/3.8.12/envs/mcats/lib/python3.8/site-packages/sklearn/linear_model/_logistic.py\", line 1216, in fit\n",
      "    self.coef_, self.intercept_, self.n_iter_ = _fit_liblinear(\n",
      "  File \"/root/.pyenv/versions/3.8.12/envs/mcats/lib/python3.8/site-packages/sklearn/svm/_base.py\", line 1223, in _fit_liblinear\n",
      "    solver_type = _get_liblinear_solver_type(multi_class, penalty, loss, dual)\n",
      "  File \"/root/.pyenv/versions/3.8.12/envs/mcats/lib/python3.8/site-packages/sklearn/svm/_base.py\", line 1062, in _get_liblinear_solver_type\n",
      "    raise ValueError(\n",
      "ValueError: Unsupported set of arguments: The combination of penalty='None' and loss='logistic_regression' is not supported, Parameters: penalty=None, loss='logistic_regression', dual=False\n",
      "\n",
      "--------------------------------------------------------------------------------\n",
      "15 fits failed with the following error:\n",
      "Traceback (most recent call last):\n",
      "  File \"/root/.pyenv/versions/3.8.12/envs/mcats/lib/python3.8/site-packages/sklearn/model_selection/_validation.py\", line 686, in _fit_and_score\n",
      "    estimator.fit(X_train, y_train, **fit_params)\n",
      "  File \"/root/.pyenv/versions/3.8.12/envs/mcats/lib/python3.8/site-packages/sklearn/linear_model/_logistic.py\", line 1162, in fit\n",
      "    solver = _check_solver(self.solver, self.penalty, self.dual)\n",
      "  File \"/root/.pyenv/versions/3.8.12/envs/mcats/lib/python3.8/site-packages/sklearn/linear_model/_logistic.py\", line 54, in _check_solver\n",
      "    raise ValueError(\n",
      "ValueError: Solver newton-cg supports only 'l2' or 'none' penalties, got elasticnet penalty.\n",
      "\n",
      "  warnings.warn(some_fits_failed_message, FitFailedWarning)\n",
      "/root/.pyenv/versions/3.8.12/envs/mcats/lib/python3.8/site-packages/sklearn/model_selection/_search.py:952: UserWarning: One or more of the test scores are non-finite: [       nan 0.7223796         nan 0.72294618        nan 0.72266289\n",
      "        nan        nan 0.7082153  0.7223796  0.72067989 0.72322946\n",
      " 0.72209632        nan 0.72379603        nan 0.70963173 0.71104816\n",
      "        nan 0.72152975 0.72492918        nan 0.72634561 0.70283286\n",
      " 0.72294618 0.72294618 0.7223796         nan 0.71076487        nan\n",
      "        nan 0.70963173        nan 0.72379603 0.72266289 0.72322946\n",
      "        nan        nan 0.72209632        nan 0.72181303        nan\n",
      "        nan        nan        nan        nan 0.72492918        nan\n",
      "        nan        nan        nan        nan        nan        nan\n",
      "        nan        nan        nan 0.72124646        nan        nan\n",
      " 0.72492918 0.72209632        nan 0.72124646        nan        nan\n",
      "        nan        nan 0.7223796         nan        nan 0.72634561\n",
      "        nan        nan        nan        nan        nan        nan\n",
      "        nan 0.71076487 0.71076487 0.72634561        nan 0.7223796\n",
      " 0.72266289 0.7223796         nan        nan        nan        nan\n",
      " 0.72209632        nan        nan        nan        nan        nan\n",
      "        nan 0.72181303 0.7223796         nan]\n",
      "  warnings.warn(\n",
      "/root/.pyenv/versions/3.8.12/envs/mcats/lib/python3.8/site-packages/sklearn/linear_model/_logistic.py:1181: UserWarning: Setting penalty=None will ignore the C and l1_ratio parameters\n",
      "  warnings.warn(\n"
     ]
    }
   ],
   "source": [
    "model = LogisticRegression(n_jobs =-1)  \n",
    "model_parameters = { 'penalty':['l1', 'l2', 'elasticnet', None],\n",
    "                    'C': randint(0,5),\n",
    "                    'solver':['lbfgs', 'liblinear', 'newton-cg', 'newton-cholesky', 'sag', 'saga'], \n",
    "                   }\n",
    "random_search= RandomizedSearchCV(model, model_parameters, n_iter=100, cv=5, random_state=1, verbose=2)\n",
    "\n",
    "model =random_search.fit(X_train, y_train)"
   ]
  },
  {
   "cell_type": "code",
   "execution_count": 32,
   "id": "9f23dc94",
   "metadata": {},
   "outputs": [
    {
     "data": {
      "text/plain": [
       "{'C': 2, 'penalty': None, 'solver': 'newton-cg'}"
      ]
     },
     "execution_count": 32,
     "metadata": {},
     "output_type": "execute_result"
    }
   ],
   "source": [
    "random_search.best_params_"
   ]
  },
  {
   "cell_type": "code",
   "execution_count": 34,
   "id": "e7d0a62e",
   "metadata": {},
   "outputs": [
    {
     "name": "stderr",
     "output_type": "stream",
     "text": [
      "/root/.pyenv/versions/3.8.12/envs/mcats/lib/python3.8/site-packages/sklearn/linear_model/_logistic.py:1181: UserWarning: Setting penalty=None will ignore the C and l1_ratio parameters\n",
      "  warnings.warn(\n"
     ]
    },
    {
     "name": "stdout",
     "output_type": "stream",
     "text": [
      "              precision    recall  f1-score   support\n",
      "\n",
      "      hiphop       0.81      0.81      0.81       477\n",
      "   classical       0.94      0.95      0.95       437\n",
      "         pop       0.66      0.62      0.64       423\n",
      "  electronic       0.73      0.74      0.73       424\n",
      "       metal       0.77      0.82      0.79       443\n",
      "        rock       0.72      0.69      0.71       450\n",
      "     country       0.72      0.73      0.73       419\n",
      "      reggae       0.80      0.81      0.80       457\n",
      "\n",
      "    accuracy                           0.77      3530\n",
      "   macro avg       0.77      0.77      0.77      3530\n",
      "weighted avg       0.77      0.77      0.77      3530\n",
      "\n"
     ]
    }
   ],
   "source": [
    "model_1 = LogisticRegression(max_iter=1000, C= 2, penalty = None, solver ='newton-cg')\n",
    "model_1.fit(X_train, y_train)\n",
    "preds = model_1.predict(X_train)\n",
    "#y_ true is y_test  predict on x_text  y_pred is the output of the model\n",
    "y_true = y_train\n",
    "y_pred = preds\n",
    "target_names = ['hiphop','classical','pop','electronic','metal', 'rock','country','reggae']\n",
    "print(classification_report(y_true, y_pred, target_names=target_names))"
   ]
  },
  {
   "cell_type": "code",
   "execution_count": 35,
   "id": "c727ed42",
   "metadata": {},
   "outputs": [
    {
     "name": "stderr",
     "output_type": "stream",
     "text": [
      "/root/.pyenv/versions/3.8.12/envs/mcats/lib/python3.8/site-packages/sklearn/linear_model/_logistic.py:1181: UserWarning: Setting penalty=None will ignore the C and l1_ratio parameters\n",
      "  warnings.warn(\n"
     ]
    },
    {
     "name": "stdout",
     "output_type": "stream",
     "text": [
      "              precision    recall  f1-score   support\n",
      "\n",
      "      hiphop       0.54      0.65      0.59       140\n",
      "   classical       0.81      0.85      0.83       172\n",
      "         pop       0.30      0.23      0.26       164\n",
      "  electronic       0.46      0.45      0.46       148\n",
      "       metal       0.56      0.58      0.57       122\n",
      "        rock       0.41      0.40      0.41       154\n",
      "     country       0.41      0.39      0.40       119\n",
      "      reggae       0.60      0.63      0.61       155\n",
      "\n",
      "    accuracy                           0.53      1174\n",
      "   macro avg       0.51      0.52      0.52      1174\n",
      "weighted avg       0.52      0.53      0.52      1174\n",
      "\n"
     ]
    }
   ],
   "source": [
    "model_1 = LogisticRegression(C= 2, penalty = None, solver ='newton-cg')\n",
    "model_1.fit(X_train, y_train)\n",
    "preds = model_1.predict(X_test)\n",
    "#y_ true is y_test  predict on x_text  y_pred is the output of the model\n",
    "y_true = y_test\n",
    "y_pred = preds\n",
    "target_names = ['hiphop','classical','pop','electronic','metal', 'rock','country','reggae']\n",
    "print(classification_report(y_true, y_pred, target_names=target_names))"
   ]
  },
  {
   "cell_type": "code",
   "execution_count": 36,
   "id": "0d566edc",
   "metadata": {},
   "outputs": [
    {
     "name": "stderr",
     "output_type": "stream",
     "text": [
      "/root/.pyenv/versions/3.8.12/envs/mcats/lib/python3.8/site-packages/sklearn/linear_model/_sag.py:350: ConvergenceWarning: The max_iter was reached which means the coef_ did not converge\n",
      "  warnings.warn(\n",
      "/root/.pyenv/versions/3.8.12/envs/mcats/lib/python3.8/site-packages/sklearn/linear_model/_sag.py:350: ConvergenceWarning: The max_iter was reached which means the coef_ did not converge\n",
      "  warnings.warn(\n",
      "/root/.pyenv/versions/3.8.12/envs/mcats/lib/python3.8/site-packages/sklearn/linear_model/_logistic.py:458: ConvergenceWarning: lbfgs failed to converge (status=1):\n",
      "STOP: TOTAL NO. of ITERATIONS REACHED LIMIT.\n",
      "\n",
      "Increase the number of iterations (max_iter) or scale the data as shown in:\n",
      "    https://scikit-learn.org/stable/modules/preprocessing.html\n",
      "Please also refer to the documentation for alternative solver options:\n",
      "    https://scikit-learn.org/stable/modules/linear_model.html#logistic-regression\n",
      "  n_iter_i = _check_optimize_result(\n",
      "/root/.pyenv/versions/3.8.12/envs/mcats/lib/python3.8/site-packages/sklearn/linear_model/_logistic.py:458: ConvergenceWarning: lbfgs failed to converge (status=1):\n",
      "STOP: TOTAL NO. of ITERATIONS REACHED LIMIT.\n",
      "\n",
      "Increase the number of iterations (max_iter) or scale the data as shown in:\n",
      "    https://scikit-learn.org/stable/modules/preprocessing.html\n",
      "Please also refer to the documentation for alternative solver options:\n",
      "    https://scikit-learn.org/stable/modules/linear_model.html#logistic-regression\n",
      "  n_iter_i = _check_optimize_result(\n",
      "/root/.pyenv/versions/3.8.12/envs/mcats/lib/python3.8/site-packages/sklearn/linear_model/_logistic.py:458: ConvergenceWarning: lbfgs failed to converge (status=1):\n",
      "STOP: TOTAL NO. of ITERATIONS REACHED LIMIT.\n",
      "\n",
      "Increase the number of iterations (max_iter) or scale the data as shown in:\n",
      "    https://scikit-learn.org/stable/modules/preprocessing.html\n",
      "Please also refer to the documentation for alternative solver options:\n",
      "    https://scikit-learn.org/stable/modules/linear_model.html#logistic-regression\n",
      "  n_iter_i = _check_optimize_result(\n",
      "/root/.pyenv/versions/3.8.12/envs/mcats/lib/python3.8/site-packages/sklearn/linear_model/_sag.py:350: ConvergenceWarning: The max_iter was reached which means the coef_ did not converge\n",
      "  warnings.warn(\n",
      "/root/.pyenv/versions/3.8.12/envs/mcats/lib/python3.8/site-packages/sklearn/linear_model/_logistic.py:458: ConvergenceWarning: lbfgs failed to converge (status=1):\n",
      "STOP: TOTAL NO. of ITERATIONS REACHED LIMIT.\n",
      "\n",
      "Increase the number of iterations (max_iter) or scale the data as shown in:\n",
      "    https://scikit-learn.org/stable/modules/preprocessing.html\n",
      "Please also refer to the documentation for alternative solver options:\n",
      "    https://scikit-learn.org/stable/modules/linear_model.html#logistic-regression\n",
      "  n_iter_i = _check_optimize_result(\n",
      "/root/.pyenv/versions/3.8.12/envs/mcats/lib/python3.8/site-packages/sklearn/linear_model/_sag.py:350: ConvergenceWarning: The max_iter was reached which means the coef_ did not converge\n",
      "  warnings.warn(\n",
      "/root/.pyenv/versions/3.8.12/envs/mcats/lib/python3.8/site-packages/sklearn/linear_model/_logistic.py:458: ConvergenceWarning: lbfgs failed to converge (status=1):\n",
      "STOP: TOTAL NO. of ITERATIONS REACHED LIMIT.\n",
      "\n",
      "Increase the number of iterations (max_iter) or scale the data as shown in:\n",
      "    https://scikit-learn.org/stable/modules/preprocessing.html\n",
      "Please also refer to the documentation for alternative solver options:\n",
      "    https://scikit-learn.org/stable/modules/linear_model.html#logistic-regression\n",
      "  n_iter_i = _check_optimize_result(\n",
      "/root/.pyenv/versions/3.8.12/envs/mcats/lib/python3.8/site-packages/sklearn/linear_model/_sag.py:350: ConvergenceWarning: The max_iter was reached which means the coef_ did not converge\n",
      "  warnings.warn(\n"
     ]
    },
    {
     "name": "stdout",
     "output_type": "stream",
     "text": [
      "Best parameter (CV score=0.684):\n",
      "{'logistic__C': 10000.0, 'pca__n_components': 60}\n"
     ]
    }
   ],
   "source": [
    "pca = PCA()\n",
    "# set the tolerance to a large value to make the example faster\n",
    "logistic = LogisticRegression(max_iter=10000, tol=0.1)\n",
    "pipe = Pipeline(steps=[(\"pca\", pca), (\"logistic\", logistic)])\n",
    "param_grid = {\n",
    "    \"pca__n_components\": [5, 15, 30, 45, 60],\n",
    "    \"logistic__C\": np.logspace(-4, 4, 4),\n",
    "    \n",
    "}\n",
    "search = GridSearchCV(pipe, param_grid, n_jobs=2)\n",
    "search.fit(X_train, y_train)\n",
    "print(\"Best parameter (CV score=%0.3f):\" % search.best_score_)\n",
    "print(search.best_params_)\n"
   ]
  },
  {
   "cell_type": "code",
   "execution_count": 39,
   "id": "cc6d810c",
   "metadata": {},
   "outputs": [
    {
     "data": {
      "image/png": "[encoded data removed]",
      "text/plain": [
       "<Figure size 600x600 with 2 Axes>"
      ]
     },
     "metadata": {},
     "output_type": "display_data"
    }
   ],
   "source": [
    "# Plot the PCA spectrum\n",
    "pca.fit(X_train)\n",
    "\n",
    "fig, (ax0, ax1) = plt.subplots(nrows=2, sharex=True, figsize=(6, 6))\n",
    "ax0.plot(\n",
    "    np.arange(1, pca.n_components_ + 1), pca.explained_variance_ratio_, \"+\", linewidth=2\n",
    ")\n",
    "ax0.set_ylabel(\"PCA explained variance ratio\")\n",
    "\n",
    "ax0.axvline(\n",
    "    search.best_estimator_.named_steps[\"pca\"].n_components,\n",
    "    linestyle=\":\",\n",
    "    label=\"n_components chosen\",\n",
    ")\n",
    "ax0.legend(prop=dict(size=12))\n",
    "\n",
    "# For each number of components, find the best classifier results\n",
    "results = pd.DataFrame(search.cv_results_)\n",
    "components_col = \"param_pca__n_components\"\n",
    "best_clfs = results.groupby(components_col).apply(\n",
    "    lambda g: g.nlargest(1, \"mean_test_score\")\n",
    ")\n",
    "\n",
    "best_clfs.plot(\n",
    "    x=components_col, y=\"mean_test_score\", yerr=\"std_test_score\", legend=False, ax=ax1\n",
    ")\n",
    "ax1.set_ylabel(\"Classification accuracy (val)\")\n",
    "ax1.set_xlabel(\"n_components\")\n",
    "\n",
    "plt.xlim(-1, 70)\n",
    "\n",
    "plt.tight_layout()\n",
    "plt.show()"
   ]
  },
  {
   "cell_type": "code",
   "execution_count": 40,
   "id": "33b3645b",
   "metadata": {},
   "outputs": [
    {
     "name": "stdout",
     "output_type": "stream",
     "text": [
      "Number of Principal Components that explain >=85% of Variance:  29\n",
      "Total Variance Explained by 29 components: 85.3461126300248%\n"
     ]
    }
   ],
   "source": [
    "\n",
    "pca = PCA()\n",
    "pca.fit(X_train)\n",
    "\n",
    "#Transforming x_train and x_test \n",
    "X_train_pca = pca.transform(X_train)\n",
    "X_test_pca = pca.transform(X_test)\n",
    "\n",
    "#Find number of components that explain predefined variance threshold\n",
    "sum_variance, component_count = 0, 0\n",
    "while sum_variance < 0.85:\n",
    "    sum_variance += pca.explained_variance_ratio_[component_count]\n",
    "    component_count += 1\n",
    "    \n",
    "print('Number of Principal Components that explain >=85% of Variance: ', component_count)\n",
    "print('Total Variance Explained by '+str(component_count)+' components:', str(sum_variance*100)+'%')"
   ]
  },
  {
   "cell_type": "code",
   "execution_count": null,
   "id": "c450b79b",
   "metadata": {},
   "outputs": [],
   "source": [
    "#Create and fit PCA object\n",
    "\n",
    "component_count = 29\n",
    "pca = PCA(n_components=component_count)\n",
    "pca.fit(X_train)\n",
    "\n",
    "#Transforming x_train and x_test \n",
    "X_train_pca = pca.transform(X_train)\n",
    "X_test_pca = pca.transform(X_test)\n",
    "\n",
    "\n",
    "#Training\n",
    "model = LogisticRegression(max_iter=1000, C= 2, penalty = None, solver ='newton-cg').fit(X_train_pca, y_train)\n",
    "\n",
    "\n",
    "#Predict\n",
    "y_pred_train = model.predict(X_train_pca)\n",
    "y_pred_test = model.predict(X_test_pca)\n",
    "\n",
    "#Performance Evaluation\n",
    "train_score = accuracy_score(y_train, y_pred_train)*100\n",
    "test_score = accuracy_score(y_test, y_pred_test)*100\n",
    "\n",
    "print(\"Training Set Accuracy:\",str(train_score)+'%')\n",
    "print(\"Testing Set Accuracy:\",str(test_score)+'%')"
   ]
  },
  {
   "cell_type": "code",
   "execution_count": 58,
   "id": "4c2e52fd",
   "metadata": {},
   "outputs": [
    {
     "name": "stdout",
     "output_type": "stream",
     "text": [
      "              precision    recall  f1-score   support\n",
      "\n",
      "      hiphop       0.66      0.67      0.66       477\n",
      "   classical       0.86      0.91      0.89       437\n",
      "         pop       0.52      0.48      0.50       423\n",
      "  electronic       0.60      0.63      0.62       424\n",
      "       metal       0.68      0.77      0.72       443\n",
      "        rock       0.60      0.54      0.57       450\n",
      "     country       0.54      0.49      0.51       419\n",
      "      reggae       0.69      0.68      0.69       457\n",
      "\n",
      "    accuracy                           0.65      3530\n",
      "   macro avg       0.64      0.65      0.64      3530\n",
      "weighted avg       0.64      0.65      0.65      3530\n",
      "\n"
     ]
    }
   ],
   "source": [
    "\n",
    "preds = y_pred_train\n",
    "#y_ true is y_test  predict on x_text  y_pred is the output of the model\n",
    "y_true = y_train\n",
    "y_pred = preds\n",
    "target_names = ['hiphop','classical','pop','electronic','metal', 'rock','country','reggae']\n",
    "print(classification_report(y_true, y_pred, target_names=target_names))"
   ]
  },
  {
   "cell_type": "code",
   "execution_count": 59,
   "id": "9a4d4e5c",
   "metadata": {},
   "outputs": [
    {
     "name": "stdout",
     "output_type": "stream",
     "text": [
      "              precision    recall  f1-score   support\n",
      "\n",
      "      hiphop       0.54      0.59      0.56       140\n",
      "   classical       0.80      0.83      0.81       172\n",
      "         pop       0.35      0.29      0.32       164\n",
      "  electronic       0.44      0.45      0.45       148\n",
      "       metal       0.59      0.57      0.58       122\n",
      "        rock       0.43      0.43      0.43       154\n",
      "     country       0.36      0.35      0.36       119\n",
      "      reggae       0.60      0.64      0.62       155\n",
      "\n",
      "    accuracy                           0.52      1174\n",
      "   macro avg       0.51      0.52      0.52      1174\n",
      "weighted avg       0.52      0.52      0.52      1174\n",
      "\n"
     ]
    }
   ],
   "source": [
    "preds = y_pred_test\n",
    "#y_ true is y_test  predict on x_text  y_pred is the output of the model\n",
    "y_true = y_test\n",
    "y_pred = preds\n",
    "target_names = ['hiphop','classical','pop','electronic','metal', 'rock','country','reggae']\n",
    "print(classification_report(y_true, y_pred, target_names=target_names))"
   ]
  },
  {
   "cell_type": "code",
   "execution_count": 104,
   "id": "0a45a6df",
   "metadata": {},
   "outputs": [],
   "source": [
    "file_path = '../mcats/data/'\n",
    "def normalize_volume_mp3(file_path):\n",
    "    audio, sr = librosa.load(file_path, offset=30.0, duration=30.0)\n",
    "    audio_norm = librosa.util.normalize(audio, axis=0)\n",
    "    return audio_norm, sr\n",
    "def extract_features(y_norm, sr):\n",
    "\n",
    "    features = []\n",
    "\n",
    "    # Tempo and beats\n",
    "    tempo, beats = librosa.beat.beat_track(y=y_norm, sr=sr)\n",
    "    beats_mean = beats.mean()\n",
    "    beats_var = beats.var()\n",
    "    features.extend((tempo, beats_mean, beats_var))\n",
    "\n",
    "    # Zero crossings\n",
    "    zero_crossings = librosa.zero_crossings(y=y_norm, pad=False)\n",
    "    zero_crossings_mean = zero_crossings.mean()\n",
    "    zero_crossings_var = zero_crossings.var()\n",
    "    features.extend((zero_crossings_mean, zero_crossings_var))\n",
    "\n",
    "    # Spectral centroid\n",
    "    spectral_centroids = librosa.feature.spectral_centroid(y=y_norm, sr=sr)[0]\n",
    "    spectral_centroids_mean = spectral_centroids.mean()\n",
    "    spectral_centroids_var = spectral_centroids.var()\n",
    "    features.extend((spectral_centroids_mean,spectral_centroids_var))\n",
    "\n",
    "    # Specral Rolloff\n",
    "    spectral_rolloff = librosa.feature.spectral_rolloff(y=y_norm, sr=sr)[0]\n",
    "    spectral_rolloff_mean = spectral_rolloff.mean()\n",
    "    spectral_rolloff_var = spectral_rolloff.var()\n",
    "    features.extend((spectral_rolloff_mean, spectral_rolloff_var))\n",
    "\n",
    "    # MFCCs\n",
    "    mfccs = librosa.feature.mfcc(y=y_norm, sr=sr, n_mfcc=40)\n",
    "    for mfcc in mfccs:\n",
    "        features.append(mfcc.mean())\n",
    "        features.append(mfcc.var())\n",
    "\n",
    "    return features\n",
    "\n",
    "number_to_genre = {0: 'hiphop',\n",
    "                1: 'classical',\n",
    "                2: 'pop',\n",
    "                3: 'electronic',\n",
    "                4: 'metal',\n",
    "                5: 'rock',\n",
    "                6: 'country',\n",
    "                7: 'reggae'}\n"
   ]
  },
  {
   "cell_type": "code",
   "execution_count": 105,
   "id": "0a8c7368",
   "metadata": {},
   "outputs": [],
   "source": [
    "def predict_genre(file_path, model):\n",
    "    columns = ['tempo', 'beats_mean', 'beats_var', \n",
    "        'zero_crossings_mean', 'zero_crossings_var',\n",
    "        'spectral_centroids_mean', 'spectral_centroids_var', 'spectral_rolloff_mean',\n",
    "        'spectral_rolloff_var']\n",
    "    for i in range(40):\n",
    "        columns.extend((f'mfcc_{i+1}_mean', f'mfcc_{i+1}_var'))\n",
    "    audio, sr = normalize_volume_mp3(file_path)\n",
    "    audio_features = np.array(extract_features(audio, sr)).reshape(1,-1)\n",
    "    audio_features = pd.DataFrame(audio_features, columns=columns)\n",
    "    audio_features_norm = pd.DataFrame(scaler.transform(audio_features), columns=columns)\n",
    "    prediction = model.predict(audio_features_norm)[0]\n",
    "    \n",
    "    return number_to_genre[prediction]"
   ]
  },
  {
   "cell_type": "code",
   "execution_count": 108,
   "id": "1673148c",
   "metadata": {},
   "outputs": [
    {
     "name": "stderr",
     "output_type": "stream",
     "text": [
      "/root/.pyenv/versions/3.8.12/envs/mcats/lib/python3.8/site-packages/sklearn/base.py:299: UserWarning: Trying to unpickle estimator StandardScaler from version 1.1.3 when using version 1.2.1. This might lead to breaking code or invalid results. Use at your own risk. For more info please refer to:\n",
      "https://scikit-learn.org/stable/model_persistence.html#security-maintainability-limitations\n",
      "  warnings.warn(\n"
     ]
    }
   ],
   "source": [
    "import pickle\n",
    "with open('../mcats/data/scaler.pkl', 'rb') as f:\n",
    "    scaler = pickle.load(f)"
   ]
  },
  {
   "cell_type": "code",
   "execution_count": null,
   "id": "89a91c32",
   "metadata": {},
   "outputs": [],
   "source": []
  }
 ],
 "metadata": {
  "kernelspec": {
   "display_name": "Python 3 (ipykernel)",
   "language": "python",
   "name": "python3"
  },
  "language_info": {
   "codemirror_mode": {
    "name": "ipython",
    "version": 3
   },
   "file_extension": ".py",
   "mimetype": "text/x-python",
   "name": "python",
   "nbconvert_exporter": "python",
   "pygments_lexer": "ipython3",
   "version": "3.8.12"
  },
  "toc": {
   "base_numbering": 1,
   "nav_menu": {},
   "number_sections": true,
   "sideBar": true,
   "skip_h1_title": false,
   "title_cell": "Table of Contents",
   "title_sidebar": "Contents",
   "toc_cell": false,
   "toc_position": {},
   "toc_section_display": true,
   "toc_window_display": false
  }
 },
 "nbformat": 4,
 "nbformat_minor": 5
}
