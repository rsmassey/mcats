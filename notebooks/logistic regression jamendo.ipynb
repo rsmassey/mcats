{
 "cells": [
  {
   "cell_type": "code",
   "execution_count": 25,
   "id": "f410a332",
   "metadata": {},
   "outputs": [],
   "source": [
    "import pandas as pd\n",
    "import numpy as np\n",
    "from sklearn.model_selection import train_test_split\n",
    "from sklearn.model_selection import cross_validate\n",
    "from sklearn.linear_model import LogisticRegression\n",
    "from sklearn.metrics import classification_report\n",
    "from sklearn.decomposition import PCA\n",
    "from sklearn.pipeline import Pipeline\n",
    "from sklearn.model_selection import GridSearchCV\n",
    "from sklearn.model_selection import RandomizedSearchCV\n",
    "import matplotlib.pyplot as plt\n",
    "from scipy.stats import randint"
   ]
  },
  {
   "cell_type": "code",
   "execution_count": 2,
   "id": "411a9b5f",
   "metadata": {},
   "outputs": [],
   "source": [
    "data = pd.read_csv(\"../mcats/data/norm_jamendo_data_2.csv\")"
   ]
  },
  {
   "cell_type": "code",
   "execution_count": 3,
   "id": "bcae0b42",
   "metadata": {},
   "outputs": [],
   "source": [
    "data = data.drop(\"Unnamed: 0\", axis =1)"
   ]
  },
  {
   "cell_type": "code",
   "execution_count": 4,
   "id": "af50c3e1",
   "metadata": {},
   "outputs": [
    {
     "data": {
      "text/html": [
       "<div>\n",
       "<style scoped>\n",
       "    .dataframe tbody tr th:only-of-type {\n",
       "        vertical-align: middle;\n",
       "    }\n",
       "\n",
       "    .dataframe tbody tr th {\n",
       "        vertical-align: top;\n",
       "    }\n",
       "\n",
       "    .dataframe thead th {\n",
       "        text-align: right;\n",
       "    }\n",
       "</style>\n",
       "<table border=\"1\" class=\"dataframe\">\n",
       "  <thead>\n",
       "    <tr style=\"text-align: right;\">\n",
       "      <th></th>\n",
       "      <th>tempo</th>\n",
       "      <th>beats_mean</th>\n",
       "      <th>beats_var</th>\n",
       "      <th>zero_crossings_mean</th>\n",
       "      <th>zero_crossings_var</th>\n",
       "      <th>spectral_centroids_mean</th>\n",
       "      <th>spectral_centroids_var</th>\n",
       "      <th>spectral_rolloff_mean</th>\n",
       "      <th>spectral_rolloff_var</th>\n",
       "      <th>mfcc_1_mean</th>\n",
       "      <th>...</th>\n",
       "      <th>mfcc_36_var</th>\n",
       "      <th>mfcc_37_mean</th>\n",
       "      <th>mfcc_37_var</th>\n",
       "      <th>mfcc_38_mean</th>\n",
       "      <th>mfcc_38_var</th>\n",
       "      <th>mfcc_39_mean</th>\n",
       "      <th>mfcc_39_var</th>\n",
       "      <th>mfcc_40_mean</th>\n",
       "      <th>mfcc_40_var</th>\n",
       "      <th>genre</th>\n",
       "    </tr>\n",
       "  </thead>\n",
       "  <tbody>\n",
       "    <tr>\n",
       "      <th>0</th>\n",
       "      <td>1.003966</td>\n",
       "      <td>0.122272</td>\n",
       "      <td>0.187999</td>\n",
       "      <td>-1.410052</td>\n",
       "      <td>-1.549644</td>\n",
       "      <td>-0.791929</td>\n",
       "      <td>1.923325</td>\n",
       "      <td>-0.571025</td>\n",
       "      <td>3.309409</td>\n",
       "      <td>-1.343421</td>\n",
       "      <td>...</td>\n",
       "      <td>-0.748305</td>\n",
       "      <td>0.230004</td>\n",
       "      <td>-0.776951</td>\n",
       "      <td>-1.332095</td>\n",
       "      <td>-0.741770</td>\n",
       "      <td>-0.269807</td>\n",
       "      <td>-0.519712</td>\n",
       "      <td>-0.159013</td>\n",
       "      <td>-0.597178</td>\n",
       "      <td>0</td>\n",
       "    </tr>\n",
       "    <tr>\n",
       "      <th>1</th>\n",
       "      <td>-1.079908</td>\n",
       "      <td>0.107931</td>\n",
       "      <td>0.111471</td>\n",
       "      <td>0.314154</td>\n",
       "      <td>0.379111</td>\n",
       "      <td>0.043147</td>\n",
       "      <td>3.717204</td>\n",
       "      <td>-0.097906</td>\n",
       "      <td>3.564664</td>\n",
       "      <td>-1.224810</td>\n",
       "      <td>...</td>\n",
       "      <td>0.493576</td>\n",
       "      <td>-1.897921</td>\n",
       "      <td>-0.740129</td>\n",
       "      <td>0.314150</td>\n",
       "      <td>-0.219132</td>\n",
       "      <td>0.659573</td>\n",
       "      <td>-0.649077</td>\n",
       "      <td>-0.486640</td>\n",
       "      <td>-0.358558</td>\n",
       "      <td>0</td>\n",
       "    </tr>\n",
       "    <tr>\n",
       "      <th>2</th>\n",
       "      <td>1.318718</td>\n",
       "      <td>0.616986</td>\n",
       "      <td>0.058265</td>\n",
       "      <td>-0.577333</td>\n",
       "      <td>-0.581237</td>\n",
       "      <td>-0.018832</td>\n",
       "      <td>-0.128383</td>\n",
       "      <td>0.261829</td>\n",
       "      <td>0.079143</td>\n",
       "      <td>0.902551</td>\n",
       "      <td>...</td>\n",
       "      <td>-0.443534</td>\n",
       "      <td>-1.118393</td>\n",
       "      <td>-0.173191</td>\n",
       "      <td>-0.036943</td>\n",
       "      <td>-0.086174</td>\n",
       "      <td>-0.061328</td>\n",
       "      <td>-0.088370</td>\n",
       "      <td>1.119735</td>\n",
       "      <td>0.139470</td>\n",
       "      <td>0</td>\n",
       "    </tr>\n",
       "  </tbody>\n",
       "</table>\n",
       "<p>3 rows × 90 columns</p>\n",
       "</div>"
      ],
      "text/plain": [
       "      tempo  beats_mean  beats_var  zero_crossings_mean  zero_crossings_var  \\\n",
       "0  1.003966    0.122272   0.187999            -1.410052           -1.549644   \n",
       "1 -1.079908    0.107931   0.111471             0.314154            0.379111   \n",
       "2  1.318718    0.616986   0.058265            -0.577333           -0.581237   \n",
       "\n",
       "   spectral_centroids_mean  spectral_centroids_var  spectral_rolloff_mean  \\\n",
       "0                -0.791929                1.923325              -0.571025   \n",
       "1                 0.043147                3.717204              -0.097906   \n",
       "2                -0.018832               -0.128383               0.261829   \n",
       "\n",
       "   spectral_rolloff_var  mfcc_1_mean  ...  mfcc_36_var  mfcc_37_mean  \\\n",
       "0              3.309409    -1.343421  ...    -0.748305      0.230004   \n",
       "1              3.564664    -1.224810  ...     0.493576     -1.897921   \n",
       "2              0.079143     0.902551  ...    -0.443534     -1.118393   \n",
       "\n",
       "   mfcc_37_var  mfcc_38_mean  mfcc_38_var  mfcc_39_mean  mfcc_39_var  \\\n",
       "0    -0.776951     -1.332095    -0.741770     -0.269807    -0.519712   \n",
       "1    -0.740129      0.314150    -0.219132      0.659573    -0.649077   \n",
       "2    -0.173191     -0.036943    -0.086174     -0.061328    -0.088370   \n",
       "\n",
       "   mfcc_40_mean  mfcc_40_var  genre  \n",
       "0     -0.159013    -0.597178      0  \n",
       "1     -0.486640    -0.358558      0  \n",
       "2      1.119735     0.139470      0  \n",
       "\n",
       "[3 rows x 90 columns]"
      ]
     },
     "execution_count": 4,
     "metadata": {},
     "output_type": "execute_result"
    }
   ],
   "source": [
    "data.head(3)"
   ]
  },
  {
   "cell_type": "code",
   "execution_count": 5,
   "id": "249b276e",
   "metadata": {},
   "outputs": [],
   "source": [
    "X = data.drop(columns = \"genre\")\n",
    "y = data[\"genre\"]"
   ]
  },
  {
   "cell_type": "code",
   "execution_count": 6,
   "id": "cfa1acd3",
   "metadata": {},
   "outputs": [
    {
     "data": {
      "text/plain": [
       "(1197, 89)"
      ]
     },
     "execution_count": 6,
     "metadata": {},
     "output_type": "execute_result"
    }
   ],
   "source": [
    "X.shape"
   ]
  },
  {
   "cell_type": "code",
   "execution_count": 7,
   "id": "f5060b08",
   "metadata": {},
   "outputs": [
    {
     "data": {
      "text/plain": [
       "0.5423102094240838"
      ]
     },
     "execution_count": 7,
     "metadata": {},
     "output_type": "execute_result"
    }
   ],
   "source": [
    "model = LogisticRegression(max_iter=1000)\n",
    "# random grid search mess around with penalties, C, and solver. If not good try different feature engineering.\n",
    "\n",
    "X_train, X_test, y_train, y_test = train_test_split(X, y,\n",
    "                                                    test_size=0.20, \n",
    "                                                    random_state=42)\n",
    "\n",
    "\n",
    "cv_results = cross_validate(model, X_train, y_train, cv=5)\n",
    "\n",
    "accuracy = cv_results['test_score'].mean()\n",
    "accuracy"
   ]
  },
  {
   "cell_type": "code",
   "execution_count": 8,
   "id": "b4608846",
   "metadata": {},
   "outputs": [],
   "source": [
    "# model = LogisticRegression(max_iter=1000)\n",
    "\n",
    "# X_train, X_test, y_train, y_test = train_test_split(X, y,\n",
    "#                                                     test_size=0.30, \n",
    "#                                                     random_state=42)\n",
    "\n",
    "\n",
    "# cv_results = cross_validate(model, X_train, y_train, cv=5)\n",
    "\n",
    "# accuracy = cv_results['test_score'].mean()\n",
    "# accuracy"
   ]
  },
  {
   "cell_type": "code",
   "execution_count": 9,
   "id": "949f87e7",
   "metadata": {},
   "outputs": [],
   "source": [
    "# model = LogisticRegression(max_iter=1000)\n",
    "\n",
    "# X_train, X_test, y_train, y_test = train_test_split(X, y,\n",
    "#                                                     test_size=0.35, \n",
    "#                                                     random_state=42)\n",
    "\n",
    "\n",
    "# cv_results = cross_validate(model, X_train, y_train, cv=5)\n",
    "\n",
    "# accuracy = cv_results['test_score'].mean()\n",
    "#accuracy"
   ]
  },
  {
   "cell_type": "code",
   "execution_count": 12,
   "id": "b606b5d2",
   "metadata": {},
   "outputs": [
    {
     "name": "stdout",
     "output_type": "stream",
     "text": [
      "              precision    recall  f1-score   support\n",
      "\n",
      "      hiphop       0.84      0.80      0.82       123\n",
      "   classical       0.95      0.98      0.97       115\n",
      "         pop       0.67      0.62      0.65       117\n",
      "  electronic       0.71      0.77      0.74       113\n",
      "       metal       0.76      0.80      0.78       121\n",
      "        rock       0.73      0.68      0.70       120\n",
      "     country       0.73      0.73      0.73       120\n",
      "      reggae       0.83      0.82      0.82       128\n",
      "\n",
      "    accuracy                           0.78       957\n",
      "   macro avg       0.78      0.78      0.78       957\n",
      "weighted avg       0.78      0.78      0.78       957\n",
      "\n"
     ]
    }
   ],
   "source": [
    "model.fit(X_train, y_train)\n",
    "preds = model.predict(X_train)\n",
    "#y_ true is y_test  predict on x_text  y_pred is the output of the model\n",
    "y_true = y_train\n",
    "y_pred = preds\n",
    "target_names = ['hiphop','classical','pop','electronic','metal', 'rock','country','reggae']\n",
    "print(classification_report(y_true, y_pred, target_names=target_names))"
   ]
  },
  {
   "cell_type": "code",
   "execution_count": 13,
   "id": "2fb85b5a",
   "metadata": {},
   "outputs": [
    {
     "name": "stdout",
     "output_type": "stream",
     "text": [
      "              precision    recall  f1-score   support\n",
      "\n",
      "      hiphop       0.58      0.67      0.62        27\n",
      "   classical       0.79      0.89      0.84        35\n",
      "         pop       0.21      0.12      0.16        32\n",
      "  electronic       0.50      0.43      0.46        37\n",
      "       metal       0.69      0.71      0.70        28\n",
      "        rock       0.53      0.53      0.53        30\n",
      "     country       0.39      0.40      0.39        30\n",
      "      reggae       0.41      0.57      0.48        21\n",
      "\n",
      "    accuracy                           0.54       240\n",
      "   macro avg       0.51      0.54      0.52       240\n",
      "weighted avg       0.52      0.54      0.52       240\n",
      "\n"
     ]
    }
   ],
   "source": [
    "model.fit(X_train, y_train)\n",
    "preds = model.predict(X_test)\n",
    "#y_ true is y_test  predict on x_text  y_pred is the output of the model\n",
    "y_true = y_test\n",
    "y_pred = preds\n",
    "target_names = ['hiphop','classical','pop','electronic','metal', 'rock','country','reggae']\n",
    "print(classification_report(y_true, y_pred, target_names=target_names))"
   ]
  },
  {
   "cell_type": "code",
   "execution_count": 26,
   "id": "f466b6df",
   "metadata": {},
   "outputs": [
    {
     "name": "stdout",
     "output_type": "stream",
     "text": [
      "Fitting 5 folds for each of 100 candidates, totalling 500 fits\n",
      "[CV] END ......................C=3, penalty=l1, solver=lbfgs; total time=   0.0s\n",
      "[CV] END ......................C=3, penalty=l1, solver=lbfgs; total time=   0.0s\n",
      "[CV] END ......................C=3, penalty=l1, solver=lbfgs; total time=   0.0s\n",
      "[CV] END ......................C=3, penalty=l1, solver=lbfgs; total time=   0.0s\n",
      "[CV] END ......................C=3, penalty=l1, solver=lbfgs; total time=   0.0s\n",
      "[CV] END .....................C=1, penalty=None, solver=saga; total time=   1.1s\n",
      "[CV] END .....................C=1, penalty=None, solver=saga; total time=   0.6s\n",
      "[CV] END .....................C=1, penalty=None, solver=saga; total time=   0.6s\n",
      "[CV] END .....................C=1, penalty=None, solver=saga; total time=   0.7s\n",
      "[CV] END .....................C=1, penalty=None, solver=saga; total time=   0.6s\n",
      "[CV] END ..................C=0, penalty=l1, solver=liblinear; total time=   0.0s\n",
      "[CV] END ..................C=0, penalty=l1, solver=liblinear; total time=   0.0s\n",
      "[CV] END ..................C=0, penalty=l1, solver=liblinear; total time=   0.0s\n",
      "[CV] END ..................C=0, penalty=l1, solver=liblinear; total time=   0.0s\n",
      "[CV] END ..................C=0, penalty=l1, solver=liblinear; total time=   0.0s\n"
     ]
    },
    {
     "name": "stderr",
     "output_type": "stream",
     "text": [
      "/root/.pyenv/versions/3.8.12/envs/mcats/lib/python3.8/site-packages/sklearn/linear_model/_logistic.py:1181: UserWarning: Setting penalty=None will ignore the C and l1_ratio parameters\n",
      "  warnings.warn(\n"
     ]
    },
    {
     "name": "stdout",
     "output_type": "stream",
     "text": [
      "[CV] END .....................C=4, penalty=None, solver=saga; total time=   0.6s\n"
     ]
    },
    {
     "name": "stderr",
     "output_type": "stream",
     "text": [
      "/root/.pyenv/versions/3.8.12/envs/mcats/lib/python3.8/site-packages/sklearn/linear_model/_logistic.py:1181: UserWarning: Setting penalty=None will ignore the C and l1_ratio parameters\n",
      "  warnings.warn(\n"
     ]
    },
    {
     "name": "stdout",
     "output_type": "stream",
     "text": [
      "[CV] END .....................C=4, penalty=None, solver=saga; total time=   0.6s\n"
     ]
    },
    {
     "name": "stderr",
     "output_type": "stream",
     "text": [
      "/root/.pyenv/versions/3.8.12/envs/mcats/lib/python3.8/site-packages/sklearn/linear_model/_logistic.py:1181: UserWarning: Setting penalty=None will ignore the C and l1_ratio parameters\n",
      "  warnings.warn(\n"
     ]
    },
    {
     "name": "stdout",
     "output_type": "stream",
     "text": [
      "[CV] END .....................C=4, penalty=None, solver=saga; total time=   0.7s\n"
     ]
    },
    {
     "name": "stderr",
     "output_type": "stream",
     "text": [
      "/root/.pyenv/versions/3.8.12/envs/mcats/lib/python3.8/site-packages/sklearn/linear_model/_logistic.py:1181: UserWarning: Setting penalty=None will ignore the C and l1_ratio parameters\n",
      "  warnings.warn(\n"
     ]
    },
    {
     "name": "stdout",
     "output_type": "stream",
     "text": [
      "[CV] END .....................C=4, penalty=None, solver=saga; total time=   0.3s\n"
     ]
    },
    {
     "name": "stderr",
     "output_type": "stream",
     "text": [
      "/root/.pyenv/versions/3.8.12/envs/mcats/lib/python3.8/site-packages/sklearn/linear_model/_logistic.py:1181: UserWarning: Setting penalty=None will ignore the C and l1_ratio parameters\n",
      "  warnings.warn(\n"
     ]
    },
    {
     "name": "stdout",
     "output_type": "stream",
     "text": [
      "[CV] END .....................C=4, penalty=None, solver=saga; total time=   0.3s\n",
      "[CV] END ..........C=4, penalty=elasticnet, solver=liblinear; total time=   0.0s\n",
      "[CV] END ..........C=4, penalty=elasticnet, solver=liblinear; total time=   0.0s\n",
      "[CV] END ..........C=4, penalty=elasticnet, solver=liblinear; total time=   0.0s\n",
      "[CV] END ..........C=4, penalty=elasticnet, solver=liblinear; total time=   0.0s\n",
      "[CV] END ..........C=4, penalty=elasticnet, solver=liblinear; total time=   0.0s\n",
      "[CV] END .......................C=2, penalty=l1, solver=saga; total time=   0.4s\n",
      "[CV] END .......................C=2, penalty=l1, solver=saga; total time=   0.4s\n",
      "[CV] END .......................C=2, penalty=l1, solver=saga; total time=   0.4s\n",
      "[CV] END .......................C=2, penalty=l1, solver=saga; total time=   0.4s\n",
      "[CV] END .......................C=2, penalty=l1, solver=saga; total time=   0.4s\n",
      "[CV] END ............C=2, penalty=l1, solver=newton-cholesky; total time=   0.0s\n",
      "[CV] END ............C=2, penalty=l1, solver=newton-cholesky; total time=   0.0s\n",
      "[CV] END ............C=2, penalty=l1, solver=newton-cholesky; total time=   0.0s\n",
      "[CV] END ............C=2, penalty=l1, solver=newton-cholesky; total time=   0.0s\n",
      "[CV] END ............C=2, penalty=l1, solver=newton-cholesky; total time=   0.0s\n",
      "[CV] END ................C=4, penalty=elasticnet, solver=sag; total time=   0.0s\n",
      "[CV] END ................C=4, penalty=elasticnet, solver=sag; total time=   0.0s\n",
      "[CV] END ................C=4, penalty=elasticnet, solver=sag; total time=   0.0s\n",
      "[CV] END ................C=4, penalty=elasticnet, solver=sag; total time=   0.0s\n",
      "[CV] END ................C=4, penalty=elasticnet, solver=sag; total time=   0.0s\n"
     ]
    },
    {
     "name": "stderr",
     "output_type": "stream",
     "text": [
      "/root/.pyenv/versions/3.8.12/envs/mcats/lib/python3.8/site-packages/sklearn/linear_model/_logistic.py:1211: UserWarning: 'n_jobs' > 1 does not have any effect when 'solver' is set to 'liblinear'. Got 'n_jobs' = 8.\n",
      "  warnings.warn(\n"
     ]
    },
    {
     "name": "stdout",
     "output_type": "stream",
     "text": [
      "[CV] END ..................C=2, penalty=l1, solver=liblinear; total time=   0.6s\n"
     ]
    },
    {
     "name": "stderr",
     "output_type": "stream",
     "text": [
      "/root/.pyenv/versions/3.8.12/envs/mcats/lib/python3.8/site-packages/sklearn/linear_model/_logistic.py:1211: UserWarning: 'n_jobs' > 1 does not have any effect when 'solver' is set to 'liblinear'. Got 'n_jobs' = 8.\n",
      "  warnings.warn(\n"
     ]
    },
    {
     "name": "stdout",
     "output_type": "stream",
     "text": [
      "[CV] END ..................C=2, penalty=l1, solver=liblinear; total time=   0.6s\n"
     ]
    },
    {
     "name": "stderr",
     "output_type": "stream",
     "text": [
      "/root/.pyenv/versions/3.8.12/envs/mcats/lib/python3.8/site-packages/sklearn/linear_model/_logistic.py:1211: UserWarning: 'n_jobs' > 1 does not have any effect when 'solver' is set to 'liblinear'. Got 'n_jobs' = 8.\n",
      "  warnings.warn(\n"
     ]
    },
    {
     "name": "stdout",
     "output_type": "stream",
     "text": [
      "[CV] END ..................C=2, penalty=l1, solver=liblinear; total time=   0.5s\n"
     ]
    },
    {
     "name": "stderr",
     "output_type": "stream",
     "text": [
      "/root/.pyenv/versions/3.8.12/envs/mcats/lib/python3.8/site-packages/sklearn/linear_model/_logistic.py:1211: UserWarning: 'n_jobs' > 1 does not have any effect when 'solver' is set to 'liblinear'. Got 'n_jobs' = 8.\n",
      "  warnings.warn(\n"
     ]
    },
    {
     "name": "stdout",
     "output_type": "stream",
     "text": [
      "[CV] END ..................C=2, penalty=l1, solver=liblinear; total time=   0.5s\n"
     ]
    },
    {
     "name": "stderr",
     "output_type": "stream",
     "text": [
      "/root/.pyenv/versions/3.8.12/envs/mcats/lib/python3.8/site-packages/sklearn/linear_model/_logistic.py:1211: UserWarning: 'n_jobs' > 1 does not have any effect when 'solver' is set to 'liblinear'. Got 'n_jobs' = 8.\n",
      "  warnings.warn(\n"
     ]
    },
    {
     "name": "stdout",
     "output_type": "stream",
     "text": [
      "[CV] END ..................C=2, penalty=l1, solver=liblinear; total time=   0.4s\n",
      "[CV] END ....................C=1, penalty=None, solver=lbfgs; total time=   0.1s\n",
      "[CV] END ....................C=1, penalty=None, solver=lbfgs; total time=   0.1s\n",
      "[CV] END ....................C=1, penalty=None, solver=lbfgs; total time=   0.1s\n",
      "[CV] END ....................C=1, penalty=None, solver=lbfgs; total time=   0.1s\n",
      "[CV] END ....................C=1, penalty=None, solver=lbfgs; total time=   0.1s\n",
      "[CV] END .......................C=1, penalty=l2, solver=saga; total time=   0.3s\n",
      "[CV] END .......................C=1, penalty=l2, solver=saga; total time=   0.3s\n",
      "[CV] END .......................C=1, penalty=l2, solver=saga; total time=   0.3s\n",
      "[CV] END .......................C=1, penalty=l2, solver=saga; total time=   0.3s\n",
      "[CV] END .......................C=1, penalty=l2, solver=saga; total time=   0.3s\n",
      "[CV] END ......................C=1, penalty=l2, solver=lbfgs; total time=   0.1s\n",
      "[CV] END ......................C=1, penalty=l2, solver=lbfgs; total time=   0.1s\n",
      "[CV] END ......................C=1, penalty=l2, solver=lbfgs; total time=   0.1s\n",
      "[CV] END ......................C=1, penalty=l2, solver=lbfgs; total time=   0.1s\n",
      "[CV] END ......................C=1, penalty=l2, solver=lbfgs; total time=   0.1s\n",
      "[CV] END ......................C=4, penalty=l2, solver=lbfgs; total time=   0.1s\n",
      "[CV] END ......................C=4, penalty=l2, solver=lbfgs; total time=   0.1s\n",
      "[CV] END ......................C=4, penalty=l2, solver=lbfgs; total time=   0.1s\n",
      "[CV] END ......................C=4, penalty=l2, solver=lbfgs; total time=   0.1s\n",
      "[CV] END ......................C=4, penalty=l2, solver=lbfgs; total time=   0.1s\n",
      "[CV] END ............C=0, penalty=l2, solver=newton-cholesky; total time=   0.0s\n",
      "[CV] END ............C=0, penalty=l2, solver=newton-cholesky; total time=   0.0s\n",
      "[CV] END ............C=0, penalty=l2, solver=newton-cholesky; total time=   0.0s\n",
      "[CV] END ............C=0, penalty=l2, solver=newton-cholesky; total time=   0.0s\n",
      "[CV] END ............C=0, penalty=l2, solver=newton-cholesky; total time=   0.0s\n",
      "[CV] END ......................C=2, penalty=l2, solver=lbfgs; total time=   0.1s\n",
      "[CV] END ......................C=2, penalty=l2, solver=lbfgs; total time=   0.1s\n",
      "[CV] END ......................C=2, penalty=l2, solver=lbfgs; total time=   0.1s\n",
      "[CV] END ......................C=2, penalty=l2, solver=lbfgs; total time=   0.1s\n",
      "[CV] END ......................C=2, penalty=l2, solver=lbfgs; total time=   0.1s\n",
      "[CV] END ...............C=3, penalty=elasticnet, solver=saga; total time=   0.1s\n",
      "[CV] END ...............C=3, penalty=elasticnet, solver=saga; total time=   0.7s\n",
      "[CV] END ...............C=3, penalty=elasticnet, solver=saga; total time=   0.6s\n",
      "[CV] END ...............C=3, penalty=elasticnet, solver=saga; total time=   0.7s\n",
      "[CV] END ...............C=3, penalty=elasticnet, solver=saga; total time=   0.7s\n",
      "[CV] END ............C=1, penalty=l2, solver=newton-cholesky; total time=   1.3s\n",
      "[CV] END ............C=1, penalty=l2, solver=newton-cholesky; total time=   0.0s\n",
      "[CV] END ............C=1, penalty=l2, solver=newton-cholesky; total time=   0.0s\n",
      "[CV] END ............C=1, penalty=l2, solver=newton-cholesky; total time=   0.0s\n",
      "[CV] END ............C=1, penalty=l2, solver=newton-cholesky; total time=   0.0s\n"
     ]
    },
    {
     "name": "stderr",
     "output_type": "stream",
     "text": [
      "/root/.pyenv/versions/3.8.12/envs/mcats/lib/python3.8/site-packages/sklearn/linear_model/_logistic.py:1211: UserWarning: 'n_jobs' > 1 does not have any effect when 'solver' is set to 'liblinear'. Got 'n_jobs' = 8.\n",
      "  warnings.warn(\n"
     ]
    },
    {
     "name": "stdout",
     "output_type": "stream",
     "text": [
      "[CV] END ..................C=4, penalty=l1, solver=liblinear; total time=   1.0s\n"
     ]
    },
    {
     "name": "stderr",
     "output_type": "stream",
     "text": [
      "/root/.pyenv/versions/3.8.12/envs/mcats/lib/python3.8/site-packages/sklearn/linear_model/_logistic.py:1211: UserWarning: 'n_jobs' > 1 does not have any effect when 'solver' is set to 'liblinear'. Got 'n_jobs' = 8.\n",
      "  warnings.warn(\n"
     ]
    },
    {
     "name": "stdout",
     "output_type": "stream",
     "text": [
      "[CV] END ..................C=4, penalty=l1, solver=liblinear; total time=   0.9s\n"
     ]
    },
    {
     "name": "stderr",
     "output_type": "stream",
     "text": [
      "/root/.pyenv/versions/3.8.12/envs/mcats/lib/python3.8/site-packages/sklearn/linear_model/_logistic.py:1211: UserWarning: 'n_jobs' > 1 does not have any effect when 'solver' is set to 'liblinear'. Got 'n_jobs' = 8.\n",
      "  warnings.warn(\n"
     ]
    },
    {
     "name": "stdout",
     "output_type": "stream",
     "text": [
      "[CV] END ..................C=4, penalty=l1, solver=liblinear; total time=   0.9s\n"
     ]
    },
    {
     "name": "stderr",
     "output_type": "stream",
     "text": [
      "/root/.pyenv/versions/3.8.12/envs/mcats/lib/python3.8/site-packages/sklearn/linear_model/_logistic.py:1211: UserWarning: 'n_jobs' > 1 does not have any effect when 'solver' is set to 'liblinear'. Got 'n_jobs' = 8.\n",
      "  warnings.warn(\n"
     ]
    },
    {
     "name": "stdout",
     "output_type": "stream",
     "text": [
      "[CV] END ..................C=4, penalty=l1, solver=liblinear; total time=   1.0s\n"
     ]
    },
    {
     "name": "stderr",
     "output_type": "stream",
     "text": [
      "/root/.pyenv/versions/3.8.12/envs/mcats/lib/python3.8/site-packages/sklearn/linear_model/_logistic.py:1211: UserWarning: 'n_jobs' > 1 does not have any effect when 'solver' is set to 'liblinear'. Got 'n_jobs' = 8.\n",
      "  warnings.warn(\n"
     ]
    },
    {
     "name": "stdout",
     "output_type": "stream",
     "text": [
      "[CV] END ..................C=4, penalty=l1, solver=liblinear; total time=   0.9s\n",
      "[CV] END ..................C=3, penalty=l1, solver=newton-cg; total time=   0.0s\n",
      "[CV] END ..................C=3, penalty=l1, solver=newton-cg; total time=   0.0s\n",
      "[CV] END ..................C=3, penalty=l1, solver=newton-cg; total time=   0.0s\n",
      "[CV] END ..................C=3, penalty=l1, solver=newton-cg; total time=   0.0s\n",
      "[CV] END ..................C=3, penalty=l1, solver=newton-cg; total time=   0.0s\n",
      "[CV] END .......................C=4, penalty=l1, solver=saga; total time=   0.4s\n",
      "[CV] END .......................C=4, penalty=l1, solver=saga; total time=   0.4s\n",
      "[CV] END .......................C=4, penalty=l1, solver=saga; total time=   0.4s\n",
      "[CV] END .......................C=4, penalty=l1, solver=saga; total time=   0.4s\n",
      "[CV] END .......................C=4, penalty=l1, solver=saga; total time=   0.4s\n",
      "[CV] END ..................C=3, penalty=l2, solver=newton-cg; total time=   0.1s\n",
      "[CV] END ..................C=3, penalty=l2, solver=newton-cg; total time=   0.1s\n",
      "[CV] END ..................C=3, penalty=l2, solver=newton-cg; total time=   0.1s\n",
      "[CV] END ..................C=3, penalty=l2, solver=newton-cg; total time=   0.1s\n",
      "[CV] END ..................C=3, penalty=l2, solver=newton-cg; total time=   0.1s\n",
      "[CV] END ..................C=0, penalty=l1, solver=liblinear; total time=   0.0s\n",
      "[CV] END ..................C=0, penalty=l1, solver=liblinear; total time=   0.0s\n",
      "[CV] END ..................C=0, penalty=l1, solver=liblinear; total time=   0.0s\n",
      "[CV] END ..................C=0, penalty=l1, solver=liblinear; total time=   0.0s\n",
      "[CV] END ..................C=0, penalty=l1, solver=liblinear; total time=   0.0s\n"
     ]
    },
    {
     "name": "stderr",
     "output_type": "stream",
     "text": [
      "/root/.pyenv/versions/3.8.12/envs/mcats/lib/python3.8/site-packages/sklearn/linear_model/_logistic.py:1181: UserWarning: Setting penalty=None will ignore the C and l1_ratio parameters\n",
      "  warnings.warn(\n"
     ]
    },
    {
     "name": "stdout",
     "output_type": "stream",
     "text": [
      "[CV] END ................C=2, penalty=None, solver=newton-cg; total time=   3.4s\n"
     ]
    },
    {
     "name": "stderr",
     "output_type": "stream",
     "text": [
      "/root/.pyenv/versions/3.8.12/envs/mcats/lib/python3.8/site-packages/sklearn/linear_model/_logistic.py:1181: UserWarning: Setting penalty=None will ignore the C and l1_ratio parameters\n",
      "  warnings.warn(\n"
     ]
    },
    {
     "name": "stdout",
     "output_type": "stream",
     "text": [
      "[CV] END ................C=2, penalty=None, solver=newton-cg; total time=   5.6s\n"
     ]
    },
    {
     "name": "stderr",
     "output_type": "stream",
     "text": [
      "/root/.pyenv/versions/3.8.12/envs/mcats/lib/python3.8/site-packages/sklearn/linear_model/_logistic.py:1181: UserWarning: Setting penalty=None will ignore the C and l1_ratio parameters\n",
      "  warnings.warn(\n"
     ]
    },
    {
     "name": "stdout",
     "output_type": "stream",
     "text": [
      "[CV] END ................C=2, penalty=None, solver=newton-cg; total time=   3.3s\n"
     ]
    },
    {
     "name": "stderr",
     "output_type": "stream",
     "text": [
      "/root/.pyenv/versions/3.8.12/envs/mcats/lib/python3.8/site-packages/sklearn/linear_model/_logistic.py:1181: UserWarning: Setting penalty=None will ignore the C and l1_ratio parameters\n",
      "  warnings.warn(\n"
     ]
    },
    {
     "name": "stdout",
     "output_type": "stream",
     "text": [
      "[CV] END ................C=2, penalty=None, solver=newton-cg; total time=   3.8s\n"
     ]
    },
    {
     "name": "stderr",
     "output_type": "stream",
     "text": [
      "/root/.pyenv/versions/3.8.12/envs/mcats/lib/python3.8/site-packages/sklearn/linear_model/_logistic.py:1181: UserWarning: Setting penalty=None will ignore the C and l1_ratio parameters\n",
      "  warnings.warn(\n"
     ]
    },
    {
     "name": "stdout",
     "output_type": "stream",
     "text": [
      "[CV] END ................C=2, penalty=None, solver=newton-cg; total time=   4.0s\n"
     ]
    },
    {
     "name": "stderr",
     "output_type": "stream",
     "text": [
      "/root/.pyenv/versions/3.8.12/envs/mcats/lib/python3.8/site-packages/sklearn/linear_model/_logistic.py:1211: UserWarning: 'n_jobs' > 1 does not have any effect when 'solver' is set to 'liblinear'. Got 'n_jobs' = 8.\n",
      "  warnings.warn(\n"
     ]
    },
    {
     "name": "stdout",
     "output_type": "stream",
     "text": [
      "[CV] END ..................C=1, penalty=l1, solver=liblinear; total time=   0.3s\n",
      "[CV] END ..................C=1, penalty=l1, solver=liblinear; total time=   0.2s\n"
     ]
    },
    {
     "name": "stderr",
     "output_type": "stream",
     "text": [
      "/root/.pyenv/versions/3.8.12/envs/mcats/lib/python3.8/site-packages/sklearn/linear_model/_logistic.py:1211: UserWarning: 'n_jobs' > 1 does not have any effect when 'solver' is set to 'liblinear'. Got 'n_jobs' = 8.\n",
      "  warnings.warn(\n",
      "/root/.pyenv/versions/3.8.12/envs/mcats/lib/python3.8/site-packages/sklearn/linear_model/_logistic.py:1211: UserWarning: 'n_jobs' > 1 does not have any effect when 'solver' is set to 'liblinear'. Got 'n_jobs' = 8.\n",
      "  warnings.warn(\n"
     ]
    },
    {
     "name": "stdout",
     "output_type": "stream",
     "text": [
      "[CV] END ..................C=1, penalty=l1, solver=liblinear; total time=   0.2s\n",
      "[CV] END ..................C=1, penalty=l1, solver=liblinear; total time=   0.2s\n"
     ]
    },
    {
     "name": "stderr",
     "output_type": "stream",
     "text": [
      "/root/.pyenv/versions/3.8.12/envs/mcats/lib/python3.8/site-packages/sklearn/linear_model/_logistic.py:1211: UserWarning: 'n_jobs' > 1 does not have any effect when 'solver' is set to 'liblinear'. Got 'n_jobs' = 8.\n",
      "  warnings.warn(\n",
      "/root/.pyenv/versions/3.8.12/envs/mcats/lib/python3.8/site-packages/sklearn/linear_model/_logistic.py:1211: UserWarning: 'n_jobs' > 1 does not have any effect when 'solver' is set to 'liblinear'. Got 'n_jobs' = 8.\n",
      "  warnings.warn(\n"
     ]
    },
    {
     "name": "stdout",
     "output_type": "stream",
     "text": [
      "[CV] END ..................C=1, penalty=l1, solver=liblinear; total time=   0.2s\n"
     ]
    },
    {
     "name": "stderr",
     "output_type": "stream",
     "text": [
      "/root/.pyenv/versions/3.8.12/envs/mcats/lib/python3.8/site-packages/sklearn/linear_model/_logistic.py:1181: UserWarning: Setting penalty=None will ignore the C and l1_ratio parameters\n",
      "  warnings.warn(\n"
     ]
    },
    {
     "name": "stdout",
     "output_type": "stream",
     "text": [
      "[CV] END .....................C=3, penalty=None, solver=saga; total time=   0.3s\n"
     ]
    },
    {
     "name": "stderr",
     "output_type": "stream",
     "text": [
      "/root/.pyenv/versions/3.8.12/envs/mcats/lib/python3.8/site-packages/sklearn/linear_model/_logistic.py:1181: UserWarning: Setting penalty=None will ignore the C and l1_ratio parameters\n",
      "  warnings.warn(\n"
     ]
    },
    {
     "name": "stdout",
     "output_type": "stream",
     "text": [
      "[CV] END .....................C=3, penalty=None, solver=saga; total time=   0.3s\n"
     ]
    },
    {
     "name": "stderr",
     "output_type": "stream",
     "text": [
      "/root/.pyenv/versions/3.8.12/envs/mcats/lib/python3.8/site-packages/sklearn/linear_model/_logistic.py:1181: UserWarning: Setting penalty=None will ignore the C and l1_ratio parameters\n",
      "  warnings.warn(\n"
     ]
    },
    {
     "name": "stdout",
     "output_type": "stream",
     "text": [
      "[CV] END .....................C=3, penalty=None, solver=saga; total time=   0.3s\n"
     ]
    },
    {
     "name": "stderr",
     "output_type": "stream",
     "text": [
      "/root/.pyenv/versions/3.8.12/envs/mcats/lib/python3.8/site-packages/sklearn/linear_model/_logistic.py:1181: UserWarning: Setting penalty=None will ignore the C and l1_ratio parameters\n",
      "  warnings.warn(\n"
     ]
    },
    {
     "name": "stdout",
     "output_type": "stream",
     "text": [
      "[CV] END .....................C=3, penalty=None, solver=saga; total time=   0.3s\n"
     ]
    },
    {
     "name": "stderr",
     "output_type": "stream",
     "text": [
      "/root/.pyenv/versions/3.8.12/envs/mcats/lib/python3.8/site-packages/sklearn/linear_model/_logistic.py:1181: UserWarning: Setting penalty=None will ignore the C and l1_ratio parameters\n",
      "  warnings.warn(\n"
     ]
    },
    {
     "name": "stdout",
     "output_type": "stream",
     "text": [
      "[CV] END .....................C=3, penalty=None, solver=saga; total time=   0.3s\n"
     ]
    },
    {
     "name": "stderr",
     "output_type": "stream",
     "text": [
      "/root/.pyenv/versions/3.8.12/envs/mcats/lib/python3.8/site-packages/sklearn/linear_model/_logistic.py:1181: UserWarning: Setting penalty=None will ignore the C and l1_ratio parameters\n",
      "  warnings.warn(\n"
     ]
    },
    {
     "name": "stdout",
     "output_type": "stream",
     "text": [
      "[CV] END .....................C=4, penalty=None, solver=saga; total time=   0.3s\n"
     ]
    },
    {
     "name": "stderr",
     "output_type": "stream",
     "text": [
      "/root/.pyenv/versions/3.8.12/envs/mcats/lib/python3.8/site-packages/sklearn/linear_model/_logistic.py:1181: UserWarning: Setting penalty=None will ignore the C and l1_ratio parameters\n",
      "  warnings.warn(\n"
     ]
    },
    {
     "name": "stdout",
     "output_type": "stream",
     "text": [
      "[CV] END .....................C=4, penalty=None, solver=saga; total time=   0.3s\n"
     ]
    },
    {
     "name": "stderr",
     "output_type": "stream",
     "text": [
      "/root/.pyenv/versions/3.8.12/envs/mcats/lib/python3.8/site-packages/sklearn/linear_model/_logistic.py:1181: UserWarning: Setting penalty=None will ignore the C and l1_ratio parameters\n",
      "  warnings.warn(\n"
     ]
    },
    {
     "name": "stdout",
     "output_type": "stream",
     "text": [
      "[CV] END .....................C=4, penalty=None, solver=saga; total time=   0.3s\n"
     ]
    },
    {
     "name": "stderr",
     "output_type": "stream",
     "text": [
      "/root/.pyenv/versions/3.8.12/envs/mcats/lib/python3.8/site-packages/sklearn/linear_model/_logistic.py:1181: UserWarning: Setting penalty=None will ignore the C and l1_ratio parameters\n",
      "  warnings.warn(\n"
     ]
    },
    {
     "name": "stdout",
     "output_type": "stream",
     "text": [
      "[CV] END .....................C=4, penalty=None, solver=saga; total time=   0.3s\n"
     ]
    },
    {
     "name": "stderr",
     "output_type": "stream",
     "text": [
      "/root/.pyenv/versions/3.8.12/envs/mcats/lib/python3.8/site-packages/sklearn/linear_model/_logistic.py:1181: UserWarning: Setting penalty=None will ignore the C and l1_ratio parameters\n",
      "  warnings.warn(\n"
     ]
    },
    {
     "name": "stdout",
     "output_type": "stream",
     "text": [
      "[CV] END .....................C=4, penalty=None, solver=saga; total time=   0.3s\n",
      "[CV] END ....................C=1, penalty=None, solver=lbfgs; total time=   0.1s\n",
      "[CV] END ....................C=1, penalty=None, solver=lbfgs; total time=   0.1s\n",
      "[CV] END ....................C=1, penalty=None, solver=lbfgs; total time=   0.1s\n",
      "[CV] END ....................C=1, penalty=None, solver=lbfgs; total time=   0.1s\n",
      "[CV] END ....................C=1, penalty=None, solver=lbfgs; total time=   0.1s\n",
      "[CV] END ..........C=0, penalty=elasticnet, solver=newton-cg; total time=   0.0s\n",
      "[CV] END ..........C=0, penalty=elasticnet, solver=newton-cg; total time=   0.0s\n",
      "[CV] END ..........C=0, penalty=elasticnet, solver=newton-cg; total time=   0.0s\n",
      "[CV] END ..........C=0, penalty=elasticnet, solver=newton-cg; total time=   0.0s\n",
      "[CV] END ..........C=0, penalty=elasticnet, solver=newton-cg; total time=   0.0s\n",
      "[CV] END ..........C=1, penalty=None, solver=newton-cholesky; total time=   0.1s\n",
      "[CV] END ..........C=1, penalty=None, solver=newton-cholesky; total time=   0.1s\n",
      "[CV] END ..........C=1, penalty=None, solver=newton-cholesky; total time=   0.1s\n",
      "[CV] END ..........C=1, penalty=None, solver=newton-cholesky; total time=   0.1s\n",
      "[CV] END ..........C=1, penalty=None, solver=newton-cholesky; total time=   0.0s\n",
      "[CV] END ..............C=4, penalty=elasticnet, solver=lbfgs; total time=   0.0s\n",
      "[CV] END ..............C=4, penalty=elasticnet, solver=lbfgs; total time=   0.0s\n",
      "[CV] END ..............C=4, penalty=elasticnet, solver=lbfgs; total time=   0.0s\n",
      "[CV] END ..............C=4, penalty=elasticnet, solver=lbfgs; total time=   0.0s\n",
      "[CV] END ..............C=4, penalty=elasticnet, solver=lbfgs; total time=   0.0s\n",
      "[CV] END ................C=0, penalty=None, solver=liblinear; total time=   0.0s\n",
      "[CV] END ................C=0, penalty=None, solver=liblinear; total time=   0.0s\n",
      "[CV] END ................C=0, penalty=None, solver=liblinear; total time=   0.0s\n",
      "[CV] END ................C=0, penalty=None, solver=liblinear; total time=   0.0s\n",
      "[CV] END ................C=0, penalty=None, solver=liblinear; total time=   0.0s\n",
      "[CV] END ............C=1, penalty=l2, solver=newton-cholesky; total time=   0.0s\n",
      "[CV] END ............C=1, penalty=l2, solver=newton-cholesky; total time=   0.0s\n",
      "[CV] END ............C=1, penalty=l2, solver=newton-cholesky; total time=   0.0s\n",
      "[CV] END ............C=1, penalty=l2, solver=newton-cholesky; total time=   0.0s\n",
      "[CV] END ............C=1, penalty=l2, solver=newton-cholesky; total time=   0.0s\n",
      "[CV] END .......................C=0, penalty=l1, solver=saga; total time=   0.0s\n",
      "[CV] END .......................C=0, penalty=l1, solver=saga; total time=   0.0s\n",
      "[CV] END .......................C=0, penalty=l1, solver=saga; total time=   0.0s\n",
      "[CV] END .......................C=0, penalty=l1, solver=saga; total time=   0.0s\n",
      "[CV] END .......................C=0, penalty=l1, solver=saga; total time=   0.0s\n",
      "[CV] END ..................C=4, penalty=l2, solver=newton-cg; total time=   0.1s\n",
      "[CV] END ..................C=4, penalty=l2, solver=newton-cg; total time=   0.1s\n",
      "[CV] END ..................C=4, penalty=l2, solver=newton-cg; total time=   0.2s\n",
      "[CV] END ..................C=4, penalty=l2, solver=newton-cg; total time=   0.2s\n",
      "[CV] END ..................C=4, penalty=l2, solver=newton-cg; total time=   0.2s\n"
     ]
    },
    {
     "name": "stderr",
     "output_type": "stream",
     "text": [
      "/root/.pyenv/versions/3.8.12/envs/mcats/lib/python3.8/site-packages/sklearn/linear_model/_logistic.py:1181: UserWarning: Setting penalty=None will ignore the C and l1_ratio parameters\n",
      "  warnings.warn(\n"
     ]
    },
    {
     "name": "stdout",
     "output_type": "stream",
     "text": [
      "[CV] END .....................C=4, penalty=None, solver=saga; total time=   0.3s\n"
     ]
    },
    {
     "name": "stderr",
     "output_type": "stream",
     "text": [
      "/root/.pyenv/versions/3.8.12/envs/mcats/lib/python3.8/site-packages/sklearn/linear_model/_logistic.py:1181: UserWarning: Setting penalty=None will ignore the C and l1_ratio parameters\n",
      "  warnings.warn(\n"
     ]
    },
    {
     "name": "stdout",
     "output_type": "stream",
     "text": [
      "[CV] END .....................C=4, penalty=None, solver=saga; total time=   0.3s\n"
     ]
    },
    {
     "name": "stderr",
     "output_type": "stream",
     "text": [
      "/root/.pyenv/versions/3.8.12/envs/mcats/lib/python3.8/site-packages/sklearn/linear_model/_logistic.py:1181: UserWarning: Setting penalty=None will ignore the C and l1_ratio parameters\n",
      "  warnings.warn(\n"
     ]
    },
    {
     "name": "stdout",
     "output_type": "stream",
     "text": [
      "[CV] END .....................C=4, penalty=None, solver=saga; total time=   0.3s\n"
     ]
    },
    {
     "name": "stderr",
     "output_type": "stream",
     "text": [
      "/root/.pyenv/versions/3.8.12/envs/mcats/lib/python3.8/site-packages/sklearn/linear_model/_logistic.py:1181: UserWarning: Setting penalty=None will ignore the C and l1_ratio parameters\n",
      "  warnings.warn(\n"
     ]
    },
    {
     "name": "stdout",
     "output_type": "stream",
     "text": [
      "[CV] END .....................C=4, penalty=None, solver=saga; total time=   0.3s\n"
     ]
    },
    {
     "name": "stderr",
     "output_type": "stream",
     "text": [
      "/root/.pyenv/versions/3.8.12/envs/mcats/lib/python3.8/site-packages/sklearn/linear_model/_logistic.py:1181: UserWarning: Setting penalty=None will ignore the C and l1_ratio parameters\n",
      "  warnings.warn(\n"
     ]
    },
    {
     "name": "stdout",
     "output_type": "stream",
     "text": [
      "[CV] END .....................C=4, penalty=None, solver=saga; total time=   0.3s\n"
     ]
    },
    {
     "name": "stderr",
     "output_type": "stream",
     "text": [
      "/root/.pyenv/versions/3.8.12/envs/mcats/lib/python3.8/site-packages/sklearn/linear_model/_logistic.py:1181: UserWarning: Setting penalty=None will ignore the C and l1_ratio parameters\n",
      "  warnings.warn(\n"
     ]
    },
    {
     "name": "stdout",
     "output_type": "stream",
     "text": [
      "[CV] END .....................C=3, penalty=None, solver=saga; total time=   0.3s\n"
     ]
    },
    {
     "name": "stderr",
     "output_type": "stream",
     "text": [
      "/root/.pyenv/versions/3.8.12/envs/mcats/lib/python3.8/site-packages/sklearn/linear_model/_logistic.py:1181: UserWarning: Setting penalty=None will ignore the C and l1_ratio parameters\n",
      "  warnings.warn(\n"
     ]
    },
    {
     "name": "stdout",
     "output_type": "stream",
     "text": [
      "[CV] END .....................C=3, penalty=None, solver=saga; total time=   0.3s\n"
     ]
    },
    {
     "name": "stderr",
     "output_type": "stream",
     "text": [
      "/root/.pyenv/versions/3.8.12/envs/mcats/lib/python3.8/site-packages/sklearn/linear_model/_logistic.py:1181: UserWarning: Setting penalty=None will ignore the C and l1_ratio parameters\n",
      "  warnings.warn(\n"
     ]
    },
    {
     "name": "stdout",
     "output_type": "stream",
     "text": [
      "[CV] END .....................C=3, penalty=None, solver=saga; total time=   0.3s\n"
     ]
    },
    {
     "name": "stderr",
     "output_type": "stream",
     "text": [
      "/root/.pyenv/versions/3.8.12/envs/mcats/lib/python3.8/site-packages/sklearn/linear_model/_logistic.py:1181: UserWarning: Setting penalty=None will ignore the C and l1_ratio parameters\n",
      "  warnings.warn(\n"
     ]
    },
    {
     "name": "stdout",
     "output_type": "stream",
     "text": [
      "[CV] END .....................C=3, penalty=None, solver=saga; total time=   0.3s\n"
     ]
    },
    {
     "name": "stderr",
     "output_type": "stream",
     "text": [
      "/root/.pyenv/versions/3.8.12/envs/mcats/lib/python3.8/site-packages/sklearn/linear_model/_logistic.py:1181: UserWarning: Setting penalty=None will ignore the C and l1_ratio parameters\n",
      "  warnings.warn(\n"
     ]
    },
    {
     "name": "stdout",
     "output_type": "stream",
     "text": [
      "[CV] END .....................C=3, penalty=None, solver=saga; total time=   0.3s\n",
      "[CV] END ......................C=0, penalty=None, solver=sag; total time=   0.0s\n",
      "[CV] END ......................C=0, penalty=None, solver=sag; total time=   0.0s\n",
      "[CV] END ......................C=0, penalty=None, solver=sag; total time=   0.0s\n",
      "[CV] END ......................C=0, penalty=None, solver=sag; total time=   0.0s\n",
      "[CV] END ......................C=0, penalty=None, solver=sag; total time=   0.0s\n",
      "[CV] END ........................C=3, penalty=l1, solver=sag; total time=   0.0s\n",
      "[CV] END ........................C=3, penalty=l1, solver=sag; total time=   0.0s\n",
      "[CV] END ........................C=3, penalty=l1, solver=sag; total time=   0.0s\n",
      "[CV] END ........................C=3, penalty=l1, solver=sag; total time=   0.0s\n",
      "[CV] END ........................C=3, penalty=l1, solver=sag; total time=   0.0s\n",
      "[CV] END ......................C=4, penalty=l2, solver=lbfgs; total time=   0.1s\n",
      "[CV] END ......................C=4, penalty=l2, solver=lbfgs; total time=   0.1s\n",
      "[CV] END ......................C=4, penalty=l2, solver=lbfgs; total time=   0.1s\n",
      "[CV] END ......................C=4, penalty=l2, solver=lbfgs; total time=   0.1s\n",
      "[CV] END ......................C=4, penalty=l2, solver=lbfgs; total time=   0.1s\n",
      "[CV] END ..............C=4, penalty=elasticnet, solver=lbfgs; total time=   0.0s\n",
      "[CV] END ..............C=4, penalty=elasticnet, solver=lbfgs; total time=   0.0s\n",
      "[CV] END ..............C=4, penalty=elasticnet, solver=lbfgs; total time=   0.0s\n",
      "[CV] END ..............C=4, penalty=elasticnet, solver=lbfgs; total time=   0.0s\n",
      "[CV] END ..............C=4, penalty=elasticnet, solver=lbfgs; total time=   0.0s\n"
     ]
    },
    {
     "name": "stderr",
     "output_type": "stream",
     "text": [
      "/root/.pyenv/versions/3.8.12/envs/mcats/lib/python3.8/site-packages/sklearn/linear_model/_logistic.py:1181: UserWarning: Setting penalty=None will ignore the C and l1_ratio parameters\n",
      "  warnings.warn(\n"
     ]
    },
    {
     "name": "stdout",
     "output_type": "stream",
     "text": [
      "[CV] END ......................C=2, penalty=None, solver=sag; total time=   0.2s\n"
     ]
    },
    {
     "name": "stderr",
     "output_type": "stream",
     "text": [
      "/root/.pyenv/versions/3.8.12/envs/mcats/lib/python3.8/site-packages/sklearn/linear_model/_logistic.py:1181: UserWarning: Setting penalty=None will ignore the C and l1_ratio parameters\n",
      "  warnings.warn(\n"
     ]
    },
    {
     "name": "stdout",
     "output_type": "stream",
     "text": [
      "[CV] END ......................C=2, penalty=None, solver=sag; total time=   0.2s\n"
     ]
    },
    {
     "name": "stderr",
     "output_type": "stream",
     "text": [
      "/root/.pyenv/versions/3.8.12/envs/mcats/lib/python3.8/site-packages/sklearn/linear_model/_logistic.py:1181: UserWarning: Setting penalty=None will ignore the C and l1_ratio parameters\n",
      "  warnings.warn(\n"
     ]
    },
    {
     "name": "stdout",
     "output_type": "stream",
     "text": [
      "[CV] END ......................C=2, penalty=None, solver=sag; total time=   0.2s\n"
     ]
    },
    {
     "name": "stderr",
     "output_type": "stream",
     "text": [
      "/root/.pyenv/versions/3.8.12/envs/mcats/lib/python3.8/site-packages/sklearn/linear_model/_logistic.py:1181: UserWarning: Setting penalty=None will ignore the C and l1_ratio parameters\n",
      "  warnings.warn(\n"
     ]
    },
    {
     "name": "stdout",
     "output_type": "stream",
     "text": [
      "[CV] END ......................C=2, penalty=None, solver=sag; total time=   0.2s\n"
     ]
    },
    {
     "name": "stderr",
     "output_type": "stream",
     "text": [
      "/root/.pyenv/versions/3.8.12/envs/mcats/lib/python3.8/site-packages/sklearn/linear_model/_logistic.py:1181: UserWarning: Setting penalty=None will ignore the C and l1_ratio parameters\n",
      "  warnings.warn(\n"
     ]
    },
    {
     "name": "stdout",
     "output_type": "stream",
     "text": [
      "[CV] END ......................C=2, penalty=None, solver=sag; total time=   0.2s\n",
      "[CV] END ................C=1, penalty=None, solver=liblinear; total time=   0.0s\n",
      "[CV] END ................C=1, penalty=None, solver=liblinear; total time=   0.0s\n",
      "[CV] END ................C=1, penalty=None, solver=liblinear; total time=   0.0s\n",
      "[CV] END ................C=1, penalty=None, solver=liblinear; total time=   0.0s\n",
      "[CV] END ................C=1, penalty=None, solver=liblinear; total time=   0.0s\n",
      "[CV] END ................C=0, penalty=elasticnet, solver=sag; total time=   0.0s\n",
      "[CV] END ................C=0, penalty=elasticnet, solver=sag; total time=   0.0s\n",
      "[CV] END ................C=0, penalty=elasticnet, solver=sag; total time=   0.0s\n",
      "[CV] END ................C=0, penalty=elasticnet, solver=sag; total time=   0.0s\n",
      "[CV] END ................C=0, penalty=elasticnet, solver=sag; total time=   0.0s\n",
      "[CV] END ........................C=4, penalty=l1, solver=sag; total time=   0.0s\n",
      "[CV] END ........................C=4, penalty=l1, solver=sag; total time=   0.0s\n",
      "[CV] END ........................C=4, penalty=l1, solver=sag; total time=   0.0s\n",
      "[CV] END ........................C=4, penalty=l1, solver=sag; total time=   0.0s\n",
      "[CV] END ........................C=4, penalty=l1, solver=sag; total time=   0.0s\n",
      "[CV] END ................C=1, penalty=elasticnet, solver=sag; total time=   0.0s\n",
      "[CV] END ................C=1, penalty=elasticnet, solver=sag; total time=   0.0s\n",
      "[CV] END ................C=1, penalty=elasticnet, solver=sag; total time=   0.0s\n",
      "[CV] END ................C=1, penalty=elasticnet, solver=sag; total time=   0.0s\n",
      "[CV] END ................C=1, penalty=elasticnet, solver=sag; total time=   0.0s\n",
      "[CV] END ..................C=1, penalty=l1, solver=newton-cg; total time=   0.0s\n",
      "[CV] END ..................C=1, penalty=l1, solver=newton-cg; total time=   0.0s\n",
      "[CV] END ..................C=1, penalty=l1, solver=newton-cg; total time=   0.0s\n",
      "[CV] END ..................C=1, penalty=l1, solver=newton-cg; total time=   0.0s\n",
      "[CV] END ..................C=1, penalty=l1, solver=newton-cg; total time=   0.0s\n",
      "[CV] END ..................C=3, penalty=l2, solver=newton-cg; total time=   0.1s\n"
     ]
    },
    {
     "name": "stderr",
     "output_type": "stream",
     "text": [
      "/root/.pyenv/versions/3.8.12/envs/mcats/lib/python3.8/site-packages/sklearn/linear_model/_logistic.py:1211: UserWarning: 'n_jobs' > 1 does not have any effect when 'solver' is set to 'liblinear'. Got 'n_jobs' = 8.\n",
      "  warnings.warn(\n",
      "/root/.pyenv/versions/3.8.12/envs/mcats/lib/python3.8/site-packages/sklearn/linear_model/_logistic.py:1211: UserWarning: 'n_jobs' > 1 does not have any effect when 'solver' is set to 'liblinear'. Got 'n_jobs' = 8.\n",
      "  warnings.warn(\n",
      "/root/.pyenv/versions/3.8.12/envs/mcats/lib/python3.8/site-packages/sklearn/linear_model/_logistic.py:1211: UserWarning: 'n_jobs' > 1 does not have any effect when 'solver' is set to 'liblinear'. Got 'n_jobs' = 8.\n",
      "  warnings.warn(\n",
      "/root/.pyenv/versions/3.8.12/envs/mcats/lib/python3.8/site-packages/sklearn/linear_model/_logistic.py:1211: UserWarning: 'n_jobs' > 1 does not have any effect when 'solver' is set to 'liblinear'. Got 'n_jobs' = 8.\n",
      "  warnings.warn(\n",
      "/root/.pyenv/versions/3.8.12/envs/mcats/lib/python3.8/site-packages/sklearn/linear_model/_logistic.py:1211: UserWarning: 'n_jobs' > 1 does not have any effect when 'solver' is set to 'liblinear'. Got 'n_jobs' = 8.\n",
      "  warnings.warn(\n"
     ]
    },
    {
     "name": "stdout",
     "output_type": "stream",
     "text": [
      "[CV] END ..................C=3, penalty=l2, solver=newton-cg; total time=   0.1s\n",
      "[CV] END ..................C=3, penalty=l2, solver=newton-cg; total time=   0.1s\n",
      "[CV] END ..................C=3, penalty=l2, solver=newton-cg; total time=   0.1s\n",
      "[CV] END ..................C=3, penalty=l2, solver=newton-cg; total time=   0.1s\n",
      "[CV] END ..................C=4, penalty=l1, solver=newton-cg; total time=   0.0s\n",
      "[CV] END ..................C=4, penalty=l1, solver=newton-cg; total time=   0.0s\n",
      "[CV] END ..................C=4, penalty=l1, solver=newton-cg; total time=   0.0s\n",
      "[CV] END ..................C=4, penalty=l1, solver=newton-cg; total time=   0.0s\n",
      "[CV] END ..................C=4, penalty=l1, solver=newton-cg; total time=   0.0s\n",
      "[CV] END ..............C=2, penalty=elasticnet, solver=lbfgs; total time=   0.0s\n",
      "[CV] END ..............C=2, penalty=elasticnet, solver=lbfgs; total time=   0.0s\n",
      "[CV] END ..............C=2, penalty=elasticnet, solver=lbfgs; total time=   0.0s\n",
      "[CV] END ..............C=2, penalty=elasticnet, solver=lbfgs; total time=   0.0s\n",
      "[CV] END ..............C=2, penalty=elasticnet, solver=lbfgs; total time=   0.0s\n",
      "[CV] END ..........C=1, penalty=elasticnet, solver=newton-cg; total time=   0.0s\n",
      "[CV] END ..........C=1, penalty=elasticnet, solver=newton-cg; total time=   0.0s\n",
      "[CV] END ..........C=1, penalty=elasticnet, solver=newton-cg; total time=   0.0s\n",
      "[CV] END ..........C=1, penalty=elasticnet, solver=newton-cg; total time=   0.0s\n",
      "[CV] END ..........C=1, penalty=elasticnet, solver=newton-cg; total time=   0.0s\n",
      "[CV] END ...............C=0, penalty=elasticnet, solver=saga; total time=   0.0s\n",
      "[CV] END ...............C=0, penalty=elasticnet, solver=saga; total time=   0.0s\n",
      "[CV] END ...............C=0, penalty=elasticnet, solver=saga; total time=   0.0s\n",
      "[CV] END ...............C=0, penalty=elasticnet, solver=saga; total time=   0.0s\n",
      "[CV] END ...............C=0, penalty=elasticnet, solver=saga; total time=   0.0s\n",
      "[CV] END ................C=1, penalty=elasticnet, solver=sag; total time=   0.0s\n",
      "[CV] END ................C=1, penalty=elasticnet, solver=sag; total time=   0.0s\n",
      "[CV] END ................C=1, penalty=elasticnet, solver=sag; total time=   0.0s\n",
      "[CV] END ................C=1, penalty=elasticnet, solver=sag; total time=   0.0s\n",
      "[CV] END ................C=1, penalty=elasticnet, solver=sag; total time=   0.0s\n",
      "[CV] END ...............C=0, penalty=elasticnet, solver=saga; total time=   0.0s\n",
      "[CV] END ...............C=0, penalty=elasticnet, solver=saga; total time=   0.0s\n",
      "[CV] END ...............C=0, penalty=elasticnet, solver=saga; total time=   0.0s\n",
      "[CV] END ...............C=0, penalty=elasticnet, solver=saga; total time=   0.0s\n",
      "[CV] END ...............C=0, penalty=elasticnet, solver=saga; total time=   0.0s\n",
      "[CV] END ..........C=1, penalty=elasticnet, solver=liblinear; total time=   0.0s\n",
      "[CV] END ..........C=1, penalty=elasticnet, solver=liblinear; total time=   0.0s\n",
      "[CV] END ..........C=1, penalty=elasticnet, solver=liblinear; total time=   0.0s\n",
      "[CV] END ..........C=1, penalty=elasticnet, solver=liblinear; total time=   0.0s\n",
      "[CV] END ..........C=1, penalty=elasticnet, solver=liblinear; total time=   0.0s\n",
      "[CV] END ..............C=4, penalty=elasticnet, solver=lbfgs; total time=   0.0s\n",
      "[CV] END ..............C=4, penalty=elasticnet, solver=lbfgs; total time=   0.0s\n",
      "[CV] END ..............C=4, penalty=elasticnet, solver=lbfgs; total time=   0.0s\n",
      "[CV] END ..............C=4, penalty=elasticnet, solver=lbfgs; total time=   0.0s\n",
      "[CV] END ..............C=4, penalty=elasticnet, solver=lbfgs; total time=   0.0s\n",
      "[CV] END .......................C=0, penalty=l2, solver=saga; total time=   0.0s\n",
      "[CV] END .......................C=0, penalty=l2, solver=saga; total time=   0.0s\n",
      "[CV] END .......................C=0, penalty=l2, solver=saga; total time=   0.0s\n",
      "[CV] END .......................C=0, penalty=l2, solver=saga; total time=   0.0s\n",
      "[CV] END .......................C=0, penalty=l2, solver=saga; total time=   0.0s\n",
      "[CV] END ............C=0, penalty=l2, solver=newton-cholesky; total time=   0.0s\n",
      "[CV] END ............C=0, penalty=l2, solver=newton-cholesky; total time=   0.0s\n",
      "[CV] END ............C=0, penalty=l2, solver=newton-cholesky; total time=   0.0s\n",
      "[CV] END ............C=0, penalty=l2, solver=newton-cholesky; total time=   0.0s\n",
      "[CV] END ............C=0, penalty=l2, solver=newton-cholesky; total time=   0.0s\n",
      "[CV] END .......................C=1, penalty=l2, solver=saga; total time=   0.3s\n",
      "[CV] END .......................C=1, penalty=l2, solver=saga; total time=   0.3s\n",
      "[CV] END .......................C=1, penalty=l2, solver=saga; total time=   0.3s\n",
      "[CV] END .......................C=1, penalty=l2, solver=saga; total time=   0.3s\n",
      "[CV] END .......................C=1, penalty=l2, solver=saga; total time=   0.3s\n",
      "[CV] END ............C=4, penalty=l1, solver=newton-cholesky; total time=   0.0s\n",
      "[CV] END ............C=4, penalty=l1, solver=newton-cholesky; total time=   0.0s\n",
      "[CV] END ............C=4, penalty=l1, solver=newton-cholesky; total time=   0.0s\n",
      "[CV] END ............C=4, penalty=l1, solver=newton-cholesky; total time=   0.0s\n",
      "[CV] END ............C=4, penalty=l1, solver=newton-cholesky; total time=   0.0s\n",
      "[CV] END ....................C=0, penalty=None, solver=lbfgs; total time=   0.0s\n",
      "[CV] END ....................C=0, penalty=None, solver=lbfgs; total time=   0.0s\n",
      "[CV] END ....................C=0, penalty=None, solver=lbfgs; total time=   0.0s\n",
      "[CV] END ....................C=0, penalty=None, solver=lbfgs; total time=   0.0s\n",
      "[CV] END ....................C=0, penalty=None, solver=lbfgs; total time=   0.0s\n",
      "[CV] END ..................C=3, penalty=l2, solver=newton-cg; total time=   0.1s\n",
      "[CV] END ..................C=3, penalty=l2, solver=newton-cg; total time=   0.1s\n",
      "[CV] END ..................C=3, penalty=l2, solver=newton-cg; total time=   0.1s\n",
      "[CV] END ..................C=3, penalty=l2, solver=newton-cg; total time=   0.1s\n",
      "[CV] END ..................C=3, penalty=l2, solver=newton-cg; total time=   0.1s\n",
      "[CV] END ......................C=4, penalty=l2, solver=lbfgs; total time=   0.1s\n",
      "[CV] END ......................C=4, penalty=l2, solver=lbfgs; total time=   0.1s\n",
      "[CV] END ......................C=4, penalty=l2, solver=lbfgs; total time=   0.1s\n",
      "[CV] END ......................C=4, penalty=l2, solver=lbfgs; total time=   0.1s\n",
      "[CV] END ......................C=4, penalty=l2, solver=lbfgs; total time=   0.1s\n",
      "[CV] END ............C=0, penalty=l2, solver=newton-cholesky; total time=   0.0s\n",
      "[CV] END ............C=0, penalty=l2, solver=newton-cholesky; total time=   0.0s\n",
      "[CV] END ............C=0, penalty=l2, solver=newton-cholesky; total time=   0.0s\n",
      "[CV] END ............C=0, penalty=l2, solver=newton-cholesky; total time=   0.0s\n",
      "[CV] END ............C=0, penalty=l2, solver=newton-cholesky; total time=   0.0s\n",
      "[CV] END .......................C=1, penalty=l2, solver=saga; total time=   0.3s\n",
      "[CV] END .......................C=1, penalty=l2, solver=saga; total time=   0.3s\n",
      "[CV] END .......................C=1, penalty=l2, solver=saga; total time=   0.3s\n",
      "[CV] END .......................C=1, penalty=l2, solver=saga; total time=   0.3s\n",
      "[CV] END .......................C=1, penalty=l2, solver=saga; total time=   0.3s\n",
      "[CV] END ...............C=0, penalty=elasticnet, solver=saga; total time=   0.0s\n",
      "[CV] END ...............C=0, penalty=elasticnet, solver=saga; total time=   0.0s\n",
      "[CV] END ...............C=0, penalty=elasticnet, solver=saga; total time=   0.0s\n",
      "[CV] END ...............C=0, penalty=elasticnet, solver=saga; total time=   0.0s\n",
      "[CV] END ...............C=0, penalty=elasticnet, solver=saga; total time=   0.0s\n",
      "[CV] END ..................C=0, penalty=l1, solver=newton-cg; total time=   0.0s\n",
      "[CV] END ..................C=0, penalty=l1, solver=newton-cg; total time=   0.0s\n",
      "[CV] END ..................C=0, penalty=l1, solver=newton-cg; total time=   0.0s\n",
      "[CV] END ..................C=0, penalty=l1, solver=newton-cg; total time=   0.0s\n",
      "[CV] END ..................C=0, penalty=l1, solver=newton-cg; total time=   0.0s\n",
      "[CV] END ..................C=3, penalty=l1, solver=newton-cg; total time=   0.0s\n",
      "[CV] END ..................C=3, penalty=l1, solver=newton-cg; total time=   0.0s\n",
      "[CV] END ..................C=3, penalty=l1, solver=newton-cg; total time=   0.0s\n",
      "[CV] END ..................C=3, penalty=l1, solver=newton-cg; total time=   0.0s\n",
      "[CV] END ..................C=3, penalty=l1, solver=newton-cg; total time=   0.0s\n",
      "[CV] END ............C=0, penalty=l2, solver=newton-cholesky; total time=   0.0s\n",
      "[CV] END ............C=0, penalty=l2, solver=newton-cholesky; total time=   0.0s\n",
      "[CV] END ............C=0, penalty=l2, solver=newton-cholesky; total time=   0.0s\n",
      "[CV] END ............C=0, penalty=l2, solver=newton-cholesky; total time=   0.0s\n",
      "[CV] END ............C=0, penalty=l2, solver=newton-cholesky; total time=   0.0s\n"
     ]
    },
    {
     "name": "stdout",
     "output_type": "stream",
     "text": [
      "[CV] END .......................C=3, penalty=l2, solver=saga; total time=   0.3s\n",
      "[CV] END .......................C=3, penalty=l2, solver=saga; total time=   0.3s\n",
      "[CV] END .......................C=3, penalty=l2, solver=saga; total time=   0.3s\n",
      "[CV] END .......................C=3, penalty=l2, solver=saga; total time=   0.3s\n",
      "[CV] END .......................C=3, penalty=l2, solver=saga; total time=   0.3s\n",
      "[CV] END ................C=1, penalty=elasticnet, solver=sag; total time=   0.0s\n",
      "[CV] END ................C=1, penalty=elasticnet, solver=sag; total time=   0.0s\n",
      "[CV] END ................C=1, penalty=elasticnet, solver=sag; total time=   0.0s\n",
      "[CV] END ................C=1, penalty=elasticnet, solver=sag; total time=   0.0s\n",
      "[CV] END ................C=1, penalty=elasticnet, solver=sag; total time=   0.0s\n",
      "[CV] END ......................C=3, penalty=l1, solver=lbfgs; total time=   0.0s\n",
      "[CV] END ......................C=3, penalty=l1, solver=lbfgs; total time=   0.0s\n",
      "[CV] END ......................C=3, penalty=l1, solver=lbfgs; total time=   0.0s\n",
      "[CV] END ......................C=3, penalty=l1, solver=lbfgs; total time=   0.0s\n",
      "[CV] END ......................C=3, penalty=l1, solver=lbfgs; total time=   0.0s\n"
     ]
    },
    {
     "name": "stderr",
     "output_type": "stream",
     "text": [
      "/root/.pyenv/versions/3.8.12/envs/mcats/lib/python3.8/site-packages/sklearn/linear_model/_logistic.py:1181: UserWarning: Setting penalty=None will ignore the C and l1_ratio parameters\n",
      "  warnings.warn(\n"
     ]
    },
    {
     "name": "stdout",
     "output_type": "stream",
     "text": [
      "[CV] END ................C=4, penalty=None, solver=newton-cg; total time=   3.3s\n"
     ]
    },
    {
     "name": "stderr",
     "output_type": "stream",
     "text": [
      "/root/.pyenv/versions/3.8.12/envs/mcats/lib/python3.8/site-packages/sklearn/linear_model/_logistic.py:1181: UserWarning: Setting penalty=None will ignore the C and l1_ratio parameters\n",
      "  warnings.warn(\n"
     ]
    },
    {
     "name": "stdout",
     "output_type": "stream",
     "text": [
      "[CV] END ................C=4, penalty=None, solver=newton-cg; total time=   5.6s\n"
     ]
    },
    {
     "name": "stderr",
     "output_type": "stream",
     "text": [
      "/root/.pyenv/versions/3.8.12/envs/mcats/lib/python3.8/site-packages/sklearn/linear_model/_logistic.py:1181: UserWarning: Setting penalty=None will ignore the C and l1_ratio parameters\n",
      "  warnings.warn(\n"
     ]
    },
    {
     "name": "stdout",
     "output_type": "stream",
     "text": [
      "[CV] END ................C=4, penalty=None, solver=newton-cg; total time=   3.2s\n"
     ]
    },
    {
     "name": "stderr",
     "output_type": "stream",
     "text": [
      "/root/.pyenv/versions/3.8.12/envs/mcats/lib/python3.8/site-packages/sklearn/linear_model/_logistic.py:1181: UserWarning: Setting penalty=None will ignore the C and l1_ratio parameters\n",
      "  warnings.warn(\n"
     ]
    },
    {
     "name": "stdout",
     "output_type": "stream",
     "text": [
      "[CV] END ................C=4, penalty=None, solver=newton-cg; total time=   3.8s\n"
     ]
    },
    {
     "name": "stderr",
     "output_type": "stream",
     "text": [
      "/root/.pyenv/versions/3.8.12/envs/mcats/lib/python3.8/site-packages/sklearn/linear_model/_logistic.py:1181: UserWarning: Setting penalty=None will ignore the C and l1_ratio parameters\n",
      "  warnings.warn(\n"
     ]
    },
    {
     "name": "stdout",
     "output_type": "stream",
     "text": [
      "[CV] END ................C=4, penalty=None, solver=newton-cg; total time=   4.0s\n",
      "[CV] END ..........C=4, penalty=elasticnet, solver=newton-cg; total time=   0.0s\n",
      "[CV] END ..........C=4, penalty=elasticnet, solver=newton-cg; total time=   0.0s\n",
      "[CV] END ..........C=4, penalty=elasticnet, solver=newton-cg; total time=   0.0s\n",
      "[CV] END ..........C=4, penalty=elasticnet, solver=newton-cg; total time=   0.0s\n",
      "[CV] END ..........C=4, penalty=elasticnet, solver=newton-cg; total time=   0.0s\n",
      "[CV] END ............C=0, penalty=l2, solver=newton-cholesky; total time=   0.0s\n",
      "[CV] END ............C=0, penalty=l2, solver=newton-cholesky; total time=   0.0s\n",
      "[CV] END ............C=0, penalty=l2, solver=newton-cholesky; total time=   0.0s\n",
      "[CV] END ............C=0, penalty=l2, solver=newton-cholesky; total time=   0.0s\n",
      "[CV] END ............C=0, penalty=l2, solver=newton-cholesky; total time=   0.0s\n",
      "[CV] END ........................C=0, penalty=l1, solver=sag; total time=   0.0s\n",
      "[CV] END ........................C=0, penalty=l1, solver=sag; total time=   0.0s\n",
      "[CV] END ........................C=0, penalty=l1, solver=sag; total time=   0.0s\n",
      "[CV] END ........................C=0, penalty=l1, solver=sag; total time=   0.0s\n",
      "[CV] END ........................C=0, penalty=l1, solver=sag; total time=   0.0s\n",
      "[CV] END ................C=2, penalty=None, solver=liblinear; total time=   0.0s\n",
      "[CV] END ................C=2, penalty=None, solver=liblinear; total time=   0.0s\n",
      "[CV] END ................C=2, penalty=None, solver=liblinear; total time=   0.0s\n",
      "[CV] END ................C=2, penalty=None, solver=liblinear; total time=   0.0s\n",
      "[CV] END ................C=2, penalty=None, solver=liblinear; total time=   0.0s\n",
      "[CV] END ............C=0, penalty=l1, solver=newton-cholesky; total time=   0.0s\n",
      "[CV] END ............C=0, penalty=l1, solver=newton-cholesky; total time=   0.0s\n",
      "[CV] END ............C=0, penalty=l1, solver=newton-cholesky; total time=   0.0s\n",
      "[CV] END ............C=0, penalty=l1, solver=newton-cholesky; total time=   0.0s\n",
      "[CV] END ............C=0, penalty=l1, solver=newton-cholesky; total time=   0.0s\n",
      "[CV] END ..................C=0, penalty=l2, solver=newton-cg; total time=   0.0s\n",
      "[CV] END ..................C=0, penalty=l2, solver=newton-cg; total time=   0.0s\n",
      "[CV] END ..................C=0, penalty=l2, solver=newton-cg; total time=   0.0s\n",
      "[CV] END ..................C=0, penalty=l2, solver=newton-cg; total time=   0.0s\n",
      "[CV] END ..................C=0, penalty=l2, solver=newton-cg; total time=   0.0s\n",
      "[CV] END ............C=4, penalty=l1, solver=newton-cholesky; total time=   0.0s\n",
      "[CV] END ............C=4, penalty=l1, solver=newton-cholesky; total time=   0.0s\n",
      "[CV] END ............C=4, penalty=l1, solver=newton-cholesky; total time=   0.0s\n",
      "[CV] END ............C=4, penalty=l1, solver=newton-cholesky; total time=   0.0s\n",
      "[CV] END ............C=4, penalty=l1, solver=newton-cholesky; total time=   0.0s\n",
      "[CV] END ..........C=3, penalty=None, solver=newton-cholesky; total time=   0.0s\n",
      "[CV] END ..........C=3, penalty=None, solver=newton-cholesky; total time=   0.1s\n",
      "[CV] END ..........C=3, penalty=None, solver=newton-cholesky; total time=   0.0s\n"
     ]
    },
    {
     "name": "stderr",
     "output_type": "stream",
     "text": [
      "/root/.pyenv/versions/3.8.12/envs/mcats/lib/python3.8/site-packages/sklearn/linear_model/_logistic.py:1181: UserWarning: Setting penalty=None will ignore the C and l1_ratio parameters\n",
      "  warnings.warn(\n",
      "/root/.pyenv/versions/3.8.12/envs/mcats/lib/python3.8/site-packages/sklearn/linear_model/_logistic.py:1211: UserWarning: 'n_jobs' > 1 does not have any effect when 'solver' is set to 'liblinear'. Got 'n_jobs' = 8.\n",
      "  warnings.warn(\n",
      "/root/.pyenv/versions/3.8.12/envs/mcats/lib/python3.8/site-packages/sklearn/linear_model/_logistic.py:1181: UserWarning: Setting penalty=None will ignore the C and l1_ratio parameters\n",
      "  warnings.warn(\n",
      "/root/.pyenv/versions/3.8.12/envs/mcats/lib/python3.8/site-packages/sklearn/linear_model/_logistic.py:1211: UserWarning: 'n_jobs' > 1 does not have any effect when 'solver' is set to 'liblinear'. Got 'n_jobs' = 8.\n",
      "  warnings.warn(\n",
      "/root/.pyenv/versions/3.8.12/envs/mcats/lib/python3.8/site-packages/sklearn/linear_model/_logistic.py:1181: UserWarning: Setting penalty=None will ignore the C and l1_ratio parameters\n",
      "  warnings.warn(\n",
      "/root/.pyenv/versions/3.8.12/envs/mcats/lib/python3.8/site-packages/sklearn/linear_model/_logistic.py:1211: UserWarning: 'n_jobs' > 1 does not have any effect when 'solver' is set to 'liblinear'. Got 'n_jobs' = 8.\n",
      "  warnings.warn(\n",
      "/root/.pyenv/versions/3.8.12/envs/mcats/lib/python3.8/site-packages/sklearn/linear_model/_logistic.py:1181: UserWarning: Setting penalty=None will ignore the C and l1_ratio parameters\n",
      "  warnings.warn(\n",
      "/root/.pyenv/versions/3.8.12/envs/mcats/lib/python3.8/site-packages/sklearn/linear_model/_logistic.py:1211: UserWarning: 'n_jobs' > 1 does not have any effect when 'solver' is set to 'liblinear'. Got 'n_jobs' = 8.\n",
      "  warnings.warn(\n",
      "/root/.pyenv/versions/3.8.12/envs/mcats/lib/python3.8/site-packages/sklearn/linear_model/_logistic.py:1181: UserWarning: Setting penalty=None will ignore the C and l1_ratio parameters\n",
      "  warnings.warn(\n",
      "/root/.pyenv/versions/3.8.12/envs/mcats/lib/python3.8/site-packages/sklearn/linear_model/_logistic.py:1211: UserWarning: 'n_jobs' > 1 does not have any effect when 'solver' is set to 'liblinear'. Got 'n_jobs' = 8.\n",
      "  warnings.warn(\n",
      "/root/.pyenv/versions/3.8.12/envs/mcats/lib/python3.8/site-packages/sklearn/linear_model/_logistic.py:1181: UserWarning: Setting penalty=None will ignore the C and l1_ratio parameters\n",
      "  warnings.warn(\n",
      "/root/.pyenv/versions/3.8.12/envs/mcats/lib/python3.8/site-packages/sklearn/linear_model/_logistic.py:1181: UserWarning: Setting penalty=None will ignore the C and l1_ratio parameters\n",
      "  warnings.warn(\n",
      "/root/.pyenv/versions/3.8.12/envs/mcats/lib/python3.8/site-packages/sklearn/linear_model/_logistic.py:1181: UserWarning: Setting penalty=None will ignore the C and l1_ratio parameters\n",
      "  warnings.warn(\n",
      "/root/.pyenv/versions/3.8.12/envs/mcats/lib/python3.8/site-packages/sklearn/linear_model/_logistic.py:1181: UserWarning: Setting penalty=None will ignore the C and l1_ratio parameters\n",
      "  warnings.warn(\n"
     ]
    },
    {
     "name": "stdout",
     "output_type": "stream",
     "text": [
      "[CV] END ..........C=3, penalty=None, solver=newton-cholesky; total time=   0.0s\n",
      "[CV] END ..........C=3, penalty=None, solver=newton-cholesky; total time=   0.0s\n",
      "[CV] END ..........C=2, penalty=None, solver=newton-cholesky; total time=   0.0s\n",
      "[CV] END ..........C=2, penalty=None, solver=newton-cholesky; total time=   0.0s\n",
      "[CV] END ..........C=2, penalty=None, solver=newton-cholesky; total time=   0.0s\n",
      "[CV] END ..........C=2, penalty=None, solver=newton-cholesky; total time=   0.0s\n"
     ]
    },
    {
     "name": "stderr",
     "output_type": "stream",
     "text": [
      "/root/.pyenv/versions/3.8.12/envs/mcats/lib/python3.8/site-packages/sklearn/linear_model/_logistic.py:1181: UserWarning: Setting penalty=None will ignore the C and l1_ratio parameters\n",
      "  warnings.warn(\n",
      "/root/.pyenv/versions/3.8.12/envs/mcats/lib/python3.8/site-packages/sklearn/linear_model/_logistic.py:1181: UserWarning: Setting penalty=None will ignore the C and l1_ratio parameters\n",
      "  warnings.warn(\n",
      "/root/.pyenv/versions/3.8.12/envs/mcats/lib/python3.8/site-packages/sklearn/linear_model/_logistic.py:1181: UserWarning: Setting penalty=None will ignore the C and l1_ratio parameters\n",
      "  warnings.warn(\n",
      "/root/.pyenv/versions/3.8.12/envs/mcats/lib/python3.8/site-packages/sklearn/linear_model/_logistic.py:1181: UserWarning: Setting penalty=None will ignore the C and l1_ratio parameters\n",
      "  warnings.warn(\n",
      "/root/.pyenv/versions/3.8.12/envs/mcats/lib/python3.8/site-packages/sklearn/linear_model/_logistic.py:1181: UserWarning: Setting penalty=None will ignore the C and l1_ratio parameters\n",
      "  warnings.warn(\n",
      "/root/.pyenv/versions/3.8.12/envs/mcats/lib/python3.8/site-packages/sklearn/linear_model/_logistic.py:1181: UserWarning: Setting penalty=None will ignore the C and l1_ratio parameters\n",
      "  warnings.warn(\n"
     ]
    },
    {
     "name": "stdout",
     "output_type": "stream",
     "text": [
      "[CV] END ..........C=2, penalty=None, solver=newton-cholesky; total time=   0.0s\n"
     ]
    },
    {
     "name": "stderr",
     "output_type": "stream",
     "text": [
      "/root/.pyenv/versions/3.8.12/envs/mcats/lib/python3.8/site-packages/sklearn/linear_model/_logistic.py:1181: UserWarning: Setting penalty=None will ignore the C and l1_ratio parameters\n",
      "  warnings.warn(\n"
     ]
    },
    {
     "name": "stdout",
     "output_type": "stream",
     "text": [
      "[CV] END ................C=4, penalty=None, solver=newton-cg; total time=   3.4s\n"
     ]
    },
    {
     "name": "stderr",
     "output_type": "stream",
     "text": [
      "/root/.pyenv/versions/3.8.12/envs/mcats/lib/python3.8/site-packages/sklearn/linear_model/_logistic.py:1181: UserWarning: Setting penalty=None will ignore the C and l1_ratio parameters\n",
      "  warnings.warn(\n"
     ]
    },
    {
     "name": "stdout",
     "output_type": "stream",
     "text": [
      "[CV] END ................C=4, penalty=None, solver=newton-cg; total time=   5.8s\n"
     ]
    },
    {
     "name": "stderr",
     "output_type": "stream",
     "text": [
      "/root/.pyenv/versions/3.8.12/envs/mcats/lib/python3.8/site-packages/sklearn/linear_model/_logistic.py:1181: UserWarning: Setting penalty=None will ignore the C and l1_ratio parameters\n",
      "  warnings.warn(\n"
     ]
    },
    {
     "name": "stdout",
     "output_type": "stream",
     "text": [
      "[CV] END ................C=4, penalty=None, solver=newton-cg; total time=   3.4s\n"
     ]
    },
    {
     "name": "stderr",
     "output_type": "stream",
     "text": [
      "/root/.pyenv/versions/3.8.12/envs/mcats/lib/python3.8/site-packages/sklearn/linear_model/_logistic.py:1181: UserWarning: Setting penalty=None will ignore the C and l1_ratio parameters\n",
      "  warnings.warn(\n"
     ]
    },
    {
     "name": "stdout",
     "output_type": "stream",
     "text": [
      "[CV] END ................C=4, penalty=None, solver=newton-cg; total time=   3.9s\n"
     ]
    },
    {
     "name": "stderr",
     "output_type": "stream",
     "text": [
      "/root/.pyenv/versions/3.8.12/envs/mcats/lib/python3.8/site-packages/sklearn/linear_model/_logistic.py:1181: UserWarning: Setting penalty=None will ignore the C and l1_ratio parameters\n",
      "  warnings.warn(\n"
     ]
    },
    {
     "name": "stdout",
     "output_type": "stream",
     "text": [
      "[CV] END ................C=4, penalty=None, solver=newton-cg; total time=   4.0s\n",
      "[CV] END ......................C=4, penalty=l1, solver=lbfgs; total time=   0.0s\n",
      "[CV] END ......................C=4, penalty=l1, solver=lbfgs; total time=   0.0s\n",
      "[CV] END ......................C=4, penalty=l1, solver=lbfgs; total time=   0.0s\n",
      "[CV] END ......................C=4, penalty=l1, solver=lbfgs; total time=   0.0s\n",
      "[CV] END ......................C=4, penalty=l1, solver=lbfgs; total time=   0.0s\n",
      "[CV] END ....................C=3, penalty=None, solver=lbfgs; total time=   0.1s\n",
      "[CV] END ....................C=3, penalty=None, solver=lbfgs; total time=   0.1s\n",
      "[CV] END ....................C=3, penalty=None, solver=lbfgs; total time=   0.1s\n"
     ]
    },
    {
     "name": "stderr",
     "output_type": "stream",
     "text": [
      "/root/.pyenv/versions/3.8.12/envs/mcats/lib/python3.8/site-packages/sklearn/linear_model/_logistic.py:1181: UserWarning: Setting penalty=None will ignore the C and l1_ratio parameters\n",
      "  warnings.warn(\n",
      "/root/.pyenv/versions/3.8.12/envs/mcats/lib/python3.8/site-packages/sklearn/linear_model/_logistic.py:1181: UserWarning: Setting penalty=None will ignore the C and l1_ratio parameters\n",
      "  warnings.warn(\n",
      "/root/.pyenv/versions/3.8.12/envs/mcats/lib/python3.8/site-packages/sklearn/linear_model/_logistic.py:1181: UserWarning: Setting penalty=None will ignore the C and l1_ratio parameters\n",
      "  warnings.warn(\n",
      "/root/.pyenv/versions/3.8.12/envs/mcats/lib/python3.8/site-packages/sklearn/linear_model/_logistic.py:1181: UserWarning: Setting penalty=None will ignore the C and l1_ratio parameters\n",
      "  warnings.warn(\n"
     ]
    },
    {
     "name": "stdout",
     "output_type": "stream",
     "text": [
      "[CV] END ....................C=3, penalty=None, solver=lbfgs; total time=   0.1s\n",
      "[CV] END ....................C=3, penalty=None, solver=lbfgs; total time=   0.1s\n"
     ]
    },
    {
     "name": "stderr",
     "output_type": "stream",
     "text": [
      "/root/.pyenv/versions/3.8.12/envs/mcats/lib/python3.8/site-packages/sklearn/linear_model/_logistic.py:1181: UserWarning: Setting penalty=None will ignore the C and l1_ratio parameters\n",
      "  warnings.warn(\n"
     ]
    },
    {
     "name": "stdout",
     "output_type": "stream",
     "text": [
      "[CV] END .......................C=3, penalty=l2, solver=saga; total time=   0.3s\n",
      "[CV] END .......................C=3, penalty=l2, solver=saga; total time=   0.3s\n",
      "[CV] END .......................C=3, penalty=l2, solver=saga; total time=   0.3s\n",
      "[CV] END .......................C=3, penalty=l2, solver=saga; total time=   0.3s\n",
      "[CV] END .......................C=3, penalty=l2, solver=saga; total time=   0.3s\n",
      "[CV] END ....................C=1, penalty=None, solver=lbfgs; total time=   0.1s\n",
      "[CV] END ....................C=1, penalty=None, solver=lbfgs; total time=   0.1s\n",
      "[CV] END ....................C=1, penalty=None, solver=lbfgs; total time=   0.1s\n",
      "[CV] END ....................C=1, penalty=None, solver=lbfgs; total time=   0.1s\n",
      "[CV] END ....................C=1, penalty=None, solver=lbfgs; total time=   0.1s\n",
      "[CV] END ..........C=2, penalty=elasticnet, solver=newton-cg; total time=   0.0s\n",
      "[CV] END ..........C=2, penalty=elasticnet, solver=newton-cg; total time=   0.0s\n",
      "[CV] END ..........C=2, penalty=elasticnet, solver=newton-cg; total time=   0.0s\n",
      "[CV] END ..........C=2, penalty=elasticnet, solver=newton-cg; total time=   0.0s\n",
      "[CV] END ..........C=2, penalty=elasticnet, solver=newton-cg; total time=   0.0s\n",
      "[CV] END ..........C=0, penalty=elasticnet, solver=liblinear; total time=   0.0s\n",
      "[CV] END ..........C=0, penalty=elasticnet, solver=liblinear; total time=   0.0s\n",
      "[CV] END ..........C=0, penalty=elasticnet, solver=liblinear; total time=   0.0s\n",
      "[CV] END ..........C=0, penalty=elasticnet, solver=liblinear; total time=   0.0s\n",
      "[CV] END ..........C=0, penalty=elasticnet, solver=liblinear; total time=   0.0s\n",
      "[CV] END ........................C=4, penalty=l1, solver=sag; total time=   0.0s\n",
      "[CV] END ........................C=4, penalty=l1, solver=sag; total time=   0.0s\n",
      "[CV] END ........................C=4, penalty=l1, solver=sag; total time=   0.0s\n",
      "[CV] END ........................C=4, penalty=l1, solver=sag; total time=   0.0s\n",
      "[CV] END ........................C=4, penalty=l1, solver=sag; total time=   0.0s\n",
      "[CV] END ..........C=4, penalty=elasticnet, solver=liblinear; total time=   0.0s\n",
      "[CV] END ..........C=4, penalty=elasticnet, solver=liblinear; total time=   0.0s\n",
      "[CV] END ..........C=4, penalty=elasticnet, solver=liblinear; total time=   0.0s\n",
      "[CV] END ..........C=4, penalty=elasticnet, solver=liblinear; total time=   0.0s\n",
      "[CV] END ..........C=4, penalty=elasticnet, solver=liblinear; total time=   0.0s\n",
      "[CV] END ........................C=3, penalty=l2, solver=sag; total time=   0.2s\n",
      "[CV] END ........................C=3, penalty=l2, solver=sag; total time=   0.2s\n",
      "[CV] END ........................C=3, penalty=l2, solver=sag; total time=   0.2s\n",
      "[CV] END ........................C=3, penalty=l2, solver=sag; total time=   0.2s\n",
      "[CV] END ........................C=3, penalty=l2, solver=sag; total time=   0.2s\n",
      "[CV] END ...............C=1, penalty=elasticnet, solver=saga; total time=   0.1s\n",
      "[CV] END ...............C=1, penalty=elasticnet, solver=saga; total time=   0.7s\n",
      "[CV] END ...............C=1, penalty=elasticnet, solver=saga; total time=   0.7s\n",
      "[CV] END ...............C=1, penalty=elasticnet, solver=saga; total time=   0.8s\n",
      "[CV] END ...............C=1, penalty=elasticnet, solver=saga; total time=   0.6s\n",
      "[CV] END ..............C=1, penalty=elasticnet, solver=lbfgs; total time=   0.0s\n",
      "[CV] END ..............C=1, penalty=elasticnet, solver=lbfgs; total time=   0.0s\n",
      "[CV] END ..............C=1, penalty=elasticnet, solver=lbfgs; total time=   0.0s\n",
      "[CV] END ..............C=1, penalty=elasticnet, solver=lbfgs; total time=   0.0s\n",
      "[CV] END ..............C=1, penalty=elasticnet, solver=lbfgs; total time=   0.0s\n",
      "[CV] END ................C=0, penalty=elasticnet, solver=sag; total time=   0.0s\n",
      "[CV] END ................C=0, penalty=elasticnet, solver=sag; total time=   0.0s\n",
      "[CV] END ................C=0, penalty=elasticnet, solver=sag; total time=   0.0s\n",
      "[CV] END ................C=0, penalty=elasticnet, solver=sag; total time=   0.0s\n",
      "[CV] END ................C=0, penalty=elasticnet, solver=sag; total time=   0.0s\n",
      "[CV] END ..............C=1, penalty=elasticnet, solver=lbfgs; total time=   0.0s\n",
      "[CV] END ..............C=1, penalty=elasticnet, solver=lbfgs; total time=   0.0s\n",
      "[CV] END ..............C=1, penalty=elasticnet, solver=lbfgs; total time=   0.0s\n",
      "[CV] END ..............C=1, penalty=elasticnet, solver=lbfgs; total time=   0.0s\n",
      "[CV] END ..............C=1, penalty=elasticnet, solver=lbfgs; total time=   0.0s\n",
      "[CV] END ................C=0, penalty=None, solver=liblinear; total time=   0.0s\n",
      "[CV] END ................C=0, penalty=None, solver=liblinear; total time=   0.0s\n",
      "[CV] END ................C=0, penalty=None, solver=liblinear; total time=   0.0s\n",
      "[CV] END ................C=0, penalty=None, solver=liblinear; total time=   0.0s\n",
      "[CV] END ................C=0, penalty=None, solver=liblinear; total time=   0.0s\n",
      "[CV] END ............C=0, penalty=l1, solver=newton-cholesky; total time=   0.0s\n",
      "[CV] END ............C=0, penalty=l1, solver=newton-cholesky; total time=   0.0s\n",
      "[CV] END ............C=0, penalty=l1, solver=newton-cholesky; total time=   0.0s\n",
      "[CV] END ............C=0, penalty=l1, solver=newton-cholesky; total time=   0.0s\n",
      "[CV] END ............C=0, penalty=l1, solver=newton-cholesky; total time=   0.0s\n"
     ]
    },
    {
     "name": "stderr",
     "output_type": "stream",
     "text": [
      "/root/.pyenv/versions/3.8.12/envs/mcats/lib/python3.8/site-packages/sklearn/linear_model/_logistic.py:1181: UserWarning: Setting penalty=None will ignore the C and l1_ratio parameters\n",
      "  warnings.warn(\n"
     ]
    },
    {
     "name": "stdout",
     "output_type": "stream",
     "text": [
      "[CV] END ......................C=2, penalty=None, solver=sag; total time=   0.9s\n"
     ]
    },
    {
     "name": "stderr",
     "output_type": "stream",
     "text": [
      "/root/.pyenv/versions/3.8.12/envs/mcats/lib/python3.8/site-packages/sklearn/linear_model/_logistic.py:1181: UserWarning: Setting penalty=None will ignore the C and l1_ratio parameters\n",
      "  warnings.warn(\n"
     ]
    },
    {
     "name": "stdout",
     "output_type": "stream",
     "text": [
      "[CV] END ......................C=2, penalty=None, solver=sag; total time=   0.5s\n"
     ]
    },
    {
     "name": "stderr",
     "output_type": "stream",
     "text": [
      "/root/.pyenv/versions/3.8.12/envs/mcats/lib/python3.8/site-packages/sklearn/linear_model/_logistic.py:1181: UserWarning: Setting penalty=None will ignore the C and l1_ratio parameters\n",
      "  warnings.warn(\n"
     ]
    },
    {
     "name": "stdout",
     "output_type": "stream",
     "text": [
      "[CV] END ......................C=2, penalty=None, solver=sag; total time=   0.5s\n"
     ]
    },
    {
     "name": "stderr",
     "output_type": "stream",
     "text": [
      "/root/.pyenv/versions/3.8.12/envs/mcats/lib/python3.8/site-packages/sklearn/linear_model/_logistic.py:1181: UserWarning: Setting penalty=None will ignore the C and l1_ratio parameters\n",
      "  warnings.warn(\n"
     ]
    },
    {
     "name": "stdout",
     "output_type": "stream",
     "text": [
      "[CV] END ......................C=2, penalty=None, solver=sag; total time=   0.6s\n"
     ]
    },
    {
     "name": "stderr",
     "output_type": "stream",
     "text": [
      "/root/.pyenv/versions/3.8.12/envs/mcats/lib/python3.8/site-packages/sklearn/linear_model/_logistic.py:1181: UserWarning: Setting penalty=None will ignore the C and l1_ratio parameters\n",
      "  warnings.warn(\n"
     ]
    },
    {
     "name": "stdout",
     "output_type": "stream",
     "text": [
      "[CV] END ......................C=2, penalty=None, solver=sag; total time=   1.0s\n"
     ]
    },
    {
     "name": "stderr",
     "output_type": "stream",
     "text": [
      "/root/.pyenv/versions/3.8.12/envs/mcats/lib/python3.8/site-packages/sklearn/linear_model/_logistic.py:1181: UserWarning: Setting penalty=None will ignore the C and l1_ratio parameters\n",
      "  warnings.warn(\n"
     ]
    },
    {
     "name": "stdout",
     "output_type": "stream",
     "text": [
      "[CV] END ....................C=4, penalty=None, solver=lbfgs; total time=   0.4s\n"
     ]
    },
    {
     "name": "stderr",
     "output_type": "stream",
     "text": [
      "/root/.pyenv/versions/3.8.12/envs/mcats/lib/python3.8/site-packages/sklearn/linear_model/_logistic.py:1181: UserWarning: Setting penalty=None will ignore the C and l1_ratio parameters\n",
      "  warnings.warn(\n"
     ]
    },
    {
     "name": "stdout",
     "output_type": "stream",
     "text": [
      "[CV] END ....................C=4, penalty=None, solver=lbfgs; total time=   0.4s\n"
     ]
    },
    {
     "name": "stderr",
     "output_type": "stream",
     "text": [
      "/root/.pyenv/versions/3.8.12/envs/mcats/lib/python3.8/site-packages/sklearn/linear_model/_logistic.py:1181: UserWarning: Setting penalty=None will ignore the C and l1_ratio parameters\n",
      "  warnings.warn(\n"
     ]
    },
    {
     "name": "stdout",
     "output_type": "stream",
     "text": [
      "[CV] END ....................C=4, penalty=None, solver=lbfgs; total time=   0.4s\n",
      "[CV] END ....................C=4, penalty=None, solver=lbfgs; total time=   0.1s\n",
      "[CV] END ....................C=4, penalty=None, solver=lbfgs; total time=   0.1s\n",
      "[CV] END ........................C=0, penalty=l1, solver=sag; total time=   0.0s\n",
      "[CV] END ........................C=0, penalty=l1, solver=sag; total time=   0.0s\n",
      "[CV] END ........................C=0, penalty=l1, solver=sag; total time=   0.0s\n",
      "[CV] END ........................C=0, penalty=l1, solver=sag; total time=   0.0s\n",
      "[CV] END ........................C=0, penalty=l1, solver=sag; total time=   0.0s\n"
     ]
    },
    {
     "name": "stderr",
     "output_type": "stream",
     "text": [
      "/root/.pyenv/versions/3.8.12/envs/mcats/lib/python3.8/site-packages/sklearn/linear_model/_logistic.py:1181: UserWarning: Setting penalty=None will ignore the C and l1_ratio parameters\n",
      "  warnings.warn(\n",
      "/root/.pyenv/versions/3.8.12/envs/mcats/lib/python3.8/site-packages/sklearn/linear_model/_logistic.py:1181: UserWarning: Setting penalty=None will ignore the C and l1_ratio parameters\n",
      "  warnings.warn(\n",
      "/root/.pyenv/versions/3.8.12/envs/mcats/lib/python3.8/site-packages/sklearn/model_selection/_validation.py:378: FitFailedWarning: \n",
      "295 fits failed out of a total of 500.\n",
      "The score on these train-test partitions for these parameters will be set to nan.\n",
      "If these failures are not expected, you can try to debug them by setting error_score='raise'.\n",
      "\n",
      "Below are more details about the failures:\n",
      "--------------------------------------------------------------------------------\n",
      "15 fits failed with the following error:\n",
      "Traceback (most recent call last):\n",
      "  File \"/root/.pyenv/versions/3.8.12/envs/mcats/lib/python3.8/site-packages/sklearn/model_selection/_validation.py\", line 686, in _fit_and_score\n",
      "    estimator.fit(X_train, y_train, **fit_params)\n",
      "  File \"/root/.pyenv/versions/3.8.12/envs/mcats/lib/python3.8/site-packages/sklearn/linear_model/_logistic.py\", line 1162, in fit\n",
      "    solver = _check_solver(self.solver, self.penalty, self.dual)\n",
      "  File \"/root/.pyenv/versions/3.8.12/envs/mcats/lib/python3.8/site-packages/sklearn/linear_model/_logistic.py\", line 54, in _check_solver\n",
      "    raise ValueError(\n",
      "ValueError: Solver lbfgs supports only 'l2' or 'none' penalties, got l1 penalty.\n",
      "\n",
      "--------------------------------------------------------------------------------\n",
      "130 fits failed with the following error:\n",
      "Traceback (most recent call last):\n",
      "  File \"/root/.pyenv/versions/3.8.12/envs/mcats/lib/python3.8/site-packages/sklearn/model_selection/_validation.py\", line 686, in _fit_and_score\n",
      "    estimator.fit(X_train, y_train, **fit_params)\n",
      "  File \"/root/.pyenv/versions/3.8.12/envs/mcats/lib/python3.8/site-packages/sklearn/linear_model/_logistic.py\", line 1160, in fit\n",
      "    self._validate_params()\n",
      "  File \"/root/.pyenv/versions/3.8.12/envs/mcats/lib/python3.8/site-packages/sklearn/base.py\", line 581, in _validate_params\n",
      "    validate_parameter_constraints(\n",
      "  File \"/root/.pyenv/versions/3.8.12/envs/mcats/lib/python3.8/site-packages/sklearn/utils/_param_validation.py\", line 97, in validate_parameter_constraints\n",
      "    raise InvalidParameterError(\n",
      "sklearn.utils._param_validation.InvalidParameterError: The 'C' parameter of LogisticRegression must be a float in the range (0, inf]. Got 0 instead.\n",
      "\n",
      "--------------------------------------------------------------------------------\n",
      "15 fits failed with the following error:\n",
      "Traceback (most recent call last):\n",
      "  File \"/root/.pyenv/versions/3.8.12/envs/mcats/lib/python3.8/site-packages/sklearn/model_selection/_validation.py\", line 686, in _fit_and_score\n",
      "    estimator.fit(X_train, y_train, **fit_params)\n",
      "  File \"/root/.pyenv/versions/3.8.12/envs/mcats/lib/python3.8/site-packages/sklearn/linear_model/_logistic.py\", line 1162, in fit\n",
      "    solver = _check_solver(self.solver, self.penalty, self.dual)\n",
      "  File \"/root/.pyenv/versions/3.8.12/envs/mcats/lib/python3.8/site-packages/sklearn/linear_model/_logistic.py\", line 64, in _check_solver\n",
      "    raise ValueError(\n",
      "ValueError: Only 'saga' solver supports elasticnet penalty, got solver=liblinear.\n",
      "\n",
      "--------------------------------------------------------------------------------\n",
      "15 fits failed with the following error:\n",
      "Traceback (most recent call last):\n",
      "  File \"/root/.pyenv/versions/3.8.12/envs/mcats/lib/python3.8/site-packages/sklearn/model_selection/_validation.py\", line 686, in _fit_and_score\n",
      "    estimator.fit(X_train, y_train, **fit_params)\n",
      "  File \"/root/.pyenv/versions/3.8.12/envs/mcats/lib/python3.8/site-packages/sklearn/linear_model/_logistic.py\", line 1162, in fit\n",
      "    solver = _check_solver(self.solver, self.penalty, self.dual)\n",
      "  File \"/root/.pyenv/versions/3.8.12/envs/mcats/lib/python3.8/site-packages/sklearn/linear_model/_logistic.py\", line 54, in _check_solver\n",
      "    raise ValueError(\n",
      "ValueError: Solver newton-cholesky supports only 'l2' or 'none' penalties, got l1 penalty.\n",
      "\n",
      "--------------------------------------------------------------------------------\n",
      "20 fits failed with the following error:\n",
      "Traceback (most recent call last):\n",
      "  File \"/root/.pyenv/versions/3.8.12/envs/mcats/lib/python3.8/site-packages/sklearn/model_selection/_validation.py\", line 686, in _fit_and_score\n",
      "    estimator.fit(X_train, y_train, **fit_params)\n",
      "  File \"/root/.pyenv/versions/3.8.12/envs/mcats/lib/python3.8/site-packages/sklearn/linear_model/_logistic.py\", line 1162, in fit\n",
      "    solver = _check_solver(self.solver, self.penalty, self.dual)\n",
      "  File \"/root/.pyenv/versions/3.8.12/envs/mcats/lib/python3.8/site-packages/sklearn/linear_model/_logistic.py\", line 54, in _check_solver\n",
      "    raise ValueError(\n",
      "ValueError: Solver sag supports only 'l2' or 'none' penalties, got elasticnet penalty.\n",
      "\n",
      "--------------------------------------------------------------------------------\n",
      "10 fits failed with the following error:\n",
      "joblib.externals.loky.process_executor._RemoteTraceback: \n",
      "\"\"\"\n",
      "Traceback (most recent call last):\n",
      "  File \"/root/.pyenv/versions/3.8.12/envs/mcats/lib/python3.8/site-packages/joblib/externals/loky/process_executor.py\", line 428, in _process_worker\n",
      "    r = call_item()\n",
      "  File \"/root/.pyenv/versions/3.8.12/envs/mcats/lib/python3.8/site-packages/joblib/externals/loky/process_executor.py\", line 275, in __call__\n",
      "    return self.fn(*self.args, **self.kwargs)\n",
      "  File \"/root/.pyenv/versions/3.8.12/envs/mcats/lib/python3.8/site-packages/joblib/_parallel_backends.py\", line 620, in __call__\n",
      "    return self.func(*args, **kwargs)\n",
      "  File \"/root/.pyenv/versions/3.8.12/envs/mcats/lib/python3.8/site-packages/joblib/parallel.py\", line 288, in __call__\n",
      "    return [func(*args, **kwargs)\n",
      "  File \"/root/.pyenv/versions/3.8.12/envs/mcats/lib/python3.8/site-packages/joblib/parallel.py\", line 288, in <listcomp>\n",
      "    return [func(*args, **kwargs)\n",
      "  File \"/root/.pyenv/versions/3.8.12/envs/mcats/lib/python3.8/site-packages/sklearn/utils/parallel.py\", line 123, in __call__\n",
      "    return self.function(*args, **kwargs)\n",
      "  File \"/root/.pyenv/versions/3.8.12/envs/mcats/lib/python3.8/site-packages/sklearn/linear_model/_logistic.py\", line 521, in _logistic_regression_path\n",
      "    alpha = (1.0 / C) * (1 - l1_ratio)\n",
      "TypeError: unsupported operand type(s) for -: 'int' and 'NoneType'\n",
      "\"\"\"\n",
      "\n",
      "The above exception was the direct cause of the following exception:\n",
      "\n",
      "Traceback (most recent call last):\n",
      "  File \"/root/.pyenv/versions/3.8.12/envs/mcats/lib/python3.8/site-packages/sklearn/model_selection/_validation.py\", line 686, in _fit_and_score\n",
      "    estimator.fit(X_train, y_train, **fit_params)\n",
      "  File \"/root/.pyenv/versions/3.8.12/envs/mcats/lib/python3.8/site-packages/sklearn/linear_model/_logistic.py\", line 1291, in fit\n",
      "    fold_coefs_ = Parallel(n_jobs=self.n_jobs, verbose=self.verbose, prefer=prefer)(\n",
      "  File \"/root/.pyenv/versions/3.8.12/envs/mcats/lib/python3.8/site-packages/sklearn/utils/parallel.py\", line 63, in __call__\n",
      "    return super().__call__(iterable_with_config)\n",
      "  File \"/root/.pyenv/versions/3.8.12/envs/mcats/lib/python3.8/site-packages/joblib/parallel.py\", line 1098, in __call__\n",
      "    self.retrieve()\n",
      "  File \"/root/.pyenv/versions/3.8.12/envs/mcats/lib/python3.8/site-packages/joblib/parallel.py\", line 975, in retrieve\n",
      "    self._output.extend(job.get(timeout=self.timeout))\n",
      "  File \"/root/.pyenv/versions/3.8.12/envs/mcats/lib/python3.8/site-packages/joblib/_parallel_backends.py\", line 567, in wrap_future_result\n",
      "    return future.result(timeout=timeout)\n",
      "  File \"/root/.pyenv/versions/3.8.12/lib/python3.8/concurrent/futures/_base.py\", line 444, in result\n",
      "    return self.__get_result()\n",
      "  File \"/root/.pyenv/versions/3.8.12/lib/python3.8/concurrent/futures/_base.py\", line 389, in __get_result\n",
      "    raise self._exception\n",
      "TypeError: unsupported operand type(s) for -: 'int' and 'NoneType'\n",
      "\n",
      "--------------------------------------------------------------------------------\n",
      "20 fits failed with the following error:\n",
      "Traceback (most recent call last):\n",
      "  File \"/root/.pyenv/versions/3.8.12/envs/mcats/lib/python3.8/site-packages/sklearn/model_selection/_validation.py\", line 686, in _fit_and_score\n",
      "    estimator.fit(X_train, y_train, **fit_params)\n",
      "  File \"/root/.pyenv/versions/3.8.12/envs/mcats/lib/python3.8/site-packages/sklearn/linear_model/_logistic.py\", line 1162, in fit\n",
      "    solver = _check_solver(self.solver, self.penalty, self.dual)\n",
      "  File \"/root/.pyenv/versions/3.8.12/envs/mcats/lib/python3.8/site-packages/sklearn/linear_model/_logistic.py\", line 54, in _check_solver\n",
      "    raise ValueError(\n",
      "ValueError: Solver newton-cg supports only 'l2' or 'none' penalties, got l1 penalty.\n",
      "\n",
      "--------------------------------------------------------------------------------\n",
      "30 fits failed with the following error:\n",
      "Traceback (most recent call last):\n",
      "  File \"/root/.pyenv/versions/3.8.12/envs/mcats/lib/python3.8/site-packages/sklearn/model_selection/_validation.py\", line 686, in _fit_and_score\n",
      "    estimator.fit(X_train, y_train, **fit_params)\n",
      "  File \"/root/.pyenv/versions/3.8.12/envs/mcats/lib/python3.8/site-packages/sklearn/linear_model/_logistic.py\", line 1162, in fit\n",
      "    solver = _check_solver(self.solver, self.penalty, self.dual)\n",
      "  File \"/root/.pyenv/versions/3.8.12/envs/mcats/lib/python3.8/site-packages/sklearn/linear_model/_logistic.py\", line 54, in _check_solver\n",
      "    raise ValueError(\n",
      "ValueError: Solver lbfgs supports only 'l2' or 'none' penalties, got elasticnet penalty.\n",
      "\n",
      "--------------------------------------------------------------------------------\n",
      "15 fits failed with the following error:\n",
      "Traceback (most recent call last):\n",
      "  File \"/root/.pyenv/versions/3.8.12/envs/mcats/lib/python3.8/site-packages/sklearn/model_selection/_validation.py\", line 686, in _fit_and_score\n",
      "    estimator.fit(X_train, y_train, **fit_params)\n",
      "  File \"/root/.pyenv/versions/3.8.12/envs/mcats/lib/python3.8/site-packages/sklearn/linear_model/_logistic.py\", line 1162, in fit\n",
      "    solver = _check_solver(self.solver, self.penalty, self.dual)\n",
      "  File \"/root/.pyenv/versions/3.8.12/envs/mcats/lib/python3.8/site-packages/sklearn/linear_model/_logistic.py\", line 54, in _check_solver\n",
      "    raise ValueError(\n",
      "ValueError: Solver sag supports only 'l2' or 'none' penalties, got l1 penalty.\n",
      "\n",
      "--------------------------------------------------------------------------------\n",
      "10 fits failed with the following error:\n",
      "Traceback (most recent call last):\n",
      "  File \"/root/.pyenv/versions/3.8.12/envs/mcats/lib/python3.8/site-packages/sklearn/model_selection/_validation.py\", line 686, in _fit_and_score\n",
      "    estimator.fit(X_train, y_train, **fit_params)\n",
      "  File \"/root/.pyenv/versions/3.8.12/envs/mcats/lib/python3.8/site-packages/sklearn/linear_model/_logistic.py\", line 1216, in fit\n",
      "    self.coef_, self.intercept_, self.n_iter_ = _fit_liblinear(\n",
      "  File \"/root/.pyenv/versions/3.8.12/envs/mcats/lib/python3.8/site-packages/sklearn/svm/_base.py\", line 1223, in _fit_liblinear\n",
      "    solver_type = _get_liblinear_solver_type(multi_class, penalty, loss, dual)\n",
      "  File \"/root/.pyenv/versions/3.8.12/envs/mcats/lib/python3.8/site-packages/sklearn/svm/_base.py\", line 1062, in _get_liblinear_solver_type\n",
      "    raise ValueError(\n",
      "ValueError: Unsupported set of arguments: The combination of penalty='None' and loss='logistic_regression' is not supported, Parameters: penalty=None, loss='logistic_regression', dual=False\n",
      "\n",
      "--------------------------------------------------------------------------------\n",
      "15 fits failed with the following error:\n",
      "Traceback (most recent call last):\n",
      "  File \"/root/.pyenv/versions/3.8.12/envs/mcats/lib/python3.8/site-packages/sklearn/model_selection/_validation.py\", line 686, in _fit_and_score\n",
      "    estimator.fit(X_train, y_train, **fit_params)\n",
      "  File \"/root/.pyenv/versions/3.8.12/envs/mcats/lib/python3.8/site-packages/sklearn/linear_model/_logistic.py\", line 1162, in fit\n",
      "    solver = _check_solver(self.solver, self.penalty, self.dual)\n",
      "  File \"/root/.pyenv/versions/3.8.12/envs/mcats/lib/python3.8/site-packages/sklearn/linear_model/_logistic.py\", line 54, in _check_solver\n",
      "    raise ValueError(\n",
      "ValueError: Solver newton-cg supports only 'l2' or 'none' penalties, got elasticnet penalty.\n",
      "\n",
      "  warnings.warn(some_fits_failed_message, FitFailedWarning)\n",
      "/root/.pyenv/versions/3.8.12/envs/mcats/lib/python3.8/site-packages/sklearn/model_selection/_search.py:952: UserWarning: One or more of the test scores are non-finite: [       nan 0.55590641        nan 0.55694808        nan 0.55692081\n",
      "        nan        nan 0.53394961 0.48901614 0.55797884 0.54231021\n",
      " 0.52560537        nan 0.53184991        nan 0.52664158 0.51619219\n",
      "        nan 0.55380127 0.52037522        nan 0.48377509 0.54124127\n",
      " 0.55694808 0.55694808 0.48901614        nan 0.49633508        nan\n",
      "        nan 0.52664158        nan 0.52038613 0.55590641 0.55590641\n",
      "        nan        nan 0.52560537        nan 0.53915794        nan\n",
      "        nan        nan        nan        nan 0.52037522        nan\n",
      "        nan        nan        nan        nan        nan        nan\n",
      "        nan        nan        nan 0.55797884        nan        nan\n",
      " 0.52037522 0.52560537        nan 0.55797884        nan        nan\n",
      "        nan        nan 0.55590096        nan        nan 0.48377509\n",
      "        nan        nan        nan        nan        nan        nan\n",
      "        nan 0.49633508 0.49633508 0.48377509        nan 0.48901614\n",
      " 0.55798975 0.48901614        nan        nan        nan        nan\n",
      " 0.54438264        nan        nan        nan        nan        nan\n",
      "        nan 0.53915794 0.48901614        nan]\n",
      "  warnings.warn(\n"
     ]
    },
    {
     "name": "stderr",
     "output_type": "stream",
     "text": [
      "/root/.pyenv/versions/3.8.12/envs/mcats/lib/python3.8/site-packages/sklearn/linear_model/_sag.py:350: ConvergenceWarning: The max_iter was reached which means the coef_ did not converge\n",
      "  warnings.warn(\n"
     ]
    }
   ],
   "source": [
    "model = LogisticRegression(n_jobs =-1)  \n",
    "model_parameters = { 'penalty':['l1', 'l2', 'elasticnet', None],\n",
    "                    'C': randint(0,5),\n",
    "                    'solver':['lbfgs', 'liblinear', 'newton-cg', 'newton-cholesky', 'sag', 'saga'], \n",
    "                   }\n",
    "random_search= RandomizedSearchCV(model, model_parameters, n_iter=100, cv=5, random_state=1, verbose=2)\n",
    "\n",
    "model =random_search.fit(X_train, y_train)"
   ]
  },
  {
   "cell_type": "code",
   "execution_count": 27,
   "id": "9f23dc94",
   "metadata": {},
   "outputs": [
    {
     "data": {
      "text/plain": [
       "{'C': 3, 'penalty': 'l2', 'solver': 'saga'}"
      ]
     },
     "execution_count": 27,
     "metadata": {},
     "output_type": "execute_result"
    },
    {
     "name": "stderr",
     "output_type": "stream",
     "text": [
      "/root/.pyenv/versions/3.8.12/envs/mcats/lib/python3.8/site-packages/sklearn/linear_model/_sag.py:350: ConvergenceWarning: The max_iter was reached which means the coef_ did not converge\n",
      "  warnings.warn(\n",
      "/root/.pyenv/versions/3.8.12/envs/mcats/lib/python3.8/site-packages/sklearn/linear_model/_sag.py:350: ConvergenceWarning: The max_iter was reached which means the coef_ did not converge\n",
      "  warnings.warn(\n",
      "/root/.pyenv/versions/3.8.12/envs/mcats/lib/python3.8/site-packages/sklearn/linear_model/_sag.py:350: ConvergenceWarning: The max_iter was reached which means the coef_ did not converge\n",
      "  warnings.warn(\n",
      "/root/.pyenv/versions/3.8.12/envs/mcats/lib/python3.8/site-packages/sklearn/linear_model/_logistic.py:458: ConvergenceWarning: lbfgs failed to converge (status=1):\n",
      "STOP: TOTAL NO. of ITERATIONS REACHED LIMIT.\n",
      "\n",
      "Increase the number of iterations (max_iter) or scale the data as shown in:\n",
      "    https://scikit-learn.org/stable/modules/preprocessing.html\n",
      "Please also refer to the documentation for alternative solver options:\n",
      "    https://scikit-learn.org/stable/modules/linear_model.html#logistic-regression\n",
      "  n_iter_i = _check_optimize_result(\n",
      "/root/.pyenv/versions/3.8.12/envs/mcats/lib/python3.8/site-packages/sklearn/linear_model/_logistic.py:458: ConvergenceWarning: lbfgs failed to converge (status=1):\n",
      "STOP: TOTAL NO. of ITERATIONS REACHED LIMIT.\n",
      "\n",
      "Increase the number of iterations (max_iter) or scale the data as shown in:\n",
      "    https://scikit-learn.org/stable/modules/preprocessing.html\n",
      "Please also refer to the documentation for alternative solver options:\n",
      "    https://scikit-learn.org/stable/modules/linear_model.html#logistic-regression\n",
      "  n_iter_i = _check_optimize_result(\n",
      "/root/.pyenv/versions/3.8.12/envs/mcats/lib/python3.8/site-packages/sklearn/linear_model/_logistic.py:458: ConvergenceWarning: lbfgs failed to converge (status=1):\n",
      "STOP: TOTAL NO. of ITERATIONS REACHED LIMIT.\n",
      "\n",
      "Increase the number of iterations (max_iter) or scale the data as shown in:\n",
      "    https://scikit-learn.org/stable/modules/preprocessing.html\n",
      "Please also refer to the documentation for alternative solver options:\n",
      "    https://scikit-learn.org/stable/modules/linear_model.html#logistic-regression\n",
      "  n_iter_i = _check_optimize_result(\n",
      "/root/.pyenv/versions/3.8.12/envs/mcats/lib/python3.8/site-packages/sklearn/linear_model/_sag.py:350: ConvergenceWarning: The max_iter was reached which means the coef_ did not converge\n",
      "  warnings.warn(\n",
      "/root/.pyenv/versions/3.8.12/envs/mcats/lib/python3.8/site-packages/sklearn/linear_model/_logistic.py:458: ConvergenceWarning: lbfgs failed to converge (status=1):\n",
      "STOP: TOTAL NO. of ITERATIONS REACHED LIMIT.\n",
      "\n",
      "Increase the number of iterations (max_iter) or scale the data as shown in:\n",
      "    https://scikit-learn.org/stable/modules/preprocessing.html\n",
      "Please also refer to the documentation for alternative solver options:\n",
      "    https://scikit-learn.org/stable/modules/linear_model.html#logistic-regression\n",
      "  n_iter_i = _check_optimize_result(\n",
      "/root/.pyenv/versions/3.8.12/envs/mcats/lib/python3.8/site-packages/sklearn/linear_model/_sag.py:350: ConvergenceWarning: The max_iter was reached which means the coef_ did not converge\n",
      "  warnings.warn(\n",
      "/root/.pyenv/versions/3.8.12/envs/mcats/lib/python3.8/site-packages/sklearn/linear_model/_logistic.py:458: ConvergenceWarning: lbfgs failed to converge (status=1):\n",
      "STOP: TOTAL NO. of ITERATIONS REACHED LIMIT.\n",
      "\n",
      "Increase the number of iterations (max_iter) or scale the data as shown in:\n",
      "    https://scikit-learn.org/stable/modules/preprocessing.html\n",
      "Please also refer to the documentation for alternative solver options:\n",
      "    https://scikit-learn.org/stable/modules/linear_model.html#logistic-regression\n",
      "  n_iter_i = _check_optimize_result(\n"
     ]
    }
   ],
   "source": [
    "random_search.best_params_"
   ]
  },
  {
   "cell_type": "code",
   "execution_count": 30,
   "id": "e7d0a62e",
   "metadata": {},
   "outputs": [
    {
     "name": "stdout",
     "output_type": "stream",
     "text": [
      "              precision    recall  f1-score   support\n",
      "\n",
      "      hiphop       0.86      0.83      0.85       123\n",
      "   classical       0.95      0.99      0.97       115\n",
      "         pop       0.69      0.65      0.67       117\n",
      "  electronic       0.72      0.77      0.74       113\n",
      "       metal       0.76      0.81      0.78       121\n",
      "        rock       0.74      0.70      0.72       120\n",
      "     country       0.74      0.72      0.73       120\n",
      "      reggae       0.82      0.83      0.82       128\n",
      "\n",
      "    accuracy                           0.79       957\n",
      "   macro avg       0.79      0.79      0.79       957\n",
      "weighted avg       0.79      0.79      0.79       957\n",
      "\n"
     ]
    },
    {
     "name": "stderr",
     "output_type": "stream",
     "text": [
      "/root/.pyenv/versions/3.8.12/envs/mcats/lib/python3.8/site-packages/sklearn/linear_model/_sag.py:350: ConvergenceWarning: The max_iter was reached which means the coef_ did not converge\n",
      "  warnings.warn(\n"
     ]
    }
   ],
   "source": [
    "model_1 = LogisticRegression(max_iter=1000, C= 3, penalty ='l2', solver ='saga')\n",
    "model_1.fit(X_train, y_train)\n",
    "preds = model_1.predict(X_train)\n",
    "#y_ true is y_test  predict on x_text  y_pred is the output of the model\n",
    "y_true = y_train\n",
    "y_pred = preds\n",
    "target_names = ['hiphop','classical','pop','electronic','metal', 'rock','country','reggae']\n",
    "print(classification_report(y_true, y_pred, target_names=target_names))"
   ]
  },
  {
   "cell_type": "code",
   "execution_count": 31,
   "id": "c727ed42",
   "metadata": {},
   "outputs": [
    {
     "name": "stdout",
     "output_type": "stream",
     "text": [
      "              precision    recall  f1-score   support\n",
      "\n",
      "      hiphop       0.60      0.67      0.63        27\n",
      "   classical       0.78      0.89      0.83        35\n",
      "         pop       0.21      0.12      0.16        32\n",
      "  electronic       0.50      0.41      0.45        37\n",
      "       metal       0.69      0.71      0.70        28\n",
      "        rock       0.48      0.47      0.47        30\n",
      "     country       0.39      0.40      0.39        30\n",
      "      reggae       0.41      0.62      0.49        21\n",
      "\n",
      "    accuracy                           0.53       240\n",
      "   macro avg       0.51      0.54      0.52       240\n",
      "weighted avg       0.51      0.53      0.51       240\n",
      "\n"
     ]
    },
    {
     "name": "stderr",
     "output_type": "stream",
     "text": [
      "/root/.pyenv/versions/3.8.12/envs/mcats/lib/python3.8/site-packages/sklearn/linear_model/_sag.py:350: ConvergenceWarning: The max_iter was reached which means the coef_ did not converge\n",
      "  warnings.warn(\n"
     ]
    }
   ],
   "source": [
    "model_1 = LogisticRegression(max_iter=1000, C= 3, penalty ='l2', solver ='saga')\n",
    "model_1.fit(X_train, y_train)\n",
    "preds = model_1.predict(X_test)\n",
    "#y_ true is y_test  predict on x_text  y_pred is the output of the model\n",
    "y_true = y_test\n",
    "y_pred = preds\n",
    "target_names = ['hiphop','classical','pop','electronic','metal', 'rock','country','reggae']\n",
    "print(classification_report(y_true, y_pred, target_names=target_names))"
   ]
  },
  {
   "cell_type": "code",
   "execution_count": 37,
   "id": "0d566edc",
   "metadata": {},
   "outputs": [
    {
     "name": "stdout",
     "output_type": "stream",
     "text": [
      "Best parameter (CV score=0.567):\n",
      "{'logistic__C': 0.046415888336127774, 'pca__n_components': 60}\n"
     ]
    }
   ],
   "source": [
    "pca = PCA()\n",
    "# set the tolerance to a large value to make the example faster\n",
    "logistic = LogisticRegression(max_iter=10000, tol=0.1)\n",
    "pipe = Pipeline(steps=[(\"pca\", pca), (\"logistic\", logistic)])\n",
    "param_grid = {\n",
    "    \"pca__n_components\": [5, 15, 30, 45, 60],\n",
    "    \"logistic__C\": np.logspace(-4, 4, 4),\n",
    "    \n",
    "}\n",
    "search = GridSearchCV(pipe, param_grid, n_jobs=2)\n",
    "search.fit(X_train, y_train)\n",
    "print(\"Best parameter (CV score=%0.3f):\" % search.best_score_)\n",
    "print(search.best_params_)\n"
   ]
  },
  {
   "cell_type": "code",
   "execution_count": 38,
   "id": "cc6d810c",
   "metadata": {},
   "outputs": [
    {
     "data": {
      "image/png": "[encoded data removed]",
      "text/plain": [
       "<Figure size 600x600 with 2 Axes>"
      ]
     },
     "metadata": {},
     "output_type": "display_data"
    }
   ],
   "source": [
    "# Plot the PCA spectrum\n",
    "pca.fit(X_train)\n",
    "\n",
    "fig, (ax0, ax1) = plt.subplots(nrows=2, sharex=True, figsize=(6, 6))\n",
    "ax0.plot(\n",
    "    np.arange(1, pca.n_components_ + 1), pca.explained_variance_ratio_, \"+\", linewidth=2\n",
    ")\n",
    "ax0.set_ylabel(\"PCA explained variance ratio\")\n",
    "\n",
    "ax0.axvline(\n",
    "    search.best_estimator_.named_steps[\"pca\"].n_components,\n",
    "    linestyle=\":\",\n",
    "    label=\"n_components chosen\",\n",
    ")\n",
    "ax0.legend(prop=dict(size=12))\n",
    "\n",
    "# For each number of components, find the best classifier results\n",
    "results = pd.DataFrame(search.cv_results_)\n",
    "components_col = \"param_pca__n_components\"\n",
    "best_clfs = results.groupby(components_col).apply(\n",
    "    lambda g: g.nlargest(1, \"mean_test_score\")\n",
    ")\n",
    "\n",
    "best_clfs.plot(\n",
    "    x=components_col, y=\"mean_test_score\", yerr=\"std_test_score\", legend=False, ax=ax1\n",
    ")\n",
    "ax1.set_ylabel(\"Classification accuracy (val)\")\n",
    "ax1.set_xlabel(\"n_components\")\n",
    "\n",
    "plt.xlim(-1, 70)\n",
    "\n",
    "plt.tight_layout()\n",
    "plt.show()"
   ]
  },
  {
   "cell_type": "code",
   "execution_count": null,
   "id": "33b3645b",
   "metadata": {},
   "outputs": [],
   "source": []
  },
  {
   "cell_type": "code",
   "execution_count": null,
   "id": "783192e3",
   "metadata": {},
   "outputs": [],
   "source": []
  }
 ],
 "metadata": {
  "kernelspec": {
   "display_name": "Python 3 (ipykernel)",
   "language": "python",
   "name": "python3"
  },
  "language_info": {
   "codemirror_mode": {
    "name": "ipython",
    "version": 3
   },
   "file_extension": ".py",
   "mimetype": "text/x-python",
   "name": "python",
   "nbconvert_exporter": "python",
   "pygments_lexer": "ipython3",
   "version": "3.8.12"
  },
  "toc": {
   "base_numbering": 1,
   "nav_menu": {},
   "number_sections": true,
   "sideBar": true,
   "skip_h1_title": false,
   "title_cell": "Table of Contents",
   "title_sidebar": "Contents",
   "toc_cell": false,
   "toc_position": {},
   "toc_section_display": true,
   "toc_window_display": false
  }
 },
 "nbformat": 4,
 "nbformat_minor": 5
}
