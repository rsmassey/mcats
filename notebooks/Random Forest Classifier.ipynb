{
 "cells": [
  {
   "cell_type": "code",
   "execution_count": 38,
   "id": "83bba000",
   "metadata": {},
   "outputs": [],
   "source": [
    "import pandas as pd\n",
    "from sklearn.model_selection import train_test_split\n",
    "from sklearn.ensemble import RandomForestClassifier\n",
    "from sklearn.metrics import classification_report\n",
    "from sklearn.model_selection import GridSearchCV\n",
    "from sklearn.ensemble import RandomForestRegressor\n",
    "from sklearn.metrics import r2_score"
   ]
  },
  {
   "cell_type": "code",
   "execution_count": 12,
   "id": "24ec193e",
   "metadata": {},
   "outputs": [],
   "source": [
    "data = pd.read_csv(\"../mcats/data/normalized_data.csv\")"
   ]
  },
  {
   "cell_type": "code",
   "execution_count": 13,
   "id": "2a70a7ea",
   "metadata": {},
   "outputs": [
    {
     "data": {
      "text/html": [
       "<div>\n",
       "<style scoped>\n",
       "    .dataframe tbody tr th:only-of-type {\n",
       "        vertical-align: middle;\n",
       "    }\n",
       "\n",
       "    .dataframe tbody tr th {\n",
       "        vertical-align: top;\n",
       "    }\n",
       "\n",
       "    .dataframe thead th {\n",
       "        text-align: right;\n",
       "    }\n",
       "</style>\n",
       "<table border=\"1\" class=\"dataframe\">\n",
       "  <thead>\n",
       "    <tr style=\"text-align: right;\">\n",
       "      <th></th>\n",
       "      <th>Unnamed: 0</th>\n",
       "      <th>tempo</th>\n",
       "      <th>beats_mean</th>\n",
       "      <th>beats_var</th>\n",
       "      <th>zero_crossings_mean</th>\n",
       "      <th>zero_crossings_var</th>\n",
       "      <th>spectral_centroids_mean</th>\n",
       "      <th>spectral_centroids_var</th>\n",
       "      <th>spectral_rolloff_mean</th>\n",
       "      <th>spectral_rolloff_var</th>\n",
       "      <th>...</th>\n",
       "      <th>mfcc_36_var</th>\n",
       "      <th>mfcc_37_mean</th>\n",
       "      <th>mfcc_37_var</th>\n",
       "      <th>mfcc_38_mean</th>\n",
       "      <th>mfcc_38_var</th>\n",
       "      <th>mfcc_39_mean</th>\n",
       "      <th>mfcc_39_var</th>\n",
       "      <th>mfcc_40_mean</th>\n",
       "      <th>mfcc_40_var</th>\n",
       "      <th>genre</th>\n",
       "    </tr>\n",
       "  </thead>\n",
       "  <tbody>\n",
       "    <tr>\n",
       "      <th>0</th>\n",
       "      <td>hiphop.00023.wav</td>\n",
       "      <td>-0.962068</td>\n",
       "      <td>-0.448284</td>\n",
       "      <td>-0.008626</td>\n",
       "      <td>0.071358</td>\n",
       "      <td>0.127249</td>\n",
       "      <td>0.052913</td>\n",
       "      <td>-0.546726</td>\n",
       "      <td>0.098794</td>\n",
       "      <td>-0.651427</td>\n",
       "      <td>...</td>\n",
       "      <td>0.069930</td>\n",
       "      <td>1.215868</td>\n",
       "      <td>0.213565</td>\n",
       "      <td>0.150391</td>\n",
       "      <td>-0.914619</td>\n",
       "      <td>0.903496</td>\n",
       "      <td>-0.556367</td>\n",
       "      <td>0.731643</td>\n",
       "      <td>0.137553</td>\n",
       "      <td>0</td>\n",
       "    </tr>\n",
       "    <tr>\n",
       "      <th>1</th>\n",
       "      <td>hiphop.00005.wav</td>\n",
       "      <td>-1.692588</td>\n",
       "      <td>-0.312625</td>\n",
       "      <td>0.037037</td>\n",
       "      <td>0.501715</td>\n",
       "      <td>0.555764</td>\n",
       "      <td>0.708033</td>\n",
       "      <td>-0.553414</td>\n",
       "      <td>0.776248</td>\n",
       "      <td>-0.948239</td>\n",
       "      <td>...</td>\n",
       "      <td>-0.710508</td>\n",
       "      <td>-0.472341</td>\n",
       "      <td>-0.981402</td>\n",
       "      <td>-0.839678</td>\n",
       "      <td>-0.871400</td>\n",
       "      <td>0.779845</td>\n",
       "      <td>-0.785982</td>\n",
       "      <td>0.176275</td>\n",
       "      <td>-0.885003</td>\n",
       "      <td>0</td>\n",
       "    </tr>\n",
       "    <tr>\n",
       "      <th>2</th>\n",
       "      <td>hiphop.00038.wav</td>\n",
       "      <td>2.325273</td>\n",
       "      <td>1.872180</td>\n",
       "      <td>-0.195345</td>\n",
       "      <td>-0.150793</td>\n",
       "      <td>-0.101815</td>\n",
       "      <td>0.008717</td>\n",
       "      <td>0.672371</td>\n",
       "      <td>-0.099242</td>\n",
       "      <td>1.035126</td>\n",
       "      <td>...</td>\n",
       "      <td>0.381241</td>\n",
       "      <td>1.888902</td>\n",
       "      <td>-0.215798</td>\n",
       "      <td>0.919960</td>\n",
       "      <td>-0.437188</td>\n",
       "      <td>-0.313291</td>\n",
       "      <td>0.113292</td>\n",
       "      <td>0.005978</td>\n",
       "      <td>-0.163482</td>\n",
       "      <td>0</td>\n",
       "    </tr>\n",
       "  </tbody>\n",
       "</table>\n",
       "<p>3 rows × 91 columns</p>\n",
       "</div>"
      ],
      "text/plain": [
       "         Unnamed: 0     tempo  beats_mean  beats_var  zero_crossings_mean  \\\n",
       "0  hiphop.00023.wav -0.962068   -0.448284  -0.008626             0.071358   \n",
       "1  hiphop.00005.wav -1.692588   -0.312625   0.037037             0.501715   \n",
       "2  hiphop.00038.wav  2.325273    1.872180  -0.195345            -0.150793   \n",
       "\n",
       "   zero_crossings_var  spectral_centroids_mean  spectral_centroids_var  \\\n",
       "0            0.127249                 0.052913               -0.546726   \n",
       "1            0.555764                 0.708033               -0.553414   \n",
       "2           -0.101815                 0.008717                0.672371   \n",
       "\n",
       "   spectral_rolloff_mean  spectral_rolloff_var  ...  mfcc_36_var  \\\n",
       "0               0.098794             -0.651427  ...     0.069930   \n",
       "1               0.776248             -0.948239  ...    -0.710508   \n",
       "2              -0.099242              1.035126  ...     0.381241   \n",
       "\n",
       "   mfcc_37_mean  mfcc_37_var  mfcc_38_mean  mfcc_38_var  mfcc_39_mean  \\\n",
       "0      1.215868     0.213565      0.150391    -0.914619      0.903496   \n",
       "1     -0.472341    -0.981402     -0.839678    -0.871400      0.779845   \n",
       "2      1.888902    -0.215798      0.919960    -0.437188     -0.313291   \n",
       "\n",
       "   mfcc_39_var  mfcc_40_mean  mfcc_40_var  genre  \n",
       "0    -0.556367      0.731643     0.137553      0  \n",
       "1    -0.785982      0.176275    -0.885003      0  \n",
       "2     0.113292      0.005978    -0.163482      0  \n",
       "\n",
       "[3 rows x 91 columns]"
      ]
     },
     "execution_count": 13,
     "metadata": {},
     "output_type": "execute_result"
    }
   ],
   "source": [
    "data.head(3)"
   ]
  },
  {
   "cell_type": "code",
   "execution_count": 14,
   "id": "ed72f6d6",
   "metadata": {},
   "outputs": [],
   "source": [
    "data = data.drop(\"Unnamed: 0\", axis =1)"
   ]
  },
  {
   "cell_type": "code",
   "execution_count": 15,
   "id": "b9f23b63",
   "metadata": {},
   "outputs": [],
   "source": [
    "X = data.drop(columns = \"genre\")\n",
    "y = data[\"genre\"]"
   ]
  },
  {
   "cell_type": "markdown",
   "id": "d238d53e",
   "metadata": {},
   "source": [
    "Random forest is being used to prevent overcorrelation. The previous result should not affect the next results. So, it should give a more accurate prediction."
   ]
  },
  {
   "cell_type": "code",
   "execution_count": 16,
   "id": "54006c2e",
   "metadata": {},
   "outputs": [
    {
     "data": {
      "text/plain": [
       "(999, 89)"
      ]
     },
     "execution_count": 16,
     "metadata": {},
     "output_type": "execute_result"
    }
   ],
   "source": [
    "X.shape"
   ]
  },
  {
   "cell_type": "code",
   "execution_count": 17,
   "id": "81c7cedc",
   "metadata": {},
   "outputs": [
    {
     "data": {
      "text/plain": [
       "(999,)"
      ]
     },
     "execution_count": 17,
     "metadata": {},
     "output_type": "execute_result"
    }
   ],
   "source": [
    "y.shape"
   ]
  },
  {
   "cell_type": "code",
   "execution_count": 18,
   "id": "7cbbb002",
   "metadata": {},
   "outputs": [
    {
     "data": {
      "text/html": [
       "<div>\n",
       "<style scoped>\n",
       "    .dataframe tbody tr th:only-of-type {\n",
       "        vertical-align: middle;\n",
       "    }\n",
       "\n",
       "    .dataframe tbody tr th {\n",
       "        vertical-align: top;\n",
       "    }\n",
       "\n",
       "    .dataframe thead th {\n",
       "        text-align: right;\n",
       "    }\n",
       "</style>\n",
       "<table border=\"1\" class=\"dataframe\">\n",
       "  <thead>\n",
       "    <tr style=\"text-align: right;\">\n",
       "      <th></th>\n",
       "      <th>tempo</th>\n",
       "      <th>beats_mean</th>\n",
       "      <th>beats_var</th>\n",
       "      <th>zero_crossings_mean</th>\n",
       "      <th>zero_crossings_var</th>\n",
       "      <th>spectral_centroids_mean</th>\n",
       "      <th>spectral_centroids_var</th>\n",
       "      <th>spectral_rolloff_mean</th>\n",
       "      <th>spectral_rolloff_var</th>\n",
       "      <th>mfcc_1_mean</th>\n",
       "      <th>...</th>\n",
       "      <th>mfcc_36_mean</th>\n",
       "      <th>mfcc_36_var</th>\n",
       "      <th>mfcc_37_mean</th>\n",
       "      <th>mfcc_37_var</th>\n",
       "      <th>mfcc_38_mean</th>\n",
       "      <th>mfcc_38_var</th>\n",
       "      <th>mfcc_39_mean</th>\n",
       "      <th>mfcc_39_var</th>\n",
       "      <th>mfcc_40_mean</th>\n",
       "      <th>mfcc_40_var</th>\n",
       "    </tr>\n",
       "  </thead>\n",
       "  <tbody>\n",
       "    <tr>\n",
       "      <th>0</th>\n",
       "      <td>-0.962068</td>\n",
       "      <td>-0.448284</td>\n",
       "      <td>-0.008626</td>\n",
       "      <td>0.071358</td>\n",
       "      <td>0.127249</td>\n",
       "      <td>0.052913</td>\n",
       "      <td>-0.546726</td>\n",
       "      <td>0.098794</td>\n",
       "      <td>-0.651427</td>\n",
       "      <td>1.039179</td>\n",
       "      <td>...</td>\n",
       "      <td>-0.066967</td>\n",
       "      <td>0.069930</td>\n",
       "      <td>1.215868</td>\n",
       "      <td>0.213565</td>\n",
       "      <td>0.150391</td>\n",
       "      <td>-0.914619</td>\n",
       "      <td>0.903496</td>\n",
       "      <td>-0.556367</td>\n",
       "      <td>0.731643</td>\n",
       "      <td>0.137553</td>\n",
       "    </tr>\n",
       "    <tr>\n",
       "      <th>1</th>\n",
       "      <td>-1.692588</td>\n",
       "      <td>-0.312625</td>\n",
       "      <td>0.037037</td>\n",
       "      <td>0.501715</td>\n",
       "      <td>0.555764</td>\n",
       "      <td>0.708033</td>\n",
       "      <td>-0.553414</td>\n",
       "      <td>0.776248</td>\n",
       "      <td>-0.948239</td>\n",
       "      <td>1.363807</td>\n",
       "      <td>...</td>\n",
       "      <td>-0.071785</td>\n",
       "      <td>-0.710508</td>\n",
       "      <td>-0.472341</td>\n",
       "      <td>-0.981402</td>\n",
       "      <td>-0.839678</td>\n",
       "      <td>-0.871400</td>\n",
       "      <td>0.779845</td>\n",
       "      <td>-0.785982</td>\n",
       "      <td>0.176275</td>\n",
       "      <td>-0.885003</td>\n",
       "    </tr>\n",
       "    <tr>\n",
       "      <th>2</th>\n",
       "      <td>2.325273</td>\n",
       "      <td>1.872180</td>\n",
       "      <td>-0.195345</td>\n",
       "      <td>-0.150793</td>\n",
       "      <td>-0.101815</td>\n",
       "      <td>0.008717</td>\n",
       "      <td>0.672371</td>\n",
       "      <td>-0.099242</td>\n",
       "      <td>1.035126</td>\n",
       "      <td>0.694514</td>\n",
       "      <td>...</td>\n",
       "      <td>2.747111</td>\n",
       "      <td>0.381241</td>\n",
       "      <td>1.888902</td>\n",
       "      <td>-0.215798</td>\n",
       "      <td>0.919960</td>\n",
       "      <td>-0.437188</td>\n",
       "      <td>-0.313291</td>\n",
       "      <td>0.113292</td>\n",
       "      <td>0.005978</td>\n",
       "      <td>-0.163482</td>\n",
       "    </tr>\n",
       "    <tr>\n",
       "      <th>3</th>\n",
       "      <td>0.133712</td>\n",
       "      <td>-0.055590</td>\n",
       "      <td>0.511061</td>\n",
       "      <td>0.332044</td>\n",
       "      <td>0.389219</td>\n",
       "      <td>0.653229</td>\n",
       "      <td>-0.328583</td>\n",
       "      <td>0.605684</td>\n",
       "      <td>-0.637163</td>\n",
       "      <td>0.392785</td>\n",
       "      <td>...</td>\n",
       "      <td>-0.400830</td>\n",
       "      <td>-0.722745</td>\n",
       "      <td>1.893764</td>\n",
       "      <td>-0.771913</td>\n",
       "      <td>2.538527</td>\n",
       "      <td>-0.656492</td>\n",
       "      <td>0.408874</td>\n",
       "      <td>-0.702733</td>\n",
       "      <td>-0.483230</td>\n",
       "      <td>-0.751796</td>\n",
       "    </tr>\n",
       "    <tr>\n",
       "      <th>4</th>\n",
       "      <td>0.595093</td>\n",
       "      <td>-0.128534</td>\n",
       "      <td>0.325394</td>\n",
       "      <td>-0.228270</td>\n",
       "      <td>-0.182964</td>\n",
       "      <td>-0.149396</td>\n",
       "      <td>-0.098469</td>\n",
       "      <td>0.005734</td>\n",
       "      <td>-0.088343</td>\n",
       "      <td>0.524726</td>\n",
       "      <td>...</td>\n",
       "      <td>-0.145860</td>\n",
       "      <td>-0.921582</td>\n",
       "      <td>0.040010</td>\n",
       "      <td>-0.643526</td>\n",
       "      <td>-0.971045</td>\n",
       "      <td>-0.232519</td>\n",
       "      <td>-0.095580</td>\n",
       "      <td>-0.410495</td>\n",
       "      <td>0.065700</td>\n",
       "      <td>-0.402656</td>\n",
       "    </tr>\n",
       "  </tbody>\n",
       "</table>\n",
       "<p>5 rows × 89 columns</p>\n",
       "</div>"
      ],
      "text/plain": [
       "      tempo  beats_mean  beats_var  zero_crossings_mean  zero_crossings_var  \\\n",
       "0 -0.962068   -0.448284  -0.008626             0.071358            0.127249   \n",
       "1 -1.692588   -0.312625   0.037037             0.501715            0.555764   \n",
       "2  2.325273    1.872180  -0.195345            -0.150793           -0.101815   \n",
       "3  0.133712   -0.055590   0.511061             0.332044            0.389219   \n",
       "4  0.595093   -0.128534   0.325394            -0.228270           -0.182964   \n",
       "\n",
       "   spectral_centroids_mean  spectral_centroids_var  spectral_rolloff_mean  \\\n",
       "0                 0.052913               -0.546726               0.098794   \n",
       "1                 0.708033               -0.553414               0.776248   \n",
       "2                 0.008717                0.672371              -0.099242   \n",
       "3                 0.653229               -0.328583               0.605684   \n",
       "4                -0.149396               -0.098469               0.005734   \n",
       "\n",
       "   spectral_rolloff_var  mfcc_1_mean  ...  mfcc_36_mean  mfcc_36_var  \\\n",
       "0             -0.651427     1.039179  ...     -0.066967     0.069930   \n",
       "1             -0.948239     1.363807  ...     -0.071785    -0.710508   \n",
       "2              1.035126     0.694514  ...      2.747111     0.381241   \n",
       "3             -0.637163     0.392785  ...     -0.400830    -0.722745   \n",
       "4             -0.088343     0.524726  ...     -0.145860    -0.921582   \n",
       "\n",
       "   mfcc_37_mean  mfcc_37_var  mfcc_38_mean  mfcc_38_var  mfcc_39_mean  \\\n",
       "0      1.215868     0.213565      0.150391    -0.914619      0.903496   \n",
       "1     -0.472341    -0.981402     -0.839678    -0.871400      0.779845   \n",
       "2      1.888902    -0.215798      0.919960    -0.437188     -0.313291   \n",
       "3      1.893764    -0.771913      2.538527    -0.656492      0.408874   \n",
       "4      0.040010    -0.643526     -0.971045    -0.232519     -0.095580   \n",
       "\n",
       "   mfcc_39_var  mfcc_40_mean  mfcc_40_var  \n",
       "0    -0.556367      0.731643     0.137553  \n",
       "1    -0.785982      0.176275    -0.885003  \n",
       "2     0.113292      0.005978    -0.163482  \n",
       "3    -0.702733     -0.483230    -0.751796  \n",
       "4    -0.410495      0.065700    -0.402656  \n",
       "\n",
       "[5 rows x 89 columns]"
      ]
     },
     "execution_count": 18,
     "metadata": {},
     "output_type": "execute_result"
    }
   ],
   "source": [
    "X.head()"
   ]
  },
  {
   "cell_type": "code",
   "execution_count": 19,
   "id": "cb6c9d3a",
   "metadata": {},
   "outputs": [],
   "source": [
    "X_train, X_test, y_train, y_test = train_test_split(X, y)"
   ]
  },
  {
   "cell_type": "code",
   "execution_count": 20,
   "id": "93ddf0b5",
   "metadata": {},
   "outputs": [],
   "source": [
    "#The parenthesis are blank here because it will run the defaul values\n",
    "model = RandomForestClassifier()  "
   ]
  },
  {
   "cell_type": "code",
   "execution_count": 21,
   "id": "2efd90a5",
   "metadata": {},
   "outputs": [],
   "source": [
    "model.fit(X_train, y_train)\n",
    "preds = model.predict(X_test)"
   ]
  },
  {
   "cell_type": "code",
   "execution_count": 22,
   "id": "fc16492a",
   "metadata": {},
   "outputs": [
    {
     "data": {
      "text/plain": [
       "array([8, 8, 6, 3, 3, 8, 4, 4, 1, 8, 5, 4, 8, 1, 7, 6, 0, 1, 2, 4, 5, 5,\n",
       "       1, 7, 4, 1, 5, 2, 6, 9, 5, 5, 6, 0, 9, 3, 6, 2, 4, 8, 5, 4, 9, 2,\n",
       "       2, 0, 3, 8, 6, 6, 6, 9, 7, 0, 6, 6, 6, 3, 5, 8, 1, 7, 7, 2, 5, 4,\n",
       "       0, 3, 7, 7, 5, 1, 7, 5, 1, 0, 8, 8, 1, 9, 2, 8, 4, 1, 4, 9, 4, 3,\n",
       "       1, 5, 1, 4, 0, 4, 7, 1, 8, 0, 6, 6, 9, 6, 0, 6, 7, 3, 0, 6, 1, 4,\n",
       "       7, 8, 7, 0, 9, 0, 7, 2, 5, 4, 3, 0, 5, 8, 6, 2, 9, 5, 8, 4, 6, 9,\n",
       "       5, 2, 2, 2, 5, 7, 1, 1, 1, 6, 2, 1, 5, 6, 7, 9, 5, 3, 3, 6, 8, 7,\n",
       "       5, 6, 2, 9, 3, 0, 5, 1, 9, 0, 5, 7, 2, 0, 6, 9, 3, 9, 4, 0, 7, 9,\n",
       "       7, 9, 6, 2, 4, 8, 3, 8, 8, 5, 1, 2, 1, 6, 1, 4, 4, 0, 6, 2, 6, 7,\n",
       "       9, 7, 1, 4, 2, 9, 1, 3, 7, 1, 6, 9, 0, 1, 4, 8, 5, 1, 1, 3, 7, 4,\n",
       "       8, 5, 4, 5, 9, 2, 1, 7, 1, 7, 7, 9, 0, 0, 1, 1, 4, 6, 1, 7, 5, 6,\n",
       "       0, 8, 3, 8, 5, 0, 1, 3])"
      ]
     },
     "execution_count": 22,
     "metadata": {},
     "output_type": "execute_result"
    }
   ],
   "source": [
    "preds"
   ]
  },
  {
   "cell_type": "code",
   "execution_count": 23,
   "id": "08ea19b7",
   "metadata": {},
   "outputs": [
    {
     "name": "stdout",
     "output_type": "stream",
     "text": [
      "              precision    recall  f1-score   support\n",
      "\n",
      "      hiphop       0.43      0.43      0.43        23\n",
      "   classical       0.88      0.97      0.92        31\n",
      "       blues       0.65      0.62      0.63        21\n",
      "       metal       0.83      0.94      0.88        16\n",
      "        jazz       0.80      0.80      0.80        25\n",
      "     country       0.64      0.62      0.63        29\n",
      "         pop       0.73      0.79      0.76        28\n",
      "        rock       0.48      0.57      0.52        23\n",
      "       disco       0.70      0.52      0.59        31\n",
      "      reggae       0.50      0.48      0.49        23\n",
      "\n",
      "    accuracy                           0.67       250\n",
      "   macro avg       0.67      0.67      0.67       250\n",
      "weighted avg       0.67      0.67      0.67       250\n",
      "\n"
     ]
    }
   ],
   "source": [
    "#y_ true is y_test  predict on x_text  y_pred is the output of the model\n",
    "y_true = y_test\n",
    "y_pred = preds\n",
    "target_names = ['hiphop', 'classical', 'blues', 'metal', 'jazz', 'country', 'pop', 'rock', 'disco', 'reggae']\n",
    "print(classification_report(y_true, y_pred, target_names=target_names))"
   ]
  },
  {
   "cell_type": "code",
   "execution_count": 40,
   "id": "effb9ea1",
   "metadata": {},
   "outputs": [
    {
     "data": {
      "text/plain": [
       "0.1175337186897879"
      ]
     },
     "execution_count": 40,
     "metadata": {},
     "output_type": "execute_result"
    }
   ],
   "source": [
    "r2_score(y_true, preds)"
   ]
  },
  {
   "cell_type": "code",
   "execution_count": 24,
   "id": "2cf60406",
   "metadata": {},
   "outputs": [],
   "source": [
    "param_grid = {\n",
    "  \n",
    "    'n_estimators': [100, 200, 300, 1000]\n",
    "}"
   ]
  },
  {
   "cell_type": "code",
   "execution_count": 25,
   "id": "14405f52",
   "metadata": {},
   "outputs": [],
   "source": [
    "random_forest_model = RandomForestRegressor()\n",
    "# Looking for best parameters for the random forest model\n",
    "grid_search = GridSearchCV(estimator = random_forest_model , param_grid = param_grid, cv = 5, n_jobs = -1)"
   ]
  },
  {
   "cell_type": "code",
   "execution_count": 26,
   "id": "e16e8203",
   "metadata": {},
   "outputs": [
    {
     "data": {
      "text/html": [
       "<style>#sk-container-id-2 {color: black;background-color: white;}#sk-container-id-2 pre{padding: 0;}#sk-container-id-2 div.sk-toggleable {background-color: white;}#sk-container-id-2 label.sk-toggleable__label {cursor: pointer;display: block;width: 100%;margin-bottom: 0;padding: 0.3em;box-sizing: border-box;text-align: center;}#sk-container-id-2 label.sk-toggleable__label-arrow:before {content: \"▸\";float: left;margin-right: 0.25em;color: #696969;}#sk-container-id-2 label.sk-toggleable__label-arrow:hover:before {color: black;}#sk-container-id-2 div.sk-estimator:hover label.sk-toggleable__label-arrow:before {color: black;}#sk-container-id-2 div.sk-toggleable__content {max-height: 0;max-width: 0;overflow: hidden;text-align: left;background-color: #f0f8ff;}#sk-container-id-2 div.sk-toggleable__content pre {margin: 0.2em;color: black;border-radius: 0.25em;background-color: #f0f8ff;}#sk-container-id-2 input.sk-toggleable__control:checked~div.sk-toggleable__content {max-height: 200px;max-width: 100%;overflow: auto;}#sk-container-id-2 input.sk-toggleable__control:checked~label.sk-toggleable__label-arrow:before {content: \"▾\";}#sk-container-id-2 div.sk-estimator input.sk-toggleable__control:checked~label.sk-toggleable__label {background-color: #d4ebff;}#sk-container-id-2 div.sk-label input.sk-toggleable__control:checked~label.sk-toggleable__label {background-color: #d4ebff;}#sk-container-id-2 input.sk-hidden--visually {border: 0;clip: rect(1px 1px 1px 1px);clip: rect(1px, 1px, 1px, 1px);height: 1px;margin: -1px;overflow: hidden;padding: 0;position: absolute;width: 1px;}#sk-container-id-2 div.sk-estimator {font-family: monospace;background-color: #f0f8ff;border: 1px dotted black;border-radius: 0.25em;box-sizing: border-box;margin-bottom: 0.5em;}#sk-container-id-2 div.sk-estimator:hover {background-color: #d4ebff;}#sk-container-id-2 div.sk-parallel-item::after {content: \"\";width: 100%;border-bottom: 1px solid gray;flex-grow: 1;}#sk-container-id-2 div.sk-label:hover label.sk-toggleable__label {background-color: #d4ebff;}#sk-container-id-2 div.sk-serial::before {content: \"\";position: absolute;border-left: 1px solid gray;box-sizing: border-box;top: 0;bottom: 0;left: 50%;z-index: 0;}#sk-container-id-2 div.sk-serial {display: flex;flex-direction: column;align-items: center;background-color: white;padding-right: 0.2em;padding-left: 0.2em;position: relative;}#sk-container-id-2 div.sk-item {position: relative;z-index: 1;}#sk-container-id-2 div.sk-parallel {display: flex;align-items: stretch;justify-content: center;background-color: white;position: relative;}#sk-container-id-2 div.sk-item::before, #sk-container-id-2 div.sk-parallel-item::before {content: \"\";position: absolute;border-left: 1px solid gray;box-sizing: border-box;top: 0;bottom: 0;left: 50%;z-index: -1;}#sk-container-id-2 div.sk-parallel-item {display: flex;flex-direction: column;z-index: 1;position: relative;background-color: white;}#sk-container-id-2 div.sk-parallel-item:first-child::after {align-self: flex-end;width: 50%;}#sk-container-id-2 div.sk-parallel-item:last-child::after {align-self: flex-start;width: 50%;}#sk-container-id-2 div.sk-parallel-item:only-child::after {width: 0;}#sk-container-id-2 div.sk-dashed-wrapped {border: 1px dashed gray;margin: 0 0.4em 0.5em 0.4em;box-sizing: border-box;padding-bottom: 0.4em;background-color: white;}#sk-container-id-2 div.sk-label label {font-family: monospace;font-weight: bold;display: inline-block;line-height: 1.2em;}#sk-container-id-2 div.sk-label-container {text-align: center;}#sk-container-id-2 div.sk-container {/* jupyter's `normalize.less` sets `[hidden] { display: none; }` but bootstrap.min.css set `[hidden] { display: none !important; }` so we also need the `!important` here to be able to override the default hidden behavior on the sphinx rendered scikit-learn.org. See: https://github.com/scikit-learn/scikit-learn/issues/21755 */display: inline-block !important;position: relative;}#sk-container-id-2 div.sk-text-repr-fallback {display: none;}</style><div id=\"sk-container-id-2\" class=\"sk-top-container\"><div class=\"sk-text-repr-fallback\"><pre>GridSearchCV(cv=5, estimator=RandomForestRegressor(), n_jobs=-1,\n",
       "             param_grid={&#x27;n_estimators&#x27;: [100, 200, 300, 1000]})</pre><b>In a Jupyter environment, please rerun this cell to show the HTML representation or trust the notebook. <br />On GitHub, the HTML representation is unable to render, please try loading this page with nbviewer.org.</b></div><div class=\"sk-container\" hidden><div class=\"sk-item sk-dashed-wrapped\"><div class=\"sk-label-container\"><div class=\"sk-label sk-toggleable\"><input class=\"sk-toggleable__control sk-hidden--visually\" id=\"sk-estimator-id-4\" type=\"checkbox\" ><label for=\"sk-estimator-id-4\" class=\"sk-toggleable__label sk-toggleable__label-arrow\">GridSearchCV</label><div class=\"sk-toggleable__content\"><pre>GridSearchCV(cv=5, estimator=RandomForestRegressor(), n_jobs=-1,\n",
       "             param_grid={&#x27;n_estimators&#x27;: [100, 200, 300, 1000]})</pre></div></div></div><div class=\"sk-parallel\"><div class=\"sk-parallel-item\"><div class=\"sk-item\"><div class=\"sk-label-container\"><div class=\"sk-label sk-toggleable\"><input class=\"sk-toggleable__control sk-hidden--visually\" id=\"sk-estimator-id-5\" type=\"checkbox\" ><label for=\"sk-estimator-id-5\" class=\"sk-toggleable__label sk-toggleable__label-arrow\">estimator: RandomForestRegressor</label><div class=\"sk-toggleable__content\"><pre>RandomForestRegressor()</pre></div></div></div><div class=\"sk-serial\"><div class=\"sk-item\"><div class=\"sk-estimator sk-toggleable\"><input class=\"sk-toggleable__control sk-hidden--visually\" id=\"sk-estimator-id-6\" type=\"checkbox\" ><label for=\"sk-estimator-id-6\" class=\"sk-toggleable__label sk-toggleable__label-arrow\">RandomForestRegressor</label><div class=\"sk-toggleable__content\"><pre>RandomForestRegressor()</pre></div></div></div></div></div></div></div></div></div></div>"
      ],
      "text/plain": [
       "GridSearchCV(cv=5, estimator=RandomForestRegressor(), n_jobs=-1,\n",
       "             param_grid={'n_estimators': [100, 200, 300, 1000]})"
      ]
     },
     "execution_count": 26,
     "metadata": {},
     "output_type": "execute_result"
    }
   ],
   "source": [
    "grid_search.fit(X_train, y_train)"
   ]
  },
  {
   "cell_type": "code",
   "execution_count": 27,
   "id": "60179bfa",
   "metadata": {},
   "outputs": [
    {
     "data": {
      "text/plain": [
       "0.37050940429517215"
      ]
     },
     "execution_count": 27,
     "metadata": {},
     "output_type": "execute_result"
    }
   ],
   "source": [
    "grid_search.best_score_"
   ]
  },
  {
   "cell_type": "code",
   "execution_count": 28,
   "id": "2815fcf3",
   "metadata": {},
   "outputs": [
    {
     "data": {
      "text/plain": [
       "{'n_estimators': 300}"
      ]
     },
     "execution_count": 28,
     "metadata": {},
     "output_type": "execute_result"
    }
   ],
   "source": [
    "grid_search.best_params_"
   ]
  },
  {
   "cell_type": "code",
   "execution_count": 30,
   "id": "95bb09b9",
   "metadata": {},
   "outputs": [
    {
     "data": {
      "text/html": [
       "<style>#sk-container-id-3 {color: black;background-color: white;}#sk-container-id-3 pre{padding: 0;}#sk-container-id-3 div.sk-toggleable {background-color: white;}#sk-container-id-3 label.sk-toggleable__label {cursor: pointer;display: block;width: 100%;margin-bottom: 0;padding: 0.3em;box-sizing: border-box;text-align: center;}#sk-container-id-3 label.sk-toggleable__label-arrow:before {content: \"▸\";float: left;margin-right: 0.25em;color: #696969;}#sk-container-id-3 label.sk-toggleable__label-arrow:hover:before {color: black;}#sk-container-id-3 div.sk-estimator:hover label.sk-toggleable__label-arrow:before {color: black;}#sk-container-id-3 div.sk-toggleable__content {max-height: 0;max-width: 0;overflow: hidden;text-align: left;background-color: #f0f8ff;}#sk-container-id-3 div.sk-toggleable__content pre {margin: 0.2em;color: black;border-radius: 0.25em;background-color: #f0f8ff;}#sk-container-id-3 input.sk-toggleable__control:checked~div.sk-toggleable__content {max-height: 200px;max-width: 100%;overflow: auto;}#sk-container-id-3 input.sk-toggleable__control:checked~label.sk-toggleable__label-arrow:before {content: \"▾\";}#sk-container-id-3 div.sk-estimator input.sk-toggleable__control:checked~label.sk-toggleable__label {background-color: #d4ebff;}#sk-container-id-3 div.sk-label input.sk-toggleable__control:checked~label.sk-toggleable__label {background-color: #d4ebff;}#sk-container-id-3 input.sk-hidden--visually {border: 0;clip: rect(1px 1px 1px 1px);clip: rect(1px, 1px, 1px, 1px);height: 1px;margin: -1px;overflow: hidden;padding: 0;position: absolute;width: 1px;}#sk-container-id-3 div.sk-estimator {font-family: monospace;background-color: #f0f8ff;border: 1px dotted black;border-radius: 0.25em;box-sizing: border-box;margin-bottom: 0.5em;}#sk-container-id-3 div.sk-estimator:hover {background-color: #d4ebff;}#sk-container-id-3 div.sk-parallel-item::after {content: \"\";width: 100%;border-bottom: 1px solid gray;flex-grow: 1;}#sk-container-id-3 div.sk-label:hover label.sk-toggleable__label {background-color: #d4ebff;}#sk-container-id-3 div.sk-serial::before {content: \"\";position: absolute;border-left: 1px solid gray;box-sizing: border-box;top: 0;bottom: 0;left: 50%;z-index: 0;}#sk-container-id-3 div.sk-serial {display: flex;flex-direction: column;align-items: center;background-color: white;padding-right: 0.2em;padding-left: 0.2em;position: relative;}#sk-container-id-3 div.sk-item {position: relative;z-index: 1;}#sk-container-id-3 div.sk-parallel {display: flex;align-items: stretch;justify-content: center;background-color: white;position: relative;}#sk-container-id-3 div.sk-item::before, #sk-container-id-3 div.sk-parallel-item::before {content: \"\";position: absolute;border-left: 1px solid gray;box-sizing: border-box;top: 0;bottom: 0;left: 50%;z-index: -1;}#sk-container-id-3 div.sk-parallel-item {display: flex;flex-direction: column;z-index: 1;position: relative;background-color: white;}#sk-container-id-3 div.sk-parallel-item:first-child::after {align-self: flex-end;width: 50%;}#sk-container-id-3 div.sk-parallel-item:last-child::after {align-self: flex-start;width: 50%;}#sk-container-id-3 div.sk-parallel-item:only-child::after {width: 0;}#sk-container-id-3 div.sk-dashed-wrapped {border: 1px dashed gray;margin: 0 0.4em 0.5em 0.4em;box-sizing: border-box;padding-bottom: 0.4em;background-color: white;}#sk-container-id-3 div.sk-label label {font-family: monospace;font-weight: bold;display: inline-block;line-height: 1.2em;}#sk-container-id-3 div.sk-label-container {text-align: center;}#sk-container-id-3 div.sk-container {/* jupyter's `normalize.less` sets `[hidden] { display: none; }` but bootstrap.min.css set `[hidden] { display: none !important; }` so we also need the `!important` here to be able to override the default hidden behavior on the sphinx rendered scikit-learn.org. See: https://github.com/scikit-learn/scikit-learn/issues/21755 */display: inline-block !important;position: relative;}#sk-container-id-3 div.sk-text-repr-fallback {display: none;}</style><div id=\"sk-container-id-3\" class=\"sk-top-container\"><div class=\"sk-text-repr-fallback\"><pre>RandomForestRegressor(n_estimators=300)</pre><b>In a Jupyter environment, please rerun this cell to show the HTML representation or trust the notebook. <br />On GitHub, the HTML representation is unable to render, please try loading this page with nbviewer.org.</b></div><div class=\"sk-container\" hidden><div class=\"sk-item\"><div class=\"sk-estimator sk-toggleable\"><input class=\"sk-toggleable__control sk-hidden--visually\" id=\"sk-estimator-id-7\" type=\"checkbox\" checked><label for=\"sk-estimator-id-7\" class=\"sk-toggleable__label sk-toggleable__label-arrow\">RandomForestRegressor</label><div class=\"sk-toggleable__content\"><pre>RandomForestRegressor(n_estimators=300)</pre></div></div></div></div></div>"
      ],
      "text/plain": [
       "RandomForestRegressor(n_estimators=300)"
      ]
     },
     "execution_count": 30,
     "metadata": {},
     "output_type": "execute_result"
    }
   ],
   "source": [
    "grid_search.best_estimator_"
   ]
  },
  {
   "cell_type": "code",
   "execution_count": 32,
   "id": "8da7497f",
   "metadata": {},
   "outputs": [],
   "source": [
    "#Using the recommended best paramters to create a new model\n",
    "model_2 = RandomForestClassifier(n_estimators=300)  "
   ]
  },
  {
   "cell_type": "code",
   "execution_count": 34,
   "id": "453d470d",
   "metadata": {},
   "outputs": [],
   "source": [
    "model_2.fit(X_train, y_train)\n",
    "preds_2 = model_2.predict(X_test)"
   ]
  },
  {
   "cell_type": "code",
   "execution_count": 35,
   "id": "f83bd89f",
   "metadata": {},
   "outputs": [
    {
     "data": {
      "text/plain": [
       "array([8, 0, 6, 3, 0, 8, 1, 4, 1, 8, 5, 4, 8, 1, 7, 6, 0, 1, 2, 4, 5, 5,\n",
       "       1, 7, 4, 1, 2, 2, 6, 9, 5, 5, 6, 0, 9, 3, 6, 2, 4, 8, 5, 4, 9, 2,\n",
       "       2, 0, 3, 8, 6, 6, 6, 9, 7, 5, 6, 6, 6, 3, 5, 8, 1, 7, 7, 2, 5, 4,\n",
       "       0, 3, 7, 7, 2, 1, 7, 5, 1, 0, 8, 8, 1, 9, 8, 8, 4, 1, 4, 9, 4, 3,\n",
       "       1, 5, 1, 5, 5, 4, 7, 1, 8, 0, 8, 6, 9, 6, 0, 6, 7, 3, 9, 6, 1, 4,\n",
       "       7, 8, 2, 0, 9, 0, 8, 5, 5, 4, 3, 0, 5, 8, 9, 2, 9, 5, 8, 4, 6, 9,\n",
       "       5, 2, 2, 2, 5, 7, 1, 1, 4, 6, 0, 1, 5, 6, 7, 9, 5, 3, 3, 6, 8, 7,\n",
       "       5, 6, 2, 9, 3, 0, 5, 1, 9, 0, 5, 7, 2, 0, 6, 9, 3, 9, 4, 0, 2, 9,\n",
       "       2, 9, 6, 2, 4, 8, 3, 8, 8, 5, 1, 2, 1, 6, 1, 4, 4, 0, 6, 2, 9, 7,\n",
       "       9, 7, 1, 4, 2, 9, 1, 3, 7, 1, 6, 7, 0, 4, 4, 8, 5, 1, 1, 3, 7, 4,\n",
       "       8, 5, 4, 5, 0, 2, 1, 7, 1, 7, 9, 9, 9, 0, 1, 4, 4, 6, 1, 7, 5, 0,\n",
       "       7, 8, 7, 7, 5, 0, 1, 3])"
      ]
     },
     "execution_count": 35,
     "metadata": {},
     "output_type": "execute_result"
    }
   ],
   "source": [
    "preds_2"
   ]
  },
  {
   "cell_type": "code",
   "execution_count": 36,
   "id": "7d4e926c",
   "metadata": {},
   "outputs": [
    {
     "name": "stdout",
     "output_type": "stream",
     "text": [
      "              precision    recall  f1-score   support\n",
      "\n",
      "      hiphop       0.48      0.48      0.48        23\n",
      "   classical       0.94      0.97      0.95        31\n",
      "       blues       0.55      0.57      0.56        21\n",
      "       metal       0.94      0.94      0.94        16\n",
      "        jazz       0.77      0.80      0.78        25\n",
      "     country       0.60      0.62      0.61        29\n",
      "         pop       0.85      0.79      0.81        28\n",
      "        rock       0.54      0.61      0.57        23\n",
      "       disco       0.67      0.52      0.58        31\n",
      "      reggae       0.56      0.61      0.58        23\n",
      "\n",
      "    accuracy                           0.69       250\n",
      "   macro avg       0.69      0.69      0.69       250\n",
      "weighted avg       0.69      0.69      0.69       250\n",
      "\n"
     ]
    }
   ],
   "source": [
    "y_true = y_test\n",
    "y_pred = preds_2\n",
    "target_names = ['hiphop', 'classical', 'blues', 'metal', 'jazz', 'country', 'pop', 'rock', 'disco', 'reggae']\n",
    "print(classification_report(y_true, y_pred, target_names=target_names))"
   ]
  },
  {
   "cell_type": "code",
   "execution_count": 41,
   "id": "d5441104",
   "metadata": {},
   "outputs": [
    {
     "data": {
      "text/plain": [
       "0.04287090558766837"
      ]
     },
     "execution_count": 41,
     "metadata": {},
     "output_type": "execute_result"
    }
   ],
   "source": [
    "r2_score(y_true, preds_2)"
   ]
  },
  {
   "cell_type": "code",
   "execution_count": null,
   "id": "81336cfa",
   "metadata": {},
   "outputs": [],
   "source": []
  }
 ],
 "metadata": {
  "kernelspec": {
   "display_name": "Python 3 (ipykernel)",
   "language": "python",
   "name": "python3"
  },
  "language_info": {
   "codemirror_mode": {
    "name": "ipython",
    "version": 3
   },
   "file_extension": ".py",
   "mimetype": "text/x-python",
   "name": "python",
   "nbconvert_exporter": "python",
   "pygments_lexer": "ipython3",
   "version": "3.8.12"
  },
  "toc": {
   "base_numbering": 1,
   "nav_menu": {},
   "number_sections": true,
   "sideBar": true,
   "skip_h1_title": false,
   "title_cell": "Table of Contents",
   "title_sidebar": "Contents",
   "toc_cell": false,
   "toc_position": {},
   "toc_section_display": true,
   "toc_window_display": false
  }
 },
 "nbformat": 4,
 "nbformat_minor": 5
}
