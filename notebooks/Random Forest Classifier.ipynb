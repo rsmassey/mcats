{
 "cells": [
  {
   "cell_type": "code",
   "execution_count": 2,
   "id": "83bba000",
   "metadata": {},
   "outputs": [],
   "source": [
    "import pandas as pd\n",
    "import numpy as np\n",
    "import matplotlib.pyplot as plt\n",
    "from sklearn.model_selection import train_test_split\n",
    "from sklearn.ensemble import RandomForestClassifier\n",
    "from sklearn.metrics import classification_report\n",
    "from sklearn.model_selection import GridSearchCV\n",
    "from sklearn.model_selection import RandomizedSearchCV\n",
    "from sklearn.ensemble import RandomForestRegressor\n",
    "from scipy.stats import randint\n",
    "from sklearn.metrics import r2_score\n"
   ]
  },
  {
   "cell_type": "markdown",
   "id": "9df4c036",
   "metadata": {},
   "source": [
    "Remember to split the data so training the model doesn't take so long. When the model looks good, use the whole dataset."
   ]
  },
  {
   "cell_type": "code",
   "execution_count": 3,
   "id": "24ec193e",
   "metadata": {},
   "outputs": [],
   "source": [
    "data = pd.read_csv(\"../mcats/data/norm_jamendo_data_2.csv\")"
   ]
  },
  {
   "cell_type": "code",
   "execution_count": 4,
   "id": "2a70a7ea",
   "metadata": {},
   "outputs": [
    {
     "data": {
      "text/html": [
       "<div>\n",
       "<style scoped>\n",
       "    .dataframe tbody tr th:only-of-type {\n",
       "        vertical-align: middle;\n",
       "    }\n",
       "\n",
       "    .dataframe tbody tr th {\n",
       "        vertical-align: top;\n",
       "    }\n",
       "\n",
       "    .dataframe thead th {\n",
       "        text-align: right;\n",
       "    }\n",
       "</style>\n",
       "<table border=\"1\" class=\"dataframe\">\n",
       "  <thead>\n",
       "    <tr style=\"text-align: right;\">\n",
       "      <th></th>\n",
       "      <th>Unnamed: 0</th>\n",
       "      <th>tempo</th>\n",
       "      <th>beats_mean</th>\n",
       "      <th>beats_var</th>\n",
       "      <th>zero_crossings_mean</th>\n",
       "      <th>zero_crossings_var</th>\n",
       "      <th>spectral_centroids_mean</th>\n",
       "      <th>spectral_centroids_var</th>\n",
       "      <th>spectral_rolloff_mean</th>\n",
       "      <th>spectral_rolloff_var</th>\n",
       "      <th>...</th>\n",
       "      <th>mfcc_36_var</th>\n",
       "      <th>mfcc_37_mean</th>\n",
       "      <th>mfcc_37_var</th>\n",
       "      <th>mfcc_38_mean</th>\n",
       "      <th>mfcc_38_var</th>\n",
       "      <th>mfcc_39_mean</th>\n",
       "      <th>mfcc_39_var</th>\n",
       "      <th>mfcc_40_mean</th>\n",
       "      <th>mfcc_40_var</th>\n",
       "      <th>genre</th>\n",
       "    </tr>\n",
       "  </thead>\n",
       "  <tbody>\n",
       "    <tr>\n",
       "      <th>0</th>\n",
       "      <td>KMR BND - SkeletBeatz - Twenty Eight Days.mp3</td>\n",
       "      <td>1.003966</td>\n",
       "      <td>0.122272</td>\n",
       "      <td>0.187999</td>\n",
       "      <td>-1.410052</td>\n",
       "      <td>-1.549644</td>\n",
       "      <td>-0.791929</td>\n",
       "      <td>1.923325</td>\n",
       "      <td>-0.571025</td>\n",
       "      <td>3.309409</td>\n",
       "      <td>...</td>\n",
       "      <td>-0.748305</td>\n",
       "      <td>0.230004</td>\n",
       "      <td>-0.776951</td>\n",
       "      <td>-1.332095</td>\n",
       "      <td>-0.741770</td>\n",
       "      <td>-0.269807</td>\n",
       "      <td>-0.519712</td>\n",
       "      <td>-0.159013</td>\n",
       "      <td>-0.597178</td>\n",
       "      <td>0</td>\n",
       "    </tr>\n",
       "    <tr>\n",
       "      <th>1</th>\n",
       "      <td>chapardos - vrai.mp3</td>\n",
       "      <td>-1.079908</td>\n",
       "      <td>0.107931</td>\n",
       "      <td>0.111471</td>\n",
       "      <td>0.314154</td>\n",
       "      <td>0.379111</td>\n",
       "      <td>0.043147</td>\n",
       "      <td>3.717204</td>\n",
       "      <td>-0.097906</td>\n",
       "      <td>3.564664</td>\n",
       "      <td>...</td>\n",
       "      <td>0.493576</td>\n",
       "      <td>-1.897921</td>\n",
       "      <td>-0.740129</td>\n",
       "      <td>0.314150</td>\n",
       "      <td>-0.219132</td>\n",
       "      <td>0.659573</td>\n",
       "      <td>-0.649077</td>\n",
       "      <td>-0.486640</td>\n",
       "      <td>-0.358558</td>\n",
       "      <td>0</td>\n",
       "    </tr>\n",
       "    <tr>\n",
       "      <th>2</th>\n",
       "      <td>Siga - TURBOLENZE.mp3</td>\n",
       "      <td>1.318718</td>\n",
       "      <td>0.616986</td>\n",
       "      <td>0.058265</td>\n",
       "      <td>-0.577333</td>\n",
       "      <td>-0.581237</td>\n",
       "      <td>-0.018832</td>\n",
       "      <td>-0.128383</td>\n",
       "      <td>0.261829</td>\n",
       "      <td>0.079143</td>\n",
       "      <td>...</td>\n",
       "      <td>-0.443534</td>\n",
       "      <td>-1.118393</td>\n",
       "      <td>-0.173191</td>\n",
       "      <td>-0.036943</td>\n",
       "      <td>-0.086174</td>\n",
       "      <td>-0.061328</td>\n",
       "      <td>-0.088370</td>\n",
       "      <td>1.119735</td>\n",
       "      <td>0.139470</td>\n",
       "      <td>0</td>\n",
       "    </tr>\n",
       "  </tbody>\n",
       "</table>\n",
       "<p>3 rows × 91 columns</p>\n",
       "</div>"
      ],
      "text/plain": [
       "                                      Unnamed: 0     tempo  beats_mean  \\\n",
       "0  KMR BND - SkeletBeatz - Twenty Eight Days.mp3  1.003966    0.122272   \n",
       "1                           chapardos - vrai.mp3 -1.079908    0.107931   \n",
       "2                          Siga - TURBOLENZE.mp3  1.318718    0.616986   \n",
       "\n",
       "   beats_var  zero_crossings_mean  zero_crossings_var  \\\n",
       "0   0.187999            -1.410052           -1.549644   \n",
       "1   0.111471             0.314154            0.379111   \n",
       "2   0.058265            -0.577333           -0.581237   \n",
       "\n",
       "   spectral_centroids_mean  spectral_centroids_var  spectral_rolloff_mean  \\\n",
       "0                -0.791929                1.923325              -0.571025   \n",
       "1                 0.043147                3.717204              -0.097906   \n",
       "2                -0.018832               -0.128383               0.261829   \n",
       "\n",
       "   spectral_rolloff_var  ...  mfcc_36_var  mfcc_37_mean  mfcc_37_var  \\\n",
       "0              3.309409  ...    -0.748305      0.230004    -0.776951   \n",
       "1              3.564664  ...     0.493576     -1.897921    -0.740129   \n",
       "2              0.079143  ...    -0.443534     -1.118393    -0.173191   \n",
       "\n",
       "   mfcc_38_mean  mfcc_38_var  mfcc_39_mean  mfcc_39_var  mfcc_40_mean  \\\n",
       "0     -1.332095    -0.741770     -0.269807    -0.519712     -0.159013   \n",
       "1      0.314150    -0.219132      0.659573    -0.649077     -0.486640   \n",
       "2     -0.036943    -0.086174     -0.061328    -0.088370      1.119735   \n",
       "\n",
       "   mfcc_40_var  genre  \n",
       "0    -0.597178      0  \n",
       "1    -0.358558      0  \n",
       "2     0.139470      0  \n",
       "\n",
       "[3 rows x 91 columns]"
      ]
     },
     "execution_count": 4,
     "metadata": {},
     "output_type": "execute_result"
    }
   ],
   "source": [
    "data.head(3)"
   ]
  },
  {
   "cell_type": "code",
   "execution_count": 5,
   "id": "ed72f6d6",
   "metadata": {},
   "outputs": [],
   "source": [
    "data = data.drop(\"Unnamed: 0\", axis =1)"
   ]
  },
  {
   "cell_type": "code",
   "execution_count": 6,
   "id": "b9f23b63",
   "metadata": {},
   "outputs": [],
   "source": [
    "X = data.drop(columns = \"genre\")\n",
    "y = data[\"genre\"]"
   ]
  },
  {
   "cell_type": "markdown",
   "id": "d238d53e",
   "metadata": {},
   "source": [
    "Random forest is being used to prevent overcorrelation. The previous result should not affect the next results. So, it should give a more accurate prediction."
   ]
  },
  {
   "cell_type": "code",
   "execution_count": 7,
   "id": "54006c2e",
   "metadata": {},
   "outputs": [
    {
     "data": {
      "text/plain": [
       "(1197, 89)"
      ]
     },
     "execution_count": 7,
     "metadata": {},
     "output_type": "execute_result"
    }
   ],
   "source": [
    "X.shape"
   ]
  },
  {
   "cell_type": "code",
   "execution_count": 8,
   "id": "81c7cedc",
   "metadata": {},
   "outputs": [
    {
     "data": {
      "text/plain": [
       "(1197,)"
      ]
     },
     "execution_count": 8,
     "metadata": {},
     "output_type": "execute_result"
    }
   ],
   "source": [
    "y.shape"
   ]
  },
  {
   "cell_type": "code",
   "execution_count": 9,
   "id": "7cbbb002",
   "metadata": {},
   "outputs": [
    {
     "data": {
      "text/html": [
       "<div>\n",
       "<style scoped>\n",
       "    .dataframe tbody tr th:only-of-type {\n",
       "        vertical-align: middle;\n",
       "    }\n",
       "\n",
       "    .dataframe tbody tr th {\n",
       "        vertical-align: top;\n",
       "    }\n",
       "\n",
       "    .dataframe thead th {\n",
       "        text-align: right;\n",
       "    }\n",
       "</style>\n",
       "<table border=\"1\" class=\"dataframe\">\n",
       "  <thead>\n",
       "    <tr style=\"text-align: right;\">\n",
       "      <th></th>\n",
       "      <th>tempo</th>\n",
       "      <th>beats_mean</th>\n",
       "      <th>beats_var</th>\n",
       "      <th>zero_crossings_mean</th>\n",
       "      <th>zero_crossings_var</th>\n",
       "      <th>spectral_centroids_mean</th>\n",
       "      <th>spectral_centroids_var</th>\n",
       "      <th>spectral_rolloff_mean</th>\n",
       "      <th>spectral_rolloff_var</th>\n",
       "      <th>mfcc_1_mean</th>\n",
       "      <th>...</th>\n",
       "      <th>mfcc_36_mean</th>\n",
       "      <th>mfcc_36_var</th>\n",
       "      <th>mfcc_37_mean</th>\n",
       "      <th>mfcc_37_var</th>\n",
       "      <th>mfcc_38_mean</th>\n",
       "      <th>mfcc_38_var</th>\n",
       "      <th>mfcc_39_mean</th>\n",
       "      <th>mfcc_39_var</th>\n",
       "      <th>mfcc_40_mean</th>\n",
       "      <th>mfcc_40_var</th>\n",
       "    </tr>\n",
       "  </thead>\n",
       "  <tbody>\n",
       "    <tr>\n",
       "      <th>0</th>\n",
       "      <td>1.003966</td>\n",
       "      <td>0.122272</td>\n",
       "      <td>0.187999</td>\n",
       "      <td>-1.410052</td>\n",
       "      <td>-1.549644</td>\n",
       "      <td>-0.791929</td>\n",
       "      <td>1.923325</td>\n",
       "      <td>-0.571025</td>\n",
       "      <td>3.309409</td>\n",
       "      <td>-1.343421</td>\n",
       "      <td>...</td>\n",
       "      <td>0.687923</td>\n",
       "      <td>-0.748305</td>\n",
       "      <td>0.230004</td>\n",
       "      <td>-0.776951</td>\n",
       "      <td>-1.332095</td>\n",
       "      <td>-0.741770</td>\n",
       "      <td>-0.269807</td>\n",
       "      <td>-0.519712</td>\n",
       "      <td>-0.159013</td>\n",
       "      <td>-0.597178</td>\n",
       "    </tr>\n",
       "    <tr>\n",
       "      <th>1</th>\n",
       "      <td>-1.079908</td>\n",
       "      <td>0.107931</td>\n",
       "      <td>0.111471</td>\n",
       "      <td>0.314154</td>\n",
       "      <td>0.379111</td>\n",
       "      <td>0.043147</td>\n",
       "      <td>3.717204</td>\n",
       "      <td>-0.097906</td>\n",
       "      <td>3.564664</td>\n",
       "      <td>-1.224810</td>\n",
       "      <td>...</td>\n",
       "      <td>-3.358467</td>\n",
       "      <td>0.493576</td>\n",
       "      <td>-1.897921</td>\n",
       "      <td>-0.740129</td>\n",
       "      <td>0.314150</td>\n",
       "      <td>-0.219132</td>\n",
       "      <td>0.659573</td>\n",
       "      <td>-0.649077</td>\n",
       "      <td>-0.486640</td>\n",
       "      <td>-0.358558</td>\n",
       "    </tr>\n",
       "    <tr>\n",
       "      <th>2</th>\n",
       "      <td>1.318718</td>\n",
       "      <td>0.616986</td>\n",
       "      <td>0.058265</td>\n",
       "      <td>-0.577333</td>\n",
       "      <td>-0.581237</td>\n",
       "      <td>-0.018832</td>\n",
       "      <td>-0.128383</td>\n",
       "      <td>0.261829</td>\n",
       "      <td>0.079143</td>\n",
       "      <td>0.902551</td>\n",
       "      <td>...</td>\n",
       "      <td>-0.250954</td>\n",
       "      <td>-0.443534</td>\n",
       "      <td>-1.118393</td>\n",
       "      <td>-0.173191</td>\n",
       "      <td>-0.036943</td>\n",
       "      <td>-0.086174</td>\n",
       "      <td>-0.061328</td>\n",
       "      <td>-0.088370</td>\n",
       "      <td>1.119735</td>\n",
       "      <td>0.139470</td>\n",
       "    </tr>\n",
       "    <tr>\n",
       "      <th>3</th>\n",
       "      <td>-1.079908</td>\n",
       "      <td>0.350017</td>\n",
       "      <td>0.433835</td>\n",
       "      <td>2.801299</td>\n",
       "      <td>2.640681</td>\n",
       "      <td>1.902973</td>\n",
       "      <td>1.188665</td>\n",
       "      <td>1.390492</td>\n",
       "      <td>0.343887</td>\n",
       "      <td>0.889334</td>\n",
       "      <td>...</td>\n",
       "      <td>-1.410859</td>\n",
       "      <td>-0.678599</td>\n",
       "      <td>-2.055088</td>\n",
       "      <td>-0.767065</td>\n",
       "      <td>-1.316746</td>\n",
       "      <td>-0.515876</td>\n",
       "      <td>-2.705483</td>\n",
       "      <td>-0.357926</td>\n",
       "      <td>-1.685651</td>\n",
       "      <td>-0.363692</td>\n",
       "    </tr>\n",
       "    <tr>\n",
       "      <th>4</th>\n",
       "      <td>1.003966</td>\n",
       "      <td>-0.385824</td>\n",
       "      <td>-0.150615</td>\n",
       "      <td>-0.024790</td>\n",
       "      <td>0.023294</td>\n",
       "      <td>0.440305</td>\n",
       "      <td>0.735374</td>\n",
       "      <td>0.255220</td>\n",
       "      <td>0.939760</td>\n",
       "      <td>0.253516</td>\n",
       "      <td>...</td>\n",
       "      <td>1.598741</td>\n",
       "      <td>-0.724334</td>\n",
       "      <td>1.429975</td>\n",
       "      <td>-0.047884</td>\n",
       "      <td>2.430606</td>\n",
       "      <td>-0.007695</td>\n",
       "      <td>1.250527</td>\n",
       "      <td>-0.080721</td>\n",
       "      <td>-1.084186</td>\n",
       "      <td>-0.052663</td>\n",
       "    </tr>\n",
       "  </tbody>\n",
       "</table>\n",
       "<p>5 rows × 89 columns</p>\n",
       "</div>"
      ],
      "text/plain": [
       "      tempo  beats_mean  beats_var  zero_crossings_mean  zero_crossings_var  \\\n",
       "0  1.003966    0.122272   0.187999            -1.410052           -1.549644   \n",
       "1 -1.079908    0.107931   0.111471             0.314154            0.379111   \n",
       "2  1.318718    0.616986   0.058265            -0.577333           -0.581237   \n",
       "3 -1.079908    0.350017   0.433835             2.801299            2.640681   \n",
       "4  1.003966   -0.385824  -0.150615            -0.024790            0.023294   \n",
       "\n",
       "   spectral_centroids_mean  spectral_centroids_var  spectral_rolloff_mean  \\\n",
       "0                -0.791929                1.923325              -0.571025   \n",
       "1                 0.043147                3.717204              -0.097906   \n",
       "2                -0.018832               -0.128383               0.261829   \n",
       "3                 1.902973                1.188665               1.390492   \n",
       "4                 0.440305                0.735374               0.255220   \n",
       "\n",
       "   spectral_rolloff_var  mfcc_1_mean  ...  mfcc_36_mean  mfcc_36_var  \\\n",
       "0              3.309409    -1.343421  ...      0.687923    -0.748305   \n",
       "1              3.564664    -1.224810  ...     -3.358467     0.493576   \n",
       "2              0.079143     0.902551  ...     -0.250954    -0.443534   \n",
       "3              0.343887     0.889334  ...     -1.410859    -0.678599   \n",
       "4              0.939760     0.253516  ...      1.598741    -0.724334   \n",
       "\n",
       "   mfcc_37_mean  mfcc_37_var  mfcc_38_mean  mfcc_38_var  mfcc_39_mean  \\\n",
       "0      0.230004    -0.776951     -1.332095    -0.741770     -0.269807   \n",
       "1     -1.897921    -0.740129      0.314150    -0.219132      0.659573   \n",
       "2     -1.118393    -0.173191     -0.036943    -0.086174     -0.061328   \n",
       "3     -2.055088    -0.767065     -1.316746    -0.515876     -2.705483   \n",
       "4      1.429975    -0.047884      2.430606    -0.007695      1.250527   \n",
       "\n",
       "   mfcc_39_var  mfcc_40_mean  mfcc_40_var  \n",
       "0    -0.519712     -0.159013    -0.597178  \n",
       "1    -0.649077     -0.486640    -0.358558  \n",
       "2    -0.088370      1.119735     0.139470  \n",
       "3    -0.357926     -1.685651    -0.363692  \n",
       "4    -0.080721     -1.084186    -0.052663  \n",
       "\n",
       "[5 rows x 89 columns]"
      ]
     },
     "execution_count": 9,
     "metadata": {},
     "output_type": "execute_result"
    }
   ],
   "source": [
    "X.head()"
   ]
  },
  {
   "cell_type": "code",
   "execution_count": 16,
   "id": "cb6c9d3a",
   "metadata": {},
   "outputs": [],
   "source": [
    "X_train, X_test, y_train, y_test = train_test_split(X, y,test_size=0.3, random_state=42)"
   ]
  },
  {
   "cell_type": "code",
   "execution_count": 17,
   "id": "e19b5613",
   "metadata": {},
   "outputs": [
    {
     "data": {
      "text/plain": [
       "213     1\n",
       "120     0\n",
       "560     4\n",
       "968     5\n",
       "620     6\n",
       "       ..\n",
       "1044    5\n",
       "1095    7\n",
       "1130    7\n",
       "860     2\n",
       "1126    7\n",
       "Name: genre, Length: 837, dtype: int64"
      ]
     },
     "execution_count": 17,
     "metadata": {},
     "output_type": "execute_result"
    }
   ],
   "source": [
    "y_train"
   ]
  },
  {
   "cell_type": "code",
   "execution_count": 18,
   "id": "93ddf0b5",
   "metadata": {},
   "outputs": [
    {
     "name": "stdout",
     "output_type": "stream",
     "text": [
      "              precision    recall  f1-score   support\n",
      "\n",
      "      hiphop       1.00      1.00      1.00       103\n",
      "   classical       1.00      1.00      1.00       103\n",
      "         pop       1.00      1.00      1.00       102\n",
      "  electronic       1.00      1.00      1.00        97\n",
      "       metal       1.00      1.00      1.00       102\n",
      "        rock       1.00      1.00      1.00       109\n",
      "     country       1.00      1.00      1.00       108\n",
      "      reggae       1.00      1.00      1.00       113\n",
      "\n",
      "    accuracy                           1.00       837\n",
      "   macro avg       1.00      1.00      1.00       837\n",
      "weighted avg       1.00      1.00      1.00       837\n",
      "\n"
     ]
    }
   ],
   "source": [
    "#The parenthesis are blank here because it will run the defaul values\n",
    "model = RandomForestClassifier()  \n",
    "model.fit(X_train, y_train)\n",
    "preds = model.predict(X_train)\n",
    "#y_ true is y_test  predict on x_text  y_pred is the output of the model\n",
    "y_true = y_train\n",
    "y_pred = preds\n",
    "target_names = ['hiphop','classical','pop','electronic','metal', 'rock','country','reggae']\n",
    "print(classification_report(y_true, y_pred, target_names=target_names))"
   ]
  },
  {
   "cell_type": "code",
   "execution_count": 23,
   "id": "3ff725b8",
   "metadata": {},
   "outputs": [
    {
     "name": "stdout",
     "output_type": "stream",
     "text": [
      "0.8738512949039264\n"
     ]
    }
   ],
   "source": [
    "print(model.score(X,y))"
   ]
  },
  {
   "cell_type": "code",
   "execution_count": 12,
   "id": "effb9ea1",
   "metadata": {},
   "outputs": [],
   "source": [
    "param_grid = {\n",
    "  \n",
    "    'n_estimators': [2, 30, 50, 100, 200, 300, 500, 1000]\n",
    "}\n",
    "random_forest_model = RandomForestRegressor()\n",
    "# Looking for best parameters for the random forest model\n",
    "grid_search = GridSearchCV(estimator = random_forest_model , param_grid = param_grid, cv = 5, n_jobs = -1)"
   ]
  },
  {
   "cell_type": "code",
   "execution_count": 13,
   "id": "e16e8203",
   "metadata": {},
   "outputs": [
    {
     "data": {
      "text/html": [
       "<style>#sk-container-id-1 {color: black;background-color: white;}#sk-container-id-1 pre{padding: 0;}#sk-container-id-1 div.sk-toggleable {background-color: white;}#sk-container-id-1 label.sk-toggleable__label {cursor: pointer;display: block;width: 100%;margin-bottom: 0;padding: 0.3em;box-sizing: border-box;text-align: center;}#sk-container-id-1 label.sk-toggleable__label-arrow:before {content: \"▸\";float: left;margin-right: 0.25em;color: #696969;}#sk-container-id-1 label.sk-toggleable__label-arrow:hover:before {color: black;}#sk-container-id-1 div.sk-estimator:hover label.sk-toggleable__label-arrow:before {color: black;}#sk-container-id-1 div.sk-toggleable__content {max-height: 0;max-width: 0;overflow: hidden;text-align: left;background-color: #f0f8ff;}#sk-container-id-1 div.sk-toggleable__content pre {margin: 0.2em;color: black;border-radius: 0.25em;background-color: #f0f8ff;}#sk-container-id-1 input.sk-toggleable__control:checked~div.sk-toggleable__content {max-height: 200px;max-width: 100%;overflow: auto;}#sk-container-id-1 input.sk-toggleable__control:checked~label.sk-toggleable__label-arrow:before {content: \"▾\";}#sk-container-id-1 div.sk-estimator input.sk-toggleable__control:checked~label.sk-toggleable__label {background-color: #d4ebff;}#sk-container-id-1 div.sk-label input.sk-toggleable__control:checked~label.sk-toggleable__label {background-color: #d4ebff;}#sk-container-id-1 input.sk-hidden--visually {border: 0;clip: rect(1px 1px 1px 1px);clip: rect(1px, 1px, 1px, 1px);height: 1px;margin: -1px;overflow: hidden;padding: 0;position: absolute;width: 1px;}#sk-container-id-1 div.sk-estimator {font-family: monospace;background-color: #f0f8ff;border: 1px dotted black;border-radius: 0.25em;box-sizing: border-box;margin-bottom: 0.5em;}#sk-container-id-1 div.sk-estimator:hover {background-color: #d4ebff;}#sk-container-id-1 div.sk-parallel-item::after {content: \"\";width: 100%;border-bottom: 1px solid gray;flex-grow: 1;}#sk-container-id-1 div.sk-label:hover label.sk-toggleable__label {background-color: #d4ebff;}#sk-container-id-1 div.sk-serial::before {content: \"\";position: absolute;border-left: 1px solid gray;box-sizing: border-box;top: 0;bottom: 0;left: 50%;z-index: 0;}#sk-container-id-1 div.sk-serial {display: flex;flex-direction: column;align-items: center;background-color: white;padding-right: 0.2em;padding-left: 0.2em;position: relative;}#sk-container-id-1 div.sk-item {position: relative;z-index: 1;}#sk-container-id-1 div.sk-parallel {display: flex;align-items: stretch;justify-content: center;background-color: white;position: relative;}#sk-container-id-1 div.sk-item::before, #sk-container-id-1 div.sk-parallel-item::before {content: \"\";position: absolute;border-left: 1px solid gray;box-sizing: border-box;top: 0;bottom: 0;left: 50%;z-index: -1;}#sk-container-id-1 div.sk-parallel-item {display: flex;flex-direction: column;z-index: 1;position: relative;background-color: white;}#sk-container-id-1 div.sk-parallel-item:first-child::after {align-self: flex-end;width: 50%;}#sk-container-id-1 div.sk-parallel-item:last-child::after {align-self: flex-start;width: 50%;}#sk-container-id-1 div.sk-parallel-item:only-child::after {width: 0;}#sk-container-id-1 div.sk-dashed-wrapped {border: 1px dashed gray;margin: 0 0.4em 0.5em 0.4em;box-sizing: border-box;padding-bottom: 0.4em;background-color: white;}#sk-container-id-1 div.sk-label label {font-family: monospace;font-weight: bold;display: inline-block;line-height: 1.2em;}#sk-container-id-1 div.sk-label-container {text-align: center;}#sk-container-id-1 div.sk-container {/* jupyter's `normalize.less` sets `[hidden] { display: none; }` but bootstrap.min.css set `[hidden] { display: none !important; }` so we also need the `!important` here to be able to override the default hidden behavior on the sphinx rendered scikit-learn.org. See: https://github.com/scikit-learn/scikit-learn/issues/21755 */display: inline-block !important;position: relative;}#sk-container-id-1 div.sk-text-repr-fallback {display: none;}</style><div id=\"sk-container-id-1\" class=\"sk-top-container\"><div class=\"sk-text-repr-fallback\"><pre>GridSearchCV(cv=5, estimator=RandomForestRegressor(), n_jobs=-1,\n",
       "             param_grid={&#x27;n_estimators&#x27;: [2, 30, 50, 100, 200, 300, 500, 1000]})</pre><b>In a Jupyter environment, please rerun this cell to show the HTML representation or trust the notebook. <br />On GitHub, the HTML representation is unable to render, please try loading this page with nbviewer.org.</b></div><div class=\"sk-container\" hidden><div class=\"sk-item sk-dashed-wrapped\"><div class=\"sk-label-container\"><div class=\"sk-label sk-toggleable\"><input class=\"sk-toggleable__control sk-hidden--visually\" id=\"sk-estimator-id-1\" type=\"checkbox\" ><label for=\"sk-estimator-id-1\" class=\"sk-toggleable__label sk-toggleable__label-arrow\">GridSearchCV</label><div class=\"sk-toggleable__content\"><pre>GridSearchCV(cv=5, estimator=RandomForestRegressor(), n_jobs=-1,\n",
       "             param_grid={&#x27;n_estimators&#x27;: [2, 30, 50, 100, 200, 300, 500, 1000]})</pre></div></div></div><div class=\"sk-parallel\"><div class=\"sk-parallel-item\"><div class=\"sk-item\"><div class=\"sk-label-container\"><div class=\"sk-label sk-toggleable\"><input class=\"sk-toggleable__control sk-hidden--visually\" id=\"sk-estimator-id-2\" type=\"checkbox\" ><label for=\"sk-estimator-id-2\" class=\"sk-toggleable__label sk-toggleable__label-arrow\">estimator: RandomForestRegressor</label><div class=\"sk-toggleable__content\"><pre>RandomForestRegressor()</pre></div></div></div><div class=\"sk-serial\"><div class=\"sk-item\"><div class=\"sk-estimator sk-toggleable\"><input class=\"sk-toggleable__control sk-hidden--visually\" id=\"sk-estimator-id-3\" type=\"checkbox\" ><label for=\"sk-estimator-id-3\" class=\"sk-toggleable__label sk-toggleable__label-arrow\">RandomForestRegressor</label><div class=\"sk-toggleable__content\"><pre>RandomForestRegressor()</pre></div></div></div></div></div></div></div></div></div></div>"
      ],
      "text/plain": [
       "GridSearchCV(cv=5, estimator=RandomForestRegressor(), n_jobs=-1,\n",
       "             param_grid={'n_estimators': [2, 30, 50, 100, 200, 300, 500, 1000]})"
      ]
     },
     "execution_count": 13,
     "metadata": {},
     "output_type": "execute_result"
    }
   ],
   "source": [
    "grid_search.fit(X_train, y_train)"
   ]
  },
  {
   "cell_type": "code",
   "execution_count": 14,
   "id": "60179bfa",
   "metadata": {},
   "outputs": [
    {
     "data": {
      "text/plain": [
       "0.3930028272338671"
      ]
     },
     "execution_count": 14,
     "metadata": {},
     "output_type": "execute_result"
    }
   ],
   "source": [
    "grid_search.best_score_"
   ]
  },
  {
   "cell_type": "code",
   "execution_count": 15,
   "id": "2815fcf3",
   "metadata": {},
   "outputs": [
    {
     "data": {
      "text/plain": [
       "{'n_estimators': 1000}"
      ]
     },
     "execution_count": 15,
     "metadata": {},
     "output_type": "execute_result"
    }
   ],
   "source": [
    "grid_search.best_params_"
   ]
  },
  {
   "cell_type": "code",
   "execution_count": 16,
   "id": "95bb09b9",
   "metadata": {},
   "outputs": [
    {
     "data": {
      "text/html": [
       "<style>#sk-container-id-2 {color: black;background-color: white;}#sk-container-id-2 pre{padding: 0;}#sk-container-id-2 div.sk-toggleable {background-color: white;}#sk-container-id-2 label.sk-toggleable__label {cursor: pointer;display: block;width: 100%;margin-bottom: 0;padding: 0.3em;box-sizing: border-box;text-align: center;}#sk-container-id-2 label.sk-toggleable__label-arrow:before {content: \"▸\";float: left;margin-right: 0.25em;color: #696969;}#sk-container-id-2 label.sk-toggleable__label-arrow:hover:before {color: black;}#sk-container-id-2 div.sk-estimator:hover label.sk-toggleable__label-arrow:before {color: black;}#sk-container-id-2 div.sk-toggleable__content {max-height: 0;max-width: 0;overflow: hidden;text-align: left;background-color: #f0f8ff;}#sk-container-id-2 div.sk-toggleable__content pre {margin: 0.2em;color: black;border-radius: 0.25em;background-color: #f0f8ff;}#sk-container-id-2 input.sk-toggleable__control:checked~div.sk-toggleable__content {max-height: 200px;max-width: 100%;overflow: auto;}#sk-container-id-2 input.sk-toggleable__control:checked~label.sk-toggleable__label-arrow:before {content: \"▾\";}#sk-container-id-2 div.sk-estimator input.sk-toggleable__control:checked~label.sk-toggleable__label {background-color: #d4ebff;}#sk-container-id-2 div.sk-label input.sk-toggleable__control:checked~label.sk-toggleable__label {background-color: #d4ebff;}#sk-container-id-2 input.sk-hidden--visually {border: 0;clip: rect(1px 1px 1px 1px);clip: rect(1px, 1px, 1px, 1px);height: 1px;margin: -1px;overflow: hidden;padding: 0;position: absolute;width: 1px;}#sk-container-id-2 div.sk-estimator {font-family: monospace;background-color: #f0f8ff;border: 1px dotted black;border-radius: 0.25em;box-sizing: border-box;margin-bottom: 0.5em;}#sk-container-id-2 div.sk-estimator:hover {background-color: #d4ebff;}#sk-container-id-2 div.sk-parallel-item::after {content: \"\";width: 100%;border-bottom: 1px solid gray;flex-grow: 1;}#sk-container-id-2 div.sk-label:hover label.sk-toggleable__label {background-color: #d4ebff;}#sk-container-id-2 div.sk-serial::before {content: \"\";position: absolute;border-left: 1px solid gray;box-sizing: border-box;top: 0;bottom: 0;left: 50%;z-index: 0;}#sk-container-id-2 div.sk-serial {display: flex;flex-direction: column;align-items: center;background-color: white;padding-right: 0.2em;padding-left: 0.2em;position: relative;}#sk-container-id-2 div.sk-item {position: relative;z-index: 1;}#sk-container-id-2 div.sk-parallel {display: flex;align-items: stretch;justify-content: center;background-color: white;position: relative;}#sk-container-id-2 div.sk-item::before, #sk-container-id-2 div.sk-parallel-item::before {content: \"\";position: absolute;border-left: 1px solid gray;box-sizing: border-box;top: 0;bottom: 0;left: 50%;z-index: -1;}#sk-container-id-2 div.sk-parallel-item {display: flex;flex-direction: column;z-index: 1;position: relative;background-color: white;}#sk-container-id-2 div.sk-parallel-item:first-child::after {align-self: flex-end;width: 50%;}#sk-container-id-2 div.sk-parallel-item:last-child::after {align-self: flex-start;width: 50%;}#sk-container-id-2 div.sk-parallel-item:only-child::after {width: 0;}#sk-container-id-2 div.sk-dashed-wrapped {border: 1px dashed gray;margin: 0 0.4em 0.5em 0.4em;box-sizing: border-box;padding-bottom: 0.4em;background-color: white;}#sk-container-id-2 div.sk-label label {font-family: monospace;font-weight: bold;display: inline-block;line-height: 1.2em;}#sk-container-id-2 div.sk-label-container {text-align: center;}#sk-container-id-2 div.sk-container {/* jupyter's `normalize.less` sets `[hidden] { display: none; }` but bootstrap.min.css set `[hidden] { display: none !important; }` so we also need the `!important` here to be able to override the default hidden behavior on the sphinx rendered scikit-learn.org. See: https://github.com/scikit-learn/scikit-learn/issues/21755 */display: inline-block !important;position: relative;}#sk-container-id-2 div.sk-text-repr-fallback {display: none;}</style><div id=\"sk-container-id-2\" class=\"sk-top-container\"><div class=\"sk-text-repr-fallback\"><pre>RandomForestRegressor(n_estimators=1000)</pre><b>In a Jupyter environment, please rerun this cell to show the HTML representation or trust the notebook. <br />On GitHub, the HTML representation is unable to render, please try loading this page with nbviewer.org.</b></div><div class=\"sk-container\" hidden><div class=\"sk-item\"><div class=\"sk-estimator sk-toggleable\"><input class=\"sk-toggleable__control sk-hidden--visually\" id=\"sk-estimator-id-4\" type=\"checkbox\" checked><label for=\"sk-estimator-id-4\" class=\"sk-toggleable__label sk-toggleable__label-arrow\">RandomForestRegressor</label><div class=\"sk-toggleable__content\"><pre>RandomForestRegressor(n_estimators=1000)</pre></div></div></div></div></div>"
      ],
      "text/plain": [
       "RandomForestRegressor(n_estimators=1000)"
      ]
     },
     "execution_count": 16,
     "metadata": {},
     "output_type": "execute_result"
    }
   ],
   "source": [
    "grid_search.best_estimator_"
   ]
  },
  {
   "cell_type": "markdown",
   "id": "7bdf3ff1",
   "metadata": {},
   "source": [
    "# Only adjusting n_estimators does not help the model from overfitting"
   ]
  },
  {
   "cell_type": "code",
   "execution_count": 21,
   "id": "f7bc8639",
   "metadata": {},
   "outputs": [
    {
     "name": "stdout",
     "output_type": "stream",
     "text": [
      "              precision    recall  f1-score   support\n",
      "\n",
      "      hiphop       1.00      1.00      1.00        79\n",
      "   classical       1.00      1.00      1.00        88\n",
      "       blues       0.99      1.00      0.99        76\n",
      "       metal       1.00      1.00      1.00        78\n",
      "        jazz       1.00      1.00      1.00        84\n",
      "     country       1.00      0.99      0.99        73\n",
      "         pop       0.99      1.00      0.99        82\n",
      "        rock       1.00      1.00      1.00        81\n",
      "       disco       1.00      0.99      0.99        78\n",
      "      reggae       1.00      1.00      1.00        80\n",
      "\n",
      "    accuracy                           1.00       799\n",
      "   macro avg       1.00      1.00      1.00       799\n",
      "weighted avg       1.00      1.00      1.00       799\n",
      "\n"
     ]
    }
   ],
   "source": [
    "model_13 = RandomForestClassifier(n_estimators=10)  \n",
    "model_13.fit(X_train, y_train)\n",
    "preds_13 = model_13.predict(X_train)\n",
    "y_true = y_train\n",
    "y_pred = preds_13\n",
    "target_names = ['hiphop', 'classical', 'blues', 'metal', 'jazz', 'country', 'pop', 'rock', 'disco', 'reggae']\n",
    "print(classification_report(y_true, y_pred, target_names=target_names))"
   ]
  },
  {
   "cell_type": "markdown",
   "id": "7577198b",
   "metadata": {},
   "source": [
    "# According to the literature n_estimators, max_features, max_depth, and min_samples_split. Have the biggest impact on hyperparamteres. There are two ways to do a random search for the max_features. Either use auto, sqrt, log  or use random intergers."
   ]
  },
  {
   "cell_type": "code",
   "execution_count": 22,
   "id": "6c3a3a8c",
   "metadata": {},
   "outputs": [
    {
     "name": "stdout",
     "output_type": "stream",
     "text": [
      "Fitting 5 folds for each of 100 candidates, totalling 500 fits\n",
      "[CV] END max_depth=6, max_features=None, min_samples_split=14, n_estimators=73; total time=   1.4s\n",
      "[CV] END max_depth=6, max_features=None, min_samples_split=14, n_estimators=73; total time=   0.3s\n",
      "[CV] END max_depth=6, max_features=None, min_samples_split=14, n_estimators=73; total time=   0.3s\n",
      "[CV] END max_depth=6, max_features=None, min_samples_split=14, n_estimators=73; total time=   0.3s\n",
      "[CV] END max_depth=6, max_features=None, min_samples_split=14, n_estimators=73; total time=   0.3s\n",
      "[CV] END max_depth=10, max_features=None, min_samples_split=7, n_estimators=848; total time=   4.5s\n",
      "[CV] END max_depth=10, max_features=None, min_samples_split=7, n_estimators=848; total time=   5.0s\n",
      "[CV] END max_depth=10, max_features=None, min_samples_split=7, n_estimators=848; total time=   4.7s\n",
      "[CV] END max_depth=10, max_features=None, min_samples_split=7, n_estimators=848; total time=   4.8s\n",
      "[CV] END max_depth=10, max_features=None, min_samples_split=7, n_estimators=848; total time=   5.0s\n"
     ]
    },
    {
     "name": "stderr",
     "output_type": "stream",
     "text": [
      "/root/.pyenv/versions/3.8.12/envs/mcats/lib/python3.8/site-packages/sklearn/ensemble/_forest.py:424: FutureWarning: `max_features='auto'` has been deprecated in 1.1 and will be removed in 1.3. To keep the past behaviour, explicitly set `max_features='sqrt'` or remove this parameter as it is also the default value for RandomForestClassifiers and ExtraTreesClassifiers.\n",
      "  warn(\n"
     ]
    },
    {
     "name": "stdout",
     "output_type": "stream",
     "text": [
      "[CV] END max_depth=1, max_features=auto, min_samples_split=3, n_estimators=973; total time=   1.2s\n"
     ]
    },
    {
     "name": "stderr",
     "output_type": "stream",
     "text": [
      "/root/.pyenv/versions/3.8.12/envs/mcats/lib/python3.8/site-packages/sklearn/ensemble/_forest.py:424: FutureWarning: `max_features='auto'` has been deprecated in 1.1 and will be removed in 1.3. To keep the past behaviour, explicitly set `max_features='sqrt'` or remove this parameter as it is also the default value for RandomForestClassifiers and ExtraTreesClassifiers.\n",
      "  warn(\n"
     ]
    },
    {
     "name": "stdout",
     "output_type": "stream",
     "text": [
      "[CV] END max_depth=1, max_features=auto, min_samples_split=3, n_estimators=973; total time=   1.2s\n"
     ]
    },
    {
     "name": "stderr",
     "output_type": "stream",
     "text": [
      "/root/.pyenv/versions/3.8.12/envs/mcats/lib/python3.8/site-packages/sklearn/ensemble/_forest.py:424: FutureWarning: `max_features='auto'` has been deprecated in 1.1 and will be removed in 1.3. To keep the past behaviour, explicitly set `max_features='sqrt'` or remove this parameter as it is also the default value for RandomForestClassifiers and ExtraTreesClassifiers.\n",
      "  warn(\n"
     ]
    },
    {
     "name": "stdout",
     "output_type": "stream",
     "text": [
      "[CV] END max_depth=1, max_features=auto, min_samples_split=3, n_estimators=973; total time=   1.2s\n"
     ]
    },
    {
     "name": "stderr",
     "output_type": "stream",
     "text": [
      "/root/.pyenv/versions/3.8.12/envs/mcats/lib/python3.8/site-packages/sklearn/ensemble/_forest.py:424: FutureWarning: `max_features='auto'` has been deprecated in 1.1 and will be removed in 1.3. To keep the past behaviour, explicitly set `max_features='sqrt'` or remove this parameter as it is also the default value for RandomForestClassifiers and ExtraTreesClassifiers.\n",
      "  warn(\n"
     ]
    },
    {
     "name": "stdout",
     "output_type": "stream",
     "text": [
      "[CV] END max_depth=1, max_features=auto, min_samples_split=3, n_estimators=973; total time=   1.3s\n"
     ]
    },
    {
     "name": "stderr",
     "output_type": "stream",
     "text": [
      "/root/.pyenv/versions/3.8.12/envs/mcats/lib/python3.8/site-packages/sklearn/ensemble/_forest.py:424: FutureWarning: `max_features='auto'` has been deprecated in 1.1 and will be removed in 1.3. To keep the past behaviour, explicitly set `max_features='sqrt'` or remove this parameter as it is also the default value for RandomForestClassifiers and ExtraTreesClassifiers.\n",
      "  warn(\n"
     ]
    },
    {
     "name": "stdout",
     "output_type": "stream",
     "text": [
      "[CV] END max_depth=1, max_features=auto, min_samples_split=3, n_estimators=973; total time=   1.3s\n",
      "[CV] END max_depth=8, max_features=sqrt, min_samples_split=8, n_estimators=282; total time=   0.5s\n",
      "[CV] END max_depth=8, max_features=sqrt, min_samples_split=8, n_estimators=282; total time=   0.5s\n",
      "[CV] END max_depth=8, max_features=sqrt, min_samples_split=8, n_estimators=282; total time=   0.5s\n",
      "[CV] END max_depth=8, max_features=sqrt, min_samples_split=8, n_estimators=282; total time=   0.5s\n",
      "[CV] END max_depth=8, max_features=sqrt, min_samples_split=8, n_estimators=282; total time=   0.5s\n"
     ]
    },
    {
     "name": "stderr",
     "output_type": "stream",
     "text": [
      "/root/.pyenv/versions/3.8.12/envs/mcats/lib/python3.8/site-packages/sklearn/ensemble/_forest.py:424: FutureWarning: `max_features='auto'` has been deprecated in 1.1 and will be removed in 1.3. To keep the past behaviour, explicitly set `max_features='sqrt'` or remove this parameter as it is also the default value for RandomForestClassifiers and ExtraTreesClassifiers.\n",
      "  warn(\n"
     ]
    },
    {
     "name": "stdout",
     "output_type": "stream",
     "text": [
      "[CV] END max_depth=19, max_features=auto, min_samples_split=20, n_estimators=469; total time=   1.0s\n"
     ]
    },
    {
     "name": "stderr",
     "output_type": "stream",
     "text": [
      "/root/.pyenv/versions/3.8.12/envs/mcats/lib/python3.8/site-packages/sklearn/ensemble/_forest.py:424: FutureWarning: `max_features='auto'` has been deprecated in 1.1 and will be removed in 1.3. To keep the past behaviour, explicitly set `max_features='sqrt'` or remove this parameter as it is also the default value for RandomForestClassifiers and ExtraTreesClassifiers.\n",
      "  warn(\n"
     ]
    },
    {
     "name": "stdout",
     "output_type": "stream",
     "text": [
      "[CV] END max_depth=19, max_features=auto, min_samples_split=20, n_estimators=469; total time=   1.0s\n"
     ]
    },
    {
     "name": "stderr",
     "output_type": "stream",
     "text": [
      "/root/.pyenv/versions/3.8.12/envs/mcats/lib/python3.8/site-packages/sklearn/ensemble/_forest.py:424: FutureWarning: `max_features='auto'` has been deprecated in 1.1 and will be removed in 1.3. To keep the past behaviour, explicitly set `max_features='sqrt'` or remove this parameter as it is also the default value for RandomForestClassifiers and ExtraTreesClassifiers.\n",
      "  warn(\n"
     ]
    },
    {
     "name": "stdout",
     "output_type": "stream",
     "text": [
      "[CV] END max_depth=19, max_features=auto, min_samples_split=20, n_estimators=469; total time=   0.9s\n"
     ]
    },
    {
     "name": "stderr",
     "output_type": "stream",
     "text": [
      "/root/.pyenv/versions/3.8.12/envs/mcats/lib/python3.8/site-packages/sklearn/ensemble/_forest.py:424: FutureWarning: `max_features='auto'` has been deprecated in 1.1 and will be removed in 1.3. To keep the past behaviour, explicitly set `max_features='sqrt'` or remove this parameter as it is also the default value for RandomForestClassifiers and ExtraTreesClassifiers.\n",
      "  warn(\n"
     ]
    },
    {
     "name": "stdout",
     "output_type": "stream",
     "text": [
      "[CV] END max_depth=19, max_features=auto, min_samples_split=20, n_estimators=469; total time=   0.9s\n"
     ]
    },
    {
     "name": "stderr",
     "output_type": "stream",
     "text": [
      "/root/.pyenv/versions/3.8.12/envs/mcats/lib/python3.8/site-packages/sklearn/ensemble/_forest.py:424: FutureWarning: `max_features='auto'` has been deprecated in 1.1 and will be removed in 1.3. To keep the past behaviour, explicitly set `max_features='sqrt'` or remove this parameter as it is also the default value for RandomForestClassifiers and ExtraTreesClassifiers.\n",
      "  warn(\n"
     ]
    },
    {
     "name": "stdout",
     "output_type": "stream",
     "text": [
      "[CV] END max_depth=19, max_features=auto, min_samples_split=20, n_estimators=469; total time=   0.8s\n"
     ]
    },
    {
     "name": "stderr",
     "output_type": "stream",
     "text": [
      "/root/.pyenv/versions/3.8.12/envs/mcats/lib/python3.8/site-packages/sklearn/ensemble/_forest.py:424: FutureWarning: `max_features='auto'` has been deprecated in 1.1 and will be removed in 1.3. To keep the past behaviour, explicitly set `max_features='sqrt'` or remove this parameter as it is also the default value for RandomForestClassifiers and ExtraTreesClassifiers.\n",
      "  warn(\n"
     ]
    },
    {
     "name": "stdout",
     "output_type": "stream",
     "text": [
      "[CV] END max_depth=12, max_features=auto, min_samples_split=30, n_estimators=926; total time=   1.4s\n"
     ]
    },
    {
     "name": "stderr",
     "output_type": "stream",
     "text": [
      "/root/.pyenv/versions/3.8.12/envs/mcats/lib/python3.8/site-packages/sklearn/ensemble/_forest.py:424: FutureWarning: `max_features='auto'` has been deprecated in 1.1 and will be removed in 1.3. To keep the past behaviour, explicitly set `max_features='sqrt'` or remove this parameter as it is also the default value for RandomForestClassifiers and ExtraTreesClassifiers.\n",
      "  warn(\n"
     ]
    },
    {
     "name": "stdout",
     "output_type": "stream",
     "text": [
      "[CV] END max_depth=12, max_features=auto, min_samples_split=30, n_estimators=926; total time=   1.5s\n"
     ]
    },
    {
     "name": "stderr",
     "output_type": "stream",
     "text": [
      "/root/.pyenv/versions/3.8.12/envs/mcats/lib/python3.8/site-packages/sklearn/ensemble/_forest.py:424: FutureWarning: `max_features='auto'` has been deprecated in 1.1 and will be removed in 1.3. To keep the past behaviour, explicitly set `max_features='sqrt'` or remove this parameter as it is also the default value for RandomForestClassifiers and ExtraTreesClassifiers.\n",
      "  warn(\n"
     ]
    },
    {
     "name": "stdout",
     "output_type": "stream",
     "text": [
      "[CV] END max_depth=12, max_features=auto, min_samples_split=30, n_estimators=926; total time=   1.5s\n"
     ]
    },
    {
     "name": "stderr",
     "output_type": "stream",
     "text": [
      "/root/.pyenv/versions/3.8.12/envs/mcats/lib/python3.8/site-packages/sklearn/ensemble/_forest.py:424: FutureWarning: `max_features='auto'` has been deprecated in 1.1 and will be removed in 1.3. To keep the past behaviour, explicitly set `max_features='sqrt'` or remove this parameter as it is also the default value for RandomForestClassifiers and ExtraTreesClassifiers.\n",
      "  warn(\n"
     ]
    },
    {
     "name": "stdout",
     "output_type": "stream",
     "text": [
      "[CV] END max_depth=12, max_features=auto, min_samples_split=30, n_estimators=926; total time=   1.6s\n"
     ]
    },
    {
     "name": "stderr",
     "output_type": "stream",
     "text": [
      "/root/.pyenv/versions/3.8.12/envs/mcats/lib/python3.8/site-packages/sklearn/ensemble/_forest.py:424: FutureWarning: `max_features='auto'` has been deprecated in 1.1 and will be removed in 1.3. To keep the past behaviour, explicitly set `max_features='sqrt'` or remove this parameter as it is also the default value for RandomForestClassifiers and ExtraTreesClassifiers.\n",
      "  warn(\n"
     ]
    },
    {
     "name": "stdout",
     "output_type": "stream",
     "text": [
      "[CV] END max_depth=12, max_features=auto, min_samples_split=30, n_estimators=926; total time=   1.5s\n",
      "[CV] END max_depth=15, max_features=log2, min_samples_split=70, n_estimators=216; total time=   0.3s\n",
      "[CV] END max_depth=15, max_features=log2, min_samples_split=70, n_estimators=216; total time=   0.4s\n",
      "[CV] END max_depth=15, max_features=log2, min_samples_split=70, n_estimators=216; total time=   0.4s\n",
      "[CV] END max_depth=15, max_features=log2, min_samples_split=70, n_estimators=216; total time=   0.4s\n",
      "[CV] END max_depth=15, max_features=log2, min_samples_split=70, n_estimators=216; total time=   0.4s\n",
      "[CV] END max_depth=24, max_features=sqrt, min_samples_split=96, n_estimators=865; total time=   1.3s\n",
      "[CV] END max_depth=24, max_features=sqrt, min_samples_split=96, n_estimators=865; total time=   1.3s\n",
      "[CV] END max_depth=24, max_features=sqrt, min_samples_split=96, n_estimators=865; total time=   1.3s\n",
      "[CV] END max_depth=24, max_features=sqrt, min_samples_split=96, n_estimators=865; total time=   1.3s\n",
      "[CV] END max_depth=24, max_features=sqrt, min_samples_split=96, n_estimators=865; total time=   1.3s\n",
      "[CV] END max_depth=23, max_features=sqrt, min_samples_split=11, n_estimators=8; total time=   0.0s\n",
      "[CV] END max_depth=23, max_features=sqrt, min_samples_split=11, n_estimators=8; total time=   0.0s\n",
      "[CV] END max_depth=23, max_features=sqrt, min_samples_split=11, n_estimators=8; total time=   0.0s\n",
      "[CV] END max_depth=23, max_features=sqrt, min_samples_split=11, n_estimators=8; total time=   0.0s\n",
      "[CV] END max_depth=23, max_features=sqrt, min_samples_split=11, n_estimators=8; total time=   0.0s\n",
      "[CV] END max_depth=30, max_features=log2, min_samples_split=59, n_estimators=514; total time=   0.7s\n",
      "[CV] END max_depth=30, max_features=log2, min_samples_split=59, n_estimators=514; total time=   0.7s\n",
      "[CV] END max_depth=30, max_features=log2, min_samples_split=59, n_estimators=514; total time=   0.7s\n",
      "[CV] END max_depth=30, max_features=log2, min_samples_split=59, n_estimators=514; total time=   0.7s\n",
      "[CV] END max_depth=30, max_features=log2, min_samples_split=59, n_estimators=514; total time=   0.8s\n"
     ]
    },
    {
     "name": "stderr",
     "output_type": "stream",
     "text": [
      "/root/.pyenv/versions/3.8.12/envs/mcats/lib/python3.8/site-packages/sklearn/ensemble/_forest.py:424: FutureWarning: `max_features='auto'` has been deprecated in 1.1 and will be removed in 1.3. To keep the past behaviour, explicitly set `max_features='sqrt'` or remove this parameter as it is also the default value for RandomForestClassifiers and ExtraTreesClassifiers.\n",
      "  warn(\n"
     ]
    },
    {
     "name": "stdout",
     "output_type": "stream",
     "text": [
      "[CV] END max_depth=1, max_features=auto, min_samples_split=83, n_estimators=265; total time=   0.4s\n"
     ]
    },
    {
     "name": "stderr",
     "output_type": "stream",
     "text": [
      "/root/.pyenv/versions/3.8.12/envs/mcats/lib/python3.8/site-packages/sklearn/ensemble/_forest.py:424: FutureWarning: `max_features='auto'` has been deprecated in 1.1 and will be removed in 1.3. To keep the past behaviour, explicitly set `max_features='sqrt'` or remove this parameter as it is also the default value for RandomForestClassifiers and ExtraTreesClassifiers.\n",
      "  warn(\n"
     ]
    },
    {
     "name": "stdout",
     "output_type": "stream",
     "text": [
      "[CV] END max_depth=1, max_features=auto, min_samples_split=83, n_estimators=265; total time=   0.4s\n"
     ]
    },
    {
     "name": "stderr",
     "output_type": "stream",
     "text": [
      "/root/.pyenv/versions/3.8.12/envs/mcats/lib/python3.8/site-packages/sklearn/ensemble/_forest.py:424: FutureWarning: `max_features='auto'` has been deprecated in 1.1 and will be removed in 1.3. To keep the past behaviour, explicitly set `max_features='sqrt'` or remove this parameter as it is also the default value for RandomForestClassifiers and ExtraTreesClassifiers.\n",
      "  warn(\n"
     ]
    },
    {
     "name": "stdout",
     "output_type": "stream",
     "text": [
      "[CV] END max_depth=1, max_features=auto, min_samples_split=83, n_estimators=265; total time=   0.4s\n"
     ]
    },
    {
     "name": "stderr",
     "output_type": "stream",
     "text": [
      "/root/.pyenv/versions/3.8.12/envs/mcats/lib/python3.8/site-packages/sklearn/ensemble/_forest.py:424: FutureWarning: `max_features='auto'` has been deprecated in 1.1 and will be removed in 1.3. To keep the past behaviour, explicitly set `max_features='sqrt'` or remove this parameter as it is also the default value for RandomForestClassifiers and ExtraTreesClassifiers.\n",
      "  warn(\n"
     ]
    },
    {
     "name": "stdout",
     "output_type": "stream",
     "text": [
      "[CV] END max_depth=1, max_features=auto, min_samples_split=83, n_estimators=265; total time=   0.4s\n"
     ]
    },
    {
     "name": "stderr",
     "output_type": "stream",
     "text": [
      "/root/.pyenv/versions/3.8.12/envs/mcats/lib/python3.8/site-packages/sklearn/ensemble/_forest.py:424: FutureWarning: `max_features='auto'` has been deprecated in 1.1 and will be removed in 1.3. To keep the past behaviour, explicitly set `max_features='sqrt'` or remove this parameter as it is also the default value for RandomForestClassifiers and ExtraTreesClassifiers.\n",
      "  warn(\n"
     ]
    },
    {
     "name": "stdout",
     "output_type": "stream",
     "text": [
      "[CV] END max_depth=1, max_features=auto, min_samples_split=83, n_estimators=265; total time=   0.4s\n",
      "[CV] END max_depth=25, max_features=sqrt, min_samples_split=49, n_estimators=634; total time=   1.1s\n",
      "[CV] END max_depth=25, max_features=sqrt, min_samples_split=49, n_estimators=634; total time=   1.1s\n",
      "[CV] END max_depth=25, max_features=sqrt, min_samples_split=49, n_estimators=634; total time=   1.1s\n",
      "[CV] END max_depth=25, max_features=sqrt, min_samples_split=49, n_estimators=634; total time=   1.1s\n",
      "[CV] END max_depth=25, max_features=sqrt, min_samples_split=49, n_estimators=634; total time=   1.1s\n",
      "[CV] END max_depth=9, max_features=log2, min_samples_split=73, n_estimators=388; total time=   0.6s\n",
      "[CV] END max_depth=9, max_features=log2, min_samples_split=73, n_estimators=388; total time=   0.6s\n",
      "[CV] END max_depth=9, max_features=log2, min_samples_split=73, n_estimators=388; total time=   0.7s\n",
      "[CV] END max_depth=9, max_features=log2, min_samples_split=73, n_estimators=388; total time=   0.8s\n",
      "[CV] END max_depth=9, max_features=log2, min_samples_split=73, n_estimators=388; total time=   0.8s\n",
      "[CV] END max_depth=7, max_features=sqrt, min_samples_split=51, n_estimators=314; total time=   0.9s\n",
      "[CV] END max_depth=7, max_features=sqrt, min_samples_split=51, n_estimators=314; total time=   1.1s\n",
      "[CV] END max_depth=7, max_features=sqrt, min_samples_split=51, n_estimators=314; total time=   1.2s\n",
      "[CV] END max_depth=7, max_features=sqrt, min_samples_split=51, n_estimators=314; total time=   1.1s\n",
      "[CV] END max_depth=7, max_features=sqrt, min_samples_split=51, n_estimators=314; total time=   1.1s\n"
     ]
    },
    {
     "name": "stderr",
     "output_type": "stream",
     "text": [
      "/root/.pyenv/versions/3.8.12/envs/mcats/lib/python3.8/site-packages/sklearn/ensemble/_forest.py:424: FutureWarning: `max_features='auto'` has been deprecated in 1.1 and will be removed in 1.3. To keep the past behaviour, explicitly set `max_features='sqrt'` or remove this parameter as it is also the default value for RandomForestClassifiers and ExtraTreesClassifiers.\n",
      "  warn(\n"
     ]
    },
    {
     "name": "stdout",
     "output_type": "stream",
     "text": [
      "[CV] END max_depth=4, max_features=auto, min_samples_split=26, n_estimators=498; total time=   1.5s\n"
     ]
    },
    {
     "name": "stderr",
     "output_type": "stream",
     "text": [
      "/root/.pyenv/versions/3.8.12/envs/mcats/lib/python3.8/site-packages/sklearn/ensemble/_forest.py:424: FutureWarning: `max_features='auto'` has been deprecated in 1.1 and will be removed in 1.3. To keep the past behaviour, explicitly set `max_features='sqrt'` or remove this parameter as it is also the default value for RandomForestClassifiers and ExtraTreesClassifiers.\n",
      "  warn(\n"
     ]
    },
    {
     "name": "stdout",
     "output_type": "stream",
     "text": [
      "[CV] END max_depth=4, max_features=auto, min_samples_split=26, n_estimators=498; total time=   1.6s\n"
     ]
    },
    {
     "name": "stderr",
     "output_type": "stream",
     "text": [
      "/root/.pyenv/versions/3.8.12/envs/mcats/lib/python3.8/site-packages/sklearn/ensemble/_forest.py:424: FutureWarning: `max_features='auto'` has been deprecated in 1.1 and will be removed in 1.3. To keep the past behaviour, explicitly set `max_features='sqrt'` or remove this parameter as it is also the default value for RandomForestClassifiers and ExtraTreesClassifiers.\n",
      "  warn(\n"
     ]
    },
    {
     "name": "stdout",
     "output_type": "stream",
     "text": [
      "[CV] END max_depth=4, max_features=auto, min_samples_split=26, n_estimators=498; total time=   1.5s\n"
     ]
    },
    {
     "name": "stderr",
     "output_type": "stream",
     "text": [
      "/root/.pyenv/versions/3.8.12/envs/mcats/lib/python3.8/site-packages/sklearn/ensemble/_forest.py:424: FutureWarning: `max_features='auto'` has been deprecated in 1.1 and will be removed in 1.3. To keep the past behaviour, explicitly set `max_features='sqrt'` or remove this parameter as it is also the default value for RandomForestClassifiers and ExtraTreesClassifiers.\n",
      "  warn(\n"
     ]
    },
    {
     "name": "stdout",
     "output_type": "stream",
     "text": [
      "[CV] END max_depth=4, max_features=auto, min_samples_split=26, n_estimators=498; total time=   1.3s\n"
     ]
    },
    {
     "name": "stderr",
     "output_type": "stream",
     "text": [
      "/root/.pyenv/versions/3.8.12/envs/mcats/lib/python3.8/site-packages/sklearn/ensemble/_forest.py:424: FutureWarning: `max_features='auto'` has been deprecated in 1.1 and will be removed in 1.3. To keep the past behaviour, explicitly set `max_features='sqrt'` or remove this parameter as it is also the default value for RandomForestClassifiers and ExtraTreesClassifiers.\n",
      "  warn(\n"
     ]
    },
    {
     "name": "stdout",
     "output_type": "stream",
     "text": [
      "[CV] END max_depth=4, max_features=auto, min_samples_split=26, n_estimators=498; total time=   1.5s\n"
     ]
    },
    {
     "name": "stderr",
     "output_type": "stream",
     "text": [
      "/root/.pyenv/versions/3.8.12/envs/mcats/lib/python3.8/site-packages/sklearn/ensemble/_forest.py:424: FutureWarning: `max_features='auto'` has been deprecated in 1.1 and will be removed in 1.3. To keep the past behaviour, explicitly set `max_features='sqrt'` or remove this parameter as it is also the default value for RandomForestClassifiers and ExtraTreesClassifiers.\n",
      "  warn(\n"
     ]
    },
    {
     "name": "stdout",
     "output_type": "stream",
     "text": [
      "[CV] END max_depth=12, max_features=auto, min_samples_split=28, n_estimators=821; total time=   3.3s\n"
     ]
    },
    {
     "name": "stderr",
     "output_type": "stream",
     "text": [
      "/root/.pyenv/versions/3.8.12/envs/mcats/lib/python3.8/site-packages/sklearn/ensemble/_forest.py:424: FutureWarning: `max_features='auto'` has been deprecated in 1.1 and will be removed in 1.3. To keep the past behaviour, explicitly set `max_features='sqrt'` or remove this parameter as it is also the default value for RandomForestClassifiers and ExtraTreesClassifiers.\n",
      "  warn(\n"
     ]
    },
    {
     "name": "stdout",
     "output_type": "stream",
     "text": [
      "[CV] END max_depth=12, max_features=auto, min_samples_split=28, n_estimators=821; total time=   3.1s\n"
     ]
    },
    {
     "name": "stderr",
     "output_type": "stream",
     "text": [
      "/root/.pyenv/versions/3.8.12/envs/mcats/lib/python3.8/site-packages/sklearn/ensemble/_forest.py:424: FutureWarning: `max_features='auto'` has been deprecated in 1.1 and will be removed in 1.3. To keep the past behaviour, explicitly set `max_features='sqrt'` or remove this parameter as it is also the default value for RandomForestClassifiers and ExtraTreesClassifiers.\n",
      "  warn(\n"
     ]
    },
    {
     "name": "stdout",
     "output_type": "stream",
     "text": [
      "[CV] END max_depth=12, max_features=auto, min_samples_split=28, n_estimators=821; total time=   2.7s\n"
     ]
    },
    {
     "name": "stderr",
     "output_type": "stream",
     "text": [
      "/root/.pyenv/versions/3.8.12/envs/mcats/lib/python3.8/site-packages/sklearn/ensemble/_forest.py:424: FutureWarning: `max_features='auto'` has been deprecated in 1.1 and will be removed in 1.3. To keep the past behaviour, explicitly set `max_features='sqrt'` or remove this parameter as it is also the default value for RandomForestClassifiers and ExtraTreesClassifiers.\n",
      "  warn(\n"
     ]
    },
    {
     "name": "stdout",
     "output_type": "stream",
     "text": [
      "[CV] END max_depth=12, max_features=auto, min_samples_split=28, n_estimators=821; total time=   3.7s\n"
     ]
    },
    {
     "name": "stderr",
     "output_type": "stream",
     "text": [
      "/root/.pyenv/versions/3.8.12/envs/mcats/lib/python3.8/site-packages/sklearn/ensemble/_forest.py:424: FutureWarning: `max_features='auto'` has been deprecated in 1.1 and will be removed in 1.3. To keep the past behaviour, explicitly set `max_features='sqrt'` or remove this parameter as it is also the default value for RandomForestClassifiers and ExtraTreesClassifiers.\n",
      "  warn(\n"
     ]
    },
    {
     "name": "stdout",
     "output_type": "stream",
     "text": [
      "[CV] END max_depth=12, max_features=auto, min_samples_split=28, n_estimators=821; total time=   3.1s\n",
      "[CV] END max_depth=17, max_features=sqrt, min_samples_split=43, n_estimators=467; total time=   1.0s\n",
      "[CV] END max_depth=17, max_features=sqrt, min_samples_split=43, n_estimators=467; total time=   0.8s\n",
      "[CV] END max_depth=17, max_features=sqrt, min_samples_split=43, n_estimators=467; total time=   0.7s\n",
      "[CV] END max_depth=17, max_features=sqrt, min_samples_split=43, n_estimators=467; total time=   0.8s\n",
      "[CV] END max_depth=17, max_features=sqrt, min_samples_split=43, n_estimators=467; total time=   0.7s\n",
      "[CV] END max_depth=16, max_features=auto, min_samples_split=70, n_estimators=26; total time=   0.1s\n",
      "[CV] END max_depth=16, max_features=auto, min_samples_split=70, n_estimators=26; total time=   0.1s\n",
      "[CV] END max_depth=16, max_features=auto, min_samples_split=70, n_estimators=26; total time=   0.1s\n"
     ]
    },
    {
     "name": "stderr",
     "output_type": "stream",
     "text": [
      "/root/.pyenv/versions/3.8.12/envs/mcats/lib/python3.8/site-packages/sklearn/ensemble/_forest.py:424: FutureWarning: `max_features='auto'` has been deprecated in 1.1 and will be removed in 1.3. To keep the past behaviour, explicitly set `max_features='sqrt'` or remove this parameter as it is also the default value for RandomForestClassifiers and ExtraTreesClassifiers.\n",
      "  warn(\n",
      "/root/.pyenv/versions/3.8.12/envs/mcats/lib/python3.8/site-packages/sklearn/ensemble/_forest.py:424: FutureWarning: `max_features='auto'` has been deprecated in 1.1 and will be removed in 1.3. To keep the past behaviour, explicitly set `max_features='sqrt'` or remove this parameter as it is also the default value for RandomForestClassifiers and ExtraTreesClassifiers.\n",
      "  warn(\n",
      "/root/.pyenv/versions/3.8.12/envs/mcats/lib/python3.8/site-packages/sklearn/ensemble/_forest.py:424: FutureWarning: `max_features='auto'` has been deprecated in 1.1 and will be removed in 1.3. To keep the past behaviour, explicitly set `max_features='sqrt'` or remove this parameter as it is also the default value for RandomForestClassifiers and ExtraTreesClassifiers.\n",
      "  warn(\n",
      "/root/.pyenv/versions/3.8.12/envs/mcats/lib/python3.8/site-packages/sklearn/ensemble/_forest.py:424: FutureWarning: `max_features='auto'` has been deprecated in 1.1 and will be removed in 1.3. To keep the past behaviour, explicitly set `max_features='sqrt'` or remove this parameter as it is also the default value for RandomForestClassifiers and ExtraTreesClassifiers.\n",
      "  warn(\n"
     ]
    },
    {
     "name": "stdout",
     "output_type": "stream",
     "text": [
      "[CV] END max_depth=16, max_features=auto, min_samples_split=70, n_estimators=26; total time=   0.1s\n",
      "[CV] END max_depth=16, max_features=auto, min_samples_split=70, n_estimators=26; total time=   0.1s\n"
     ]
    },
    {
     "name": "stderr",
     "output_type": "stream",
     "text": [
      "/root/.pyenv/versions/3.8.12/envs/mcats/lib/python3.8/site-packages/sklearn/ensemble/_forest.py:424: FutureWarning: `max_features='auto'` has been deprecated in 1.1 and will be removed in 1.3. To keep the past behaviour, explicitly set `max_features='sqrt'` or remove this parameter as it is also the default value for RandomForestClassifiers and ExtraTreesClassifiers.\n",
      "  warn(\n"
     ]
    },
    {
     "name": "stdout",
     "output_type": "stream",
     "text": [
      "[CV] END max_depth=16, max_features=log2, min_samples_split=89, n_estimators=904; total time=   1.3s\n",
      "[CV] END max_depth=16, max_features=log2, min_samples_split=89, n_estimators=904; total time=   1.2s\n",
      "[CV] END max_depth=16, max_features=log2, min_samples_split=89, n_estimators=904; total time=   1.2s\n",
      "[CV] END max_depth=16, max_features=log2, min_samples_split=89, n_estimators=904; total time=   1.2s\n",
      "[CV] END max_depth=16, max_features=log2, min_samples_split=89, n_estimators=904; total time=   1.3s\n",
      "[CV] END max_depth=27, max_features=sqrt, min_samples_split=24, n_estimators=778; total time=   1.1s\n",
      "[CV] END max_depth=27, max_features=sqrt, min_samples_split=24, n_estimators=778; total time=   1.2s\n",
      "[CV] END max_depth=27, max_features=sqrt, min_samples_split=24, n_estimators=778; total time=   1.1s\n",
      "[CV] END max_depth=27, max_features=sqrt, min_samples_split=24, n_estimators=778; total time=   1.2s\n",
      "[CV] END max_depth=27, max_features=sqrt, min_samples_split=24, n_estimators=778; total time=   1.2s\n",
      "[CV] END max_depth=4, max_features=None, min_samples_split=25, n_estimators=382; total time=   1.4s\n",
      "[CV] END max_depth=4, max_features=None, min_samples_split=25, n_estimators=382; total time=   1.6s\n",
      "[CV] END max_depth=4, max_features=None, min_samples_split=25, n_estimators=382; total time=   1.9s\n",
      "[CV] END max_depth=4, max_features=None, min_samples_split=25, n_estimators=382; total time=   2.2s\n",
      "[CV] END max_depth=4, max_features=None, min_samples_split=25, n_estimators=382; total time=   2.1s\n",
      "[CV] END max_depth=5, max_features=None, min_samples_split=39, n_estimators=314; total time=   1.9s\n",
      "[CV] END max_depth=5, max_features=None, min_samples_split=39, n_estimators=314; total time=   1.9s\n",
      "[CV] END max_depth=5, max_features=None, min_samples_split=39, n_estimators=314; total time=   2.0s\n",
      "[CV] END max_depth=5, max_features=None, min_samples_split=39, n_estimators=314; total time=   1.9s\n",
      "[CV] END max_depth=5, max_features=None, min_samples_split=39, n_estimators=314; total time=   1.9s\n",
      "[CV] END max_depth=20, max_features=log2, min_samples_split=10, n_estimators=289; total time=   0.6s\n",
      "[CV] END max_depth=20, max_features=log2, min_samples_split=10, n_estimators=289; total time=   0.6s\n",
      "[CV] END max_depth=20, max_features=log2, min_samples_split=10, n_estimators=289; total time=   0.6s\n",
      "[CV] END max_depth=20, max_features=log2, min_samples_split=10, n_estimators=289; total time=   0.6s\n",
      "[CV] END max_depth=20, max_features=log2, min_samples_split=10, n_estimators=289; total time=   0.7s\n",
      "[CV] END max_depth=3, max_features=log2, min_samples_split=25, n_estimators=656; total time=   1.0s\n",
      "[CV] END max_depth=3, max_features=log2, min_samples_split=25, n_estimators=656; total time=   1.2s\n",
      "[CV] END max_depth=3, max_features=log2, min_samples_split=25, n_estimators=656; total time=   1.1s\n",
      "[CV] END max_depth=3, max_features=log2, min_samples_split=25, n_estimators=656; total time=   1.2s\n",
      "[CV] END max_depth=3, max_features=log2, min_samples_split=25, n_estimators=656; total time=   1.2s\n",
      "[CV] END max_depth=16, max_features=None, min_samples_split=27, n_estimators=968; total time=   7.0s\n",
      "[CV] END max_depth=16, max_features=None, min_samples_split=27, n_estimators=968; total time=   7.4s\n",
      "[CV] END max_depth=16, max_features=None, min_samples_split=27, n_estimators=968; total time=   7.6s\n",
      "[CV] END max_depth=16, max_features=None, min_samples_split=27, n_estimators=968; total time=   7.0s\n",
      "[CV] END max_depth=16, max_features=None, min_samples_split=27, n_estimators=968; total time=   7.7s\n"
     ]
    },
    {
     "name": "stderr",
     "output_type": "stream",
     "text": [
      "/root/.pyenv/versions/3.8.12/envs/mcats/lib/python3.8/site-packages/sklearn/ensemble/_forest.py:424: FutureWarning: `max_features='auto'` has been deprecated in 1.1 and will be removed in 1.3. To keep the past behaviour, explicitly set `max_features='sqrt'` or remove this parameter as it is also the default value for RandomForestClassifiers and ExtraTreesClassifiers.\n",
      "  warn(\n"
     ]
    },
    {
     "name": "stdout",
     "output_type": "stream",
     "text": [
      "[CV] END max_depth=20, max_features=auto, min_samples_split=76, n_estimators=191; total time=   0.4s\n"
     ]
    },
    {
     "name": "stderr",
     "output_type": "stream",
     "text": [
      "/root/.pyenv/versions/3.8.12/envs/mcats/lib/python3.8/site-packages/sklearn/ensemble/_forest.py:424: FutureWarning: `max_features='auto'` has been deprecated in 1.1 and will be removed in 1.3. To keep the past behaviour, explicitly set `max_features='sqrt'` or remove this parameter as it is also the default value for RandomForestClassifiers and ExtraTreesClassifiers.\n",
      "  warn(\n"
     ]
    },
    {
     "name": "stdout",
     "output_type": "stream",
     "text": [
      "[CV] END max_depth=20, max_features=auto, min_samples_split=76, n_estimators=191; total time=   0.4s\n"
     ]
    },
    {
     "name": "stderr",
     "output_type": "stream",
     "text": [
      "/root/.pyenv/versions/3.8.12/envs/mcats/lib/python3.8/site-packages/sklearn/ensemble/_forest.py:424: FutureWarning: `max_features='auto'` has been deprecated in 1.1 and will be removed in 1.3. To keep the past behaviour, explicitly set `max_features='sqrt'` or remove this parameter as it is also the default value for RandomForestClassifiers and ExtraTreesClassifiers.\n",
      "  warn(\n"
     ]
    },
    {
     "name": "stdout",
     "output_type": "stream",
     "text": [
      "[CV] END max_depth=20, max_features=auto, min_samples_split=76, n_estimators=191; total time=   0.4s\n"
     ]
    },
    {
     "name": "stderr",
     "output_type": "stream",
     "text": [
      "/root/.pyenv/versions/3.8.12/envs/mcats/lib/python3.8/site-packages/sklearn/ensemble/_forest.py:424: FutureWarning: `max_features='auto'` has been deprecated in 1.1 and will be removed in 1.3. To keep the past behaviour, explicitly set `max_features='sqrt'` or remove this parameter as it is also the default value for RandomForestClassifiers and ExtraTreesClassifiers.\n",
      "  warn(\n"
     ]
    },
    {
     "name": "stdout",
     "output_type": "stream",
     "text": [
      "[CV] END max_depth=20, max_features=auto, min_samples_split=76, n_estimators=191; total time=   0.5s\n"
     ]
    },
    {
     "name": "stderr",
     "output_type": "stream",
     "text": [
      "/root/.pyenv/versions/3.8.12/envs/mcats/lib/python3.8/site-packages/sklearn/ensemble/_forest.py:424: FutureWarning: `max_features='auto'` has been deprecated in 1.1 and will be removed in 1.3. To keep the past behaviour, explicitly set `max_features='sqrt'` or remove this parameter as it is also the default value for RandomForestClassifiers and ExtraTreesClassifiers.\n",
      "  warn(\n"
     ]
    },
    {
     "name": "stdout",
     "output_type": "stream",
     "text": [
      "[CV] END max_depth=20, max_features=auto, min_samples_split=76, n_estimators=191; total time=   0.4s\n"
     ]
    },
    {
     "name": "stderr",
     "output_type": "stream",
     "text": [
      "/root/.pyenv/versions/3.8.12/envs/mcats/lib/python3.8/site-packages/sklearn/ensemble/_forest.py:424: FutureWarning: `max_features='auto'` has been deprecated in 1.1 and will be removed in 1.3. To keep the past behaviour, explicitly set `max_features='sqrt'` or remove this parameter as it is also the default value for RandomForestClassifiers and ExtraTreesClassifiers.\n",
      "  warn(\n"
     ]
    },
    {
     "name": "stdout",
     "output_type": "stream",
     "text": [
      "[CV] END max_depth=15, max_features=auto, min_samples_split=90, n_estimators=152; total time=   0.4s\n"
     ]
    },
    {
     "name": "stderr",
     "output_type": "stream",
     "text": [
      "/root/.pyenv/versions/3.8.12/envs/mcats/lib/python3.8/site-packages/sklearn/ensemble/_forest.py:424: FutureWarning: `max_features='auto'` has been deprecated in 1.1 and will be removed in 1.3. To keep the past behaviour, explicitly set `max_features='sqrt'` or remove this parameter as it is also the default value for RandomForestClassifiers and ExtraTreesClassifiers.\n",
      "  warn(\n"
     ]
    },
    {
     "name": "stdout",
     "output_type": "stream",
     "text": [
      "[CV] END max_depth=15, max_features=auto, min_samples_split=90, n_estimators=152; total time=   0.4s\n"
     ]
    },
    {
     "name": "stderr",
     "output_type": "stream",
     "text": [
      "/root/.pyenv/versions/3.8.12/envs/mcats/lib/python3.8/site-packages/sklearn/ensemble/_forest.py:424: FutureWarning: `max_features='auto'` has been deprecated in 1.1 and will be removed in 1.3. To keep the past behaviour, explicitly set `max_features='sqrt'` or remove this parameter as it is also the default value for RandomForestClassifiers and ExtraTreesClassifiers.\n",
      "  warn(\n"
     ]
    },
    {
     "name": "stdout",
     "output_type": "stream",
     "text": [
      "[CV] END max_depth=15, max_features=auto, min_samples_split=90, n_estimators=152; total time=   0.4s\n"
     ]
    },
    {
     "name": "stderr",
     "output_type": "stream",
     "text": [
      "/root/.pyenv/versions/3.8.12/envs/mcats/lib/python3.8/site-packages/sklearn/ensemble/_forest.py:424: FutureWarning: `max_features='auto'` has been deprecated in 1.1 and will be removed in 1.3. To keep the past behaviour, explicitly set `max_features='sqrt'` or remove this parameter as it is also the default value for RandomForestClassifiers and ExtraTreesClassifiers.\n",
      "  warn(\n"
     ]
    },
    {
     "name": "stdout",
     "output_type": "stream",
     "text": [
      "[CV] END max_depth=15, max_features=auto, min_samples_split=90, n_estimators=152; total time=   0.4s\n"
     ]
    },
    {
     "name": "stderr",
     "output_type": "stream",
     "text": [
      "/root/.pyenv/versions/3.8.12/envs/mcats/lib/python3.8/site-packages/sklearn/ensemble/_forest.py:424: FutureWarning: `max_features='auto'` has been deprecated in 1.1 and will be removed in 1.3. To keep the past behaviour, explicitly set `max_features='sqrt'` or remove this parameter as it is also the default value for RandomForestClassifiers and ExtraTreesClassifiers.\n",
      "  warn(\n"
     ]
    },
    {
     "name": "stdout",
     "output_type": "stream",
     "text": [
      "[CV] END max_depth=15, max_features=auto, min_samples_split=90, n_estimators=152; total time=   0.4s\n",
      "[CV] END max_depth=24, max_features=sqrt, min_samples_split=79, n_estimators=772; total time=   1.5s\n",
      "[CV] END max_depth=24, max_features=sqrt, min_samples_split=79, n_estimators=772; total time=   1.8s\n",
      "[CV] END max_depth=24, max_features=sqrt, min_samples_split=79, n_estimators=772; total time=   1.9s\n",
      "[CV] END max_depth=24, max_features=sqrt, min_samples_split=79, n_estimators=772; total time=   1.6s\n",
      "[CV] END max_depth=24, max_features=sqrt, min_samples_split=79, n_estimators=772; total time=   1.5s\n"
     ]
    },
    {
     "name": "stderr",
     "output_type": "stream",
     "text": [
      "/root/.pyenv/versions/3.8.12/envs/mcats/lib/python3.8/site-packages/sklearn/ensemble/_forest.py:424: FutureWarning: `max_features='auto'` has been deprecated in 1.1 and will be removed in 1.3. To keep the past behaviour, explicitly set `max_features='sqrt'` or remove this parameter as it is also the default value for RandomForestClassifiers and ExtraTreesClassifiers.\n",
      "  warn(\n"
     ]
    },
    {
     "name": "stdout",
     "output_type": "stream",
     "text": [
      "[CV] END max_depth=1, max_features=auto, min_samples_split=79, n_estimators=775; total time=   1.4s\n"
     ]
    },
    {
     "name": "stderr",
     "output_type": "stream",
     "text": [
      "/root/.pyenv/versions/3.8.12/envs/mcats/lib/python3.8/site-packages/sklearn/ensemble/_forest.py:424: FutureWarning: `max_features='auto'` has been deprecated in 1.1 and will be removed in 1.3. To keep the past behaviour, explicitly set `max_features='sqrt'` or remove this parameter as it is also the default value for RandomForestClassifiers and ExtraTreesClassifiers.\n",
      "  warn(\n"
     ]
    },
    {
     "name": "stdout",
     "output_type": "stream",
     "text": [
      "[CV] END max_depth=1, max_features=auto, min_samples_split=79, n_estimators=775; total time=   1.6s\n"
     ]
    },
    {
     "name": "stderr",
     "output_type": "stream",
     "text": [
      "/root/.pyenv/versions/3.8.12/envs/mcats/lib/python3.8/site-packages/sklearn/ensemble/_forest.py:424: FutureWarning: `max_features='auto'` has been deprecated in 1.1 and will be removed in 1.3. To keep the past behaviour, explicitly set `max_features='sqrt'` or remove this parameter as it is also the default value for RandomForestClassifiers and ExtraTreesClassifiers.\n",
      "  warn(\n"
     ]
    },
    {
     "name": "stdout",
     "output_type": "stream",
     "text": [
      "[CV] END max_depth=1, max_features=auto, min_samples_split=79, n_estimators=775; total time=   1.3s\n"
     ]
    },
    {
     "name": "stderr",
     "output_type": "stream",
     "text": [
      "/root/.pyenv/versions/3.8.12/envs/mcats/lib/python3.8/site-packages/sklearn/ensemble/_forest.py:424: FutureWarning: `max_features='auto'` has been deprecated in 1.1 and will be removed in 1.3. To keep the past behaviour, explicitly set `max_features='sqrt'` or remove this parameter as it is also the default value for RandomForestClassifiers and ExtraTreesClassifiers.\n",
      "  warn(\n"
     ]
    },
    {
     "name": "stdout",
     "output_type": "stream",
     "text": [
      "[CV] END max_depth=1, max_features=auto, min_samples_split=79, n_estimators=775; total time=   1.3s\n"
     ]
    },
    {
     "name": "stderr",
     "output_type": "stream",
     "text": [
      "/root/.pyenv/versions/3.8.12/envs/mcats/lib/python3.8/site-packages/sklearn/ensemble/_forest.py:424: FutureWarning: `max_features='auto'` has been deprecated in 1.1 and will be removed in 1.3. To keep the past behaviour, explicitly set `max_features='sqrt'` or remove this parameter as it is also the default value for RandomForestClassifiers and ExtraTreesClassifiers.\n",
      "  warn(\n"
     ]
    },
    {
     "name": "stdout",
     "output_type": "stream",
     "text": [
      "[CV] END max_depth=1, max_features=auto, min_samples_split=79, n_estimators=775; total time=   1.3s\n",
      "[CV] END max_depth=21, max_features=sqrt, min_samples_split=72, n_estimators=515; total time=   1.1s\n",
      "[CV] END max_depth=21, max_features=sqrt, min_samples_split=72, n_estimators=515; total time=   1.0s\n",
      "[CV] END max_depth=21, max_features=sqrt, min_samples_split=72, n_estimators=515; total time=   1.2s\n",
      "[CV] END max_depth=21, max_features=sqrt, min_samples_split=72, n_estimators=515; total time=   1.2s\n",
      "[CV] END max_depth=21, max_features=sqrt, min_samples_split=72, n_estimators=515; total time=   1.1s\n",
      "[CV] END max_depth=13, max_features=None, min_samples_split=23, n_estimators=716; total time=   6.4s\n",
      "[CV] END max_depth=13, max_features=None, min_samples_split=23, n_estimators=716; total time=   6.5s\n",
      "[CV] END max_depth=13, max_features=None, min_samples_split=23, n_estimators=716; total time=   6.7s\n",
      "[CV] END max_depth=13, max_features=None, min_samples_split=23, n_estimators=716; total time=   6.9s\n",
      "[CV] END max_depth=13, max_features=None, min_samples_split=23, n_estimators=716; total time=   6.6s\n",
      "[CV] END max_depth=8, max_features=sqrt, min_samples_split=74, n_estimators=76; total time=   0.2s\n",
      "[CV] END max_depth=8, max_features=sqrt, min_samples_split=74, n_estimators=76; total time=   0.2s\n",
      "[CV] END max_depth=8, max_features=sqrt, min_samples_split=74, n_estimators=76; total time=   0.2s\n",
      "[CV] END max_depth=8, max_features=sqrt, min_samples_split=74, n_estimators=76; total time=   0.3s\n",
      "[CV] END max_depth=8, max_features=sqrt, min_samples_split=74, n_estimators=76; total time=   0.2s\n",
      "[CV] END max_depth=13, max_features=None, min_samples_split=22, n_estimators=543; total time=   5.0s\n",
      "[CV] END max_depth=13, max_features=None, min_samples_split=22, n_estimators=543; total time=   4.8s\n",
      "[CV] END max_depth=13, max_features=None, min_samples_split=22, n_estimators=543; total time=   5.1s\n",
      "[CV] END max_depth=13, max_features=None, min_samples_split=22, n_estimators=543; total time=   5.1s\n",
      "[CV] END max_depth=13, max_features=None, min_samples_split=22, n_estimators=543; total time=   5.0s\n",
      "[CV] END max_depth=5, max_features=None, min_samples_split=9, n_estimators=814; total time=   5.7s\n",
      "[CV] END max_depth=5, max_features=None, min_samples_split=9, n_estimators=814; total time=   6.8s\n",
      "[CV] END max_depth=5, max_features=None, min_samples_split=9, n_estimators=814; total time=   7.1s\n",
      "[CV] END max_depth=5, max_features=None, min_samples_split=9, n_estimators=814; total time=   6.8s\n",
      "[CV] END max_depth=5, max_features=None, min_samples_split=9, n_estimators=814; total time=   6.6s\n",
      "[CV] END max_depth=5, max_features=sqrt, min_samples_split=84, n_estimators=97; total time=   0.3s\n",
      "[CV] END max_depth=5, max_features=sqrt, min_samples_split=84, n_estimators=97; total time=   0.3s\n",
      "[CV] END max_depth=5, max_features=sqrt, min_samples_split=84, n_estimators=97; total time=   0.3s\n",
      "[CV] END max_depth=5, max_features=sqrt, min_samples_split=84, n_estimators=97; total time=   0.3s\n",
      "[CV] END max_depth=5, max_features=sqrt, min_samples_split=84, n_estimators=97; total time=   0.3s\n",
      "[CV] END max_depth=14, max_features=log2, min_samples_split=25, n_estimators=893; total time=   2.1s\n",
      "[CV] END max_depth=14, max_features=log2, min_samples_split=25, n_estimators=893; total time=   2.0s\n",
      "[CV] END max_depth=14, max_features=log2, min_samples_split=25, n_estimators=893; total time=   2.1s\n",
      "[CV] END max_depth=14, max_features=log2, min_samples_split=25, n_estimators=893; total time=   2.0s\n",
      "[CV] END max_depth=14, max_features=log2, min_samples_split=25, n_estimators=893; total time=   2.0s\n",
      "[CV] END max_depth=18, max_features=None, min_samples_split=26, n_estimators=715; total time=   6.3s\n",
      "[CV] END max_depth=18, max_features=None, min_samples_split=26, n_estimators=715; total time=   6.2s\n",
      "[CV] END max_depth=18, max_features=None, min_samples_split=26, n_estimators=715; total time=   6.7s\n",
      "[CV] END max_depth=18, max_features=None, min_samples_split=26, n_estimators=715; total time=   6.2s\n",
      "[CV] END max_depth=18, max_features=None, min_samples_split=26, n_estimators=715; total time=   6.1s\n"
     ]
    },
    {
     "name": "stderr",
     "output_type": "stream",
     "text": [
      "/root/.pyenv/versions/3.8.12/envs/mcats/lib/python3.8/site-packages/sklearn/ensemble/_forest.py:424: FutureWarning: `max_features='auto'` has been deprecated in 1.1 and will be removed in 1.3. To keep the past behaviour, explicitly set `max_features='sqrt'` or remove this parameter as it is also the default value for RandomForestClassifiers and ExtraTreesClassifiers.\n",
      "  warn(\n"
     ]
    },
    {
     "name": "stdout",
     "output_type": "stream",
     "text": [
      "[CV] END max_depth=29, max_features=auto, min_samples_split=34, n_estimators=141; total time=   0.4s\n"
     ]
    },
    {
     "name": "stderr",
     "output_type": "stream",
     "text": [
      "/root/.pyenv/versions/3.8.12/envs/mcats/lib/python3.8/site-packages/sklearn/ensemble/_forest.py:424: FutureWarning: `max_features='auto'` has been deprecated in 1.1 and will be removed in 1.3. To keep the past behaviour, explicitly set `max_features='sqrt'` or remove this parameter as it is also the default value for RandomForestClassifiers and ExtraTreesClassifiers.\n",
      "  warn(\n"
     ]
    },
    {
     "name": "stdout",
     "output_type": "stream",
     "text": [
      "[CV] END max_depth=29, max_features=auto, min_samples_split=34, n_estimators=141; total time=   0.4s\n"
     ]
    },
    {
     "name": "stderr",
     "output_type": "stream",
     "text": [
      "/root/.pyenv/versions/3.8.12/envs/mcats/lib/python3.8/site-packages/sklearn/ensemble/_forest.py:424: FutureWarning: `max_features='auto'` has been deprecated in 1.1 and will be removed in 1.3. To keep the past behaviour, explicitly set `max_features='sqrt'` or remove this parameter as it is also the default value for RandomForestClassifiers and ExtraTreesClassifiers.\n",
      "  warn(\n"
     ]
    },
    {
     "name": "stdout",
     "output_type": "stream",
     "text": [
      "[CV] END max_depth=29, max_features=auto, min_samples_split=34, n_estimators=141; total time=   0.4s\n"
     ]
    },
    {
     "name": "stderr",
     "output_type": "stream",
     "text": [
      "/root/.pyenv/versions/3.8.12/envs/mcats/lib/python3.8/site-packages/sklearn/ensemble/_forest.py:424: FutureWarning: `max_features='auto'` has been deprecated in 1.1 and will be removed in 1.3. To keep the past behaviour, explicitly set `max_features='sqrt'` or remove this parameter as it is also the default value for RandomForestClassifiers and ExtraTreesClassifiers.\n",
      "  warn(\n"
     ]
    },
    {
     "name": "stdout",
     "output_type": "stream",
     "text": [
      "[CV] END max_depth=29, max_features=auto, min_samples_split=34, n_estimators=141; total time=   0.4s\n"
     ]
    },
    {
     "name": "stderr",
     "output_type": "stream",
     "text": [
      "/root/.pyenv/versions/3.8.12/envs/mcats/lib/python3.8/site-packages/sklearn/ensemble/_forest.py:424: FutureWarning: `max_features='auto'` has been deprecated in 1.1 and will be removed in 1.3. To keep the past behaviour, explicitly set `max_features='sqrt'` or remove this parameter as it is also the default value for RandomForestClassifiers and ExtraTreesClassifiers.\n",
      "  warn(\n"
     ]
    },
    {
     "name": "stdout",
     "output_type": "stream",
     "text": [
      "[CV] END max_depth=29, max_features=auto, min_samples_split=34, n_estimators=141; total time=   0.4s\n",
      "[CV] END max_depth=2, max_features=log2, min_samples_split=62, n_estimators=490; total time=   1.0s\n",
      "[CV] END max_depth=2, max_features=log2, min_samples_split=62, n_estimators=490; total time=   1.1s\n",
      "[CV] END max_depth=2, max_features=log2, min_samples_split=62, n_estimators=490; total time=   1.2s\n",
      "[CV] END max_depth=2, max_features=log2, min_samples_split=62, n_estimators=490; total time=   1.5s\n",
      "[CV] END max_depth=2, max_features=log2, min_samples_split=62, n_estimators=490; total time=   1.0s\n",
      "[CV] END max_depth=25, max_features=log2, min_samples_split=99, n_estimators=131; total time=   0.3s\n",
      "[CV] END max_depth=25, max_features=log2, min_samples_split=99, n_estimators=131; total time=   0.3s\n",
      "[CV] END max_depth=25, max_features=log2, min_samples_split=99, n_estimators=131; total time=   0.3s\n",
      "[CV] END max_depth=25, max_features=log2, min_samples_split=99, n_estimators=131; total time=   0.3s\n",
      "[CV] END max_depth=25, max_features=log2, min_samples_split=99, n_estimators=131; total time=   0.3s\n"
     ]
    },
    {
     "name": "stderr",
     "output_type": "stream",
     "text": [
      "/root/.pyenv/versions/3.8.12/envs/mcats/lib/python3.8/site-packages/sklearn/ensemble/_forest.py:424: FutureWarning: `max_features='auto'` has been deprecated in 1.1 and will be removed in 1.3. To keep the past behaviour, explicitly set `max_features='sqrt'` or remove this parameter as it is also the default value for RandomForestClassifiers and ExtraTreesClassifiers.\n",
      "  warn(\n"
     ]
    },
    {
     "name": "stdout",
     "output_type": "stream",
     "text": [
      "[CV] END max_depth=13, max_features=auto, min_samples_split=12, n_estimators=695; total time=   2.0s\n"
     ]
    },
    {
     "name": "stderr",
     "output_type": "stream",
     "text": [
      "/root/.pyenv/versions/3.8.12/envs/mcats/lib/python3.8/site-packages/sklearn/ensemble/_forest.py:424: FutureWarning: `max_features='auto'` has been deprecated in 1.1 and will be removed in 1.3. To keep the past behaviour, explicitly set `max_features='sqrt'` or remove this parameter as it is also the default value for RandomForestClassifiers and ExtraTreesClassifiers.\n",
      "  warn(\n"
     ]
    },
    {
     "name": "stdout",
     "output_type": "stream",
     "text": [
      "[CV] END max_depth=13, max_features=auto, min_samples_split=12, n_estimators=695; total time=   1.9s\n"
     ]
    },
    {
     "name": "stderr",
     "output_type": "stream",
     "text": [
      "/root/.pyenv/versions/3.8.12/envs/mcats/lib/python3.8/site-packages/sklearn/ensemble/_forest.py:424: FutureWarning: `max_features='auto'` has been deprecated in 1.1 and will be removed in 1.3. To keep the past behaviour, explicitly set `max_features='sqrt'` or remove this parameter as it is also the default value for RandomForestClassifiers and ExtraTreesClassifiers.\n",
      "  warn(\n"
     ]
    },
    {
     "name": "stdout",
     "output_type": "stream",
     "text": [
      "[CV] END max_depth=13, max_features=auto, min_samples_split=12, n_estimators=695; total time=   1.9s\n"
     ]
    },
    {
     "name": "stderr",
     "output_type": "stream",
     "text": [
      "/root/.pyenv/versions/3.8.12/envs/mcats/lib/python3.8/site-packages/sklearn/ensemble/_forest.py:424: FutureWarning: `max_features='auto'` has been deprecated in 1.1 and will be removed in 1.3. To keep the past behaviour, explicitly set `max_features='sqrt'` or remove this parameter as it is also the default value for RandomForestClassifiers and ExtraTreesClassifiers.\n",
      "  warn(\n"
     ]
    },
    {
     "name": "stdout",
     "output_type": "stream",
     "text": [
      "[CV] END max_depth=13, max_features=auto, min_samples_split=12, n_estimators=695; total time=   1.9s\n"
     ]
    },
    {
     "name": "stderr",
     "output_type": "stream",
     "text": [
      "/root/.pyenv/versions/3.8.12/envs/mcats/lib/python3.8/site-packages/sklearn/ensemble/_forest.py:424: FutureWarning: `max_features='auto'` has been deprecated in 1.1 and will be removed in 1.3. To keep the past behaviour, explicitly set `max_features='sqrt'` or remove this parameter as it is also the default value for RandomForestClassifiers and ExtraTreesClassifiers.\n",
      "  warn(\n"
     ]
    },
    {
     "name": "stdout",
     "output_type": "stream",
     "text": [
      "[CV] END max_depth=13, max_features=auto, min_samples_split=12, n_estimators=695; total time=   1.8s\n",
      "[CV] END max_depth=1, max_features=sqrt, min_samples_split=84, n_estimators=471; total time=   1.0s\n",
      "[CV] END max_depth=1, max_features=sqrt, min_samples_split=84, n_estimators=471; total time=   1.2s\n",
      "[CV] END max_depth=1, max_features=sqrt, min_samples_split=84, n_estimators=471; total time=   1.2s\n",
      "[CV] END max_depth=1, max_features=sqrt, min_samples_split=84, n_estimators=471; total time=   1.0s\n",
      "[CV] END max_depth=1, max_features=sqrt, min_samples_split=84, n_estimators=471; total time=   0.9s\n",
      "[CV] END max_depth=7, max_features=log2, min_samples_split=73, n_estimators=177; total time=   0.4s\n",
      "[CV] END max_depth=7, max_features=log2, min_samples_split=73, n_estimators=177; total time=   0.4s\n",
      "[CV] END max_depth=7, max_features=log2, min_samples_split=73, n_estimators=177; total time=   0.4s\n",
      "[CV] END max_depth=7, max_features=log2, min_samples_split=73, n_estimators=177; total time=   0.4s\n",
      "[CV] END max_depth=7, max_features=log2, min_samples_split=73, n_estimators=177; total time=   0.4s\n",
      "[CV] END max_depth=23, max_features=None, min_samples_split=7, n_estimators=402; total time=   3.9s\n",
      "[CV] END max_depth=23, max_features=None, min_samples_split=7, n_estimators=402; total time=   4.0s\n",
      "[CV] END max_depth=23, max_features=None, min_samples_split=7, n_estimators=402; total time=   4.2s\n",
      "[CV] END max_depth=23, max_features=None, min_samples_split=7, n_estimators=402; total time=   4.0s\n",
      "[CV] END max_depth=23, max_features=None, min_samples_split=7, n_estimators=402; total time=   3.8s\n"
     ]
    },
    {
     "name": "stderr",
     "output_type": "stream",
     "text": [
      "/root/.pyenv/versions/3.8.12/envs/mcats/lib/python3.8/site-packages/sklearn/ensemble/_forest.py:424: FutureWarning: `max_features='auto'` has been deprecated in 1.1 and will be removed in 1.3. To keep the past behaviour, explicitly set `max_features='sqrt'` or remove this parameter as it is also the default value for RandomForestClassifiers and ExtraTreesClassifiers.\n",
      "  warn(\n"
     ]
    },
    {
     "name": "stdout",
     "output_type": "stream",
     "text": [
      "[CV] END max_depth=11, max_features=auto, min_samples_split=50, n_estimators=279; total time=   0.7s\n"
     ]
    },
    {
     "name": "stderr",
     "output_type": "stream",
     "text": [
      "/root/.pyenv/versions/3.8.12/envs/mcats/lib/python3.8/site-packages/sklearn/ensemble/_forest.py:424: FutureWarning: `max_features='auto'` has been deprecated in 1.1 and will be removed in 1.3. To keep the past behaviour, explicitly set `max_features='sqrt'` or remove this parameter as it is also the default value for RandomForestClassifiers and ExtraTreesClassifiers.\n",
      "  warn(\n"
     ]
    },
    {
     "name": "stdout",
     "output_type": "stream",
     "text": [
      "[CV] END max_depth=11, max_features=auto, min_samples_split=50, n_estimators=279; total time=   0.6s\n"
     ]
    },
    {
     "name": "stderr",
     "output_type": "stream",
     "text": [
      "/root/.pyenv/versions/3.8.12/envs/mcats/lib/python3.8/site-packages/sklearn/ensemble/_forest.py:424: FutureWarning: `max_features='auto'` has been deprecated in 1.1 and will be removed in 1.3. To keep the past behaviour, explicitly set `max_features='sqrt'` or remove this parameter as it is also the default value for RandomForestClassifiers and ExtraTreesClassifiers.\n",
      "  warn(\n"
     ]
    },
    {
     "name": "stdout",
     "output_type": "stream",
     "text": [
      "[CV] END max_depth=11, max_features=auto, min_samples_split=50, n_estimators=279; total time=   0.6s\n"
     ]
    },
    {
     "name": "stderr",
     "output_type": "stream",
     "text": [
      "/root/.pyenv/versions/3.8.12/envs/mcats/lib/python3.8/site-packages/sklearn/ensemble/_forest.py:424: FutureWarning: `max_features='auto'` has been deprecated in 1.1 and will be removed in 1.3. To keep the past behaviour, explicitly set `max_features='sqrt'` or remove this parameter as it is also the default value for RandomForestClassifiers and ExtraTreesClassifiers.\n",
      "  warn(\n"
     ]
    },
    {
     "name": "stdout",
     "output_type": "stream",
     "text": [
      "[CV] END max_depth=11, max_features=auto, min_samples_split=50, n_estimators=279; total time=   0.7s\n"
     ]
    },
    {
     "name": "stderr",
     "output_type": "stream",
     "text": [
      "/root/.pyenv/versions/3.8.12/envs/mcats/lib/python3.8/site-packages/sklearn/ensemble/_forest.py:424: FutureWarning: `max_features='auto'` has been deprecated in 1.1 and will be removed in 1.3. To keep the past behaviour, explicitly set `max_features='sqrt'` or remove this parameter as it is also the default value for RandomForestClassifiers and ExtraTreesClassifiers.\n",
      "  warn(\n"
     ]
    },
    {
     "name": "stdout",
     "output_type": "stream",
     "text": [
      "[CV] END max_depth=11, max_features=auto, min_samples_split=50, n_estimators=279; total time=   0.7s\n",
      "[CV] END max_depth=6, max_features=sqrt, min_samples_split=99, n_estimators=694; total time=   1.5s\n",
      "[CV] END max_depth=6, max_features=sqrt, min_samples_split=99, n_estimators=694; total time=   1.4s\n",
      "[CV] END max_depth=6, max_features=sqrt, min_samples_split=99, n_estimators=694; total time=   1.3s\n",
      "[CV] END max_depth=6, max_features=sqrt, min_samples_split=99, n_estimators=694; total time=   1.5s\n",
      "[CV] END max_depth=6, max_features=sqrt, min_samples_split=99, n_estimators=694; total time=   1.3s\n",
      "[CV] END max_depth=21, max_features=log2, min_samples_split=98, n_estimators=184; total time=   0.4s\n",
      "[CV] END max_depth=21, max_features=log2, min_samples_split=98, n_estimators=184; total time=   0.4s\n",
      "[CV] END max_depth=21, max_features=log2, min_samples_split=98, n_estimators=184; total time=   0.4s\n",
      "[CV] END max_depth=21, max_features=log2, min_samples_split=98, n_estimators=184; total time=   0.4s\n",
      "[CV] END max_depth=21, max_features=log2, min_samples_split=98, n_estimators=184; total time=   0.4s\n"
     ]
    },
    {
     "name": "stderr",
     "output_type": "stream",
     "text": [
      "/root/.pyenv/versions/3.8.12/envs/mcats/lib/python3.8/site-packages/sklearn/ensemble/_forest.py:424: FutureWarning: `max_features='auto'` has been deprecated in 1.1 and will be removed in 1.3. To keep the past behaviour, explicitly set `max_features='sqrt'` or remove this parameter as it is also the default value for RandomForestClassifiers and ExtraTreesClassifiers.\n",
      "  warn(\n"
     ]
    },
    {
     "name": "stdout",
     "output_type": "stream",
     "text": [
      "[CV] END max_depth=30, max_features=auto, min_samples_split=91, n_estimators=406; total time=   0.8s\n"
     ]
    },
    {
     "name": "stderr",
     "output_type": "stream",
     "text": [
      "/root/.pyenv/versions/3.8.12/envs/mcats/lib/python3.8/site-packages/sklearn/ensemble/_forest.py:424: FutureWarning: `max_features='auto'` has been deprecated in 1.1 and will be removed in 1.3. To keep the past behaviour, explicitly set `max_features='sqrt'` or remove this parameter as it is also the default value for RandomForestClassifiers and ExtraTreesClassifiers.\n",
      "  warn(\n"
     ]
    },
    {
     "name": "stdout",
     "output_type": "stream",
     "text": [
      "[CV] END max_depth=30, max_features=auto, min_samples_split=91, n_estimators=406; total time=   0.8s\n"
     ]
    },
    {
     "name": "stderr",
     "output_type": "stream",
     "text": [
      "/root/.pyenv/versions/3.8.12/envs/mcats/lib/python3.8/site-packages/sklearn/ensemble/_forest.py:424: FutureWarning: `max_features='auto'` has been deprecated in 1.1 and will be removed in 1.3. To keep the past behaviour, explicitly set `max_features='sqrt'` or remove this parameter as it is also the default value for RandomForestClassifiers and ExtraTreesClassifiers.\n",
      "  warn(\n"
     ]
    },
    {
     "name": "stdout",
     "output_type": "stream",
     "text": [
      "[CV] END max_depth=30, max_features=auto, min_samples_split=91, n_estimators=406; total time=   0.9s\n"
     ]
    },
    {
     "name": "stderr",
     "output_type": "stream",
     "text": [
      "/root/.pyenv/versions/3.8.12/envs/mcats/lib/python3.8/site-packages/sklearn/ensemble/_forest.py:424: FutureWarning: `max_features='auto'` has been deprecated in 1.1 and will be removed in 1.3. To keep the past behaviour, explicitly set `max_features='sqrt'` or remove this parameter as it is also the default value for RandomForestClassifiers and ExtraTreesClassifiers.\n",
      "  warn(\n"
     ]
    },
    {
     "name": "stdout",
     "output_type": "stream",
     "text": [
      "[CV] END max_depth=30, max_features=auto, min_samples_split=91, n_estimators=406; total time=   1.0s\n"
     ]
    },
    {
     "name": "stderr",
     "output_type": "stream",
     "text": [
      "/root/.pyenv/versions/3.8.12/envs/mcats/lib/python3.8/site-packages/sklearn/ensemble/_forest.py:424: FutureWarning: `max_features='auto'` has been deprecated in 1.1 and will be removed in 1.3. To keep the past behaviour, explicitly set `max_features='sqrt'` or remove this parameter as it is also the default value for RandomForestClassifiers and ExtraTreesClassifiers.\n",
      "  warn(\n"
     ]
    },
    {
     "name": "stdout",
     "output_type": "stream",
     "text": [
      "[CV] END max_depth=30, max_features=auto, min_samples_split=91, n_estimators=406; total time=   0.9s\n",
      "[CV] END max_depth=8, max_features=auto, min_samples_split=85, n_estimators=26; total time=   0.1s\n",
      "[CV] END max_depth=8, max_features=auto, min_samples_split=85, n_estimators=26; total time=   0.1s\n"
     ]
    },
    {
     "name": "stderr",
     "output_type": "stream",
     "text": [
      "/root/.pyenv/versions/3.8.12/envs/mcats/lib/python3.8/site-packages/sklearn/ensemble/_forest.py:424: FutureWarning: `max_features='auto'` has been deprecated in 1.1 and will be removed in 1.3. To keep the past behaviour, explicitly set `max_features='sqrt'` or remove this parameter as it is also the default value for RandomForestClassifiers and ExtraTreesClassifiers.\n",
      "  warn(\n",
      "/root/.pyenv/versions/3.8.12/envs/mcats/lib/python3.8/site-packages/sklearn/ensemble/_forest.py:424: FutureWarning: `max_features='auto'` has been deprecated in 1.1 and will be removed in 1.3. To keep the past behaviour, explicitly set `max_features='sqrt'` or remove this parameter as it is also the default value for RandomForestClassifiers and ExtraTreesClassifiers.\n",
      "  warn(\n",
      "/root/.pyenv/versions/3.8.12/envs/mcats/lib/python3.8/site-packages/sklearn/ensemble/_forest.py:424: FutureWarning: `max_features='auto'` has been deprecated in 1.1 and will be removed in 1.3. To keep the past behaviour, explicitly set `max_features='sqrt'` or remove this parameter as it is also the default value for RandomForestClassifiers and ExtraTreesClassifiers.\n",
      "  warn(\n"
     ]
    },
    {
     "name": "stdout",
     "output_type": "stream",
     "text": [
      "[CV] END max_depth=8, max_features=auto, min_samples_split=85, n_estimators=26; total time=   0.2s\n",
      "[CV] END max_depth=8, max_features=auto, min_samples_split=85, n_estimators=26; total time=   0.1s\n"
     ]
    },
    {
     "name": "stderr",
     "output_type": "stream",
     "text": [
      "/root/.pyenv/versions/3.8.12/envs/mcats/lib/python3.8/site-packages/sklearn/ensemble/_forest.py:424: FutureWarning: `max_features='auto'` has been deprecated in 1.1 and will be removed in 1.3. To keep the past behaviour, explicitly set `max_features='sqrt'` or remove this parameter as it is also the default value for RandomForestClassifiers and ExtraTreesClassifiers.\n",
      "  warn(\n",
      "/root/.pyenv/versions/3.8.12/envs/mcats/lib/python3.8/site-packages/sklearn/ensemble/_forest.py:424: FutureWarning: `max_features='auto'` has been deprecated in 1.1 and will be removed in 1.3. To keep the past behaviour, explicitly set `max_features='sqrt'` or remove this parameter as it is also the default value for RandomForestClassifiers and ExtraTreesClassifiers.\n",
      "  warn(\n"
     ]
    },
    {
     "name": "stdout",
     "output_type": "stream",
     "text": [
      "[CV] END max_depth=8, max_features=auto, min_samples_split=85, n_estimators=26; total time=   0.1s\n",
      "[CV] END max_depth=18, max_features=log2, min_samples_split=15, n_estimators=213; total time=   0.5s\n",
      "[CV] END max_depth=18, max_features=log2, min_samples_split=15, n_estimators=213; total time=   0.5s\n",
      "[CV] END max_depth=18, max_features=log2, min_samples_split=15, n_estimators=213; total time=   0.5s\n",
      "[CV] END max_depth=18, max_features=log2, min_samples_split=15, n_estimators=213; total time=   0.5s\n",
      "[CV] END max_depth=18, max_features=log2, min_samples_split=15, n_estimators=213; total time=   0.5s\n",
      "[CV] END max_depth=21, max_features=None, min_samples_split=8, n_estimators=718; total time=   6.7s\n",
      "[CV] END max_depth=21, max_features=None, min_samples_split=8, n_estimators=718; total time=   6.8s\n",
      "[CV] END max_depth=21, max_features=None, min_samples_split=8, n_estimators=718; total time=   7.4s\n",
      "[CV] END max_depth=21, max_features=None, min_samples_split=8, n_estimators=718; total time=   6.4s\n",
      "[CV] END max_depth=21, max_features=None, min_samples_split=8, n_estimators=718; total time=   7.1s\n",
      "[CV] END max_depth=25, max_features=None, min_samples_split=17, n_estimators=537; total time=   4.0s\n",
      "[CV] END max_depth=25, max_features=None, min_samples_split=17, n_estimators=537; total time=   4.0s\n",
      "[CV] END max_depth=25, max_features=None, min_samples_split=17, n_estimators=537; total time=   4.4s\n",
      "[CV] END max_depth=25, max_features=None, min_samples_split=17, n_estimators=537; total time=   4.4s\n",
      "[CV] END max_depth=25, max_features=None, min_samples_split=17, n_estimators=537; total time=   4.6s\n",
      "[CV] END max_depth=28, max_features=sqrt, min_samples_split=68, n_estimators=200; total time=   0.4s\n",
      "[CV] END max_depth=28, max_features=sqrt, min_samples_split=68, n_estimators=200; total time=   0.4s\n",
      "[CV] END max_depth=28, max_features=sqrt, min_samples_split=68, n_estimators=200; total time=   0.4s\n",
      "[CV] END max_depth=28, max_features=sqrt, min_samples_split=68, n_estimators=200; total time=   0.4s\n",
      "[CV] END max_depth=28, max_features=sqrt, min_samples_split=68, n_estimators=200; total time=   0.4s\n",
      "[CV] END max_depth=22, max_features=sqrt, min_samples_split=38, n_estimators=870; total time=   1.8s\n",
      "[CV] END max_depth=22, max_features=sqrt, min_samples_split=38, n_estimators=870; total time=   1.9s\n",
      "[CV] END max_depth=22, max_features=sqrt, min_samples_split=38, n_estimators=870; total time=   1.9s\n",
      "[CV] END max_depth=22, max_features=sqrt, min_samples_split=38, n_estimators=870; total time=   1.8s\n",
      "[CV] END max_depth=22, max_features=sqrt, min_samples_split=38, n_estimators=870; total time=   1.7s\n",
      "[CV] END max_depth=25, max_features=sqrt, min_samples_split=42, n_estimators=78; total time=   0.2s\n",
      "[CV] END max_depth=25, max_features=sqrt, min_samples_split=42, n_estimators=78; total time=   0.2s\n",
      "[CV] END max_depth=25, max_features=sqrt, min_samples_split=42, n_estimators=78; total time=   0.2s\n",
      "[CV] END max_depth=25, max_features=sqrt, min_samples_split=42, n_estimators=78; total time=   0.2s\n",
      "[CV] END max_depth=25, max_features=sqrt, min_samples_split=42, n_estimators=78; total time=   0.2s\n",
      "[CV] END max_depth=28, max_features=sqrt, min_samples_split=49, n_estimators=462; total time=   1.0s\n",
      "[CV] END max_depth=28, max_features=sqrt, min_samples_split=49, n_estimators=462; total time=   1.0s\n",
      "[CV] END max_depth=28, max_features=sqrt, min_samples_split=49, n_estimators=462; total time=   1.0s\n",
      "[CV] END max_depth=28, max_features=sqrt, min_samples_split=49, n_estimators=462; total time=   1.0s\n",
      "[CV] END max_depth=28, max_features=sqrt, min_samples_split=49, n_estimators=462; total time=   1.0s\n",
      "[CV] END max_depth=9, max_features=log2, min_samples_split=47, n_estimators=856; total time=   1.6s\n",
      "[CV] END max_depth=9, max_features=log2, min_samples_split=47, n_estimators=856; total time=   1.6s\n",
      "[CV] END max_depth=9, max_features=log2, min_samples_split=47, n_estimators=856; total time=   1.8s\n",
      "[CV] END max_depth=9, max_features=log2, min_samples_split=47, n_estimators=856; total time=   1.6s\n",
      "[CV] END max_depth=9, max_features=log2, min_samples_split=47, n_estimators=856; total time=   1.7s\n"
     ]
    },
    {
     "name": "stderr",
     "output_type": "stream",
     "text": [
      "/root/.pyenv/versions/3.8.12/envs/mcats/lib/python3.8/site-packages/sklearn/ensemble/_forest.py:424: FutureWarning: `max_features='auto'` has been deprecated in 1.1 and will be removed in 1.3. To keep the past behaviour, explicitly set `max_features='sqrt'` or remove this parameter as it is also the default value for RandomForestClassifiers and ExtraTreesClassifiers.\n",
      "  warn(\n"
     ]
    },
    {
     "name": "stdout",
     "output_type": "stream",
     "text": [
      "[CV] END max_depth=17, max_features=auto, min_samples_split=47, n_estimators=452; total time=   1.3s\n"
     ]
    },
    {
     "name": "stderr",
     "output_type": "stream",
     "text": [
      "/root/.pyenv/versions/3.8.12/envs/mcats/lib/python3.8/site-packages/sklearn/ensemble/_forest.py:424: FutureWarning: `max_features='auto'` has been deprecated in 1.1 and will be removed in 1.3. To keep the past behaviour, explicitly set `max_features='sqrt'` or remove this parameter as it is also the default value for RandomForestClassifiers and ExtraTreesClassifiers.\n",
      "  warn(\n"
     ]
    },
    {
     "name": "stdout",
     "output_type": "stream",
     "text": [
      "[CV] END max_depth=17, max_features=auto, min_samples_split=47, n_estimators=452; total time=   1.2s\n"
     ]
    },
    {
     "name": "stderr",
     "output_type": "stream",
     "text": [
      "/root/.pyenv/versions/3.8.12/envs/mcats/lib/python3.8/site-packages/sklearn/ensemble/_forest.py:424: FutureWarning: `max_features='auto'` has been deprecated in 1.1 and will be removed in 1.3. To keep the past behaviour, explicitly set `max_features='sqrt'` or remove this parameter as it is also the default value for RandomForestClassifiers and ExtraTreesClassifiers.\n",
      "  warn(\n"
     ]
    },
    {
     "name": "stdout",
     "output_type": "stream",
     "text": [
      "[CV] END max_depth=17, max_features=auto, min_samples_split=47, n_estimators=452; total time=   1.3s\n"
     ]
    },
    {
     "name": "stderr",
     "output_type": "stream",
     "text": [
      "/root/.pyenv/versions/3.8.12/envs/mcats/lib/python3.8/site-packages/sklearn/ensemble/_forest.py:424: FutureWarning: `max_features='auto'` has been deprecated in 1.1 and will be removed in 1.3. To keep the past behaviour, explicitly set `max_features='sqrt'` or remove this parameter as it is also the default value for RandomForestClassifiers and ExtraTreesClassifiers.\n",
      "  warn(\n"
     ]
    },
    {
     "name": "stdout",
     "output_type": "stream",
     "text": [
      "[CV] END max_depth=17, max_features=auto, min_samples_split=47, n_estimators=452; total time=   1.1s\n"
     ]
    },
    {
     "name": "stderr",
     "output_type": "stream",
     "text": [
      "/root/.pyenv/versions/3.8.12/envs/mcats/lib/python3.8/site-packages/sklearn/ensemble/_forest.py:424: FutureWarning: `max_features='auto'` has been deprecated in 1.1 and will be removed in 1.3. To keep the past behaviour, explicitly set `max_features='sqrt'` or remove this parameter as it is also the default value for RandomForestClassifiers and ExtraTreesClassifiers.\n",
      "  warn(\n"
     ]
    },
    {
     "name": "stdout",
     "output_type": "stream",
     "text": [
      "[CV] END max_depth=17, max_features=auto, min_samples_split=47, n_estimators=452; total time=   1.1s\n",
      "[CV] END max_depth=21, max_features=log2, min_samples_split=80, n_estimators=303; total time=   0.7s\n",
      "[CV] END max_depth=21, max_features=log2, min_samples_split=80, n_estimators=303; total time=   0.7s\n",
      "[CV] END max_depth=21, max_features=log2, min_samples_split=80, n_estimators=303; total time=   0.7s\n",
      "[CV] END max_depth=21, max_features=log2, min_samples_split=80, n_estimators=303; total time=   0.7s\n",
      "[CV] END max_depth=21, max_features=log2, min_samples_split=80, n_estimators=303; total time=   0.7s\n",
      "[CV] END max_depth=1, max_features=sqrt, min_samples_split=65, n_estimators=844; total time=   1.6s\n",
      "[CV] END max_depth=1, max_features=sqrt, min_samples_split=65, n_estimators=844; total time=   1.6s\n",
      "[CV] END max_depth=1, max_features=sqrt, min_samples_split=65, n_estimators=844; total time=   1.6s\n",
      "[CV] END max_depth=1, max_features=sqrt, min_samples_split=65, n_estimators=844; total time=   1.5s\n",
      "[CV] END max_depth=1, max_features=sqrt, min_samples_split=65, n_estimators=844; total time=   1.7s\n",
      "[CV] END max_depth=4, max_features=sqrt, min_samples_split=95, n_estimators=546; total time=   1.4s\n",
      "[CV] END max_depth=4, max_features=sqrt, min_samples_split=95, n_estimators=546; total time=   1.1s\n",
      "[CV] END max_depth=4, max_features=sqrt, min_samples_split=95, n_estimators=546; total time=   1.1s\n",
      "[CV] END max_depth=4, max_features=sqrt, min_samples_split=95, n_estimators=546; total time=   1.1s\n",
      "[CV] END max_depth=4, max_features=sqrt, min_samples_split=95, n_estimators=546; total time=   1.1s\n",
      "[CV] END max_depth=3, max_features=auto, min_samples_split=85, n_estimators=49; total time=   0.1s\n"
     ]
    },
    {
     "name": "stderr",
     "output_type": "stream",
     "text": [
      "/root/.pyenv/versions/3.8.12/envs/mcats/lib/python3.8/site-packages/sklearn/ensemble/_forest.py:424: FutureWarning: `max_features='auto'` has been deprecated in 1.1 and will be removed in 1.3. To keep the past behaviour, explicitly set `max_features='sqrt'` or remove this parameter as it is also the default value for RandomForestClassifiers and ExtraTreesClassifiers.\n",
      "  warn(\n",
      "/root/.pyenv/versions/3.8.12/envs/mcats/lib/python3.8/site-packages/sklearn/ensemble/_forest.py:424: FutureWarning: `max_features='auto'` has been deprecated in 1.1 and will be removed in 1.3. To keep the past behaviour, explicitly set `max_features='sqrt'` or remove this parameter as it is also the default value for RandomForestClassifiers and ExtraTreesClassifiers.\n",
      "  warn(\n"
     ]
    },
    {
     "name": "stdout",
     "output_type": "stream",
     "text": [
      "[CV] END max_depth=3, max_features=auto, min_samples_split=85, n_estimators=49; total time=   0.2s\n",
      "[CV] END max_depth=3, max_features=auto, min_samples_split=85, n_estimators=49; total time=   0.1s\n"
     ]
    },
    {
     "name": "stderr",
     "output_type": "stream",
     "text": [
      "/root/.pyenv/versions/3.8.12/envs/mcats/lib/python3.8/site-packages/sklearn/ensemble/_forest.py:424: FutureWarning: `max_features='auto'` has been deprecated in 1.1 and will be removed in 1.3. To keep the past behaviour, explicitly set `max_features='sqrt'` or remove this parameter as it is also the default value for RandomForestClassifiers and ExtraTreesClassifiers.\n",
      "  warn(\n",
      "/root/.pyenv/versions/3.8.12/envs/mcats/lib/python3.8/site-packages/sklearn/ensemble/_forest.py:424: FutureWarning: `max_features='auto'` has been deprecated in 1.1 and will be removed in 1.3. To keep the past behaviour, explicitly set `max_features='sqrt'` or remove this parameter as it is also the default value for RandomForestClassifiers and ExtraTreesClassifiers.\n",
      "  warn(\n"
     ]
    },
    {
     "name": "stdout",
     "output_type": "stream",
     "text": [
      "[CV] END max_depth=3, max_features=auto, min_samples_split=85, n_estimators=49; total time=   0.1s\n",
      "[CV] END max_depth=3, max_features=auto, min_samples_split=85, n_estimators=49; total time=   0.1s\n"
     ]
    },
    {
     "name": "stderr",
     "output_type": "stream",
     "text": [
      "/root/.pyenv/versions/3.8.12/envs/mcats/lib/python3.8/site-packages/sklearn/ensemble/_forest.py:424: FutureWarning: `max_features='auto'` has been deprecated in 1.1 and will be removed in 1.3. To keep the past behaviour, explicitly set `max_features='sqrt'` or remove this parameter as it is also the default value for RandomForestClassifiers and ExtraTreesClassifiers.\n",
      "  warn(\n",
      "/root/.pyenv/versions/3.8.12/envs/mcats/lib/python3.8/site-packages/sklearn/ensemble/_forest.py:424: FutureWarning: `max_features='auto'` has been deprecated in 1.1 and will be removed in 1.3. To keep the past behaviour, explicitly set `max_features='sqrt'` or remove this parameter as it is also the default value for RandomForestClassifiers and ExtraTreesClassifiers.\n",
      "  warn(\n"
     ]
    },
    {
     "name": "stdout",
     "output_type": "stream",
     "text": [
      "[CV] END max_depth=23, max_features=auto, min_samples_split=30, n_estimators=56; total time=   0.2s\n",
      "[CV] END max_depth=23, max_features=auto, min_samples_split=30, n_estimators=56; total time=   0.2s\n"
     ]
    },
    {
     "name": "stderr",
     "output_type": "stream",
     "text": [
      "/root/.pyenv/versions/3.8.12/envs/mcats/lib/python3.8/site-packages/sklearn/ensemble/_forest.py:424: FutureWarning: `max_features='auto'` has been deprecated in 1.1 and will be removed in 1.3. To keep the past behaviour, explicitly set `max_features='sqrt'` or remove this parameter as it is also the default value for RandomForestClassifiers and ExtraTreesClassifiers.\n",
      "  warn(\n",
      "/root/.pyenv/versions/3.8.12/envs/mcats/lib/python3.8/site-packages/sklearn/ensemble/_forest.py:424: FutureWarning: `max_features='auto'` has been deprecated in 1.1 and will be removed in 1.3. To keep the past behaviour, explicitly set `max_features='sqrt'` or remove this parameter as it is also the default value for RandomForestClassifiers and ExtraTreesClassifiers.\n",
      "  warn(\n"
     ]
    },
    {
     "name": "stdout",
     "output_type": "stream",
     "text": [
      "[CV] END max_depth=23, max_features=auto, min_samples_split=30, n_estimators=56; total time=   0.2s\n",
      "[CV] END max_depth=23, max_features=auto, min_samples_split=30, n_estimators=56; total time=   0.2s\n"
     ]
    },
    {
     "name": "stderr",
     "output_type": "stream",
     "text": [
      "/root/.pyenv/versions/3.8.12/envs/mcats/lib/python3.8/site-packages/sklearn/ensemble/_forest.py:424: FutureWarning: `max_features='auto'` has been deprecated in 1.1 and will be removed in 1.3. To keep the past behaviour, explicitly set `max_features='sqrt'` or remove this parameter as it is also the default value for RandomForestClassifiers and ExtraTreesClassifiers.\n",
      "  warn(\n",
      "/root/.pyenv/versions/3.8.12/envs/mcats/lib/python3.8/site-packages/sklearn/ensemble/_forest.py:424: FutureWarning: `max_features='auto'` has been deprecated in 1.1 and will be removed in 1.3. To keep the past behaviour, explicitly set `max_features='sqrt'` or remove this parameter as it is also the default value for RandomForestClassifiers and ExtraTreesClassifiers.\n",
      "  warn(\n"
     ]
    },
    {
     "name": "stdout",
     "output_type": "stream",
     "text": [
      "[CV] END max_depth=23, max_features=auto, min_samples_split=30, n_estimators=56; total time=   0.2s\n",
      "[CV] END max_depth=19, max_features=None, min_samples_split=30, n_estimators=223; total time=   1.7s\n",
      "[CV] END max_depth=19, max_features=None, min_samples_split=30, n_estimators=223; total time=   1.9s\n",
      "[CV] END max_depth=19, max_features=None, min_samples_split=30, n_estimators=223; total time=   1.8s\n",
      "[CV] END max_depth=19, max_features=None, min_samples_split=30, n_estimators=223; total time=   2.0s\n",
      "[CV] END max_depth=19, max_features=None, min_samples_split=30, n_estimators=223; total time=   2.0s\n"
     ]
    },
    {
     "name": "stderr",
     "output_type": "stream",
     "text": [
      "/root/.pyenv/versions/3.8.12/envs/mcats/lib/python3.8/site-packages/sklearn/ensemble/_forest.py:424: FutureWarning: `max_features='auto'` has been deprecated in 1.1 and will be removed in 1.3. To keep the past behaviour, explicitly set `max_features='sqrt'` or remove this parameter as it is also the default value for RandomForestClassifiers and ExtraTreesClassifiers.\n",
      "  warn(\n"
     ]
    },
    {
     "name": "stdout",
     "output_type": "stream",
     "text": [
      "[CV] END max_depth=11, max_features=auto, min_samples_split=34, n_estimators=521; total time=   1.2s\n"
     ]
    },
    {
     "name": "stderr",
     "output_type": "stream",
     "text": [
      "/root/.pyenv/versions/3.8.12/envs/mcats/lib/python3.8/site-packages/sklearn/ensemble/_forest.py:424: FutureWarning: `max_features='auto'` has been deprecated in 1.1 and will be removed in 1.3. To keep the past behaviour, explicitly set `max_features='sqrt'` or remove this parameter as it is also the default value for RandomForestClassifiers and ExtraTreesClassifiers.\n",
      "  warn(\n"
     ]
    },
    {
     "name": "stdout",
     "output_type": "stream",
     "text": [
      "[CV] END max_depth=11, max_features=auto, min_samples_split=34, n_estimators=521; total time=   1.1s\n"
     ]
    },
    {
     "name": "stderr",
     "output_type": "stream",
     "text": [
      "/root/.pyenv/versions/3.8.12/envs/mcats/lib/python3.8/site-packages/sklearn/ensemble/_forest.py:424: FutureWarning: `max_features='auto'` has been deprecated in 1.1 and will be removed in 1.3. To keep the past behaviour, explicitly set `max_features='sqrt'` or remove this parameter as it is also the default value for RandomForestClassifiers and ExtraTreesClassifiers.\n",
      "  warn(\n"
     ]
    },
    {
     "name": "stdout",
     "output_type": "stream",
     "text": [
      "[CV] END max_depth=11, max_features=auto, min_samples_split=34, n_estimators=521; total time=   1.2s\n"
     ]
    },
    {
     "name": "stderr",
     "output_type": "stream",
     "text": [
      "/root/.pyenv/versions/3.8.12/envs/mcats/lib/python3.8/site-packages/sklearn/ensemble/_forest.py:424: FutureWarning: `max_features='auto'` has been deprecated in 1.1 and will be removed in 1.3. To keep the past behaviour, explicitly set `max_features='sqrt'` or remove this parameter as it is also the default value for RandomForestClassifiers and ExtraTreesClassifiers.\n",
      "  warn(\n"
     ]
    },
    {
     "name": "stdout",
     "output_type": "stream",
     "text": [
      "[CV] END max_depth=11, max_features=auto, min_samples_split=34, n_estimators=521; total time=   1.1s\n"
     ]
    },
    {
     "name": "stderr",
     "output_type": "stream",
     "text": [
      "/root/.pyenv/versions/3.8.12/envs/mcats/lib/python3.8/site-packages/sklearn/ensemble/_forest.py:424: FutureWarning: `max_features='auto'` has been deprecated in 1.1 and will be removed in 1.3. To keep the past behaviour, explicitly set `max_features='sqrt'` or remove this parameter as it is also the default value for RandomForestClassifiers and ExtraTreesClassifiers.\n",
      "  warn(\n"
     ]
    },
    {
     "name": "stdout",
     "output_type": "stream",
     "text": [
      "[CV] END max_depth=11, max_features=auto, min_samples_split=34, n_estimators=521; total time=   1.1s\n",
      "[CV] END max_depth=21, max_features=sqrt, min_samples_split=52, n_estimators=592; total time=   1.2s\n",
      "[CV] END max_depth=21, max_features=sqrt, min_samples_split=52, n_estimators=592; total time=   1.3s\n",
      "[CV] END max_depth=21, max_features=sqrt, min_samples_split=52, n_estimators=592; total time=   1.2s\n",
      "[CV] END max_depth=21, max_features=sqrt, min_samples_split=52, n_estimators=592; total time=   1.2s\n",
      "[CV] END max_depth=21, max_features=sqrt, min_samples_split=52, n_estimators=592; total time=   1.2s\n",
      "[CV] END max_depth=10, max_features=auto, min_samples_split=85, n_estimators=25; total time=   0.1s\n",
      "[CV] END max_depth=10, max_features=auto, min_samples_split=85, n_estimators=25; total time=   0.1s\n"
     ]
    },
    {
     "name": "stderr",
     "output_type": "stream",
     "text": [
      "/root/.pyenv/versions/3.8.12/envs/mcats/lib/python3.8/site-packages/sklearn/ensemble/_forest.py:424: FutureWarning: `max_features='auto'` has been deprecated in 1.1 and will be removed in 1.3. To keep the past behaviour, explicitly set `max_features='sqrt'` or remove this parameter as it is also the default value for RandomForestClassifiers and ExtraTreesClassifiers.\n",
      "  warn(\n",
      "/root/.pyenv/versions/3.8.12/envs/mcats/lib/python3.8/site-packages/sklearn/ensemble/_forest.py:424: FutureWarning: `max_features='auto'` has been deprecated in 1.1 and will be removed in 1.3. To keep the past behaviour, explicitly set `max_features='sqrt'` or remove this parameter as it is also the default value for RandomForestClassifiers and ExtraTreesClassifiers.\n",
      "  warn(\n",
      "/root/.pyenv/versions/3.8.12/envs/mcats/lib/python3.8/site-packages/sklearn/ensemble/_forest.py:424: FutureWarning: `max_features='auto'` has been deprecated in 1.1 and will be removed in 1.3. To keep the past behaviour, explicitly set `max_features='sqrt'` or remove this parameter as it is also the default value for RandomForestClassifiers and ExtraTreesClassifiers.\n",
      "  warn(\n"
     ]
    },
    {
     "name": "stdout",
     "output_type": "stream",
     "text": [
      "[CV] END max_depth=10, max_features=auto, min_samples_split=85, n_estimators=25; total time=   0.1s\n",
      "[CV] END max_depth=10, max_features=auto, min_samples_split=85, n_estimators=25; total time=   0.1s\n",
      "[CV] END max_depth=10, max_features=auto, min_samples_split=85, n_estimators=25; total time=   0.1s\n"
     ]
    },
    {
     "name": "stderr",
     "output_type": "stream",
     "text": [
      "/root/.pyenv/versions/3.8.12/envs/mcats/lib/python3.8/site-packages/sklearn/ensemble/_forest.py:424: FutureWarning: `max_features='auto'` has been deprecated in 1.1 and will be removed in 1.3. To keep the past behaviour, explicitly set `max_features='sqrt'` or remove this parameter as it is also the default value for RandomForestClassifiers and ExtraTreesClassifiers.\n",
      "  warn(\n",
      "/root/.pyenv/versions/3.8.12/envs/mcats/lib/python3.8/site-packages/sklearn/ensemble/_forest.py:424: FutureWarning: `max_features='auto'` has been deprecated in 1.1 and will be removed in 1.3. To keep the past behaviour, explicitly set `max_features='sqrt'` or remove this parameter as it is also the default value for RandomForestClassifiers and ExtraTreesClassifiers.\n",
      "  warn(\n"
     ]
    },
    {
     "name": "stdout",
     "output_type": "stream",
     "text": [
      "[CV] END max_depth=18, max_features=log2, min_samples_split=22, n_estimators=45; total time=   0.1s\n",
      "[CV] END max_depth=18, max_features=log2, min_samples_split=22, n_estimators=45; total time=   0.1s\n",
      "[CV] END max_depth=18, max_features=log2, min_samples_split=22, n_estimators=45; total time=   0.1s\n",
      "[CV] END max_depth=18, max_features=log2, min_samples_split=22, n_estimators=45; total time=   0.1s\n",
      "[CV] END max_depth=18, max_features=log2, min_samples_split=22, n_estimators=45; total time=   0.1s\n",
      "[CV] END max_depth=16, max_features=log2, min_samples_split=93, n_estimators=911; total time=   1.7s\n",
      "[CV] END max_depth=16, max_features=log2, min_samples_split=93, n_estimators=911; total time=   1.6s\n",
      "[CV] END max_depth=16, max_features=log2, min_samples_split=93, n_estimators=911; total time=   1.6s\n",
      "[CV] END max_depth=16, max_features=log2, min_samples_split=93, n_estimators=911; total time=   1.6s\n",
      "[CV] END max_depth=16, max_features=log2, min_samples_split=93, n_estimators=911; total time=   1.7s\n",
      "[CV] END max_depth=20, max_features=None, min_samples_split=28, n_estimators=236; total time=   1.7s\n",
      "[CV] END max_depth=20, max_features=None, min_samples_split=28, n_estimators=236; total time=   1.8s\n",
      "[CV] END max_depth=20, max_features=None, min_samples_split=28, n_estimators=236; total time=   1.8s\n",
      "[CV] END max_depth=20, max_features=None, min_samples_split=28, n_estimators=236; total time=   1.8s\n",
      "[CV] END max_depth=20, max_features=None, min_samples_split=28, n_estimators=236; total time=   1.8s\n",
      "[CV] END max_depth=23, max_features=None, min_samples_split=55, n_estimators=432; total time=   2.6s\n",
      "[CV] END max_depth=23, max_features=None, min_samples_split=55, n_estimators=432; total time=   2.6s\n",
      "[CV] END max_depth=23, max_features=None, min_samples_split=55, n_estimators=432; total time=   2.6s\n",
      "[CV] END max_depth=23, max_features=None, min_samples_split=55, n_estimators=432; total time=   2.6s\n",
      "[CV] END max_depth=23, max_features=None, min_samples_split=55, n_estimators=432; total time=   2.6s\n"
     ]
    },
    {
     "name": "stderr",
     "output_type": "stream",
     "text": [
      "/root/.pyenv/versions/3.8.12/envs/mcats/lib/python3.8/site-packages/sklearn/ensemble/_forest.py:424: FutureWarning: `max_features='auto'` has been deprecated in 1.1 and will be removed in 1.3. To keep the past behaviour, explicitly set `max_features='sqrt'` or remove this parameter as it is also the default value for RandomForestClassifiers and ExtraTreesClassifiers.\n",
      "  warn(\n"
     ]
    },
    {
     "name": "stdout",
     "output_type": "stream",
     "text": [
      "[CV] END max_depth=15, max_features=auto, min_samples_split=36, n_estimators=101; total time=   0.2s\n"
     ]
    },
    {
     "name": "stderr",
     "output_type": "stream",
     "text": [
      "/root/.pyenv/versions/3.8.12/envs/mcats/lib/python3.8/site-packages/sklearn/ensemble/_forest.py:424: FutureWarning: `max_features='auto'` has been deprecated in 1.1 and will be removed in 1.3. To keep the past behaviour, explicitly set `max_features='sqrt'` or remove this parameter as it is also the default value for RandomForestClassifiers and ExtraTreesClassifiers.\n",
      "  warn(\n"
     ]
    },
    {
     "name": "stdout",
     "output_type": "stream",
     "text": [
      "[CV] END max_depth=15, max_features=auto, min_samples_split=36, n_estimators=101; total time=   0.2s\n"
     ]
    },
    {
     "name": "stderr",
     "output_type": "stream",
     "text": [
      "/root/.pyenv/versions/3.8.12/envs/mcats/lib/python3.8/site-packages/sklearn/ensemble/_forest.py:424: FutureWarning: `max_features='auto'` has been deprecated in 1.1 and will be removed in 1.3. To keep the past behaviour, explicitly set `max_features='sqrt'` or remove this parameter as it is also the default value for RandomForestClassifiers and ExtraTreesClassifiers.\n",
      "  warn(\n"
     ]
    },
    {
     "name": "stdout",
     "output_type": "stream",
     "text": [
      "[CV] END max_depth=15, max_features=auto, min_samples_split=36, n_estimators=101; total time=   0.2s\n"
     ]
    },
    {
     "name": "stderr",
     "output_type": "stream",
     "text": [
      "/root/.pyenv/versions/3.8.12/envs/mcats/lib/python3.8/site-packages/sklearn/ensemble/_forest.py:424: FutureWarning: `max_features='auto'` has been deprecated in 1.1 and will be removed in 1.3. To keep the past behaviour, explicitly set `max_features='sqrt'` or remove this parameter as it is also the default value for RandomForestClassifiers and ExtraTreesClassifiers.\n",
      "  warn(\n"
     ]
    },
    {
     "name": "stdout",
     "output_type": "stream",
     "text": [
      "[CV] END max_depth=15, max_features=auto, min_samples_split=36, n_estimators=101; total time=   0.3s\n"
     ]
    },
    {
     "name": "stderr",
     "output_type": "stream",
     "text": [
      "/root/.pyenv/versions/3.8.12/envs/mcats/lib/python3.8/site-packages/sklearn/ensemble/_forest.py:424: FutureWarning: `max_features='auto'` has been deprecated in 1.1 and will be removed in 1.3. To keep the past behaviour, explicitly set `max_features='sqrt'` or remove this parameter as it is also the default value for RandomForestClassifiers and ExtraTreesClassifiers.\n",
      "  warn(\n"
     ]
    },
    {
     "name": "stdout",
     "output_type": "stream",
     "text": [
      "[CV] END max_depth=15, max_features=auto, min_samples_split=36, n_estimators=101; total time=   0.2s\n"
     ]
    },
    {
     "name": "stderr",
     "output_type": "stream",
     "text": [
      "/root/.pyenv/versions/3.8.12/envs/mcats/lib/python3.8/site-packages/sklearn/ensemble/_forest.py:424: FutureWarning: `max_features='auto'` has been deprecated in 1.1 and will be removed in 1.3. To keep the past behaviour, explicitly set `max_features='sqrt'` or remove this parameter as it is also the default value for RandomForestClassifiers and ExtraTreesClassifiers.\n",
      "  warn(\n"
     ]
    },
    {
     "name": "stdout",
     "output_type": "stream",
     "text": [
      "[CV] END max_depth=5, max_features=auto, min_samples_split=21, n_estimators=452; total time=   0.9s\n"
     ]
    },
    {
     "name": "stderr",
     "output_type": "stream",
     "text": [
      "/root/.pyenv/versions/3.8.12/envs/mcats/lib/python3.8/site-packages/sklearn/ensemble/_forest.py:424: FutureWarning: `max_features='auto'` has been deprecated in 1.1 and will be removed in 1.3. To keep the past behaviour, explicitly set `max_features='sqrt'` or remove this parameter as it is also the default value for RandomForestClassifiers and ExtraTreesClassifiers.\n",
      "  warn(\n"
     ]
    },
    {
     "name": "stdout",
     "output_type": "stream",
     "text": [
      "[CV] END max_depth=5, max_features=auto, min_samples_split=21, n_estimators=452; total time=   0.9s\n"
     ]
    },
    {
     "name": "stderr",
     "output_type": "stream",
     "text": [
      "/root/.pyenv/versions/3.8.12/envs/mcats/lib/python3.8/site-packages/sklearn/ensemble/_forest.py:424: FutureWarning: `max_features='auto'` has been deprecated in 1.1 and will be removed in 1.3. To keep the past behaviour, explicitly set `max_features='sqrt'` or remove this parameter as it is also the default value for RandomForestClassifiers and ExtraTreesClassifiers.\n",
      "  warn(\n"
     ]
    },
    {
     "name": "stdout",
     "output_type": "stream",
     "text": [
      "[CV] END max_depth=5, max_features=auto, min_samples_split=21, n_estimators=452; total time=   0.9s\n"
     ]
    },
    {
     "name": "stderr",
     "output_type": "stream",
     "text": [
      "/root/.pyenv/versions/3.8.12/envs/mcats/lib/python3.8/site-packages/sklearn/ensemble/_forest.py:424: FutureWarning: `max_features='auto'` has been deprecated in 1.1 and will be removed in 1.3. To keep the past behaviour, explicitly set `max_features='sqrt'` or remove this parameter as it is also the default value for RandomForestClassifiers and ExtraTreesClassifiers.\n",
      "  warn(\n"
     ]
    },
    {
     "name": "stdout",
     "output_type": "stream",
     "text": [
      "[CV] END max_depth=5, max_features=auto, min_samples_split=21, n_estimators=452; total time=   1.0s\n"
     ]
    },
    {
     "name": "stderr",
     "output_type": "stream",
     "text": [
      "/root/.pyenv/versions/3.8.12/envs/mcats/lib/python3.8/site-packages/sklearn/ensemble/_forest.py:424: FutureWarning: `max_features='auto'` has been deprecated in 1.1 and will be removed in 1.3. To keep the past behaviour, explicitly set `max_features='sqrt'` or remove this parameter as it is also the default value for RandomForestClassifiers and ExtraTreesClassifiers.\n",
      "  warn(\n"
     ]
    },
    {
     "name": "stdout",
     "output_type": "stream",
     "text": [
      "[CV] END max_depth=5, max_features=auto, min_samples_split=21, n_estimators=452; total time=   1.0s\n",
      "[CV] END max_depth=25, max_features=None, min_samples_split=96, n_estimators=167; total time=   0.9s\n",
      "[CV] END max_depth=25, max_features=None, min_samples_split=96, n_estimators=167; total time=   0.9s\n",
      "[CV] END max_depth=25, max_features=None, min_samples_split=96, n_estimators=167; total time=   0.9s\n",
      "[CV] END max_depth=25, max_features=None, min_samples_split=96, n_estimators=167; total time=   0.9s\n",
      "[CV] END max_depth=25, max_features=None, min_samples_split=96, n_estimators=167; total time=   1.0s\n",
      "[CV] END max_depth=16, max_features=None, min_samples_split=7, n_estimators=80; total time=   0.7s\n",
      "[CV] END max_depth=16, max_features=None, min_samples_split=7, n_estimators=80; total time=   0.7s\n",
      "[CV] END max_depth=16, max_features=None, min_samples_split=7, n_estimators=80; total time=   0.7s\n",
      "[CV] END max_depth=16, max_features=None, min_samples_split=7, n_estimators=80; total time=   0.7s\n",
      "[CV] END max_depth=16, max_features=None, min_samples_split=7, n_estimators=80; total time=   0.7s\n",
      "[CV] END max_depth=18, max_features=None, min_samples_split=34, n_estimators=811; total time=   5.5s\n",
      "[CV] END max_depth=18, max_features=None, min_samples_split=34, n_estimators=811; total time=   5.7s\n",
      "[CV] END max_depth=18, max_features=None, min_samples_split=34, n_estimators=811; total time=   5.6s\n",
      "[CV] END max_depth=18, max_features=None, min_samples_split=34, n_estimators=811; total time=   5.6s\n",
      "[CV] END max_depth=18, max_features=None, min_samples_split=34, n_estimators=811; total time=   5.6s\n",
      "[CV] END max_depth=11, max_features=log2, min_samples_split=90, n_estimators=739; total time=   1.2s\n",
      "[CV] END max_depth=11, max_features=log2, min_samples_split=90, n_estimators=739; total time=   1.2s\n",
      "[CV] END max_depth=11, max_features=log2, min_samples_split=90, n_estimators=739; total time=   1.2s\n",
      "[CV] END max_depth=11, max_features=log2, min_samples_split=90, n_estimators=739; total time=   1.2s\n",
      "[CV] END max_depth=11, max_features=log2, min_samples_split=90, n_estimators=739; total time=   1.2s\n",
      "[CV] END max_depth=31, max_features=sqrt, min_samples_split=70, n_estimators=833; total time=   1.5s\n",
      "[CV] END max_depth=31, max_features=sqrt, min_samples_split=70, n_estimators=833; total time=   1.4s\n",
      "[CV] END max_depth=31, max_features=sqrt, min_samples_split=70, n_estimators=833; total time=   1.5s\n",
      "[CV] END max_depth=31, max_features=sqrt, min_samples_split=70, n_estimators=833; total time=   1.7s\n",
      "[CV] END max_depth=31, max_features=sqrt, min_samples_split=70, n_estimators=833; total time=   1.7s\n"
     ]
    },
    {
     "name": "stderr",
     "output_type": "stream",
     "text": [
      "/root/.pyenv/versions/3.8.12/envs/mcats/lib/python3.8/site-packages/sklearn/ensemble/_forest.py:424: FutureWarning: `max_features='auto'` has been deprecated in 1.1 and will be removed in 1.3. To keep the past behaviour, explicitly set `max_features='sqrt'` or remove this parameter as it is also the default value for RandomForestClassifiers and ExtraTreesClassifiers.\n",
      "  warn(\n"
     ]
    },
    {
     "name": "stdout",
     "output_type": "stream",
     "text": [
      "[CV] END max_depth=29, max_features=auto, min_samples_split=80, n_estimators=146; total time=   0.3s\n"
     ]
    },
    {
     "name": "stderr",
     "output_type": "stream",
     "text": [
      "/root/.pyenv/versions/3.8.12/envs/mcats/lib/python3.8/site-packages/sklearn/ensemble/_forest.py:424: FutureWarning: `max_features='auto'` has been deprecated in 1.1 and will be removed in 1.3. To keep the past behaviour, explicitly set `max_features='sqrt'` or remove this parameter as it is also the default value for RandomForestClassifiers and ExtraTreesClassifiers.\n",
      "  warn(\n"
     ]
    },
    {
     "name": "stdout",
     "output_type": "stream",
     "text": [
      "[CV] END max_depth=29, max_features=auto, min_samples_split=80, n_estimators=146; total time=   0.3s\n"
     ]
    },
    {
     "name": "stderr",
     "output_type": "stream",
     "text": [
      "/root/.pyenv/versions/3.8.12/envs/mcats/lib/python3.8/site-packages/sklearn/ensemble/_forest.py:424: FutureWarning: `max_features='auto'` has been deprecated in 1.1 and will be removed in 1.3. To keep the past behaviour, explicitly set `max_features='sqrt'` or remove this parameter as it is also the default value for RandomForestClassifiers and ExtraTreesClassifiers.\n",
      "  warn(\n"
     ]
    },
    {
     "name": "stdout",
     "output_type": "stream",
     "text": [
      "[CV] END max_depth=29, max_features=auto, min_samples_split=80, n_estimators=146; total time=   0.4s\n"
     ]
    },
    {
     "name": "stderr",
     "output_type": "stream",
     "text": [
      "/root/.pyenv/versions/3.8.12/envs/mcats/lib/python3.8/site-packages/sklearn/ensemble/_forest.py:424: FutureWarning: `max_features='auto'` has been deprecated in 1.1 and will be removed in 1.3. To keep the past behaviour, explicitly set `max_features='sqrt'` or remove this parameter as it is also the default value for RandomForestClassifiers and ExtraTreesClassifiers.\n",
      "  warn(\n"
     ]
    },
    {
     "name": "stdout",
     "output_type": "stream",
     "text": [
      "[CV] END max_depth=29, max_features=auto, min_samples_split=80, n_estimators=146; total time=   0.4s\n"
     ]
    },
    {
     "name": "stderr",
     "output_type": "stream",
     "text": [
      "/root/.pyenv/versions/3.8.12/envs/mcats/lib/python3.8/site-packages/sklearn/ensemble/_forest.py:424: FutureWarning: `max_features='auto'` has been deprecated in 1.1 and will be removed in 1.3. To keep the past behaviour, explicitly set `max_features='sqrt'` or remove this parameter as it is also the default value for RandomForestClassifiers and ExtraTreesClassifiers.\n",
      "  warn(\n"
     ]
    },
    {
     "name": "stdout",
     "output_type": "stream",
     "text": [
      "[CV] END max_depth=29, max_features=auto, min_samples_split=80, n_estimators=146; total time=   0.3s\n",
      "[CV] END max_depth=8, max_features=None, min_samples_split=83, n_estimators=669; total time=   3.8s\n",
      "[CV] END max_depth=8, max_features=None, min_samples_split=83, n_estimators=669; total time=   3.9s\n",
      "[CV] END max_depth=8, max_features=None, min_samples_split=83, n_estimators=669; total time=   3.8s\n",
      "[CV] END max_depth=8, max_features=None, min_samples_split=83, n_estimators=669; total time=   3.9s\n",
      "[CV] END max_depth=8, max_features=None, min_samples_split=83, n_estimators=669; total time=   4.1s\n",
      "[CV] END max_depth=23, max_features=log2, min_samples_split=43, n_estimators=459; total time=   1.0s\n",
      "[CV] END max_depth=23, max_features=log2, min_samples_split=43, n_estimators=459; total time=   1.0s\n",
      "[CV] END max_depth=23, max_features=log2, min_samples_split=43, n_estimators=459; total time=   1.0s\n",
      "[CV] END max_depth=23, max_features=log2, min_samples_split=43, n_estimators=459; total time=   1.0s\n",
      "[CV] END max_depth=23, max_features=log2, min_samples_split=43, n_estimators=459; total time=   1.0s\n",
      "[CV] END max_depth=14, max_features=log2, min_samples_split=27, n_estimators=231; total time=   0.5s\n",
      "[CV] END max_depth=14, max_features=log2, min_samples_split=27, n_estimators=231; total time=   0.5s\n",
      "[CV] END max_depth=14, max_features=log2, min_samples_split=27, n_estimators=231; total time=   0.5s\n",
      "[CV] END max_depth=14, max_features=log2, min_samples_split=27, n_estimators=231; total time=   0.6s\n",
      "[CV] END max_depth=14, max_features=log2, min_samples_split=27, n_estimators=231; total time=   0.6s\n"
     ]
    },
    {
     "name": "stderr",
     "output_type": "stream",
     "text": [
      "/root/.pyenv/versions/3.8.12/envs/mcats/lib/python3.8/site-packages/sklearn/ensemble/_forest.py:424: FutureWarning: `max_features='auto'` has been deprecated in 1.1 and will be removed in 1.3. To keep the past behaviour, explicitly set `max_features='sqrt'` or remove this parameter as it is also the default value for RandomForestClassifiers and ExtraTreesClassifiers.\n",
      "  warn(\n"
     ]
    },
    {
     "name": "stdout",
     "output_type": "stream",
     "text": [
      "[CV] END max_depth=17, max_features=auto, min_samples_split=52, n_estimators=959; total time=   2.3s\n"
     ]
    },
    {
     "name": "stderr",
     "output_type": "stream",
     "text": [
      "/root/.pyenv/versions/3.8.12/envs/mcats/lib/python3.8/site-packages/sklearn/ensemble/_forest.py:424: FutureWarning: `max_features='auto'` has been deprecated in 1.1 and will be removed in 1.3. To keep the past behaviour, explicitly set `max_features='sqrt'` or remove this parameter as it is also the default value for RandomForestClassifiers and ExtraTreesClassifiers.\n",
      "  warn(\n"
     ]
    },
    {
     "name": "stdout",
     "output_type": "stream",
     "text": [
      "[CV] END max_depth=17, max_features=auto, min_samples_split=52, n_estimators=959; total time=   2.1s\n"
     ]
    },
    {
     "name": "stderr",
     "output_type": "stream",
     "text": [
      "/root/.pyenv/versions/3.8.12/envs/mcats/lib/python3.8/site-packages/sklearn/ensemble/_forest.py:424: FutureWarning: `max_features='auto'` has been deprecated in 1.1 and will be removed in 1.3. To keep the past behaviour, explicitly set `max_features='sqrt'` or remove this parameter as it is also the default value for RandomForestClassifiers and ExtraTreesClassifiers.\n",
      "  warn(\n"
     ]
    },
    {
     "name": "stdout",
     "output_type": "stream",
     "text": [
      "[CV] END max_depth=17, max_features=auto, min_samples_split=52, n_estimators=959; total time=   2.1s\n"
     ]
    },
    {
     "name": "stderr",
     "output_type": "stream",
     "text": [
      "/root/.pyenv/versions/3.8.12/envs/mcats/lib/python3.8/site-packages/sklearn/ensemble/_forest.py:424: FutureWarning: `max_features='auto'` has been deprecated in 1.1 and will be removed in 1.3. To keep the past behaviour, explicitly set `max_features='sqrt'` or remove this parameter as it is also the default value for RandomForestClassifiers and ExtraTreesClassifiers.\n",
      "  warn(\n"
     ]
    },
    {
     "name": "stdout",
     "output_type": "stream",
     "text": [
      "[CV] END max_depth=17, max_features=auto, min_samples_split=52, n_estimators=959; total time=   2.0s\n"
     ]
    },
    {
     "name": "stderr",
     "output_type": "stream",
     "text": [
      "/root/.pyenv/versions/3.8.12/envs/mcats/lib/python3.8/site-packages/sklearn/ensemble/_forest.py:424: FutureWarning: `max_features='auto'` has been deprecated in 1.1 and will be removed in 1.3. To keep the past behaviour, explicitly set `max_features='sqrt'` or remove this parameter as it is also the default value for RandomForestClassifiers and ExtraTreesClassifiers.\n",
      "  warn(\n"
     ]
    },
    {
     "name": "stdout",
     "output_type": "stream",
     "text": [
      "[CV] END max_depth=17, max_features=auto, min_samples_split=52, n_estimators=959; total time=   2.3s\n",
      "[CV] END max_depth=13, max_features=sqrt, min_samples_split=56, n_estimators=257; total time=   0.6s\n",
      "[CV] END max_depth=13, max_features=sqrt, min_samples_split=56, n_estimators=257; total time=   0.6s\n",
      "[CV] END max_depth=13, max_features=sqrt, min_samples_split=56, n_estimators=257; total time=   0.6s\n",
      "[CV] END max_depth=13, max_features=sqrt, min_samples_split=56, n_estimators=257; total time=   0.6s\n",
      "[CV] END max_depth=13, max_features=sqrt, min_samples_split=56, n_estimators=257; total time=   0.6s\n",
      "[CV] END max_depth=23, max_features=None, min_samples_split=18, n_estimators=276; total time=   2.6s\n",
      "[CV] END max_depth=23, max_features=None, min_samples_split=18, n_estimators=276; total time=   2.7s\n",
      "[CV] END max_depth=23, max_features=None, min_samples_split=18, n_estimators=276; total time=   2.6s\n",
      "[CV] END max_depth=23, max_features=None, min_samples_split=18, n_estimators=276; total time=   2.9s\n",
      "[CV] END max_depth=23, max_features=None, min_samples_split=18, n_estimators=276; total time=   2.6s\n",
      "[CV] END max_depth=10, max_features=auto, min_samples_split=94, n_estimators=52; total time=   0.1s\n"
     ]
    },
    {
     "name": "stderr",
     "output_type": "stream",
     "text": [
      "/root/.pyenv/versions/3.8.12/envs/mcats/lib/python3.8/site-packages/sklearn/ensemble/_forest.py:424: FutureWarning: `max_features='auto'` has been deprecated in 1.1 and will be removed in 1.3. To keep the past behaviour, explicitly set `max_features='sqrt'` or remove this parameter as it is also the default value for RandomForestClassifiers and ExtraTreesClassifiers.\n",
      "  warn(\n",
      "/root/.pyenv/versions/3.8.12/envs/mcats/lib/python3.8/site-packages/sklearn/ensemble/_forest.py:424: FutureWarning: `max_features='auto'` has been deprecated in 1.1 and will be removed in 1.3. To keep the past behaviour, explicitly set `max_features='sqrt'` or remove this parameter as it is also the default value for RandomForestClassifiers and ExtraTreesClassifiers.\n",
      "  warn(\n"
     ]
    },
    {
     "name": "stdout",
     "output_type": "stream",
     "text": [
      "[CV] END max_depth=10, max_features=auto, min_samples_split=94, n_estimators=52; total time=   0.2s\n",
      "[CV] END max_depth=10, max_features=auto, min_samples_split=94, n_estimators=52; total time=   0.2s\n"
     ]
    },
    {
     "name": "stderr",
     "output_type": "stream",
     "text": [
      "/root/.pyenv/versions/3.8.12/envs/mcats/lib/python3.8/site-packages/sklearn/ensemble/_forest.py:424: FutureWarning: `max_features='auto'` has been deprecated in 1.1 and will be removed in 1.3. To keep the past behaviour, explicitly set `max_features='sqrt'` or remove this parameter as it is also the default value for RandomForestClassifiers and ExtraTreesClassifiers.\n",
      "  warn(\n",
      "/root/.pyenv/versions/3.8.12/envs/mcats/lib/python3.8/site-packages/sklearn/ensemble/_forest.py:424: FutureWarning: `max_features='auto'` has been deprecated in 1.1 and will be removed in 1.3. To keep the past behaviour, explicitly set `max_features='sqrt'` or remove this parameter as it is also the default value for RandomForestClassifiers and ExtraTreesClassifiers.\n",
      "  warn(\n"
     ]
    },
    {
     "name": "stdout",
     "output_type": "stream",
     "text": [
      "[CV] END max_depth=10, max_features=auto, min_samples_split=94, n_estimators=52; total time=   0.2s\n",
      "[CV] END max_depth=10, max_features=auto, min_samples_split=94, n_estimators=52; total time=   0.2s\n"
     ]
    },
    {
     "name": "stderr",
     "output_type": "stream",
     "text": [
      "/root/.pyenv/versions/3.8.12/envs/mcats/lib/python3.8/site-packages/sklearn/ensemble/_forest.py:424: FutureWarning: `max_features='auto'` has been deprecated in 1.1 and will be removed in 1.3. To keep the past behaviour, explicitly set `max_features='sqrt'` or remove this parameter as it is also the default value for RandomForestClassifiers and ExtraTreesClassifiers.\n",
      "  warn(\n"
     ]
    },
    {
     "name": "stdout",
     "output_type": "stream",
     "text": [
      "[CV] END max_depth=16, max_features=log2, min_samples_split=70, n_estimators=408; total time=   1.0s\n",
      "[CV] END max_depth=16, max_features=log2, min_samples_split=70, n_estimators=408; total time=   1.0s\n",
      "[CV] END max_depth=16, max_features=log2, min_samples_split=70, n_estimators=408; total time=   0.9s\n",
      "[CV] END max_depth=16, max_features=log2, min_samples_split=70, n_estimators=408; total time=   0.9s\n",
      "[CV] END max_depth=16, max_features=log2, min_samples_split=70, n_estimators=408; total time=   0.9s\n",
      "[CV] END max_depth=15, max_features=None, min_samples_split=23, n_estimators=175; total time=   1.5s\n",
      "[CV] END max_depth=15, max_features=None, min_samples_split=23, n_estimators=175; total time=   1.6s\n",
      "[CV] END max_depth=15, max_features=None, min_samples_split=23, n_estimators=175; total time=   1.7s\n",
      "[CV] END max_depth=15, max_features=None, min_samples_split=23, n_estimators=175; total time=   1.7s\n",
      "[CV] END max_depth=15, max_features=None, min_samples_split=23, n_estimators=175; total time=   1.6s\n",
      "[CV] END max_depth=29, max_features=None, min_samples_split=58, n_estimators=857; total time=   5.4s\n",
      "[CV] END max_depth=29, max_features=None, min_samples_split=58, n_estimators=857; total time=   5.7s\n",
      "[CV] END max_depth=29, max_features=None, min_samples_split=58, n_estimators=857; total time=   5.6s\n",
      "[CV] END max_depth=29, max_features=None, min_samples_split=58, n_estimators=857; total time=   6.1s\n",
      "[CV] END max_depth=29, max_features=None, min_samples_split=58, n_estimators=857; total time=   5.7s\n",
      "[CV] END max_depth=17, max_features=log2, min_samples_split=56, n_estimators=976; total time=   2.0s\n",
      "[CV] END max_depth=17, max_features=log2, min_samples_split=56, n_estimators=976; total time=   1.8s\n",
      "[CV] END max_depth=17, max_features=log2, min_samples_split=56, n_estimators=976; total time=   1.9s\n",
      "[CV] END max_depth=17, max_features=log2, min_samples_split=56, n_estimators=976; total time=   1.9s\n",
      "[CV] END max_depth=17, max_features=log2, min_samples_split=56, n_estimators=976; total time=   1.9s\n"
     ]
    },
    {
     "name": "stderr",
     "output_type": "stream",
     "text": [
      "/root/.pyenv/versions/3.8.12/envs/mcats/lib/python3.8/site-packages/sklearn/ensemble/_forest.py:424: FutureWarning: `max_features='auto'` has been deprecated in 1.1 and will be removed in 1.3. To keep the past behaviour, explicitly set `max_features='sqrt'` or remove this parameter as it is also the default value for RandomForestClassifiers and ExtraTreesClassifiers.\n",
      "  warn(\n"
     ]
    },
    {
     "name": "stdout",
     "output_type": "stream",
     "text": [
      "[CV] END max_depth=8, max_features=auto, min_samples_split=16, n_estimators=718; total time=   1.5s\n"
     ]
    },
    {
     "name": "stderr",
     "output_type": "stream",
     "text": [
      "/root/.pyenv/versions/3.8.12/envs/mcats/lib/python3.8/site-packages/sklearn/ensemble/_forest.py:424: FutureWarning: `max_features='auto'` has been deprecated in 1.1 and will be removed in 1.3. To keep the past behaviour, explicitly set `max_features='sqrt'` or remove this parameter as it is also the default value for RandomForestClassifiers and ExtraTreesClassifiers.\n",
      "  warn(\n"
     ]
    },
    {
     "name": "stdout",
     "output_type": "stream",
     "text": [
      "[CV] END max_depth=8, max_features=auto, min_samples_split=16, n_estimators=718; total time=   1.6s\n"
     ]
    },
    {
     "name": "stderr",
     "output_type": "stream",
     "text": [
      "/root/.pyenv/versions/3.8.12/envs/mcats/lib/python3.8/site-packages/sklearn/ensemble/_forest.py:424: FutureWarning: `max_features='auto'` has been deprecated in 1.1 and will be removed in 1.3. To keep the past behaviour, explicitly set `max_features='sqrt'` or remove this parameter as it is also the default value for RandomForestClassifiers and ExtraTreesClassifiers.\n",
      "  warn(\n"
     ]
    },
    {
     "name": "stdout",
     "output_type": "stream",
     "text": [
      "[CV] END max_depth=8, max_features=auto, min_samples_split=16, n_estimators=718; total time=   1.6s\n"
     ]
    },
    {
     "name": "stderr",
     "output_type": "stream",
     "text": [
      "/root/.pyenv/versions/3.8.12/envs/mcats/lib/python3.8/site-packages/sklearn/ensemble/_forest.py:424: FutureWarning: `max_features='auto'` has been deprecated in 1.1 and will be removed in 1.3. To keep the past behaviour, explicitly set `max_features='sqrt'` or remove this parameter as it is also the default value for RandomForestClassifiers and ExtraTreesClassifiers.\n",
      "  warn(\n"
     ]
    },
    {
     "name": "stdout",
     "output_type": "stream",
     "text": [
      "[CV] END max_depth=8, max_features=auto, min_samples_split=16, n_estimators=718; total time=   1.7s\n"
     ]
    },
    {
     "name": "stderr",
     "output_type": "stream",
     "text": [
      "/root/.pyenv/versions/3.8.12/envs/mcats/lib/python3.8/site-packages/sklearn/ensemble/_forest.py:424: FutureWarning: `max_features='auto'` has been deprecated in 1.1 and will be removed in 1.3. To keep the past behaviour, explicitly set `max_features='sqrt'` or remove this parameter as it is also the default value for RandomForestClassifiers and ExtraTreesClassifiers.\n",
      "  warn(\n"
     ]
    },
    {
     "name": "stdout",
     "output_type": "stream",
     "text": [
      "[CV] END max_depth=8, max_features=auto, min_samples_split=16, n_estimators=718; total time=   1.8s\n",
      "[CV] END max_depth=16, max_features=sqrt, min_samples_split=55, n_estimators=725; total time=   1.5s\n",
      "[CV] END max_depth=16, max_features=sqrt, min_samples_split=55, n_estimators=725; total time=   1.7s\n",
      "[CV] END max_depth=16, max_features=sqrt, min_samples_split=55, n_estimators=725; total time=   1.6s\n",
      "[CV] END max_depth=16, max_features=sqrt, min_samples_split=55, n_estimators=725; total time=   1.4s\n",
      "[CV] END max_depth=16, max_features=sqrt, min_samples_split=55, n_estimators=725; total time=   1.4s\n",
      "[CV] END max_depth=26, max_features=log2, min_samples_split=87, n_estimators=627; total time=   1.1s\n",
      "[CV] END max_depth=26, max_features=log2, min_samples_split=87, n_estimators=627; total time=   1.2s\n",
      "[CV] END max_depth=26, max_features=log2, min_samples_split=87, n_estimators=627; total time=   1.1s\n",
      "[CV] END max_depth=26, max_features=log2, min_samples_split=87, n_estimators=627; total time=   1.1s\n",
      "[CV] END max_depth=26, max_features=log2, min_samples_split=87, n_estimators=627; total time=   1.1s\n",
      "[CV] END max_depth=15, max_features=sqrt, min_samples_split=46, n_estimators=38; total time=   0.1s\n",
      "[CV] END max_depth=15, max_features=sqrt, min_samples_split=46, n_estimators=38; total time=   0.1s\n",
      "[CV] END max_depth=15, max_features=sqrt, min_samples_split=46, n_estimators=38; total time=   0.1s\n",
      "[CV] END max_depth=15, max_features=sqrt, min_samples_split=46, n_estimators=38; total time=   0.1s\n",
      "[CV] END max_depth=15, max_features=sqrt, min_samples_split=46, n_estimators=38; total time=   0.1s\n",
      "[CV] END max_depth=23, max_features=None, min_samples_split=56, n_estimators=333; total time=   1.9s\n",
      "[CV] END max_depth=23, max_features=None, min_samples_split=56, n_estimators=333; total time=   2.0s\n",
      "[CV] END max_depth=23, max_features=None, min_samples_split=56, n_estimators=333; total time=   2.0s\n",
      "[CV] END max_depth=23, max_features=None, min_samples_split=56, n_estimators=333; total time=   2.1s\n",
      "[CV] END max_depth=23, max_features=None, min_samples_split=56, n_estimators=333; total time=   1.9s\n"
     ]
    },
    {
     "name": "stderr",
     "output_type": "stream",
     "text": [
      "/root/.pyenv/versions/3.8.12/envs/mcats/lib/python3.8/site-packages/sklearn/ensemble/_forest.py:424: FutureWarning: `max_features='auto'` has been deprecated in 1.1 and will be removed in 1.3. To keep the past behaviour, explicitly set `max_features='sqrt'` or remove this parameter as it is also the default value for RandomForestClassifiers and ExtraTreesClassifiers.\n",
      "  warn(\n"
     ]
    },
    {
     "name": "stdout",
     "output_type": "stream",
     "text": [
      "[CV] END max_depth=13, max_features=auto, min_samples_split=61, n_estimators=923; total time=   1.7s\n"
     ]
    },
    {
     "name": "stderr",
     "output_type": "stream",
     "text": [
      "/root/.pyenv/versions/3.8.12/envs/mcats/lib/python3.8/site-packages/sklearn/ensemble/_forest.py:424: FutureWarning: `max_features='auto'` has been deprecated in 1.1 and will be removed in 1.3. To keep the past behaviour, explicitly set `max_features='sqrt'` or remove this parameter as it is also the default value for RandomForestClassifiers and ExtraTreesClassifiers.\n",
      "  warn(\n"
     ]
    },
    {
     "name": "stdout",
     "output_type": "stream",
     "text": [
      "[CV] END max_depth=13, max_features=auto, min_samples_split=61, n_estimators=923; total time=   1.6s\n"
     ]
    },
    {
     "name": "stderr",
     "output_type": "stream",
     "text": [
      "/root/.pyenv/versions/3.8.12/envs/mcats/lib/python3.8/site-packages/sklearn/ensemble/_forest.py:424: FutureWarning: `max_features='auto'` has been deprecated in 1.1 and will be removed in 1.3. To keep the past behaviour, explicitly set `max_features='sqrt'` or remove this parameter as it is also the default value for RandomForestClassifiers and ExtraTreesClassifiers.\n",
      "  warn(\n"
     ]
    },
    {
     "name": "stdout",
     "output_type": "stream",
     "text": [
      "[CV] END max_depth=13, max_features=auto, min_samples_split=61, n_estimators=923; total time=   1.7s\n"
     ]
    },
    {
     "name": "stderr",
     "output_type": "stream",
     "text": [
      "/root/.pyenv/versions/3.8.12/envs/mcats/lib/python3.8/site-packages/sklearn/ensemble/_forest.py:424: FutureWarning: `max_features='auto'` has been deprecated in 1.1 and will be removed in 1.3. To keep the past behaviour, explicitly set `max_features='sqrt'` or remove this parameter as it is also the default value for RandomForestClassifiers and ExtraTreesClassifiers.\n",
      "  warn(\n"
     ]
    },
    {
     "name": "stdout",
     "output_type": "stream",
     "text": [
      "[CV] END max_depth=13, max_features=auto, min_samples_split=61, n_estimators=923; total time=   1.6s\n"
     ]
    },
    {
     "name": "stderr",
     "output_type": "stream",
     "text": [
      "/root/.pyenv/versions/3.8.12/envs/mcats/lib/python3.8/site-packages/sklearn/ensemble/_forest.py:424: FutureWarning: `max_features='auto'` has been deprecated in 1.1 and will be removed in 1.3. To keep the past behaviour, explicitly set `max_features='sqrt'` or remove this parameter as it is also the default value for RandomForestClassifiers and ExtraTreesClassifiers.\n",
      "  warn(\n"
     ]
    },
    {
     "name": "stdout",
     "output_type": "stream",
     "text": [
      "[CV] END max_depth=13, max_features=auto, min_samples_split=61, n_estimators=923; total time=   1.6s\n",
      "[CV] END max_depth=13, max_features=None, min_samples_split=89, n_estimators=424; total time=   2.1s\n",
      "[CV] END max_depth=13, max_features=None, min_samples_split=89, n_estimators=424; total time=   2.3s\n",
      "[CV] END max_depth=13, max_features=None, min_samples_split=89, n_estimators=424; total time=   2.2s\n",
      "[CV] END max_depth=13, max_features=None, min_samples_split=89, n_estimators=424; total time=   2.2s\n",
      "[CV] END max_depth=13, max_features=None, min_samples_split=89, n_estimators=424; total time=   2.0s\n",
      "[CV] END max_depth=30, max_features=None, min_samples_split=78, n_estimators=883; total time=   4.5s\n",
      "[CV] END max_depth=30, max_features=None, min_samples_split=78, n_estimators=883; total time=   4.9s\n",
      "[CV] END max_depth=30, max_features=None, min_samples_split=78, n_estimators=883; total time=   5.1s\n",
      "[CV] END max_depth=30, max_features=None, min_samples_split=78, n_estimators=883; total time=   4.9s\n",
      "[CV] END max_depth=30, max_features=None, min_samples_split=78, n_estimators=883; total time=   4.8s\n",
      "[CV] END max_depth=7, max_features=None, min_samples_split=71, n_estimators=739; total time=   4.2s\n",
      "[CV] END max_depth=7, max_features=None, min_samples_split=71, n_estimators=739; total time=   4.5s\n",
      "[CV] END max_depth=7, max_features=None, min_samples_split=71, n_estimators=739; total time=   4.6s\n",
      "[CV] END max_depth=7, max_features=None, min_samples_split=71, n_estimators=739; total time=   4.7s\n",
      "[CV] END max_depth=7, max_features=None, min_samples_split=71, n_estimators=739; total time=   4.6s\n",
      "[CV] END max_depth=2, max_features=None, min_samples_split=28, n_estimators=697; total time=   2.7s\n",
      "[CV] END max_depth=2, max_features=None, min_samples_split=28, n_estimators=697; total time=   2.6s\n",
      "[CV] END max_depth=2, max_features=None, min_samples_split=28, n_estimators=697; total time=   2.6s\n",
      "[CV] END max_depth=2, max_features=None, min_samples_split=28, n_estimators=697; total time=   2.7s\n",
      "[CV] END max_depth=2, max_features=None, min_samples_split=28, n_estimators=697; total time=   2.7s\n"
     ]
    },
    {
     "name": "stderr",
     "output_type": "stream",
     "text": [
      "/root/.pyenv/versions/3.8.12/envs/mcats/lib/python3.8/site-packages/sklearn/ensemble/_forest.py:424: FutureWarning: `max_features='auto'` has been deprecated in 1.1 and will be removed in 1.3. To keep the past behaviour, explicitly set `max_features='sqrt'` or remove this parameter as it is also the default value for RandomForestClassifiers and ExtraTreesClassifiers.\n",
      "  warn(\n"
     ]
    }
   ],
   "source": [
    "model = RandomForestClassifier(n_jobs =-1)  \n",
    "model_parameters = { 'n_estimators': randint(1,1000),\n",
    "                    'max_features': ['auto', 'sqrt', 'log2', None],\n",
    "                    'max_depth' : randint(1,32),\n",
    "                    'min_samples_split':randint(2, 100), \n",
    "                   }\n",
    "random_search= RandomizedSearchCV(model, model_parameters, n_iter=100, cv=5, random_state=1, verbose=2)\n",
    "\n",
    "model =random_search.fit(X_train, y_train)"
   ]
  },
  {
   "cell_type": "code",
   "execution_count": 23,
   "id": "7c7f28c4",
   "metadata": {},
   "outputs": [
    {
     "data": {
      "text/plain": [
       "{'max_depth': 13,\n",
       " 'max_features': 'auto',\n",
       " 'min_samples_split': 12,\n",
       " 'n_estimators': 695}"
      ]
     },
     "execution_count": 23,
     "metadata": {},
     "output_type": "execute_result"
    }
   ],
   "source": [
    "random_search.best_params_"
   ]
  },
  {
   "cell_type": "code",
   "execution_count": 24,
   "id": "b7dc316d",
   "metadata": {},
   "outputs": [
    {
     "name": "stderr",
     "output_type": "stream",
     "text": [
      "/root/.pyenv/versions/3.8.12/envs/mcats/lib/python3.8/site-packages/sklearn/ensemble/_forest.py:424: FutureWarning: `max_features='auto'` has been deprecated in 1.1 and will be removed in 1.3. To keep the past behaviour, explicitly set `max_features='sqrt'` or remove this parameter as it is also the default value for RandomForestClassifiers and ExtraTreesClassifiers.\n",
      "  warn(\n"
     ]
    },
    {
     "name": "stdout",
     "output_type": "stream",
     "text": [
      "              precision    recall  f1-score   support\n",
      "\n",
      "      hiphop       0.99      0.99      0.99        79\n",
      "   classical       1.00      1.00      1.00        88\n",
      "       blues       1.00      1.00      1.00        76\n",
      "       metal       0.96      1.00      0.98        78\n",
      "        jazz       1.00      1.00      1.00        84\n",
      "     country       1.00      1.00      1.00        73\n",
      "         pop       1.00      1.00      1.00        82\n",
      "        rock       1.00      0.96      0.98        81\n",
      "       disco       1.00      0.99      0.99        78\n",
      "      reggae       0.99      1.00      0.99        80\n",
      "\n",
      "    accuracy                           0.99       799\n",
      "   macro avg       0.99      0.99      0.99       799\n",
      "weighted avg       0.99      0.99      0.99       799\n",
      "\n"
     ]
    }
   ],
   "source": [
    "#Using the recommended best paramters to create a new model\n",
    "model_14 = RandomForestClassifier(n_estimators=695, max_depth=13, max_features='auto', min_samples_split=12)  \n",
    "model_14.fit(X_train, y_train)\n",
    "preds_14 = model_14.predict(X_train)\n",
    "y_true = y_train\n",
    "y_pred = preds_14\n",
    "target_names = ['hiphop', 'classical', 'blues', 'metal', 'jazz', 'country', 'pop', 'rock', 'disco', 'reggae']\n",
    "print(classification_report(y_true, y_pred, target_names=target_names))"
   ]
  },
  {
   "cell_type": "code",
   "execution_count": 26,
   "id": "a79e845c",
   "metadata": {},
   "outputs": [],
   "source": [
    "X_train, X_test, y_train, y_test = train_test_split(X, y,test_size=0.2, random_state=42)"
   ]
  },
  {
   "cell_type": "code",
   "execution_count": 28,
   "id": "382e18f5",
   "metadata": {},
   "outputs": [
    {
     "name": "stdout",
     "output_type": "stream",
     "text": [
      "Fitting 5 folds for each of 100 candidates, totalling 500 fits\n",
      "[CV] END max_depth=38, max_features=236, min_samples_split=14, n_estimators=73; total time=   1.5s\n",
      "[CV] END max_depth=38, max_features=236, min_samples_split=14, n_estimators=73; total time=   0.3s\n",
      "[CV] END max_depth=38, max_features=236, min_samples_split=14, n_estimators=73; total time=   0.3s\n",
      "[CV] END max_depth=38, max_features=236, min_samples_split=14, n_estimators=73; total time=   0.3s\n",
      "[CV] END max_depth=38, max_features=236, min_samples_split=14, n_estimators=73; total time=   0.3s\n",
      "[CV] END max_depth=10, max_features=716, min_samples_split=7, n_estimators=848; total time=   3.9s\n",
      "[CV] END max_depth=10, max_features=716, min_samples_split=7, n_estimators=848; total time=   3.9s\n",
      "[CV] END max_depth=10, max_features=716, min_samples_split=7, n_estimators=848; total time=   5.7s\n",
      "[CV] END max_depth=10, max_features=716, min_samples_split=7, n_estimators=848; total time=   5.3s\n",
      "[CV] END max_depth=10, max_features=716, min_samples_split=7, n_estimators=848; total time=   5.0s\n",
      "[CV] END max_depth=65, max_features=145, min_samples_split=3, n_estimators=973; total time=   5.6s\n",
      "[CV] END max_depth=65, max_features=145, min_samples_split=3, n_estimators=973; total time=   6.7s\n",
      "[CV] END max_depth=65, max_features=145, min_samples_split=3, n_estimators=973; total time=   5.8s\n",
      "[CV] END max_depth=65, max_features=145, min_samples_split=3, n_estimators=973; total time=   5.6s\n",
      "[CV] END max_depth=65, max_features=145, min_samples_split=3, n_estimators=973; total time=  11.0s\n",
      "[CV] END max_depth=72, max_features=750, min_samples_split=8, n_estimators=282; total time=   3.0s\n",
      "[CV] END max_depth=72, max_features=750, min_samples_split=8, n_estimators=282; total time=   4.0s\n",
      "[CV] END max_depth=72, max_features=750, min_samples_split=8, n_estimators=282; total time=   3.7s\n",
      "[CV] END max_depth=72, max_features=750, min_samples_split=8, n_estimators=282; total time=   3.0s\n",
      "[CV] END max_depth=72, max_features=750, min_samples_split=8, n_estimators=282; total time=   4.2s\n",
      "[CV] END max_depth=51, max_features=277, min_samples_split=20, n_estimators=469; total time=   7.0s\n",
      "[CV] END max_depth=51, max_features=277, min_samples_split=20, n_estimators=469; total time=   3.5s\n",
      "[CV] END max_depth=51, max_features=277, min_samples_split=20, n_estimators=469; total time=   1.9s\n",
      "[CV] END max_depth=51, max_features=277, min_samples_split=20, n_estimators=469; total time=   1.9s\n",
      "[CV] END max_depth=51, max_features=277, min_samples_split=20, n_estimators=469; total time=   1.9s\n",
      "[CV] END max_depth=12, max_features=253, min_samples_split=30, n_estimators=926; total time=   3.9s\n",
      "[CV] END max_depth=12, max_features=253, min_samples_split=30, n_estimators=926; total time=   3.6s\n",
      "[CV] END max_depth=12, max_features=253, min_samples_split=30, n_estimators=926; total time=   3.7s\n",
      "[CV] END max_depth=12, max_features=253, min_samples_split=30, n_estimators=926; total time=   3.9s\n",
      "[CV] END max_depth=12, max_features=253, min_samples_split=30, n_estimators=926; total time=   3.8s\n",
      "[CV] END max_depth=15, max_features=563, min_samples_split=70, n_estimators=216; total time=   0.8s\n",
      "[CV] END max_depth=15, max_features=563, min_samples_split=70, n_estimators=216; total time=   0.9s\n",
      "[CV] END max_depth=15, max_features=563, min_samples_split=70, n_estimators=216; total time=   0.8s\n",
      "[CV] END max_depth=15, max_features=563, min_samples_split=70, n_estimators=216; total time=   0.8s\n",
      "[CV] END max_depth=15, max_features=563, min_samples_split=70, n_estimators=216; total time=   0.8s\n",
      "[CV] END max_depth=88, max_features=754, min_samples_split=96, n_estimators=865; total time=   2.7s\n",
      "[CV] END max_depth=88, max_features=754, min_samples_split=96, n_estimators=865; total time=   2.7s\n",
      "[CV] END max_depth=88, max_features=754, min_samples_split=96, n_estimators=865; total time=   2.7s\n",
      "[CV] END max_depth=88, max_features=754, min_samples_split=96, n_estimators=865; total time=   2.7s\n",
      "[CV] END max_depth=88, max_features=754, min_samples_split=96, n_estimators=865; total time=   2.7s\n",
      "[CV] END max_depth=87, max_features=142, min_samples_split=11, n_estimators=8; total time=   0.1s\n",
      "[CV] END max_depth=87, max_features=142, min_samples_split=11, n_estimators=8; total time=   0.1s\n",
      "[CV] END max_depth=87, max_features=142, min_samples_split=11, n_estimators=8; total time=   0.1s\n",
      "[CV] END max_depth=87, max_features=142, min_samples_split=11, n_estimators=8; total time=   0.1s\n",
      "[CV] END max_depth=87, max_features=142, min_samples_split=11, n_estimators=8; total time=   0.1s\n",
      "[CV] END max_depth=64, max_features=830, min_samples_split=24, n_estimators=314; total time=   2.1s\n",
      "[CV] END max_depth=64, max_features=830, min_samples_split=24, n_estimators=314; total time=   2.6s\n",
      "[CV] END max_depth=64, max_features=830, min_samples_split=24, n_estimators=314; total time=   3.1s\n",
      "[CV] END max_depth=64, max_features=830, min_samples_split=24, n_estimators=314; total time=   3.8s\n",
      "[CV] END max_depth=64, max_features=830, min_samples_split=24, n_estimators=314; total time=   3.2s\n",
      "[CV] END max_depth=2, max_features=897, min_samples_split=62, n_estimators=210; total time=   1.4s\n",
      "[CV] END max_depth=2, max_features=897, min_samples_split=62, n_estimators=210; total time=   1.1s\n",
      "[CV] END max_depth=2, max_features=897, min_samples_split=62, n_estimators=210; total time=   1.0s\n",
      "[CV] END max_depth=2, max_features=897, min_samples_split=62, n_estimators=210; total time=   1.0s\n",
      "[CV] END max_depth=2, max_features=897, min_samples_split=62, n_estimators=210; total time=   1.0s\n",
      "[CV] END max_depth=9, max_features=729, min_samples_split=15, n_estimators=628; total time=   6.5s\n",
      "[CV] END max_depth=9, max_features=729, min_samples_split=15, n_estimators=628; total time=   6.3s\n",
      "[CV] END max_depth=9, max_features=729, min_samples_split=15, n_estimators=628; total time=   5.8s\n",
      "[CV] END max_depth=9, max_features=729, min_samples_split=15, n_estimators=628; total time=   3.6s\n",
      "[CV] END max_depth=9, max_features=729, min_samples_split=15, n_estimators=628; total time=   2.4s\n",
      "[CV] END max_depth=48, max_features=634, min_samples_split=74, n_estimators=543; total time=   1.6s\n",
      "[CV] END max_depth=48, max_features=634, min_samples_split=74, n_estimators=543; total time=   1.7s\n",
      "[CV] END max_depth=48, max_features=634, min_samples_split=74, n_estimators=543; total time=   1.6s\n",
      "[CV] END max_depth=48, max_features=634, min_samples_split=74, n_estimators=543; total time=   1.7s\n",
      "[CV] END max_depth=48, max_features=634, min_samples_split=74, n_estimators=543; total time=   1.6s\n",
      "[CV] END max_depth=72, max_features=388, min_samples_split=72, n_estimators=918; total time=   3.1s\n",
      "[CV] END max_depth=72, max_features=388, min_samples_split=72, n_estimators=918; total time=   2.9s\n",
      "[CV] END max_depth=72, max_features=388, min_samples_split=72, n_estimators=918; total time=   2.9s\n",
      "[CV] END max_depth=72, max_features=388, min_samples_split=72, n_estimators=918; total time=   3.1s\n",
      "[CV] END max_depth=72, max_features=388, min_samples_split=72, n_estimators=918; total time=   4.0s\n",
      "[CV] END max_depth=50, max_features=314, min_samples_split=5, n_estimators=965; total time=   5.4s\n",
      "[CV] END max_depth=50, max_features=314, min_samples_split=5, n_estimators=965; total time=   4.9s\n",
      "[CV] END max_depth=50, max_features=314, min_samples_split=5, n_estimators=965; total time=   9.7s\n",
      "[CV] END max_depth=50, max_features=314, min_samples_split=5, n_estimators=965; total time=  10.6s\n",
      "[CV] END max_depth=50, max_features=314, min_samples_split=5, n_estimators=965; total time=  10.3s\n",
      "[CV] END max_depth=25, max_features=498, min_samples_split=45, n_estimators=589; total time=   4.1s\n",
      "[CV] END max_depth=25, max_features=498, min_samples_split=45, n_estimators=589; total time=   3.6s\n",
      "[CV] END max_depth=25, max_features=498, min_samples_split=45, n_estimators=589; total time=   2.1s\n",
      "[CV] END max_depth=25, max_features=498, min_samples_split=45, n_estimators=589; total time=   1.9s\n",
      "[CV] END max_depth=25, max_features=498, min_samples_split=45, n_estimators=589; total time=   1.9s\n",
      "[CV] END max_depth=27, max_features=821, min_samples_split=82, n_estimators=622; total time=   1.9s\n",
      "[CV] END max_depth=27, max_features=821, min_samples_split=82, n_estimators=622; total time=   1.8s\n"
     ]
    },
    {
     "name": "stdout",
     "output_type": "stream",
     "text": [
      "[CV] END max_depth=27, max_features=821, min_samples_split=82, n_estimators=622; total time=   1.8s\n",
      "[CV] END max_depth=27, max_features=821, min_samples_split=82, n_estimators=622; total time=   1.8s\n",
      "[CV] END max_depth=27, max_features=821, min_samples_split=82, n_estimators=622; total time=   1.9s\n",
      "[CV] END max_depth=42, max_features=467, min_samples_split=17, n_estimators=65; total time=   0.3s\n",
      "[CV] END max_depth=42, max_features=467, min_samples_split=17, n_estimators=65; total time=   0.3s\n",
      "[CV] END max_depth=42, max_features=467, min_samples_split=17, n_estimators=65; total time=   0.3s\n",
      "[CV] END max_depth=42, max_features=467, min_samples_split=17, n_estimators=65; total time=   0.3s\n",
      "[CV] END max_depth=42, max_features=467, min_samples_split=17, n_estimators=65; total time=   0.3s\n",
      "[CV] END max_depth=69, max_features=26, min_samples_split=89, n_estimators=904; total time=   1.5s\n",
      "[CV] END max_depth=69, max_features=26, min_samples_split=89, n_estimators=904; total time=   1.6s\n",
      "[CV] END max_depth=69, max_features=26, min_samples_split=89, n_estimators=904; total time=   1.5s\n",
      "[CV] END max_depth=69, max_features=26, min_samples_split=89, n_estimators=904; total time=   1.6s\n",
      "[CV] END max_depth=69, max_features=26, min_samples_split=89, n_estimators=904; total time=   1.6s\n",
      "[CV] END max_depth=27, max_features=666, min_samples_split=24, n_estimators=778; total time=   3.3s\n",
      "[CV] END max_depth=27, max_features=666, min_samples_split=24, n_estimators=778; total time=   3.2s\n",
      "[CV] END max_depth=27, max_features=666, min_samples_split=24, n_estimators=778; total time=   3.2s\n",
      "[CV] END max_depth=27, max_features=666, min_samples_split=24, n_estimators=778; total time=   3.7s\n",
      "[CV] END max_depth=27, max_features=666, min_samples_split=24, n_estimators=778; total time=   5.3s\n",
      "[CV] END max_depth=68, max_features=127, min_samples_split=25, n_estimators=382; total time=   3.3s\n",
      "[CV] END max_depth=68, max_features=127, min_samples_split=25, n_estimators=382; total time=   3.6s\n",
      "[CV] END max_depth=68, max_features=127, min_samples_split=25, n_estimators=382; total time=   3.4s\n",
      "[CV] END max_depth=68, max_features=127, min_samples_split=25, n_estimators=382; total time=   3.7s\n",
      "[CV] END max_depth=68, max_features=127, min_samples_split=25, n_estimators=382; total time=   3.6s\n",
      "[CV] END max_depth=28, max_features=934, min_samples_split=59, n_estimators=596; total time=   4.0s\n",
      "[CV] END max_depth=28, max_features=934, min_samples_split=59, n_estimators=596; total time=   4.0s\n",
      "[CV] END max_depth=28, max_features=934, min_samples_split=59, n_estimators=596; total time=   4.9s\n",
      "[CV] END max_depth=28, max_features=934, min_samples_split=59, n_estimators=596; total time=   4.1s\n",
      "[CV] END max_depth=28, max_features=934, min_samples_split=59, n_estimators=596; total time=   2.1s\n",
      "[CV] END max_depth=39, max_features=649, min_samples_split=34, n_estimators=419; total time=   1.6s\n",
      "[CV] END max_depth=39, max_features=649, min_samples_split=34, n_estimators=419; total time=   1.6s\n",
      "[CV] END max_depth=39, max_features=649, min_samples_split=34, n_estimators=419; total time=   1.7s\n",
      "[CV] END max_depth=39, max_features=649, min_samples_split=34, n_estimators=419; total time=   1.7s\n",
      "[CV] END max_depth=39, max_features=649, min_samples_split=34, n_estimators=419; total time=   1.7s\n",
      "[CV] END max_depth=11, max_features=280, min_samples_split=17, n_estimators=752; total time=   3.2s\n",
      "[CV] END max_depth=11, max_features=280, min_samples_split=17, n_estimators=752; total time=   3.2s\n",
      "[CV] END max_depth=11, max_features=280, min_samples_split=17, n_estimators=752; total time=   3.3s\n",
      "[CV] END max_depth=11, max_features=280, min_samples_split=17, n_estimators=752; total time=   3.5s\n",
      "[CV] END max_depth=11, max_features=280, min_samples_split=17, n_estimators=752; total time=   3.3s\n",
      "[CV] END max_depth=88, max_features=794, min_samples_split=73, n_estimators=244; total time=   0.8s\n",
      "[CV] END max_depth=88, max_features=794, min_samples_split=73, n_estimators=244; total time=   0.8s\n",
      "[CV] END max_depth=88, max_features=794, min_samples_split=73, n_estimators=244; total time=   0.8s\n",
      "[CV] END max_depth=88, max_features=794, min_samples_split=73, n_estimators=244; total time=   0.8s\n",
      "[CV] END max_depth=88, max_features=794, min_samples_split=73, n_estimators=244; total time=   0.8s\n",
      "[CV] END max_depth=93, max_features=587, min_samples_split=64, n_estimators=303; total time=   1.0s\n",
      "[CV] END max_depth=93, max_features=587, min_samples_split=64, n_estimators=303; total time=   1.1s\n",
      "[CV] END max_depth=93, max_features=587, min_samples_split=64, n_estimators=303; total time=   1.1s\n",
      "[CV] END max_depth=93, max_features=587, min_samples_split=64, n_estimators=303; total time=   1.3s\n",
      "[CV] END max_depth=93, max_features=587, min_samples_split=64, n_estimators=303; total time=   1.7s\n",
      "[CV] END max_depth=33, max_features=729, min_samples_split=25, n_estimators=696; total time=   6.2s\n",
      "[CV] END max_depth=33, max_features=729, min_samples_split=25, n_estimators=696; total time=   7.9s\n",
      "[CV] END max_depth=33, max_features=729, min_samples_split=25, n_estimators=696; total time=   7.4s\n",
      "[CV] END max_depth=33, max_features=729, min_samples_split=25, n_estimators=696; total time=   6.4s\n",
      "[CV] END max_depth=33, max_features=729, min_samples_split=25, n_estimators=696; total time=   6.2s\n",
      "[CV] END max_depth=66, max_features=370, min_samples_split=79, n_estimators=772; total time=   2.7s\n",
      "[CV] END max_depth=66, max_features=370, min_samples_split=79, n_estimators=772; total time=   2.8s\n",
      "[CV] END max_depth=66, max_features=370, min_samples_split=79, n_estimators=772; total time=   2.5s\n",
      "[CV] END max_depth=66, max_features=370, min_samples_split=79, n_estimators=772; total time=   2.3s\n",
      "[CV] END max_depth=66, max_features=370, min_samples_split=79, n_estimators=772; total time=   2.1s\n",
      "[CV] END max_depth=1, max_features=254, min_samples_split=79, n_estimators=775; total time=   1.5s\n",
      "[CV] END max_depth=1, max_features=254, min_samples_split=79, n_estimators=775; total time=   1.5s\n",
      "[CV] END max_depth=1, max_features=254, min_samples_split=79, n_estimators=775; total time=   1.3s\n",
      "[CV] END max_depth=1, max_features=254, min_samples_split=79, n_estimators=775; total time=   1.3s\n",
      "[CV] END max_depth=1, max_features=254, min_samples_split=79, n_estimators=775; total time=   1.5s\n",
      "[CV] END max_depth=53, max_features=470, min_samples_split=72, n_estimators=515; total time=   1.6s\n",
      "[CV] END max_depth=53, max_features=470, min_samples_split=72, n_estimators=515; total time=   1.6s\n",
      "[CV] END max_depth=53, max_features=470, min_samples_split=72, n_estimators=515; total time=   1.6s\n",
      "[CV] END max_depth=53, max_features=470, min_samples_split=72, n_estimators=515; total time=   1.6s\n",
      "[CV] END max_depth=53, max_features=470, min_samples_split=72, n_estimators=515; total time=   1.8s\n",
      "[CV] END max_depth=77, max_features=988, min_samples_split=23, n_estimators=716; total time=   3.9s\n",
      "[CV] END max_depth=77, max_features=988, min_samples_split=23, n_estimators=716; total time=   4.4s\n",
      "[CV] END max_depth=77, max_features=988, min_samples_split=23, n_estimators=716; total time=   7.2s\n",
      "[CV] END max_depth=77, max_features=988, min_samples_split=23, n_estimators=716; total time=  10.3s\n",
      "[CV] END max_depth=77, max_features=988, min_samples_split=23, n_estimators=716; total time=   9.7s\n",
      "[CV] END max_depth=8, max_features=78, min_samples_split=74, n_estimators=76; total time=   0.8s\n",
      "[CV] END max_depth=8, max_features=78, min_samples_split=74, n_estimators=76; total time=   0.9s\n",
      "[CV] END max_depth=8, max_features=78, min_samples_split=74, n_estimators=76; total time=   0.9s\n",
      "[CV] END max_depth=8, max_features=78, min_samples_split=74, n_estimators=76; total time=   0.8s\n",
      "[CV] END max_depth=8, max_features=78, min_samples_split=74, n_estimators=76; total time=   0.7s\n",
      "[CV] END max_depth=77, max_features=44, min_samples_split=22, n_estimators=543; total time=   5.4s\n",
      "[CV] END max_depth=77, max_features=44, min_samples_split=22, n_estimators=543; total time=   3.6s\n",
      "[CV] END max_depth=77, max_features=44, min_samples_split=22, n_estimators=543; total time=   1.9s\n",
      "[CV] END max_depth=77, max_features=44, min_samples_split=22, n_estimators=543; total time=   2.5s\n",
      "[CV] END max_depth=77, max_features=44, min_samples_split=22, n_estimators=543; total time=   3.1s\n"
     ]
    },
    {
     "name": "stdout",
     "output_type": "stream",
     "text": [
      "[CV] END max_depth=37, max_features=872, min_samples_split=9, n_estimators=814; total time=   5.1s\n",
      "[CV] END max_depth=37, max_features=872, min_samples_split=9, n_estimators=814; total time=   5.0s\n",
      "[CV] END max_depth=37, max_features=872, min_samples_split=9, n_estimators=814; total time=   6.1s\n",
      "[CV] END max_depth=37, max_features=872, min_samples_split=9, n_estimators=814; total time=   5.7s\n",
      "[CV] END max_depth=37, max_features=872, min_samples_split=9, n_estimators=814; total time=   8.0s\n",
      "[CV] END max_depth=69, max_features=570, min_samples_split=84, n_estimators=97; total time=   0.9s\n",
      "[CV] END max_depth=69, max_features=570, min_samples_split=84, n_estimators=97; total time=   0.9s\n",
      "[CV] END max_depth=69, max_features=570, min_samples_split=84, n_estimators=97; total time=   0.8s\n",
      "[CV] END max_depth=69, max_features=570, min_samples_split=84, n_estimators=97; total time=   0.8s\n",
      "[CV] END max_depth=69, max_features=570, min_samples_split=84, n_estimators=97; total time=   0.8s\n",
      "[CV] END max_depth=14, max_features=11, min_samples_split=25, n_estimators=893; total time=   3.1s\n",
      "[CV] END max_depth=14, max_features=11, min_samples_split=25, n_estimators=893; total time=   3.1s\n",
      "[CV] END max_depth=14, max_features=11, min_samples_split=25, n_estimators=893; total time=   3.2s\n",
      "[CV] END max_depth=14, max_features=11, min_samples_split=25, n_estimators=893; total time=   3.1s\n",
      "[CV] END max_depth=14, max_features=11, min_samples_split=25, n_estimators=893; total time=   3.1s\n",
      "[CV] END max_depth=82, max_features=904, min_samples_split=26, n_estimators=715; total time=   9.3s\n",
      "[CV] END max_depth=82, max_features=904, min_samples_split=26, n_estimators=715; total time=   6.8s\n",
      "[CV] END max_depth=82, max_features=904, min_samples_split=26, n_estimators=715; total time=   2.8s\n",
      "[CV] END max_depth=82, max_features=904, min_samples_split=26, n_estimators=715; total time=   3.2s\n",
      "[CV] END max_depth=82, max_features=904, min_samples_split=26, n_estimators=715; total time=   2.7s\n",
      "[CV] END max_depth=93, max_features=661, min_samples_split=34, n_estimators=141; total time=   0.6s\n",
      "[CV] END max_depth=93, max_features=661, min_samples_split=34, n_estimators=141; total time=   0.5s\n",
      "[CV] END max_depth=93, max_features=661, min_samples_split=34, n_estimators=141; total time=   0.5s\n",
      "[CV] END max_depth=93, max_features=661, min_samples_split=34, n_estimators=141; total time=   0.5s\n",
      "[CV] END max_depth=93, max_features=661, min_samples_split=34, n_estimators=141; total time=   0.5s\n",
      "[CV] END max_depth=66, max_features=607, min_samples_split=62, n_estimators=490; total time=   1.5s\n",
      "[CV] END max_depth=66, max_features=607, min_samples_split=62, n_estimators=490; total time=   1.6s\n",
      "[CV] END max_depth=66, max_features=607, min_samples_split=62, n_estimators=490; total time=   1.8s\n",
      "[CV] END max_depth=66, max_features=607, min_samples_split=62, n_estimators=490; total time=   2.0s\n",
      "[CV] END max_depth=66, max_features=607, min_samples_split=62, n_estimators=490; total time=   2.0s\n",
      "[CV] END max_depth=25, max_features=339, min_samples_split=99, n_estimators=131; total time=   0.5s\n",
      "[CV] END max_depth=25, max_features=339, min_samples_split=99, n_estimators=131; total time=   0.5s\n",
      "[CV] END max_depth=25, max_features=339, min_samples_split=99, n_estimators=131; total time=   0.5s\n",
      "[CV] END max_depth=25, max_features=339, min_samples_split=99, n_estimators=131; total time=   0.5s\n",
      "[CV] END max_depth=25, max_features=339, min_samples_split=99, n_estimators=131; total time=   0.5s\n",
      "[CV] END max_depth=93, max_features=616, min_samples_split=12, n_estimators=695; total time=   4.6s\n",
      "[CV] END max_depth=93, max_features=616, min_samples_split=12, n_estimators=695; total time=   4.9s\n",
      "[CV] END max_depth=93, max_features=616, min_samples_split=12, n_estimators=695; total time=   5.3s\n",
      "[CV] END max_depth=93, max_features=616, min_samples_split=12, n_estimators=695; total time=   4.2s\n",
      "[CV] END max_depth=93, max_features=616, min_samples_split=12, n_estimators=695; total time=   4.2s\n",
      "[CV] END max_depth=97, max_features=490, min_samples_split=84, n_estimators=471; total time=   1.9s\n",
      "[CV] END max_depth=97, max_features=490, min_samples_split=84, n_estimators=471; total time=   1.9s\n",
      "[CV] END max_depth=97, max_features=490, min_samples_split=84, n_estimators=471; total time=   1.9s\n",
      "[CV] END max_depth=97, max_features=490, min_samples_split=84, n_estimators=471; total time=   1.9s\n",
      "[CV] END max_depth=97, max_features=490, min_samples_split=84, n_estimators=471; total time=   2.6s\n",
      "[CV] END max_depth=71, max_features=707, min_samples_split=73, n_estimators=177; total time=   0.9s\n",
      "[CV] END max_depth=71, max_features=707, min_samples_split=73, n_estimators=177; total time=   0.7s\n",
      "[CV] END max_depth=71, max_features=707, min_samples_split=73, n_estimators=177; total time=   0.9s\n",
      "[CV] END max_depth=71, max_features=707, min_samples_split=73, n_estimators=177; total time=   0.9s\n",
      "[CV] END max_depth=71, max_features=707, min_samples_split=73, n_estimators=177; total time=   0.8s\n",
      "[CV] END max_depth=55, max_features=16, min_samples_split=7, n_estimators=402; total time=   1.1s\n",
      "[CV] END max_depth=55, max_features=16, min_samples_split=7, n_estimators=402; total time=   1.0s\n",
      "[CV] END max_depth=55, max_features=16, min_samples_split=7, n_estimators=402; total time=   1.0s\n",
      "[CV] END max_depth=55, max_features=16, min_samples_split=7, n_estimators=402; total time=   1.0s\n",
      "[CV] END max_depth=55, max_features=16, min_samples_split=7, n_estimators=402; total time=   1.0s\n",
      "[CV] END max_depth=43, max_features=21, min_samples_split=50, n_estimators=279; total time=   1.0s\n",
      "[CV] END max_depth=43, max_features=21, min_samples_split=50, n_estimators=279; total time=   1.0s\n",
      "[CV] END max_depth=43, max_features=21, min_samples_split=50, n_estimators=279; total time=   0.7s\n",
      "[CV] END max_depth=43, max_features=21, min_samples_split=50, n_estimators=279; total time=   0.7s\n",
      "[CV] END max_depth=43, max_features=21, min_samples_split=50, n_estimators=279; total time=   0.7s\n",
      "[CV] END max_depth=14, max_features=627, min_samples_split=99, n_estimators=694; total time=   3.0s\n",
      "[CV] END max_depth=14, max_features=627, min_samples_split=99, n_estimators=694; total time=   3.0s\n",
      "[CV] END max_depth=14, max_features=627, min_samples_split=99, n_estimators=694; total time=   3.5s\n",
      "[CV] END max_depth=14, max_features=627, min_samples_split=99, n_estimators=694; total time=   3.4s\n",
      "[CV] END max_depth=14, max_features=627, min_samples_split=99, n_estimators=694; total time=   2.9s\n",
      "[CV] END max_depth=85, max_features=11, min_samples_split=98, n_estimators=184; total time=   0.4s\n",
      "[CV] END max_depth=85, max_features=11, min_samples_split=98, n_estimators=184; total time=   0.4s\n",
      "[CV] END max_depth=85, max_features=11, min_samples_split=98, n_estimators=184; total time=   0.4s\n",
      "[CV] END max_depth=85, max_features=11, min_samples_split=98, n_estimators=184; total time=   0.4s\n",
      "[CV] END max_depth=85, max_features=11, min_samples_split=98, n_estimators=184; total time=   0.4s\n",
      "[CV] END max_depth=62, max_features=569, min_samples_split=91, n_estimators=406; total time=   2.1s\n",
      "[CV] END max_depth=62, max_features=569, min_samples_split=91, n_estimators=406; total time=   1.8s\n",
      "[CV] END max_depth=62, max_features=569, min_samples_split=91, n_estimators=406; total time=   2.1s\n",
      "[CV] END max_depth=62, max_features=569, min_samples_split=91, n_estimators=406; total time=   1.9s\n",
      "[CV] END max_depth=62, max_features=569, min_samples_split=91, n_estimators=406; total time=   2.8s\n",
      "[CV] END max_depth=97, max_features=506, min_samples_split=85, n_estimators=26; total time=   0.2s\n",
      "[CV] END max_depth=97, max_features=506, min_samples_split=85, n_estimators=26; total time=   0.2s\n",
      "[CV] END max_depth=97, max_features=506, min_samples_split=85, n_estimators=26; total time=   0.2s\n",
      "[CV] END max_depth=97, max_features=506, min_samples_split=85, n_estimators=26; total time=   0.2s\n",
      "[CV] END max_depth=97, max_features=506, min_samples_split=85, n_estimators=26; total time=   0.2s\n",
      "[CV] END max_depth=15, max_features=142, min_samples_split=86, n_estimators=629; total time=   3.1s\n",
      "[CV] END max_depth=15, max_features=142, min_samples_split=86, n_estimators=629; total time=   3.3s\n",
      "[CV] END max_depth=15, max_features=142, min_samples_split=86, n_estimators=629; total time=   4.1s\n"
     ]
    },
    {
     "name": "stdout",
     "output_type": "stream",
     "text": [
      "[CV] END max_depth=15, max_features=142, min_samples_split=86, n_estimators=629; total time=   2.8s\n",
      "[CV] END max_depth=15, max_features=142, min_samples_split=86, n_estimators=629; total time=   2.8s\n",
      "[CV] END max_depth=44, max_features=647, min_samples_split=79, n_estimators=697; total time=   3.2s\n",
      "[CV] END max_depth=44, max_features=647, min_samples_split=79, n_estimators=697; total time=   3.1s\n",
      "[CV] END max_depth=44, max_features=647, min_samples_split=79, n_estimators=697; total time=   3.2s\n",
      "[CV] END max_depth=44, max_features=647, min_samples_split=79, n_estimators=697; total time=   3.2s\n",
      "[CV] END max_depth=44, max_features=647, min_samples_split=79, n_estimators=697; total time=   3.1s\n",
      "[CV] END max_depth=60, max_features=912, min_samples_split=26, n_estimators=138; total time=   0.8s\n",
      "[CV] END max_depth=60, max_features=912, min_samples_split=26, n_estimators=138; total time=   0.9s\n",
      "[CV] END max_depth=60, max_features=912, min_samples_split=26, n_estimators=138; total time=   0.9s\n",
      "[CV] END max_depth=60, max_features=912, min_samples_split=26, n_estimators=138; total time=   0.9s\n",
      "[CV] END max_depth=60, max_features=912, min_samples_split=26, n_estimators=138; total time=   0.9s\n",
      "[CV] END max_depth=67, max_features=200, min_samples_split=55, n_estimators=326; total time=   1.7s\n",
      "[CV] END max_depth=67, max_features=200, min_samples_split=55, n_estimators=326; total time=   1.6s\n",
      "[CV] END max_depth=67, max_features=200, min_samples_split=55, n_estimators=326; total time=   1.7s\n",
      "[CV] END max_depth=67, max_features=200, min_samples_split=55, n_estimators=326; total time=   1.8s\n",
      "[CV] END max_depth=67, max_features=200, min_samples_split=55, n_estimators=326; total time=   1.6s\n",
      "[CV] END max_depth=37, max_features=870, min_samples_split=23, n_estimators=297; total time=   1.9s\n",
      "[CV] END max_depth=37, max_features=870, min_samples_split=23, n_estimators=297; total time=   1.9s\n",
      "[CV] END max_depth=37, max_features=870, min_samples_split=23, n_estimators=297; total time=   1.9s\n",
      "[CV] END max_depth=37, max_features=870, min_samples_split=23, n_estimators=297; total time=   1.9s\n",
      "[CV] END max_depth=37, max_features=870, min_samples_split=23, n_estimators=297; total time=   1.9s\n",
      "[CV] END max_depth=78, max_features=220, min_samples_split=51, n_estimators=370; total time=   1.8s\n",
      "[CV] END max_depth=78, max_features=220, min_samples_split=51, n_estimators=370; total time=   1.9s\n",
      "[CV] END max_depth=78, max_features=220, min_samples_split=51, n_estimators=370; total time=   1.9s\n",
      "[CV] END max_depth=78, max_features=220, min_samples_split=51, n_estimators=370; total time=   1.9s\n",
      "[CV] END max_depth=78, max_features=220, min_samples_split=51, n_estimators=370; total time=   1.9s\n",
      "[CV] END max_depth=48, max_features=462, min_samples_split=42, n_estimators=463; total time=   2.4s\n",
      "[CV] END max_depth=48, max_features=462, min_samples_split=42, n_estimators=463; total time=   2.3s\n",
      "[CV] END max_depth=48, max_features=462, min_samples_split=42, n_estimators=463; total time=   2.5s\n",
      "[CV] END max_depth=48, max_features=462, min_samples_split=42, n_estimators=463; total time=   2.8s\n",
      "[CV] END max_depth=48, max_features=462, min_samples_split=42, n_estimators=463; total time=   2.3s\n",
      "[CV] END max_depth=46, max_features=856, min_samples_split=18, n_estimators=925; total time=   6.5s\n",
      "[CV] END max_depth=46, max_features=856, min_samples_split=18, n_estimators=925; total time=   7.2s\n",
      "[CV] END max_depth=46, max_features=856, min_samples_split=18, n_estimators=925; total time=   6.1s\n",
      "[CV] END max_depth=46, max_features=856, min_samples_split=18, n_estimators=925; total time=   6.0s\n",
      "[CV] END max_depth=46, max_features=856, min_samples_split=18, n_estimators=925; total time=   6.0s\n",
      "[CV] END max_depth=46, max_features=452, min_samples_split=68, n_estimators=975; total time=   4.4s\n",
      "[CV] END max_depth=46, max_features=452, min_samples_split=68, n_estimators=975; total time=   4.5s\n",
      "[CV] END max_depth=46, max_features=452, min_samples_split=68, n_estimators=975; total time=   5.1s\n",
      "[CV] END max_depth=46, max_features=452, min_samples_split=68, n_estimators=975; total time=   5.2s\n",
      "[CV] END max_depth=46, max_features=452, min_samples_split=68, n_estimators=975; total time=   4.8s\n",
      "[CV] END max_depth=47, max_features=385, min_samples_split=31, n_estimators=64; total time=   0.4s\n",
      "[CV] END max_depth=47, max_features=385, min_samples_split=31, n_estimators=64; total time=   0.4s\n",
      "[CV] END max_depth=47, max_features=385, min_samples_split=31, n_estimators=64; total time=   0.4s\n",
      "[CV] END max_depth=47, max_features=385, min_samples_split=31, n_estimators=64; total time=   0.4s\n",
      "[CV] END max_depth=47, max_features=385, min_samples_split=31, n_estimators=64; total time=   0.5s\n",
      "[CV] END max_depth=76, max_features=548, min_samples_split=55, n_estimators=478; total time=   2.4s\n",
      "[CV] END max_depth=76, max_features=548, min_samples_split=55, n_estimators=478; total time=   2.2s\n",
      "[CV] END max_depth=76, max_features=548, min_samples_split=55, n_estimators=478; total time=   2.3s\n",
      "[CV] END max_depth=76, max_features=548, min_samples_split=55, n_estimators=478; total time=   2.5s\n",
      "[CV] END max_depth=76, max_features=548, min_samples_split=55, n_estimators=478; total time=   2.8s\n",
      "[CV] END max_depth=34, max_features=643, min_samples_split=86, n_estimators=596; total time=   3.1s\n",
      "[CV] END max_depth=34, max_features=643, min_samples_split=86, n_estimators=596; total time=   2.6s\n",
      "[CV] END max_depth=34, max_features=643, min_samples_split=86, n_estimators=596; total time=   2.5s\n",
      "[CV] END max_depth=34, max_features=643, min_samples_split=86, n_estimators=596; total time=   2.6s\n",
      "[CV] END max_depth=34, max_features=643, min_samples_split=86, n_estimators=596; total time=   2.4s\n",
      "[CV] END max_depth=49, max_features=823, min_samples_split=34, n_estimators=254; total time=   1.3s\n",
      "[CV] END max_depth=49, max_features=823, min_samples_split=34, n_estimators=254; total time=   1.4s\n",
      "[CV] END max_depth=49, max_features=823, min_samples_split=34, n_estimators=254; total time=   1.4s\n",
      "[CV] END max_depth=49, max_features=823, min_samples_split=34, n_estimators=254; total time=   1.3s\n",
      "[CV] END max_depth=49, max_features=823, min_samples_split=34, n_estimators=254; total time=   1.3s\n",
      "[CV] END max_depth=29, max_features=56, min_samples_split=84, n_estimators=288; total time=   0.9s\n",
      "[CV] END max_depth=29, max_features=56, min_samples_split=84, n_estimators=288; total time=   0.9s\n",
      "[CV] END max_depth=29, max_features=56, min_samples_split=84, n_estimators=288; total time=   0.9s\n",
      "[CV] END max_depth=29, max_features=56, min_samples_split=84, n_estimators=288; total time=   0.9s\n",
      "[CV] END max_depth=29, max_features=56, min_samples_split=84, n_estimators=288; total time=   0.9s\n",
      "[CV] END max_depth=29, max_features=223, min_samples_split=76, n_estimators=137; total time=   0.6s\n",
      "[CV] END max_depth=29, max_features=223, min_samples_split=76, n_estimators=137; total time=   0.6s\n",
      "[CV] END max_depth=29, max_features=223, min_samples_split=76, n_estimators=137; total time=   0.6s\n",
      "[CV] END max_depth=29, max_features=223, min_samples_split=76, n_estimators=137; total time=   0.6s\n",
      "[CV] END max_depth=29, max_features=223, min_samples_split=76, n_estimators=137; total time=   0.6s\n",
      "[CV] END max_depth=33, max_features=521, min_samples_split=86, n_estimators=974; total time=   4.0s\n",
      "[CV] END max_depth=33, max_features=521, min_samples_split=86, n_estimators=974; total time=   4.0s\n",
      "[CV] END max_depth=33, max_features=521, min_samples_split=86, n_estimators=974; total time=   4.1s\n",
      "[CV] END max_depth=33, max_features=521, min_samples_split=86, n_estimators=974; total time=   4.1s\n",
      "[CV] END max_depth=33, max_features=521, min_samples_split=86, n_estimators=974; total time=   4.0s\n",
      "[CV] END max_depth=51, max_features=592, min_samples_split=43, n_estimators=833; total time=   4.0s\n",
      "[CV] END max_depth=51, max_features=592, min_samples_split=43, n_estimators=833; total time=   4.2s\n",
      "[CV] END max_depth=51, max_features=592, min_samples_split=43, n_estimators=833; total time=   4.1s\n",
      "[CV] END max_depth=51, max_features=592, min_samples_split=43, n_estimators=833; total time=   4.1s\n",
      "[CV] END max_depth=51, max_features=592, min_samples_split=43, n_estimators=833; total time=   3.9s\n",
      "[CV] END max_depth=84, max_features=25, min_samples_split=22, n_estimators=45; total time=   0.1s\n"
     ]
    },
    {
     "name": "stdout",
     "output_type": "stream",
     "text": [
      "[CV] END max_depth=84, max_features=25, min_samples_split=22, n_estimators=45; total time=   0.1s\n",
      "[CV] END max_depth=84, max_features=25, min_samples_split=22, n_estimators=45; total time=   0.1s\n",
      "[CV] END max_depth=84, max_features=25, min_samples_split=22, n_estimators=45; total time=   0.1s\n",
      "[CV] END max_depth=84, max_features=25, min_samples_split=22, n_estimators=45; total time=   0.1s\n",
      "[CV] END max_depth=16, max_features=671, min_samples_split=93, n_estimators=911; total time=   3.5s\n",
      "[CV] END max_depth=16, max_features=671, min_samples_split=93, n_estimators=911; total time=   3.4s\n",
      "[CV] END max_depth=16, max_features=671, min_samples_split=93, n_estimators=911; total time=   3.5s\n",
      "[CV] END max_depth=16, max_features=671, min_samples_split=93, n_estimators=911; total time=   3.6s\n",
      "[CV] END max_depth=16, max_features=671, min_samples_split=93, n_estimators=911; total time=   3.3s\n",
      "[CV] END max_depth=20, max_features=252, min_samples_split=28, n_estimators=236; total time=   1.2s\n",
      "[CV] END max_depth=20, max_features=252, min_samples_split=28, n_estimators=236; total time=   1.2s\n",
      "[CV] END max_depth=20, max_features=252, min_samples_split=28, n_estimators=236; total time=   1.3s\n",
      "[CV] END max_depth=20, max_features=252, min_samples_split=28, n_estimators=236; total time=   1.3s\n",
      "[CV] END max_depth=20, max_features=252, min_samples_split=28, n_estimators=236; total time=   1.3s\n",
      "[CV] END max_depth=87, max_features=392, min_samples_split=55, n_estimators=432; total time=   2.2s\n",
      "[CV] END max_depth=87, max_features=392, min_samples_split=55, n_estimators=432; total time=   2.0s\n",
      "[CV] END max_depth=87, max_features=392, min_samples_split=55, n_estimators=432; total time=   2.3s\n",
      "[CV] END max_depth=87, max_features=392, min_samples_split=55, n_estimators=432; total time=   2.1s\n",
      "[CV] END max_depth=87, max_features=392, min_samples_split=55, n_estimators=432; total time=   2.1s\n",
      "[CV] END max_depth=61, max_features=756, min_samples_split=36, n_estimators=101; total time=   0.5s\n",
      "[CV] END max_depth=61, max_features=756, min_samples_split=36, n_estimators=101; total time=   0.6s\n",
      "[CV] END max_depth=61, max_features=756, min_samples_split=36, n_estimators=101; total time=   0.6s\n",
      "[CV] END max_depth=61, max_features=756, min_samples_split=36, n_estimators=101; total time=   0.6s\n",
      "[CV] END max_depth=61, max_features=756, min_samples_split=36, n_estimators=101; total time=   0.6s\n",
      "[CV] END max_depth=33, max_features=916, min_samples_split=69, n_estimators=793; total time=   3.7s\n",
      "[CV] END max_depth=33, max_features=916, min_samples_split=69, n_estimators=793; total time=   3.7s\n",
      "[CV] END max_depth=33, max_features=916, min_samples_split=69, n_estimators=793; total time=   4.0s\n",
      "[CV] END max_depth=33, max_features=916, min_samples_split=69, n_estimators=793; total time=   4.3s\n",
      "[CV] END max_depth=33, max_features=916, min_samples_split=69, n_estimators=793; total time=   4.1s\n",
      "[CV] END max_depth=84, max_features=230, min_samples_split=96, n_estimators=167; total time=   1.0s\n",
      "[CV] END max_depth=84, max_features=230, min_samples_split=96, n_estimators=167; total time=   0.9s\n",
      "[CV] END max_depth=84, max_features=230, min_samples_split=96, n_estimators=167; total time=   0.8s\n",
      "[CV] END max_depth=84, max_features=230, min_samples_split=96, n_estimators=167; total time=   0.8s\n",
      "[CV] END max_depth=84, max_features=230, min_samples_split=96, n_estimators=167; total time=   0.8s\n",
      "[CV] END max_depth=48, max_features=232, min_samples_split=7, n_estimators=80; total time=   0.7s\n",
      "[CV] END max_depth=48, max_features=232, min_samples_split=7, n_estimators=80; total time=   0.7s\n",
      "[CV] END max_depth=48, max_features=232, min_samples_split=7, n_estimators=80; total time=   0.6s\n",
      "[CV] END max_depth=48, max_features=232, min_samples_split=7, n_estimators=80; total time=   0.6s\n",
      "[CV] END max_depth=48, max_features=232, min_samples_split=7, n_estimators=80; total time=   0.6s\n",
      "[CV] END max_depth=64, max_features=882, min_samples_split=89, n_estimators=417; total time=   2.0s\n",
      "[CV] END max_depth=64, max_features=882, min_samples_split=89, n_estimators=417; total time=   1.8s\n",
      "[CV] END max_depth=64, max_features=882, min_samples_split=89, n_estimators=417; total time=   1.9s\n",
      "[CV] END max_depth=64, max_features=882, min_samples_split=89, n_estimators=417; total time=   1.9s\n",
      "[CV] END max_depth=64, max_features=882, min_samples_split=89, n_estimators=417; total time=   1.8s\n",
      "[CV] END max_depth=43, max_features=715, min_samples_split=68, n_estimators=729; total time=   3.5s\n",
      "[CV] END max_depth=43, max_features=715, min_samples_split=68, n_estimators=729; total time=   3.3s\n",
      "[CV] END max_depth=43, max_features=715, min_samples_split=68, n_estimators=729; total time=   3.4s\n",
      "[CV] END max_depth=43, max_features=715, min_samples_split=68, n_estimators=729; total time=   3.4s\n",
      "[CV] END max_depth=43, max_features=715, min_samples_split=68, n_estimators=729; total time=   3.2s\n",
      "[CV] END max_depth=99, max_features=671, min_samples_split=19, n_estimators=325; total time=   2.2s\n",
      "[CV] END max_depth=99, max_features=671, min_samples_split=19, n_estimators=325; total time=   2.1s\n",
      "[CV] END max_depth=99, max_features=671, min_samples_split=19, n_estimators=325; total time=   2.0s\n",
      "[CV] END max_depth=99, max_features=671, min_samples_split=19, n_estimators=325; total time=   2.1s\n",
      "[CV] END max_depth=99, max_features=671, min_samples_split=19, n_estimators=325; total time=   2.1s\n",
      "[CV] END max_depth=65, max_features=189, min_samples_split=80, n_estimators=146; total time=   0.6s\n",
      "[CV] END max_depth=65, max_features=189, min_samples_split=80, n_estimators=146; total time=   0.6s\n",
      "[CV] END max_depth=65, max_features=189, min_samples_split=80, n_estimators=146; total time=   0.7s\n",
      "[CV] END max_depth=65, max_features=189, min_samples_split=80, n_estimators=146; total time=   0.6s\n",
      "[CV] END max_depth=65, max_features=189, min_samples_split=80, n_estimators=146; total time=   0.6s\n",
      "[CV] END max_depth=40, max_features=164, min_samples_split=83, n_estimators=669; total time=   2.7s\n",
      "[CV] END max_depth=40, max_features=164, min_samples_split=83, n_estimators=669; total time=   2.8s\n",
      "[CV] END max_depth=40, max_features=164, min_samples_split=83, n_estimators=669; total time=   2.8s\n",
      "[CV] END max_depth=40, max_features=164, min_samples_split=83, n_estimators=669; total time=   2.9s\n",
      "[CV] END max_depth=40, max_features=164, min_samples_split=83, n_estimators=669; total time=   2.9s\n",
      "[CV] END max_depth=23, max_features=807, min_samples_split=43, n_estimators=459; total time=   2.4s\n",
      "[CV] END max_depth=23, max_features=807, min_samples_split=43, n_estimators=459; total time=   2.3s\n",
      "[CV] END max_depth=23, max_features=807, min_samples_split=43, n_estimators=459; total time=   2.3s\n",
      "[CV] END max_depth=23, max_features=807, min_samples_split=43, n_estimators=459; total time=   2.1s\n",
      "[CV] END max_depth=23, max_features=807, min_samples_split=43, n_estimators=459; total time=   2.1s\n",
      "[CV] END max_depth=78, max_features=327, min_samples_split=27, n_estimators=231; total time=   1.2s\n",
      "[CV] END max_depth=78, max_features=327, min_samples_split=27, n_estimators=231; total time=   1.2s\n",
      "[CV] END max_depth=78, max_features=327, min_samples_split=27, n_estimators=231; total time=   1.3s\n",
      "[CV] END max_depth=78, max_features=327, min_samples_split=27, n_estimators=231; total time=   1.3s\n",
      "[CV] END max_depth=78, max_features=327, min_samples_split=27, n_estimators=231; total time=   1.4s\n",
      "[CV] END max_depth=49, max_features=691, min_samples_split=64, n_estimators=301; total time=   1.4s\n",
      "[CV] END max_depth=49, max_features=691, min_samples_split=64, n_estimators=301; total time=   1.4s\n",
      "[CV] END max_depth=49, max_features=691, min_samples_split=64, n_estimators=301; total time=   1.4s\n",
      "[CV] END max_depth=49, max_features=691, min_samples_split=64, n_estimators=301; total time=   1.3s\n",
      "[CV] END max_depth=49, max_features=691, min_samples_split=64, n_estimators=301; total time=   1.3s\n",
      "[CV] END max_depth=55, max_features=257, min_samples_split=88, n_estimators=504; total time=   2.0s\n",
      "[CV] END max_depth=55, max_features=257, min_samples_split=88, n_estimators=504; total time=   2.0s\n",
      "[CV] END max_depth=55, max_features=257, min_samples_split=88, n_estimators=504; total time=   2.0s\n",
      "[CV] END max_depth=55, max_features=257, min_samples_split=88, n_estimators=504; total time=   2.2s\n"
     ]
    },
    {
     "name": "stdout",
     "output_type": "stream",
     "text": [
      "[CV] END max_depth=55, max_features=257, min_samples_split=88, n_estimators=504; total time=   2.0s\n",
      "[CV] END max_depth=17, max_features=276, min_samples_split=11, n_estimators=625; total time=   4.1s\n",
      "[CV] END max_depth=17, max_features=276, min_samples_split=11, n_estimators=625; total time=   4.7s\n",
      "[CV] END max_depth=17, max_features=276, min_samples_split=11, n_estimators=625; total time=   4.3s\n",
      "[CV] END max_depth=17, max_features=276, min_samples_split=11, n_estimators=625; total time=   4.5s\n",
      "[CV] END max_depth=17, max_features=276, min_samples_split=11, n_estimators=625; total time=   4.3s\n",
      "[CV] END max_depth=93, max_features=52, min_samples_split=12, n_estimators=124; total time=   0.7s\n",
      "[CV] END max_depth=93, max_features=52, min_samples_split=12, n_estimators=124; total time=   0.6s\n",
      "[CV] END max_depth=93, max_features=52, min_samples_split=12, n_estimators=124; total time=   0.6s\n",
      "[CV] END max_depth=93, max_features=52, min_samples_split=12, n_estimators=124; total time=   0.6s\n",
      "[CV] END max_depth=93, max_features=52, min_samples_split=12, n_estimators=124; total time=   0.6s\n",
      "[CV] END max_depth=69, max_features=408, min_samples_split=16, n_estimators=704; total time=   4.7s\n",
      "[CV] END max_depth=69, max_features=408, min_samples_split=16, n_estimators=704; total time=   4.9s\n",
      "[CV] END max_depth=69, max_features=408, min_samples_split=16, n_estimators=704; total time=   5.5s\n",
      "[CV] END max_depth=69, max_features=408, min_samples_split=16, n_estimators=704; total time=   4.7s\n",
      "[CV] END max_depth=69, max_features=408, min_samples_split=16, n_estimators=704; total time=   4.6s\n",
      "[CV] END max_depth=22, max_features=175, min_samples_split=5, n_estimators=441; total time=   3.2s\n",
      "[CV] END max_depth=22, max_features=175, min_samples_split=5, n_estimators=441; total time=   3.0s\n",
      "[CV] END max_depth=22, max_features=175, min_samples_split=5, n_estimators=441; total time=   3.5s\n",
      "[CV] END max_depth=22, max_features=175, min_samples_split=5, n_estimators=441; total time=   4.3s\n",
      "[CV] END max_depth=22, max_features=175, min_samples_split=5, n_estimators=441; total time=   3.3s\n",
      "[CV] END max_depth=89, max_features=209, min_samples_split=48, n_estimators=567; total time=   3.3s\n",
      "[CV] END max_depth=89, max_features=209, min_samples_split=48, n_estimators=567; total time=   2.7s\n",
      "[CV] END max_depth=89, max_features=209, min_samples_split=48, n_estimators=567; total time=   2.8s\n",
      "[CV] END max_depth=89, max_features=209, min_samples_split=48, n_estimators=567; total time=   2.7s\n",
      "[CV] END max_depth=89, max_features=209, min_samples_split=48, n_estimators=567; total time=   3.0s\n",
      "[CV] END max_depth=80, max_features=584, min_samples_split=16, n_estimators=718; total time=   6.9s\n",
      "[CV] END max_depth=80, max_features=584, min_samples_split=16, n_estimators=718; total time=   5.9s\n",
      "[CV] END max_depth=80, max_features=584, min_samples_split=16, n_estimators=718; total time=   4.6s\n",
      "[CV] END max_depth=80, max_features=584, min_samples_split=16, n_estimators=718; total time=   4.6s\n",
      "[CV] END max_depth=80, max_features=584, min_samples_split=16, n_estimators=718; total time=   4.8s\n",
      "[CV] END max_depth=16, max_features=410, min_samples_split=55, n_estimators=725; total time=   3.4s\n",
      "[CV] END max_depth=16, max_features=410, min_samples_split=55, n_estimators=725; total time=   3.3s\n",
      "[CV] END max_depth=16, max_features=410, min_samples_split=55, n_estimators=725; total time=   3.8s\n",
      "[CV] END max_depth=16, max_features=410, min_samples_split=55, n_estimators=725; total time=   4.6s\n",
      "[CV] END max_depth=16, max_features=410, min_samples_split=55, n_estimators=725; total time=   3.3s\n",
      "[CV] END max_depth=59, max_features=982, min_samples_split=31, n_estimators=557; total time=   3.3s\n",
      "[CV] END max_depth=59, max_features=982, min_samples_split=31, n_estimators=557; total time=   3.2s\n",
      "[CV] END max_depth=59, max_features=982, min_samples_split=31, n_estimators=557; total time=   3.6s\n",
      "[CV] END max_depth=59, max_features=982, min_samples_split=31, n_estimators=557; total time=   3.3s\n",
      "[CV] END max_depth=59, max_features=982, min_samples_split=31, n_estimators=557; total time=   3.2s\n",
      "[CV] END max_depth=38, max_features=151, min_samples_split=93, n_estimators=439; total time=   1.9s\n",
      "[CV] END max_depth=38, max_features=151, min_samples_split=93, n_estimators=439; total time=   1.9s\n",
      "[CV] END max_depth=38, max_features=151, min_samples_split=93, n_estimators=439; total time=   1.9s\n",
      "[CV] END max_depth=38, max_features=151, min_samples_split=93, n_estimators=439; total time=   2.1s\n",
      "[CV] END max_depth=38, max_features=151, min_samples_split=93, n_estimators=439; total time=   1.8s\n",
      "[CV] END max_depth=77, max_features=525, min_samples_split=61, n_estimators=923; total time=   4.3s\n",
      "[CV] END max_depth=77, max_features=525, min_samples_split=61, n_estimators=923; total time=   5.1s\n",
      "[CV] END max_depth=77, max_features=525, min_samples_split=61, n_estimators=923; total time=   4.7s\n",
      "[CV] END max_depth=77, max_features=525, min_samples_split=61, n_estimators=923; total time=   5.2s\n",
      "[CV] END max_depth=77, max_features=525, min_samples_split=61, n_estimators=923; total time=   4.3s\n",
      "[CV] END max_depth=77, max_features=968, min_samples_split=89, n_estimators=424; total time=   1.8s\n",
      "[CV] END max_depth=77, max_features=968, min_samples_split=89, n_estimators=424; total time=   1.9s\n",
      "[CV] END max_depth=77, max_features=968, min_samples_split=89, n_estimators=424; total time=   1.9s\n",
      "[CV] END max_depth=77, max_features=968, min_samples_split=89, n_estimators=424; total time=   1.8s\n",
      "[CV] END max_depth=77, max_features=968, min_samples_split=89, n_estimators=424; total time=   1.8s\n",
      "[CV] END max_depth=44, max_features=461, min_samples_split=40, n_estimators=604; total time=   3.1s\n",
      "[CV] END max_depth=44, max_features=461, min_samples_split=40, n_estimators=604; total time=   3.0s\n",
      "[CV] END max_depth=44, max_features=461, min_samples_split=40, n_estimators=604; total time=   3.2s\n",
      "[CV] END max_depth=44, max_features=461, min_samples_split=40, n_estimators=604; total time=   3.0s\n",
      "[CV] END max_depth=44, max_features=461, min_samples_split=40, n_estimators=604; total time=   2.9s\n",
      "[CV] END max_depth=70, max_features=739, min_samples_split=35, n_estimators=172; total time=   0.9s\n",
      "[CV] END max_depth=70, max_features=739, min_samples_split=35, n_estimators=172; total time=   0.9s\n",
      "[CV] END max_depth=70, max_features=739, min_samples_split=35, n_estimators=172; total time=   1.0s\n",
      "[CV] END max_depth=70, max_features=739, min_samples_split=35, n_estimators=172; total time=   1.0s\n",
      "[CV] END max_depth=70, max_features=739, min_samples_split=35, n_estimators=172; total time=   0.9s\n",
      "[CV] END max_depth=27, max_features=697, min_samples_split=71, n_estimators=586; total time=   2.6s\n",
      "[CV] END max_depth=27, max_features=697, min_samples_split=71, n_estimators=586; total time=   2.5s\n",
      "[CV] END max_depth=27, max_features=697, min_samples_split=71, n_estimators=586; total time=   2.7s\n",
      "[CV] END max_depth=27, max_features=697, min_samples_split=71, n_estimators=586; total time=   2.5s\n",
      "[CV] END max_depth=27, max_features=697, min_samples_split=71, n_estimators=586; total time=   2.4s\n",
      "[CV] END max_depth=53, max_features=602, min_samples_split=29, n_estimators=44; total time=   0.2s\n",
      "[CV] END max_depth=53, max_features=602, min_samples_split=29, n_estimators=44; total time=   0.2s\n",
      "[CV] END max_depth=53, max_features=602, min_samples_split=29, n_estimators=44; total time=   0.3s\n",
      "[CV] END max_depth=53, max_features=602, min_samples_split=29, n_estimators=44; total time=   0.3s\n",
      "[CV] END max_depth=53, max_features=602, min_samples_split=29, n_estimators=44; total time=   0.3s\n",
      "[CV] END max_depth=2, max_features=339, min_samples_split=96, n_estimators=993; total time=   2.9s\n",
      "[CV] END max_depth=2, max_features=339, min_samples_split=96, n_estimators=993; total time=   2.9s\n",
      "[CV] END max_depth=2, max_features=339, min_samples_split=96, n_estimators=993; total time=   2.8s\n",
      "[CV] END max_depth=2, max_features=339, min_samples_split=96, n_estimators=993; total time=   3.0s\n",
      "[CV] END max_depth=2, max_features=339, min_samples_split=96, n_estimators=993; total time=   3.2s\n",
      "[CV] END max_depth=27, max_features=853, min_samples_split=32, n_estimators=872; total time=   5.0s\n",
      "[CV] END max_depth=27, max_features=853, min_samples_split=32, n_estimators=872; total time=   4.8s\n"
     ]
    },
    {
     "name": "stdout",
     "output_type": "stream",
     "text": [
      "[CV] END max_depth=27, max_features=853, min_samples_split=32, n_estimators=872; total time=   4.6s\n",
      "[CV] END max_depth=27, max_features=853, min_samples_split=32, n_estimators=872; total time=   4.7s\n",
      "[CV] END max_depth=27, max_features=853, min_samples_split=32, n_estimators=872; total time=   4.8s\n"
     ]
    }
   ],
   "source": [
    "model = RandomForestClassifier(n_jobs =-1)  \n",
    "model_parameters = { 'n_estimators': randint(1,1000),\n",
    "                    'max_features': randint(1,1000),\n",
    "                    'max_depth' : randint(1,100),\n",
    "                    'min_samples_split':randint(2, 100), \n",
    "                   }\n",
    "random_search= RandomizedSearchCV(model, model_parameters, n_iter=100, cv=5, random_state=1, verbose=2)\n",
    "\n",
    "model =random_search.fit(X_train, y_train)"
   ]
  },
  {
   "cell_type": "code",
   "execution_count": 29,
   "id": "120dbb33",
   "metadata": {},
   "outputs": [
    {
     "data": {
      "text/plain": [
       "{'max_depth': 17,\n",
       " 'max_features': 276,\n",
       " 'min_samples_split': 11,\n",
       " 'n_estimators': 625}"
      ]
     },
     "execution_count": 29,
     "metadata": {},
     "output_type": "execute_result"
    }
   ],
   "source": [
    "random_search.best_params_"
   ]
  },
  {
   "cell_type": "code",
   "execution_count": 30,
   "id": "31e021a4",
   "metadata": {},
   "outputs": [
    {
     "name": "stdout",
     "output_type": "stream",
     "text": [
      "              precision    recall  f1-score   support\n",
      "\n",
      "      hiphop       1.00      1.00      1.00        62\n",
      "   classical       1.00      1.00      1.00        75\n",
      "       blues       1.00      1.00      1.00        60\n",
      "       metal       1.00      1.00      1.00        58\n",
      "        jazz       1.00      0.98      0.99        66\n",
      "     country       1.00      1.00      1.00        56\n",
      "         pop       1.00      1.00      1.00        75\n",
      "        rock       1.00      1.00      1.00        68\n",
      "       disco       1.00      1.00      1.00        67\n",
      "      reggae       0.98      1.00      0.99        62\n",
      "\n",
      "    accuracy                           1.00       649\n",
      "   macro avg       1.00      1.00      1.00       649\n",
      "weighted avg       1.00      1.00      1.00       649\n",
      "\n"
     ]
    }
   ],
   "source": [
    "#Using the recommended best paramters to create a new model\n",
    "model_15 = RandomForestClassifier(n_estimators=625, max_depth=17, max_features=276, min_samples_split=11)  \n",
    "model_15.fit(X_train, y_train)\n",
    "preds_15 = model_15.predict(X_train)\n",
    "y_true = y_train\n",
    "y_pred = preds_15\n",
    "target_names = ['hiphop', 'classical', 'blues', 'metal', 'jazz', 'country', 'pop', 'rock', 'disco', 'reggae']\n",
    "print(classification_report(y_true, y_pred, target_names=target_names))"
   ]
  },
  {
   "cell_type": "code",
   "execution_count": 31,
   "id": "ff3364b5",
   "metadata": {},
   "outputs": [
    {
     "name": "stdout",
     "output_type": "stream",
     "text": [
      "Fitting 5 folds for each of 50 candidates, totalling 250 fits\n",
      "[CV] END max_depth=39, max_features=236, min_samples_split=14, n_estimators=82; total time=   1.4s\n",
      "[CV] END max_depth=39, max_features=236, min_samples_split=14, n_estimators=82; total time=   0.4s\n",
      "[CV] END max_depth=39, max_features=236, min_samples_split=14, n_estimators=82; total time=   0.4s\n",
      "[CV] END max_depth=39, max_features=236, min_samples_split=14, n_estimators=82; total time=   0.4s\n",
      "[CV] END max_depth=39, max_features=236, min_samples_split=14, n_estimators=82; total time=   0.4s\n",
      "[CV] END max_depth=11, max_features=204, min_samples_split=7, n_estimators=345; total time=   1.4s\n",
      "[CV] END max_depth=11, max_features=204, min_samples_split=7, n_estimators=345; total time=   1.5s\n",
      "[CV] END max_depth=11, max_features=204, min_samples_split=7, n_estimators=345; total time=   1.4s\n",
      "[CV] END max_depth=11, max_features=204, min_samples_split=7, n_estimators=345; total time=   1.5s\n",
      "[CV] END max_depth=11, max_features=204, min_samples_split=7, n_estimators=345; total time=   1.5s\n",
      "[CV] END max_depth=2, max_features=145, min_samples_split=3, n_estimators=470; total time=   1.0s\n",
      "[CV] END max_depth=2, max_features=145, min_samples_split=3, n_estimators=470; total time=   1.0s\n",
      "[CV] END max_depth=2, max_features=145, min_samples_split=3, n_estimators=470; total time=   1.0s\n",
      "[CV] END max_depth=2, max_features=145, min_samples_split=3, n_estimators=470; total time=   1.1s\n",
      "[CV] END max_depth=2, max_features=145, min_samples_split=3, n_estimators=470; total time=   1.2s\n",
      "[CV] END max_depth=9, max_features=238, min_samples_split=8, n_estimators=291; total time=   1.3s\n",
      "[CV] END max_depth=9, max_features=238, min_samples_split=8, n_estimators=291; total time=   1.5s\n",
      "[CV] END max_depth=9, max_features=238, min_samples_split=8, n_estimators=291; total time=   1.6s\n",
      "[CV] END max_depth=9, max_features=238, min_samples_split=8, n_estimators=291; total time=   1.5s\n",
      "[CV] END max_depth=9, max_features=238, min_samples_split=8, n_estimators=291; total time=   1.6s\n",
      "[CV] END max_depth=22, max_features=255, min_samples_split=39, n_estimators=412; total time=   1.7s\n",
      "[CV] END max_depth=22, max_features=255, min_samples_split=39, n_estimators=412; total time=   1.7s\n",
      "[CV] END max_depth=22, max_features=255, min_samples_split=39, n_estimators=412; total time=   1.7s\n",
      "[CV] END max_depth=22, max_features=255, min_samples_split=39, n_estimators=412; total time=   1.7s\n",
      "[CV] END max_depth=22, max_features=255, min_samples_split=39, n_estimators=412; total time=   1.6s\n",
      "[CV] END max_depth=22, max_features=396, min_samples_split=44, n_estimators=166; total time=   0.7s\n",
      "[CV] END max_depth=22, max_features=396, min_samples_split=44, n_estimators=166; total time=   0.6s\n",
      "[CV] END max_depth=22, max_features=396, min_samples_split=44, n_estimators=166; total time=   0.7s\n",
      "[CV] END max_depth=22, max_features=396, min_samples_split=44, n_estimators=166; total time=   0.7s\n",
      "[CV] END max_depth=22, max_features=396, min_samples_split=44, n_estimators=166; total time=   0.6s\n",
      "[CV] END max_depth=31, max_features=399, min_samples_split=6, n_estimators=225; total time=   1.1s\n",
      "[CV] END max_depth=31, max_features=399, min_samples_split=6, n_estimators=225; total time=   1.1s\n",
      "[CV] END max_depth=31, max_features=399, min_samples_split=6, n_estimators=225; total time=   1.2s\n",
      "[CV] END max_depth=31, max_features=399, min_samples_split=6, n_estimators=225; total time=   1.2s\n",
      "[CV] END max_depth=31, max_features=399, min_samples_split=6, n_estimators=225; total time=   1.2s\n",
      "[CV] END max_depth=25, max_features=490, min_samples_split=32, n_estimators=362; total time=   1.5s\n",
      "[CV] END max_depth=25, max_features=490, min_samples_split=32, n_estimators=362; total time=   1.4s\n",
      "[CV] END max_depth=25, max_features=490, min_samples_split=32, n_estimators=362; total time=   1.5s\n",
      "[CV] END max_depth=25, max_features=490, min_samples_split=32, n_estimators=362; total time=   1.5s\n",
      "[CV] END max_depth=25, max_features=490, min_samples_split=32, n_estimators=362; total time=   1.5s\n",
      "[CV] END max_depth=24, max_features=142, min_samples_split=43, n_estimators=403; total time=   1.5s\n",
      "[CV] END max_depth=24, max_features=142, min_samples_split=43, n_estimators=403; total time=   1.5s\n",
      "[CV] END max_depth=24, max_features=142, min_samples_split=43, n_estimators=403; total time=   1.5s\n",
      "[CV] END max_depth=24, max_features=142, min_samples_split=43, n_estimators=403; total time=   1.5s\n",
      "[CV] END max_depth=24, max_features=142, min_samples_split=43, n_estimators=403; total time=   1.4s\n",
      "[CV] END max_depth=9, max_features=320, min_samples_split=24, n_estimators=323; total time=   1.4s\n",
      "[CV] END max_depth=9, max_features=320, min_samples_split=24, n_estimators=323; total time=   1.4s\n",
      "[CV] END max_depth=9, max_features=320, min_samples_split=24, n_estimators=323; total time=   1.4s\n",
      "[CV] END max_depth=9, max_features=320, min_samples_split=24, n_estimators=323; total time=   1.4s\n",
      "[CV] END max_depth=9, max_features=320, min_samples_split=24, n_estimators=323; total time=   1.4s\n",
      "[CV] END max_depth=3, max_features=385, min_samples_split=19, n_estimators=274; total time=   0.9s\n",
      "[CV] END max_depth=3, max_features=385, min_samples_split=19, n_estimators=274; total time=   0.8s\n",
      "[CV] END max_depth=3, max_features=385, min_samples_split=19, n_estimators=274; total time=   0.8s\n",
      "[CV] END max_depth=3, max_features=385, min_samples_split=19, n_estimators=274; total time=   0.8s\n",
      "[CV] END max_depth=3, max_features=385, min_samples_split=19, n_estimators=274; total time=   0.9s\n",
      "[CV] END max_depth=26, max_features=142, min_samples_split=49, n_estimators=131; total time=   0.6s\n",
      "[CV] END max_depth=26, max_features=142, min_samples_split=49, n_estimators=131; total time=   0.5s\n",
      "[CV] END max_depth=26, max_features=142, min_samples_split=49, n_estimators=131; total time=   0.5s\n",
      "[CV] END max_depth=26, max_features=142, min_samples_split=49, n_estimators=131; total time=   0.5s\n",
      "[CV] END max_depth=26, max_features=142, min_samples_split=49, n_estimators=131; total time=   0.5s\n",
      "[CV] END max_depth=10, max_features=31, min_samples_split=9, n_estimators=397; total time=   1.0s\n",
      "[CV] END max_depth=10, max_features=31, min_samples_split=9, n_estimators=397; total time=   1.0s\n",
      "[CV] END max_depth=10, max_features=31, min_samples_split=9, n_estimators=397; total time=   1.0s\n",
      "[CV] END max_depth=10, max_features=31, min_samples_split=9, n_estimators=397; total time=   1.0s\n",
      "[CV] END max_depth=10, max_features=31, min_samples_split=9, n_estimators=397; total time=   1.0s\n",
      "[CV] END max_depth=8, max_features=406, min_samples_split=5, n_estimators=462; total time=   2.8s\n",
      "[CV] END max_depth=8, max_features=406, min_samples_split=5, n_estimators=462; total time=   4.4s\n",
      "[CV] END max_depth=8, max_features=406, min_samples_split=5, n_estimators=462; total time=   4.7s\n",
      "[CV] END max_depth=8, max_features=406, min_samples_split=5, n_estimators=462; total time=   5.0s\n",
      "[CV] END max_depth=8, max_features=406, min_samples_split=5, n_estimators=462; total time=   4.2s\n",
      "[CV] END max_depth=26, max_features=498, min_samples_split=45, n_estimators=86; total time=   0.7s\n",
      "[CV] END max_depth=26, max_features=498, min_samples_split=45, n_estimators=86; total time=   0.7s\n",
      "[CV] END max_depth=26, max_features=498, min_samples_split=45, n_estimators=86; total time=   0.8s\n",
      "[CV] END max_depth=26, max_features=498, min_samples_split=45, n_estimators=86; total time=   0.9s\n",
      "[CV] END max_depth=26, max_features=498, min_samples_split=45, n_estimators=86; total time=   0.7s\n",
      "[CV] END max_depth=28, max_features=309, min_samples_split=18, n_estimators=119; total time=   1.1s\n",
      "[CV] END max_depth=28, max_features=309, min_samples_split=18, n_estimators=119; total time=   1.2s\n",
      "[CV] END max_depth=28, max_features=309, min_samples_split=18, n_estimators=119; total time=   1.1s\n",
      "[CV] END max_depth=28, max_features=309, min_samples_split=18, n_estimators=119; total time=   1.2s\n",
      "[CV] END max_depth=28, max_features=309, min_samples_split=18, n_estimators=119; total time=   1.2s\n",
      "[CV] END max_depth=43, max_features=467, min_samples_split=17, n_estimators=74; total time=   0.8s\n",
      "[CV] END max_depth=43, max_features=467, min_samples_split=17, n_estimators=74; total time=   0.8s\n",
      "[CV] END max_depth=43, max_features=467, min_samples_split=17, n_estimators=74; total time=   0.9s\n"
     ]
    },
    {
     "name": "stdout",
     "output_type": "stream",
     "text": [
      "[CV] END max_depth=43, max_features=467, min_samples_split=17, n_estimators=74; total time=   0.8s\n",
      "[CV] END max_depth=43, max_features=467, min_samples_split=17, n_estimators=74; total time=   0.7s\n",
      "[CV] END max_depth=6, max_features=26, min_samples_split=49, n_estimators=236; total time=   0.7s\n",
      "[CV] END max_depth=6, max_features=26, min_samples_split=49, n_estimators=236; total time=   0.7s\n",
      "[CV] END max_depth=6, max_features=26, min_samples_split=49, n_estimators=236; total time=   0.6s\n",
      "[CV] END max_depth=6, max_features=26, min_samples_split=49, n_estimators=236; total time=   0.4s\n",
      "[CV] END max_depth=6, max_features=26, min_samples_split=49, n_estimators=236; total time=   0.5s\n",
      "[CV] END max_depth=25, max_features=392, min_samples_split=28, n_estimators=163; total time=   0.6s\n",
      "[CV] END max_depth=25, max_features=392, min_samples_split=28, n_estimators=163; total time=   0.6s\n",
      "[CV] END max_depth=25, max_features=392, min_samples_split=28, n_estimators=163; total time=   0.6s\n",
      "[CV] END max_depth=25, max_features=392, min_samples_split=28, n_estimators=163; total time=   0.6s\n",
      "[CV] END max_depth=25, max_features=392, min_samples_split=28, n_estimators=163; total time=   0.6s\n",
      "[CV] END max_depth=42, max_features=23, min_samples_split=11, n_estimators=205; total time=   0.4s\n",
      "[CV] END max_depth=42, max_features=23, min_samples_split=11, n_estimators=205; total time=   0.4s\n",
      "[CV] END max_depth=42, max_features=23, min_samples_split=11, n_estimators=205; total time=   0.4s\n",
      "[CV] END max_depth=42, max_features=23, min_samples_split=11, n_estimators=205; total time=   0.4s\n",
      "[CV] END max_depth=42, max_features=23, min_samples_split=11, n_estimators=205; total time=   0.4s\n",
      "[CV] END max_depth=41, max_features=127, min_samples_split=25, n_estimators=391; total time=   1.6s\n",
      "[CV] END max_depth=41, max_features=127, min_samples_split=25, n_estimators=391; total time=   1.5s\n",
      "[CV] END max_depth=41, max_features=127, min_samples_split=25, n_estimators=391; total time=   1.5s\n",
      "[CV] END max_depth=41, max_features=127, min_samples_split=25, n_estimators=391; total time=   1.5s\n",
      "[CV] END max_depth=41, max_features=127, min_samples_split=25, n_estimators=391; total time=   1.6s\n",
      "[CV] END max_depth=38, max_features=156, min_samples_split=39, n_estimators=323; total time=   1.1s\n",
      "[CV] END max_depth=38, max_features=156, min_samples_split=39, n_estimators=323; total time=   1.1s\n",
      "[CV] END max_depth=38, max_features=156, min_samples_split=39, n_estimators=323; total time=   1.2s\n",
      "[CV] END max_depth=38, max_features=156, min_samples_split=39, n_estimators=323; total time=   1.2s\n",
      "[CV] END max_depth=38, max_features=156, min_samples_split=39, n_estimators=323; total time=   1.1s\n",
      "[CV] END max_depth=21, max_features=167, min_samples_split=10, n_estimators=298; total time=   1.4s\n",
      "[CV] END max_depth=21, max_features=167, min_samples_split=10, n_estimators=298; total time=   1.4s\n",
      "[CV] END max_depth=21, max_features=167, min_samples_split=10, n_estimators=298; total time=   1.4s\n",
      "[CV] END max_depth=21, max_features=167, min_samples_split=10, n_estimators=298; total time=   1.4s\n",
      "[CV] END max_depth=21, max_features=167, min_samples_split=10, n_estimators=298; total time=   1.4s\n",
      "[CV] END max_depth=36, max_features=267, min_samples_split=25, n_estimators=153; total time=   0.6s\n",
      "[CV] END max_depth=36, max_features=267, min_samples_split=25, n_estimators=153; total time=   0.7s\n",
      "[CV] END max_depth=36, max_features=267, min_samples_split=25, n_estimators=153; total time=   0.6s\n",
      "[CV] END max_depth=36, max_features=267, min_samples_split=25, n_estimators=153; total time=   0.7s\n",
      "[CV] END max_depth=36, max_features=267, min_samples_split=25, n_estimators=153; total time=   0.7s\n",
      "[CV] END max_depth=49, max_features=88, min_samples_split=27, n_estimators=465; total time=   2.2s\n",
      "[CV] END max_depth=49, max_features=88, min_samples_split=27, n_estimators=465; total time=   2.1s\n",
      "[CV] END max_depth=49, max_features=88, min_samples_split=27, n_estimators=465; total time=   2.1s\n",
      "[CV] END max_depth=49, max_features=88, min_samples_split=27, n_estimators=465; total time=   2.1s\n",
      "[CV] END max_depth=49, max_features=88, min_samples_split=27, n_estimators=465; total time=   2.1s\n",
      "[CV] END max_depth=30, max_features=75, min_samples_split=48, n_estimators=426; total time=   1.5s\n",
      "[CV] END max_depth=30, max_features=75, min_samples_split=48, n_estimators=426; total time=   1.7s\n",
      "[CV] END max_depth=30, max_features=75, min_samples_split=48, n_estimators=426; total time=   3.3s\n",
      "[CV] END max_depth=30, max_features=75, min_samples_split=48, n_estimators=426; total time=   3.5s\n",
      "[CV] END max_depth=30, max_features=75, min_samples_split=48, n_estimators=426; total time=   2.9s\n",
      "[CV] END max_depth=26, max_features=152, min_samples_split=3, n_estimators=379; total time=   3.9s\n",
      "[CV] END max_depth=26, max_features=152, min_samples_split=3, n_estimators=379; total time=   4.0s\n",
      "[CV] END max_depth=26, max_features=152, min_samples_split=3, n_estimators=379; total time=   3.9s\n",
      "[CV] END max_depth=26, max_features=152, min_samples_split=3, n_estimators=379; total time=   4.0s\n",
      "[CV] END max_depth=26, max_features=152, min_samples_split=3, n_estimators=379; total time=   4.0s\n",
      "[CV] END max_depth=15, max_features=260, min_samples_split=2, n_estimators=263; total time=   2.6s\n",
      "[CV] END max_depth=15, max_features=260, min_samples_split=2, n_estimators=263; total time=   2.5s\n",
      "[CV] END max_depth=15, max_features=260, min_samples_split=2, n_estimators=263; total time=   2.0s\n",
      "[CV] END max_depth=15, max_features=260, min_samples_split=2, n_estimators=263; total time=   1.2s\n",
      "[CV] END max_depth=15, max_features=260, min_samples_split=2, n_estimators=263; total time=   1.3s\n",
      "[CV] END max_depth=15, max_features=263, min_samples_split=23, n_estimators=464; total time=   1.7s\n",
      "[CV] END max_depth=15, max_features=263, min_samples_split=23, n_estimators=464; total time=   1.8s\n",
      "[CV] END max_depth=15, max_features=263, min_samples_split=23, n_estimators=464; total time=   1.8s\n",
      "[CV] END max_depth=15, max_features=263, min_samples_split=23, n_estimators=464; total time=   1.8s\n",
      "[CV] END max_depth=15, max_features=263, min_samples_split=23, n_estimators=464; total time=   1.8s\n",
      "[CV] END max_depth=4, max_features=77, min_samples_split=29, n_estimators=159; total time=   0.5s\n",
      "[CV] END max_depth=4, max_features=77, min_samples_split=29, n_estimators=159; total time=   0.5s\n",
      "[CV] END max_depth=4, max_features=77, min_samples_split=29, n_estimators=159; total time=   0.4s\n",
      "[CV] END max_depth=4, max_features=77, min_samples_split=29, n_estimators=159; total time=   0.5s\n",
      "[CV] END max_depth=4, max_features=77, min_samples_split=29, n_estimators=159; total time=   0.5s\n",
      "[CV] END max_depth=13, max_features=264, min_samples_split=15, n_estimators=210; total time=   0.9s\n",
      "[CV] END max_depth=13, max_features=264, min_samples_split=15, n_estimators=210; total time=   0.9s\n",
      "[CV] END max_depth=13, max_features=264, min_samples_split=15, n_estimators=210; total time=   0.9s\n",
      "[CV] END max_depth=13, max_features=264, min_samples_split=15, n_estimators=210; total time=   0.9s\n",
      "[CV] END max_depth=13, max_features=264, min_samples_split=15, n_estimators=210; total time=   0.9s\n",
      "[CV] END max_depth=13, max_features=333, min_samples_split=45, n_estimators=30; total time=   0.1s\n",
      "[CV] END max_depth=13, max_features=333, min_samples_split=45, n_estimators=30; total time=   0.1s\n",
      "[CV] END max_depth=13, max_features=333, min_samples_split=45, n_estimators=30; total time=   0.1s\n",
      "[CV] END max_depth=13, max_features=333, min_samples_split=45, n_estimators=30; total time=   0.2s\n",
      "[CV] END max_depth=13, max_features=333, min_samples_split=45, n_estimators=30; total time=   0.1s\n",
      "[CV] END max_depth=32, max_features=37, min_samples_split=41, n_estimators=273; total time=   0.6s\n",
      "[CV] END max_depth=32, max_features=37, min_samples_split=41, n_estimators=273; total time=   0.6s\n",
      "[CV] END max_depth=32, max_features=37, min_samples_split=41, n_estimators=273; total time=   0.6s\n",
      "[CV] END max_depth=32, max_features=37, min_samples_split=41, n_estimators=273; total time=   0.6s\n",
      "[CV] END max_depth=32, max_features=37, min_samples_split=41, n_estimators=273; total time=   0.6s\n",
      "[CV] END max_depth=47, max_features=453, min_samples_split=20, n_estimators=106; total time=   0.5s\n"
     ]
    },
    {
     "name": "stdout",
     "output_type": "stream",
     "text": [
      "[CV] END max_depth=47, max_features=453, min_samples_split=20, n_estimators=106; total time=   0.5s\n",
      "[CV] END max_depth=47, max_features=453, min_samples_split=20, n_estimators=106; total time=   0.5s\n",
      "[CV] END max_depth=47, max_features=453, min_samples_split=20, n_estimators=106; total time=   0.5s\n",
      "[CV] END max_depth=47, max_features=453, min_samples_split=20, n_estimators=106; total time=   0.5s\n",
      "[CV] END max_depth=15, max_features=11, min_samples_split=25, n_estimators=390; total time=   0.6s\n",
      "[CV] END max_depth=15, max_features=11, min_samples_split=25, n_estimators=390; total time=   0.6s\n",
      "[CV] END max_depth=15, max_features=11, min_samples_split=25, n_estimators=390; total time=   0.6s\n",
      "[CV] END max_depth=15, max_features=11, min_samples_split=25, n_estimators=390; total time=   0.6s\n",
      "[CV] END max_depth=15, max_features=11, min_samples_split=25, n_estimators=390; total time=   0.6s\n",
      "[CV] END max_depth=19, max_features=392, min_samples_split=26, n_estimators=212; total time=   0.9s\n",
      "[CV] END max_depth=19, max_features=392, min_samples_split=26, n_estimators=212; total time=   0.9s\n",
      "[CV] END max_depth=19, max_features=392, min_samples_split=26, n_estimators=212; total time=   0.9s\n",
      "[CV] END max_depth=19, max_features=392, min_samples_split=26, n_estimators=212; total time=   0.9s\n",
      "[CV] END max_depth=19, max_features=392, min_samples_split=26, n_estimators=212; total time=   0.9s\n",
      "[CV] END max_depth=30, max_features=149, min_samples_split=34, n_estimators=150; total time=   0.6s\n",
      "[CV] END max_depth=30, max_features=149, min_samples_split=34, n_estimators=150; total time=   0.6s\n",
      "[CV] END max_depth=30, max_features=149, min_samples_split=34, n_estimators=150; total time=   0.6s\n",
      "[CV] END max_depth=30, max_features=149, min_samples_split=34, n_estimators=150; total time=   0.6s\n",
      "[CV] END max_depth=30, max_features=149, min_samples_split=34, n_estimators=150; total time=   0.6s\n",
      "[CV] END max_depth=3, max_features=95, min_samples_split=43, n_estimators=162; total time=   0.5s\n",
      "[CV] END max_depth=3, max_features=95, min_samples_split=43, n_estimators=162; total time=   0.5s\n",
      "[CV] END max_depth=3, max_features=95, min_samples_split=43, n_estimators=162; total time=   0.5s\n",
      "[CV] END max_depth=3, max_features=95, min_samples_split=43, n_estimators=162; total time=   0.5s\n",
      "[CV] END max_depth=3, max_features=95, min_samples_split=43, n_estimators=162; total time=   0.5s\n",
      "[CV] END max_depth=20, max_features=372, min_samples_split=35, n_estimators=140; total time=   0.5s\n",
      "[CV] END max_depth=20, max_features=372, min_samples_split=35, n_estimators=140; total time=   0.5s\n",
      "[CV] END max_depth=20, max_features=372, min_samples_split=35, n_estimators=140; total time=   0.6s\n",
      "[CV] END max_depth=20, max_features=372, min_samples_split=35, n_estimators=140; total time=   0.9s\n",
      "[CV] END max_depth=20, max_features=372, min_samples_split=35, n_estimators=140; total time=   0.9s\n",
      "[CV] END max_depth=46, max_features=221, min_samples_split=41, n_estimators=364; total time=   2.5s\n",
      "[CV] END max_depth=46, max_features=221, min_samples_split=41, n_estimators=364; total time=   2.7s\n",
      "[CV] END max_depth=46, max_features=221, min_samples_split=41, n_estimators=364; total time=   2.8s\n",
      "[CV] END max_depth=46, max_features=221, min_samples_split=41, n_estimators=364; total time=   2.7s\n",
      "[CV] END max_depth=46, max_features=221, min_samples_split=41, n_estimators=364; total time=   2.5s\n",
      "[CV] END max_depth=12, max_features=183, min_samples_split=34, n_estimators=499; total time=   4.0s\n",
      "[CV] END max_depth=12, max_features=183, min_samples_split=34, n_estimators=499; total time=   4.2s\n",
      "[CV] END max_depth=12, max_features=183, min_samples_split=34, n_estimators=499; total time=   4.9s\n",
      "[CV] END max_depth=12, max_features=183, min_samples_split=34, n_estimators=499; total time=   6.2s\n",
      "[CV] END max_depth=12, max_features=183, min_samples_split=34, n_estimators=499; total time=   4.8s\n",
      "[CV] END max_depth=20, max_features=471, min_samples_split=8, n_estimators=204; total time=   1.0s\n",
      "[CV] END max_depth=20, max_features=471, min_samples_split=8, n_estimators=204; total time=   0.8s\n",
      "[CV] END max_depth=20, max_features=471, min_samples_split=8, n_estimators=204; total time=   0.9s\n",
      "[CV] END max_depth=20, max_features=471, min_samples_split=8, n_estimators=204; total time=   0.9s\n",
      "[CV] END max_depth=20, max_features=471, min_samples_split=8, n_estimators=204; total time=   0.9s\n",
      "[CV] END max_depth=9, max_features=488, min_samples_split=17, n_estimators=399; total time=   1.6s\n",
      "[CV] END max_depth=9, max_features=488, min_samples_split=17, n_estimators=399; total time=   1.7s\n",
      "[CV] END max_depth=9, max_features=488, min_samples_split=17, n_estimators=399; total time=   1.6s\n",
      "[CV] END max_depth=9, max_features=488, min_samples_split=17, n_estimators=399; total time=   1.6s\n",
      "[CV] END max_depth=9, max_features=488, min_samples_split=17, n_estimators=399; total time=   1.7s\n",
      "[CV] END max_depth=19, max_features=171, min_samples_split=22, n_estimators=128; total time=   0.6s\n",
      "[CV] END max_depth=19, max_features=171, min_samples_split=22, n_estimators=128; total time=   0.5s\n",
      "[CV] END max_depth=19, max_features=171, min_samples_split=22, n_estimators=128; total time=   0.6s\n",
      "[CV] END max_depth=19, max_features=171, min_samples_split=22, n_estimators=128; total time=   0.6s\n",
      "[CV] END max_depth=19, max_features=171, min_samples_split=22, n_estimators=128; total time=   0.5s\n",
      "[CV] END max_depth=24, max_features=486, min_samples_split=15, n_estimators=124; total time=   0.6s\n",
      "[CV] END max_depth=24, max_features=486, min_samples_split=15, n_estimators=124; total time=   0.6s\n",
      "[CV] END max_depth=24, max_features=486, min_samples_split=15, n_estimators=124; total time=   0.6s\n",
      "[CV] END max_depth=24, max_features=486, min_samples_split=15, n_estimators=124; total time=   0.6s\n",
      "[CV] END max_depth=24, max_features=486, min_samples_split=15, n_estimators=124; total time=   0.5s\n",
      "[CV] END max_depth=35, max_features=182, min_samples_split=22, n_estimators=20; total time=   0.1s\n",
      "[CV] END max_depth=35, max_features=182, min_samples_split=22, n_estimators=20; total time=   0.1s\n",
      "[CV] END max_depth=35, max_features=182, min_samples_split=22, n_estimators=20; total time=   0.1s\n",
      "[CV] END max_depth=35, max_features=182, min_samples_split=22, n_estimators=20; total time=   0.1s\n",
      "[CV] END max_depth=35, max_features=182, min_samples_split=22, n_estimators=20; total time=   0.1s\n",
      "[CV] END max_depth=34, max_features=184, min_samples_split=27, n_estimators=415; total time=   1.9s\n",
      "[CV] END max_depth=34, max_features=184, min_samples_split=27, n_estimators=415; total time=   1.7s\n",
      "[CV] END max_depth=34, max_features=184, min_samples_split=27, n_estimators=415; total time=   1.7s\n",
      "[CV] END max_depth=34, max_features=184, min_samples_split=27, n_estimators=415; total time=   1.7s\n",
      "[CV] END max_depth=34, max_features=184, min_samples_split=27, n_estimators=415; total time=   1.9s\n",
      "[CV] END max_depth=41, max_features=97, min_samples_split=21, n_estimators=35; total time=   0.2s\n",
      "[CV] END max_depth=41, max_features=97, min_samples_split=21, n_estimators=35; total time=   0.2s\n",
      "[CV] END max_depth=41, max_features=97, min_samples_split=21, n_estimators=35; total time=   0.2s\n",
      "[CV] END max_depth=41, max_features=97, min_samples_split=21, n_estimators=35; total time=   0.2s\n",
      "[CV] END max_depth=41, max_features=97, min_samples_split=21, n_estimators=35; total time=   0.2s\n",
      "[CV] END max_depth=16, max_features=142, min_samples_split=22, n_estimators=126; total time=   0.6s\n",
      "[CV] END max_depth=16, max_features=142, min_samples_split=22, n_estimators=126; total time=   0.6s\n",
      "[CV] END max_depth=16, max_features=142, min_samples_split=22, n_estimators=126; total time=   0.6s\n",
      "[CV] END max_depth=16, max_features=142, min_samples_split=22, n_estimators=126; total time=   0.8s\n",
      "[CV] END max_depth=16, max_features=142, min_samples_split=22, n_estimators=126; total time=   0.8s\n",
      "[CV] END max_depth=45, max_features=135, min_samples_split=15, n_estimators=194; total time=   1.4s\n",
      "[CV] END max_depth=45, max_features=135, min_samples_split=15, n_estimators=194; total time=   1.2s\n",
      "[CV] END max_depth=45, max_features=135, min_samples_split=15, n_estimators=194; total time=   1.2s\n",
      "[CV] END max_depth=45, max_features=135, min_samples_split=15, n_estimators=194; total time=   1.3s\n"
     ]
    },
    {
     "name": "stdout",
     "output_type": "stream",
     "text": [
      "[CV] END max_depth=45, max_features=135, min_samples_split=15, n_estimators=194; total time=   1.1s\n"
     ]
    }
   ],
   "source": [
    "model = RandomForestClassifier(n_jobs =-1)  \n",
    "model_parameters = { 'n_estimators': randint(10,500),\n",
    "                    'max_features': randint(1,500),\n",
    "                    'max_depth' : randint(2,50),\n",
    "                    'min_samples_split':randint(2, 50), \n",
    "                   }\n",
    "random_search= RandomizedSearchCV(model, model_parameters, n_iter=50, cv=5, random_state=1, verbose=2)\n",
    "\n",
    "model =random_search.fit(X_train, y_train)"
   ]
  },
  {
   "cell_type": "code",
   "execution_count": 32,
   "id": "f56162ac",
   "metadata": {},
   "outputs": [
    {
     "data": {
      "text/plain": [
       "{'max_depth': 10,\n",
       " 'max_features': 31,\n",
       " 'min_samples_split': 9,\n",
       " 'n_estimators': 397}"
      ]
     },
     "execution_count": 32,
     "metadata": {},
     "output_type": "execute_result"
    }
   ],
   "source": [
    "random_search.best_params_"
   ]
  },
  {
   "cell_type": "code",
   "execution_count": 33,
   "id": "3b10d077",
   "metadata": {},
   "outputs": [
    {
     "name": "stdout",
     "output_type": "stream",
     "text": [
      "              precision    recall  f1-score   support\n",
      "\n",
      "      hiphop       1.00      1.00      1.00        62\n",
      "   classical       1.00      1.00      1.00        75\n",
      "       blues       1.00      1.00      1.00        60\n",
      "       metal       1.00      1.00      1.00        58\n",
      "        jazz       1.00      1.00      1.00        66\n",
      "     country       1.00      0.98      0.99        56\n",
      "         pop       0.99      1.00      0.99        75\n",
      "        rock       1.00      1.00      1.00        68\n",
      "       disco       1.00      1.00      1.00        67\n",
      "      reggae       1.00      1.00      1.00        62\n",
      "\n",
      "    accuracy                           1.00       649\n",
      "   macro avg       1.00      1.00      1.00       649\n",
      "weighted avg       1.00      1.00      1.00       649\n",
      "\n"
     ]
    }
   ],
   "source": [
    "model_16 = RandomForestClassifier(n_estimators=397, max_depth=10, max_features=31, min_samples_split=9)  \n",
    "model_16.fit(X_train, y_train)\n",
    "preds_16 = model_16.predict(X_train)\n",
    "y_true = y_train\n",
    "y_pred = preds_16\n",
    "target_names = ['hiphop', 'classical', 'blues', 'metal', 'jazz', 'country', 'pop', 'rock', 'disco', 'reggae']\n",
    "print(classification_report(y_true, y_pred, target_names=target_names))"
   ]
  },
  {
   "cell_type": "markdown",
   "id": "6b390fd2",
   "metadata": {},
   "source": [
    "# The models below are overfitting."
   ]
  },
  {
   "cell_type": "code",
   "execution_count": 19,
   "id": "8da7497f",
   "metadata": {},
   "outputs": [
    {
     "name": "stdout",
     "output_type": "stream",
     "text": [
      "              precision    recall  f1-score   support\n",
      "\n",
      "      hiphop       0.68      0.62      0.65        21\n",
      "   classical       0.86      1.00      0.92        12\n",
      "       blues       0.61      0.58      0.60        24\n",
      "       metal       0.81      0.77      0.79        22\n",
      "        jazz       0.80      0.80      0.80        15\n",
      "     country       0.80      0.44      0.57        27\n",
      "         pop       0.77      0.94      0.85        18\n",
      "        rock       0.46      0.63      0.53        19\n",
      "       disco       0.70      0.73      0.71        22\n",
      "      reggae       0.45      0.50      0.48        20\n",
      "\n",
      "    accuracy                           0.68       200\n",
      "   macro avg       0.69      0.70      0.69       200\n",
      "weighted avg       0.69      0.68      0.67       200\n",
      "\n"
     ]
    }
   ],
   "source": [
    "#Using the recommended best paramters to create a new model\n",
    "model_2 = RandomForestClassifier(n_estimators=300)  \n",
    "model_2.fit(X_train, y_train)\n",
    "preds_2 = model_2.predict(X_test)\n",
    "y_true = y_test\n",
    "y_pred = preds_2\n",
    "target_names = ['hiphop', 'classical', 'blues', 'metal', 'jazz', 'country', 'pop', 'rock', 'disco', 'reggae']\n",
    "print(classification_report(y_true, y_pred, target_names=target_names))"
   ]
  },
  {
   "cell_type": "code",
   "execution_count": 20,
   "id": "d5441104",
   "metadata": {},
   "outputs": [
    {
     "data": {
      "text/plain": [
       "0.011385175733098829"
      ]
     },
     "execution_count": 20,
     "metadata": {},
     "output_type": "execute_result"
    }
   ],
   "source": [
    "r2_score(y_true, preds_2)"
   ]
  },
  {
   "cell_type": "code",
   "execution_count": 22,
   "id": "5f3dbd8b",
   "metadata": {},
   "outputs": [
    {
     "name": "stdout",
     "output_type": "stream",
     "text": [
      "{'bootstrap': True, 'ccp_alpha': 0.0, 'class_weight': None, 'criterion': 'gini', 'max_depth': None, 'max_features': 'sqrt', 'max_leaf_nodes': None, 'max_samples': None, 'min_impurity_decrease': 0.0, 'min_samples_leaf': 1, 'min_samples_split': 2, 'min_weight_fraction_leaf': 0.0, 'n_estimators': 300, 'n_jobs': None, 'oob_score': False, 'random_state': None, 'verbose': 0, 'warm_start': False}\n"
     ]
    }
   ],
   "source": [
    "print(model_2.get_params())"
   ]
  },
  {
   "cell_type": "code",
   "execution_count": 25,
   "id": "81336cfa",
   "metadata": {},
   "outputs": [
    {
     "name": "stdout",
     "output_type": "stream",
     "text": [
      "Fitting 5 folds for each of 50 candidates, totalling 250 fits\n",
      "[CV] END bootstrap=True, max_features=sqrt, n_estimators=237, oob_score=True; total time=   1.1s\n",
      "[CV] END bootstrap=True, max_features=sqrt, n_estimators=237, oob_score=True; total time=   1.1s\n",
      "[CV] END bootstrap=True, max_features=sqrt, n_estimators=237, oob_score=True; total time=   1.1s\n",
      "[CV] END bootstrap=True, max_features=sqrt, n_estimators=237, oob_score=True; total time=   1.1s\n",
      "[CV] END bootstrap=True, max_features=sqrt, n_estimators=237, oob_score=True; total time=   1.1s\n"
     ]
    },
    {
     "name": "stderr",
     "output_type": "stream",
     "text": [
      "/root/.pyenv/versions/3.8.12/envs/mcats/lib/python3.8/site-packages/sklearn/ensemble/_forest.py:424: FutureWarning: `max_features='auto'` has been deprecated in 1.1 and will be removed in 1.3. To keep the past behaviour, explicitly set `max_features='sqrt'` or remove this parameter as it is also the default value for RandomForestClassifiers and ExtraTreesClassifiers.\n",
      "  warn(\n"
     ]
    },
    {
     "name": "stdout",
     "output_type": "stream",
     "text": [
      "[CV] END bootstrap=True, max_features=auto, n_estimators=74, oob_score=True; total time=   0.4s\n"
     ]
    },
    {
     "name": "stderr",
     "output_type": "stream",
     "text": [
      "/root/.pyenv/versions/3.8.12/envs/mcats/lib/python3.8/site-packages/sklearn/ensemble/_forest.py:424: FutureWarning: `max_features='auto'` has been deprecated in 1.1 and will be removed in 1.3. To keep the past behaviour, explicitly set `max_features='sqrt'` or remove this parameter as it is also the default value for RandomForestClassifiers and ExtraTreesClassifiers.\n",
      "  warn(\n"
     ]
    },
    {
     "name": "stdout",
     "output_type": "stream",
     "text": [
      "[CV] END bootstrap=True, max_features=auto, n_estimators=74, oob_score=True; total time=   0.4s\n"
     ]
    },
    {
     "name": "stderr",
     "output_type": "stream",
     "text": [
      "/root/.pyenv/versions/3.8.12/envs/mcats/lib/python3.8/site-packages/sklearn/ensemble/_forest.py:424: FutureWarning: `max_features='auto'` has been deprecated in 1.1 and will be removed in 1.3. To keep the past behaviour, explicitly set `max_features='sqrt'` or remove this parameter as it is also the default value for RandomForestClassifiers and ExtraTreesClassifiers.\n",
      "  warn(\n"
     ]
    },
    {
     "name": "stdout",
     "output_type": "stream",
     "text": [
      "[CV] END bootstrap=True, max_features=auto, n_estimators=74, oob_score=True; total time=   0.4s\n"
     ]
    },
    {
     "name": "stderr",
     "output_type": "stream",
     "text": [
      "/root/.pyenv/versions/3.8.12/envs/mcats/lib/python3.8/site-packages/sklearn/ensemble/_forest.py:424: FutureWarning: `max_features='auto'` has been deprecated in 1.1 and will be removed in 1.3. To keep the past behaviour, explicitly set `max_features='sqrt'` or remove this parameter as it is also the default value for RandomForestClassifiers and ExtraTreesClassifiers.\n",
      "  warn(\n"
     ]
    },
    {
     "name": "stdout",
     "output_type": "stream",
     "text": [
      "[CV] END bootstrap=True, max_features=auto, n_estimators=74, oob_score=True; total time=   0.4s\n"
     ]
    },
    {
     "name": "stderr",
     "output_type": "stream",
     "text": [
      "/root/.pyenv/versions/3.8.12/envs/mcats/lib/python3.8/site-packages/sklearn/ensemble/_forest.py:424: FutureWarning: `max_features='auto'` has been deprecated in 1.1 and will be removed in 1.3. To keep the past behaviour, explicitly set `max_features='sqrt'` or remove this parameter as it is also the default value for RandomForestClassifiers and ExtraTreesClassifiers.\n",
      "  warn(\n"
     ]
    },
    {
     "name": "stdout",
     "output_type": "stream",
     "text": [
      "[CV] END bootstrap=True, max_features=auto, n_estimators=74, oob_score=True; total time=   0.4s\n",
      "[CV] END bootstrap=True, max_features=sqrt, n_estimators=395, oob_score=True; total time=   1.8s\n",
      "[CV] END bootstrap=True, max_features=sqrt, n_estimators=395, oob_score=True; total time=   1.8s\n",
      "[CV] END bootstrap=True, max_features=sqrt, n_estimators=395, oob_score=True; total time=   1.8s\n",
      "[CV] END bootstrap=True, max_features=sqrt, n_estimators=395, oob_score=True; total time=   1.8s\n",
      "[CV] END bootstrap=True, max_features=sqrt, n_estimators=395, oob_score=True; total time=   1.8s\n",
      "[CV] END bootstrap=True, max_features=sqrt, n_estimators=135, oob_score=True; total time=   0.6s\n",
      "[CV] END bootstrap=True, max_features=sqrt, n_estimators=135, oob_score=True; total time=   0.6s\n",
      "[CV] END bootstrap=True, max_features=sqrt, n_estimators=135, oob_score=True; total time=   0.6s\n",
      "[CV] END bootstrap=True, max_features=sqrt, n_estimators=135, oob_score=True; total time=   0.6s\n",
      "[CV] END bootstrap=True, max_features=sqrt, n_estimators=135, oob_score=True; total time=   0.6s\n",
      "[CV] END bootstrap=True, max_features=sqrt, n_estimators=450, oob_score=True; total time=   2.1s\n",
      "[CV] END bootstrap=True, max_features=sqrt, n_estimators=450, oob_score=True; total time=   2.1s\n",
      "[CV] END bootstrap=True, max_features=sqrt, n_estimators=450, oob_score=True; total time=   2.1s\n",
      "[CV] END bootstrap=True, max_features=sqrt, n_estimators=450, oob_score=True; total time=   2.1s\n",
      "[CV] END bootstrap=True, max_features=sqrt, n_estimators=450, oob_score=True; total time=   2.0s\n"
     ]
    },
    {
     "name": "stderr",
     "output_type": "stream",
     "text": [
      "/root/.pyenv/versions/3.8.12/envs/mcats/lib/python3.8/site-packages/sklearn/ensemble/_forest.py:424: FutureWarning: `max_features='auto'` has been deprecated in 1.1 and will be removed in 1.3. To keep the past behaviour, explicitly set `max_features='sqrt'` or remove this parameter as it is also the default value for RandomForestClassifiers and ExtraTreesClassifiers.\n",
      "  warn(\n"
     ]
    },
    {
     "name": "stdout",
     "output_type": "stream",
     "text": [
      "[CV] END bootstrap=True, max_features=auto, n_estimators=131, oob_score=True; total time=   0.6s\n"
     ]
    },
    {
     "name": "stderr",
     "output_type": "stream",
     "text": [
      "/root/.pyenv/versions/3.8.12/envs/mcats/lib/python3.8/site-packages/sklearn/ensemble/_forest.py:424: FutureWarning: `max_features='auto'` has been deprecated in 1.1 and will be removed in 1.3. To keep the past behaviour, explicitly set `max_features='sqrt'` or remove this parameter as it is also the default value for RandomForestClassifiers and ExtraTreesClassifiers.\n",
      "  warn(\n"
     ]
    },
    {
     "name": "stdout",
     "output_type": "stream",
     "text": [
      "[CV] END bootstrap=True, max_features=auto, n_estimators=131, oob_score=True; total time=   0.6s\n"
     ]
    },
    {
     "name": "stderr",
     "output_type": "stream",
     "text": [
      "/root/.pyenv/versions/3.8.12/envs/mcats/lib/python3.8/site-packages/sklearn/ensemble/_forest.py:424: FutureWarning: `max_features='auto'` has been deprecated in 1.1 and will be removed in 1.3. To keep the past behaviour, explicitly set `max_features='sqrt'` or remove this parameter as it is also the default value for RandomForestClassifiers and ExtraTreesClassifiers.\n",
      "  warn(\n"
     ]
    },
    {
     "name": "stdout",
     "output_type": "stream",
     "text": [
      "[CV] END bootstrap=True, max_features=auto, n_estimators=131, oob_score=True; total time=   0.6s\n"
     ]
    },
    {
     "name": "stderr",
     "output_type": "stream",
     "text": [
      "/root/.pyenv/versions/3.8.12/envs/mcats/lib/python3.8/site-packages/sklearn/ensemble/_forest.py:424: FutureWarning: `max_features='auto'` has been deprecated in 1.1 and will be removed in 1.3. To keep the past behaviour, explicitly set `max_features='sqrt'` or remove this parameter as it is also the default value for RandomForestClassifiers and ExtraTreesClassifiers.\n",
      "  warn(\n"
     ]
    },
    {
     "name": "stdout",
     "output_type": "stream",
     "text": [
      "[CV] END bootstrap=True, max_features=auto, n_estimators=131, oob_score=True; total time=   0.7s\n"
     ]
    },
    {
     "name": "stderr",
     "output_type": "stream",
     "text": [
      "/root/.pyenv/versions/3.8.12/envs/mcats/lib/python3.8/site-packages/sklearn/ensemble/_forest.py:424: FutureWarning: `max_features='auto'` has been deprecated in 1.1 and will be removed in 1.3. To keep the past behaviour, explicitly set `max_features='sqrt'` or remove this parameter as it is also the default value for RandomForestClassifiers and ExtraTreesClassifiers.\n",
      "  warn(\n"
     ]
    },
    {
     "name": "stdout",
     "output_type": "stream",
     "text": [
      "[CV] END bootstrap=True, max_features=auto, n_estimators=131, oob_score=True; total time=   0.6s\n"
     ]
    },
    {
     "name": "stderr",
     "output_type": "stream",
     "text": [
      "/root/.pyenv/versions/3.8.12/envs/mcats/lib/python3.8/site-packages/sklearn/ensemble/_forest.py:424: FutureWarning: `max_features='auto'` has been deprecated in 1.1 and will be removed in 1.3. To keep the past behaviour, explicitly set `max_features='sqrt'` or remove this parameter as it is also the default value for RandomForestClassifiers and ExtraTreesClassifiers.\n",
      "  warn(\n"
     ]
    },
    {
     "name": "stdout",
     "output_type": "stream",
     "text": [
      "[CV] END bootstrap=True, max_features=auto, n_estimators=73, oob_score=True; total time=   0.4s\n"
     ]
    },
    {
     "name": "stderr",
     "output_type": "stream",
     "text": [
      "/root/.pyenv/versions/3.8.12/envs/mcats/lib/python3.8/site-packages/sklearn/ensemble/_forest.py:424: FutureWarning: `max_features='auto'` has been deprecated in 1.1 and will be removed in 1.3. To keep the past behaviour, explicitly set `max_features='sqrt'` or remove this parameter as it is also the default value for RandomForestClassifiers and ExtraTreesClassifiers.\n",
      "  warn(\n"
     ]
    },
    {
     "name": "stdout",
     "output_type": "stream",
     "text": [
      "[CV] END bootstrap=True, max_features=auto, n_estimators=73, oob_score=True; total time=   0.4s\n"
     ]
    },
    {
     "name": "stderr",
     "output_type": "stream",
     "text": [
      "/root/.pyenv/versions/3.8.12/envs/mcats/lib/python3.8/site-packages/sklearn/ensemble/_forest.py:424: FutureWarning: `max_features='auto'` has been deprecated in 1.1 and will be removed in 1.3. To keep the past behaviour, explicitly set `max_features='sqrt'` or remove this parameter as it is also the default value for RandomForestClassifiers and ExtraTreesClassifiers.\n",
      "  warn(\n"
     ]
    },
    {
     "name": "stdout",
     "output_type": "stream",
     "text": [
      "[CV] END bootstrap=True, max_features=auto, n_estimators=73, oob_score=True; total time=   0.3s\n"
     ]
    },
    {
     "name": "stderr",
     "output_type": "stream",
     "text": [
      "/root/.pyenv/versions/3.8.12/envs/mcats/lib/python3.8/site-packages/sklearn/ensemble/_forest.py:424: FutureWarning: `max_features='auto'` has been deprecated in 1.1 and will be removed in 1.3. To keep the past behaviour, explicitly set `max_features='sqrt'` or remove this parameter as it is also the default value for RandomForestClassifiers and ExtraTreesClassifiers.\n",
      "  warn(\n"
     ]
    },
    {
     "name": "stdout",
     "output_type": "stream",
     "text": [
      "[CV] END bootstrap=True, max_features=auto, n_estimators=73, oob_score=True; total time=   0.3s\n"
     ]
    },
    {
     "name": "stderr",
     "output_type": "stream",
     "text": [
      "/root/.pyenv/versions/3.8.12/envs/mcats/lib/python3.8/site-packages/sklearn/ensemble/_forest.py:424: FutureWarning: `max_features='auto'` has been deprecated in 1.1 and will be removed in 1.3. To keep the past behaviour, explicitly set `max_features='sqrt'` or remove this parameter as it is also the default value for RandomForestClassifiers and ExtraTreesClassifiers.\n",
      "  warn(\n"
     ]
    },
    {
     "name": "stdout",
     "output_type": "stream",
     "text": [
      "[CV] END bootstrap=True, max_features=auto, n_estimators=73, oob_score=True; total time=   0.3s\n",
      "[CV] END bootstrap=True, max_features=sqrt, n_estimators=392, oob_score=True; total time=   1.8s\n",
      "[CV] END bootstrap=True, max_features=sqrt, n_estimators=392, oob_score=True; total time=   1.9s\n",
      "[CV] END bootstrap=True, max_features=sqrt, n_estimators=392, oob_score=True; total time=   1.9s\n",
      "[CV] END bootstrap=True, max_features=sqrt, n_estimators=392, oob_score=True; total time=   1.9s\n",
      "[CV] END bootstrap=True, max_features=sqrt, n_estimators=392, oob_score=True; total time=   1.9s\n",
      "[CV] END bootstrap=True, max_features=sqrt, n_estimators=180, oob_score=True; total time=   0.8s\n",
      "[CV] END bootstrap=True, max_features=sqrt, n_estimators=180, oob_score=True; total time=   0.9s\n",
      "[CV] END bootstrap=True, max_features=sqrt, n_estimators=180, oob_score=True; total time=   0.8s\n",
      "[CV] END bootstrap=True, max_features=sqrt, n_estimators=180, oob_score=True; total time=   0.8s\n",
      "[CV] END bootstrap=True, max_features=sqrt, n_estimators=180, oob_score=True; total time=   0.8s\n"
     ]
    },
    {
     "name": "stderr",
     "output_type": "stream",
     "text": [
      "/root/.pyenv/versions/3.8.12/envs/mcats/lib/python3.8/site-packages/sklearn/ensemble/_forest.py:424: FutureWarning: `max_features='auto'` has been deprecated in 1.1 and will be removed in 1.3. To keep the past behaviour, explicitly set `max_features='sqrt'` or remove this parameter as it is also the default value for RandomForestClassifiers and ExtraTreesClassifiers.\n",
      "  warn(\n"
     ]
    },
    {
     "name": "stdout",
     "output_type": "stream",
     "text": [
      "[CV] END bootstrap=True, max_features=auto, n_estimators=256, oob_score=True; total time=   1.2s\n"
     ]
    },
    {
     "name": "stderr",
     "output_type": "stream",
     "text": [
      "/root/.pyenv/versions/3.8.12/envs/mcats/lib/python3.8/site-packages/sklearn/ensemble/_forest.py:424: FutureWarning: `max_features='auto'` has been deprecated in 1.1 and will be removed in 1.3. To keep the past behaviour, explicitly set `max_features='sqrt'` or remove this parameter as it is also the default value for RandomForestClassifiers and ExtraTreesClassifiers.\n",
      "  warn(\n"
     ]
    },
    {
     "name": "stdout",
     "output_type": "stream",
     "text": [
      "[CV] END bootstrap=True, max_features=auto, n_estimators=256, oob_score=True; total time=   1.2s\n"
     ]
    },
    {
     "name": "stderr",
     "output_type": "stream",
     "text": [
      "/root/.pyenv/versions/3.8.12/envs/mcats/lib/python3.8/site-packages/sklearn/ensemble/_forest.py:424: FutureWarning: `max_features='auto'` has been deprecated in 1.1 and will be removed in 1.3. To keep the past behaviour, explicitly set `max_features='sqrt'` or remove this parameter as it is also the default value for RandomForestClassifiers and ExtraTreesClassifiers.\n",
      "  warn(\n"
     ]
    },
    {
     "name": "stdout",
     "output_type": "stream",
     "text": [
      "[CV] END bootstrap=True, max_features=auto, n_estimators=256, oob_score=True; total time=   1.3s\n"
     ]
    },
    {
     "name": "stderr",
     "output_type": "stream",
     "text": [
      "/root/.pyenv/versions/3.8.12/envs/mcats/lib/python3.8/site-packages/sklearn/ensemble/_forest.py:424: FutureWarning: `max_features='auto'` has been deprecated in 1.1 and will be removed in 1.3. To keep the past behaviour, explicitly set `max_features='sqrt'` or remove this parameter as it is also the default value for RandomForestClassifiers and ExtraTreesClassifiers.\n",
      "  warn(\n"
     ]
    },
    {
     "name": "stdout",
     "output_type": "stream",
     "text": [
      "[CV] END bootstrap=True, max_features=auto, n_estimators=256, oob_score=True; total time=   1.2s\n"
     ]
    },
    {
     "name": "stderr",
     "output_type": "stream",
     "text": [
      "/root/.pyenv/versions/3.8.12/envs/mcats/lib/python3.8/site-packages/sklearn/ensemble/_forest.py:424: FutureWarning: `max_features='auto'` has been deprecated in 1.1 and will be removed in 1.3. To keep the past behaviour, explicitly set `max_features='sqrt'` or remove this parameter as it is also the default value for RandomForestClassifiers and ExtraTreesClassifiers.\n",
      "  warn(\n"
     ]
    },
    {
     "name": "stdout",
     "output_type": "stream",
     "text": [
      "[CV] END bootstrap=True, max_features=auto, n_estimators=256, oob_score=True; total time=   1.2s\n",
      "[CV] END bootstrap=True, max_features=sqrt, n_estimators=404, oob_score=True; total time=   1.9s\n",
      "[CV] END bootstrap=True, max_features=sqrt, n_estimators=404, oob_score=True; total time=   1.9s\n",
      "[CV] END bootstrap=True, max_features=sqrt, n_estimators=404, oob_score=True; total time=   1.9s\n",
      "[CV] END bootstrap=True, max_features=sqrt, n_estimators=404, oob_score=True; total time=   2.3s\n",
      "[CV] END bootstrap=True, max_features=sqrt, n_estimators=404, oob_score=True; total time=   1.8s\n"
     ]
    },
    {
     "name": "stderr",
     "output_type": "stream",
     "text": [
      "/root/.pyenv/versions/3.8.12/envs/mcats/lib/python3.8/site-packages/sklearn/ensemble/_forest.py:424: FutureWarning: `max_features='auto'` has been deprecated in 1.1 and will be removed in 1.3. To keep the past behaviour, explicitly set `max_features='sqrt'` or remove this parameter as it is also the default value for RandomForestClassifiers and ExtraTreesClassifiers.\n",
      "  warn(\n"
     ]
    },
    {
     "name": "stdout",
     "output_type": "stream",
     "text": [
      "[CV] END bootstrap=True, max_features=auto, n_estimators=397, oob_score=True; total time=   1.8s\n"
     ]
    },
    {
     "name": "stderr",
     "output_type": "stream",
     "text": [
      "/root/.pyenv/versions/3.8.12/envs/mcats/lib/python3.8/site-packages/sklearn/ensemble/_forest.py:424: FutureWarning: `max_features='auto'` has been deprecated in 1.1 and will be removed in 1.3. To keep the past behaviour, explicitly set `max_features='sqrt'` or remove this parameter as it is also the default value for RandomForestClassifiers and ExtraTreesClassifiers.\n",
      "  warn(\n"
     ]
    },
    {
     "name": "stdout",
     "output_type": "stream",
     "text": [
      "[CV] END bootstrap=True, max_features=auto, n_estimators=397, oob_score=True; total time=   1.9s\n"
     ]
    },
    {
     "name": "stderr",
     "output_type": "stream",
     "text": [
      "/root/.pyenv/versions/3.8.12/envs/mcats/lib/python3.8/site-packages/sklearn/ensemble/_forest.py:424: FutureWarning: `max_features='auto'` has been deprecated in 1.1 and will be removed in 1.3. To keep the past behaviour, explicitly set `max_features='sqrt'` or remove this parameter as it is also the default value for RandomForestClassifiers and ExtraTreesClassifiers.\n",
      "  warn(\n"
     ]
    },
    {
     "name": "stdout",
     "output_type": "stream",
     "text": [
      "[CV] END bootstrap=True, max_features=auto, n_estimators=397, oob_score=True; total time=   1.8s\n"
     ]
    },
    {
     "name": "stderr",
     "output_type": "stream",
     "text": [
      "/root/.pyenv/versions/3.8.12/envs/mcats/lib/python3.8/site-packages/sklearn/ensemble/_forest.py:424: FutureWarning: `max_features='auto'` has been deprecated in 1.1 and will be removed in 1.3. To keep the past behaviour, explicitly set `max_features='sqrt'` or remove this parameter as it is also the default value for RandomForestClassifiers and ExtraTreesClassifiers.\n",
      "  warn(\n"
     ]
    },
    {
     "name": "stdout",
     "output_type": "stream",
     "text": [
      "[CV] END bootstrap=True, max_features=auto, n_estimators=397, oob_score=True; total time=   1.9s\n"
     ]
    },
    {
     "name": "stderr",
     "output_type": "stream",
     "text": [
      "/root/.pyenv/versions/3.8.12/envs/mcats/lib/python3.8/site-packages/sklearn/ensemble/_forest.py:424: FutureWarning: `max_features='auto'` has been deprecated in 1.1 and will be removed in 1.3. To keep the past behaviour, explicitly set `max_features='sqrt'` or remove this parameter as it is also the default value for RandomForestClassifiers and ExtraTreesClassifiers.\n",
      "  warn(\n"
     ]
    },
    {
     "name": "stdout",
     "output_type": "stream",
     "text": [
      "[CV] END bootstrap=True, max_features=auto, n_estimators=397, oob_score=True; total time=   1.8s\n"
     ]
    },
    {
     "name": "stderr",
     "output_type": "stream",
     "text": [
      "/root/.pyenv/versions/3.8.12/envs/mcats/lib/python3.8/site-packages/sklearn/ensemble/_forest.py:424: FutureWarning: `max_features='auto'` has been deprecated in 1.1 and will be removed in 1.3. To keep the past behaviour, explicitly set `max_features='sqrt'` or remove this parameter as it is also the default value for RandomForestClassifiers and ExtraTreesClassifiers.\n",
      "  warn(\n"
     ]
    },
    {
     "name": "stdout",
     "output_type": "stream",
     "text": [
      "[CV] END bootstrap=True, max_features=auto, n_estimators=492, oob_score=True; total time=   2.3s\n"
     ]
    },
    {
     "name": "stderr",
     "output_type": "stream",
     "text": [
      "/root/.pyenv/versions/3.8.12/envs/mcats/lib/python3.8/site-packages/sklearn/ensemble/_forest.py:424: FutureWarning: `max_features='auto'` has been deprecated in 1.1 and will be removed in 1.3. To keep the past behaviour, explicitly set `max_features='sqrt'` or remove this parameter as it is also the default value for RandomForestClassifiers and ExtraTreesClassifiers.\n",
      "  warn(\n"
     ]
    },
    {
     "name": "stdout",
     "output_type": "stream",
     "text": [
      "[CV] END bootstrap=True, max_features=auto, n_estimators=492, oob_score=True; total time=   2.3s\n"
     ]
    },
    {
     "name": "stderr",
     "output_type": "stream",
     "text": [
      "/root/.pyenv/versions/3.8.12/envs/mcats/lib/python3.8/site-packages/sklearn/ensemble/_forest.py:424: FutureWarning: `max_features='auto'` has been deprecated in 1.1 and will be removed in 1.3. To keep the past behaviour, explicitly set `max_features='sqrt'` or remove this parameter as it is also the default value for RandomForestClassifiers and ExtraTreesClassifiers.\n",
      "  warn(\n"
     ]
    },
    {
     "name": "stdout",
     "output_type": "stream",
     "text": [
      "[CV] END bootstrap=True, max_features=auto, n_estimators=492, oob_score=True; total time=   2.3s\n"
     ]
    },
    {
     "name": "stderr",
     "output_type": "stream",
     "text": [
      "/root/.pyenv/versions/3.8.12/envs/mcats/lib/python3.8/site-packages/sklearn/ensemble/_forest.py:424: FutureWarning: `max_features='auto'` has been deprecated in 1.1 and will be removed in 1.3. To keep the past behaviour, explicitly set `max_features='sqrt'` or remove this parameter as it is also the default value for RandomForestClassifiers and ExtraTreesClassifiers.\n",
      "  warn(\n"
     ]
    },
    {
     "name": "stdout",
     "output_type": "stream",
     "text": [
      "[CV] END bootstrap=True, max_features=auto, n_estimators=492, oob_score=True; total time=   2.3s\n"
     ]
    },
    {
     "name": "stderr",
     "output_type": "stream",
     "text": [
      "/root/.pyenv/versions/3.8.12/envs/mcats/lib/python3.8/site-packages/sklearn/ensemble/_forest.py:424: FutureWarning: `max_features='auto'` has been deprecated in 1.1 and will be removed in 1.3. To keep the past behaviour, explicitly set `max_features='sqrt'` or remove this parameter as it is also the default value for RandomForestClassifiers and ExtraTreesClassifiers.\n",
      "  warn(\n"
     ]
    },
    {
     "name": "stdout",
     "output_type": "stream",
     "text": [
      "[CV] END bootstrap=True, max_features=auto, n_estimators=492, oob_score=True; total time=   2.3s\n"
     ]
    },
    {
     "name": "stderr",
     "output_type": "stream",
     "text": [
      "/root/.pyenv/versions/3.8.12/envs/mcats/lib/python3.8/site-packages/sklearn/ensemble/_forest.py:424: FutureWarning: `max_features='auto'` has been deprecated in 1.1 and will be removed in 1.3. To keep the past behaviour, explicitly set `max_features='sqrt'` or remove this parameter as it is also the default value for RandomForestClassifiers and ExtraTreesClassifiers.\n",
      "  warn(\n"
     ]
    },
    {
     "name": "stdout",
     "output_type": "stream",
     "text": [
      "[CV] END bootstrap=True, max_features=auto, n_estimators=415, oob_score=True; total time=   1.9s\n"
     ]
    },
    {
     "name": "stderr",
     "output_type": "stream",
     "text": [
      "/root/.pyenv/versions/3.8.12/envs/mcats/lib/python3.8/site-packages/sklearn/ensemble/_forest.py:424: FutureWarning: `max_features='auto'` has been deprecated in 1.1 and will be removed in 1.3. To keep the past behaviour, explicitly set `max_features='sqrt'` or remove this parameter as it is also the default value for RandomForestClassifiers and ExtraTreesClassifiers.\n",
      "  warn(\n"
     ]
    },
    {
     "name": "stdout",
     "output_type": "stream",
     "text": [
      "[CV] END bootstrap=True, max_features=auto, n_estimators=415, oob_score=True; total time=   1.9s\n"
     ]
    },
    {
     "name": "stderr",
     "output_type": "stream",
     "text": [
      "/root/.pyenv/versions/3.8.12/envs/mcats/lib/python3.8/site-packages/sklearn/ensemble/_forest.py:424: FutureWarning: `max_features='auto'` has been deprecated in 1.1 and will be removed in 1.3. To keep the past behaviour, explicitly set `max_features='sqrt'` or remove this parameter as it is also the default value for RandomForestClassifiers and ExtraTreesClassifiers.\n",
      "  warn(\n"
     ]
    },
    {
     "name": "stdout",
     "output_type": "stream",
     "text": [
      "[CV] END bootstrap=True, max_features=auto, n_estimators=415, oob_score=True; total time=   1.9s\n"
     ]
    },
    {
     "name": "stderr",
     "output_type": "stream",
     "text": [
      "/root/.pyenv/versions/3.8.12/envs/mcats/lib/python3.8/site-packages/sklearn/ensemble/_forest.py:424: FutureWarning: `max_features='auto'` has been deprecated in 1.1 and will be removed in 1.3. To keep the past behaviour, explicitly set `max_features='sqrt'` or remove this parameter as it is also the default value for RandomForestClassifiers and ExtraTreesClassifiers.\n",
      "  warn(\n"
     ]
    },
    {
     "name": "stdout",
     "output_type": "stream",
     "text": [
      "[CV] END bootstrap=True, max_features=auto, n_estimators=415, oob_score=True; total time=   2.2s\n"
     ]
    },
    {
     "name": "stderr",
     "output_type": "stream",
     "text": [
      "/root/.pyenv/versions/3.8.12/envs/mcats/lib/python3.8/site-packages/sklearn/ensemble/_forest.py:424: FutureWarning: `max_features='auto'` has been deprecated in 1.1 and will be removed in 1.3. To keep the past behaviour, explicitly set `max_features='sqrt'` or remove this parameter as it is also the default value for RandomForestClassifiers and ExtraTreesClassifiers.\n",
      "  warn(\n"
     ]
    },
    {
     "name": "stdout",
     "output_type": "stream",
     "text": [
      "[CV] END bootstrap=True, max_features=auto, n_estimators=415, oob_score=True; total time=   2.2s\n"
     ]
    },
    {
     "name": "stderr",
     "output_type": "stream",
     "text": [
      "/root/.pyenv/versions/3.8.12/envs/mcats/lib/python3.8/site-packages/sklearn/ensemble/_forest.py:424: FutureWarning: `max_features='auto'` has been deprecated in 1.1 and will be removed in 1.3. To keep the past behaviour, explicitly set `max_features='sqrt'` or remove this parameter as it is also the default value for RandomForestClassifiers and ExtraTreesClassifiers.\n",
      "  warn(\n"
     ]
    },
    {
     "name": "stdout",
     "output_type": "stream",
     "text": [
      "[CV] END bootstrap=True, max_features=auto, n_estimators=52, oob_score=True; total time=   0.3s\n"
     ]
    },
    {
     "name": "stderr",
     "output_type": "stream",
     "text": [
      "/root/.pyenv/versions/3.8.12/envs/mcats/lib/python3.8/site-packages/sklearn/ensemble/_forest.py:424: FutureWarning: `max_features='auto'` has been deprecated in 1.1 and will be removed in 1.3. To keep the past behaviour, explicitly set `max_features='sqrt'` or remove this parameter as it is also the default value for RandomForestClassifiers and ExtraTreesClassifiers.\n",
      "  warn(\n"
     ]
    },
    {
     "name": "stdout",
     "output_type": "stream",
     "text": [
      "[CV] END bootstrap=True, max_features=auto, n_estimators=52, oob_score=True; total time=   0.3s\n"
     ]
    },
    {
     "name": "stderr",
     "output_type": "stream",
     "text": [
      "/root/.pyenv/versions/3.8.12/envs/mcats/lib/python3.8/site-packages/sklearn/ensemble/_forest.py:424: FutureWarning: `max_features='auto'` has been deprecated in 1.1 and will be removed in 1.3. To keep the past behaviour, explicitly set `max_features='sqrt'` or remove this parameter as it is also the default value for RandomForestClassifiers and ExtraTreesClassifiers.\n",
      "  warn(\n"
     ]
    },
    {
     "name": "stdout",
     "output_type": "stream",
     "text": [
      "[CV] END bootstrap=True, max_features=auto, n_estimators=52, oob_score=True; total time=   0.3s\n"
     ]
    },
    {
     "name": "stderr",
     "output_type": "stream",
     "text": [
      "/root/.pyenv/versions/3.8.12/envs/mcats/lib/python3.8/site-packages/sklearn/ensemble/_forest.py:424: FutureWarning: `max_features='auto'` has been deprecated in 1.1 and will be removed in 1.3. To keep the past behaviour, explicitly set `max_features='sqrt'` or remove this parameter as it is also the default value for RandomForestClassifiers and ExtraTreesClassifiers.\n",
      "  warn(\n"
     ]
    },
    {
     "name": "stdout",
     "output_type": "stream",
     "text": [
      "[CV] END bootstrap=True, max_features=auto, n_estimators=52, oob_score=True; total time=   0.3s\n"
     ]
    },
    {
     "name": "stderr",
     "output_type": "stream",
     "text": [
      "/root/.pyenv/versions/3.8.12/envs/mcats/lib/python3.8/site-packages/sklearn/ensemble/_forest.py:424: FutureWarning: `max_features='auto'` has been deprecated in 1.1 and will be removed in 1.3. To keep the past behaviour, explicitly set `max_features='sqrt'` or remove this parameter as it is also the default value for RandomForestClassifiers and ExtraTreesClassifiers.\n",
      "  warn(\n"
     ]
    },
    {
     "name": "stdout",
     "output_type": "stream",
     "text": [
      "[CV] END bootstrap=True, max_features=auto, n_estimators=52, oob_score=True; total time=   0.3s\n"
     ]
    },
    {
     "name": "stderr",
     "output_type": "stream",
     "text": [
      "/root/.pyenv/versions/3.8.12/envs/mcats/lib/python3.8/site-packages/sklearn/ensemble/_forest.py:424: FutureWarning: `max_features='auto'` has been deprecated in 1.1 and will be removed in 1.3. To keep the past behaviour, explicitly set `max_features='sqrt'` or remove this parameter as it is also the default value for RandomForestClassifiers and ExtraTreesClassifiers.\n",
      "  warn(\n"
     ]
    },
    {
     "name": "stdout",
     "output_type": "stream",
     "text": [
      "[CV] END bootstrap=True, max_features=auto, n_estimators=217, oob_score=True; total time=   1.1s\n"
     ]
    },
    {
     "name": "stderr",
     "output_type": "stream",
     "text": [
      "/root/.pyenv/versions/3.8.12/envs/mcats/lib/python3.8/site-packages/sklearn/ensemble/_forest.py:424: FutureWarning: `max_features='auto'` has been deprecated in 1.1 and will be removed in 1.3. To keep the past behaviour, explicitly set `max_features='sqrt'` or remove this parameter as it is also the default value for RandomForestClassifiers and ExtraTreesClassifiers.\n",
      "  warn(\n"
     ]
    },
    {
     "name": "stdout",
     "output_type": "stream",
     "text": [
      "[CV] END bootstrap=True, max_features=auto, n_estimators=217, oob_score=True; total time=   1.1s\n"
     ]
    },
    {
     "name": "stderr",
     "output_type": "stream",
     "text": [
      "/root/.pyenv/versions/3.8.12/envs/mcats/lib/python3.8/site-packages/sklearn/ensemble/_forest.py:424: FutureWarning: `max_features='auto'` has been deprecated in 1.1 and will be removed in 1.3. To keep the past behaviour, explicitly set `max_features='sqrt'` or remove this parameter as it is also the default value for RandomForestClassifiers and ExtraTreesClassifiers.\n",
      "  warn(\n"
     ]
    },
    {
     "name": "stdout",
     "output_type": "stream",
     "text": [
      "[CV] END bootstrap=True, max_features=auto, n_estimators=217, oob_score=True; total time=   1.0s\n"
     ]
    },
    {
     "name": "stderr",
     "output_type": "stream",
     "text": [
      "/root/.pyenv/versions/3.8.12/envs/mcats/lib/python3.8/site-packages/sklearn/ensemble/_forest.py:424: FutureWarning: `max_features='auto'` has been deprecated in 1.1 and will be removed in 1.3. To keep the past behaviour, explicitly set `max_features='sqrt'` or remove this parameter as it is also the default value for RandomForestClassifiers and ExtraTreesClassifiers.\n",
      "  warn(\n"
     ]
    },
    {
     "name": "stdout",
     "output_type": "stream",
     "text": [
      "[CV] END bootstrap=True, max_features=auto, n_estimators=217, oob_score=True; total time=   1.0s\n"
     ]
    },
    {
     "name": "stderr",
     "output_type": "stream",
     "text": [
      "/root/.pyenv/versions/3.8.12/envs/mcats/lib/python3.8/site-packages/sklearn/ensemble/_forest.py:424: FutureWarning: `max_features='auto'` has been deprecated in 1.1 and will be removed in 1.3. To keep the past behaviour, explicitly set `max_features='sqrt'` or remove this parameter as it is also the default value for RandomForestClassifiers and ExtraTreesClassifiers.\n",
      "  warn(\n"
     ]
    },
    {
     "name": "stdout",
     "output_type": "stream",
     "text": [
      "[CV] END bootstrap=True, max_features=auto, n_estimators=217, oob_score=True; total time=   1.0s\n",
      "[CV] END bootstrap=True, max_features=sqrt, n_estimators=491, oob_score=True; total time=   2.3s\n",
      "[CV] END bootstrap=True, max_features=sqrt, n_estimators=491, oob_score=True; total time=   2.4s\n",
      "[CV] END bootstrap=True, max_features=sqrt, n_estimators=491, oob_score=True; total time=   2.2s\n",
      "[CV] END bootstrap=True, max_features=sqrt, n_estimators=491, oob_score=True; total time=   2.3s\n",
      "[CV] END bootstrap=True, max_features=sqrt, n_estimators=491, oob_score=True; total time=   2.2s\n",
      "[CV] END bootstrap=True, max_features=sqrt, n_estimators=480, oob_score=True; total time=   2.1s\n",
      "[CV] END bootstrap=True, max_features=sqrt, n_estimators=480, oob_score=True; total time=   2.3s\n",
      "[CV] END bootstrap=True, max_features=sqrt, n_estimators=480, oob_score=True; total time=   2.3s\n",
      "[CV] END bootstrap=True, max_features=sqrt, n_estimators=480, oob_score=True; total time=   2.4s\n",
      "[CV] END bootstrap=True, max_features=sqrt, n_estimators=480, oob_score=True; total time=   2.2s\n"
     ]
    },
    {
     "name": "stderr",
     "output_type": "stream",
     "text": [
      "/root/.pyenv/versions/3.8.12/envs/mcats/lib/python3.8/site-packages/sklearn/ensemble/_forest.py:424: FutureWarning: `max_features='auto'` has been deprecated in 1.1 and will be removed in 1.3. To keep the past behaviour, explicitly set `max_features='sqrt'` or remove this parameter as it is also the default value for RandomForestClassifiers and ExtraTreesClassifiers.\n",
      "  warn(\n"
     ]
    },
    {
     "name": "stdout",
     "output_type": "stream",
     "text": [
      "[CV] END bootstrap=True, max_features=auto, n_estimators=88, oob_score=True; total time=   0.4s\n"
     ]
    },
    {
     "name": "stderr",
     "output_type": "stream",
     "text": [
      "/root/.pyenv/versions/3.8.12/envs/mcats/lib/python3.8/site-packages/sklearn/ensemble/_forest.py:424: FutureWarning: `max_features='auto'` has been deprecated in 1.1 and will be removed in 1.3. To keep the past behaviour, explicitly set `max_features='sqrt'` or remove this parameter as it is also the default value for RandomForestClassifiers and ExtraTreesClassifiers.\n",
      "  warn(\n"
     ]
    },
    {
     "name": "stdout",
     "output_type": "stream",
     "text": [
      "[CV] END bootstrap=True, max_features=auto, n_estimators=88, oob_score=True; total time=   0.4s\n"
     ]
    },
    {
     "name": "stderr",
     "output_type": "stream",
     "text": [
      "/root/.pyenv/versions/3.8.12/envs/mcats/lib/python3.8/site-packages/sklearn/ensemble/_forest.py:424: FutureWarning: `max_features='auto'` has been deprecated in 1.1 and will be removed in 1.3. To keep the past behaviour, explicitly set `max_features='sqrt'` or remove this parameter as it is also the default value for RandomForestClassifiers and ExtraTreesClassifiers.\n",
      "  warn(\n"
     ]
    },
    {
     "name": "stdout",
     "output_type": "stream",
     "text": [
      "[CV] END bootstrap=True, max_features=auto, n_estimators=88, oob_score=True; total time=   0.4s\n"
     ]
    },
    {
     "name": "stderr",
     "output_type": "stream",
     "text": [
      "/root/.pyenv/versions/3.8.12/envs/mcats/lib/python3.8/site-packages/sklearn/ensemble/_forest.py:424: FutureWarning: `max_features='auto'` has been deprecated in 1.1 and will be removed in 1.3. To keep the past behaviour, explicitly set `max_features='sqrt'` or remove this parameter as it is also the default value for RandomForestClassifiers and ExtraTreesClassifiers.\n",
      "  warn(\n"
     ]
    },
    {
     "name": "stdout",
     "output_type": "stream",
     "text": [
      "[CV] END bootstrap=True, max_features=auto, n_estimators=88, oob_score=True; total time=   0.5s\n"
     ]
    },
    {
     "name": "stderr",
     "output_type": "stream",
     "text": [
      "/root/.pyenv/versions/3.8.12/envs/mcats/lib/python3.8/site-packages/sklearn/ensemble/_forest.py:424: FutureWarning: `max_features='auto'` has been deprecated in 1.1 and will be removed in 1.3. To keep the past behaviour, explicitly set `max_features='sqrt'` or remove this parameter as it is also the default value for RandomForestClassifiers and ExtraTreesClassifiers.\n",
      "  warn(\n"
     ]
    },
    {
     "name": "stdout",
     "output_type": "stream",
     "text": [
      "[CV] END bootstrap=True, max_features=auto, n_estimators=88, oob_score=True; total time=   0.5s\n",
      "[CV] END bootstrap=True, max_features=sqrt, n_estimators=491, oob_score=True; total time=   2.3s\n",
      "[CV] END bootstrap=True, max_features=sqrt, n_estimators=491, oob_score=True; total time=   2.3s\n",
      "[CV] END bootstrap=True, max_features=sqrt, n_estimators=491, oob_score=True; total time=   2.2s\n",
      "[CV] END bootstrap=True, max_features=sqrt, n_estimators=491, oob_score=True; total time=   2.2s\n",
      "[CV] END bootstrap=True, max_features=sqrt, n_estimators=491, oob_score=True; total time=   2.2s\n",
      "[CV] END bootstrap=True, max_features=sqrt, n_estimators=9, oob_score=True; total time=   0.0s\n",
      "[CV] END bootstrap=True, max_features=sqrt, n_estimators=9, oob_score=True; total time=   0.0s\n",
      "[CV] END bootstrap=True, max_features=sqrt, n_estimators=9, oob_score=True; total time=   0.0s\n",
      "[CV] END bootstrap=True, max_features=sqrt, n_estimators=9, oob_score=True; total time=   0.0s\n"
     ]
    },
    {
     "name": "stderr",
     "output_type": "stream",
     "text": [
      "/root/.pyenv/versions/3.8.12/envs/mcats/lib/python3.8/site-packages/sklearn/ensemble/_forest.py:583: UserWarning: Some inputs do not have OOB scores. This probably means too few trees were used to compute any reliable OOB estimates.\n",
      "  warn(\n",
      "/root/.pyenv/versions/3.8.12/envs/mcats/lib/python3.8/site-packages/sklearn/ensemble/_forest.py:583: UserWarning: Some inputs do not have OOB scores. This probably means too few trees were used to compute any reliable OOB estimates.\n",
      "  warn(\n",
      "/root/.pyenv/versions/3.8.12/envs/mcats/lib/python3.8/site-packages/sklearn/ensemble/_forest.py:583: UserWarning: Some inputs do not have OOB scores. This probably means too few trees were used to compute any reliable OOB estimates.\n",
      "  warn(\n",
      "/root/.pyenv/versions/3.8.12/envs/mcats/lib/python3.8/site-packages/sklearn/ensemble/_forest.py:583: UserWarning: Some inputs do not have OOB scores. This probably means too few trees were used to compute any reliable OOB estimates.\n",
      "  warn(\n",
      "/root/.pyenv/versions/3.8.12/envs/mcats/lib/python3.8/site-packages/sklearn/ensemble/_forest.py:583: UserWarning: Some inputs do not have OOB scores. This probably means too few trees were used to compute any reliable OOB estimates.\n",
      "  warn(\n"
     ]
    },
    {
     "name": "stdout",
     "output_type": "stream",
     "text": [
      "[CV] END bootstrap=True, max_features=sqrt, n_estimators=9, oob_score=True; total time=   0.0s\n",
      "[CV] END bootstrap=True, max_features=sqrt, n_estimators=319, oob_score=True; total time=   1.4s\n",
      "[CV] END bootstrap=True, max_features=sqrt, n_estimators=319, oob_score=True; total time=   1.5s\n",
      "[CV] END bootstrap=True, max_features=sqrt, n_estimators=319, oob_score=True; total time=   1.5s\n",
      "[CV] END bootstrap=True, max_features=sqrt, n_estimators=319, oob_score=True; total time=   1.5s\n",
      "[CV] END bootstrap=True, max_features=sqrt, n_estimators=319, oob_score=True; total time=   1.4s\n"
     ]
    },
    {
     "name": "stderr",
     "output_type": "stream",
     "text": [
      "/root/.pyenv/versions/3.8.12/envs/mcats/lib/python3.8/site-packages/sklearn/ensemble/_forest.py:424: FutureWarning: `max_features='auto'` has been deprecated in 1.1 and will be removed in 1.3. To keep the past behaviour, explicitly set `max_features='sqrt'` or remove this parameter as it is also the default value for RandomForestClassifiers and ExtraTreesClassifiers.\n",
      "  warn(\n"
     ]
    },
    {
     "name": "stdout",
     "output_type": "stream",
     "text": [
      "[CV] END bootstrap=True, max_features=auto, n_estimators=315, oob_score=True; total time=   1.5s\n"
     ]
    },
    {
     "name": "stderr",
     "output_type": "stream",
     "text": [
      "/root/.pyenv/versions/3.8.12/envs/mcats/lib/python3.8/site-packages/sklearn/ensemble/_forest.py:424: FutureWarning: `max_features='auto'` has been deprecated in 1.1 and will be removed in 1.3. To keep the past behaviour, explicitly set `max_features='sqrt'` or remove this parameter as it is also the default value for RandomForestClassifiers and ExtraTreesClassifiers.\n",
      "  warn(\n"
     ]
    },
    {
     "name": "stdout",
     "output_type": "stream",
     "text": [
      "[CV] END bootstrap=True, max_features=auto, n_estimators=315, oob_score=True; total time=   1.5s\n"
     ]
    },
    {
     "name": "stderr",
     "output_type": "stream",
     "text": [
      "/root/.pyenv/versions/3.8.12/envs/mcats/lib/python3.8/site-packages/sklearn/ensemble/_forest.py:424: FutureWarning: `max_features='auto'` has been deprecated in 1.1 and will be removed in 1.3. To keep the past behaviour, explicitly set `max_features='sqrt'` or remove this parameter as it is also the default value for RandomForestClassifiers and ExtraTreesClassifiers.\n",
      "  warn(\n"
     ]
    },
    {
     "name": "stdout",
     "output_type": "stream",
     "text": [
      "[CV] END bootstrap=True, max_features=auto, n_estimators=315, oob_score=True; total time=   1.5s\n"
     ]
    },
    {
     "name": "stderr",
     "output_type": "stream",
     "text": [
      "/root/.pyenv/versions/3.8.12/envs/mcats/lib/python3.8/site-packages/sklearn/ensemble/_forest.py:424: FutureWarning: `max_features='auto'` has been deprecated in 1.1 and will be removed in 1.3. To keep the past behaviour, explicitly set `max_features='sqrt'` or remove this parameter as it is also the default value for RandomForestClassifiers and ExtraTreesClassifiers.\n",
      "  warn(\n"
     ]
    },
    {
     "name": "stdout",
     "output_type": "stream",
     "text": [
      "[CV] END bootstrap=True, max_features=auto, n_estimators=315, oob_score=True; total time=   1.5s\n"
     ]
    },
    {
     "name": "stderr",
     "output_type": "stream",
     "text": [
      "/root/.pyenv/versions/3.8.12/envs/mcats/lib/python3.8/site-packages/sklearn/ensemble/_forest.py:424: FutureWarning: `max_features='auto'` has been deprecated in 1.1 and will be removed in 1.3. To keep the past behaviour, explicitly set `max_features='sqrt'` or remove this parameter as it is also the default value for RandomForestClassifiers and ExtraTreesClassifiers.\n",
      "  warn(\n"
     ]
    },
    {
     "name": "stdout",
     "output_type": "stream",
     "text": [
      "[CV] END bootstrap=True, max_features=auto, n_estimators=315, oob_score=True; total time=   1.5s\n",
      "[CV] END bootstrap=True, max_features=sqrt, n_estimators=386, oob_score=True; total time=   1.7s\n",
      "[CV] END bootstrap=True, max_features=sqrt, n_estimators=386, oob_score=True; total time=   1.8s\n",
      "[CV] END bootstrap=True, max_features=sqrt, n_estimators=386, oob_score=True; total time=   1.9s\n",
      "[CV] END bootstrap=True, max_features=sqrt, n_estimators=386, oob_score=True; total time=   1.8s\n",
      "[CV] END bootstrap=True, max_features=sqrt, n_estimators=386, oob_score=True; total time=   1.8s\n"
     ]
    },
    {
     "name": "stderr",
     "output_type": "stream",
     "text": [
      "/root/.pyenv/versions/3.8.12/envs/mcats/lib/python3.8/site-packages/sklearn/ensemble/_forest.py:424: FutureWarning: `max_features='auto'` has been deprecated in 1.1 and will be removed in 1.3. To keep the past behaviour, explicitly set `max_features='sqrt'` or remove this parameter as it is also the default value for RandomForestClassifiers and ExtraTreesClassifiers.\n",
      "  warn(\n"
     ]
    },
    {
     "name": "stdout",
     "output_type": "stream",
     "text": [
      "[CV] END bootstrap=True, max_features=auto, n_estimators=211, oob_score=True; total time=   1.0s\n"
     ]
    },
    {
     "name": "stderr",
     "output_type": "stream",
     "text": [
      "/root/.pyenv/versions/3.8.12/envs/mcats/lib/python3.8/site-packages/sklearn/ensemble/_forest.py:424: FutureWarning: `max_features='auto'` has been deprecated in 1.1 and will be removed in 1.3. To keep the past behaviour, explicitly set `max_features='sqrt'` or remove this parameter as it is also the default value for RandomForestClassifiers and ExtraTreesClassifiers.\n",
      "  warn(\n"
     ]
    },
    {
     "name": "stdout",
     "output_type": "stream",
     "text": [
      "[CV] END bootstrap=True, max_features=auto, n_estimators=211, oob_score=True; total time=   0.9s\n"
     ]
    },
    {
     "name": "stderr",
     "output_type": "stream",
     "text": [
      "/root/.pyenv/versions/3.8.12/envs/mcats/lib/python3.8/site-packages/sklearn/ensemble/_forest.py:424: FutureWarning: `max_features='auto'` has been deprecated in 1.1 and will be removed in 1.3. To keep the past behaviour, explicitly set `max_features='sqrt'` or remove this parameter as it is also the default value for RandomForestClassifiers and ExtraTreesClassifiers.\n",
      "  warn(\n"
     ]
    },
    {
     "name": "stdout",
     "output_type": "stream",
     "text": [
      "[CV] END bootstrap=True, max_features=auto, n_estimators=211, oob_score=True; total time=   1.0s\n"
     ]
    },
    {
     "name": "stderr",
     "output_type": "stream",
     "text": [
      "/root/.pyenv/versions/3.8.12/envs/mcats/lib/python3.8/site-packages/sklearn/ensemble/_forest.py:424: FutureWarning: `max_features='auto'` has been deprecated in 1.1 and will be removed in 1.3. To keep the past behaviour, explicitly set `max_features='sqrt'` or remove this parameter as it is also the default value for RandomForestClassifiers and ExtraTreesClassifiers.\n",
      "  warn(\n"
     ]
    },
    {
     "name": "stdout",
     "output_type": "stream",
     "text": [
      "[CV] END bootstrap=True, max_features=auto, n_estimators=211, oob_score=True; total time=   1.0s\n"
     ]
    },
    {
     "name": "stderr",
     "output_type": "stream",
     "text": [
      "/root/.pyenv/versions/3.8.12/envs/mcats/lib/python3.8/site-packages/sklearn/ensemble/_forest.py:424: FutureWarning: `max_features='auto'` has been deprecated in 1.1 and will be removed in 1.3. To keep the past behaviour, explicitly set `max_features='sqrt'` or remove this parameter as it is also the default value for RandomForestClassifiers and ExtraTreesClassifiers.\n",
      "  warn(\n"
     ]
    },
    {
     "name": "stdout",
     "output_type": "stream",
     "text": [
      "[CV] END bootstrap=True, max_features=auto, n_estimators=211, oob_score=True; total time=   1.0s\n"
     ]
    },
    {
     "name": "stderr",
     "output_type": "stream",
     "text": [
      "/root/.pyenv/versions/3.8.12/envs/mcats/lib/python3.8/site-packages/sklearn/ensemble/_forest.py:424: FutureWarning: `max_features='auto'` has been deprecated in 1.1 and will be removed in 1.3. To keep the past behaviour, explicitly set `max_features='sqrt'` or remove this parameter as it is also the default value for RandomForestClassifiers and ExtraTreesClassifiers.\n",
      "  warn(\n"
     ]
    },
    {
     "name": "stdout",
     "output_type": "stream",
     "text": [
      "[CV] END bootstrap=True, max_features=auto, n_estimators=218, oob_score=True; total time=   1.0s\n"
     ]
    },
    {
     "name": "stderr",
     "output_type": "stream",
     "text": [
      "/root/.pyenv/versions/3.8.12/envs/mcats/lib/python3.8/site-packages/sklearn/ensemble/_forest.py:424: FutureWarning: `max_features='auto'` has been deprecated in 1.1 and will be removed in 1.3. To keep the past behaviour, explicitly set `max_features='sqrt'` or remove this parameter as it is also the default value for RandomForestClassifiers and ExtraTreesClassifiers.\n",
      "  warn(\n"
     ]
    },
    {
     "name": "stdout",
     "output_type": "stream",
     "text": [
      "[CV] END bootstrap=True, max_features=auto, n_estimators=218, oob_score=True; total time=   1.0s\n"
     ]
    },
    {
     "name": "stderr",
     "output_type": "stream",
     "text": [
      "/root/.pyenv/versions/3.8.12/envs/mcats/lib/python3.8/site-packages/sklearn/ensemble/_forest.py:424: FutureWarning: `max_features='auto'` has been deprecated in 1.1 and will be removed in 1.3. To keep the past behaviour, explicitly set `max_features='sqrt'` or remove this parameter as it is also the default value for RandomForestClassifiers and ExtraTreesClassifiers.\n",
      "  warn(\n"
     ]
    },
    {
     "name": "stdout",
     "output_type": "stream",
     "text": [
      "[CV] END bootstrap=True, max_features=auto, n_estimators=218, oob_score=True; total time=   1.0s\n"
     ]
    },
    {
     "name": "stderr",
     "output_type": "stream",
     "text": [
      "/root/.pyenv/versions/3.8.12/envs/mcats/lib/python3.8/site-packages/sklearn/ensemble/_forest.py:424: FutureWarning: `max_features='auto'` has been deprecated in 1.1 and will be removed in 1.3. To keep the past behaviour, explicitly set `max_features='sqrt'` or remove this parameter as it is also the default value for RandomForestClassifiers and ExtraTreesClassifiers.\n",
      "  warn(\n"
     ]
    },
    {
     "name": "stdout",
     "output_type": "stream",
     "text": [
      "[CV] END bootstrap=True, max_features=auto, n_estimators=218, oob_score=True; total time=   1.0s\n"
     ]
    },
    {
     "name": "stderr",
     "output_type": "stream",
     "text": [
      "/root/.pyenv/versions/3.8.12/envs/mcats/lib/python3.8/site-packages/sklearn/ensemble/_forest.py:424: FutureWarning: `max_features='auto'` has been deprecated in 1.1 and will be removed in 1.3. To keep the past behaviour, explicitly set `max_features='sqrt'` or remove this parameter as it is also the default value for RandomForestClassifiers and ExtraTreesClassifiers.\n",
      "  warn(\n"
     ]
    },
    {
     "name": "stdout",
     "output_type": "stream",
     "text": [
      "[CV] END bootstrap=True, max_features=auto, n_estimators=218, oob_score=True; total time=   1.0s\n",
      "[CV] END bootstrap=True, max_features=sqrt, n_estimators=117, oob_score=True; total time=   0.5s\n",
      "[CV] END bootstrap=True, max_features=sqrt, n_estimators=117, oob_score=True; total time=   0.5s\n",
      "[CV] END bootstrap=True, max_features=sqrt, n_estimators=117, oob_score=True; total time=   0.5s\n",
      "[CV] END bootstrap=True, max_features=sqrt, n_estimators=117, oob_score=True; total time=   0.5s\n",
      "[CV] END bootstrap=True, max_features=sqrt, n_estimators=117, oob_score=True; total time=   0.5s\n",
      "[CV] END bootstrap=True, max_features=sqrt, n_estimators=492, oob_score=True; total time=   2.2s\n",
      "[CV] END bootstrap=True, max_features=sqrt, n_estimators=492, oob_score=True; total time=   2.3s\n",
      "[CV] END bootstrap=True, max_features=sqrt, n_estimators=492, oob_score=True; total time=   2.3s\n",
      "[CV] END bootstrap=True, max_features=sqrt, n_estimators=492, oob_score=True; total time=   2.3s\n",
      "[CV] END bootstrap=True, max_features=sqrt, n_estimators=492, oob_score=True; total time=   2.3s\n",
      "[CV] END bootstrap=True, max_features=sqrt, n_estimators=458, oob_score=True; total time=   2.2s\n",
      "[CV] END bootstrap=True, max_features=sqrt, n_estimators=458, oob_score=True; total time=   2.6s\n",
      "[CV] END bootstrap=True, max_features=sqrt, n_estimators=458, oob_score=True; total time=   3.7s\n",
      "[CV] END bootstrap=True, max_features=sqrt, n_estimators=458, oob_score=True; total time=   2.3s\n",
      "[CV] END bootstrap=True, max_features=sqrt, n_estimators=458, oob_score=True; total time=   2.3s\n"
     ]
    },
    {
     "name": "stderr",
     "output_type": "stream",
     "text": [
      "/root/.pyenv/versions/3.8.12/envs/mcats/lib/python3.8/site-packages/sklearn/ensemble/_forest.py:424: FutureWarning: `max_features='auto'` has been deprecated in 1.1 and will be removed in 1.3. To keep the past behaviour, explicitly set `max_features='sqrt'` or remove this parameter as it is also the default value for RandomForestClassifiers and ExtraTreesClassifiers.\n",
      "  warn(\n"
     ]
    },
    {
     "name": "stdout",
     "output_type": "stream",
     "text": [
      "[CV] END bootstrap=True, max_features=auto, n_estimators=73, oob_score=True; total time=   0.4s\n"
     ]
    },
    {
     "name": "stderr",
     "output_type": "stream",
     "text": [
      "/root/.pyenv/versions/3.8.12/envs/mcats/lib/python3.8/site-packages/sklearn/ensemble/_forest.py:424: FutureWarning: `max_features='auto'` has been deprecated in 1.1 and will be removed in 1.3. To keep the past behaviour, explicitly set `max_features='sqrt'` or remove this parameter as it is also the default value for RandomForestClassifiers and ExtraTreesClassifiers.\n",
      "  warn(\n"
     ]
    },
    {
     "name": "stdout",
     "output_type": "stream",
     "text": [
      "[CV] END bootstrap=True, max_features=auto, n_estimators=73, oob_score=True; total time=   0.3s\n"
     ]
    },
    {
     "name": "stderr",
     "output_type": "stream",
     "text": [
      "/root/.pyenv/versions/3.8.12/envs/mcats/lib/python3.8/site-packages/sklearn/ensemble/_forest.py:424: FutureWarning: `max_features='auto'` has been deprecated in 1.1 and will be removed in 1.3. To keep the past behaviour, explicitly set `max_features='sqrt'` or remove this parameter as it is also the default value for RandomForestClassifiers and ExtraTreesClassifiers.\n",
      "  warn(\n"
     ]
    },
    {
     "name": "stdout",
     "output_type": "stream",
     "text": [
      "[CV] END bootstrap=True, max_features=auto, n_estimators=73, oob_score=True; total time=   0.3s\n"
     ]
    },
    {
     "name": "stderr",
     "output_type": "stream",
     "text": [
      "/root/.pyenv/versions/3.8.12/envs/mcats/lib/python3.8/site-packages/sklearn/ensemble/_forest.py:424: FutureWarning: `max_features='auto'` has been deprecated in 1.1 and will be removed in 1.3. To keep the past behaviour, explicitly set `max_features='sqrt'` or remove this parameter as it is also the default value for RandomForestClassifiers and ExtraTreesClassifiers.\n",
      "  warn(\n"
     ]
    },
    {
     "name": "stdout",
     "output_type": "stream",
     "text": [
      "[CV] END bootstrap=True, max_features=auto, n_estimators=73, oob_score=True; total time=   0.3s\n"
     ]
    },
    {
     "name": "stderr",
     "output_type": "stream",
     "text": [
      "/root/.pyenv/versions/3.8.12/envs/mcats/lib/python3.8/site-packages/sklearn/ensemble/_forest.py:424: FutureWarning: `max_features='auto'` has been deprecated in 1.1 and will be removed in 1.3. To keep the past behaviour, explicitly set `max_features='sqrt'` or remove this parameter as it is also the default value for RandomForestClassifiers and ExtraTreesClassifiers.\n",
      "  warn(\n"
     ]
    },
    {
     "name": "stdout",
     "output_type": "stream",
     "text": [
      "[CV] END bootstrap=True, max_features=auto, n_estimators=73, oob_score=True; total time=   0.4s\n",
      "[CV] END bootstrap=True, max_features=sqrt, n_estimators=456, oob_score=True; total time=   2.3s\n",
      "[CV] END bootstrap=True, max_features=sqrt, n_estimators=456, oob_score=True; total time=   2.2s\n",
      "[CV] END bootstrap=True, max_features=sqrt, n_estimators=456, oob_score=True; total time=   2.3s\n",
      "[CV] END bootstrap=True, max_features=sqrt, n_estimators=456, oob_score=True; total time=   2.4s\n",
      "[CV] END bootstrap=True, max_features=sqrt, n_estimators=456, oob_score=True; total time=   2.3s\n",
      "[CV] END bootstrap=True, max_features=sqrt, n_estimators=51, oob_score=True; total time=   0.3s\n",
      "[CV] END bootstrap=True, max_features=sqrt, n_estimators=51, oob_score=True; total time=   0.3s\n",
      "[CV] END bootstrap=True, max_features=sqrt, n_estimators=51, oob_score=True; total time=   0.3s\n",
      "[CV] END bootstrap=True, max_features=sqrt, n_estimators=51, oob_score=True; total time=   0.3s\n",
      "[CV] END bootstrap=True, max_features=sqrt, n_estimators=51, oob_score=True; total time=   0.3s\n",
      "[CV] END bootstrap=True, max_features=sqrt, n_estimators=5, oob_score=True; total time=   0.0s\n",
      "[CV] END bootstrap=True, max_features=sqrt, n_estimators=5, oob_score=True; total time=   0.0s\n",
      "[CV] END bootstrap=True, max_features=sqrt, n_estimators=5, oob_score=True; total time=   0.0s\n",
      "[CV] END bootstrap=True, max_features=sqrt, n_estimators=5, oob_score=True; total time=   0.0s\n",
      "[CV] END bootstrap=True, max_features=sqrt, n_estimators=5, oob_score=True; total time=   0.0s\n"
     ]
    },
    {
     "name": "stderr",
     "output_type": "stream",
     "text": [
      "/root/.pyenv/versions/3.8.12/envs/mcats/lib/python3.8/site-packages/sklearn/ensemble/_forest.py:583: UserWarning: Some inputs do not have OOB scores. This probably means too few trees were used to compute any reliable OOB estimates.\n",
      "  warn(\n",
      "/root/.pyenv/versions/3.8.12/envs/mcats/lib/python3.8/site-packages/sklearn/ensemble/_forest.py:583: UserWarning: Some inputs do not have OOB scores. This probably means too few trees were used to compute any reliable OOB estimates.\n",
      "  warn(\n",
      "/root/.pyenv/versions/3.8.12/envs/mcats/lib/python3.8/site-packages/sklearn/ensemble/_forest.py:583: UserWarning: Some inputs do not have OOB scores. This probably means too few trees were used to compute any reliable OOB estimates.\n",
      "  warn(\n",
      "/root/.pyenv/versions/3.8.12/envs/mcats/lib/python3.8/site-packages/sklearn/ensemble/_forest.py:583: UserWarning: Some inputs do not have OOB scores. This probably means too few trees were used to compute any reliable OOB estimates.\n",
      "  warn(\n",
      "/root/.pyenv/versions/3.8.12/envs/mcats/lib/python3.8/site-packages/sklearn/ensemble/_forest.py:583: UserWarning: Some inputs do not have OOB scores. This probably means too few trees were used to compute any reliable OOB estimates.\n",
      "  warn(\n",
      "/root/.pyenv/versions/3.8.12/envs/mcats/lib/python3.8/site-packages/sklearn/ensemble/_forest.py:424: FutureWarning: `max_features='auto'` has been deprecated in 1.1 and will be removed in 1.3. To keep the past behaviour, explicitly set `max_features='sqrt'` or remove this parameter as it is also the default value for RandomForestClassifiers and ExtraTreesClassifiers.\n",
      "  warn(\n"
     ]
    },
    {
     "name": "stdout",
     "output_type": "stream",
     "text": [
      "[CV] END bootstrap=True, max_features=auto, n_estimators=282, oob_score=True; total time=   1.4s\n"
     ]
    },
    {
     "name": "stderr",
     "output_type": "stream",
     "text": [
      "/root/.pyenv/versions/3.8.12/envs/mcats/lib/python3.8/site-packages/sklearn/ensemble/_forest.py:424: FutureWarning: `max_features='auto'` has been deprecated in 1.1 and will be removed in 1.3. To keep the past behaviour, explicitly set `max_features='sqrt'` or remove this parameter as it is also the default value for RandomForestClassifiers and ExtraTreesClassifiers.\n",
      "  warn(\n"
     ]
    },
    {
     "name": "stdout",
     "output_type": "stream",
     "text": [
      "[CV] END bootstrap=True, max_features=auto, n_estimators=282, oob_score=True; total time=   1.4s\n"
     ]
    },
    {
     "name": "stderr",
     "output_type": "stream",
     "text": [
      "/root/.pyenv/versions/3.8.12/envs/mcats/lib/python3.8/site-packages/sklearn/ensemble/_forest.py:424: FutureWarning: `max_features='auto'` has been deprecated in 1.1 and will be removed in 1.3. To keep the past behaviour, explicitly set `max_features='sqrt'` or remove this parameter as it is also the default value for RandomForestClassifiers and ExtraTreesClassifiers.\n",
      "  warn(\n"
     ]
    },
    {
     "name": "stdout",
     "output_type": "stream",
     "text": [
      "[CV] END bootstrap=True, max_features=auto, n_estimators=282, oob_score=True; total time=   1.5s\n"
     ]
    },
    {
     "name": "stderr",
     "output_type": "stream",
     "text": [
      "/root/.pyenv/versions/3.8.12/envs/mcats/lib/python3.8/site-packages/sklearn/ensemble/_forest.py:424: FutureWarning: `max_features='auto'` has been deprecated in 1.1 and will be removed in 1.3. To keep the past behaviour, explicitly set `max_features='sqrt'` or remove this parameter as it is also the default value for RandomForestClassifiers and ExtraTreesClassifiers.\n",
      "  warn(\n"
     ]
    },
    {
     "name": "stdout",
     "output_type": "stream",
     "text": [
      "[CV] END bootstrap=True, max_features=auto, n_estimators=282, oob_score=True; total time=   1.7s\n"
     ]
    },
    {
     "name": "stderr",
     "output_type": "stream",
     "text": [
      "/root/.pyenv/versions/3.8.12/envs/mcats/lib/python3.8/site-packages/sklearn/ensemble/_forest.py:424: FutureWarning: `max_features='auto'` has been deprecated in 1.1 and will be removed in 1.3. To keep the past behaviour, explicitly set `max_features='sqrt'` or remove this parameter as it is also the default value for RandomForestClassifiers and ExtraTreesClassifiers.\n",
      "  warn(\n"
     ]
    },
    {
     "name": "stdout",
     "output_type": "stream",
     "text": [
      "[CV] END bootstrap=True, max_features=auto, n_estimators=282, oob_score=True; total time=   1.6s\n",
      "[CV] END bootstrap=True, max_features=sqrt, n_estimators=45, oob_score=True; total time=   0.2s\n",
      "[CV] END bootstrap=True, max_features=sqrt, n_estimators=45, oob_score=True; total time=   0.3s\n",
      "[CV] END bootstrap=True, max_features=sqrt, n_estimators=45, oob_score=True; total time=   0.2s\n",
      "[CV] END bootstrap=True, max_features=sqrt, n_estimators=45, oob_score=True; total time=   0.2s\n",
      "[CV] END bootstrap=True, max_features=sqrt, n_estimators=45, oob_score=True; total time=   0.3s\n",
      "[CV] END bootstrap=True, max_features=auto, n_estimators=28, oob_score=True; total time=   0.1s\n"
     ]
    },
    {
     "name": "stderr",
     "output_type": "stream",
     "text": [
      "/root/.pyenv/versions/3.8.12/envs/mcats/lib/python3.8/site-packages/sklearn/ensemble/_forest.py:424: FutureWarning: `max_features='auto'` has been deprecated in 1.1 and will be removed in 1.3. To keep the past behaviour, explicitly set `max_features='sqrt'` or remove this parameter as it is also the default value for RandomForestClassifiers and ExtraTreesClassifiers.\n",
      "  warn(\n",
      "/root/.pyenv/versions/3.8.12/envs/mcats/lib/python3.8/site-packages/sklearn/ensemble/_forest.py:424: FutureWarning: `max_features='auto'` has been deprecated in 1.1 and will be removed in 1.3. To keep the past behaviour, explicitly set `max_features='sqrt'` or remove this parameter as it is also the default value for RandomForestClassifiers and ExtraTreesClassifiers.\n",
      "  warn(\n"
     ]
    },
    {
     "name": "stdout",
     "output_type": "stream",
     "text": [
      "[CV] END bootstrap=True, max_features=auto, n_estimators=28, oob_score=True; total time=   0.1s\n",
      "[CV] END bootstrap=True, max_features=auto, n_estimators=28, oob_score=True; total time=   0.1s\n"
     ]
    },
    {
     "name": "stderr",
     "output_type": "stream",
     "text": [
      "/root/.pyenv/versions/3.8.12/envs/mcats/lib/python3.8/site-packages/sklearn/ensemble/_forest.py:424: FutureWarning: `max_features='auto'` has been deprecated in 1.1 and will be removed in 1.3. To keep the past behaviour, explicitly set `max_features='sqrt'` or remove this parameter as it is also the default value for RandomForestClassifiers and ExtraTreesClassifiers.\n",
      "  warn(\n",
      "/root/.pyenv/versions/3.8.12/envs/mcats/lib/python3.8/site-packages/sklearn/ensemble/_forest.py:424: FutureWarning: `max_features='auto'` has been deprecated in 1.1 and will be removed in 1.3. To keep the past behaviour, explicitly set `max_features='sqrt'` or remove this parameter as it is also the default value for RandomForestClassifiers and ExtraTreesClassifiers.\n",
      "  warn(\n"
     ]
    },
    {
     "name": "stdout",
     "output_type": "stream",
     "text": [
      "[CV] END bootstrap=True, max_features=auto, n_estimators=28, oob_score=True; total time=   0.2s\n",
      "[CV] END bootstrap=True, max_features=auto, n_estimators=28, oob_score=True; total time=   0.2s\n"
     ]
    },
    {
     "name": "stderr",
     "output_type": "stream",
     "text": [
      "/root/.pyenv/versions/3.8.12/envs/mcats/lib/python3.8/site-packages/sklearn/ensemble/_forest.py:424: FutureWarning: `max_features='auto'` has been deprecated in 1.1 and will be removed in 1.3. To keep the past behaviour, explicitly set `max_features='sqrt'` or remove this parameter as it is also the default value for RandomForestClassifiers and ExtraTreesClassifiers.\n",
      "  warn(\n",
      "/root/.pyenv/versions/3.8.12/envs/mcats/lib/python3.8/site-packages/sklearn/ensemble/_forest.py:424: FutureWarning: `max_features='auto'` has been deprecated in 1.1 and will be removed in 1.3. To keep the past behaviour, explicitly set `max_features='sqrt'` or remove this parameter as it is also the default value for RandomForestClassifiers and ExtraTreesClassifiers.\n",
      "  warn(\n"
     ]
    },
    {
     "name": "stdout",
     "output_type": "stream",
     "text": [
      "[CV] END bootstrap=True, max_features=auto, n_estimators=338, oob_score=True; total time=   1.7s\n"
     ]
    },
    {
     "name": "stderr",
     "output_type": "stream",
     "text": [
      "/root/.pyenv/versions/3.8.12/envs/mcats/lib/python3.8/site-packages/sklearn/ensemble/_forest.py:424: FutureWarning: `max_features='auto'` has been deprecated in 1.1 and will be removed in 1.3. To keep the past behaviour, explicitly set `max_features='sqrt'` or remove this parameter as it is also the default value for RandomForestClassifiers and ExtraTreesClassifiers.\n",
      "  warn(\n"
     ]
    },
    {
     "name": "stdout",
     "output_type": "stream",
     "text": [
      "[CV] END bootstrap=True, max_features=auto, n_estimators=338, oob_score=True; total time=   1.8s\n"
     ]
    },
    {
     "name": "stderr",
     "output_type": "stream",
     "text": [
      "/root/.pyenv/versions/3.8.12/envs/mcats/lib/python3.8/site-packages/sklearn/ensemble/_forest.py:424: FutureWarning: `max_features='auto'` has been deprecated in 1.1 and will be removed in 1.3. To keep the past behaviour, explicitly set `max_features='sqrt'` or remove this parameter as it is also the default value for RandomForestClassifiers and ExtraTreesClassifiers.\n",
      "  warn(\n"
     ]
    },
    {
     "name": "stdout",
     "output_type": "stream",
     "text": [
      "[CV] END bootstrap=True, max_features=auto, n_estimators=338, oob_score=True; total time=   1.8s\n"
     ]
    },
    {
     "name": "stderr",
     "output_type": "stream",
     "text": [
      "/root/.pyenv/versions/3.8.12/envs/mcats/lib/python3.8/site-packages/sklearn/ensemble/_forest.py:424: FutureWarning: `max_features='auto'` has been deprecated in 1.1 and will be removed in 1.3. To keep the past behaviour, explicitly set `max_features='sqrt'` or remove this parameter as it is also the default value for RandomForestClassifiers and ExtraTreesClassifiers.\n",
      "  warn(\n"
     ]
    },
    {
     "name": "stdout",
     "output_type": "stream",
     "text": [
      "[CV] END bootstrap=True, max_features=auto, n_estimators=338, oob_score=True; total time=   1.8s\n"
     ]
    },
    {
     "name": "stderr",
     "output_type": "stream",
     "text": [
      "/root/.pyenv/versions/3.8.12/envs/mcats/lib/python3.8/site-packages/sklearn/ensemble/_forest.py:424: FutureWarning: `max_features='auto'` has been deprecated in 1.1 and will be removed in 1.3. To keep the past behaviour, explicitly set `max_features='sqrt'` or remove this parameter as it is also the default value for RandomForestClassifiers and ExtraTreesClassifiers.\n",
      "  warn(\n"
     ]
    },
    {
     "name": "stdout",
     "output_type": "stream",
     "text": [
      "[CV] END bootstrap=True, max_features=auto, n_estimators=338, oob_score=True; total time=   2.0s\n",
      "[CV] END bootstrap=True, max_features=sqrt, n_estimators=373, oob_score=True; total time=   1.9s\n",
      "[CV] END bootstrap=True, max_features=sqrt, n_estimators=373, oob_score=True; total time=   1.9s\n",
      "[CV] END bootstrap=True, max_features=sqrt, n_estimators=373, oob_score=True; total time=   1.9s\n",
      "[CV] END bootstrap=True, max_features=sqrt, n_estimators=373, oob_score=True; total time=   2.0s\n",
      "[CV] END bootstrap=True, max_features=sqrt, n_estimators=373, oob_score=True; total time=   2.1s\n",
      "[CV] END bootstrap=True, max_features=sqrt, n_estimators=468, oob_score=True; total time=   2.5s\n",
      "[CV] END bootstrap=True, max_features=sqrt, n_estimators=468, oob_score=True; total time=   2.7s\n",
      "[CV] END bootstrap=True, max_features=sqrt, n_estimators=468, oob_score=True; total time=   2.3s\n",
      "[CV] END bootstrap=True, max_features=sqrt, n_estimators=468, oob_score=True; total time=   2.5s\n",
      "[CV] END bootstrap=True, max_features=sqrt, n_estimators=468, oob_score=True; total time=   2.5s\n",
      "[CV] END bootstrap=True, max_features=sqrt, n_estimators=66, oob_score=True; total time=   0.3s\n",
      "[CV] END bootstrap=True, max_features=sqrt, n_estimators=66, oob_score=True; total time=   0.3s\n",
      "[CV] END bootstrap=True, max_features=sqrt, n_estimators=66, oob_score=True; total time=   0.3s\n",
      "[CV] END bootstrap=True, max_features=sqrt, n_estimators=66, oob_score=True; total time=   0.3s\n",
      "[CV] END bootstrap=True, max_features=sqrt, n_estimators=66, oob_score=True; total time=   0.3s\n",
      "[CV] END bootstrap=True, max_features=auto, n_estimators=27, oob_score=True; total time=   0.1s\n"
     ]
    },
    {
     "name": "stderr",
     "output_type": "stream",
     "text": [
      "/root/.pyenv/versions/3.8.12/envs/mcats/lib/python3.8/site-packages/sklearn/ensemble/_forest.py:424: FutureWarning: `max_features='auto'` has been deprecated in 1.1 and will be removed in 1.3. To keep the past behaviour, explicitly set `max_features='sqrt'` or remove this parameter as it is also the default value for RandomForestClassifiers and ExtraTreesClassifiers.\n",
      "  warn(\n",
      "/root/.pyenv/versions/3.8.12/envs/mcats/lib/python3.8/site-packages/sklearn/ensemble/_forest.py:424: FutureWarning: `max_features='auto'` has been deprecated in 1.1 and will be removed in 1.3. To keep the past behaviour, explicitly set `max_features='sqrt'` or remove this parameter as it is also the default value for RandomForestClassifiers and ExtraTreesClassifiers.\n",
      "  warn(\n"
     ]
    },
    {
     "name": "stdout",
     "output_type": "stream",
     "text": [
      "[CV] END bootstrap=True, max_features=auto, n_estimators=27, oob_score=True; total time=   0.1s\n",
      "[CV] END bootstrap=True, max_features=auto, n_estimators=27, oob_score=True; total time=   0.1s\n"
     ]
    },
    {
     "name": "stderr",
     "output_type": "stream",
     "text": [
      "/root/.pyenv/versions/3.8.12/envs/mcats/lib/python3.8/site-packages/sklearn/ensemble/_forest.py:424: FutureWarning: `max_features='auto'` has been deprecated in 1.1 and will be removed in 1.3. To keep the past behaviour, explicitly set `max_features='sqrt'` or remove this parameter as it is also the default value for RandomForestClassifiers and ExtraTreesClassifiers.\n",
      "  warn(\n",
      "/root/.pyenv/versions/3.8.12/envs/mcats/lib/python3.8/site-packages/sklearn/ensemble/_forest.py:424: FutureWarning: `max_features='auto'` has been deprecated in 1.1 and will be removed in 1.3. To keep the past behaviour, explicitly set `max_features='sqrt'` or remove this parameter as it is also the default value for RandomForestClassifiers and ExtraTreesClassifiers.\n",
      "  warn(\n"
     ]
    },
    {
     "name": "stdout",
     "output_type": "stream",
     "text": [
      "[CV] END bootstrap=True, max_features=auto, n_estimators=27, oob_score=True; total time=   0.1s\n",
      "[CV] END bootstrap=True, max_features=auto, n_estimators=27, oob_score=True; total time=   0.1s\n"
     ]
    },
    {
     "name": "stderr",
     "output_type": "stream",
     "text": [
      "/root/.pyenv/versions/3.8.12/envs/mcats/lib/python3.8/site-packages/sklearn/ensemble/_forest.py:424: FutureWarning: `max_features='auto'` has been deprecated in 1.1 and will be removed in 1.3. To keep the past behaviour, explicitly set `max_features='sqrt'` or remove this parameter as it is also the default value for RandomForestClassifiers and ExtraTreesClassifiers.\n",
      "  warn(\n"
     ]
    },
    {
     "name": "stdout",
     "output_type": "stream",
     "text": [
      "[CV] END bootstrap=True, max_features=sqrt, n_estimators=228, oob_score=True; total time=   1.1s\n",
      "[CV] END bootstrap=True, max_features=sqrt, n_estimators=228, oob_score=True; total time=   1.1s\n",
      "[CV] END bootstrap=True, max_features=sqrt, n_estimators=228, oob_score=True; total time=   1.1s\n",
      "[CV] END bootstrap=True, max_features=sqrt, n_estimators=228, oob_score=True; total time=   1.2s\n",
      "[CV] END bootstrap=True, max_features=sqrt, n_estimators=228, oob_score=True; total time=   1.2s\n",
      "[CV] END bootstrap=True, max_features=sqrt, n_estimators=393, oob_score=True; total time=   2.0s\n",
      "[CV] END bootstrap=True, max_features=sqrt, n_estimators=393, oob_score=True; total time=   2.0s\n",
      "[CV] END bootstrap=True, max_features=sqrt, n_estimators=393, oob_score=True; total time=   2.0s\n",
      "[CV] END bootstrap=True, max_features=sqrt, n_estimators=393, oob_score=True; total time=   2.1s\n",
      "[CV] END bootstrap=True, max_features=sqrt, n_estimators=393, oob_score=True; total time=   2.2s\n"
     ]
    },
    {
     "name": "stderr",
     "output_type": "stream",
     "text": [
      "/root/.pyenv/versions/3.8.12/envs/mcats/lib/python3.8/site-packages/sklearn/ensemble/_forest.py:424: FutureWarning: `max_features='auto'` has been deprecated in 1.1 and will be removed in 1.3. To keep the past behaviour, explicitly set `max_features='sqrt'` or remove this parameter as it is also the default value for RandomForestClassifiers and ExtraTreesClassifiers.\n",
      "  warn(\n"
     ]
    },
    {
     "name": "stdout",
     "output_type": "stream",
     "text": [
      "[CV] END bootstrap=True, max_features=auto, n_estimators=155, oob_score=True; total time=   0.8s\n"
     ]
    },
    {
     "name": "stderr",
     "output_type": "stream",
     "text": [
      "/root/.pyenv/versions/3.8.12/envs/mcats/lib/python3.8/site-packages/sklearn/ensemble/_forest.py:424: FutureWarning: `max_features='auto'` has been deprecated in 1.1 and will be removed in 1.3. To keep the past behaviour, explicitly set `max_features='sqrt'` or remove this parameter as it is also the default value for RandomForestClassifiers and ExtraTreesClassifiers.\n",
      "  warn(\n"
     ]
    },
    {
     "name": "stdout",
     "output_type": "stream",
     "text": [
      "[CV] END bootstrap=True, max_features=auto, n_estimators=155, oob_score=True; total time=   0.8s\n"
     ]
    },
    {
     "name": "stderr",
     "output_type": "stream",
     "text": [
      "/root/.pyenv/versions/3.8.12/envs/mcats/lib/python3.8/site-packages/sklearn/ensemble/_forest.py:424: FutureWarning: `max_features='auto'` has been deprecated in 1.1 and will be removed in 1.3. To keep the past behaviour, explicitly set `max_features='sqrt'` or remove this parameter as it is also the default value for RandomForestClassifiers and ExtraTreesClassifiers.\n",
      "  warn(\n"
     ]
    },
    {
     "name": "stdout",
     "output_type": "stream",
     "text": [
      "[CV] END bootstrap=True, max_features=auto, n_estimators=155, oob_score=True; total time=   0.9s\n"
     ]
    },
    {
     "name": "stderr",
     "output_type": "stream",
     "text": [
      "/root/.pyenv/versions/3.8.12/envs/mcats/lib/python3.8/site-packages/sklearn/ensemble/_forest.py:424: FutureWarning: `max_features='auto'` has been deprecated in 1.1 and will be removed in 1.3. To keep the past behaviour, explicitly set `max_features='sqrt'` or remove this parameter as it is also the default value for RandomForestClassifiers and ExtraTreesClassifiers.\n",
      "  warn(\n"
     ]
    },
    {
     "name": "stdout",
     "output_type": "stream",
     "text": [
      "[CV] END bootstrap=True, max_features=auto, n_estimators=155, oob_score=True; total time=   0.9s\n"
     ]
    },
    {
     "name": "stderr",
     "output_type": "stream",
     "text": [
      "/root/.pyenv/versions/3.8.12/envs/mcats/lib/python3.8/site-packages/sklearn/ensemble/_forest.py:424: FutureWarning: `max_features='auto'` has been deprecated in 1.1 and will be removed in 1.3. To keep the past behaviour, explicitly set `max_features='sqrt'` or remove this parameter as it is also the default value for RandomForestClassifiers and ExtraTreesClassifiers.\n",
      "  warn(\n"
     ]
    },
    {
     "name": "stdout",
     "output_type": "stream",
     "text": [
      "[CV] END bootstrap=True, max_features=auto, n_estimators=155, oob_score=True; total time=   0.9s\n",
      "[CV] END bootstrap=True, max_features=auto, n_estimators=24, oob_score=True; total time=   0.1s\n"
     ]
    },
    {
     "name": "stderr",
     "output_type": "stream",
     "text": [
      "/root/.pyenv/versions/3.8.12/envs/mcats/lib/python3.8/site-packages/sklearn/ensemble/_forest.py:424: FutureWarning: `max_features='auto'` has been deprecated in 1.1 and will be removed in 1.3. To keep the past behaviour, explicitly set `max_features='sqrt'` or remove this parameter as it is also the default value for RandomForestClassifiers and ExtraTreesClassifiers.\n",
      "  warn(\n",
      "/root/.pyenv/versions/3.8.12/envs/mcats/lib/python3.8/site-packages/sklearn/ensemble/_forest.py:424: FutureWarning: `max_features='auto'` has been deprecated in 1.1 and will be removed in 1.3. To keep the past behaviour, explicitly set `max_features='sqrt'` or remove this parameter as it is also the default value for RandomForestClassifiers and ExtraTreesClassifiers.\n",
      "  warn(\n"
     ]
    },
    {
     "name": "stdout",
     "output_type": "stream",
     "text": [
      "[CV] END bootstrap=True, max_features=auto, n_estimators=24, oob_score=True; total time=   0.1s\n",
      "[CV] END bootstrap=True, max_features=auto, n_estimators=24, oob_score=True; total time=   0.2s\n"
     ]
    },
    {
     "name": "stderr",
     "output_type": "stream",
     "text": [
      "/root/.pyenv/versions/3.8.12/envs/mcats/lib/python3.8/site-packages/sklearn/ensemble/_forest.py:424: FutureWarning: `max_features='auto'` has been deprecated in 1.1 and will be removed in 1.3. To keep the past behaviour, explicitly set `max_features='sqrt'` or remove this parameter as it is also the default value for RandomForestClassifiers and ExtraTreesClassifiers.\n",
      "  warn(\n",
      "/root/.pyenv/versions/3.8.12/envs/mcats/lib/python3.8/site-packages/sklearn/ensemble/_forest.py:424: FutureWarning: `max_features='auto'` has been deprecated in 1.1 and will be removed in 1.3. To keep the past behaviour, explicitly set `max_features='sqrt'` or remove this parameter as it is also the default value for RandomForestClassifiers and ExtraTreesClassifiers.\n",
      "  warn(\n"
     ]
    },
    {
     "name": "stdout",
     "output_type": "stream",
     "text": [
      "[CV] END bootstrap=True, max_features=auto, n_estimators=24, oob_score=True; total time=   0.1s\n",
      "[CV] END bootstrap=True, max_features=auto, n_estimators=24, oob_score=True; total time=   0.1s\n"
     ]
    },
    {
     "name": "stderr",
     "output_type": "stream",
     "text": [
      "/root/.pyenv/versions/3.8.12/envs/mcats/lib/python3.8/site-packages/sklearn/ensemble/_forest.py:424: FutureWarning: `max_features='auto'` has been deprecated in 1.1 and will be removed in 1.3. To keep the past behaviour, explicitly set `max_features='sqrt'` or remove this parameter as it is also the default value for RandomForestClassifiers and ExtraTreesClassifiers.\n",
      "  warn(\n"
     ]
    },
    {
     "name": "stdout",
     "output_type": "stream",
     "text": [
      "[CV] END bootstrap=True, max_features=sqrt, n_estimators=197, oob_score=True; total time=   1.1s\n",
      "[CV] END bootstrap=True, max_features=sqrt, n_estimators=197, oob_score=True; total time=   1.1s\n",
      "[CV] END bootstrap=True, max_features=sqrt, n_estimators=197, oob_score=True; total time=   1.0s\n",
      "[CV] END bootstrap=True, max_features=sqrt, n_estimators=197, oob_score=True; total time=   1.0s\n",
      "[CV] END bootstrap=True, max_features=sqrt, n_estimators=197, oob_score=True; total time=   1.0s\n",
      "[CV] END bootstrap=True, max_features=sqrt, n_estimators=128, oob_score=True; total time=   0.7s\n",
      "[CV] END bootstrap=True, max_features=sqrt, n_estimators=128, oob_score=True; total time=   0.7s\n",
      "[CV] END bootstrap=True, max_features=sqrt, n_estimators=128, oob_score=True; total time=   0.6s\n",
      "[CV] END bootstrap=True, max_features=sqrt, n_estimators=128, oob_score=True; total time=   0.7s\n",
      "[CV] END bootstrap=True, max_features=sqrt, n_estimators=128, oob_score=True; total time=   0.7s\n",
      "[CV] END bootstrap=True, max_features=sqrt, n_estimators=383, oob_score=True; total time=   1.9s\n",
      "[CV] END bootstrap=True, max_features=sqrt, n_estimators=383, oob_score=True; total time=   2.0s\n",
      "[CV] END bootstrap=True, max_features=sqrt, n_estimators=383, oob_score=True; total time=   2.0s\n",
      "[CV] END bootstrap=True, max_features=sqrt, n_estimators=383, oob_score=True; total time=   1.9s\n",
      "[CV] END bootstrap=True, max_features=sqrt, n_estimators=383, oob_score=True; total time=   1.9s\n"
     ]
    },
    {
     "name": "stderr",
     "output_type": "stream",
     "text": [
      "/root/.pyenv/versions/3.8.12/envs/mcats/lib/python3.8/site-packages/sklearn/ensemble/_forest.py:424: FutureWarning: `max_features='auto'` has been deprecated in 1.1 and will be removed in 1.3. To keep the past behaviour, explicitly set `max_features='sqrt'` or remove this parameter as it is also the default value for RandomForestClassifiers and ExtraTreesClassifiers.\n",
      "  warn(\n"
     ]
    },
    {
     "name": "stdout",
     "output_type": "stream",
     "text": [
      "[CV] END bootstrap=True, max_features=auto, n_estimators=157, oob_score=True; total time=   0.8s\n"
     ]
    },
    {
     "name": "stderr",
     "output_type": "stream",
     "text": [
      "/root/.pyenv/versions/3.8.12/envs/mcats/lib/python3.8/site-packages/sklearn/ensemble/_forest.py:424: FutureWarning: `max_features='auto'` has been deprecated in 1.1 and will be removed in 1.3. To keep the past behaviour, explicitly set `max_features='sqrt'` or remove this parameter as it is also the default value for RandomForestClassifiers and ExtraTreesClassifiers.\n",
      "  warn(\n"
     ]
    },
    {
     "name": "stdout",
     "output_type": "stream",
     "text": [
      "[CV] END bootstrap=True, max_features=auto, n_estimators=157, oob_score=True; total time=   0.8s\n"
     ]
    },
    {
     "name": "stderr",
     "output_type": "stream",
     "text": [
      "/root/.pyenv/versions/3.8.12/envs/mcats/lib/python3.8/site-packages/sklearn/ensemble/_forest.py:424: FutureWarning: `max_features='auto'` has been deprecated in 1.1 and will be removed in 1.3. To keep the past behaviour, explicitly set `max_features='sqrt'` or remove this parameter as it is also the default value for RandomForestClassifiers and ExtraTreesClassifiers.\n",
      "  warn(\n"
     ]
    },
    {
     "name": "stdout",
     "output_type": "stream",
     "text": [
      "[CV] END bootstrap=True, max_features=auto, n_estimators=157, oob_score=True; total time=   0.8s\n"
     ]
    },
    {
     "name": "stderr",
     "output_type": "stream",
     "text": [
      "/root/.pyenv/versions/3.8.12/envs/mcats/lib/python3.8/site-packages/sklearn/ensemble/_forest.py:424: FutureWarning: `max_features='auto'` has been deprecated in 1.1 and will be removed in 1.3. To keep the past behaviour, explicitly set `max_features='sqrt'` or remove this parameter as it is also the default value for RandomForestClassifiers and ExtraTreesClassifiers.\n",
      "  warn(\n"
     ]
    },
    {
     "name": "stdout",
     "output_type": "stream",
     "text": [
      "[CV] END bootstrap=True, max_features=auto, n_estimators=157, oob_score=True; total time=   0.9s\n"
     ]
    },
    {
     "name": "stderr",
     "output_type": "stream",
     "text": [
      "/root/.pyenv/versions/3.8.12/envs/mcats/lib/python3.8/site-packages/sklearn/ensemble/_forest.py:424: FutureWarning: `max_features='auto'` has been deprecated in 1.1 and will be removed in 1.3. To keep the past behaviour, explicitly set `max_features='sqrt'` or remove this parameter as it is also the default value for RandomForestClassifiers and ExtraTreesClassifiers.\n",
      "  warn(\n"
     ]
    },
    {
     "name": "stdout",
     "output_type": "stream",
     "text": [
      "[CV] END bootstrap=True, max_features=auto, n_estimators=157, oob_score=True; total time=   0.9s\n",
      "[CV] END bootstrap=True, max_features=sqrt, n_estimators=315, oob_score=True; total time=   1.8s\n",
      "[CV] END bootstrap=True, max_features=sqrt, n_estimators=315, oob_score=True; total time=   1.7s\n",
      "[CV] END bootstrap=True, max_features=sqrt, n_estimators=315, oob_score=True; total time=   1.7s\n",
      "[CV] END bootstrap=True, max_features=sqrt, n_estimators=315, oob_score=True; total time=   1.8s\n",
      "[CV] END bootstrap=True, max_features=sqrt, n_estimators=315, oob_score=True; total time=   1.7s\n"
     ]
    }
   ],
   "source": [
    "#The most important parameters are n_estimators and max_features. Best params from the previous search were 300 for n estimators\n",
    "#that might have been because I limited the area the grid search was looking at.\n",
    "# Max features as log2 and squareroot as those were two of the three \n",
    "#gini or entropy for classfication. Entropy is computationally more expensive. \n",
    "#Other values were set because of scikit learn recommendations\n",
    "#oob score to remove generalization errors.\n",
    "model_parameters = { 'n_estimators': randint(2,500),\n",
    "                    'max_features': ['auto', 'sqrt'],\n",
    "                    'bootstrap' :[True],\n",
    "                    'oob_score':[True]\n",
    "                   }\n",
    "random_search= RandomizedSearchCV(model, model_parameters, n_iter=50, cv=5, random_state=1, verbose=2)\n",
    "\n",
    "model =random_search.fit(X_train, y_train)"
   ]
  },
  {
   "cell_type": "code",
   "execution_count": 26,
   "id": "850ef448",
   "metadata": {},
   "outputs": [
    {
     "data": {
      "text/plain": [
       "{'bootstrap': True,\n",
       " 'max_features': 'sqrt',\n",
       " 'n_estimators': 491,\n",
       " 'oob_score': True}"
      ]
     },
     "execution_count": 26,
     "metadata": {},
     "output_type": "execute_result"
    }
   ],
   "source": [
    "random_search.best_params_"
   ]
  },
  {
   "cell_type": "code",
   "execution_count": 28,
   "id": "4eaf6d83",
   "metadata": {},
   "outputs": [
    {
     "name": "stdout",
     "output_type": "stream",
     "text": [
      "              precision    recall  f1-score   support\n",
      "\n",
      "      hiphop       1.00      1.00      1.00        79\n",
      "   classical       1.00      1.00      1.00        88\n",
      "       blues       1.00      1.00      1.00        76\n",
      "       metal       1.00      1.00      1.00        78\n",
      "        jazz       1.00      1.00      1.00        84\n",
      "     country       1.00      1.00      1.00        73\n",
      "         pop       1.00      1.00      1.00        82\n",
      "        rock       1.00      1.00      1.00        81\n",
      "       disco       1.00      1.00      1.00        78\n",
      "      reggae       1.00      1.00      1.00        80\n",
      "\n",
      "    accuracy                           1.00       799\n",
      "   macro avg       1.00      1.00      1.00       799\n",
      "weighted avg       1.00      1.00      1.00       799\n",
      "\n"
     ]
    }
   ],
   "source": [
    "model_3 = RandomForestClassifier(n_estimators=491, max_features='sqrt', oob_score = True, bootstrap=True)  \n",
    "model_3.fit(X_train, y_train)\n",
    "preds_3 = model_3.predict(X_train)\n",
    "y_true = y_train\n",
    "y_pred = preds_3\n",
    "target_names = ['hiphop', 'classical', 'blues', 'metal', 'jazz', 'country', 'pop', 'rock', 'disco', 'reggae']\n",
    "print(classification_report(y_true, y_pred, target_names=target_names))"
   ]
  },
  {
   "cell_type": "markdown",
   "id": "4fa6ce24",
   "metadata": {},
   "source": [
    "Checking for overfitting of model 3. "
   ]
  },
  {
   "cell_type": "code",
   "execution_count": 29,
   "id": "ccd672fb",
   "metadata": {},
   "outputs": [
    {
     "name": "stdout",
     "output_type": "stream",
     "text": [
      "              precision    recall  f1-score   support\n",
      "\n",
      "      hiphop       0.60      0.57      0.59        21\n",
      "   classical       0.92      1.00      0.96        12\n",
      "       blues       0.71      0.62      0.67        24\n",
      "       metal       0.78      0.82      0.80        22\n",
      "        jazz       0.81      0.87      0.84        15\n",
      "     country       0.83      0.56      0.67        27\n",
      "         pop       0.64      0.89      0.74        18\n",
      "        rock       0.50      0.53      0.51        19\n",
      "       disco       0.61      0.64      0.62        22\n",
      "      reggae       0.48      0.50      0.49        20\n",
      "\n",
      "    accuracy                           0.68       200\n",
      "   macro avg       0.69      0.70      0.69       200\n",
      "weighted avg       0.68      0.68      0.67       200\n",
      "\n"
     ]
    }
   ],
   "source": [
    "model_3 = RandomForestClassifier(n_estimators=491, max_features='sqrt', oob_score = True, bootstrap=True)  \n",
    "model_3.fit(X_train, y_train)\n",
    "preds_3 = model_3.predict(X_test)\n",
    "y_true = y_test\n",
    "y_pred = preds_3\n",
    "target_names = ['hiphop', 'classical', 'blues', 'metal', 'jazz', 'country', 'pop', 'rock', 'disco', 'reggae']\n",
    "print(classification_report(y_true, y_pred, target_names=target_names))"
   ]
  },
  {
   "cell_type": "markdown",
   "id": "00c3d4d9",
   "metadata": {},
   "source": [
    "\"The sub-sample size is always the same as the original input sample size but the samples are drawn with replacement if bootstrap=True (default),\" which implies that bootstrap=False draws a sample of size equal to the number of training examples without replacement, i.e. the same training set is always used."
   ]
  },
  {
   "cell_type": "code",
   "execution_count": 30,
   "id": "bc3b4685",
   "metadata": {},
   "outputs": [
    {
     "name": "stderr",
     "output_type": "stream",
     "text": [
      "/root/.pyenv/versions/3.8.12/envs/mcats/lib/python3.8/site-packages/sklearn/ensemble/_forest.py:424: FutureWarning: `max_features='auto'` has been deprecated in 1.1 and will be removed in 1.3. To keep the past behaviour, explicitly set `max_features='sqrt'` or remove this parameter as it is also the default value for RandomForestClassifiers and ExtraTreesClassifiers.\n",
      "  warn(\n"
     ]
    },
    {
     "name": "stdout",
     "output_type": "stream",
     "text": [
      "              precision    recall  f1-score   support\n",
      "\n",
      "      hiphop       1.00      1.00      1.00        79\n",
      "   classical       1.00      1.00      1.00        88\n",
      "       blues       1.00      1.00      1.00        76\n",
      "       metal       1.00      1.00      1.00        78\n",
      "        jazz       1.00      1.00      1.00        84\n",
      "     country       1.00      1.00      1.00        73\n",
      "         pop       1.00      1.00      1.00        82\n",
      "        rock       1.00      1.00      1.00        81\n",
      "       disco       1.00      1.00      1.00        78\n",
      "      reggae       1.00      1.00      1.00        80\n",
      "\n",
      "    accuracy                           1.00       799\n",
      "   macro avg       1.00      1.00      1.00       799\n",
      "weighted avg       1.00      1.00      1.00       799\n",
      "\n"
     ]
    }
   ],
   "source": [
    "model_3 = RandomForestClassifier(n_estimators=828, max_features='auto')  \n",
    "model_3.fit(X_train, y_train)\n",
    "preds_3 = model_3.predict(X_train)\n",
    "y_true = y_train\n",
    "y_pred = preds_3\n",
    "target_names = ['hiphop', 'classical', 'blues', 'metal', 'jazz', 'country', 'pop', 'rock', 'disco', 'reggae']\n",
    "print(classification_report(y_true, y_pred, target_names=target_names))\n"
   ]
  },
  {
   "cell_type": "code",
   "execution_count": 31,
   "id": "a9ab6ce1",
   "metadata": {},
   "outputs": [
    {
     "name": "stderr",
     "output_type": "stream",
     "text": [
      "/root/.pyenv/versions/3.8.12/envs/mcats/lib/python3.8/site-packages/sklearn/ensemble/_forest.py:424: FutureWarning: `max_features='auto'` has been deprecated in 1.1 and will be removed in 1.3. To keep the past behaviour, explicitly set `max_features='sqrt'` or remove this parameter as it is also the default value for RandomForestClassifiers and ExtraTreesClassifiers.\n",
      "  warn(\n"
     ]
    },
    {
     "name": "stdout",
     "output_type": "stream",
     "text": [
      "              precision    recall  f1-score   support\n",
      "\n",
      "      hiphop       0.67      0.57      0.62        21\n",
      "   classical       0.92      1.00      0.96        12\n",
      "       blues       0.71      0.62      0.67        24\n",
      "       metal       0.81      0.77      0.79        22\n",
      "        jazz       0.81      0.87      0.84        15\n",
      "     country       0.82      0.52      0.64        27\n",
      "         pop       0.70      0.89      0.78        18\n",
      "        rock       0.44      0.58      0.50        19\n",
      "       disco       0.68      0.77      0.72        22\n",
      "      reggae       0.48      0.50      0.49        20\n",
      "\n",
      "    accuracy                           0.69       200\n",
      "   macro avg       0.70      0.71      0.70       200\n",
      "weighted avg       0.70      0.69      0.68       200\n",
      "\n"
     ]
    }
   ],
   "source": [
    "model_4 = RandomForestClassifier(n_estimators=828, max_features='auto')  \n",
    "model_4.fit(X_train, y_train)\n",
    "preds_4 = model_3.predict(X_test)\n",
    "y_true = y_test\n",
    "y_pred = preds_4\n",
    "target_names = ['hiphop', 'classical', 'blues', 'metal', 'jazz', 'country', 'pop', 'rock', 'disco', 'reggae']\n",
    "print(classification_report(y_true, y_pred, target_names=target_names))\n"
   ]
  },
  {
   "cell_type": "code",
   "execution_count": 32,
   "id": "d85b4273",
   "metadata": {},
   "outputs": [
    {
     "name": "stderr",
     "output_type": "stream",
     "text": [
      "/root/.pyenv/versions/3.8.12/envs/mcats/lib/python3.8/site-packages/sklearn/ensemble/_forest.py:424: FutureWarning: `max_features='auto'` has been deprecated in 1.1 and will be removed in 1.3. To keep the past behaviour, explicitly set `max_features='sqrt'` or remove this parameter as it is also the default value for RandomForestClassifiers and ExtraTreesClassifiers.\n",
      "  warn(\n"
     ]
    },
    {
     "name": "stdout",
     "output_type": "stream",
     "text": [
      "              precision    recall  f1-score   support\n",
      "\n",
      "      hiphop       1.00      1.00      1.00        79\n",
      "   classical       1.00      1.00      1.00        88\n",
      "       blues       1.00      1.00      1.00        76\n",
      "       metal       1.00      1.00      1.00        78\n",
      "        jazz       1.00      1.00      1.00        84\n",
      "     country       1.00      1.00      1.00        73\n",
      "         pop       1.00      1.00      1.00        82\n",
      "        rock       1.00      1.00      1.00        81\n",
      "       disco       1.00      1.00      1.00        78\n",
      "      reggae       1.00      1.00      1.00        80\n",
      "\n",
      "    accuracy                           1.00       799\n",
      "   macro avg       1.00      1.00      1.00       799\n",
      "weighted avg       1.00      1.00      1.00       799\n",
      "\n"
     ]
    }
   ],
   "source": [
    "model_4 = RandomForestClassifier(n_estimators=355, max_features='auto')  \n",
    "model_4.fit(X_train, y_train)\n",
    "preds_4 = model_4.predict(X_train)\n",
    "y_true = y_train\n",
    "y_pred = preds_4\n",
    "target_names = ['hiphop', 'classical', 'blues', 'metal', 'jazz', 'country', 'pop', 'rock', 'disco', 'reggae']\n",
    "print(classification_report(y_true, y_pred, target_names=target_names))"
   ]
  },
  {
   "cell_type": "code",
   "execution_count": 33,
   "id": "143e363f",
   "metadata": {},
   "outputs": [
    {
     "name": "stderr",
     "output_type": "stream",
     "text": [
      "/root/.pyenv/versions/3.8.12/envs/mcats/lib/python3.8/site-packages/sklearn/ensemble/_forest.py:424: FutureWarning: `max_features='auto'` has been deprecated in 1.1 and will be removed in 1.3. To keep the past behaviour, explicitly set `max_features='sqrt'` or remove this parameter as it is also the default value for RandomForestClassifiers and ExtraTreesClassifiers.\n",
      "  warn(\n"
     ]
    },
    {
     "name": "stdout",
     "output_type": "stream",
     "text": [
      "              precision    recall  f1-score   support\n",
      "\n",
      "      hiphop       0.72      0.62      0.67        21\n",
      "   classical       0.86      1.00      0.92        12\n",
      "       blues       0.67      0.67      0.67        24\n",
      "       metal       0.82      0.82      0.82        22\n",
      "        jazz       0.80      0.80      0.80        15\n",
      "     country       0.82      0.52      0.64        27\n",
      "         pop       0.74      0.94      0.83        18\n",
      "        rock       0.50      0.53      0.51        19\n",
      "       disco       0.64      0.73      0.68        22\n",
      "      reggae       0.50      0.55      0.52        20\n",
      "\n",
      "    accuracy                           0.69       200\n",
      "   macro avg       0.71      0.72      0.71       200\n",
      "weighted avg       0.70      0.69      0.69       200\n",
      "\n"
     ]
    }
   ],
   "source": [
    "#using recommended features from random grid search\n",
    "model_4 = RandomForestClassifier(n_estimators=355, max_features='auto')  \n",
    "model_4.fit(X_train, y_train)\n",
    "preds_4 = model_4.predict(X_test)\n",
    "y_true = y_test\n",
    "y_pred = preds_4\n",
    "target_names = ['hiphop', 'classical', 'blues', 'metal', 'jazz', 'country', 'pop', 'rock', 'disco', 'reggae']\n",
    "print(classification_report(y_true, y_pred, target_names=target_names))"
   ]
  },
  {
   "cell_type": "markdown",
   "id": "3c325a05",
   "metadata": {},
   "source": [
    "Use more parameters for the next model besides n_estimators and max features. Also, start the random integer from 5. 100 or 200 might have been too big. After training this. Look into ensemble methods with knn in addition to the random forest classifier."
   ]
  },
  {
   "cell_type": "code",
   "execution_count": 34,
   "id": "2c63650f",
   "metadata": {},
   "outputs": [
    {
     "name": "stdout",
     "output_type": "stream",
     "text": [
      "Fitting 5 folds for each of 100 candidates, totalling 500 fits\n"
     ]
    },
    {
     "name": "stderr",
     "output_type": "stream",
     "text": [
      "/root/.pyenv/versions/3.8.12/envs/mcats/lib/python3.8/site-packages/sklearn/ensemble/_forest.py:424: FutureWarning: `max_features='auto'` has been deprecated in 1.1 and will be removed in 1.3. To keep the past behaviour, explicitly set `max_features='sqrt'` or remove this parameter as it is also the default value for RandomForestClassifiers and ExtraTreesClassifiers.\n",
      "  warn(\n"
     ]
    },
    {
     "name": "stdout",
     "output_type": "stream",
     "text": [
      "[CV] END criterion=entropy, max_depth=12, max_features=auto, min_samples_split=74, n_estimators=768; total time=   2.6s\n"
     ]
    },
    {
     "name": "stderr",
     "output_type": "stream",
     "text": [
      "/root/.pyenv/versions/3.8.12/envs/mcats/lib/python3.8/site-packages/sklearn/ensemble/_forest.py:424: FutureWarning: `max_features='auto'` has been deprecated in 1.1 and will be removed in 1.3. To keep the past behaviour, explicitly set `max_features='sqrt'` or remove this parameter as it is also the default value for RandomForestClassifiers and ExtraTreesClassifiers.\n",
      "  warn(\n"
     ]
    },
    {
     "name": "stdout",
     "output_type": "stream",
     "text": [
      "[CV] END criterion=entropy, max_depth=12, max_features=auto, min_samples_split=74, n_estimators=768; total time=   1.3s\n"
     ]
    },
    {
     "name": "stderr",
     "output_type": "stream",
     "text": [
      "/root/.pyenv/versions/3.8.12/envs/mcats/lib/python3.8/site-packages/sklearn/ensemble/_forest.py:424: FutureWarning: `max_features='auto'` has been deprecated in 1.1 and will be removed in 1.3. To keep the past behaviour, explicitly set `max_features='sqrt'` or remove this parameter as it is also the default value for RandomForestClassifiers and ExtraTreesClassifiers.\n",
      "  warn(\n"
     ]
    },
    {
     "name": "stdout",
     "output_type": "stream",
     "text": [
      "[CV] END criterion=entropy, max_depth=12, max_features=auto, min_samples_split=74, n_estimators=768; total time=   1.4s\n"
     ]
    },
    {
     "name": "stderr",
     "output_type": "stream",
     "text": [
      "/root/.pyenv/versions/3.8.12/envs/mcats/lib/python3.8/site-packages/sklearn/ensemble/_forest.py:424: FutureWarning: `max_features='auto'` has been deprecated in 1.1 and will be removed in 1.3. To keep the past behaviour, explicitly set `max_features='sqrt'` or remove this parameter as it is also the default value for RandomForestClassifiers and ExtraTreesClassifiers.\n",
      "  warn(\n"
     ]
    },
    {
     "name": "stdout",
     "output_type": "stream",
     "text": [
      "[CV] END criterion=entropy, max_depth=12, max_features=auto, min_samples_split=74, n_estimators=768; total time=   1.3s\n"
     ]
    },
    {
     "name": "stderr",
     "output_type": "stream",
     "text": [
      "/root/.pyenv/versions/3.8.12/envs/mcats/lib/python3.8/site-packages/sklearn/ensemble/_forest.py:424: FutureWarning: `max_features='auto'` has been deprecated in 1.1 and will be removed in 1.3. To keep the past behaviour, explicitly set `max_features='sqrt'` or remove this parameter as it is also the default value for RandomForestClassifiers and ExtraTreesClassifiers.\n",
      "  warn(\n"
     ]
    },
    {
     "name": "stdout",
     "output_type": "stream",
     "text": [
      "[CV] END criterion=entropy, max_depth=12, max_features=auto, min_samples_split=74, n_estimators=768; total time=   1.3s\n",
      "[CV] END criterion=entropy, max_depth=12, max_features=sqrt, min_samples_split=81, n_estimators=961; total time=   1.6s\n",
      "[CV] END criterion=entropy, max_depth=12, max_features=sqrt, min_samples_split=81, n_estimators=961; total time=   1.7s\n",
      "[CV] END criterion=entropy, max_depth=12, max_features=sqrt, min_samples_split=81, n_estimators=961; total time=   1.6s\n",
      "[CV] END criterion=entropy, max_depth=12, max_features=sqrt, min_samples_split=81, n_estimators=961; total time=   1.7s\n",
      "[CV] END criterion=entropy, max_depth=12, max_features=sqrt, min_samples_split=81, n_estimators=961; total time=   1.8s\n"
     ]
    },
    {
     "name": "stderr",
     "output_type": "stream",
     "text": [
      "/root/.pyenv/versions/3.8.12/envs/mcats/lib/python3.8/site-packages/sklearn/ensemble/_forest.py:424: FutureWarning: `max_features='auto'` has been deprecated in 1.1 and will be removed in 1.3. To keep the past behaviour, explicitly set `max_features='sqrt'` or remove this parameter as it is also the default value for RandomForestClassifiers and ExtraTreesClassifiers.\n",
      "  warn(\n"
     ]
    },
    {
     "name": "stdout",
     "output_type": "stream",
     "text": [
      "[CV] END criterion=gini, max_depth=2, max_features=auto, min_samples_split=73, n_estimators=750; total time=   1.0s\n"
     ]
    },
    {
     "name": "stderr",
     "output_type": "stream",
     "text": [
      "/root/.pyenv/versions/3.8.12/envs/mcats/lib/python3.8/site-packages/sklearn/ensemble/_forest.py:424: FutureWarning: `max_features='auto'` has been deprecated in 1.1 and will be removed in 1.3. To keep the past behaviour, explicitly set `max_features='sqrt'` or remove this parameter as it is also the default value for RandomForestClassifiers and ExtraTreesClassifiers.\n",
      "  warn(\n"
     ]
    },
    {
     "name": "stdout",
     "output_type": "stream",
     "text": [
      "[CV] END criterion=gini, max_depth=2, max_features=auto, min_samples_split=73, n_estimators=750; total time=   1.0s\n"
     ]
    },
    {
     "name": "stderr",
     "output_type": "stream",
     "text": [
      "/root/.pyenv/versions/3.8.12/envs/mcats/lib/python3.8/site-packages/sklearn/ensemble/_forest.py:424: FutureWarning: `max_features='auto'` has been deprecated in 1.1 and will be removed in 1.3. To keep the past behaviour, explicitly set `max_features='sqrt'` or remove this parameter as it is also the default value for RandomForestClassifiers and ExtraTreesClassifiers.\n",
      "  warn(\n"
     ]
    },
    {
     "name": "stdout",
     "output_type": "stream",
     "text": [
      "[CV] END criterion=gini, max_depth=2, max_features=auto, min_samples_split=73, n_estimators=750; total time=   1.0s\n"
     ]
    },
    {
     "name": "stderr",
     "output_type": "stream",
     "text": [
      "/root/.pyenv/versions/3.8.12/envs/mcats/lib/python3.8/site-packages/sklearn/ensemble/_forest.py:424: FutureWarning: `max_features='auto'` has been deprecated in 1.1 and will be removed in 1.3. To keep the past behaviour, explicitly set `max_features='sqrt'` or remove this parameter as it is also the default value for RandomForestClassifiers and ExtraTreesClassifiers.\n",
      "  warn(\n"
     ]
    },
    {
     "name": "stdout",
     "output_type": "stream",
     "text": [
      "[CV] END criterion=gini, max_depth=2, max_features=auto, min_samples_split=73, n_estimators=750; total time=   1.1s\n"
     ]
    },
    {
     "name": "stderr",
     "output_type": "stream",
     "text": [
      "/root/.pyenv/versions/3.8.12/envs/mcats/lib/python3.8/site-packages/sklearn/ensemble/_forest.py:424: FutureWarning: `max_features='auto'` has been deprecated in 1.1 and will be removed in 1.3. To keep the past behaviour, explicitly set `max_features='sqrt'` or remove this parameter as it is also the default value for RandomForestClassifiers and ExtraTreesClassifiers.\n",
      "  warn(\n"
     ]
    },
    {
     "name": "stdout",
     "output_type": "stream",
     "text": [
      "[CV] END criterion=gini, max_depth=2, max_features=auto, min_samples_split=73, n_estimators=750; total time=   1.0s\n",
      "[CV] END criterion=gini, max_depth=7, max_features=sqrt, min_samples_split=52, n_estimators=277; total time=   0.5s\n",
      "[CV] END criterion=gini, max_depth=7, max_features=sqrt, min_samples_split=52, n_estimators=277; total time=   0.6s\n",
      "[CV] END criterion=gini, max_depth=7, max_features=sqrt, min_samples_split=52, n_estimators=277; total time=   0.5s\n",
      "[CV] END criterion=gini, max_depth=7, max_features=sqrt, min_samples_split=52, n_estimators=277; total time=   0.4s\n",
      "[CV] END criterion=gini, max_depth=7, max_features=sqrt, min_samples_split=52, n_estimators=277; total time=   0.4s\n",
      "[CV] END criterion=log_loss, max_depth=6, max_features=log2, min_samples_split=86, n_estimators=908; total time=   1.5s\n",
      "[CV] END criterion=log_loss, max_depth=6, max_features=log2, min_samples_split=86, n_estimators=908; total time=   1.5s\n",
      "[CV] END criterion=log_loss, max_depth=6, max_features=log2, min_samples_split=86, n_estimators=908; total time=   1.5s\n",
      "[CV] END criterion=log_loss, max_depth=6, max_features=log2, min_samples_split=86, n_estimators=908; total time=   1.5s\n",
      "[CV] END criterion=log_loss, max_depth=6, max_features=log2, min_samples_split=86, n_estimators=908; total time=   1.5s\n"
     ]
    },
    {
     "name": "stderr",
     "output_type": "stream",
     "text": [
      "/root/.pyenv/versions/3.8.12/envs/mcats/lib/python3.8/site-packages/sklearn/ensemble/_forest.py:424: FutureWarning: `max_features='auto'` has been deprecated in 1.1 and will be removed in 1.3. To keep the past behaviour, explicitly set `max_features='sqrt'` or remove this parameter as it is also the default value for RandomForestClassifiers and ExtraTreesClassifiers.\n",
      "  warn(\n"
     ]
    },
    {
     "name": "stdout",
     "output_type": "stream",
     "text": [
      "[CV] END criterion=gini, max_depth=11, max_features=auto, min_samples_split=31, n_estimators=399; total time=   0.7s\n"
     ]
    },
    {
     "name": "stderr",
     "output_type": "stream",
     "text": [
      "/root/.pyenv/versions/3.8.12/envs/mcats/lib/python3.8/site-packages/sklearn/ensemble/_forest.py:424: FutureWarning: `max_features='auto'` has been deprecated in 1.1 and will be removed in 1.3. To keep the past behaviour, explicitly set `max_features='sqrt'` or remove this parameter as it is also the default value for RandomForestClassifiers and ExtraTreesClassifiers.\n",
      "  warn(\n"
     ]
    },
    {
     "name": "stdout",
     "output_type": "stream",
     "text": [
      "[CV] END criterion=gini, max_depth=11, max_features=auto, min_samples_split=31, n_estimators=399; total time=   0.7s\n"
     ]
    },
    {
     "name": "stderr",
     "output_type": "stream",
     "text": [
      "/root/.pyenv/versions/3.8.12/envs/mcats/lib/python3.8/site-packages/sklearn/ensemble/_forest.py:424: FutureWarning: `max_features='auto'` has been deprecated in 1.1 and will be removed in 1.3. To keep the past behaviour, explicitly set `max_features='sqrt'` or remove this parameter as it is also the default value for RandomForestClassifiers and ExtraTreesClassifiers.\n",
      "  warn(\n"
     ]
    },
    {
     "name": "stdout",
     "output_type": "stream",
     "text": [
      "[CV] END criterion=gini, max_depth=11, max_features=auto, min_samples_split=31, n_estimators=399; total time=   0.7s\n"
     ]
    },
    {
     "name": "stderr",
     "output_type": "stream",
     "text": [
      "/root/.pyenv/versions/3.8.12/envs/mcats/lib/python3.8/site-packages/sklearn/ensemble/_forest.py:424: FutureWarning: `max_features='auto'` has been deprecated in 1.1 and will be removed in 1.3. To keep the past behaviour, explicitly set `max_features='sqrt'` or remove this parameter as it is also the default value for RandomForestClassifiers and ExtraTreesClassifiers.\n",
      "  warn(\n"
     ]
    },
    {
     "name": "stdout",
     "output_type": "stream",
     "text": [
      "[CV] END criterion=gini, max_depth=11, max_features=auto, min_samples_split=31, n_estimators=399; total time=   0.7s\n"
     ]
    },
    {
     "name": "stderr",
     "output_type": "stream",
     "text": [
      "/root/.pyenv/versions/3.8.12/envs/mcats/lib/python3.8/site-packages/sklearn/ensemble/_forest.py:424: FutureWarning: `max_features='auto'` has been deprecated in 1.1 and will be removed in 1.3. To keep the past behaviour, explicitly set `max_features='sqrt'` or remove this parameter as it is also the default value for RandomForestClassifiers and ExtraTreesClassifiers.\n",
      "  warn(\n"
     ]
    },
    {
     "name": "stdout",
     "output_type": "stream",
     "text": [
      "[CV] END criterion=gini, max_depth=11, max_features=auto, min_samples_split=31, n_estimators=399; total time=   0.7s\n",
      "[CV] END criterion=log_loss, max_depth=5, max_features=None, min_samples_split=89, n_estimators=754; total time=   8.0s\n",
      "[CV] END criterion=log_loss, max_depth=5, max_features=None, min_samples_split=89, n_estimators=754; total time=  12.7s\n",
      "[CV] END criterion=log_loss, max_depth=5, max_features=None, min_samples_split=89, n_estimators=754; total time=  23.7s\n",
      "[CV] END criterion=log_loss, max_depth=5, max_features=None, min_samples_split=89, n_estimators=754; total time=  23.5s\n",
      "[CV] END criterion=log_loss, max_depth=5, max_features=None, min_samples_split=89, n_estimators=754; total time=  10.8s\n",
      "[CV] END criterion=log_loss, max_depth=1, max_features=log2, min_samples_split=15, n_estimators=394; total time=   1.5s\n",
      "[CV] END criterion=log_loss, max_depth=1, max_features=log2, min_samples_split=15, n_estimators=394; total time=   1.7s\n",
      "[CV] END criterion=log_loss, max_depth=1, max_features=log2, min_samples_split=15, n_estimators=394; total time=   1.4s\n",
      "[CV] END criterion=log_loss, max_depth=1, max_features=log2, min_samples_split=15, n_estimators=394; total time=   1.8s\n",
      "[CV] END criterion=log_loss, max_depth=1, max_features=log2, min_samples_split=15, n_estimators=394; total time=   1.7s\n",
      "[CV] END criterion=entropy, max_depth=23, max_features=sqrt, min_samples_split=3, n_estimators=897; total time=   5.6s\n",
      "[CV] END criterion=entropy, max_depth=23, max_features=sqrt, min_samples_split=3, n_estimators=897; total time=   6.9s\n",
      "[CV] END criterion=entropy, max_depth=23, max_features=sqrt, min_samples_split=3, n_estimators=897; total time=   6.0s\n",
      "[CV] END criterion=entropy, max_depth=23, max_features=sqrt, min_samples_split=3, n_estimators=897; total time=   8.4s\n",
      "[CV] END criterion=entropy, max_depth=23, max_features=sqrt, min_samples_split=3, n_estimators=897; total time=  11.6s\n"
     ]
    },
    {
     "name": "stderr",
     "output_type": "stream",
     "text": [
      "/root/.pyenv/versions/3.8.12/envs/mcats/lib/python3.8/site-packages/sklearn/ensemble/_forest.py:424: FutureWarning: `max_features='auto'` has been deprecated in 1.1 and will be removed in 1.3. To keep the past behaviour, explicitly set `max_features='sqrt'` or remove this parameter as it is also the default value for RandomForestClassifiers and ExtraTreesClassifiers.\n",
      "  warn(\n"
     ]
    },
    {
     "name": "stdout",
     "output_type": "stream",
     "text": [
      "[CV] END criterion=gini, max_depth=18, max_features=auto, min_samples_split=90, n_estimators=654; total time=   5.9s\n"
     ]
    },
    {
     "name": "stderr",
     "output_type": "stream",
     "text": [
      "/root/.pyenv/versions/3.8.12/envs/mcats/lib/python3.8/site-packages/sklearn/ensemble/_forest.py:424: FutureWarning: `max_features='auto'` has been deprecated in 1.1 and will be removed in 1.3. To keep the past behaviour, explicitly set `max_features='sqrt'` or remove this parameter as it is also the default value for RandomForestClassifiers and ExtraTreesClassifiers.\n",
      "  warn(\n"
     ]
    },
    {
     "name": "stdout",
     "output_type": "stream",
     "text": [
      "[CV] END criterion=gini, max_depth=18, max_features=auto, min_samples_split=90, n_estimators=654; total time=   4.8s\n"
     ]
    },
    {
     "name": "stderr",
     "output_type": "stream",
     "text": [
      "/root/.pyenv/versions/3.8.12/envs/mcats/lib/python3.8/site-packages/sklearn/ensemble/_forest.py:424: FutureWarning: `max_features='auto'` has been deprecated in 1.1 and will be removed in 1.3. To keep the past behaviour, explicitly set `max_features='sqrt'` or remove this parameter as it is also the default value for RandomForestClassifiers and ExtraTreesClassifiers.\n",
      "  warn(\n"
     ]
    },
    {
     "name": "stdout",
     "output_type": "stream",
     "text": [
      "[CV] END criterion=gini, max_depth=18, max_features=auto, min_samples_split=90, n_estimators=654; total time=   3.2s\n"
     ]
    },
    {
     "name": "stderr",
     "output_type": "stream",
     "text": [
      "/root/.pyenv/versions/3.8.12/envs/mcats/lib/python3.8/site-packages/sklearn/ensemble/_forest.py:424: FutureWarning: `max_features='auto'` has been deprecated in 1.1 and will be removed in 1.3. To keep the past behaviour, explicitly set `max_features='sqrt'` or remove this parameter as it is also the default value for RandomForestClassifiers and ExtraTreesClassifiers.\n",
      "  warn(\n"
     ]
    },
    {
     "name": "stdout",
     "output_type": "stream",
     "text": [
      "[CV] END criterion=gini, max_depth=18, max_features=auto, min_samples_split=90, n_estimators=654; total time=   1.8s\n"
     ]
    },
    {
     "name": "stderr",
     "output_type": "stream",
     "text": [
      "/root/.pyenv/versions/3.8.12/envs/mcats/lib/python3.8/site-packages/sklearn/ensemble/_forest.py:424: FutureWarning: `max_features='auto'` has been deprecated in 1.1 and will be removed in 1.3. To keep the past behaviour, explicitly set `max_features='sqrt'` or remove this parameter as it is also the default value for RandomForestClassifiers and ExtraTreesClassifiers.\n",
      "  warn(\n"
     ]
    },
    {
     "name": "stdout",
     "output_type": "stream",
     "text": [
      "[CV] END criterion=gini, max_depth=18, max_features=auto, min_samples_split=90, n_estimators=654; total time=   2.0s\n"
     ]
    },
    {
     "name": "stderr",
     "output_type": "stream",
     "text": [
      "/root/.pyenv/versions/3.8.12/envs/mcats/lib/python3.8/site-packages/sklearn/ensemble/_forest.py:424: FutureWarning: `max_features='auto'` has been deprecated in 1.1 and will be removed in 1.3. To keep the past behaviour, explicitly set `max_features='sqrt'` or remove this parameter as it is also the default value for RandomForestClassifiers and ExtraTreesClassifiers.\n",
      "  warn(\n"
     ]
    },
    {
     "name": "stdout",
     "output_type": "stream",
     "text": [
      "[CV] END criterion=log_loss, max_depth=26, max_features=auto, min_samples_split=32, n_estimators=72; total time=   0.5s\n"
     ]
    },
    {
     "name": "stderr",
     "output_type": "stream",
     "text": [
      "/root/.pyenv/versions/3.8.12/envs/mcats/lib/python3.8/site-packages/sklearn/ensemble/_forest.py:424: FutureWarning: `max_features='auto'` has been deprecated in 1.1 and will be removed in 1.3. To keep the past behaviour, explicitly set `max_features='sqrt'` or remove this parameter as it is also the default value for RandomForestClassifiers and ExtraTreesClassifiers.\n",
      "  warn(\n"
     ]
    },
    {
     "name": "stdout",
     "output_type": "stream",
     "text": [
      "[CV] END criterion=log_loss, max_depth=26, max_features=auto, min_samples_split=32, n_estimators=72; total time=   0.4s\n"
     ]
    },
    {
     "name": "stderr",
     "output_type": "stream",
     "text": [
      "/root/.pyenv/versions/3.8.12/envs/mcats/lib/python3.8/site-packages/sklearn/ensemble/_forest.py:424: FutureWarning: `max_features='auto'` has been deprecated in 1.1 and will be removed in 1.3. To keep the past behaviour, explicitly set `max_features='sqrt'` or remove this parameter as it is also the default value for RandomForestClassifiers and ExtraTreesClassifiers.\n",
      "  warn(\n"
     ]
    },
    {
     "name": "stdout",
     "output_type": "stream",
     "text": [
      "[CV] END criterion=log_loss, max_depth=26, max_features=auto, min_samples_split=32, n_estimators=72; total time=   0.5s\n"
     ]
    },
    {
     "name": "stderr",
     "output_type": "stream",
     "text": [
      "/root/.pyenv/versions/3.8.12/envs/mcats/lib/python3.8/site-packages/sklearn/ensemble/_forest.py:424: FutureWarning: `max_features='auto'` has been deprecated in 1.1 and will be removed in 1.3. To keep the past behaviour, explicitly set `max_features='sqrt'` or remove this parameter as it is also the default value for RandomForestClassifiers and ExtraTreesClassifiers.\n",
      "  warn(\n"
     ]
    },
    {
     "name": "stdout",
     "output_type": "stream",
     "text": [
      "[CV] END criterion=log_loss, max_depth=26, max_features=auto, min_samples_split=32, n_estimators=72; total time=   0.6s\n"
     ]
    },
    {
     "name": "stderr",
     "output_type": "stream",
     "text": [
      "/root/.pyenv/versions/3.8.12/envs/mcats/lib/python3.8/site-packages/sklearn/ensemble/_forest.py:424: FutureWarning: `max_features='auto'` has been deprecated in 1.1 and will be removed in 1.3. To keep the past behaviour, explicitly set `max_features='sqrt'` or remove this parameter as it is also the default value for RandomForestClassifiers and ExtraTreesClassifiers.\n",
      "  warn(\n"
     ]
    },
    {
     "name": "stdout",
     "output_type": "stream",
     "text": [
      "[CV] END criterion=log_loss, max_depth=26, max_features=auto, min_samples_split=32, n_estimators=72; total time=   0.6s\n",
      "[CV] END criterion=log_loss, max_depth=22, max_features=sqrt, min_samples_split=59, n_estimators=516; total time=   2.5s\n",
      "[CV] END criterion=log_loss, max_depth=22, max_features=sqrt, min_samples_split=59, n_estimators=516; total time=   2.6s\n",
      "[CV] END criterion=log_loss, max_depth=22, max_features=sqrt, min_samples_split=59, n_estimators=516; total time=   3.0s\n",
      "[CV] END criterion=log_loss, max_depth=22, max_features=sqrt, min_samples_split=59, n_estimators=516; total time=   2.9s\n",
      "[CV] END criterion=log_loss, max_depth=22, max_features=sqrt, min_samples_split=59, n_estimators=516; total time=   3.0s\n",
      "[CV] END criterion=gini, max_depth=25, max_features=sqrt, min_samples_split=45, n_estimators=589; total time=   2.4s\n",
      "[CV] END criterion=gini, max_depth=25, max_features=sqrt, min_samples_split=45, n_estimators=589; total time=   1.3s\n",
      "[CV] END criterion=gini, max_depth=25, max_features=sqrt, min_samples_split=45, n_estimators=589; total time=   1.4s\n",
      "[CV] END criterion=gini, max_depth=25, max_features=sqrt, min_samples_split=45, n_estimators=589; total time=   1.5s\n",
      "[CV] END criterion=gini, max_depth=25, max_features=sqrt, min_samples_split=45, n_estimators=589; total time=   1.3s\n"
     ]
    },
    {
     "name": "stderr",
     "output_type": "stream",
     "text": [
      "/root/.pyenv/versions/3.8.12/envs/mcats/lib/python3.8/site-packages/sklearn/ensemble/_forest.py:424: FutureWarning: `max_features='auto'` has been deprecated in 1.1 and will be removed in 1.3. To keep the past behaviour, explicitly set `max_features='sqrt'` or remove this parameter as it is also the default value for RandomForestClassifiers and ExtraTreesClassifiers.\n",
      "  warn(\n"
     ]
    },
    {
     "name": "stdout",
     "output_type": "stream",
     "text": [
      "[CV] END criterion=log_loss, max_depth=21, max_features=auto, min_samples_split=43, n_estimators=467; total time=   1.5s\n"
     ]
    },
    {
     "name": "stderr",
     "output_type": "stream",
     "text": [
      "/root/.pyenv/versions/3.8.12/envs/mcats/lib/python3.8/site-packages/sklearn/ensemble/_forest.py:424: FutureWarning: `max_features='auto'` has been deprecated in 1.1 and will be removed in 1.3. To keep the past behaviour, explicitly set `max_features='sqrt'` or remove this parameter as it is also the default value for RandomForestClassifiers and ExtraTreesClassifiers.\n",
      "  warn(\n"
     ]
    },
    {
     "name": "stdout",
     "output_type": "stream",
     "text": [
      "[CV] END criterion=log_loss, max_depth=21, max_features=auto, min_samples_split=43, n_estimators=467; total time=   1.6s\n"
     ]
    },
    {
     "name": "stderr",
     "output_type": "stream",
     "text": [
      "/root/.pyenv/versions/3.8.12/envs/mcats/lib/python3.8/site-packages/sklearn/ensemble/_forest.py:424: FutureWarning: `max_features='auto'` has been deprecated in 1.1 and will be removed in 1.3. To keep the past behaviour, explicitly set `max_features='sqrt'` or remove this parameter as it is also the default value for RandomForestClassifiers and ExtraTreesClassifiers.\n",
      "  warn(\n"
     ]
    },
    {
     "name": "stdout",
     "output_type": "stream",
     "text": [
      "[CV] END criterion=log_loss, max_depth=21, max_features=auto, min_samples_split=43, n_estimators=467; total time=   1.6s\n"
     ]
    },
    {
     "name": "stderr",
     "output_type": "stream",
     "text": [
      "/root/.pyenv/versions/3.8.12/envs/mcats/lib/python3.8/site-packages/sklearn/ensemble/_forest.py:424: FutureWarning: `max_features='auto'` has been deprecated in 1.1 and will be removed in 1.3. To keep the past behaviour, explicitly set `max_features='sqrt'` or remove this parameter as it is also the default value for RandomForestClassifiers and ExtraTreesClassifiers.\n",
      "  warn(\n"
     ]
    },
    {
     "name": "stdout",
     "output_type": "stream",
     "text": [
      "[CV] END criterion=log_loss, max_depth=21, max_features=auto, min_samples_split=43, n_estimators=467; total time=   1.6s\n"
     ]
    },
    {
     "name": "stderr",
     "output_type": "stream",
     "text": [
      "/root/.pyenv/versions/3.8.12/envs/mcats/lib/python3.8/site-packages/sklearn/ensemble/_forest.py:424: FutureWarning: `max_features='auto'` has been deprecated in 1.1 and will be removed in 1.3. To keep the past behaviour, explicitly set `max_features='sqrt'` or remove this parameter as it is also the default value for RandomForestClassifiers and ExtraTreesClassifiers.\n",
      "  warn(\n"
     ]
    },
    {
     "name": "stdout",
     "output_type": "stream",
     "text": [
      "[CV] END criterion=log_loss, max_depth=21, max_features=auto, min_samples_split=43, n_estimators=467; total time=   1.7s\n",
      "[CV] END criterion=gini, max_depth=5, max_features=sqrt, min_samples_split=89, n_estimators=904; total time=   2.5s\n",
      "[CV] END criterion=gini, max_depth=5, max_features=sqrt, min_samples_split=89, n_estimators=904; total time=   2.0s\n",
      "[CV] END criterion=gini, max_depth=5, max_features=sqrt, min_samples_split=89, n_estimators=904; total time=   1.9s\n",
      "[CV] END criterion=gini, max_depth=5, max_features=sqrt, min_samples_split=89, n_estimators=904; total time=   1.9s\n",
      "[CV] END criterion=gini, max_depth=5, max_features=sqrt, min_samples_split=89, n_estimators=904; total time=   2.2s\n"
     ]
    },
    {
     "name": "stderr",
     "output_type": "stream",
     "text": [
      "/root/.pyenv/versions/3.8.12/envs/mcats/lib/python3.8/site-packages/sklearn/ensemble/_forest.py:424: FutureWarning: `max_features='auto'` has been deprecated in 1.1 and will be removed in 1.3. To keep the past behaviour, explicitly set `max_features='sqrt'` or remove this parameter as it is also the default value for RandomForestClassifiers and ExtraTreesClassifiers.\n",
      "  warn(\n"
     ]
    },
    {
     "name": "stdout",
     "output_type": "stream",
     "text": [
      "[CV] END criterion=log_loss, max_depth=26, max_features=auto, min_samples_split=24, n_estimators=778; total time=   2.9s\n"
     ]
    },
    {
     "name": "stderr",
     "output_type": "stream",
     "text": [
      "/root/.pyenv/versions/3.8.12/envs/mcats/lib/python3.8/site-packages/sklearn/ensemble/_forest.py:424: FutureWarning: `max_features='auto'` has been deprecated in 1.1 and will be removed in 1.3. To keep the past behaviour, explicitly set `max_features='sqrt'` or remove this parameter as it is also the default value for RandomForestClassifiers and ExtraTreesClassifiers.\n",
      "  warn(\n"
     ]
    },
    {
     "name": "stdout",
     "output_type": "stream",
     "text": [
      "[CV] END criterion=log_loss, max_depth=26, max_features=auto, min_samples_split=24, n_estimators=778; total time=   3.2s\n"
     ]
    },
    {
     "name": "stderr",
     "output_type": "stream",
     "text": [
      "/root/.pyenv/versions/3.8.12/envs/mcats/lib/python3.8/site-packages/sklearn/ensemble/_forest.py:424: FutureWarning: `max_features='auto'` has been deprecated in 1.1 and will be removed in 1.3. To keep the past behaviour, explicitly set `max_features='sqrt'` or remove this parameter as it is also the default value for RandomForestClassifiers and ExtraTreesClassifiers.\n",
      "  warn(\n"
     ]
    },
    {
     "name": "stdout",
     "output_type": "stream",
     "text": [
      "[CV] END criterion=log_loss, max_depth=26, max_features=auto, min_samples_split=24, n_estimators=778; total time=   3.0s\n"
     ]
    },
    {
     "name": "stderr",
     "output_type": "stream",
     "text": [
      "/root/.pyenv/versions/3.8.12/envs/mcats/lib/python3.8/site-packages/sklearn/ensemble/_forest.py:424: FutureWarning: `max_features='auto'` has been deprecated in 1.1 and will be removed in 1.3. To keep the past behaviour, explicitly set `max_features='sqrt'` or remove this parameter as it is also the default value for RandomForestClassifiers and ExtraTreesClassifiers.\n",
      "  warn(\n"
     ]
    },
    {
     "name": "stdout",
     "output_type": "stream",
     "text": [
      "[CV] END criterion=log_loss, max_depth=26, max_features=auto, min_samples_split=24, n_estimators=778; total time=   2.8s\n"
     ]
    },
    {
     "name": "stderr",
     "output_type": "stream",
     "text": [
      "/root/.pyenv/versions/3.8.12/envs/mcats/lib/python3.8/site-packages/sklearn/ensemble/_forest.py:424: FutureWarning: `max_features='auto'` has been deprecated in 1.1 and will be removed in 1.3. To keep the past behaviour, explicitly set `max_features='sqrt'` or remove this parameter as it is also the default value for RandomForestClassifiers and ExtraTreesClassifiers.\n",
      "  warn(\n"
     ]
    },
    {
     "name": "stdout",
     "output_type": "stream",
     "text": [
      "[CV] END criterion=log_loss, max_depth=26, max_features=auto, min_samples_split=24, n_estimators=778; total time=   2.9s\n",
      "[CV] END criterion=log_loss, max_depth=24, max_features=sqrt, min_samples_split=29, n_estimators=934; total time=   3.4s\n",
      "[CV] END criterion=log_loss, max_depth=24, max_features=sqrt, min_samples_split=29, n_estimators=934; total time=   3.4s\n",
      "[CV] END criterion=log_loss, max_depth=24, max_features=sqrt, min_samples_split=29, n_estimators=934; total time=   3.1s\n",
      "[CV] END criterion=log_loss, max_depth=24, max_features=sqrt, min_samples_split=29, n_estimators=934; total time=   3.1s\n",
      "[CV] END criterion=log_loss, max_depth=24, max_features=sqrt, min_samples_split=29, n_estimators=934; total time=   3.0s\n",
      "[CV] END criterion=entropy, max_depth=20, max_features=log2, min_samples_split=10, n_estimators=289; total time=   0.9s\n",
      "[CV] END criterion=entropy, max_depth=20, max_features=log2, min_samples_split=10, n_estimators=289; total time=   0.9s\n",
      "[CV] END criterion=entropy, max_depth=20, max_features=log2, min_samples_split=10, n_estimators=289; total time=   0.9s\n",
      "[CV] END criterion=entropy, max_depth=20, max_features=log2, min_samples_split=10, n_estimators=289; total time=   0.9s\n",
      "[CV] END criterion=entropy, max_depth=20, max_features=log2, min_samples_split=10, n_estimators=289; total time=   0.9s\n",
      "[CV] END criterion=log_loss, max_depth=11, max_features=None, min_samples_split=17, n_estimators=752; total time=  15.0s\n",
      "[CV] END criterion=log_loss, max_depth=11, max_features=None, min_samples_split=17, n_estimators=752; total time=  14.6s\n",
      "[CV] END criterion=log_loss, max_depth=11, max_features=None, min_samples_split=17, n_estimators=752; total time=  14.1s\n",
      "[CV] END criterion=log_loss, max_depth=11, max_features=None, min_samples_split=17, n_estimators=752; total time=  14.6s\n",
      "[CV] END criterion=log_loss, max_depth=11, max_features=None, min_samples_split=17, n_estimators=752; total time=  14.7s\n",
      "[CV] END criterion=entropy, max_depth=8, max_features=None, min_samples_split=94, n_estimators=587; total time=   7.7s\n",
      "[CV] END criterion=entropy, max_depth=8, max_features=None, min_samples_split=94, n_estimators=587; total time=   7.3s\n",
      "[CV] END criterion=entropy, max_depth=8, max_features=None, min_samples_split=94, n_estimators=587; total time=   7.4s\n",
      "[CV] END criterion=entropy, max_depth=8, max_features=None, min_samples_split=94, n_estimators=587; total time=   7.8s\n",
      "[CV] END criterion=entropy, max_depth=8, max_features=None, min_samples_split=94, n_estimators=587; total time=   8.1s\n"
     ]
    },
    {
     "name": "stderr",
     "output_type": "stream",
     "text": [
      "/root/.pyenv/versions/3.8.12/envs/mcats/lib/python3.8/site-packages/sklearn/ensemble/_forest.py:424: FutureWarning: `max_features='auto'` has been deprecated in 1.1 and will be removed in 1.3. To keep the past behaviour, explicitly set `max_features='sqrt'` or remove this parameter as it is also the default value for RandomForestClassifiers and ExtraTreesClassifiers.\n",
      "  warn(\n"
     ]
    },
    {
     "name": "stdout",
     "output_type": "stream",
     "text": [
      "[CV] END criterion=log_loss, max_depth=15, max_features=auto, min_samples_split=90, n_estimators=152; total time=   0.4s\n"
     ]
    },
    {
     "name": "stderr",
     "output_type": "stream",
     "text": [
      "/root/.pyenv/versions/3.8.12/envs/mcats/lib/python3.8/site-packages/sklearn/ensemble/_forest.py:424: FutureWarning: `max_features='auto'` has been deprecated in 1.1 and will be removed in 1.3. To keep the past behaviour, explicitly set `max_features='sqrt'` or remove this parameter as it is also the default value for RandomForestClassifiers and ExtraTreesClassifiers.\n",
      "  warn(\n"
     ]
    },
    {
     "name": "stdout",
     "output_type": "stream",
     "text": [
      "[CV] END criterion=log_loss, max_depth=15, max_features=auto, min_samples_split=90, n_estimators=152; total time=   0.5s\n"
     ]
    },
    {
     "name": "stderr",
     "output_type": "stream",
     "text": [
      "/root/.pyenv/versions/3.8.12/envs/mcats/lib/python3.8/site-packages/sklearn/ensemble/_forest.py:424: FutureWarning: `max_features='auto'` has been deprecated in 1.1 and will be removed in 1.3. To keep the past behaviour, explicitly set `max_features='sqrt'` or remove this parameter as it is also the default value for RandomForestClassifiers and ExtraTreesClassifiers.\n",
      "  warn(\n"
     ]
    },
    {
     "name": "stdout",
     "output_type": "stream",
     "text": [
      "[CV] END criterion=log_loss, max_depth=15, max_features=auto, min_samples_split=90, n_estimators=152; total time=   0.5s\n"
     ]
    },
    {
     "name": "stderr",
     "output_type": "stream",
     "text": [
      "/root/.pyenv/versions/3.8.12/envs/mcats/lib/python3.8/site-packages/sklearn/ensemble/_forest.py:424: FutureWarning: `max_features='auto'` has been deprecated in 1.1 and will be removed in 1.3. To keep the past behaviour, explicitly set `max_features='sqrt'` or remove this parameter as it is also the default value for RandomForestClassifiers and ExtraTreesClassifiers.\n",
      "  warn(\n"
     ]
    },
    {
     "name": "stdout",
     "output_type": "stream",
     "text": [
      "[CV] END criterion=log_loss, max_depth=15, max_features=auto, min_samples_split=90, n_estimators=152; total time=   0.5s\n"
     ]
    },
    {
     "name": "stderr",
     "output_type": "stream",
     "text": [
      "/root/.pyenv/versions/3.8.12/envs/mcats/lib/python3.8/site-packages/sklearn/ensemble/_forest.py:424: FutureWarning: `max_features='auto'` has been deprecated in 1.1 and will be removed in 1.3. To keep the past behaviour, explicitly set `max_features='sqrt'` or remove this parameter as it is also the default value for RandomForestClassifiers and ExtraTreesClassifiers.\n",
      "  warn(\n"
     ]
    },
    {
     "name": "stdout",
     "output_type": "stream",
     "text": [
      "[CV] END criterion=log_loss, max_depth=15, max_features=auto, min_samples_split=90, n_estimators=152; total time=   0.6s\n",
      "[CV] END criterion=entropy, max_depth=18, max_features=sqrt, min_samples_split=5, n_estimators=897; total time=   3.9s\n",
      "[CV] END criterion=entropy, max_depth=18, max_features=sqrt, min_samples_split=5, n_estimators=897; total time=   3.3s\n",
      "[CV] END criterion=entropy, max_depth=18, max_features=sqrt, min_samples_split=5, n_estimators=897; total time=   3.5s\n",
      "[CV] END criterion=entropy, max_depth=18, max_features=sqrt, min_samples_split=5, n_estimators=897; total time=   3.4s\n",
      "[CV] END criterion=entropy, max_depth=18, max_features=sqrt, min_samples_split=5, n_estimators=897; total time=   3.3s\n",
      "[CV] END criterion=gini, max_depth=30, max_features=sqrt, min_samples_split=8, n_estimators=565; total time=   1.4s\n",
      "[CV] END criterion=gini, max_depth=30, max_features=sqrt, min_samples_split=8, n_estimators=565; total time=   1.5s\n",
      "[CV] END criterion=gini, max_depth=30, max_features=sqrt, min_samples_split=8, n_estimators=565; total time=   1.5s\n",
      "[CV] END criterion=gini, max_depth=30, max_features=sqrt, min_samples_split=8, n_estimators=565; total time=   1.5s\n",
      "[CV] END criterion=gini, max_depth=30, max_features=sqrt, min_samples_split=8, n_estimators=565; total time=   1.4s\n",
      "[CV] END criterion=entropy, max_depth=7, max_features=log2, min_samples_split=78, n_estimators=988; total time=   2.4s\n",
      "[CV] END criterion=entropy, max_depth=7, max_features=log2, min_samples_split=78, n_estimators=988; total time=   2.3s\n",
      "[CV] END criterion=entropy, max_depth=7, max_features=log2, min_samples_split=78, n_estimators=988; total time=   2.3s\n",
      "[CV] END criterion=entropy, max_depth=7, max_features=log2, min_samples_split=78, n_estimators=988; total time=   2.4s\n",
      "[CV] END criterion=entropy, max_depth=7, max_features=log2, min_samples_split=78, n_estimators=988; total time=   2.3s\n",
      "[CV] END criterion=entropy, max_depth=12, max_features=None, min_samples_split=79, n_estimators=713; total time=   9.2s\n",
      "[CV] END criterion=entropy, max_depth=12, max_features=None, min_samples_split=79, n_estimators=713; total time=   9.4s\n",
      "[CV] END criterion=entropy, max_depth=12, max_features=None, min_samples_split=79, n_estimators=713; total time=   9.1s\n",
      "[CV] END criterion=entropy, max_depth=12, max_features=None, min_samples_split=79, n_estimators=713; total time=   9.1s\n",
      "[CV] END criterion=entropy, max_depth=12, max_features=None, min_samples_split=79, n_estimators=713; total time=   9.0s\n"
     ]
    },
    {
     "name": "stderr",
     "output_type": "stream",
     "text": [
      "/root/.pyenv/versions/3.8.12/envs/mcats/lib/python3.8/site-packages/sklearn/ensemble/_forest.py:424: FutureWarning: `max_features='auto'` has been deprecated in 1.1 and will be removed in 1.3. To keep the past behaviour, explicitly set `max_features='sqrt'` or remove this parameter as it is also the default value for RandomForestClassifiers and ExtraTreesClassifiers.\n",
      "  warn(\n"
     ]
    },
    {
     "name": "stdout",
     "output_type": "stream",
     "text": [
      "[CV] END criterion=gini, max_depth=12, max_features=auto, min_samples_split=32, n_estimators=549; total time=   1.2s\n"
     ]
    },
    {
     "name": "stderr",
     "output_type": "stream",
     "text": [
      "/root/.pyenv/versions/3.8.12/envs/mcats/lib/python3.8/site-packages/sklearn/ensemble/_forest.py:424: FutureWarning: `max_features='auto'` has been deprecated in 1.1 and will be removed in 1.3. To keep the past behaviour, explicitly set `max_features='sqrt'` or remove this parameter as it is also the default value for RandomForestClassifiers and ExtraTreesClassifiers.\n",
      "  warn(\n"
     ]
    },
    {
     "name": "stdout",
     "output_type": "stream",
     "text": [
      "[CV] END criterion=gini, max_depth=12, max_features=auto, min_samples_split=32, n_estimators=549; total time=   1.3s\n"
     ]
    },
    {
     "name": "stderr",
     "output_type": "stream",
     "text": [
      "/root/.pyenv/versions/3.8.12/envs/mcats/lib/python3.8/site-packages/sklearn/ensemble/_forest.py:424: FutureWarning: `max_features='auto'` has been deprecated in 1.1 and will be removed in 1.3. To keep the past behaviour, explicitly set `max_features='sqrt'` or remove this parameter as it is also the default value for RandomForestClassifiers and ExtraTreesClassifiers.\n",
      "  warn(\n"
     ]
    },
    {
     "name": "stdout",
     "output_type": "stream",
     "text": [
      "[CV] END criterion=gini, max_depth=12, max_features=auto, min_samples_split=32, n_estimators=549; total time=   1.3s\n"
     ]
    },
    {
     "name": "stderr",
     "output_type": "stream",
     "text": [
      "/root/.pyenv/versions/3.8.12/envs/mcats/lib/python3.8/site-packages/sklearn/ensemble/_forest.py:424: FutureWarning: `max_features='auto'` has been deprecated in 1.1 and will be removed in 1.3. To keep the past behaviour, explicitly set `max_features='sqrt'` or remove this parameter as it is also the default value for RandomForestClassifiers and ExtraTreesClassifiers.\n",
      "  warn(\n"
     ]
    },
    {
     "name": "stdout",
     "output_type": "stream",
     "text": [
      "[CV] END criterion=gini, max_depth=12, max_features=auto, min_samples_split=32, n_estimators=549; total time=   1.2s\n"
     ]
    },
    {
     "name": "stderr",
     "output_type": "stream",
     "text": [
      "/root/.pyenv/versions/3.8.12/envs/mcats/lib/python3.8/site-packages/sklearn/ensemble/_forest.py:424: FutureWarning: `max_features='auto'` has been deprecated in 1.1 and will be removed in 1.3. To keep the past behaviour, explicitly set `max_features='sqrt'` or remove this parameter as it is also the default value for RandomForestClassifiers and ExtraTreesClassifiers.\n",
      "  warn(\n"
     ]
    },
    {
     "name": "stdout",
     "output_type": "stream",
     "text": [
      "[CV] END criterion=gini, max_depth=12, max_features=auto, min_samples_split=32, n_estimators=549; total time=   1.3s\n",
      "[CV] END criterion=entropy, max_depth=5, max_features=sqrt, min_samples_split=84, n_estimators=97; total time=   0.4s\n",
      "[CV] END criterion=entropy, max_depth=5, max_features=sqrt, min_samples_split=84, n_estimators=97; total time=   0.4s\n",
      "[CV] END criterion=entropy, max_depth=5, max_features=sqrt, min_samples_split=84, n_estimators=97; total time=   0.4s\n",
      "[CV] END criterion=entropy, max_depth=5, max_features=sqrt, min_samples_split=84, n_estimators=97; total time=   0.3s\n",
      "[CV] END criterion=entropy, max_depth=5, max_features=sqrt, min_samples_split=84, n_estimators=97; total time=   0.3s\n",
      "[CV] END criterion=entropy, max_depth=11, max_features=None, min_samples_split=83, n_estimators=904; total time=  12.3s\n",
      "[CV] END criterion=entropy, max_depth=11, max_features=None, min_samples_split=83, n_estimators=904; total time=  12.8s\n",
      "[CV] END criterion=entropy, max_depth=11, max_features=None, min_samples_split=83, n_estimators=904; total time=  14.0s\n",
      "[CV] END criterion=entropy, max_depth=11, max_features=None, min_samples_split=83, n_estimators=904; total time=  11.5s\n",
      "[CV] END criterion=entropy, max_depth=11, max_features=None, min_samples_split=83, n_estimators=904; total time=  11.1s\n",
      "[CV] END criterion=entropy, max_depth=25, max_features=log2, min_samples_split=94, n_estimators=661; total time=   1.5s\n",
      "[CV] END criterion=entropy, max_depth=25, max_features=log2, min_samples_split=94, n_estimators=661; total time=   1.5s\n",
      "[CV] END criterion=entropy, max_depth=25, max_features=log2, min_samples_split=94, n_estimators=661; total time=   1.6s\n",
      "[CV] END criterion=entropy, max_depth=25, max_features=log2, min_samples_split=94, n_estimators=661; total time=   2.0s\n",
      "[CV] END criterion=entropy, max_depth=25, max_features=log2, min_samples_split=94, n_estimators=661; total time=   2.0s\n",
      "[CV] END criterion=gini, max_depth=13, max_features=sqrt, min_samples_split=96, n_estimators=573; total time=   1.4s\n",
      "[CV] END criterion=gini, max_depth=13, max_features=sqrt, min_samples_split=96, n_estimators=573; total time=   1.2s\n",
      "[CV] END criterion=gini, max_depth=13, max_features=sqrt, min_samples_split=96, n_estimators=573; total time=   1.3s\n",
      "[CV] END criterion=gini, max_depth=13, max_features=sqrt, min_samples_split=96, n_estimators=573; total time=   1.3s\n",
      "[CV] END criterion=gini, max_depth=13, max_features=sqrt, min_samples_split=96, n_estimators=573; total time=   1.3s\n",
      "[CV] END criterion=entropy, max_depth=25, max_features=log2, min_samples_split=99, n_estimators=131; total time=   0.4s\n",
      "[CV] END criterion=entropy, max_depth=25, max_features=log2, min_samples_split=99, n_estimators=131; total time=   0.4s\n",
      "[CV] END criterion=entropy, max_depth=25, max_features=log2, min_samples_split=99, n_estimators=131; total time=   0.4s\n",
      "[CV] END criterion=entropy, max_depth=25, max_features=log2, min_samples_split=99, n_estimators=131; total time=   0.4s\n",
      "[CV] END criterion=entropy, max_depth=25, max_features=log2, min_samples_split=99, n_estimators=131; total time=   0.5s\n",
      "[CV] END criterion=gini, max_depth=29, max_features=None, min_samples_split=12, n_estimators=695; total time=   7.1s\n",
      "[CV] END criterion=gini, max_depth=29, max_features=None, min_samples_split=12, n_estimators=695; total time=   6.9s\n",
      "[CV] END criterion=gini, max_depth=29, max_features=None, min_samples_split=12, n_estimators=695; total time=   6.9s\n",
      "[CV] END criterion=gini, max_depth=29, max_features=None, min_samples_split=12, n_estimators=695; total time=   6.8s\n",
      "[CV] END criterion=gini, max_depth=29, max_features=None, min_samples_split=12, n_estimators=695; total time=   6.9s\n",
      "[CV] END criterion=gini, max_depth=10, max_features=log2, min_samples_split=88, n_estimators=199; total time=   0.4s\n",
      "[CV] END criterion=gini, max_depth=10, max_features=log2, min_samples_split=88, n_estimators=199; total time=   0.4s\n",
      "[CV] END criterion=gini, max_depth=10, max_features=log2, min_samples_split=88, n_estimators=199; total time=   0.5s\n",
      "[CV] END criterion=gini, max_depth=10, max_features=log2, min_samples_split=88, n_estimators=199; total time=   0.4s\n",
      "[CV] END criterion=gini, max_depth=10, max_features=log2, min_samples_split=88, n_estimators=199; total time=   0.5s\n",
      "[CV] END criterion=log_loss, max_depth=8, max_features=None, min_samples_split=50, n_estimators=567; total time=   8.7s\n",
      "[CV] END criterion=log_loss, max_depth=8, max_features=None, min_samples_split=50, n_estimators=567; total time=   8.4s\n",
      "[CV] END criterion=log_loss, max_depth=8, max_features=None, min_samples_split=50, n_estimators=567; total time=   8.5s\n",
      "[CV] END criterion=log_loss, max_depth=8, max_features=None, min_samples_split=50, n_estimators=567; total time=   8.3s\n",
      "[CV] END criterion=log_loss, max_depth=8, max_features=None, min_samples_split=50, n_estimators=567; total time=   8.4s\n",
      "[CV] END criterion=entropy, max_depth=18, max_features=log2, min_samples_split=22, n_estimators=631; total time=   1.7s\n",
      "[CV] END criterion=entropy, max_depth=18, max_features=log2, min_samples_split=22, n_estimators=631; total time=   1.8s\n",
      "[CV] END criterion=entropy, max_depth=18, max_features=log2, min_samples_split=22, n_estimators=631; total time=   1.7s\n",
      "[CV] END criterion=entropy, max_depth=18, max_features=log2, min_samples_split=22, n_estimators=631; total time=   1.7s\n",
      "[CV] END criterion=entropy, max_depth=18, max_features=log2, min_samples_split=22, n_estimators=631; total time=   1.7s\n",
      "[CV] END criterion=gini, max_depth=23, max_features=sqrt, min_samples_split=15, n_estimators=627; total time=   1.5s\n",
      "[CV] END criterion=gini, max_depth=23, max_features=sqrt, min_samples_split=15, n_estimators=627; total time=   1.5s\n",
      "[CV] END criterion=gini, max_depth=23, max_features=sqrt, min_samples_split=15, n_estimators=627; total time=   1.6s\n",
      "[CV] END criterion=gini, max_depth=23, max_features=sqrt, min_samples_split=15, n_estimators=627; total time=   1.6s\n",
      "[CV] END criterion=gini, max_depth=23, max_features=sqrt, min_samples_split=15, n_estimators=627; total time=   1.4s\n"
     ]
    },
    {
     "name": "stderr",
     "output_type": "stream",
     "text": [
      "/root/.pyenv/versions/3.8.12/envs/mcats/lib/python3.8/site-packages/sklearn/ensemble/_forest.py:424: FutureWarning: `max_features='auto'` has been deprecated in 1.1 and will be removed in 1.3. To keep the past behaviour, explicitly set `max_features='sqrt'` or remove this parameter as it is also the default value for RandomForestClassifiers and ExtraTreesClassifiers.\n",
      "  warn(\n"
     ]
    },
    {
     "name": "stdout",
     "output_type": "stream",
     "text": [
      "[CV] END criterion=entropy, max_depth=22, max_features=auto, min_samples_split=12, n_estimators=97; total time=   0.3s\n"
     ]
    },
    {
     "name": "stderr",
     "output_type": "stream",
     "text": [
      "/root/.pyenv/versions/3.8.12/envs/mcats/lib/python3.8/site-packages/sklearn/ensemble/_forest.py:424: FutureWarning: `max_features='auto'` has been deprecated in 1.1 and will be removed in 1.3. To keep the past behaviour, explicitly set `max_features='sqrt'` or remove this parameter as it is also the default value for RandomForestClassifiers and ExtraTreesClassifiers.\n",
      "  warn(\n"
     ]
    },
    {
     "name": "stdout",
     "output_type": "stream",
     "text": [
      "[CV] END criterion=entropy, max_depth=22, max_features=auto, min_samples_split=12, n_estimators=97; total time=   0.4s\n"
     ]
    },
    {
     "name": "stderr",
     "output_type": "stream",
     "text": [
      "/root/.pyenv/versions/3.8.12/envs/mcats/lib/python3.8/site-packages/sklearn/ensemble/_forest.py:424: FutureWarning: `max_features='auto'` has been deprecated in 1.1 and will be removed in 1.3. To keep the past behaviour, explicitly set `max_features='sqrt'` or remove this parameter as it is also the default value for RandomForestClassifiers and ExtraTreesClassifiers.\n",
      "  warn(\n"
     ]
    },
    {
     "name": "stdout",
     "output_type": "stream",
     "text": [
      "[CV] END criterion=entropy, max_depth=22, max_features=auto, min_samples_split=12, n_estimators=97; total time=   0.4s\n"
     ]
    },
    {
     "name": "stderr",
     "output_type": "stream",
     "text": [
      "/root/.pyenv/versions/3.8.12/envs/mcats/lib/python3.8/site-packages/sklearn/ensemble/_forest.py:424: FutureWarning: `max_features='auto'` has been deprecated in 1.1 and will be removed in 1.3. To keep the past behaviour, explicitly set `max_features='sqrt'` or remove this parameter as it is also the default value for RandomForestClassifiers and ExtraTreesClassifiers.\n",
      "  warn(\n"
     ]
    },
    {
     "name": "stdout",
     "output_type": "stream",
     "text": [
      "[CV] END criterion=entropy, max_depth=22, max_features=auto, min_samples_split=12, n_estimators=97; total time=   0.4s\n"
     ]
    },
    {
     "name": "stderr",
     "output_type": "stream",
     "text": [
      "/root/.pyenv/versions/3.8.12/envs/mcats/lib/python3.8/site-packages/sklearn/ensemble/_forest.py:424: FutureWarning: `max_features='auto'` has been deprecated in 1.1 and will be removed in 1.3. To keep the past behaviour, explicitly set `max_features='sqrt'` or remove this parameter as it is also the default value for RandomForestClassifiers and ExtraTreesClassifiers.\n",
      "  warn(\n"
     ]
    },
    {
     "name": "stdout",
     "output_type": "stream",
     "text": [
      "[CV] END criterion=entropy, max_depth=22, max_features=auto, min_samples_split=12, n_estimators=97; total time=   0.4s\n",
      "[CV] END criterion=entropy, max_depth=25, max_features=sqrt, min_samples_split=23, n_estimators=232; total time=   0.9s\n",
      "[CV] END criterion=entropy, max_depth=25, max_features=sqrt, min_samples_split=23, n_estimators=232; total time=   0.9s\n",
      "[CV] END criterion=entropy, max_depth=25, max_features=sqrt, min_samples_split=23, n_estimators=232; total time=   0.8s\n",
      "[CV] END criterion=entropy, max_depth=25, max_features=sqrt, min_samples_split=23, n_estimators=232; total time=   0.8s\n",
      "[CV] END criterion=entropy, max_depth=25, max_features=sqrt, min_samples_split=23, n_estimators=232; total time=   0.8s\n",
      "[CV] END criterion=gini, max_depth=26, max_features=None, min_samples_split=27, n_estimators=498; total time=   3.9s\n",
      "[CV] END criterion=gini, max_depth=26, max_features=None, min_samples_split=27, n_estimators=498; total time=   3.9s\n",
      "[CV] END criterion=gini, max_depth=26, max_features=None, min_samples_split=27, n_estimators=498; total time=   4.2s\n",
      "[CV] END criterion=gini, max_depth=26, max_features=None, min_samples_split=27, n_estimators=498; total time=   4.2s\n",
      "[CV] END criterion=gini, max_depth=26, max_features=None, min_samples_split=27, n_estimators=498; total time=   4.0s\n"
     ]
    },
    {
     "name": "stderr",
     "output_type": "stream",
     "text": [
      "/root/.pyenv/versions/3.8.12/envs/mcats/lib/python3.8/site-packages/sklearn/ensemble/_forest.py:424: FutureWarning: `max_features='auto'` has been deprecated in 1.1 and will be removed in 1.3. To keep the past behaviour, explicitly set `max_features='sqrt'` or remove this parameter as it is also the default value for RandomForestClassifiers and ExtraTreesClassifiers.\n",
      "  warn(\n"
     ]
    },
    {
     "name": "stdout",
     "output_type": "stream",
     "text": [
      "[CV] END criterion=log_loss, max_depth=14, max_features=auto, min_samples_split=45, n_estimators=647; total time=   2.0s\n"
     ]
    },
    {
     "name": "stderr",
     "output_type": "stream",
     "text": [
      "/root/.pyenv/versions/3.8.12/envs/mcats/lib/python3.8/site-packages/sklearn/ensemble/_forest.py:424: FutureWarning: `max_features='auto'` has been deprecated in 1.1 and will be removed in 1.3. To keep the past behaviour, explicitly set `max_features='sqrt'` or remove this parameter as it is also the default value for RandomForestClassifiers and ExtraTreesClassifiers.\n",
      "  warn(\n"
     ]
    },
    {
     "name": "stdout",
     "output_type": "stream",
     "text": [
      "[CV] END criterion=log_loss, max_depth=14, max_features=auto, min_samples_split=45, n_estimators=647; total time=   2.0s\n"
     ]
    },
    {
     "name": "stderr",
     "output_type": "stream",
     "text": [
      "/root/.pyenv/versions/3.8.12/envs/mcats/lib/python3.8/site-packages/sklearn/ensemble/_forest.py:424: FutureWarning: `max_features='auto'` has been deprecated in 1.1 and will be removed in 1.3. To keep the past behaviour, explicitly set `max_features='sqrt'` or remove this parameter as it is also the default value for RandomForestClassifiers and ExtraTreesClassifiers.\n",
      "  warn(\n"
     ]
    },
    {
     "name": "stdout",
     "output_type": "stream",
     "text": [
      "[CV] END criterion=log_loss, max_depth=14, max_features=auto, min_samples_split=45, n_estimators=647; total time=   1.9s\n"
     ]
    },
    {
     "name": "stderr",
     "output_type": "stream",
     "text": [
      "/root/.pyenv/versions/3.8.12/envs/mcats/lib/python3.8/site-packages/sklearn/ensemble/_forest.py:424: FutureWarning: `max_features='auto'` has been deprecated in 1.1 and will be removed in 1.3. To keep the past behaviour, explicitly set `max_features='sqrt'` or remove this parameter as it is also the default value for RandomForestClassifiers and ExtraTreesClassifiers.\n",
      "  warn(\n"
     ]
    },
    {
     "name": "stdout",
     "output_type": "stream",
     "text": [
      "[CV] END criterion=log_loss, max_depth=14, max_features=auto, min_samples_split=45, n_estimators=647; total time=   1.9s\n"
     ]
    },
    {
     "name": "stderr",
     "output_type": "stream",
     "text": [
      "/root/.pyenv/versions/3.8.12/envs/mcats/lib/python3.8/site-packages/sklearn/ensemble/_forest.py:424: FutureWarning: `max_features='auto'` has been deprecated in 1.1 and will be removed in 1.3. To keep the past behaviour, explicitly set `max_features='sqrt'` or remove this parameter as it is also the default value for RandomForestClassifiers and ExtraTreesClassifiers.\n",
      "  warn(\n"
     ]
    },
    {
     "name": "stdout",
     "output_type": "stream",
     "text": [
      "[CV] END criterion=log_loss, max_depth=14, max_features=auto, min_samples_split=45, n_estimators=647; total time=   2.0s\n",
      "[CV] END criterion=entropy, max_depth=25, max_features=None, min_samples_split=17, n_estimators=537; total time=   9.7s\n",
      "[CV] END criterion=entropy, max_depth=25, max_features=None, min_samples_split=17, n_estimators=537; total time=   9.9s\n",
      "[CV] END criterion=entropy, max_depth=25, max_features=None, min_samples_split=17, n_estimators=537; total time=   9.7s\n",
      "[CV] END criterion=entropy, max_depth=25, max_features=None, min_samples_split=17, n_estimators=537; total time=   9.7s\n",
      "[CV] END criterion=entropy, max_depth=25, max_features=None, min_samples_split=17, n_estimators=537; total time=  10.0s\n",
      "[CV] END criterion=entropy, max_depth=3, max_features=None, min_samples_split=55, n_estimators=326; total time=   3.8s\n",
      "[CV] END criterion=entropy, max_depth=3, max_features=None, min_samples_split=55, n_estimators=326; total time=   4.0s\n",
      "[CV] END criterion=entropy, max_depth=3, max_features=None, min_samples_split=55, n_estimators=326; total time=   3.9s\n",
      "[CV] END criterion=entropy, max_depth=3, max_features=None, min_samples_split=55, n_estimators=326; total time=   3.9s\n",
      "[CV] END criterion=entropy, max_depth=3, max_features=None, min_samples_split=55, n_estimators=326; total time=   3.8s\n"
     ]
    },
    {
     "name": "stderr",
     "output_type": "stream",
     "text": [
      "/root/.pyenv/versions/3.8.12/envs/mcats/lib/python3.8/site-packages/sklearn/ensemble/_forest.py:424: FutureWarning: `max_features='auto'` has been deprecated in 1.1 and will be removed in 1.3. To keep the past behaviour, explicitly set `max_features='sqrt'` or remove this parameter as it is also the default value for RandomForestClassifiers and ExtraTreesClassifiers.\n",
      "  warn(\n"
     ]
    },
    {
     "name": "stdout",
     "output_type": "stream",
     "text": [
      "[CV] END criterion=gini, max_depth=6, max_features=auto, min_samples_split=23, n_estimators=297; total time=   0.7s\n"
     ]
    },
    {
     "name": "stderr",
     "output_type": "stream",
     "text": [
      "/root/.pyenv/versions/3.8.12/envs/mcats/lib/python3.8/site-packages/sklearn/ensemble/_forest.py:424: FutureWarning: `max_features='auto'` has been deprecated in 1.1 and will be removed in 1.3. To keep the past behaviour, explicitly set `max_features='sqrt'` or remove this parameter as it is also the default value for RandomForestClassifiers and ExtraTreesClassifiers.\n",
      "  warn(\n"
     ]
    },
    {
     "name": "stdout",
     "output_type": "stream",
     "text": [
      "[CV] END criterion=gini, max_depth=6, max_features=auto, min_samples_split=23, n_estimators=297; total time=   0.7s\n"
     ]
    },
    {
     "name": "stderr",
     "output_type": "stream",
     "text": [
      "/root/.pyenv/versions/3.8.12/envs/mcats/lib/python3.8/site-packages/sklearn/ensemble/_forest.py:424: FutureWarning: `max_features='auto'` has been deprecated in 1.1 and will be removed in 1.3. To keep the past behaviour, explicitly set `max_features='sqrt'` or remove this parameter as it is also the default value for RandomForestClassifiers and ExtraTreesClassifiers.\n",
      "  warn(\n"
     ]
    },
    {
     "name": "stdout",
     "output_type": "stream",
     "text": [
      "[CV] END criterion=gini, max_depth=6, max_features=auto, min_samples_split=23, n_estimators=297; total time=   0.8s\n"
     ]
    },
    {
     "name": "stderr",
     "output_type": "stream",
     "text": [
      "/root/.pyenv/versions/3.8.12/envs/mcats/lib/python3.8/site-packages/sklearn/ensemble/_forest.py:424: FutureWarning: `max_features='auto'` has been deprecated in 1.1 and will be removed in 1.3. To keep the past behaviour, explicitly set `max_features='sqrt'` or remove this parameter as it is also the default value for RandomForestClassifiers and ExtraTreesClassifiers.\n",
      "  warn(\n"
     ]
    },
    {
     "name": "stdout",
     "output_type": "stream",
     "text": [
      "[CV] END criterion=gini, max_depth=6, max_features=auto, min_samples_split=23, n_estimators=297; total time=   0.7s\n"
     ]
    },
    {
     "name": "stderr",
     "output_type": "stream",
     "text": [
      "/root/.pyenv/versions/3.8.12/envs/mcats/lib/python3.8/site-packages/sklearn/ensemble/_forest.py:424: FutureWarning: `max_features='auto'` has been deprecated in 1.1 and will be removed in 1.3. To keep the past behaviour, explicitly set `max_features='sqrt'` or remove this parameter as it is also the default value for RandomForestClassifiers and ExtraTreesClassifiers.\n",
      "  warn(\n"
     ]
    },
    {
     "name": "stdout",
     "output_type": "stream",
     "text": [
      "[CV] END criterion=gini, max_depth=6, max_features=auto, min_samples_split=23, n_estimators=297; total time=   0.8s\n",
      "[CV] END criterion=entropy, max_depth=28, max_features=sqrt, min_samples_split=49, n_estimators=462; total time=   1.4s\n",
      "[CV] END criterion=entropy, max_depth=28, max_features=sqrt, min_samples_split=49, n_estimators=462; total time=   1.4s\n",
      "[CV] END criterion=entropy, max_depth=28, max_features=sqrt, min_samples_split=49, n_estimators=462; total time=   1.4s\n",
      "[CV] END criterion=entropy, max_depth=28, max_features=sqrt, min_samples_split=49, n_estimators=462; total time=   1.4s\n",
      "[CV] END criterion=entropy, max_depth=28, max_features=sqrt, min_samples_split=49, n_estimators=462; total time=   1.5s\n",
      "[CV] END criterion=gini, max_depth=15, max_features=sqrt, min_samples_split=89, n_estimators=657; total time=   1.3s\n",
      "[CV] END criterion=gini, max_depth=15, max_features=sqrt, min_samples_split=89, n_estimators=657; total time=   1.3s\n",
      "[CV] END criterion=gini, max_depth=15, max_features=sqrt, min_samples_split=89, n_estimators=657; total time=   1.4s\n",
      "[CV] END criterion=gini, max_depth=15, max_features=sqrt, min_samples_split=89, n_estimators=657; total time=   1.4s\n",
      "[CV] END criterion=gini, max_depth=15, max_features=sqrt, min_samples_split=89, n_estimators=657; total time=   1.3s\n",
      "[CV] END criterion=gini, max_depth=11, max_features=sqrt, min_samples_split=69, n_estimators=885; total time=   1.9s\n",
      "[CV] END criterion=gini, max_depth=11, max_features=sqrt, min_samples_split=69, n_estimators=885; total time=   1.9s\n",
      "[CV] END criterion=gini, max_depth=11, max_features=sqrt, min_samples_split=69, n_estimators=885; total time=   1.8s\n",
      "[CV] END criterion=gini, max_depth=11, max_features=sqrt, min_samples_split=69, n_estimators=885; total time=   1.8s\n",
      "[CV] END criterion=gini, max_depth=11, max_features=sqrt, min_samples_split=69, n_estimators=885; total time=   1.8s\n",
      "[CV] END criterion=log_loss, max_depth=15, max_features=log2, min_samples_split=2, n_estimators=414; total time=   1.3s\n",
      "[CV] END criterion=log_loss, max_depth=15, max_features=log2, min_samples_split=2, n_estimators=414; total time=   1.4s\n",
      "[CV] END criterion=log_loss, max_depth=15, max_features=log2, min_samples_split=2, n_estimators=414; total time=   1.3s\n",
      "[CV] END criterion=log_loss, max_depth=15, max_features=log2, min_samples_split=2, n_estimators=414; total time=   1.3s\n",
      "[CV] END criterion=log_loss, max_depth=15, max_features=log2, min_samples_split=2, n_estimators=414; total time=   1.3s\n",
      "[CV] END criterion=entropy, max_depth=30, max_features=sqrt, min_samples_split=4, n_estimators=469; total time=   1.7s\n",
      "[CV] END criterion=entropy, max_depth=30, max_features=sqrt, min_samples_split=4, n_estimators=469; total time=   1.8s\n",
      "[CV] END criterion=entropy, max_depth=30, max_features=sqrt, min_samples_split=4, n_estimators=469; total time=   2.0s\n",
      "[CV] END criterion=entropy, max_depth=30, max_features=sqrt, min_samples_split=4, n_estimators=469; total time=   1.9s\n",
      "[CV] END criterion=entropy, max_depth=30, max_features=sqrt, min_samples_split=4, n_estimators=469; total time=   1.8s\n",
      "[CV] END criterion=gini, max_depth=23, max_features=auto, min_samples_split=30, n_estimators=56; total time=   0.2s\n"
     ]
    },
    {
     "name": "stderr",
     "output_type": "stream",
     "text": [
      "/root/.pyenv/versions/3.8.12/envs/mcats/lib/python3.8/site-packages/sklearn/ensemble/_forest.py:424: FutureWarning: `max_features='auto'` has been deprecated in 1.1 and will be removed in 1.3. To keep the past behaviour, explicitly set `max_features='sqrt'` or remove this parameter as it is also the default value for RandomForestClassifiers and ExtraTreesClassifiers.\n",
      "  warn(\n",
      "/root/.pyenv/versions/3.8.12/envs/mcats/lib/python3.8/site-packages/sklearn/ensemble/_forest.py:424: FutureWarning: `max_features='auto'` has been deprecated in 1.1 and will be removed in 1.3. To keep the past behaviour, explicitly set `max_features='sqrt'` or remove this parameter as it is also the default value for RandomForestClassifiers and ExtraTreesClassifiers.\n",
      "  warn(\n"
     ]
    },
    {
     "name": "stdout",
     "output_type": "stream",
     "text": [
      "[CV] END criterion=gini, max_depth=23, max_features=auto, min_samples_split=30, n_estimators=56; total time=   0.2s\n",
      "[CV] END criterion=gini, max_depth=23, max_features=auto, min_samples_split=30, n_estimators=56; total time=   0.2s\n"
     ]
    },
    {
     "name": "stderr",
     "output_type": "stream",
     "text": [
      "/root/.pyenv/versions/3.8.12/envs/mcats/lib/python3.8/site-packages/sklearn/ensemble/_forest.py:424: FutureWarning: `max_features='auto'` has been deprecated in 1.1 and will be removed in 1.3. To keep the past behaviour, explicitly set `max_features='sqrt'` or remove this parameter as it is also the default value for RandomForestClassifiers and ExtraTreesClassifiers.\n",
      "  warn(\n",
      "/root/.pyenv/versions/3.8.12/envs/mcats/lib/python3.8/site-packages/sklearn/ensemble/_forest.py:424: FutureWarning: `max_features='auto'` has been deprecated in 1.1 and will be removed in 1.3. To keep the past behaviour, explicitly set `max_features='sqrt'` or remove this parameter as it is also the default value for RandomForestClassifiers and ExtraTreesClassifiers.\n",
      "  warn(\n"
     ]
    },
    {
     "name": "stdout",
     "output_type": "stream",
     "text": [
      "[CV] END criterion=gini, max_depth=23, max_features=auto, min_samples_split=30, n_estimators=56; total time=   0.2s\n",
      "[CV] END criterion=gini, max_depth=23, max_features=auto, min_samples_split=30, n_estimators=56; total time=   0.2s\n"
     ]
    },
    {
     "name": "stderr",
     "output_type": "stream",
     "text": [
      "/root/.pyenv/versions/3.8.12/envs/mcats/lib/python3.8/site-packages/sklearn/ensemble/_forest.py:424: FutureWarning: `max_features='auto'` has been deprecated in 1.1 and will be removed in 1.3. To keep the past behaviour, explicitly set `max_features='sqrt'` or remove this parameter as it is also the default value for RandomForestClassifiers and ExtraTreesClassifiers.\n",
      "  warn(\n"
     ]
    },
    {
     "name": "stdout",
     "output_type": "stream",
     "text": [
      "[CV] END criterion=log_loss, max_depth=29, max_features=log2, min_samples_split=76, n_estimators=137; total time=   0.5s\n",
      "[CV] END criterion=log_loss, max_depth=29, max_features=log2, min_samples_split=76, n_estimators=137; total time=   0.4s\n",
      "[CV] END criterion=log_loss, max_depth=29, max_features=log2, min_samples_split=76, n_estimators=137; total time=   0.4s\n",
      "[CV] END criterion=log_loss, max_depth=29, max_features=log2, min_samples_split=76, n_estimators=137; total time=   0.4s\n",
      "[CV] END criterion=log_loss, max_depth=29, max_features=log2, min_samples_split=76, n_estimators=137; total time=   0.4s\n"
     ]
    },
    {
     "name": "stderr",
     "output_type": "stream",
     "text": [
      "/root/.pyenv/versions/3.8.12/envs/mcats/lib/python3.8/site-packages/sklearn/ensemble/_forest.py:424: FutureWarning: `max_features='auto'` has been deprecated in 1.1 and will be removed in 1.3. To keep the past behaviour, explicitly set `max_features='sqrt'` or remove this parameter as it is also the default value for RandomForestClassifiers and ExtraTreesClassifiers.\n",
      "  warn(\n"
     ]
    },
    {
     "name": "stdout",
     "output_type": "stream",
     "text": [
      "[CV] END criterion=entropy, max_depth=4, max_features=auto, min_samples_split=10, n_estimators=597; total time=   2.1s\n"
     ]
    },
    {
     "name": "stderr",
     "output_type": "stream",
     "text": [
      "/root/.pyenv/versions/3.8.12/envs/mcats/lib/python3.8/site-packages/sklearn/ensemble/_forest.py:424: FutureWarning: `max_features='auto'` has been deprecated in 1.1 and will be removed in 1.3. To keep the past behaviour, explicitly set `max_features='sqrt'` or remove this parameter as it is also the default value for RandomForestClassifiers and ExtraTreesClassifiers.\n",
      "  warn(\n"
     ]
    },
    {
     "name": "stdout",
     "output_type": "stream",
     "text": [
      "[CV] END criterion=entropy, max_depth=4, max_features=auto, min_samples_split=10, n_estimators=597; total time=   2.9s\n"
     ]
    },
    {
     "name": "stderr",
     "output_type": "stream",
     "text": [
      "/root/.pyenv/versions/3.8.12/envs/mcats/lib/python3.8/site-packages/sklearn/ensemble/_forest.py:424: FutureWarning: `max_features='auto'` has been deprecated in 1.1 and will be removed in 1.3. To keep the past behaviour, explicitly set `max_features='sqrt'` or remove this parameter as it is also the default value for RandomForestClassifiers and ExtraTreesClassifiers.\n",
      "  warn(\n"
     ]
    },
    {
     "name": "stdout",
     "output_type": "stream",
     "text": [
      "[CV] END criterion=entropy, max_depth=4, max_features=auto, min_samples_split=10, n_estimators=597; total time=   2.5s\n"
     ]
    },
    {
     "name": "stderr",
     "output_type": "stream",
     "text": [
      "/root/.pyenv/versions/3.8.12/envs/mcats/lib/python3.8/site-packages/sklearn/ensemble/_forest.py:424: FutureWarning: `max_features='auto'` has been deprecated in 1.1 and will be removed in 1.3. To keep the past behaviour, explicitly set `max_features='sqrt'` or remove this parameter as it is also the default value for RandomForestClassifiers and ExtraTreesClassifiers.\n",
      "  warn(\n"
     ]
    },
    {
     "name": "stdout",
     "output_type": "stream",
     "text": [
      "[CV] END criterion=entropy, max_depth=4, max_features=auto, min_samples_split=10, n_estimators=597; total time=   3.0s\n"
     ]
    },
    {
     "name": "stderr",
     "output_type": "stream",
     "text": [
      "/root/.pyenv/versions/3.8.12/envs/mcats/lib/python3.8/site-packages/sklearn/ensemble/_forest.py:424: FutureWarning: `max_features='auto'` has been deprecated in 1.1 and will be removed in 1.3. To keep the past behaviour, explicitly set `max_features='sqrt'` or remove this parameter as it is also the default value for RandomForestClassifiers and ExtraTreesClassifiers.\n",
      "  warn(\n"
     ]
    },
    {
     "name": "stdout",
     "output_type": "stream",
     "text": [
      "[CV] END criterion=entropy, max_depth=4, max_features=auto, min_samples_split=10, n_estimators=597; total time=   2.1s\n",
      "[CV] END criterion=entropy, max_depth=19, max_features=None, min_samples_split=43, n_estimators=833; total time=  14.0s\n",
      "[CV] END criterion=entropy, max_depth=19, max_features=None, min_samples_split=43, n_estimators=833; total time=  13.5s\n",
      "[CV] END criterion=entropy, max_depth=19, max_features=None, min_samples_split=43, n_estimators=833; total time=  13.0s\n",
      "[CV] END criterion=entropy, max_depth=19, max_features=None, min_samples_split=43, n_estimators=833; total time=  13.8s\n",
      "[CV] END criterion=entropy, max_depth=19, max_features=None, min_samples_split=43, n_estimators=833; total time=  12.6s\n",
      "[CV] END criterion=gini, max_depth=20, max_features=auto, min_samples_split=22, n_estimators=45; total time=   0.1s\n"
     ]
    },
    {
     "name": "stderr",
     "output_type": "stream",
     "text": [
      "/root/.pyenv/versions/3.8.12/envs/mcats/lib/python3.8/site-packages/sklearn/ensemble/_forest.py:424: FutureWarning: `max_features='auto'` has been deprecated in 1.1 and will be removed in 1.3. To keep the past behaviour, explicitly set `max_features='sqrt'` or remove this parameter as it is also the default value for RandomForestClassifiers and ExtraTreesClassifiers.\n",
      "  warn(\n",
      "/root/.pyenv/versions/3.8.12/envs/mcats/lib/python3.8/site-packages/sklearn/ensemble/_forest.py:424: FutureWarning: `max_features='auto'` has been deprecated in 1.1 and will be removed in 1.3. To keep the past behaviour, explicitly set `max_features='sqrt'` or remove this parameter as it is also the default value for RandomForestClassifiers and ExtraTreesClassifiers.\n",
      "  warn(\n"
     ]
    },
    {
     "name": "stdout",
     "output_type": "stream",
     "text": [
      "[CV] END criterion=gini, max_depth=20, max_features=auto, min_samples_split=22, n_estimators=45; total time=   0.2s\n",
      "[CV] END criterion=gini, max_depth=20, max_features=auto, min_samples_split=22, n_estimators=45; total time=   0.1s\n"
     ]
    },
    {
     "name": "stderr",
     "output_type": "stream",
     "text": [
      "/root/.pyenv/versions/3.8.12/envs/mcats/lib/python3.8/site-packages/sklearn/ensemble/_forest.py:424: FutureWarning: `max_features='auto'` has been deprecated in 1.1 and will be removed in 1.3. To keep the past behaviour, explicitly set `max_features='sqrt'` or remove this parameter as it is also the default value for RandomForestClassifiers and ExtraTreesClassifiers.\n",
      "  warn(\n",
      "/root/.pyenv/versions/3.8.12/envs/mcats/lib/python3.8/site-packages/sklearn/ensemble/_forest.py:424: FutureWarning: `max_features='auto'` has been deprecated in 1.1 and will be removed in 1.3. To keep the past behaviour, explicitly set `max_features='sqrt'` or remove this parameter as it is also the default value for RandomForestClassifiers and ExtraTreesClassifiers.\n",
      "  warn(\n"
     ]
    },
    {
     "name": "stdout",
     "output_type": "stream",
     "text": [
      "[CV] END criterion=gini, max_depth=20, max_features=auto, min_samples_split=22, n_estimators=45; total time=   0.1s\n",
      "[CV] END criterion=gini, max_depth=20, max_features=auto, min_samples_split=22, n_estimators=45; total time=   0.1s\n"
     ]
    },
    {
     "name": "stderr",
     "output_type": "stream",
     "text": [
      "/root/.pyenv/versions/3.8.12/envs/mcats/lib/python3.8/site-packages/sklearn/ensemble/_forest.py:424: FutureWarning: `max_features='auto'` has been deprecated in 1.1 and will be removed in 1.3. To keep the past behaviour, explicitly set `max_features='sqrt'` or remove this parameter as it is also the default value for RandomForestClassifiers and ExtraTreesClassifiers.\n",
      "  warn(\n"
     ]
    },
    {
     "name": "stdout",
     "output_type": "stream",
     "text": [
      "[CV] END criterion=log_loss, max_depth=28, max_features=log2, min_samples_split=21, n_estimators=252; total time=   0.7s\n",
      "[CV] END criterion=log_loss, max_depth=28, max_features=log2, min_samples_split=21, n_estimators=252; total time=   0.8s\n",
      "[CV] END criterion=log_loss, max_depth=28, max_features=log2, min_samples_split=21, n_estimators=252; total time=   0.9s\n",
      "[CV] END criterion=log_loss, max_depth=28, max_features=log2, min_samples_split=21, n_estimators=252; total time=   0.9s\n",
      "[CV] END criterion=log_loss, max_depth=28, max_features=log2, min_samples_split=21, n_estimators=252; total time=   1.0s\n",
      "[CV] END criterion=log_loss, max_depth=12, max_features=log2, min_samples_split=9, n_estimators=740; total time=   2.4s\n",
      "[CV] END criterion=log_loss, max_depth=12, max_features=log2, min_samples_split=9, n_estimators=740; total time=   2.3s\n",
      "[CV] END criterion=log_loss, max_depth=12, max_features=log2, min_samples_split=9, n_estimators=740; total time=   2.4s\n",
      "[CV] END criterion=log_loss, max_depth=12, max_features=log2, min_samples_split=9, n_estimators=740; total time=   2.6s\n",
      "[CV] END criterion=log_loss, max_depth=12, max_features=log2, min_samples_split=9, n_estimators=740; total time=   2.3s\n",
      "[CV] END criterion=entropy, max_depth=16, max_features=log2, min_samples_split=62, n_estimators=756; total time=   1.8s\n",
      "[CV] END criterion=entropy, max_depth=16, max_features=log2, min_samples_split=62, n_estimators=756; total time=   1.8s\n",
      "[CV] END criterion=entropy, max_depth=16, max_features=log2, min_samples_split=62, n_estimators=756; total time=   1.8s\n",
      "[CV] END criterion=entropy, max_depth=16, max_features=log2, min_samples_split=62, n_estimators=756; total time=   1.8s\n",
      "[CV] END criterion=entropy, max_depth=16, max_features=log2, min_samples_split=62, n_estimators=756; total time=   1.8s\n"
     ]
    },
    {
     "name": "stderr",
     "output_type": "stream",
     "text": [
      "/root/.pyenv/versions/3.8.12/envs/mcats/lib/python3.8/site-packages/sklearn/ensemble/_forest.py:424: FutureWarning: `max_features='auto'` has been deprecated in 1.1 and will be removed in 1.3. To keep the past behaviour, explicitly set `max_features='sqrt'` or remove this parameter as it is also the default value for RandomForestClassifiers and ExtraTreesClassifiers.\n",
      "  warn(\n"
     ]
    },
    {
     "name": "stdout",
     "output_type": "stream",
     "text": [
      "[CV] END criterion=log_loss, max_depth=5, max_features=auto, min_samples_split=34, n_estimators=916; total time=   2.9s\n"
     ]
    },
    {
     "name": "stderr",
     "output_type": "stream",
     "text": [
      "/root/.pyenv/versions/3.8.12/envs/mcats/lib/python3.8/site-packages/sklearn/ensemble/_forest.py:424: FutureWarning: `max_features='auto'` has been deprecated in 1.1 and will be removed in 1.3. To keep the past behaviour, explicitly set `max_features='sqrt'` or remove this parameter as it is also the default value for RandomForestClassifiers and ExtraTreesClassifiers.\n",
      "  warn(\n"
     ]
    },
    {
     "name": "stdout",
     "output_type": "stream",
     "text": [
      "[CV] END criterion=log_loss, max_depth=5, max_features=auto, min_samples_split=34, n_estimators=916; total time=   3.0s\n"
     ]
    },
    {
     "name": "stderr",
     "output_type": "stream",
     "text": [
      "/root/.pyenv/versions/3.8.12/envs/mcats/lib/python3.8/site-packages/sklearn/ensemble/_forest.py:424: FutureWarning: `max_features='auto'` has been deprecated in 1.1 and will be removed in 1.3. To keep the past behaviour, explicitly set `max_features='sqrt'` or remove this parameter as it is also the default value for RandomForestClassifiers and ExtraTreesClassifiers.\n",
      "  warn(\n"
     ]
    },
    {
     "name": "stdout",
     "output_type": "stream",
     "text": [
      "[CV] END criterion=log_loss, max_depth=5, max_features=auto, min_samples_split=34, n_estimators=916; total time=   2.8s\n"
     ]
    },
    {
     "name": "stderr",
     "output_type": "stream",
     "text": [
      "/root/.pyenv/versions/3.8.12/envs/mcats/lib/python3.8/site-packages/sklearn/ensemble/_forest.py:424: FutureWarning: `max_features='auto'` has been deprecated in 1.1 and will be removed in 1.3. To keep the past behaviour, explicitly set `max_features='sqrt'` or remove this parameter as it is also the default value for RandomForestClassifiers and ExtraTreesClassifiers.\n",
      "  warn(\n"
     ]
    },
    {
     "name": "stdout",
     "output_type": "stream",
     "text": [
      "[CV] END criterion=log_loss, max_depth=5, max_features=auto, min_samples_split=34, n_estimators=916; total time=   2.8s\n"
     ]
    },
    {
     "name": "stderr",
     "output_type": "stream",
     "text": [
      "/root/.pyenv/versions/3.8.12/envs/mcats/lib/python3.8/site-packages/sklearn/ensemble/_forest.py:424: FutureWarning: `max_features='auto'` has been deprecated in 1.1 and will be removed in 1.3. To keep the past behaviour, explicitly set `max_features='sqrt'` or remove this parameter as it is also the default value for RandomForestClassifiers and ExtraTreesClassifiers.\n",
      "  warn(\n"
     ]
    },
    {
     "name": "stdout",
     "output_type": "stream",
     "text": [
      "[CV] END criterion=log_loss, max_depth=5, max_features=auto, min_samples_split=34, n_estimators=916; total time=   2.8s\n",
      "[CV] END criterion=gini, max_depth=20, max_features=sqrt, min_samples_split=96, n_estimators=167; total time=   0.4s\n",
      "[CV] END criterion=gini, max_depth=20, max_features=sqrt, min_samples_split=96, n_estimators=167; total time=   0.4s\n",
      "[CV] END criterion=gini, max_depth=20, max_features=sqrt, min_samples_split=96, n_estimators=167; total time=   0.4s\n",
      "[CV] END criterion=gini, max_depth=20, max_features=sqrt, min_samples_split=96, n_estimators=167; total time=   0.4s\n",
      "[CV] END criterion=gini, max_depth=20, max_features=sqrt, min_samples_split=96, n_estimators=167; total time=   0.4s\n",
      "[CV] END criterion=entropy, max_depth=16, max_features=None, min_samples_split=89, n_estimators=417; total time=   5.0s\n",
      "[CV] END criterion=entropy, max_depth=16, max_features=None, min_samples_split=89, n_estimators=417; total time=   5.3s\n",
      "[CV] END criterion=entropy, max_depth=16, max_features=None, min_samples_split=89, n_estimators=417; total time=   5.1s\n",
      "[CV] END criterion=entropy, max_depth=16, max_features=None, min_samples_split=89, n_estimators=417; total time=   5.0s\n",
      "[CV] END criterion=entropy, max_depth=16, max_features=None, min_samples_split=89, n_estimators=417; total time=   5.1s\n",
      "[CV] END criterion=log_loss, max_depth=11, max_features=log2, min_samples_split=90, n_estimators=739; total time=   1.8s\n",
      "[CV] END criterion=log_loss, max_depth=11, max_features=log2, min_samples_split=90, n_estimators=739; total time=   1.7s\n",
      "[CV] END criterion=log_loss, max_depth=11, max_features=log2, min_samples_split=90, n_estimators=739; total time=   1.7s\n",
      "[CV] END criterion=log_loss, max_depth=11, max_features=log2, min_samples_split=90, n_estimators=739; total time=   1.7s\n",
      "[CV] END criterion=log_loss, max_depth=11, max_features=log2, min_samples_split=90, n_estimators=739; total time=   1.7s\n"
     ]
    },
    {
     "name": "stderr",
     "output_type": "stream",
     "text": [
      "/root/.pyenv/versions/3.8.12/envs/mcats/lib/python3.8/site-packages/sklearn/ensemble/_forest.py:424: FutureWarning: `max_features='auto'` has been deprecated in 1.1 and will be removed in 1.3. To keep the past behaviour, explicitly set `max_features='sqrt'` or remove this parameter as it is also the default value for RandomForestClassifiers and ExtraTreesClassifiers.\n",
      "  warn(\n"
     ]
    },
    {
     "name": "stdout",
     "output_type": "stream",
     "text": [
      "[CV] END criterion=log_loss, max_depth=18, max_features=auto, min_samples_split=66, n_estimators=189; total time=   0.5s\n"
     ]
    },
    {
     "name": "stderr",
     "output_type": "stream",
     "text": [
      "/root/.pyenv/versions/3.8.12/envs/mcats/lib/python3.8/site-packages/sklearn/ensemble/_forest.py:424: FutureWarning: `max_features='auto'` has been deprecated in 1.1 and will be removed in 1.3. To keep the past behaviour, explicitly set `max_features='sqrt'` or remove this parameter as it is also the default value for RandomForestClassifiers and ExtraTreesClassifiers.\n",
      "  warn(\n"
     ]
    },
    {
     "name": "stdout",
     "output_type": "stream",
     "text": [
      "[CV] END criterion=log_loss, max_depth=18, max_features=auto, min_samples_split=66, n_estimators=189; total time=   0.6s\n"
     ]
    },
    {
     "name": "stderr",
     "output_type": "stream",
     "text": [
      "/root/.pyenv/versions/3.8.12/envs/mcats/lib/python3.8/site-packages/sklearn/ensemble/_forest.py:424: FutureWarning: `max_features='auto'` has been deprecated in 1.1 and will be removed in 1.3. To keep the past behaviour, explicitly set `max_features='sqrt'` or remove this parameter as it is also the default value for RandomForestClassifiers and ExtraTreesClassifiers.\n",
      "  warn(\n"
     ]
    },
    {
     "name": "stdout",
     "output_type": "stream",
     "text": [
      "[CV] END criterion=log_loss, max_depth=18, max_features=auto, min_samples_split=66, n_estimators=189; total time=   0.6s\n"
     ]
    },
    {
     "name": "stderr",
     "output_type": "stream",
     "text": [
      "/root/.pyenv/versions/3.8.12/envs/mcats/lib/python3.8/site-packages/sklearn/ensemble/_forest.py:424: FutureWarning: `max_features='auto'` has been deprecated in 1.1 and will be removed in 1.3. To keep the past behaviour, explicitly set `max_features='sqrt'` or remove this parameter as it is also the default value for RandomForestClassifiers and ExtraTreesClassifiers.\n",
      "  warn(\n"
     ]
    },
    {
     "name": "stdout",
     "output_type": "stream",
     "text": [
      "[CV] END criterion=log_loss, max_depth=18, max_features=auto, min_samples_split=66, n_estimators=189; total time=   0.6s\n"
     ]
    },
    {
     "name": "stderr",
     "output_type": "stream",
     "text": [
      "/root/.pyenv/versions/3.8.12/envs/mcats/lib/python3.8/site-packages/sklearn/ensemble/_forest.py:424: FutureWarning: `max_features='auto'` has been deprecated in 1.1 and will be removed in 1.3. To keep the past behaviour, explicitly set `max_features='sqrt'` or remove this parameter as it is also the default value for RandomForestClassifiers and ExtraTreesClassifiers.\n",
      "  warn(\n"
     ]
    },
    {
     "name": "stdout",
     "output_type": "stream",
     "text": [
      "[CV] END criterion=log_loss, max_depth=18, max_features=auto, min_samples_split=66, n_estimators=189; total time=   0.6s\n",
      "[CV] END criterion=gini, max_depth=15, max_features=sqrt, min_samples_split=41, n_estimators=164; total time=   0.5s\n",
      "[CV] END criterion=gini, max_depth=15, max_features=sqrt, min_samples_split=41, n_estimators=164; total time=   0.5s\n",
      "[CV] END criterion=gini, max_depth=15, max_features=sqrt, min_samples_split=41, n_estimators=164; total time=   0.5s\n",
      "[CV] END criterion=gini, max_depth=15, max_features=sqrt, min_samples_split=41, n_estimators=164; total time=   0.5s\n",
      "[CV] END criterion=gini, max_depth=15, max_features=sqrt, min_samples_split=41, n_estimators=164; total time=   0.5s\n",
      "[CV] END criterion=entropy, max_depth=29, max_features=log2, min_samples_split=40, n_estimators=682; total time=   2.0s\n",
      "[CV] END criterion=entropy, max_depth=29, max_features=log2, min_samples_split=40, n_estimators=682; total time=   2.0s\n",
      "[CV] END criterion=entropy, max_depth=29, max_features=log2, min_samples_split=40, n_estimators=682; total time=   2.1s\n",
      "[CV] END criterion=entropy, max_depth=29, max_features=log2, min_samples_split=40, n_estimators=682; total time=   2.0s\n",
      "[CV] END criterion=entropy, max_depth=29, max_features=log2, min_samples_split=40, n_estimators=682; total time=   2.0s\n",
      "[CV] END criterion=log_loss, max_depth=14, max_features=log2, min_samples_split=27, n_estimators=231; total time=   0.8s\n",
      "[CV] END criterion=log_loss, max_depth=14, max_features=log2, min_samples_split=27, n_estimators=231; total time=   0.8s\n",
      "[CV] END criterion=log_loss, max_depth=14, max_features=log2, min_samples_split=27, n_estimators=231; total time=   0.8s\n",
      "[CV] END criterion=log_loss, max_depth=14, max_features=log2, min_samples_split=27, n_estimators=231; total time=   0.8s\n",
      "[CV] END criterion=log_loss, max_depth=14, max_features=log2, min_samples_split=27, n_estimators=231; total time=   0.8s\n",
      "[CV] END criterion=gini, max_depth=17, max_features=log2, min_samples_split=64, n_estimators=301; total time=   0.9s\n",
      "[CV] END criterion=gini, max_depth=17, max_features=log2, min_samples_split=64, n_estimators=301; total time=   0.8s\n",
      "[CV] END criterion=gini, max_depth=17, max_features=log2, min_samples_split=64, n_estimators=301; total time=   0.8s\n",
      "[CV] END criterion=gini, max_depth=17, max_features=log2, min_samples_split=64, n_estimators=301; total time=   0.8s\n",
      "[CV] END criterion=gini, max_depth=17, max_features=log2, min_samples_split=64, n_estimators=301; total time=   0.9s\n"
     ]
    },
    {
     "name": "stderr",
     "output_type": "stream",
     "text": [
      "/root/.pyenv/versions/3.8.12/envs/mcats/lib/python3.8/site-packages/sklearn/ensemble/_forest.py:424: FutureWarning: `max_features='auto'` has been deprecated in 1.1 and will be removed in 1.3. To keep the past behaviour, explicitly set `max_features='sqrt'` or remove this parameter as it is also the default value for RandomForestClassifiers and ExtraTreesClassifiers.\n",
      "  warn(\n"
     ]
    },
    {
     "name": "stdout",
     "output_type": "stream",
     "text": [
      "[CV] END criterion=entropy, max_depth=23, max_features=auto, min_samples_split=88, n_estimators=504; total time=   1.6s\n"
     ]
    },
    {
     "name": "stderr",
     "output_type": "stream",
     "text": [
      "/root/.pyenv/versions/3.8.12/envs/mcats/lib/python3.8/site-packages/sklearn/ensemble/_forest.py:424: FutureWarning: `max_features='auto'` has been deprecated in 1.1 and will be removed in 1.3. To keep the past behaviour, explicitly set `max_features='sqrt'` or remove this parameter as it is also the default value for RandomForestClassifiers and ExtraTreesClassifiers.\n",
      "  warn(\n"
     ]
    },
    {
     "name": "stdout",
     "output_type": "stream",
     "text": [
      "[CV] END criterion=entropy, max_depth=23, max_features=auto, min_samples_split=88, n_estimators=504; total time=   1.7s\n"
     ]
    },
    {
     "name": "stderr",
     "output_type": "stream",
     "text": [
      "/root/.pyenv/versions/3.8.12/envs/mcats/lib/python3.8/site-packages/sklearn/ensemble/_forest.py:424: FutureWarning: `max_features='auto'` has been deprecated in 1.1 and will be removed in 1.3. To keep the past behaviour, explicitly set `max_features='sqrt'` or remove this parameter as it is also the default value for RandomForestClassifiers and ExtraTreesClassifiers.\n",
      "  warn(\n"
     ]
    },
    {
     "name": "stdout",
     "output_type": "stream",
     "text": [
      "[CV] END criterion=entropy, max_depth=23, max_features=auto, min_samples_split=88, n_estimators=504; total time=   1.7s\n"
     ]
    },
    {
     "name": "stderr",
     "output_type": "stream",
     "text": [
      "/root/.pyenv/versions/3.8.12/envs/mcats/lib/python3.8/site-packages/sklearn/ensemble/_forest.py:424: FutureWarning: `max_features='auto'` has been deprecated in 1.1 and will be removed in 1.3. To keep the past behaviour, explicitly set `max_features='sqrt'` or remove this parameter as it is also the default value for RandomForestClassifiers and ExtraTreesClassifiers.\n",
      "  warn(\n"
     ]
    },
    {
     "name": "stdout",
     "output_type": "stream",
     "text": [
      "[CV] END criterion=entropy, max_depth=23, max_features=auto, min_samples_split=88, n_estimators=504; total time=   1.9s\n"
     ]
    },
    {
     "name": "stderr",
     "output_type": "stream",
     "text": [
      "/root/.pyenv/versions/3.8.12/envs/mcats/lib/python3.8/site-packages/sklearn/ensemble/_forest.py:424: FutureWarning: `max_features='auto'` has been deprecated in 1.1 and will be removed in 1.3. To keep the past behaviour, explicitly set `max_features='sqrt'` or remove this parameter as it is also the default value for RandomForestClassifiers and ExtraTreesClassifiers.\n",
      "  warn(\n"
     ]
    },
    {
     "name": "stdout",
     "output_type": "stream",
     "text": [
      "[CV] END criterion=entropy, max_depth=23, max_features=auto, min_samples_split=88, n_estimators=504; total time=   2.0s\n",
      "[CV] END criterion=gini, max_depth=20, max_features=sqrt, min_samples_split=94, n_estimators=52; total time=   0.2s\n",
      "[CV] END criterion=gini, max_depth=20, max_features=sqrt, min_samples_split=94, n_estimators=52; total time=   0.2s\n",
      "[CV] END criterion=gini, max_depth=20, max_features=sqrt, min_samples_split=94, n_estimators=52; total time=   0.2s\n",
      "[CV] END criterion=gini, max_depth=20, max_features=sqrt, min_samples_split=94, n_estimators=52; total time=   0.2s\n",
      "[CV] END criterion=gini, max_depth=20, max_features=sqrt, min_samples_split=94, n_estimators=52; total time=   0.2s\n"
     ]
    },
    {
     "name": "stderr",
     "output_type": "stream",
     "text": [
      "/root/.pyenv/versions/3.8.12/envs/mcats/lib/python3.8/site-packages/sklearn/ensemble/_forest.py:424: FutureWarning: `max_features='auto'` has been deprecated in 1.1 and will be removed in 1.3. To keep the past behaviour, explicitly set `max_features='sqrt'` or remove this parameter as it is also the default value for RandomForestClassifiers and ExtraTreesClassifiers.\n",
      "  warn(\n"
     ]
    },
    {
     "name": "stdout",
     "output_type": "stream",
     "text": [
      "[CV] END criterion=log_loss, max_depth=28, max_features=auto, min_samples_split=25, n_estimators=271; total time=   1.1s\n"
     ]
    },
    {
     "name": "stderr",
     "output_type": "stream",
     "text": [
      "/root/.pyenv/versions/3.8.12/envs/mcats/lib/python3.8/site-packages/sklearn/ensemble/_forest.py:424: FutureWarning: `max_features='auto'` has been deprecated in 1.1 and will be removed in 1.3. To keep the past behaviour, explicitly set `max_features='sqrt'` or remove this parameter as it is also the default value for RandomForestClassifiers and ExtraTreesClassifiers.\n",
      "  warn(\n"
     ]
    },
    {
     "name": "stdout",
     "output_type": "stream",
     "text": [
      "[CV] END criterion=log_loss, max_depth=28, max_features=auto, min_samples_split=25, n_estimators=271; total time=   1.2s\n"
     ]
    },
    {
     "name": "stderr",
     "output_type": "stream",
     "text": [
      "/root/.pyenv/versions/3.8.12/envs/mcats/lib/python3.8/site-packages/sklearn/ensemble/_forest.py:424: FutureWarning: `max_features='auto'` has been deprecated in 1.1 and will be removed in 1.3. To keep the past behaviour, explicitly set `max_features='sqrt'` or remove this parameter as it is also the default value for RandomForestClassifiers and ExtraTreesClassifiers.\n",
      "  warn(\n"
     ]
    },
    {
     "name": "stdout",
     "output_type": "stream",
     "text": [
      "[CV] END criterion=log_loss, max_depth=28, max_features=auto, min_samples_split=25, n_estimators=271; total time=   1.2s\n"
     ]
    },
    {
     "name": "stderr",
     "output_type": "stream",
     "text": [
      "/root/.pyenv/versions/3.8.12/envs/mcats/lib/python3.8/site-packages/sklearn/ensemble/_forest.py:424: FutureWarning: `max_features='auto'` has been deprecated in 1.1 and will be removed in 1.3. To keep the past behaviour, explicitly set `max_features='sqrt'` or remove this parameter as it is also the default value for RandomForestClassifiers and ExtraTreesClassifiers.\n",
      "  warn(\n"
     ]
    },
    {
     "name": "stdout",
     "output_type": "stream",
     "text": [
      "[CV] END criterion=log_loss, max_depth=28, max_features=auto, min_samples_split=25, n_estimators=271; total time=   1.1s\n"
     ]
    },
    {
     "name": "stderr",
     "output_type": "stream",
     "text": [
      "/root/.pyenv/versions/3.8.12/envs/mcats/lib/python3.8/site-packages/sklearn/ensemble/_forest.py:424: FutureWarning: `max_features='auto'` has been deprecated in 1.1 and will be removed in 1.3. To keep the past behaviour, explicitly set `max_features='sqrt'` or remove this parameter as it is also the default value for RandomForestClassifiers and ExtraTreesClassifiers.\n",
      "  warn(\n"
     ]
    },
    {
     "name": "stdout",
     "output_type": "stream",
     "text": [
      "[CV] END criterion=log_loss, max_depth=28, max_features=auto, min_samples_split=25, n_estimators=271; total time=   1.2s\n"
     ]
    },
    {
     "name": "stderr",
     "output_type": "stream",
     "text": [
      "/root/.pyenv/versions/3.8.12/envs/mcats/lib/python3.8/site-packages/sklearn/ensemble/_forest.py:424: FutureWarning: `max_features='auto'` has been deprecated in 1.1 and will be removed in 1.3. To keep the past behaviour, explicitly set `max_features='sqrt'` or remove this parameter as it is also the default value for RandomForestClassifiers and ExtraTreesClassifiers.\n",
      "  warn(\n"
     ]
    },
    {
     "name": "stdout",
     "output_type": "stream",
     "text": [
      "[CV] END criterion=entropy, max_depth=15, max_features=auto, min_samples_split=5, n_estimators=441; total time=   2.0s\n"
     ]
    },
    {
     "name": "stderr",
     "output_type": "stream",
     "text": [
      "/root/.pyenv/versions/3.8.12/envs/mcats/lib/python3.8/site-packages/sklearn/ensemble/_forest.py:424: FutureWarning: `max_features='auto'` has been deprecated in 1.1 and will be removed in 1.3. To keep the past behaviour, explicitly set `max_features='sqrt'` or remove this parameter as it is also the default value for RandomForestClassifiers and ExtraTreesClassifiers.\n",
      "  warn(\n"
     ]
    },
    {
     "name": "stdout",
     "output_type": "stream",
     "text": [
      "[CV] END criterion=entropy, max_depth=15, max_features=auto, min_samples_split=5, n_estimators=441; total time=   2.0s\n"
     ]
    },
    {
     "name": "stderr",
     "output_type": "stream",
     "text": [
      "/root/.pyenv/versions/3.8.12/envs/mcats/lib/python3.8/site-packages/sklearn/ensemble/_forest.py:424: FutureWarning: `max_features='auto'` has been deprecated in 1.1 and will be removed in 1.3. To keep the past behaviour, explicitly set `max_features='sqrt'` or remove this parameter as it is also the default value for RandomForestClassifiers and ExtraTreesClassifiers.\n",
      "  warn(\n"
     ]
    },
    {
     "name": "stdout",
     "output_type": "stream",
     "text": [
      "[CV] END criterion=entropy, max_depth=15, max_features=auto, min_samples_split=5, n_estimators=441; total time=   1.9s\n"
     ]
    },
    {
     "name": "stderr",
     "output_type": "stream",
     "text": [
      "/root/.pyenv/versions/3.8.12/envs/mcats/lib/python3.8/site-packages/sklearn/ensemble/_forest.py:424: FutureWarning: `max_features='auto'` has been deprecated in 1.1 and will be removed in 1.3. To keep the past behaviour, explicitly set `max_features='sqrt'` or remove this parameter as it is also the default value for RandomForestClassifiers and ExtraTreesClassifiers.\n",
      "  warn(\n"
     ]
    },
    {
     "name": "stdout",
     "output_type": "stream",
     "text": [
      "[CV] END criterion=entropy, max_depth=15, max_features=auto, min_samples_split=5, n_estimators=441; total time=   2.0s\n"
     ]
    },
    {
     "name": "stderr",
     "output_type": "stream",
     "text": [
      "/root/.pyenv/versions/3.8.12/envs/mcats/lib/python3.8/site-packages/sklearn/ensemble/_forest.py:424: FutureWarning: `max_features='auto'` has been deprecated in 1.1 and will be removed in 1.3. To keep the past behaviour, explicitly set `max_features='sqrt'` or remove this parameter as it is also the default value for RandomForestClassifiers and ExtraTreesClassifiers.\n",
      "  warn(\n"
     ]
    },
    {
     "name": "stdout",
     "output_type": "stream",
     "text": [
      "[CV] END criterion=entropy, max_depth=15, max_features=auto, min_samples_split=5, n_estimators=441; total time=   2.0s\n",
      "[CV] END criterion=gini, max_depth=17, max_features=log2, min_samples_split=56, n_estimators=976; total time=   2.5s\n",
      "[CV] END criterion=gini, max_depth=17, max_features=log2, min_samples_split=56, n_estimators=976; total time=   2.3s\n",
      "[CV] END criterion=gini, max_depth=17, max_features=log2, min_samples_split=56, n_estimators=976; total time=   2.3s\n",
      "[CV] END criterion=gini, max_depth=17, max_features=log2, min_samples_split=56, n_estimators=976; total time=   2.2s\n",
      "[CV] END criterion=gini, max_depth=17, max_features=log2, min_samples_split=56, n_estimators=976; total time=   2.2s\n",
      "[CV] END criterion=gini, max_depth=15, max_features=sqrt, min_samples_split=17, n_estimators=410; total time=   1.1s\n",
      "[CV] END criterion=gini, max_depth=15, max_features=sqrt, min_samples_split=17, n_estimators=410; total time=   1.1s\n",
      "[CV] END criterion=gini, max_depth=15, max_features=sqrt, min_samples_split=17, n_estimators=410; total time=   1.1s\n",
      "[CV] END criterion=gini, max_depth=15, max_features=sqrt, min_samples_split=17, n_estimators=410; total time=   1.1s\n",
      "[CV] END criterion=gini, max_depth=15, max_features=sqrt, min_samples_split=17, n_estimators=410; total time=   1.2s\n",
      "[CV] END criterion=entropy, max_depth=21, max_features=sqrt, min_samples_split=60, n_estimators=982; total time=   3.4s\n",
      "[CV] END criterion=entropy, max_depth=21, max_features=sqrt, min_samples_split=60, n_estimators=982; total time=   3.4s\n",
      "[CV] END criterion=entropy, max_depth=21, max_features=sqrt, min_samples_split=60, n_estimators=982; total time=   3.3s\n",
      "[CV] END criterion=entropy, max_depth=21, max_features=sqrt, min_samples_split=60, n_estimators=982; total time=   3.3s\n",
      "[CV] END criterion=entropy, max_depth=21, max_features=sqrt, min_samples_split=60, n_estimators=982; total time=   3.3s\n",
      "[CV] END criterion=log_loss, max_depth=15, max_features=sqrt, min_samples_split=46, n_estimators=38; total time=   0.2s\n",
      "[CV] END criterion=log_loss, max_depth=15, max_features=sqrt, min_samples_split=46, n_estimators=38; total time=   0.2s\n",
      "[CV] END criterion=log_loss, max_depth=15, max_features=sqrt, min_samples_split=46, n_estimators=38; total time=   0.2s\n",
      "[CV] END criterion=log_loss, max_depth=15, max_features=sqrt, min_samples_split=46, n_estimators=38; total time=   0.2s\n",
      "[CV] END criterion=log_loss, max_depth=15, max_features=sqrt, min_samples_split=46, n_estimators=38; total time=   0.2s\n",
      "[CV] END criterion=log_loss, max_depth=28, max_features=log2, min_samples_split=78, n_estimators=525; total time=   1.6s\n",
      "[CV] END criterion=log_loss, max_depth=28, max_features=log2, min_samples_split=78, n_estimators=525; total time=   1.5s\n",
      "[CV] END criterion=log_loss, max_depth=28, max_features=log2, min_samples_split=78, n_estimators=525; total time=   1.5s\n",
      "[CV] END criterion=log_loss, max_depth=28, max_features=log2, min_samples_split=78, n_estimators=525; total time=   1.5s\n",
      "[CV] END criterion=log_loss, max_depth=28, max_features=log2, min_samples_split=78, n_estimators=525; total time=   1.5s\n",
      "[CV] END criterion=gini, max_depth=28, max_features=log2, min_samples_split=78, n_estimators=968; total time=   2.2s\n",
      "[CV] END criterion=gini, max_depth=28, max_features=log2, min_samples_split=78, n_estimators=968; total time=   2.3s\n",
      "[CV] END criterion=gini, max_depth=28, max_features=log2, min_samples_split=78, n_estimators=968; total time=   2.2s\n",
      "[CV] END criterion=gini, max_depth=28, max_features=log2, min_samples_split=78, n_estimators=968; total time=   2.3s\n",
      "[CV] END criterion=gini, max_depth=28, max_features=log2, min_samples_split=78, n_estimators=968; total time=   2.2s\n"
     ]
    },
    {
     "name": "stderr",
     "output_type": "stream",
     "text": [
      "/root/.pyenv/versions/3.8.12/envs/mcats/lib/python3.8/site-packages/sklearn/ensemble/_forest.py:424: FutureWarning: `max_features='auto'` has been deprecated in 1.1 and will be removed in 1.3. To keep the past behaviour, explicitly set `max_features='sqrt'` or remove this parameter as it is also the default value for RandomForestClassifiers and ExtraTreesClassifiers.\n",
      "  warn(\n"
     ]
    },
    {
     "name": "stdout",
     "output_type": "stream",
     "text": [
      "[CV] END criterion=entropy, max_depth=12, max_features=auto, min_samples_split=40, n_estimators=604; total time=   2.2s\n"
     ]
    },
    {
     "name": "stderr",
     "output_type": "stream",
     "text": [
      "/root/.pyenv/versions/3.8.12/envs/mcats/lib/python3.8/site-packages/sklearn/ensemble/_forest.py:424: FutureWarning: `max_features='auto'` has been deprecated in 1.1 and will be removed in 1.3. To keep the past behaviour, explicitly set `max_features='sqrt'` or remove this parameter as it is also the default value for RandomForestClassifiers and ExtraTreesClassifiers.\n",
      "  warn(\n"
     ]
    },
    {
     "name": "stdout",
     "output_type": "stream",
     "text": [
      "[CV] END criterion=entropy, max_depth=12, max_features=auto, min_samples_split=40, n_estimators=604; total time=   2.4s\n"
     ]
    },
    {
     "name": "stderr",
     "output_type": "stream",
     "text": [
      "/root/.pyenv/versions/3.8.12/envs/mcats/lib/python3.8/site-packages/sklearn/ensemble/_forest.py:424: FutureWarning: `max_features='auto'` has been deprecated in 1.1 and will be removed in 1.3. To keep the past behaviour, explicitly set `max_features='sqrt'` or remove this parameter as it is also the default value for RandomForestClassifiers and ExtraTreesClassifiers.\n",
      "  warn(\n"
     ]
    },
    {
     "name": "stdout",
     "output_type": "stream",
     "text": [
      "[CV] END criterion=entropy, max_depth=12, max_features=auto, min_samples_split=40, n_estimators=604; total time=   2.2s\n"
     ]
    },
    {
     "name": "stderr",
     "output_type": "stream",
     "text": [
      "/root/.pyenv/versions/3.8.12/envs/mcats/lib/python3.8/site-packages/sklearn/ensemble/_forest.py:424: FutureWarning: `max_features='auto'` has been deprecated in 1.1 and will be removed in 1.3. To keep the past behaviour, explicitly set `max_features='sqrt'` or remove this parameter as it is also the default value for RandomForestClassifiers and ExtraTreesClassifiers.\n",
      "  warn(\n"
     ]
    },
    {
     "name": "stdout",
     "output_type": "stream",
     "text": [
      "[CV] END criterion=entropy, max_depth=12, max_features=auto, min_samples_split=40, n_estimators=604; total time=   2.4s\n"
     ]
    },
    {
     "name": "stderr",
     "output_type": "stream",
     "text": [
      "/root/.pyenv/versions/3.8.12/envs/mcats/lib/python3.8/site-packages/sklearn/ensemble/_forest.py:424: FutureWarning: `max_features='auto'` has been deprecated in 1.1 and will be removed in 1.3. To keep the past behaviour, explicitly set `max_features='sqrt'` or remove this parameter as it is also the default value for RandomForestClassifiers and ExtraTreesClassifiers.\n",
      "  warn(\n"
     ]
    },
    {
     "name": "stdout",
     "output_type": "stream",
     "text": [
      "[CV] END criterion=entropy, max_depth=12, max_features=auto, min_samples_split=40, n_estimators=604; total time=   2.3s\n",
      "[CV] END criterion=gini, max_depth=30, max_features=sqrt, min_samples_split=35, n_estimators=172; total time=   0.5s\n",
      "[CV] END criterion=gini, max_depth=30, max_features=sqrt, min_samples_split=35, n_estimators=172; total time=   0.6s\n",
      "[CV] END criterion=gini, max_depth=30, max_features=sqrt, min_samples_split=35, n_estimators=172; total time=   0.6s\n",
      "[CV] END criterion=gini, max_depth=30, max_features=sqrt, min_samples_split=35, n_estimators=172; total time=   0.6s\n",
      "[CV] END criterion=gini, max_depth=30, max_features=sqrt, min_samples_split=35, n_estimators=172; total time=   0.6s\n",
      "[CV] END criterion=log_loss, max_depth=25, max_features=sqrt, min_samples_split=75, n_estimators=309; total time=   0.9s\n",
      "[CV] END criterion=log_loss, max_depth=25, max_features=sqrt, min_samples_split=75, n_estimators=309; total time=   1.0s\n",
      "[CV] END criterion=log_loss, max_depth=25, max_features=sqrt, min_samples_split=75, n_estimators=309; total time=   1.1s\n",
      "[CV] END criterion=log_loss, max_depth=25, max_features=sqrt, min_samples_split=75, n_estimators=309; total time=   1.1s\n",
      "[CV] END criterion=log_loss, max_depth=25, max_features=sqrt, min_samples_split=75, n_estimators=309; total time=   1.0s\n",
      "[CV] END criterion=entropy, max_depth=28, max_features=None, min_samples_split=3, n_estimators=339; total time=   7.5s\n"
     ]
    },
    {
     "ename": "KeyboardInterrupt",
     "evalue": "",
     "output_type": "error",
     "traceback": [
      "\u001b[0;31m---------------------------------------------------------------------------\u001b[0m",
      "\u001b[0;31mKeyboardInterrupt\u001b[0m                         Traceback (most recent call last)",
      "Cell \u001b[0;32mIn[34], line 10\u001b[0m\n\u001b[1;32m      2\u001b[0m model_parameters \u001b[38;5;241m=\u001b[39m { \u001b[38;5;124m'\u001b[39m\u001b[38;5;124mn_estimators\u001b[39m\u001b[38;5;124m'\u001b[39m: randint(\u001b[38;5;241m1\u001b[39m,\u001b[38;5;241m1000\u001b[39m),\n\u001b[1;32m      3\u001b[0m                     \u001b[38;5;124m'\u001b[39m\u001b[38;5;124mcriterion\u001b[39m\u001b[38;5;124m'\u001b[39m: [\u001b[38;5;124m'\u001b[39m\u001b[38;5;124mgini\u001b[39m\u001b[38;5;124m'\u001b[39m, \u001b[38;5;124m'\u001b[39m\u001b[38;5;124mentropy\u001b[39m\u001b[38;5;124m'\u001b[39m, \u001b[38;5;124m'\u001b[39m\u001b[38;5;124mlog_loss\u001b[39m\u001b[38;5;124m'\u001b[39m],\n\u001b[1;32m      4\u001b[0m                     \u001b[38;5;124m'\u001b[39m\u001b[38;5;124mmax_features\u001b[39m\u001b[38;5;124m'\u001b[39m: [\u001b[38;5;124m'\u001b[39m\u001b[38;5;124mauto\u001b[39m\u001b[38;5;124m'\u001b[39m, \u001b[38;5;124m'\u001b[39m\u001b[38;5;124msqrt\u001b[39m\u001b[38;5;124m'\u001b[39m, \u001b[38;5;124m'\u001b[39m\u001b[38;5;124mlog2\u001b[39m\u001b[38;5;124m'\u001b[39m, \u001b[38;5;28;01mNone\u001b[39;00m],\n\u001b[1;32m      5\u001b[0m                     \u001b[38;5;124m'\u001b[39m\u001b[38;5;124mmax_depth\u001b[39m\u001b[38;5;124m'\u001b[39m : randint(\u001b[38;5;241m1\u001b[39m,\u001b[38;5;241m32\u001b[39m),\n\u001b[1;32m      6\u001b[0m                     \u001b[38;5;124m'\u001b[39m\u001b[38;5;124mmin_samples_split\u001b[39m\u001b[38;5;124m'\u001b[39m:randint(\u001b[38;5;241m2\u001b[39m, \u001b[38;5;241m100\u001b[39m), \n\u001b[1;32m      7\u001b[0m                    }\n\u001b[1;32m      8\u001b[0m random_search\u001b[38;5;241m=\u001b[39m RandomizedSearchCV(model, model_parameters, n_iter\u001b[38;5;241m=\u001b[39m\u001b[38;5;241m100\u001b[39m, cv\u001b[38;5;241m=\u001b[39m\u001b[38;5;241m5\u001b[39m, random_state\u001b[38;5;241m=\u001b[39m\u001b[38;5;241m1\u001b[39m, verbose\u001b[38;5;241m=\u001b[39m\u001b[38;5;241m2\u001b[39m)\n\u001b[0;32m---> 10\u001b[0m model \u001b[38;5;241m=\u001b[39m\u001b[43mrandom_search\u001b[49m\u001b[38;5;241;43m.\u001b[39;49m\u001b[43mfit\u001b[49m\u001b[43m(\u001b[49m\u001b[43mX_train\u001b[49m\u001b[43m,\u001b[49m\u001b[43m \u001b[49m\u001b[43my_train\u001b[49m\u001b[43m)\u001b[49m\n",
      "File \u001b[0;32m~/.pyenv/versions/3.8.12/envs/mcats/lib/python3.8/site-packages/sklearn/model_selection/_search.py:874\u001b[0m, in \u001b[0;36mBaseSearchCV.fit\u001b[0;34m(self, X, y, groups, **fit_params)\u001b[0m\n\u001b[1;32m    868\u001b[0m     results \u001b[38;5;241m=\u001b[39m \u001b[38;5;28mself\u001b[39m\u001b[38;5;241m.\u001b[39m_format_results(\n\u001b[1;32m    869\u001b[0m         all_candidate_params, n_splits, all_out, all_more_results\n\u001b[1;32m    870\u001b[0m     )\n\u001b[1;32m    872\u001b[0m     \u001b[38;5;28;01mreturn\u001b[39;00m results\n\u001b[0;32m--> 874\u001b[0m \u001b[38;5;28;43mself\u001b[39;49m\u001b[38;5;241;43m.\u001b[39;49m\u001b[43m_run_search\u001b[49m\u001b[43m(\u001b[49m\u001b[43mevaluate_candidates\u001b[49m\u001b[43m)\u001b[49m\n\u001b[1;32m    876\u001b[0m \u001b[38;5;66;03m# multimetric is determined here because in the case of a callable\u001b[39;00m\n\u001b[1;32m    877\u001b[0m \u001b[38;5;66;03m# self.scoring the return type is only known after calling\u001b[39;00m\n\u001b[1;32m    878\u001b[0m first_test_score \u001b[38;5;241m=\u001b[39m all_out[\u001b[38;5;241m0\u001b[39m][\u001b[38;5;124m\"\u001b[39m\u001b[38;5;124mtest_scores\u001b[39m\u001b[38;5;124m\"\u001b[39m]\n",
      "File \u001b[0;32m~/.pyenv/versions/3.8.12/envs/mcats/lib/python3.8/site-packages/sklearn/model_selection/_search.py:1768\u001b[0m, in \u001b[0;36mRandomizedSearchCV._run_search\u001b[0;34m(self, evaluate_candidates)\u001b[0m\n\u001b[1;32m   1766\u001b[0m \u001b[38;5;28;01mdef\u001b[39;00m \u001b[38;5;21m_run_search\u001b[39m(\u001b[38;5;28mself\u001b[39m, evaluate_candidates):\n\u001b[1;32m   1767\u001b[0m \u001b[38;5;250m    \u001b[39m\u001b[38;5;124;03m\"\"\"Search n_iter candidates from param_distributions\"\"\"\u001b[39;00m\n\u001b[0;32m-> 1768\u001b[0m     \u001b[43mevaluate_candidates\u001b[49m\u001b[43m(\u001b[49m\n\u001b[1;32m   1769\u001b[0m \u001b[43m        \u001b[49m\u001b[43mParameterSampler\u001b[49m\u001b[43m(\u001b[49m\n\u001b[1;32m   1770\u001b[0m \u001b[43m            \u001b[49m\u001b[38;5;28;43mself\u001b[39;49m\u001b[38;5;241;43m.\u001b[39;49m\u001b[43mparam_distributions\u001b[49m\u001b[43m,\u001b[49m\u001b[43m \u001b[49m\u001b[38;5;28;43mself\u001b[39;49m\u001b[38;5;241;43m.\u001b[39;49m\u001b[43mn_iter\u001b[49m\u001b[43m,\u001b[49m\u001b[43m \u001b[49m\u001b[43mrandom_state\u001b[49m\u001b[38;5;241;43m=\u001b[39;49m\u001b[38;5;28;43mself\u001b[39;49m\u001b[38;5;241;43m.\u001b[39;49m\u001b[43mrandom_state\u001b[49m\n\u001b[1;32m   1771\u001b[0m \u001b[43m        \u001b[49m\u001b[43m)\u001b[49m\n\u001b[1;32m   1772\u001b[0m \u001b[43m    \u001b[49m\u001b[43m)\u001b[49m\n",
      "File \u001b[0;32m~/.pyenv/versions/3.8.12/envs/mcats/lib/python3.8/site-packages/sklearn/model_selection/_search.py:821\u001b[0m, in \u001b[0;36mBaseSearchCV.fit.<locals>.evaluate_candidates\u001b[0;34m(candidate_params, cv, more_results)\u001b[0m\n\u001b[1;32m    813\u001b[0m \u001b[38;5;28;01mif\u001b[39;00m \u001b[38;5;28mself\u001b[39m\u001b[38;5;241m.\u001b[39mverbose \u001b[38;5;241m>\u001b[39m \u001b[38;5;241m0\u001b[39m:\n\u001b[1;32m    814\u001b[0m     \u001b[38;5;28mprint\u001b[39m(\n\u001b[1;32m    815\u001b[0m         \u001b[38;5;124m\"\u001b[39m\u001b[38;5;124mFitting \u001b[39m\u001b[38;5;132;01m{0}\u001b[39;00m\u001b[38;5;124m folds for each of \u001b[39m\u001b[38;5;132;01m{1}\u001b[39;00m\u001b[38;5;124m candidates,\u001b[39m\u001b[38;5;124m\"\u001b[39m\n\u001b[1;32m    816\u001b[0m         \u001b[38;5;124m\"\u001b[39m\u001b[38;5;124m totalling \u001b[39m\u001b[38;5;132;01m{2}\u001b[39;00m\u001b[38;5;124m fits\u001b[39m\u001b[38;5;124m\"\u001b[39m\u001b[38;5;241m.\u001b[39mformat(\n\u001b[1;32m    817\u001b[0m             n_splits, n_candidates, n_candidates \u001b[38;5;241m*\u001b[39m n_splits\n\u001b[1;32m    818\u001b[0m         )\n\u001b[1;32m    819\u001b[0m     )\n\u001b[0;32m--> 821\u001b[0m out \u001b[38;5;241m=\u001b[39m \u001b[43mparallel\u001b[49m\u001b[43m(\u001b[49m\n\u001b[1;32m    822\u001b[0m \u001b[43m    \u001b[49m\u001b[43mdelayed\u001b[49m\u001b[43m(\u001b[49m\u001b[43m_fit_and_score\u001b[49m\u001b[43m)\u001b[49m\u001b[43m(\u001b[49m\n\u001b[1;32m    823\u001b[0m \u001b[43m        \u001b[49m\u001b[43mclone\u001b[49m\u001b[43m(\u001b[49m\u001b[43mbase_estimator\u001b[49m\u001b[43m)\u001b[49m\u001b[43m,\u001b[49m\n\u001b[1;32m    824\u001b[0m \u001b[43m        \u001b[49m\u001b[43mX\u001b[49m\u001b[43m,\u001b[49m\n\u001b[1;32m    825\u001b[0m \u001b[43m        \u001b[49m\u001b[43my\u001b[49m\u001b[43m,\u001b[49m\n\u001b[1;32m    826\u001b[0m \u001b[43m        \u001b[49m\u001b[43mtrain\u001b[49m\u001b[38;5;241;43m=\u001b[39;49m\u001b[43mtrain\u001b[49m\u001b[43m,\u001b[49m\n\u001b[1;32m    827\u001b[0m \u001b[43m        \u001b[49m\u001b[43mtest\u001b[49m\u001b[38;5;241;43m=\u001b[39;49m\u001b[43mtest\u001b[49m\u001b[43m,\u001b[49m\n\u001b[1;32m    828\u001b[0m \u001b[43m        \u001b[49m\u001b[43mparameters\u001b[49m\u001b[38;5;241;43m=\u001b[39;49m\u001b[43mparameters\u001b[49m\u001b[43m,\u001b[49m\n\u001b[1;32m    829\u001b[0m \u001b[43m        \u001b[49m\u001b[43msplit_progress\u001b[49m\u001b[38;5;241;43m=\u001b[39;49m\u001b[43m(\u001b[49m\u001b[43msplit_idx\u001b[49m\u001b[43m,\u001b[49m\u001b[43m \u001b[49m\u001b[43mn_splits\u001b[49m\u001b[43m)\u001b[49m\u001b[43m,\u001b[49m\n\u001b[1;32m    830\u001b[0m \u001b[43m        \u001b[49m\u001b[43mcandidate_progress\u001b[49m\u001b[38;5;241;43m=\u001b[39;49m\u001b[43m(\u001b[49m\u001b[43mcand_idx\u001b[49m\u001b[43m,\u001b[49m\u001b[43m \u001b[49m\u001b[43mn_candidates\u001b[49m\u001b[43m)\u001b[49m\u001b[43m,\u001b[49m\n\u001b[1;32m    831\u001b[0m \u001b[43m        \u001b[49m\u001b[38;5;241;43m*\u001b[39;49m\u001b[38;5;241;43m*\u001b[39;49m\u001b[43mfit_and_score_kwargs\u001b[49m\u001b[43m,\u001b[49m\n\u001b[1;32m    832\u001b[0m \u001b[43m    \u001b[49m\u001b[43m)\u001b[49m\n\u001b[1;32m    833\u001b[0m \u001b[43m    \u001b[49m\u001b[38;5;28;43;01mfor\u001b[39;49;00m\u001b[43m \u001b[49m\u001b[43m(\u001b[49m\u001b[43mcand_idx\u001b[49m\u001b[43m,\u001b[49m\u001b[43m \u001b[49m\u001b[43mparameters\u001b[49m\u001b[43m)\u001b[49m\u001b[43m,\u001b[49m\u001b[43m \u001b[49m\u001b[43m(\u001b[49m\u001b[43msplit_idx\u001b[49m\u001b[43m,\u001b[49m\u001b[43m \u001b[49m\u001b[43m(\u001b[49m\u001b[43mtrain\u001b[49m\u001b[43m,\u001b[49m\u001b[43m \u001b[49m\u001b[43mtest\u001b[49m\u001b[43m)\u001b[49m\u001b[43m)\u001b[49m\u001b[43m \u001b[49m\u001b[38;5;129;43;01min\u001b[39;49;00m\u001b[43m \u001b[49m\u001b[43mproduct\u001b[49m\u001b[43m(\u001b[49m\n\u001b[1;32m    834\u001b[0m \u001b[43m        \u001b[49m\u001b[38;5;28;43menumerate\u001b[39;49m\u001b[43m(\u001b[49m\u001b[43mcandidate_params\u001b[49m\u001b[43m)\u001b[49m\u001b[43m,\u001b[49m\u001b[43m \u001b[49m\u001b[38;5;28;43menumerate\u001b[39;49m\u001b[43m(\u001b[49m\u001b[43mcv\u001b[49m\u001b[38;5;241;43m.\u001b[39;49m\u001b[43msplit\u001b[49m\u001b[43m(\u001b[49m\u001b[43mX\u001b[49m\u001b[43m,\u001b[49m\u001b[43m \u001b[49m\u001b[43my\u001b[49m\u001b[43m,\u001b[49m\u001b[43m \u001b[49m\u001b[43mgroups\u001b[49m\u001b[43m)\u001b[49m\u001b[43m)\u001b[49m\n\u001b[1;32m    835\u001b[0m \u001b[43m    \u001b[49m\u001b[43m)\u001b[49m\n\u001b[1;32m    836\u001b[0m \u001b[43m\u001b[49m\u001b[43m)\u001b[49m\n\u001b[1;32m    838\u001b[0m \u001b[38;5;28;01mif\u001b[39;00m \u001b[38;5;28mlen\u001b[39m(out) \u001b[38;5;241m<\u001b[39m \u001b[38;5;241m1\u001b[39m:\n\u001b[1;32m    839\u001b[0m     \u001b[38;5;28;01mraise\u001b[39;00m \u001b[38;5;167;01mValueError\u001b[39;00m(\n\u001b[1;32m    840\u001b[0m         \u001b[38;5;124m\"\u001b[39m\u001b[38;5;124mNo fits were performed. \u001b[39m\u001b[38;5;124m\"\u001b[39m\n\u001b[1;32m    841\u001b[0m         \u001b[38;5;124m\"\u001b[39m\u001b[38;5;124mWas the CV iterator empty? \u001b[39m\u001b[38;5;124m\"\u001b[39m\n\u001b[1;32m    842\u001b[0m         \u001b[38;5;124m\"\u001b[39m\u001b[38;5;124mWere there no candidates?\u001b[39m\u001b[38;5;124m\"\u001b[39m\n\u001b[1;32m    843\u001b[0m     )\n",
      "File \u001b[0;32m~/.pyenv/versions/3.8.12/envs/mcats/lib/python3.8/site-packages/sklearn/utils/parallel.py:63\u001b[0m, in \u001b[0;36mParallel.__call__\u001b[0;34m(self, iterable)\u001b[0m\n\u001b[1;32m     58\u001b[0m config \u001b[38;5;241m=\u001b[39m get_config()\n\u001b[1;32m     59\u001b[0m iterable_with_config \u001b[38;5;241m=\u001b[39m (\n\u001b[1;32m     60\u001b[0m     (_with_config(delayed_func, config), args, kwargs)\n\u001b[1;32m     61\u001b[0m     \u001b[38;5;28;01mfor\u001b[39;00m delayed_func, args, kwargs \u001b[38;5;129;01min\u001b[39;00m iterable\n\u001b[1;32m     62\u001b[0m )\n\u001b[0;32m---> 63\u001b[0m \u001b[38;5;28;01mreturn\u001b[39;00m \u001b[38;5;28;43msuper\u001b[39;49m\u001b[43m(\u001b[49m\u001b[43m)\u001b[49m\u001b[38;5;241;43m.\u001b[39;49m\u001b[38;5;21;43m__call__\u001b[39;49m\u001b[43m(\u001b[49m\u001b[43miterable_with_config\u001b[49m\u001b[43m)\u001b[49m\n",
      "File \u001b[0;32m~/.pyenv/versions/3.8.12/envs/mcats/lib/python3.8/site-packages/joblib/parallel.py:1088\u001b[0m, in \u001b[0;36mParallel.__call__\u001b[0;34m(self, iterable)\u001b[0m\n\u001b[1;32m   1085\u001b[0m \u001b[38;5;28;01mif\u001b[39;00m \u001b[38;5;28mself\u001b[39m\u001b[38;5;241m.\u001b[39mdispatch_one_batch(iterator):\n\u001b[1;32m   1086\u001b[0m     \u001b[38;5;28mself\u001b[39m\u001b[38;5;241m.\u001b[39m_iterating \u001b[38;5;241m=\u001b[39m \u001b[38;5;28mself\u001b[39m\u001b[38;5;241m.\u001b[39m_original_iterator \u001b[38;5;129;01mis\u001b[39;00m \u001b[38;5;129;01mnot\u001b[39;00m \u001b[38;5;28;01mNone\u001b[39;00m\n\u001b[0;32m-> 1088\u001b[0m \u001b[38;5;28;01mwhile\u001b[39;00m \u001b[38;5;28;43mself\u001b[39;49m\u001b[38;5;241;43m.\u001b[39;49m\u001b[43mdispatch_one_batch\u001b[49m\u001b[43m(\u001b[49m\u001b[43miterator\u001b[49m\u001b[43m)\u001b[49m:\n\u001b[1;32m   1089\u001b[0m     \u001b[38;5;28;01mpass\u001b[39;00m\n\u001b[1;32m   1091\u001b[0m \u001b[38;5;28;01mif\u001b[39;00m pre_dispatch \u001b[38;5;241m==\u001b[39m \u001b[38;5;124m\"\u001b[39m\u001b[38;5;124mall\u001b[39m\u001b[38;5;124m\"\u001b[39m \u001b[38;5;129;01mor\u001b[39;00m n_jobs \u001b[38;5;241m==\u001b[39m \u001b[38;5;241m1\u001b[39m:\n\u001b[1;32m   1092\u001b[0m     \u001b[38;5;66;03m# The iterable was consumed all at once by the above for loop.\u001b[39;00m\n\u001b[1;32m   1093\u001b[0m     \u001b[38;5;66;03m# No need to wait for async callbacks to trigger to\u001b[39;00m\n\u001b[1;32m   1094\u001b[0m     \u001b[38;5;66;03m# consumption.\u001b[39;00m\n",
      "File \u001b[0;32m~/.pyenv/versions/3.8.12/envs/mcats/lib/python3.8/site-packages/joblib/parallel.py:901\u001b[0m, in \u001b[0;36mParallel.dispatch_one_batch\u001b[0;34m(self, iterator)\u001b[0m\n\u001b[1;32m    899\u001b[0m     \u001b[38;5;28;01mreturn\u001b[39;00m \u001b[38;5;28;01mFalse\u001b[39;00m\n\u001b[1;32m    900\u001b[0m \u001b[38;5;28;01melse\u001b[39;00m:\n\u001b[0;32m--> 901\u001b[0m     \u001b[38;5;28;43mself\u001b[39;49m\u001b[38;5;241;43m.\u001b[39;49m\u001b[43m_dispatch\u001b[49m\u001b[43m(\u001b[49m\u001b[43mtasks\u001b[49m\u001b[43m)\u001b[49m\n\u001b[1;32m    902\u001b[0m     \u001b[38;5;28;01mreturn\u001b[39;00m \u001b[38;5;28;01mTrue\u001b[39;00m\n",
      "File \u001b[0;32m~/.pyenv/versions/3.8.12/envs/mcats/lib/python3.8/site-packages/joblib/parallel.py:819\u001b[0m, in \u001b[0;36mParallel._dispatch\u001b[0;34m(self, batch)\u001b[0m\n\u001b[1;32m    817\u001b[0m \u001b[38;5;28;01mwith\u001b[39;00m \u001b[38;5;28mself\u001b[39m\u001b[38;5;241m.\u001b[39m_lock:\n\u001b[1;32m    818\u001b[0m     job_idx \u001b[38;5;241m=\u001b[39m \u001b[38;5;28mlen\u001b[39m(\u001b[38;5;28mself\u001b[39m\u001b[38;5;241m.\u001b[39m_jobs)\n\u001b[0;32m--> 819\u001b[0m     job \u001b[38;5;241m=\u001b[39m \u001b[38;5;28;43mself\u001b[39;49m\u001b[38;5;241;43m.\u001b[39;49m\u001b[43m_backend\u001b[49m\u001b[38;5;241;43m.\u001b[39;49m\u001b[43mapply_async\u001b[49m\u001b[43m(\u001b[49m\u001b[43mbatch\u001b[49m\u001b[43m,\u001b[49m\u001b[43m \u001b[49m\u001b[43mcallback\u001b[49m\u001b[38;5;241;43m=\u001b[39;49m\u001b[43mcb\u001b[49m\u001b[43m)\u001b[49m\n\u001b[1;32m    820\u001b[0m     \u001b[38;5;66;03m# A job can complete so quickly than its callback is\u001b[39;00m\n\u001b[1;32m    821\u001b[0m     \u001b[38;5;66;03m# called before we get here, causing self._jobs to\u001b[39;00m\n\u001b[1;32m    822\u001b[0m     \u001b[38;5;66;03m# grow. To ensure correct results ordering, .insert is\u001b[39;00m\n\u001b[1;32m    823\u001b[0m     \u001b[38;5;66;03m# used (rather than .append) in the following line\u001b[39;00m\n\u001b[1;32m    824\u001b[0m     \u001b[38;5;28mself\u001b[39m\u001b[38;5;241m.\u001b[39m_jobs\u001b[38;5;241m.\u001b[39minsert(job_idx, job)\n",
      "File \u001b[0;32m~/.pyenv/versions/3.8.12/envs/mcats/lib/python3.8/site-packages/joblib/_parallel_backends.py:208\u001b[0m, in \u001b[0;36mSequentialBackend.apply_async\u001b[0;34m(self, func, callback)\u001b[0m\n\u001b[1;32m    206\u001b[0m \u001b[38;5;28;01mdef\u001b[39;00m \u001b[38;5;21mapply_async\u001b[39m(\u001b[38;5;28mself\u001b[39m, func, callback\u001b[38;5;241m=\u001b[39m\u001b[38;5;28;01mNone\u001b[39;00m):\n\u001b[1;32m    207\u001b[0m \u001b[38;5;250m    \u001b[39m\u001b[38;5;124;03m\"\"\"Schedule a func to be run\"\"\"\u001b[39;00m\n\u001b[0;32m--> 208\u001b[0m     result \u001b[38;5;241m=\u001b[39m \u001b[43mImmediateResult\u001b[49m\u001b[43m(\u001b[49m\u001b[43mfunc\u001b[49m\u001b[43m)\u001b[49m\n\u001b[1;32m    209\u001b[0m     \u001b[38;5;28;01mif\u001b[39;00m callback:\n\u001b[1;32m    210\u001b[0m         callback(result)\n",
      "File \u001b[0;32m~/.pyenv/versions/3.8.12/envs/mcats/lib/python3.8/site-packages/joblib/_parallel_backends.py:597\u001b[0m, in \u001b[0;36mImmediateResult.__init__\u001b[0;34m(self, batch)\u001b[0m\n\u001b[1;32m    594\u001b[0m \u001b[38;5;28;01mdef\u001b[39;00m \u001b[38;5;21m__init__\u001b[39m(\u001b[38;5;28mself\u001b[39m, batch):\n\u001b[1;32m    595\u001b[0m     \u001b[38;5;66;03m# Don't delay the application, to avoid keeping the input\u001b[39;00m\n\u001b[1;32m    596\u001b[0m     \u001b[38;5;66;03m# arguments in memory\u001b[39;00m\n\u001b[0;32m--> 597\u001b[0m     \u001b[38;5;28mself\u001b[39m\u001b[38;5;241m.\u001b[39mresults \u001b[38;5;241m=\u001b[39m \u001b[43mbatch\u001b[49m\u001b[43m(\u001b[49m\u001b[43m)\u001b[49m\n",
      "File \u001b[0;32m~/.pyenv/versions/3.8.12/envs/mcats/lib/python3.8/site-packages/joblib/parallel.py:288\u001b[0m, in \u001b[0;36mBatchedCalls.__call__\u001b[0;34m(self)\u001b[0m\n\u001b[1;32m    284\u001b[0m \u001b[38;5;28;01mdef\u001b[39;00m \u001b[38;5;21m__call__\u001b[39m(\u001b[38;5;28mself\u001b[39m):\n\u001b[1;32m    285\u001b[0m     \u001b[38;5;66;03m# Set the default nested backend to self._backend but do not set the\u001b[39;00m\n\u001b[1;32m    286\u001b[0m     \u001b[38;5;66;03m# change the default number of processes to -1\u001b[39;00m\n\u001b[1;32m    287\u001b[0m     \u001b[38;5;28;01mwith\u001b[39;00m parallel_backend(\u001b[38;5;28mself\u001b[39m\u001b[38;5;241m.\u001b[39m_backend, n_jobs\u001b[38;5;241m=\u001b[39m\u001b[38;5;28mself\u001b[39m\u001b[38;5;241m.\u001b[39m_n_jobs):\n\u001b[0;32m--> 288\u001b[0m         \u001b[38;5;28;01mreturn\u001b[39;00m [func(\u001b[38;5;241m*\u001b[39margs, \u001b[38;5;241m*\u001b[39m\u001b[38;5;241m*\u001b[39mkwargs)\n\u001b[1;32m    289\u001b[0m                 \u001b[38;5;28;01mfor\u001b[39;00m func, args, kwargs \u001b[38;5;129;01min\u001b[39;00m \u001b[38;5;28mself\u001b[39m\u001b[38;5;241m.\u001b[39mitems]\n",
      "File \u001b[0;32m~/.pyenv/versions/3.8.12/envs/mcats/lib/python3.8/site-packages/joblib/parallel.py:288\u001b[0m, in \u001b[0;36m<listcomp>\u001b[0;34m(.0)\u001b[0m\n\u001b[1;32m    284\u001b[0m \u001b[38;5;28;01mdef\u001b[39;00m \u001b[38;5;21m__call__\u001b[39m(\u001b[38;5;28mself\u001b[39m):\n\u001b[1;32m    285\u001b[0m     \u001b[38;5;66;03m# Set the default nested backend to self._backend but do not set the\u001b[39;00m\n\u001b[1;32m    286\u001b[0m     \u001b[38;5;66;03m# change the default number of processes to -1\u001b[39;00m\n\u001b[1;32m    287\u001b[0m     \u001b[38;5;28;01mwith\u001b[39;00m parallel_backend(\u001b[38;5;28mself\u001b[39m\u001b[38;5;241m.\u001b[39m_backend, n_jobs\u001b[38;5;241m=\u001b[39m\u001b[38;5;28mself\u001b[39m\u001b[38;5;241m.\u001b[39m_n_jobs):\n\u001b[0;32m--> 288\u001b[0m         \u001b[38;5;28;01mreturn\u001b[39;00m [\u001b[43mfunc\u001b[49m\u001b[43m(\u001b[49m\u001b[38;5;241;43m*\u001b[39;49m\u001b[43margs\u001b[49m\u001b[43m,\u001b[49m\u001b[43m \u001b[49m\u001b[38;5;241;43m*\u001b[39;49m\u001b[38;5;241;43m*\u001b[39;49m\u001b[43mkwargs\u001b[49m\u001b[43m)\u001b[49m\n\u001b[1;32m    289\u001b[0m                 \u001b[38;5;28;01mfor\u001b[39;00m func, args, kwargs \u001b[38;5;129;01min\u001b[39;00m \u001b[38;5;28mself\u001b[39m\u001b[38;5;241m.\u001b[39mitems]\n",
      "File \u001b[0;32m~/.pyenv/versions/3.8.12/envs/mcats/lib/python3.8/site-packages/sklearn/utils/parallel.py:123\u001b[0m, in \u001b[0;36m_FuncWrapper.__call__\u001b[0;34m(self, *args, **kwargs)\u001b[0m\n\u001b[1;32m    121\u001b[0m     config \u001b[38;5;241m=\u001b[39m {}\n\u001b[1;32m    122\u001b[0m \u001b[38;5;28;01mwith\u001b[39;00m config_context(\u001b[38;5;241m*\u001b[39m\u001b[38;5;241m*\u001b[39mconfig):\n\u001b[0;32m--> 123\u001b[0m     \u001b[38;5;28;01mreturn\u001b[39;00m \u001b[38;5;28;43mself\u001b[39;49m\u001b[38;5;241;43m.\u001b[39;49m\u001b[43mfunction\u001b[49m\u001b[43m(\u001b[49m\u001b[38;5;241;43m*\u001b[39;49m\u001b[43margs\u001b[49m\u001b[43m,\u001b[49m\u001b[43m \u001b[49m\u001b[38;5;241;43m*\u001b[39;49m\u001b[38;5;241;43m*\u001b[39;49m\u001b[43mkwargs\u001b[49m\u001b[43m)\u001b[49m\n",
      "File \u001b[0;32m~/.pyenv/versions/3.8.12/envs/mcats/lib/python3.8/site-packages/sklearn/model_selection/_validation.py:686\u001b[0m, in \u001b[0;36m_fit_and_score\u001b[0;34m(estimator, X, y, scorer, train, test, verbose, parameters, fit_params, return_train_score, return_parameters, return_n_test_samples, return_times, return_estimator, split_progress, candidate_progress, error_score)\u001b[0m\n\u001b[1;32m    684\u001b[0m         estimator\u001b[38;5;241m.\u001b[39mfit(X_train, \u001b[38;5;241m*\u001b[39m\u001b[38;5;241m*\u001b[39mfit_params)\n\u001b[1;32m    685\u001b[0m     \u001b[38;5;28;01melse\u001b[39;00m:\n\u001b[0;32m--> 686\u001b[0m         \u001b[43mestimator\u001b[49m\u001b[38;5;241;43m.\u001b[39;49m\u001b[43mfit\u001b[49m\u001b[43m(\u001b[49m\u001b[43mX_train\u001b[49m\u001b[43m,\u001b[49m\u001b[43m \u001b[49m\u001b[43my_train\u001b[49m\u001b[43m,\u001b[49m\u001b[43m \u001b[49m\u001b[38;5;241;43m*\u001b[39;49m\u001b[38;5;241;43m*\u001b[39;49m\u001b[43mfit_params\u001b[49m\u001b[43m)\u001b[49m\n\u001b[1;32m    688\u001b[0m \u001b[38;5;28;01mexcept\u001b[39;00m \u001b[38;5;167;01mException\u001b[39;00m:\n\u001b[1;32m    689\u001b[0m     \u001b[38;5;66;03m# Note fit time as time until error\u001b[39;00m\n\u001b[1;32m    690\u001b[0m     fit_time \u001b[38;5;241m=\u001b[39m time\u001b[38;5;241m.\u001b[39mtime() \u001b[38;5;241m-\u001b[39m start_time\n",
      "File \u001b[0;32m~/.pyenv/versions/3.8.12/envs/mcats/lib/python3.8/site-packages/sklearn/ensemble/_forest.py:473\u001b[0m, in \u001b[0;36mBaseForest.fit\u001b[0;34m(self, X, y, sample_weight)\u001b[0m\n\u001b[1;32m    462\u001b[0m trees \u001b[38;5;241m=\u001b[39m [\n\u001b[1;32m    463\u001b[0m     \u001b[38;5;28mself\u001b[39m\u001b[38;5;241m.\u001b[39m_make_estimator(append\u001b[38;5;241m=\u001b[39m\u001b[38;5;28;01mFalse\u001b[39;00m, random_state\u001b[38;5;241m=\u001b[39mrandom_state)\n\u001b[1;32m    464\u001b[0m     \u001b[38;5;28;01mfor\u001b[39;00m i \u001b[38;5;129;01min\u001b[39;00m \u001b[38;5;28mrange\u001b[39m(n_more_estimators)\n\u001b[1;32m    465\u001b[0m ]\n\u001b[1;32m    467\u001b[0m \u001b[38;5;66;03m# Parallel loop: we prefer the threading backend as the Cython code\u001b[39;00m\n\u001b[1;32m    468\u001b[0m \u001b[38;5;66;03m# for fitting the trees is internally releasing the Python GIL\u001b[39;00m\n\u001b[1;32m    469\u001b[0m \u001b[38;5;66;03m# making threading more efficient than multiprocessing in\u001b[39;00m\n\u001b[1;32m    470\u001b[0m \u001b[38;5;66;03m# that case. However, for joblib 0.12+ we respect any\u001b[39;00m\n\u001b[1;32m    471\u001b[0m \u001b[38;5;66;03m# parallel_backend contexts set at a higher level,\u001b[39;00m\n\u001b[1;32m    472\u001b[0m \u001b[38;5;66;03m# since correctness does not rely on using threads.\u001b[39;00m\n\u001b[0;32m--> 473\u001b[0m trees \u001b[38;5;241m=\u001b[39m \u001b[43mParallel\u001b[49m\u001b[43m(\u001b[49m\n\u001b[1;32m    474\u001b[0m \u001b[43m    \u001b[49m\u001b[43mn_jobs\u001b[49m\u001b[38;5;241;43m=\u001b[39;49m\u001b[38;5;28;43mself\u001b[39;49m\u001b[38;5;241;43m.\u001b[39;49m\u001b[43mn_jobs\u001b[49m\u001b[43m,\u001b[49m\n\u001b[1;32m    475\u001b[0m \u001b[43m    \u001b[49m\u001b[43mverbose\u001b[49m\u001b[38;5;241;43m=\u001b[39;49m\u001b[38;5;28;43mself\u001b[39;49m\u001b[38;5;241;43m.\u001b[39;49m\u001b[43mverbose\u001b[49m\u001b[43m,\u001b[49m\n\u001b[1;32m    476\u001b[0m \u001b[43m    \u001b[49m\u001b[43mprefer\u001b[49m\u001b[38;5;241;43m=\u001b[39;49m\u001b[38;5;124;43m\"\u001b[39;49m\u001b[38;5;124;43mthreads\u001b[39;49m\u001b[38;5;124;43m\"\u001b[39;49m\u001b[43m,\u001b[49m\n\u001b[1;32m    477\u001b[0m \u001b[43m\u001b[49m\u001b[43m)\u001b[49m\u001b[43m(\u001b[49m\n\u001b[1;32m    478\u001b[0m \u001b[43m    \u001b[49m\u001b[43mdelayed\u001b[49m\u001b[43m(\u001b[49m\u001b[43m_parallel_build_trees\u001b[49m\u001b[43m)\u001b[49m\u001b[43m(\u001b[49m\n\u001b[1;32m    479\u001b[0m \u001b[43m        \u001b[49m\u001b[43mt\u001b[49m\u001b[43m,\u001b[49m\n\u001b[1;32m    480\u001b[0m \u001b[43m        \u001b[49m\u001b[38;5;28;43mself\u001b[39;49m\u001b[38;5;241;43m.\u001b[39;49m\u001b[43mbootstrap\u001b[49m\u001b[43m,\u001b[49m\n\u001b[1;32m    481\u001b[0m \u001b[43m        \u001b[49m\u001b[43mX\u001b[49m\u001b[43m,\u001b[49m\n\u001b[1;32m    482\u001b[0m \u001b[43m        \u001b[49m\u001b[43my\u001b[49m\u001b[43m,\u001b[49m\n\u001b[1;32m    483\u001b[0m \u001b[43m        \u001b[49m\u001b[43msample_weight\u001b[49m\u001b[43m,\u001b[49m\n\u001b[1;32m    484\u001b[0m \u001b[43m        \u001b[49m\u001b[43mi\u001b[49m\u001b[43m,\u001b[49m\n\u001b[1;32m    485\u001b[0m \u001b[43m        \u001b[49m\u001b[38;5;28;43mlen\u001b[39;49m\u001b[43m(\u001b[49m\u001b[43mtrees\u001b[49m\u001b[43m)\u001b[49m\u001b[43m,\u001b[49m\n\u001b[1;32m    486\u001b[0m \u001b[43m        \u001b[49m\u001b[43mverbose\u001b[49m\u001b[38;5;241;43m=\u001b[39;49m\u001b[38;5;28;43mself\u001b[39;49m\u001b[38;5;241;43m.\u001b[39;49m\u001b[43mverbose\u001b[49m\u001b[43m,\u001b[49m\n\u001b[1;32m    487\u001b[0m \u001b[43m        \u001b[49m\u001b[43mclass_weight\u001b[49m\u001b[38;5;241;43m=\u001b[39;49m\u001b[38;5;28;43mself\u001b[39;49m\u001b[38;5;241;43m.\u001b[39;49m\u001b[43mclass_weight\u001b[49m\u001b[43m,\u001b[49m\n\u001b[1;32m    488\u001b[0m \u001b[43m        \u001b[49m\u001b[43mn_samples_bootstrap\u001b[49m\u001b[38;5;241;43m=\u001b[39;49m\u001b[43mn_samples_bootstrap\u001b[49m\u001b[43m,\u001b[49m\n\u001b[1;32m    489\u001b[0m \u001b[43m    \u001b[49m\u001b[43m)\u001b[49m\n\u001b[1;32m    490\u001b[0m \u001b[43m    \u001b[49m\u001b[38;5;28;43;01mfor\u001b[39;49;00m\u001b[43m \u001b[49m\u001b[43mi\u001b[49m\u001b[43m,\u001b[49m\u001b[43m \u001b[49m\u001b[43mt\u001b[49m\u001b[43m \u001b[49m\u001b[38;5;129;43;01min\u001b[39;49;00m\u001b[43m \u001b[49m\u001b[38;5;28;43menumerate\u001b[39;49m\u001b[43m(\u001b[49m\u001b[43mtrees\u001b[49m\u001b[43m)\u001b[49m\n\u001b[1;32m    491\u001b[0m \u001b[43m\u001b[49m\u001b[43m)\u001b[49m\n\u001b[1;32m    493\u001b[0m \u001b[38;5;66;03m# Collect newly grown trees\u001b[39;00m\n\u001b[1;32m    494\u001b[0m \u001b[38;5;28mself\u001b[39m\u001b[38;5;241m.\u001b[39mestimators_\u001b[38;5;241m.\u001b[39mextend(trees)\n",
      "File \u001b[0;32m~/.pyenv/versions/3.8.12/envs/mcats/lib/python3.8/site-packages/sklearn/utils/parallel.py:63\u001b[0m, in \u001b[0;36mParallel.__call__\u001b[0;34m(self, iterable)\u001b[0m\n\u001b[1;32m     58\u001b[0m config \u001b[38;5;241m=\u001b[39m get_config()\n\u001b[1;32m     59\u001b[0m iterable_with_config \u001b[38;5;241m=\u001b[39m (\n\u001b[1;32m     60\u001b[0m     (_with_config(delayed_func, config), args, kwargs)\n\u001b[1;32m     61\u001b[0m     \u001b[38;5;28;01mfor\u001b[39;00m delayed_func, args, kwargs \u001b[38;5;129;01min\u001b[39;00m iterable\n\u001b[1;32m     62\u001b[0m )\n\u001b[0;32m---> 63\u001b[0m \u001b[38;5;28;01mreturn\u001b[39;00m \u001b[38;5;28;43msuper\u001b[39;49m\u001b[43m(\u001b[49m\u001b[43m)\u001b[49m\u001b[38;5;241;43m.\u001b[39;49m\u001b[38;5;21;43m__call__\u001b[39;49m\u001b[43m(\u001b[49m\u001b[43miterable_with_config\u001b[49m\u001b[43m)\u001b[49m\n",
      "File \u001b[0;32m~/.pyenv/versions/3.8.12/envs/mcats/lib/python3.8/site-packages/joblib/parallel.py:1098\u001b[0m, in \u001b[0;36mParallel.__call__\u001b[0;34m(self, iterable)\u001b[0m\n\u001b[1;32m   1095\u001b[0m     \u001b[38;5;28mself\u001b[39m\u001b[38;5;241m.\u001b[39m_iterating \u001b[38;5;241m=\u001b[39m \u001b[38;5;28;01mFalse\u001b[39;00m\n\u001b[1;32m   1097\u001b[0m \u001b[38;5;28;01mwith\u001b[39;00m \u001b[38;5;28mself\u001b[39m\u001b[38;5;241m.\u001b[39m_backend\u001b[38;5;241m.\u001b[39mretrieval_context():\n\u001b[0;32m-> 1098\u001b[0m     \u001b[38;5;28;43mself\u001b[39;49m\u001b[38;5;241;43m.\u001b[39;49m\u001b[43mretrieve\u001b[49m\u001b[43m(\u001b[49m\u001b[43m)\u001b[49m\n\u001b[1;32m   1099\u001b[0m \u001b[38;5;66;03m# Make sure that we get a last message telling us we are done\u001b[39;00m\n\u001b[1;32m   1100\u001b[0m elapsed_time \u001b[38;5;241m=\u001b[39m time\u001b[38;5;241m.\u001b[39mtime() \u001b[38;5;241m-\u001b[39m \u001b[38;5;28mself\u001b[39m\u001b[38;5;241m.\u001b[39m_start_time\n",
      "File \u001b[0;32m~/.pyenv/versions/3.8.12/envs/mcats/lib/python3.8/site-packages/joblib/parallel.py:975\u001b[0m, in \u001b[0;36mParallel.retrieve\u001b[0;34m(self)\u001b[0m\n\u001b[1;32m    973\u001b[0m \u001b[38;5;28;01mtry\u001b[39;00m:\n\u001b[1;32m    974\u001b[0m     \u001b[38;5;28;01mif\u001b[39;00m \u001b[38;5;28mgetattr\u001b[39m(\u001b[38;5;28mself\u001b[39m\u001b[38;5;241m.\u001b[39m_backend, \u001b[38;5;124m'\u001b[39m\u001b[38;5;124msupports_timeout\u001b[39m\u001b[38;5;124m'\u001b[39m, \u001b[38;5;28;01mFalse\u001b[39;00m):\n\u001b[0;32m--> 975\u001b[0m         \u001b[38;5;28mself\u001b[39m\u001b[38;5;241m.\u001b[39m_output\u001b[38;5;241m.\u001b[39mextend(\u001b[43mjob\u001b[49m\u001b[38;5;241;43m.\u001b[39;49m\u001b[43mget\u001b[49m\u001b[43m(\u001b[49m\u001b[43mtimeout\u001b[49m\u001b[38;5;241;43m=\u001b[39;49m\u001b[38;5;28;43mself\u001b[39;49m\u001b[38;5;241;43m.\u001b[39;49m\u001b[43mtimeout\u001b[49m\u001b[43m)\u001b[49m)\n\u001b[1;32m    976\u001b[0m     \u001b[38;5;28;01melse\u001b[39;00m:\n\u001b[1;32m    977\u001b[0m         \u001b[38;5;28mself\u001b[39m\u001b[38;5;241m.\u001b[39m_output\u001b[38;5;241m.\u001b[39mextend(job\u001b[38;5;241m.\u001b[39mget())\n",
      "File \u001b[0;32m~/.pyenv/versions/3.8.12/envs/mcats/lib/python3.8/site-packages/joblib/_parallel_backends.py:567\u001b[0m, in \u001b[0;36mLokyBackend.wrap_future_result\u001b[0;34m(future, timeout)\u001b[0m\n\u001b[1;32m    564\u001b[0m \u001b[38;5;250m\u001b[39m\u001b[38;5;124;03m\"\"\"Wrapper for Future.result to implement the same behaviour as\u001b[39;00m\n\u001b[1;32m    565\u001b[0m \u001b[38;5;124;03mAsyncResults.get from multiprocessing.\"\"\"\u001b[39;00m\n\u001b[1;32m    566\u001b[0m \u001b[38;5;28;01mtry\u001b[39;00m:\n\u001b[0;32m--> 567\u001b[0m     \u001b[38;5;28;01mreturn\u001b[39;00m \u001b[43mfuture\u001b[49m\u001b[38;5;241;43m.\u001b[39;49m\u001b[43mresult\u001b[49m\u001b[43m(\u001b[49m\u001b[43mtimeout\u001b[49m\u001b[38;5;241;43m=\u001b[39;49m\u001b[43mtimeout\u001b[49m\u001b[43m)\u001b[49m\n\u001b[1;32m    568\u001b[0m \u001b[38;5;28;01mexcept\u001b[39;00m CfTimeoutError \u001b[38;5;28;01mas\u001b[39;00m e:\n\u001b[1;32m    569\u001b[0m     \u001b[38;5;28;01mraise\u001b[39;00m \u001b[38;5;167;01mTimeoutError\u001b[39;00m \u001b[38;5;28;01mfrom\u001b[39;00m \u001b[38;5;21;01me\u001b[39;00m\n",
      "File \u001b[0;32m~/.pyenv/versions/3.8.12/lib/python3.8/concurrent/futures/_base.py:439\u001b[0m, in \u001b[0;36mFuture.result\u001b[0;34m(self, timeout)\u001b[0m\n\u001b[1;32m    436\u001b[0m \u001b[38;5;28;01melif\u001b[39;00m \u001b[38;5;28mself\u001b[39m\u001b[38;5;241m.\u001b[39m_state \u001b[38;5;241m==\u001b[39m FINISHED:\n\u001b[1;32m    437\u001b[0m     \u001b[38;5;28;01mreturn\u001b[39;00m \u001b[38;5;28mself\u001b[39m\u001b[38;5;241m.\u001b[39m__get_result()\n\u001b[0;32m--> 439\u001b[0m \u001b[38;5;28;43mself\u001b[39;49m\u001b[38;5;241;43m.\u001b[39;49m\u001b[43m_condition\u001b[49m\u001b[38;5;241;43m.\u001b[39;49m\u001b[43mwait\u001b[49m\u001b[43m(\u001b[49m\u001b[43mtimeout\u001b[49m\u001b[43m)\u001b[49m\n\u001b[1;32m    441\u001b[0m \u001b[38;5;28;01mif\u001b[39;00m \u001b[38;5;28mself\u001b[39m\u001b[38;5;241m.\u001b[39m_state \u001b[38;5;129;01min\u001b[39;00m [CANCELLED, CANCELLED_AND_NOTIFIED]:\n\u001b[1;32m    442\u001b[0m     \u001b[38;5;28;01mraise\u001b[39;00m CancelledError()\n",
      "File \u001b[0;32m~/.pyenv/versions/3.8.12/lib/python3.8/threading.py:302\u001b[0m, in \u001b[0;36mCondition.wait\u001b[0;34m(self, timeout)\u001b[0m\n\u001b[1;32m    300\u001b[0m \u001b[38;5;28;01mtry\u001b[39;00m:    \u001b[38;5;66;03m# restore state no matter what (e.g., KeyboardInterrupt)\u001b[39;00m\n\u001b[1;32m    301\u001b[0m     \u001b[38;5;28;01mif\u001b[39;00m timeout \u001b[38;5;129;01mis\u001b[39;00m \u001b[38;5;28;01mNone\u001b[39;00m:\n\u001b[0;32m--> 302\u001b[0m         \u001b[43mwaiter\u001b[49m\u001b[38;5;241;43m.\u001b[39;49m\u001b[43macquire\u001b[49m\u001b[43m(\u001b[49m\u001b[43m)\u001b[49m\n\u001b[1;32m    303\u001b[0m         gotit \u001b[38;5;241m=\u001b[39m \u001b[38;5;28;01mTrue\u001b[39;00m\n\u001b[1;32m    304\u001b[0m     \u001b[38;5;28;01melse\u001b[39;00m:\n",
      "\u001b[0;31mKeyboardInterrupt\u001b[0m: "
     ]
    }
   ],
   "source": [
    "model = RandomForestClassifier(n_jobs =-1)  \n",
    "model_parameters = { 'n_estimators': randint(1,1000),\n",
    "                    'criterion': ['gini', 'entropy', 'log_loss'],\n",
    "                    'max_features': ['auto', 'sqrt', 'log2', None],\n",
    "                    'max_depth' : randint(1,32),\n",
    "                    'min_samples_split':randint(2, 100), \n",
    "                   }\n",
    "random_search= RandomizedSearchCV(model, model_parameters, n_iter=100, cv=5, random_state=1, verbose=2)\n",
    "\n",
    "model =random_search.fit(X_train, y_train)"
   ]
  },
  {
   "cell_type": "markdown",
   "id": "abb6fe13",
   "metadata": {},
   "source": [
    "min_samples_split specifies the minimum number of samples required to split an internal node, \n",
    "while min_samples_leaf specifies the minimum number of samples required to be at a leaf node."
   ]
  },
  {
   "cell_type": "code",
   "execution_count": null,
   "id": "9ce9f8d7",
   "metadata": {},
   "outputs": [],
   "source": [
    "random_search.best_params_"
   ]
  },
  {
   "cell_type": "code",
   "execution_count": null,
   "id": "ca20b049",
   "metadata": {},
   "outputs": [],
   "source": [
    "model_8 = RandomForestClassifier(n_estimators=897, max_features='sqrt', criterion='entropy', max_depth =18, min_samples_split=5,)  \n",
    "model_8.fit(X_train, y_train)\n",
    "preds_8 = model_8.predict(X_test)\n",
    "y_true = y_test\n",
    "y_pred = preds_8\n",
    "target_names = ['hiphop', 'classical', 'blues', 'metal', 'jazz', 'country', 'pop', 'rock', 'disco', 'reggae']\n",
    "print(classification_report(y_true, y_pred, target_names=target_names))"
   ]
  },
  {
   "cell_type": "code",
   "execution_count": null,
   "id": "292a1e6a",
   "metadata": {
    "scrolled": true
   },
   "outputs": [],
   "source": [
    "model_5 = RandomForestClassifier(n_estimators=897, max_features='sqrt', criterion='entropy', max_depth =23, min_samples_split=3,)  \n",
    "model_5.fit(X_train, y_train)\n",
    "preds_5 = model_5.predict(X_test)\n",
    "y_true = y_test\n",
    "y_pred = preds_5\n",
    "target_names = ['hiphop', 'classical', 'blues', 'metal', 'jazz', 'country', 'pop', 'rock', 'disco', 'reggae']\n",
    "print(classification_report(y_true, y_pred, target_names=target_names))"
   ]
  },
  {
   "cell_type": "code",
   "execution_count": null,
   "id": "fc11f4a0",
   "metadata": {},
   "outputs": [],
   "source": [
    "#Checking for overfitting\n",
    "\n",
    "model_5 = RandomForestClassifier(n_estimators=897, max_features='sqrt', criterion='entropy', max_depth =23, min_samples_split=3,)  \n",
    "model_5.fit(X_train, y_train)\n",
    "preds_5 = model_5.predict(X_train)\n",
    "y_true = y_train\n",
    "y_pred = preds_5\n",
    "target_names = ['hiphop', 'classical', 'blues', 'metal', 'jazz', 'country', 'pop', 'rock', 'disco', 'reggae']\n",
    "print(classification_report(y_true, y_pred, target_names=target_names))"
   ]
  },
  {
   "cell_type": "code",
   "execution_count": null,
   "id": "d36b07e2",
   "metadata": {},
   "outputs": [],
   "source": [
    "model = RandomForestClassifier(n_jobs =-1)  \n",
    "model_parameters = { 'n_estimators': randint(1,1000),\n",
    "                    'criterion': ['gini', 'entropy', 'log_loss'],\n",
    "                    'max_features': ['auto', 'sqrt', 'log2', None],\n",
    "                    'max_depth' : randint(1,50),\n",
    "                    'min_samples_split':randint(2, 300),\n",
    "                    'min_samples_leaf':randint(2,300),\n",
    "                    'bootstrap':[True, False],\n",
    "                    'oob_score':[True, False]\n",
    "                   }\n",
    "random_search= RandomizedSearchCV(model, model_parameters, n_iter=100, cv=5, random_state=1, verbose=2)\n",
    "\n",
    "model =random_search.fit(X_train, y_train)\n",
    "\n",
    "random_search.best_params_"
   ]
  },
  {
   "cell_type": "code",
   "execution_count": null,
   "id": "56426204",
   "metadata": {},
   "outputs": [],
   "source": [
    "random_search.best_params_"
   ]
  },
  {
   "cell_type": "code",
   "execution_count": null,
   "id": "098dcfe6",
   "metadata": {},
   "outputs": [],
   "source": [
    "model_9 = RandomForestClassifier(n_estimators=151, max_features='sqrt', criterion='log_loss', max_depth =47, min_samples_split=39,bootstrap=False, oob_score=False)  \n",
    "model_9.fit(X_train, y_train)\n",
    "preds_9 = model_9.predict(X_test)\n",
    "y_true = y_test\n",
    "y_pred = preds_9\n",
    "target_names = ['hiphop', 'classical', 'blues', 'metal', 'jazz', 'country', 'pop', 'rock', 'disco', 'reggae']\n",
    "print(classification_report(y_true, y_pred, target_names=target_names))"
   ]
  },
  {
   "cell_type": "code",
   "execution_count": null,
   "id": "d3b911e9",
   "metadata": {},
   "outputs": [],
   "source": [
    "model_6 = RandomForestClassifier(n_estimators=872, max_features='auto', criterion='gini', max_depth =44, min_samples_leaf=32, min_samples_split=38, bootstrap=True, oob_score=False)  \n",
    "model_6.fit(X_train, y_train)\n",
    "preds_6 = model_6.predict(X_test)\n",
    "y_true = y_test\n",
    "y_pred = preds_6\n",
    "target_names = ['hiphop', 'classical', 'blues', 'metal', 'jazz', 'country', 'pop', 'rock', 'disco', 'reggae']\n",
    "print(classification_report(y_true, y_pred, target_names=target_names))"
   ]
  },
  {
   "cell_type": "code",
   "execution_count": null,
   "id": "8461a02c",
   "metadata": {},
   "outputs": [],
   "source": [
    "model = RandomForestClassifier(n_jobs =-1)  \n",
    "model_parameters = { 'n_estimators': randint(1,1000),\n",
    "                    'max_features': ['auto', 'sqrt', 'log2'],\n",
    "                    'bootstrap' :[True],\n",
    "                    'oob_score':[True],\n",
    "                    'max_depth' : randint(1,500),\n",
    "                    'min_samples_split':randint(2, 500),\n",
    "                    'min_samples_leaf':randint(2,500),\n",
    "                   }\n",
    "random_search= RandomizedSearchCV(model, model_parameters, n_iter=100, cv=5, random_state=1, verbose=2)\n",
    "\n",
    "model =random_search.fit(X_train, y_train)"
   ]
  },
  {
   "cell_type": "code",
   "execution_count": null,
   "id": "185a61be",
   "metadata": {},
   "outputs": [],
   "source": [
    "\n",
    "random_search.best_params_"
   ]
  },
  {
   "cell_type": "code",
   "execution_count": null,
   "id": "3985dcca",
   "metadata": {},
   "outputs": [],
   "source": [
    "model_10 = RandomForestClassifier(n_estimators=543, max_features='auto', max_depth =201, min_samples_leaf=45, min_samples_split=22, bootstrap=True, oob_score=True)  \n",
    "model_10.fit(X_train, y_train)\n",
    "preds_10 = model_10.predict(X_test)\n",
    "y_true = y_test\n",
    "y_pred = preds_10\n",
    "target_names = ['hiphop', 'classical', 'blues', 'metal', 'jazz', 'country', 'pop', 'rock', 'disco', 'reggae']\n",
    "print(classification_report(y_true, y_pred, target_names=target_names))"
   ]
  },
  {
   "cell_type": "code",
   "execution_count": null,
   "id": "7d7d5eee",
   "metadata": {},
   "outputs": [],
   "source": [
    "model_6 = RandomForestClassifier(n_estimators=945, max_features='log2', max_depth =402, min_samples_leaf=22, min_samples_split=120, bootstrap=True, oob_score=True)  \n",
    "model_6.fit(X_train, y_train)\n",
    "preds_6 = model_6.predict(X_test)\n",
    "y_true = y_test\n",
    "y_pred = preds_6\n",
    "target_names = ['hiphop', 'classical', 'blues', 'metal', 'jazz', 'country', 'pop', 'rock', 'disco', 'reggae']\n",
    "print(classification_report(y_true, y_pred, target_names=target_names))"
   ]
  },
  {
   "cell_type": "code",
   "execution_count": null,
   "id": "9d865929",
   "metadata": {
    "scrolled": true
   },
   "outputs": [],
   "source": [
    "#checking for overfitting\n",
    "model_6 = RandomForestClassifier(n_estimators=945, max_features='log2', max_depth =402, min_samples_leaf=22, min_samples_split=120, bootstrap=True, oob_score=True)  \n",
    "model_6.fit(X_train, y_train)\n",
    "preds_6 = model_6.predict(X_train)\n",
    "y_true = y_train\n",
    "y_pred = preds_6\n",
    "target_names = ['hiphop', 'classical', 'blues', 'metal', 'jazz', 'country', 'pop', 'rock', 'disco', 'reggae']\n",
    "print(classification_report(y_true, y_pred, target_names=target_names))"
   ]
  },
  {
   "cell_type": "code",
   "execution_count": null,
   "id": "c6aecffa",
   "metadata": {},
   "outputs": [],
   "source": [
    "X_train, X_test, y_train, y_test = train_test_split(X, y,test_size=0.2, random_state=42) #Try test size 0.3 or 0.35"
   ]
  },
  {
   "cell_type": "code",
   "execution_count": null,
   "id": "5a14c92f",
   "metadata": {},
   "outputs": [],
   "source": [
    "model_5 = RandomForestClassifier(n_estimators=897, max_features='sqrt', criterion='entropy', max_depth =23, min_samples_split=3,)  \n",
    "model_5.fit(X_train, y_train)\n",
    "preds_5 = model_5.predict(X_test)\n",
    "y_true = y_test\n",
    "y_pred = preds_5\n",
    "target_names = ['hiphop', 'classical', 'blues', 'metal', 'jazz', 'country', 'pop', 'rock', 'disco', 'reggae']\n",
    "print(classification_report(y_true, y_pred, target_names=target_names))"
   ]
  },
  {
   "cell_type": "code",
   "execution_count": null,
   "id": "073620b6",
   "metadata": {},
   "outputs": [],
   "source": [
    "model_5 = RandomForestClassifier(n_estimators=897, max_features='sqrt', criterion='entropy', max_depth =23, min_samples_split=3,)  \n",
    "model_5.fit(X_train, y_train)\n",
    "preds_5 = model_5.predict(X_train)\n",
    "y_true = y_train\n",
    "y_pred = preds_5\n",
    "target_names = ['hiphop', 'classical', 'blues', 'metal', 'jazz', 'country', 'pop', 'rock', 'disco', 'reggae']\n",
    "print(classification_report(y_true, y_pred, target_names=target_names))"
   ]
  },
  {
   "cell_type": "code",
   "execution_count": null,
   "id": "38851fa2",
   "metadata": {},
   "outputs": [],
   "source": [
    "model = RandomForestClassifier(n_jobs =-1)  \n",
    "model_parameters = { 'n_estimators': randint(1,1000),\n",
    "                    'max_features': ['auto', 'sqrt', 'log2'],\n",
    "                    'max_depth' : randint(1,500),\n",
    "                    'min_samples_leaf':randint(2,500),\n",
    "                   }\n",
    "random_search= RandomizedSearchCV(model, model_parameters, n_iter=100, cv=5, random_state=1, verbose=2)\n",
    "\n",
    "model =random_search.fit(X_train, y_train)"
   ]
  },
  {
   "cell_type": "code",
   "execution_count": null,
   "id": "065f419f",
   "metadata": {},
   "outputs": [],
   "source": [
    "\n",
    "random_search.best_params_"
   ]
  },
  {
   "cell_type": "code",
   "execution_count": 36,
   "id": "ca2e44e9",
   "metadata": {},
   "outputs": [
    {
     "name": "stdout",
     "output_type": "stream",
     "text": [
      "Fitting 5 folds for each of 20 candidates, totalling 100 fits\n",
      "[CV] END max_depth=38, max_features=236, min_samples_leaf=13, n_estimators=73; total time=   1.6s\n",
      "[CV] END max_depth=38, max_features=236, min_samples_leaf=13, n_estimators=73; total time=   0.4s\n",
      "[CV] END max_depth=38, max_features=236, min_samples_leaf=13, n_estimators=73; total time=   0.4s\n",
      "[CV] END max_depth=38, max_features=236, min_samples_leaf=13, n_estimators=73; total time=   0.3s\n",
      "[CV] END max_depth=38, max_features=236, min_samples_leaf=13, n_estimators=73; total time=   0.3s\n",
      "[CV] END max_depth=10, max_features=204, min_samples_leaf=6, n_estimators=848; total time=   5.3s\n",
      "[CV] END max_depth=10, max_features=204, min_samples_leaf=6, n_estimators=848; total time=   6.1s\n",
      "[CV] END max_depth=10, max_features=204, min_samples_leaf=6, n_estimators=848; total time=   6.1s\n",
      "[CV] END max_depth=10, max_features=204, min_samples_leaf=6, n_estimators=848; total time=   6.1s\n",
      "[CV] END max_depth=10, max_features=204, min_samples_leaf=6, n_estimators=848; total time=   5.8s\n",
      "[CV] END max_depth=65, max_features=145, min_samples_leaf=2, n_estimators=973; total time=   7.9s\n",
      "[CV] END max_depth=65, max_features=145, min_samples_leaf=2, n_estimators=973; total time=   9.0s\n",
      "[CV] END max_depth=65, max_features=145, min_samples_leaf=2, n_estimators=973; total time=   9.1s\n",
      "[CV] END max_depth=65, max_features=145, min_samples_leaf=2, n_estimators=973; total time=   9.8s\n",
      "[CV] END max_depth=65, max_features=145, min_samples_leaf=2, n_estimators=973; total time=   9.8s\n",
      "[CV] END max_depth=72, max_features=238, min_samples_leaf=7, n_estimators=282; total time=   2.5s\n",
      "[CV] END max_depth=72, max_features=238, min_samples_leaf=7, n_estimators=282; total time=   2.3s\n",
      "[CV] END max_depth=72, max_features=238, min_samples_leaf=7, n_estimators=282; total time=   2.3s\n",
      "[CV] END max_depth=72, max_features=238, min_samples_leaf=7, n_estimators=282; total time=   2.3s\n",
      "[CV] END max_depth=72, max_features=238, min_samples_leaf=7, n_estimators=282; total time=   2.2s\n",
      "[CV] END max_depth=51, max_features=277, min_samples_leaf=19, n_estimators=469; total time=   3.0s\n",
      "[CV] END max_depth=51, max_features=277, min_samples_leaf=19, n_estimators=469; total time=   2.9s\n",
      "[CV] END max_depth=51, max_features=277, min_samples_leaf=19, n_estimators=469; total time=   3.0s\n",
      "[CV] END max_depth=51, max_features=277, min_samples_leaf=19, n_estimators=469; total time=   3.0s\n",
      "[CV] END max_depth=51, max_features=277, min_samples_leaf=19, n_estimators=469; total time=   3.0s\n",
      "[CV] END max_depth=12, max_features=253, min_samples_leaf=29, n_estimators=926; total time=   5.0s\n",
      "[CV] END max_depth=12, max_features=253, min_samples_leaf=29, n_estimators=926; total time=   5.8s\n",
      "[CV] END max_depth=12, max_features=253, min_samples_leaf=29, n_estimators=926; total time=   5.4s\n",
      "[CV] END max_depth=12, max_features=253, min_samples_leaf=29, n_estimators=926; total time=   5.2s\n",
      "[CV] END max_depth=12, max_features=253, min_samples_leaf=29, n_estimators=926; total time=   5.1s\n",
      "[CV] END max_depth=15, max_features=51, min_samples_leaf=69, n_estimators=216; total time=   0.6s\n",
      "[CV] END max_depth=15, max_features=51, min_samples_leaf=69, n_estimators=216; total time=   0.7s\n",
      "[CV] END max_depth=15, max_features=51, min_samples_leaf=69, n_estimators=216; total time=   0.7s\n",
      "[CV] END max_depth=15, max_features=51, min_samples_leaf=69, n_estimators=216; total time=   0.7s\n",
      "[CV] END max_depth=15, max_features=51, min_samples_leaf=69, n_estimators=216; total time=   0.7s\n",
      "[CV] END max_depth=88, max_features=490, min_samples_leaf=95, n_estimators=865; total time=   2.8s\n",
      "[CV] END max_depth=88, max_features=490, min_samples_leaf=95, n_estimators=865; total time=   2.9s\n",
      "[CV] END max_depth=88, max_features=490, min_samples_leaf=95, n_estimators=865; total time=   2.7s\n",
      "[CV] END max_depth=88, max_features=490, min_samples_leaf=95, n_estimators=865; total time=   2.7s\n",
      "[CV] END max_depth=88, max_features=490, min_samples_leaf=95, n_estimators=865; total time=   2.7s\n",
      "[CV] END max_depth=87, max_features=142, min_samples_leaf=10, n_estimators=8; total time=   0.1s\n",
      "[CV] END max_depth=87, max_features=142, min_samples_leaf=10, n_estimators=8; total time=   0.1s\n",
      "[CV] END max_depth=87, max_features=142, min_samples_leaf=10, n_estimators=8; total time=   0.1s\n",
      "[CV] END max_depth=87, max_features=142, min_samples_leaf=10, n_estimators=8; total time=   0.1s\n",
      "[CV] END max_depth=87, max_features=142, min_samples_leaf=10, n_estimators=8; total time=   0.1s\n",
      "[CV] END max_depth=64, max_features=318, min_samples_leaf=23, n_estimators=314; total time=   1.8s\n",
      "[CV] END max_depth=64, max_features=318, min_samples_leaf=23, n_estimators=314; total time=   1.9s\n",
      "[CV] END max_depth=64, max_features=318, min_samples_leaf=23, n_estimators=314; total time=   1.8s\n",
      "[CV] END max_depth=64, max_features=318, min_samples_leaf=23, n_estimators=314; total time=   1.9s\n",
      "[CV] END max_depth=64, max_features=318, min_samples_leaf=23, n_estimators=314; total time=   2.1s\n",
      "[CV] END max_depth=2, max_features=385, min_samples_leaf=61, n_estimators=210; total time=   0.8s\n",
      "[CV] END max_depth=2, max_features=385, min_samples_leaf=61, n_estimators=210; total time=   0.7s\n",
      "[CV] END max_depth=2, max_features=385, min_samples_leaf=61, n_estimators=210; total time=   0.7s\n",
      "[CV] END max_depth=2, max_features=385, min_samples_leaf=61, n_estimators=210; total time=   0.7s\n",
      "[CV] END max_depth=2, max_features=385, min_samples_leaf=61, n_estimators=210; total time=   0.7s\n",
      "[CV] END max_depth=9, max_features=217, min_samples_leaf=14, n_estimators=628; total time=   4.0s\n",
      "[CV] END max_depth=9, max_features=217, min_samples_leaf=14, n_estimators=628; total time=   4.0s\n",
      "[CV] END max_depth=9, max_features=217, min_samples_leaf=14, n_estimators=628; total time=   3.9s\n",
      "[CV] END max_depth=9, max_features=217, min_samples_leaf=14, n_estimators=628; total time=   4.0s\n",
      "[CV] END max_depth=9, max_features=217, min_samples_leaf=14, n_estimators=628; total time=   3.9s\n",
      "[CV] END max_depth=48, max_features=491, min_samples_leaf=73, n_estimators=543; total time=   1.8s\n",
      "[CV] END max_depth=48, max_features=491, min_samples_leaf=73, n_estimators=543; total time=   1.8s\n",
      "[CV] END max_depth=48, max_features=491, min_samples_leaf=73, n_estimators=543; total time=   1.8s\n",
      "[CV] END max_depth=48, max_features=491, min_samples_leaf=73, n_estimators=543; total time=   1.8s\n",
      "[CV] END max_depth=48, max_features=491, min_samples_leaf=73, n_estimators=543; total time=   1.8s\n",
      "[CV] END max_depth=72, max_features=388, min_samples_leaf=71, n_estimators=918; total time=   3.0s\n",
      "[CV] END max_depth=72, max_features=388, min_samples_leaf=71, n_estimators=918; total time=   3.2s\n",
      "[CV] END max_depth=72, max_features=388, min_samples_leaf=71, n_estimators=918; total time=   3.6s\n",
      "[CV] END max_depth=72, max_features=388, min_samples_leaf=71, n_estimators=918; total time=   3.4s\n",
      "[CV] END max_depth=72, max_features=388, min_samples_leaf=71, n_estimators=918; total time=   4.2s\n",
      "[CV] END max_depth=50, max_features=314, min_samples_leaf=4, n_estimators=965; total time=   8.0s\n",
      "[CV] END max_depth=50, max_features=314, min_samples_leaf=4, n_estimators=965; total time=   8.2s\n",
      "[CV] END max_depth=50, max_features=314, min_samples_leaf=4, n_estimators=965; total time=   8.8s\n",
      "[CV] END max_depth=50, max_features=314, min_samples_leaf=4, n_estimators=965; total time=   8.6s\n",
      "[CV] END max_depth=50, max_features=314, min_samples_leaf=4, n_estimators=965; total time=   8.2s\n",
      "[CV] END max_depth=25, max_features=498, min_samples_leaf=44, n_estimators=589; total time=   2.8s\n",
      "[CV] END max_depth=25, max_features=498, min_samples_leaf=44, n_estimators=589; total time=   2.8s\n",
      "[CV] END max_depth=25, max_features=498, min_samples_leaf=44, n_estimators=589; total time=   2.9s\n",
      "[CV] END max_depth=25, max_features=498, min_samples_leaf=44, n_estimators=589; total time=   2.8s\n",
      "[CV] END max_depth=25, max_features=498, min_samples_leaf=44, n_estimators=589; total time=   2.8s\n",
      "[CV] END max_depth=27, max_features=309, min_samples_leaf=81, n_estimators=622; total time=   2.1s\n",
      "[CV] END max_depth=27, max_features=309, min_samples_leaf=81, n_estimators=622; total time=   2.3s\n",
      "[CV] END max_depth=27, max_features=309, min_samples_leaf=81, n_estimators=622; total time=   2.3s\n"
     ]
    },
    {
     "name": "stdout",
     "output_type": "stream",
     "text": [
      "[CV] END max_depth=27, max_features=309, min_samples_leaf=81, n_estimators=622; total time=   2.3s\n",
      "[CV] END max_depth=27, max_features=309, min_samples_leaf=81, n_estimators=622; total time=   2.3s\n",
      "[CV] END max_depth=42, max_features=467, min_samples_leaf=16, n_estimators=65; total time=   0.4s\n",
      "[CV] END max_depth=42, max_features=467, min_samples_leaf=16, n_estimators=65; total time=   0.5s\n",
      "[CV] END max_depth=42, max_features=467, min_samples_leaf=16, n_estimators=65; total time=   0.5s\n",
      "[CV] END max_depth=42, max_features=467, min_samples_leaf=16, n_estimators=65; total time=   0.6s\n",
      "[CV] END max_depth=42, max_features=467, min_samples_leaf=16, n_estimators=65; total time=   0.5s\n",
      "[CV] END max_depth=69, max_features=26, min_samples_leaf=99, n_estimators=472; total time=   1.1s\n",
      "[CV] END max_depth=69, max_features=26, min_samples_leaf=99, n_estimators=472; total time=   1.0s\n",
      "[CV] END max_depth=69, max_features=26, min_samples_leaf=99, n_estimators=472; total time=   1.0s\n",
      "[CV] END max_depth=69, max_features=26, min_samples_leaf=99, n_estimators=472; total time=   1.1s\n",
      "[CV] END max_depth=69, max_features=26, min_samples_leaf=99, n_estimators=472; total time=   1.0s\n",
      "[CV] END max_depth=8, max_features=283, min_samples_leaf=26, n_estimators=617; total time=   3.8s\n",
      "[CV] END max_depth=8, max_features=283, min_samples_leaf=26, n_estimators=617; total time=   3.3s\n",
      "[CV] END max_depth=8, max_features=283, min_samples_leaf=26, n_estimators=617; total time=   3.3s\n",
      "[CV] END max_depth=8, max_features=283, min_samples_leaf=26, n_estimators=617; total time=   3.5s\n",
      "[CV] END max_depth=8, max_features=283, min_samples_leaf=26, n_estimators=617; total time=   3.9s\n"
     ]
    }
   ],
   "source": [
    "model = RandomForestClassifier(n_jobs =-1)  \n",
    "model_parameters = { 'n_estimators': randint(1,1000),\n",
    "                    'max_features': randint(1,500),\n",
    "                    'max_depth' : randint(1,100),\n",
    "                    'min_samples_leaf':randint(1,100),\n",
    "                   }\n",
    "random_search= RandomizedSearchCV(model, model_parameters, n_iter=20, cv=5, random_state=1, verbose=2)\n",
    "\n",
    "model =random_search.fit(X_train, y_train)"
   ]
  },
  {
   "cell_type": "code",
   "execution_count": 37,
   "id": "e58cfb84",
   "metadata": {},
   "outputs": [
    {
     "data": {
      "text/plain": [
       "{'max_depth': 65,\n",
       " 'max_features': 145,\n",
       " 'min_samples_leaf': 2,\n",
       " 'n_estimators': 973}"
      ]
     },
     "execution_count": 37,
     "metadata": {},
     "output_type": "execute_result"
    }
   ],
   "source": [
    "random_search.best_params_"
   ]
  },
  {
   "cell_type": "code",
   "execution_count": 38,
   "id": "c179626a",
   "metadata": {},
   "outputs": [
    {
     "name": "stdout",
     "output_type": "stream",
     "text": [
      "              precision    recall  f1-score   support\n",
      "\n",
      "      hiphop       1.00      1.00      1.00        79\n",
      "   classical       1.00      1.00      1.00        88\n",
      "       blues       1.00      1.00      1.00        76\n",
      "       metal       1.00      1.00      1.00        78\n",
      "        jazz       1.00      1.00      1.00        84\n",
      "     country       1.00      1.00      1.00        73\n",
      "         pop       1.00      1.00      1.00        82\n",
      "        rock       1.00      1.00      1.00        81\n",
      "       disco       1.00      1.00      1.00        78\n",
      "      reggae       1.00      1.00      1.00        80\n",
      "\n",
      "    accuracy                           1.00       799\n",
      "   macro avg       1.00      1.00      1.00       799\n",
      "weighted avg       1.00      1.00      1.00       799\n",
      "\n"
     ]
    }
   ],
   "source": [
    "model_13 = RandomForestClassifier(n_estimators=973, max_features=145, max_depth=65,min_samples_leaf=2,)  \n",
    "model_13.fit(X_train, y_train)\n",
    "preds_13 = model_13.predict(X_train)\n",
    "y_true = y_train\n",
    "y_pred = preds_13\n",
    "target_names = ['hiphop', 'classical', 'blues', 'metal', 'jazz', 'country', 'pop', 'rock', 'disco', 'reggae']\n",
    "print(classification_report(y_true, y_pred, target_names=target_names))"
   ]
  },
  {
   "cell_type": "code",
   "execution_count": null,
   "id": "e0747384",
   "metadata": {},
   "outputs": [],
   "source": [
    "model_12 = RandomForestClassifier(n_estimators=258, max_features=260, max_depth=78,min_samples_leaf=1,)  \n",
    "model_12.fit(X_train, y_train)\n",
    "preds_12 = model_11.predict(X_test)\n",
    "y_true = y_test\n",
    "y_pred = preds_12\n",
    "target_names = ['hiphop', 'classical', 'blues', 'metal', 'jazz', 'country', 'pop', 'rock', 'disco', 'reggae']\n",
    "print(classification_report(y_true, y_pred, target_names=target_names))"
   ]
  },
  {
   "cell_type": "code",
   "execution_count": null,
   "id": "e77fad26",
   "metadata": {},
   "outputs": [],
   "source": [
    "model_12 = RandomForestClassifier(n_estimators=258, max_features=260, max_depth=78,min_samples_leaf=1,)  \n",
    "model_12.fit(X_train, y_train)\n",
    "preds_12 = model_11.predict(X_train)\n",
    "y_true = y_train\n",
    "y_pred = preds_12\n",
    "target_names = ['hiphop', 'classical', 'blues', 'metal', 'jazz', 'country', 'pop', 'rock', 'disco', 'reggae']\n",
    "print(classification_report(y_true, y_pred, target_names=target_names))"
   ]
  },
  {
   "cell_type": "code",
   "execution_count": null,
   "id": "95cdaf2b",
   "metadata": {},
   "outputs": [],
   "source": [
    "random_search.best_params_"
   ]
  },
  {
   "cell_type": "code",
   "execution_count": null,
   "id": "b9082d2a",
   "metadata": {},
   "outputs": [],
   "source": [
    "model_11 = RandomForestClassifier(n_estimators=2792, max_features=3, max_depth=8,min_samples_leaf=1,)  \n",
    "model_11.fit(X_train, y_train)\n",
    "preds_11 = model_11.predict(X_test)\n",
    "y_true = y_test\n",
    "y_pred = preds_11\n",
    "target_names = ['hiphop', 'classical', 'blues', 'metal', 'jazz', 'country', 'pop', 'rock', 'disco', 'reggae']\n",
    "print(classification_report(y_true, y_pred, target_names=target_names))"
   ]
  },
  {
   "cell_type": "code",
   "execution_count": null,
   "id": "c0d643a7",
   "metadata": {},
   "outputs": [],
   "source": [
    "model_11 = RandomForestClassifier(n_estimators=2792, max_features=3, max_depth=8,min_samples_leaf=1,) \n",
    "model_11.fit(X_train, y_train)\n",
    "preds_11 = model_11.predict(X_train)\n",
    "y_true = y_train\n",
    "y_pred = preds_11\n",
    "target_names = ['hiphop', 'classical', 'blues', 'metal', 'jazz', 'country', 'pop', 'rock', 'disco', 'reggae']\n",
    "print(classification_report(y_true, y_pred, target_names=target_names))"
   ]
  },
  {
   "cell_type": "code",
   "execution_count": null,
   "id": "8676e0af",
   "metadata": {},
   "outputs": [],
   "source": [
    "model_13 = RandomForestClassifier(n_estimators=500, max_features=54, max_depth=10,min_samples_leaf=3)  \n",
    "model_13.fit(X_train, y_train)\n",
    "preds_13 = model_11.predict(X_test)\n",
    "y_true = y_test\n",
    "y_pred = preds_13\n",
    "target_names = ['hiphop', 'classical', 'blues', 'metal', 'jazz', 'country', 'pop', 'rock', 'disco', 'reggae']\n",
    "print(classification_report(y_true, y_pred, target_names=target_names))"
   ]
  },
  {
   "cell_type": "code",
   "execution_count": null,
   "id": "db4e4e82",
   "metadata": {},
   "outputs": [],
   "source": [
    "#post on stackoverflow recommened max features at 30-50% of total features, n_estimators more trees might stop overfitting, \n",
    "#max_depth 5-10, min_samples_leaf more than 1\n",
    "model_13 = RandomForestClassifier(n_estimators=500, max_features=54, max_depth=10,min_samples_leaf=3)  \n",
    "model_13.fit(X_train, y_train)\n",
    "preds_13 = model_11.predict(X_train)\n",
    "y_true = y_train\n",
    "y_pred = preds_13\n",
    "target_names = ['hiphop', 'classical', 'blues', 'metal', 'jazz', 'country', 'pop', 'rock', 'disco', 'reggae']\n",
    "print(classification_report(y_true, y_pred, target_names=target_names))"
   ]
  },
  {
   "cell_type": "code",
   "execution_count": null,
   "id": "650044ec",
   "metadata": {},
   "outputs": [],
   "source": [
    "from sklearn.metrics import confusion_matrix\n",
    "confusion_matrix(y_true, y_pred)"
   ]
  },
  {
   "cell_type": "code",
   "execution_count": null,
   "id": "fd291b8c",
   "metadata": {},
   "outputs": [],
   "source": [
    "from sklearn.metrics import ConfusionMatrixDisplay\n",
    "import matplotlib.pyplot as plt\n",
    "target_names = ['hiphop', 'classical', 'blues', 'metal', 'jazz', 'country', 'pop', 'rock', 'disco', 'reggae']\n",
    "classifier= model_11.fit(X_train, y_train)\n",
    "\n",
    "\n",
    "titles_options = [\n",
    "    (\"Confusion matrix, without normalization\", None),\n",
    "    (\"Normalized confusion matrix\", \"true\"),\n",
    "]\n",
    "\n",
    "for title, normalize in titles_options:\n",
    "    disp = ConfusionMatrixDisplay.from_estimator(\n",
    "        classifier,\n",
    "        X_test,\n",
    "        y_test,\n",
    "        display_labels=target_names,\n",
    "        cmap=plt.cm.Blues,\n",
    "        normalize=normalize,\n",
    "    )\n",
    "    disp.ax_.set_title(title)\n",
    "\n",
    "    print(title)\n",
    "    print(disp.confusion_matrix)\n",
    "\n",
    "plt.show()"
   ]
  },
  {
   "cell_type": "code",
   "execution_count": null,
   "id": "66ffff8a",
   "metadata": {},
   "outputs": [],
   "source": [
    "from sklearn.feature_selection import SelectFromModel\n",
    "from sklearn.ensemble import ExtraTreesClassifier\n",
    "clf = ExtraTreesClassifier(n_estimators=500)\n",
    "clf = clf.fit(X_train, y_train)\n",
    "feature_importance =clf.feature_importances_  \n",
    "feature_importance_normalized =np.std([tree.feature_importances_ for tree in \n",
    "                                        clf.estimators_],\n",
    "                                        axis = 0)"
   ]
  },
  {
   "cell_type": "code",
   "execution_count": null,
   "id": "8e011a26",
   "metadata": {},
   "outputs": [],
   "source": [
    "plt.bar(X_train.columns, feature_importance_normalized)\n",
    "plt.rcParams[\"figure.figsize\"] = [10, 10]\n",
    "plt.rcParams[\"figure.autolayout\"] = True\n",
    "fig = plt.figure()\n",
    "spacing = .001\n",
    "plt.xlabel('Feature Labels')\n",
    "plt.ylabel('Feature Importances')\n",
    "plt.title('Comparison of different Feature Importances')\n",
    "plt.show()"
   ]
  },
  {
   "cell_type": "code",
   "execution_count": null,
   "id": "961ee05e",
   "metadata": {},
   "outputs": [],
   "source": [
    "model = SelectFromModel(clf, prefit=True)\n",
    "X_new = model.transform(X_train)\n",
    "X_new.shape   "
   ]
  },
  {
   "cell_type": "code",
   "execution_count": null,
   "id": "67bd921f",
   "metadata": {},
   "outputs": [],
   "source": [
    "X_new"
   ]
  },
  {
   "cell_type": "code",
   "execution_count": null,
   "id": "6a4d0173",
   "metadata": {},
   "outputs": [],
   "source": [
    "X_train, X_test, y_train, y_test = train_test_split(X, y,test_size=0.2, )"
   ]
  },
  {
   "cell_type": "code",
   "execution_count": null,
   "id": "20b2502f",
   "metadata": {},
   "outputs": [],
   "source": [
    "#checking for overfitting\n",
    "model_6 = RandomForestClassifier(n_estimators=945, max_features='log2', max_depth =402, min_samples_leaf=22, min_samples_split=120, bootstrap=True, oob_score=True)  \n",
    "model_6.fit(X_train, y_train)\n",
    "preds_6 = model_6.predict(X_train)\n",
    "y_true = y_train\n",
    "y_pred = preds_6\n",
    "target_names = ['hiphop', 'classical', 'blues', 'metal', 'jazz', 'country', 'pop', 'rock', 'disco', 'reggae']\n",
    "print(classification_report(y_true, y_pred, target_names=target_names))"
   ]
  },
  {
   "cell_type": "code",
   "execution_count": null,
   "id": "2881c76a",
   "metadata": {},
   "outputs": [],
   "source": [
    "#checking for overfitting\n",
    "model_6 = RandomForestClassifier(n_estimators=945, max_features='log2', max_depth =402, min_samples_leaf=22, min_samples_split=120, bootstrap=True, oob_score=True)  \n",
    "model_6.fit(X_train, y_train)\n",
    "preds_6 = model_6.predict(X_test)\n",
    "y_true = y_test\n",
    "y_pred = preds_6\n",
    "target_names = ['hiphop', 'classical', 'blues', 'metal', 'jazz', 'country', 'pop', 'rock', 'disco', 'reggae']\n",
    "print(classification_report(y_true, y_pred, target_names=target_names))"
   ]
  },
  {
   "cell_type": "code",
   "execution_count": null,
   "id": "39acef2b",
   "metadata": {},
   "outputs": [],
   "source": [
    "X_train, X_test, y_train, y_test = train_test_split(X, y,test_size=0.3, ) #Try test size 0.3 or 0.35"
   ]
  },
  {
   "cell_type": "code",
   "execution_count": null,
   "id": "c564df16",
   "metadata": {},
   "outputs": [],
   "source": [
    "\n",
    "model_6 = RandomForestClassifier(n_estimators=945, max_features='log2', max_depth =402, min_samples_leaf=22, min_samples_split=120, bootstrap=True, oob_score=True)  \n",
    "model_6.fit(X_train, y_train)\n",
    "preds_6 = model_6.predict(X_train)\n",
    "y_true = y_train\n",
    "y_pred = preds_6\n",
    "target_names = ['hiphop', 'classical', 'blues', 'metal', 'jazz', 'country', 'pop', 'rock', 'disco', 'reggae']\n",
    "print(classification_report(y_true, y_pred, target_names=target_names))"
   ]
  },
  {
   "cell_type": "code",
   "execution_count": null,
   "id": "5c83fada",
   "metadata": {},
   "outputs": [],
   "source": [
    "#checking for overfitting\n",
    "model_6 = RandomForestClassifier(n_estimators=945, max_features='log2', max_depth =402, min_samples_leaf=22, min_samples_split=120, bootstrap=True, oob_score=True)  \n",
    "model_6.fit(X_train, y_train)\n",
    "preds_6 = model_6.predict(X_test)\n",
    "y_true = y_test\n",
    "y_pred = preds_6\n",
    "target_names = ['hiphop', 'classical', 'blues', 'metal', 'jazz', 'country', 'pop', 'rock', 'disco', 'reggae']\n",
    "print(classification_report(y_true, y_pred, target_names=target_names))"
   ]
  },
  {
   "cell_type": "code",
   "execution_count": null,
   "id": "47b82d61",
   "metadata": {},
   "outputs": [],
   "source": [
    "X_train, X_test, y_train, y_test = train_test_split(X, y,test_size=0.35, ) #Try test size 0.3 or 0.35"
   ]
  },
  {
   "cell_type": "code",
   "execution_count": null,
   "id": "cef54ee3",
   "metadata": {},
   "outputs": [],
   "source": [
    "\n",
    "model_6 = RandomForestClassifier(n_estimators=945, max_features='log2', max_depth =402, min_samples_leaf=22, min_samples_split=120, bootstrap=True, oob_score=True)  \n",
    "model_6.fit(X_train, y_train)\n",
    "preds_6 = model_6.predict(X_train)\n",
    "y_true = y_train\n",
    "y_pred = preds_6\n",
    "target_names = ['hiphop', 'classical', 'blues', 'metal', 'jazz', 'country', 'pop', 'rock', 'disco', 'reggae']\n",
    "print(classification_report(y_true, y_pred, target_names=target_names))"
   ]
  },
  {
   "cell_type": "code",
   "execution_count": null,
   "id": "763a9f11",
   "metadata": {},
   "outputs": [],
   "source": []
  }
 ],
 "metadata": {
  "kernelspec": {
   "display_name": "Python 3 (ipykernel)",
   "language": "python",
   "name": "python3"
  },
  "language_info": {
   "codemirror_mode": {
    "name": "ipython",
    "version": 3
   },
   "file_extension": ".py",
   "mimetype": "text/x-python",
   "name": "python",
   "nbconvert_exporter": "python",
   "pygments_lexer": "ipython3",
   "version": "3.8.12"
  },
  "toc": {
   "base_numbering": 1,
   "nav_menu": {},
   "number_sections": true,
   "sideBar": true,
   "skip_h1_title": false,
   "title_cell": "Table of Contents",
   "title_sidebar": "Contents",
   "toc_cell": false,
   "toc_position": {},
   "toc_section_display": true,
   "toc_window_display": false
  }
 },
 "nbformat": 4,
 "nbformat_minor": 5
}
