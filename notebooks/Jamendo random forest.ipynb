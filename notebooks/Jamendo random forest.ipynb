{
 "cells": [
  {
   "cell_type": "code",
   "execution_count": 1,
   "id": "81d5eaa8",
   "metadata": {},
   "outputs": [],
   "source": [
    "import pandas as pd\n",
    "import numpy as np\n",
    "import matplotlib.pyplot as plt\n",
    "from sklearn.model_selection import train_test_split\n",
    "from sklearn.ensemble import RandomForestClassifier\n",
    "from sklearn.metrics import classification_report\n",
    "from sklearn.model_selection import GridSearchCV\n",
    "from sklearn.model_selection import RandomizedSearchCV\n",
    "from sklearn.ensemble import RandomForestRegressor\n",
    "from scipy.stats import randint\n",
    "from sklearn.metrics import r2_score"
   ]
  },
  {
   "cell_type": "code",
   "execution_count": 2,
   "id": "eeb62b3d",
   "metadata": {},
   "outputs": [],
   "source": [
    "data = pd.read_csv(\"../mcats/data/norm_jamendo_data.csv\")"
   ]
  },
  {
   "cell_type": "code",
   "execution_count": 3,
   "id": "941146eb",
   "metadata": {},
   "outputs": [
    {
     "data": {
      "text/html": [
       "<div>\n",
       "<style scoped>\n",
       "    .dataframe tbody tr th:only-of-type {\n",
       "        vertical-align: middle;\n",
       "    }\n",
       "\n",
       "    .dataframe tbody tr th {\n",
       "        vertical-align: top;\n",
       "    }\n",
       "\n",
       "    .dataframe thead th {\n",
       "        text-align: right;\n",
       "    }\n",
       "</style>\n",
       "<table border=\"1\" class=\"dataframe\">\n",
       "  <thead>\n",
       "    <tr style=\"text-align: right;\">\n",
       "      <th></th>\n",
       "      <th>Unnamed: 0</th>\n",
       "      <th>tempo</th>\n",
       "      <th>beats_mean</th>\n",
       "      <th>beats_var</th>\n",
       "      <th>zero_crossings_mean</th>\n",
       "      <th>zero_crossings_var</th>\n",
       "      <th>spectral_centroids_mean</th>\n",
       "      <th>spectral_centroids_var</th>\n",
       "      <th>spectral_rolloff_mean</th>\n",
       "      <th>spectral_rolloff_var</th>\n",
       "      <th>...</th>\n",
       "      <th>mfcc_36_var</th>\n",
       "      <th>mfcc_37_mean</th>\n",
       "      <th>mfcc_37_var</th>\n",
       "      <th>mfcc_38_mean</th>\n",
       "      <th>mfcc_38_var</th>\n",
       "      <th>mfcc_39_mean</th>\n",
       "      <th>mfcc_39_var</th>\n",
       "      <th>mfcc_40_mean</th>\n",
       "      <th>mfcc_40_var</th>\n",
       "      <th>genre</th>\n",
       "    </tr>\n",
       "  </thead>\n",
       "  <tbody>\n",
       "    <tr>\n",
       "      <th>0</th>\n",
       "      <td>KMR BND - SkeletBeatz - Twenty Eight Days.mp3</td>\n",
       "      <td>1.018113</td>\n",
       "      <td>0.135270</td>\n",
       "      <td>0.180556</td>\n",
       "      <td>-1.282956</td>\n",
       "      <td>-1.412306</td>\n",
       "      <td>-0.676326</td>\n",
       "      <td>2.115854</td>\n",
       "      <td>-0.462081</td>\n",
       "      <td>3.433362</td>\n",
       "      <td>...</td>\n",
       "      <td>-0.827748</td>\n",
       "      <td>0.256880</td>\n",
       "      <td>-0.865114</td>\n",
       "      <td>-1.180249</td>\n",
       "      <td>-0.817053</td>\n",
       "      <td>-0.215914</td>\n",
       "      <td>-0.595622</td>\n",
       "      <td>-0.043381</td>\n",
       "      <td>-0.692133</td>\n",
       "      <td>0</td>\n",
       "    </tr>\n",
       "    <tr>\n",
       "      <th>1</th>\n",
       "      <td>chapardos - vrai.mp3</td>\n",
       "      <td>-1.022612</td>\n",
       "      <td>0.118673</td>\n",
       "      <td>0.096810</td>\n",
       "      <td>0.439562</td>\n",
       "      <td>0.512986</td>\n",
       "      <td>0.163186</td>\n",
       "      <td>4.039769</td>\n",
       "      <td>0.008108</td>\n",
       "      <td>3.698887</td>\n",
       "      <td>...</td>\n",
       "      <td>0.463255</td>\n",
       "      <td>-1.921676</td>\n",
       "      <td>-0.826218</td>\n",
       "      <td>0.442914</td>\n",
       "      <td>-0.273238</td>\n",
       "      <td>0.776645</td>\n",
       "      <td>-0.737289</td>\n",
       "      <td>-0.386016</td>\n",
       "      <td>-0.421638</td>\n",
       "      <td>0</td>\n",
       "    </tr>\n",
       "    <tr>\n",
       "      <th>2</th>\n",
       "      <td>KMR BND - AO - Lamp.mp3</td>\n",
       "      <td>1.018113</td>\n",
       "      <td>-0.452742</td>\n",
       "      <td>-0.189997</td>\n",
       "      <td>0.100949</td>\n",
       "      <td>0.157808</td>\n",
       "      <td>0.562454</td>\n",
       "      <td>0.841790</td>\n",
       "      <td>0.359046</td>\n",
       "      <td>0.968367</td>\n",
       "      <td>...</td>\n",
       "      <td>-0.802828</td>\n",
       "      <td>1.485403</td>\n",
       "      <td>-0.094997</td>\n",
       "      <td>2.529697</td>\n",
       "      <td>-0.053233</td>\n",
       "      <td>1.407770</td>\n",
       "      <td>-0.114887</td>\n",
       "      <td>-1.010934</td>\n",
       "      <td>-0.074881</td>\n",
       "      <td>0</td>\n",
       "    </tr>\n",
       "  </tbody>\n",
       "</table>\n",
       "<p>3 rows × 91 columns</p>\n",
       "</div>"
      ],
      "text/plain": [
       "                                      Unnamed: 0     tempo  beats_mean  \\\n",
       "0  KMR BND - SkeletBeatz - Twenty Eight Days.mp3  1.018113    0.135270   \n",
       "1                           chapardos - vrai.mp3 -1.022612    0.118673   \n",
       "2                        KMR BND - AO - Lamp.mp3  1.018113   -0.452742   \n",
       "\n",
       "   beats_var  zero_crossings_mean  zero_crossings_var  \\\n",
       "0   0.180556            -1.282956           -1.412306   \n",
       "1   0.096810             0.439562            0.512986   \n",
       "2  -0.189997             0.100949            0.157808   \n",
       "\n",
       "   spectral_centroids_mean  spectral_centroids_var  spectral_rolloff_mean  \\\n",
       "0                -0.676326                2.115854              -0.462081   \n",
       "1                 0.163186                4.039769               0.008108   \n",
       "2                 0.562454                0.841790               0.359046   \n",
       "\n",
       "   spectral_rolloff_var  ...  mfcc_36_var  mfcc_37_mean  mfcc_37_var  \\\n",
       "0              3.433362  ...    -0.827748      0.256880    -0.865114   \n",
       "1              3.698887  ...     0.463255     -1.921676    -0.826218   \n",
       "2              0.968367  ...    -0.802828      1.485403    -0.094997   \n",
       "\n",
       "   mfcc_38_mean  mfcc_38_var  mfcc_39_mean  mfcc_39_var  mfcc_40_mean  \\\n",
       "0     -1.180249    -0.817053     -0.215914    -0.595622     -0.043381   \n",
       "1      0.442914    -0.273238      0.776645    -0.737289     -0.386016   \n",
       "2      2.529697    -0.053233      1.407770    -0.114887     -1.010934   \n",
       "\n",
       "   mfcc_40_var  genre  \n",
       "0    -0.692133      0  \n",
       "1    -0.421638      0  \n",
       "2    -0.074881      0  \n",
       "\n",
       "[3 rows x 91 columns]"
      ]
     },
     "execution_count": 3,
     "metadata": {},
     "output_type": "execute_result"
    }
   ],
   "source": [
    "data.head(3)"
   ]
  },
  {
   "cell_type": "code",
   "execution_count": 4,
   "id": "4617fc35",
   "metadata": {},
   "outputs": [],
   "source": [
    "data = data.drop(\"Unnamed: 0\", axis =1)"
   ]
  },
  {
   "cell_type": "code",
   "execution_count": 5,
   "id": "baffd35f",
   "metadata": {},
   "outputs": [],
   "source": [
    "data=data.loc[::1]"
   ]
  },
  {
   "cell_type": "code",
   "execution_count": 6,
   "id": "5105dc7e",
   "metadata": {},
   "outputs": [],
   "source": [
    "X = data.drop(columns = \"genre\")\n",
    "y = data[\"genre\"]"
   ]
  },
  {
   "cell_type": "code",
   "execution_count": 7,
   "id": "19a13d46",
   "metadata": {},
   "outputs": [
    {
     "data": {
      "text/plain": [
       "(995, 89)"
      ]
     },
     "execution_count": 7,
     "metadata": {},
     "output_type": "execute_result"
    }
   ],
   "source": [
    "X.shape\n"
   ]
  },
  {
   "cell_type": "code",
   "execution_count": 8,
   "id": "92c0333b",
   "metadata": {},
   "outputs": [
    {
     "data": {
      "text/plain": [
       "0       0\n",
       "1       0\n",
       "2       0\n",
       "3       0\n",
       "4       0\n",
       "       ..\n",
       "990    10\n",
       "991    10\n",
       "992    10\n",
       "993    10\n",
       "994    10\n",
       "Name: genre, Length: 995, dtype: int64"
      ]
     },
     "execution_count": 8,
     "metadata": {},
     "output_type": "execute_result"
    }
   ],
   "source": [
    "y"
   ]
  },
  {
   "cell_type": "code",
   "execution_count": 72,
   "id": "473e735f",
   "metadata": {},
   "outputs": [],
   "source": [
    "X_train, X_test, y_train, y_test = train_test_split(X, y,test_size=0.35, random_state=42)"
   ]
  },
  {
   "cell_type": "code",
   "execution_count": 76,
   "id": "bb06fa8a",
   "metadata": {},
   "outputs": [
    {
     "name": "stdout",
     "output_type": "stream",
     "text": [
      "              precision    recall  f1-score   support\n",
      "\n",
      "      hiphop       1.00      1.00      1.00        62\n",
      "   classical       1.00      0.97      0.99        74\n",
      "       blues       1.00      1.00      1.00        59\n",
      "  electronic       1.00      1.00      1.00        57\n",
      "       metal       1.00      0.95      0.98        66\n",
      "        jazz       0.98      1.00      0.99        54\n",
      "     country       0.94      1.00      0.97        72\n",
      "         pop       0.96      0.97      0.96        68\n",
      "        rock       1.00      0.99      0.99        69\n",
      "      reggae       1.00      0.98      0.99        65\n",
      "\n",
      "    accuracy                           0.99       646\n",
      "   macro avg       0.99      0.99      0.99       646\n",
      "weighted avg       0.99      0.99      0.99       646\n",
      "\n"
     ]
    }
   ],
   "source": [
    "model_29 = RandomForestClassifier(n_estimators=186, max_features=31, max_depth=8,min_samples_leaf=1)  \n",
    "model_29.fit(X_train, y_train)\n",
    "preds_29 = model_29.predict(X_train)\n",
    "y_true = y_train\n",
    "y_pred = preds_29\n",
    "target_names = ['hiphop', 'classical', 'blues', 'electronic','metal', 'jazz', 'country', 'pop', 'rock', 'reggae']\n",
    "print(classification_report(y_true, y_pred, target_names=target_names))"
   ]
  },
  {
   "cell_type": "code",
   "execution_count": 75,
   "id": "3f2ec228",
   "metadata": {},
   "outputs": [
    {
     "name": "stdout",
     "output_type": "stream",
     "text": [
      "              precision    recall  f1-score   support\n",
      "\n",
      "      hiphop       0.49      0.53      0.51        38\n",
      "   classical       0.71      0.92      0.80        26\n",
      "       blues       0.42      0.13      0.20        38\n",
      "  electronic       0.58      0.44      0.50        43\n",
      "       metal       0.54      0.61      0.57        33\n",
      "        jazz       0.52      0.48      0.50        46\n",
      "     country       0.31      0.50      0.38        28\n",
      "         pop       0.32      0.38      0.35        32\n",
      "        rock       0.38      0.42      0.40        31\n",
      "      reggae       0.62      0.62      0.62        34\n",
      "\n",
      "    accuracy                           0.49       349\n",
      "   macro avg       0.49      0.50      0.48       349\n",
      "weighted avg       0.49      0.49      0.48       349\n",
      "\n"
     ]
    }
   ],
   "source": [
    "model_29 = RandomForestClassifier(n_estimators=186, max_features=31, max_depth=8,min_samples_leaf=1)  \n",
    "model_29.fit(X_train, y_train)\n",
    "preds_29 = model_29.predict(X_test)\n",
    "y_true = y_test\n",
    "y_pred = preds_29\n",
    "target_names = ['hiphop', 'classical', 'blues', 'electronic','metal', 'jazz', 'country', 'pop', 'rock', 'reggae']\n",
    "print(classification_report(y_true, y_pred, target_names=target_names))"
   ]
  },
  {
   "cell_type": "markdown",
   "id": "16742ef2",
   "metadata": {},
   "source": [
    "# Best \n",
    "\n",
    "X_train, X_test, y_train, y_test = train_test_split(X, y,test_size=0.35, random_state=42)\n",
    "model_30 = RandomForestClassifier(n_estimators=710, max_features=30, max_depth=6,min_samples_leaf=2)  "
   ]
  },
  {
   "cell_type": "code",
   "execution_count": 87,
   "id": "2e9be096",
   "metadata": {},
   "outputs": [
    {
     "name": "stdout",
     "output_type": "stream",
     "text": [
      "              precision    recall  f1-score   support\n",
      "\n",
      "      hiphop       0.94      0.97      0.95        62\n",
      "   classical       0.95      0.96      0.95        74\n",
      "       blues       0.95      0.68      0.79        59\n",
      "  electronic       0.96      0.84      0.90        57\n",
      "       metal       0.98      0.92      0.95        66\n",
      "        jazz       0.90      0.87      0.89        54\n",
      "     country       0.70      0.86      0.78        72\n",
      "         pop       0.78      0.85      0.82        68\n",
      "        rock       0.84      0.81      0.82        69\n",
      "      reggae       0.82      0.91      0.86        65\n",
      "\n",
      "    accuracy                           0.87       646\n",
      "   macro avg       0.88      0.87      0.87       646\n",
      "weighted avg       0.88      0.87      0.87       646\n",
      "\n"
     ]
    }
   ],
   "source": [
    "model_30 = RandomForestClassifier(n_estimators=710, max_features=30, max_depth=6,min_samples_leaf=2)  \n",
    "model_30.fit(X_train, y_train)\n",
    "preds_30 = model_30.predict(X_train)\n",
    "y_true = y_train\n",
    "y_pred = preds_30\n",
    "target_names = ['hiphop', 'classical', 'blues', 'electronic','metal', 'jazz', 'country', 'pop', 'rock', 'reggae']\n",
    "print(classification_report(y_true, y_pred, target_names=target_names))"
   ]
  },
  {
   "cell_type": "code",
   "execution_count": 88,
   "id": "ccdb0295",
   "metadata": {},
   "outputs": [
    {
     "name": "stdout",
     "output_type": "stream",
     "text": [
      "              precision    recall  f1-score   support\n",
      "\n",
      "      hiphop       0.53      0.53      0.53        38\n",
      "   classical       0.65      0.92      0.76        26\n",
      "       blues       0.33      0.03      0.05        38\n",
      "  electronic       0.65      0.35      0.45        43\n",
      "       metal       0.53      0.61      0.56        33\n",
      "        jazz       0.49      0.43      0.46        46\n",
      "     country       0.30      0.54      0.38        28\n",
      "         pop       0.26      0.28      0.27        32\n",
      "        rock       0.28      0.35      0.31        31\n",
      "      reggae       0.51      0.68      0.58        34\n",
      "\n",
      "    accuracy                           0.45       349\n",
      "   macro avg       0.45      0.47      0.44       349\n",
      "weighted avg       0.46      0.45      0.43       349\n",
      "\n"
     ]
    }
   ],
   "source": [
    "model_30 = RandomForestClassifier(n_estimators=710, max_features=30, max_depth=6,min_samples_leaf=2)  \n",
    "model_30.fit(X_train, y_train)\n",
    "preds_30 = model_30.predict(X_test)\n",
    "y_true = y_test\n",
    "y_pred = preds_30\n",
    "target_names = ['hiphop', 'classical', 'blues', 'electronic','metal', 'jazz', 'country', 'pop', 'rock', 'reggae']\n",
    "print(classification_report(y_true, y_pred, target_names=target_names))"
   ]
  },
  {
   "cell_type": "code",
   "execution_count": 99,
   "id": "4b1bf61e",
   "metadata": {},
   "outputs": [
    {
     "name": "stdout",
     "output_type": "stream",
     "text": [
      "              precision    recall  f1-score   support\n",
      "\n",
      "      hiphop       0.80      0.90      0.85        62\n",
      "   classical       0.90      0.95      0.92        74\n",
      "       blues       0.94      0.25      0.40        59\n",
      "  electronic       0.91      0.72      0.80        57\n",
      "       metal       0.92      0.85      0.88        66\n",
      "        jazz       0.76      0.72      0.74        54\n",
      "     country       0.49      0.75      0.59        72\n",
      "         pop       0.62      0.57      0.60        68\n",
      "        rock       0.70      0.70      0.70        69\n",
      "      reggae       0.70      0.89      0.78        65\n",
      "\n",
      "    accuracy                           0.74       646\n",
      "   macro avg       0.77      0.73      0.73       646\n",
      "weighted avg       0.77      0.74      0.73       646\n",
      "\n"
     ]
    }
   ],
   "source": [
    "model_31 = RandomForestClassifier(n_estimators=500, max_features=37, max_depth=5,min_samples_leaf=2)  \n",
    "model_31.fit(X_train, y_train)\n",
    "preds_31 = model_31.predict(X_train)\n",
    "y_true = y_train\n",
    "y_pred = preds_31\n",
    "target_names = ['hiphop', 'classical', 'blues', 'electronic','metal', 'jazz', 'country', 'pop', 'rock', 'reggae']\n",
    "print(classification_report(y_true, y_pred, target_names=target_names))"
   ]
  },
  {
   "cell_type": "code",
   "execution_count": 100,
   "id": "06de527c",
   "metadata": {},
   "outputs": [
    {
     "name": "stdout",
     "output_type": "stream",
     "text": [
      "              precision    recall  f1-score   support\n",
      "\n",
      "      hiphop       0.50      0.42      0.46        38\n",
      "   classical       0.60      0.92      0.73        26\n",
      "       blues       1.00      0.03      0.05        38\n",
      "  electronic       0.60      0.42      0.49        43\n",
      "       metal       0.53      0.61      0.56        33\n",
      "        jazz       0.51      0.41      0.46        46\n",
      "     country       0.27      0.54      0.36        28\n",
      "         pop       0.27      0.22      0.24        32\n",
      "        rock       0.32      0.39      0.35        31\n",
      "      reggae       0.44      0.68      0.53        34\n",
      "\n",
      "    accuracy                           0.44       349\n",
      "   macro avg       0.50      0.46      0.42       349\n",
      "weighted avg       0.52      0.44      0.42       349\n",
      "\n"
     ]
    }
   ],
   "source": [
    "model_31 = RandomForestClassifier(n_estimators=500, max_features=37, max_depth=5,min_samples_leaf=2)  \n",
    "model_31.fit(X_train, y_train)\n",
    "preds_31 = model_31.predict(X_test)\n",
    "y_true = y_test\n",
    "y_pred = preds_31\n",
    "target_names = ['hiphop', 'classical', 'blues', 'electronic','metal', 'jazz', 'country', 'pop', 'rock', 'reggae']\n",
    "print(classification_report(y_true, y_pred, target_names=target_names))"
   ]
  },
  {
   "cell_type": "code",
   "execution_count": 95,
   "id": "bdcdfcac",
   "metadata": {},
   "outputs": [
    {
     "name": "stdout",
     "output_type": "stream",
     "text": [
      "              precision    recall  f1-score   support\n",
      "\n",
      "      hiphop       0.77      0.89      0.83        62\n",
      "   classical       0.87      0.92      0.89        74\n",
      "       blues       1.00      0.15      0.26        59\n",
      "  electronic       0.84      0.67      0.75        57\n",
      "       metal       0.91      0.88      0.89        66\n",
      "        jazz       0.70      0.69      0.69        54\n",
      "     country       0.49      0.71      0.58        72\n",
      "         pop       0.59      0.53      0.56        68\n",
      "        rock       0.67      0.72      0.69        69\n",
      "      reggae       0.68      0.89      0.77        65\n",
      "\n",
      "    accuracy                           0.71       646\n",
      "   macro avg       0.75      0.70      0.69       646\n",
      "weighted avg       0.75      0.71      0.70       646\n",
      "\n"
     ]
    }
   ],
   "source": [
    "model_32 = RandomForestClassifier(n_estimators=300, max_features=50, max_depth=5,min_samples_leaf=4)  \n",
    "model_32.fit(X_train, y_train)\n",
    "preds_32 = model_32.predict(X_train)\n",
    "y_true = y_train\n",
    "y_pred = preds_32\n",
    "target_names = ['hiphop', 'classical', 'blues', 'electronic','metal', 'jazz', 'country', 'pop', 'rock', 'reggae']\n",
    "print(classification_report(y_true, y_pred, target_names=target_names))"
   ]
  },
  {
   "cell_type": "code",
   "execution_count": 96,
   "id": "1b238761",
   "metadata": {},
   "outputs": [
    {
     "name": "stdout",
     "output_type": "stream",
     "text": [
      "              precision    recall  f1-score   support\n",
      "\n",
      "      hiphop       0.53      0.50      0.51        38\n",
      "   classical       0.56      0.88      0.69        26\n",
      "       blues       1.00      0.03      0.05        38\n",
      "  electronic       0.58      0.35      0.43        43\n",
      "       metal       0.51      0.61      0.56        33\n",
      "        jazz       0.51      0.41      0.46        46\n",
      "     country       0.25      0.54      0.34        28\n",
      "         pop       0.21      0.22      0.22        32\n",
      "        rock       0.34      0.32      0.33        31\n",
      "      reggae       0.46      0.62      0.52        34\n",
      "\n",
      "    accuracy                           0.43       349\n",
      "   macro avg       0.50      0.45      0.41       349\n",
      "weighted avg       0.51      0.43      0.41       349\n",
      "\n"
     ]
    }
   ],
   "source": [
    "model_32 = RandomForestClassifier(n_estimators=300, max_features=50, max_depth=5,min_samples_leaf=4)  \n",
    "model_32.fit(X_train, y_train)\n",
    "preds_32 = model_32.predict(X_test)\n",
    "y_true = y_test\n",
    "y_pred = preds_32\n",
    "target_names = ['hiphop', 'classical', 'blues', 'electronic','metal', 'jazz', 'country', 'pop', 'rock', 'reggae']\n",
    "print(classification_report(y_true, y_pred, target_names=target_names))"
   ]
  },
  {
   "cell_type": "code",
   "execution_count": 13,
   "id": "573abd4b",
   "metadata": {},
   "outputs": [],
   "source": [
    "X_train, X_test, y_train, y_test = train_test_split(X, y,test_size=0.3, random_state=42)"
   ]
  },
  {
   "cell_type": "code",
   "execution_count": 14,
   "id": "ee4421cd",
   "metadata": {},
   "outputs": [
    {
     "name": "stdout",
     "output_type": "stream",
     "text": [
      "              precision    recall  f1-score   support\n",
      "\n",
      "      hiphop       1.00      1.00      1.00        66\n",
      "   classical       0.97      0.97      0.97        80\n",
      "       blues       1.00      0.98      0.99        63\n",
      "  electronic       0.98      1.00      0.99        65\n",
      "       metal       0.99      0.97      0.98        71\n",
      "        jazz       0.98      0.97      0.98        62\n",
      "     country       0.96      1.00      0.98        74\n",
      "         pop       0.99      1.00      0.99        73\n",
      "        rock       1.00      0.99      0.99        72\n",
      "      reggae       1.00      0.99      0.99        70\n",
      "\n",
      "    accuracy                           0.99       696\n",
      "   macro avg       0.99      0.99      0.99       696\n",
      "weighted avg       0.99      0.99      0.99       696\n",
      "\n"
     ]
    }
   ],
   "source": [
    "#post on stackoverflow recommened max features at 30-50% of total features, n_estimators more trees might stop overfitting, \n",
    "#max_depth 5-10, min_samples_leaf more than 1\n",
    "model_13 = RandomForestClassifier(n_estimators=500, max_features=54, max_depth=10,min_samples_leaf=3)  \n",
    "model_13.fit(X_train, y_train)\n",
    "preds_13 = model_13.predict(X_train)\n",
    "y_true = y_train\n",
    "y_pred = preds_13\n",
    "target_names = ['hiphop', 'classical', 'blues', 'electronic','metal', 'jazz', 'country', 'pop', 'rock', 'reggae']\n",
    "print(classification_report(y_true, y_pred, target_names=target_names))"
   ]
  },
  {
   "cell_type": "markdown",
   "id": "830a695a",
   "metadata": {},
   "source": [
    "Changing the test size seems to have no effect on overfitting. "
   ]
  },
  {
   "cell_type": "code",
   "execution_count": 15,
   "id": "911018b5",
   "metadata": {},
   "outputs": [],
   "source": [
    "X_train, X_test, y_train, y_test = train_test_split(X, y,test_size=0.2, random_state=42)"
   ]
  },
  {
   "cell_type": "code",
   "execution_count": 16,
   "id": "b8dab942",
   "metadata": {},
   "outputs": [
    {
     "name": "stdout",
     "output_type": "stream",
     "text": [
      "              precision    recall  f1-score   support\n",
      "\n",
      "      hiphop       1.00      1.00      1.00        79\n",
      "   classical       0.98      0.98      0.98        86\n",
      "       blues       0.99      0.97      0.98        74\n",
      "  electronic       1.00      1.00      1.00        76\n",
      "       metal       0.99      1.00      0.99        82\n",
      "        jazz       0.99      0.99      0.99        76\n",
      "     country       1.00      1.00      1.00        79\n",
      "         pop       0.98      1.00      0.99        84\n",
      "        rock       1.00      0.99      0.99        80\n",
      "      reggae       0.99      0.97      0.98        80\n",
      "\n",
      "    accuracy                           0.99       796\n",
      "   macro avg       0.99      0.99      0.99       796\n",
      "weighted avg       0.99      0.99      0.99       796\n",
      "\n"
     ]
    }
   ],
   "source": [
    "#post on stackoverflow recommened max features at 30-50% of total features, n_estimators more trees might stop overfitting, \n",
    "#max_depth 5-10, min_samples_leaf more than 1\n",
    "model_13 = RandomForestClassifier(n_estimators=500, max_features=54, max_depth=10,min_samples_leaf=3)  \n",
    "model_13.fit(X_train, y_train)\n",
    "preds_13 = model_13.predict(X_train)\n",
    "y_true = y_train\n",
    "y_pred = preds_13\n",
    "target_names = ['hiphop', 'classical', 'blues', 'electronic','metal', 'jazz', 'country', 'pop', 'rock', 'reggae']\n",
    "print(classification_report(y_true, y_pred, target_names=target_names))"
   ]
  },
  {
   "cell_type": "code",
   "execution_count": 17,
   "id": "3d8f47a1",
   "metadata": {},
   "outputs": [
    {
     "name": "stdout",
     "output_type": "stream",
     "text": [
      "              precision    recall  f1-score   support\n",
      "\n",
      "      hiphop       0.77      0.78      0.77        79\n",
      "   classical       0.89      0.93      0.91        86\n",
      "       blues       0.76      0.42      0.54        74\n",
      "  electronic       0.82      0.72      0.77        76\n",
      "       metal       0.88      0.84      0.86        82\n",
      "        jazz       0.57      0.76      0.65        76\n",
      "     country       0.74      0.62      0.68        79\n",
      "         pop       0.62      0.57      0.60        84\n",
      "        rock       0.73      0.76      0.75        80\n",
      "      reggae       0.62      0.86      0.72        80\n",
      "\n",
      "    accuracy                           0.73       796\n",
      "   macro avg       0.74      0.73      0.72       796\n",
      "weighted avg       0.74      0.73      0.73       796\n",
      "\n"
     ]
    }
   ],
   "source": [
    "model_14 = RandomForestClassifier(n_estimators=300, max_features=30, max_depth=5,min_samples_leaf=2)  \n",
    "model_14.fit(X_train, y_train)\n",
    "preds_14 = model_14.predict(X_train)\n",
    "y_true = y_train\n",
    "y_pred = preds_14\n",
    "target_names = ['hiphop', 'classical', 'blues', 'electronic','metal', 'jazz', 'country', 'pop', 'rock', 'reggae']\n",
    "print(classification_report(y_true, y_pred, target_names=target_names))"
   ]
  },
  {
   "cell_type": "markdown",
   "id": "af02e9a9",
   "metadata": {},
   "source": [
    "Testing for overfit"
   ]
  },
  {
   "cell_type": "code",
   "execution_count": 18,
   "id": "55b163cc",
   "metadata": {},
   "outputs": [
    {
     "name": "stdout",
     "output_type": "stream",
     "text": [
      "              precision    recall  f1-score   support\n",
      "\n",
      "      hiphop       0.48      0.48      0.48        21\n",
      "   classical       0.52      0.93      0.67        14\n",
      "       blues       0.50      0.04      0.08        23\n",
      "  electronic       0.61      0.46      0.52        24\n",
      "       metal       0.48      0.71      0.57        17\n",
      "        jazz       0.39      0.46      0.42        24\n",
      "     country       0.28      0.24      0.26        21\n",
      "         pop       0.12      0.12      0.12        16\n",
      "        rock       0.35      0.30      0.32        20\n",
      "      reggae       0.41      0.63      0.50        19\n",
      "\n",
      "    accuracy                           0.42       199\n",
      "   macro avg       0.41      0.44      0.39       199\n",
      "weighted avg       0.42      0.42      0.39       199\n",
      "\n"
     ]
    }
   ],
   "source": [
    "model_14 = RandomForestClassifier(n_estimators=300, max_features=30, max_depth=5,min_samples_leaf=2)  \n",
    "model_14.fit(X_train, y_train)\n",
    "preds_14 = model_14.predict(X_test)\n",
    "y_true = y_test\n",
    "y_pred = preds_14\n",
    "target_names = ['hiphop', 'classical', 'blues', 'electronic','metal', 'jazz', 'country', 'pop', 'rock', 'reggae']\n",
    "print(classification_report(y_true, y_pred, target_names=target_names))"
   ]
  },
  {
   "cell_type": "code",
   "execution_count": 20,
   "id": "528c9552",
   "metadata": {},
   "outputs": [
    {
     "name": "stdout",
     "output_type": "stream",
     "text": [
      "              precision    recall  f1-score   support\n",
      "\n",
      "      hiphop       1.00      1.00      1.00        79\n",
      "   classical       0.99      0.98      0.98        86\n",
      "       blues       0.99      0.99      0.99        74\n",
      "  electronic       0.99      1.00      0.99        76\n",
      "       metal       0.99      0.99      0.99        82\n",
      "        jazz       0.99      1.00      0.99        76\n",
      "     country       0.98      1.00      0.99        79\n",
      "         pop       0.98      1.00      0.99        84\n",
      "        rock       1.00      0.97      0.99        80\n",
      "      reggae       1.00      0.96      0.98        80\n",
      "\n",
      "    accuracy                           0.99       796\n",
      "   macro avg       0.99      0.99      0.99       796\n",
      "weighted avg       0.99      0.99      0.99       796\n",
      "\n"
     ]
    }
   ],
   "source": [
    "model_16 = RandomForestClassifier(n_estimators=397, max_depth=10, max_features=31, min_samples_split=9)  \n",
    "model_16.fit(X_train, y_train)\n",
    "preds_16 = model_16.predict(X_train)\n",
    "y_true = y_train\n",
    "y_pred = preds_16\n",
    "target_names = ['hiphop', 'classical', 'blues', 'electronic','metal', 'jazz', 'country', 'pop', 'rock', 'reggae']\n",
    "print(classification_report(y_true, y_pred, target_names=target_names))"
   ]
  },
  {
   "cell_type": "markdown",
   "id": "c3d78b6d",
   "metadata": {},
   "source": [
    "Model 17 is the best model so far. On training data accuracy is .75 on the testing data accuracy is .43"
   ]
  },
  {
   "cell_type": "code",
   "execution_count": 21,
   "id": "1a62e08f",
   "metadata": {},
   "outputs": [
    {
     "name": "stdout",
     "output_type": "stream",
     "text": [
      "              precision    recall  f1-score   support\n",
      "\n",
      "      hiphop       0.77      0.84      0.80        79\n",
      "   classical       0.89      0.94      0.92        86\n",
      "       blues       0.82      0.50      0.62        74\n",
      "  electronic       0.82      0.76      0.79        76\n",
      "       metal       0.93      0.84      0.88        82\n",
      "        jazz       0.59      0.79      0.68        76\n",
      "     country       0.70      0.61      0.65        79\n",
      "         pop       0.62      0.57      0.60        84\n",
      "        rock       0.75      0.72      0.74        80\n",
      "      reggae       0.66      0.86      0.75        80\n",
      "\n",
      "    accuracy                           0.75       796\n",
      "   macro avg       0.76      0.74      0.74       796\n",
      "weighted avg       0.76      0.75      0.74       796\n",
      "\n"
     ]
    }
   ],
   "source": [
    "model_17 = RandomForestClassifier(n_estimators=400, max_features=30, max_depth=5,min_samples_leaf=2)  \n",
    "model_17.fit(X_train, y_train)\n",
    "preds_17 = model_17.predict(X_train)\n",
    "y_true = y_train\n",
    "y_pred = preds_17\n",
    "target_names = ['hiphop', 'classical', 'blues', 'electronic','metal', 'jazz', 'country', 'pop', 'rock', 'reggae']\n",
    "print(classification_report(y_true, y_pred, target_names=target_names))"
   ]
  },
  {
   "cell_type": "markdown",
   "id": "adfc1905",
   "metadata": {},
   "source": [
    "CHeck for overfit "
   ]
  },
  {
   "cell_type": "code",
   "execution_count": 22,
   "id": "8c2c5963",
   "metadata": {},
   "outputs": [
    {
     "name": "stdout",
     "output_type": "stream",
     "text": [
      "              precision    recall  f1-score   support\n",
      "\n",
      "      hiphop       0.44      0.38      0.41        21\n",
      "   classical       0.57      0.93      0.70        14\n",
      "       blues       0.25      0.04      0.07        23\n",
      "  electronic       0.52      0.46      0.49        24\n",
      "       metal       0.52      0.71      0.60        17\n",
      "        jazz       0.41      0.46      0.43        24\n",
      "     country       0.40      0.38      0.39        21\n",
      "         pop       0.15      0.12      0.14        16\n",
      "        rock       0.44      0.40      0.42        20\n",
      "      reggae       0.38      0.63      0.47        19\n",
      "\n",
      "    accuracy                           0.43       199\n",
      "   macro avg       0.41      0.45      0.41       199\n",
      "weighted avg       0.41      0.43      0.40       199\n",
      "\n"
     ]
    }
   ],
   "source": [
    "model_17 = RandomForestClassifier(n_estimators=400, max_features=30, max_depth=5,min_samples_leaf=2)  \n",
    "model_17.fit(X_train, y_train)\n",
    "preds_17 = model_17.predict(X_test)\n",
    "y_true = y_test\n",
    "y_pred = preds_17\n",
    "target_names = ['hiphop', 'classical', 'blues', 'electronic','metal', 'jazz', 'country', 'pop', 'rock', 'reggae']\n",
    "print(classification_report(y_true, y_pred, target_names=target_names))"
   ]
  },
  {
   "cell_type": "code",
   "execution_count": 28,
   "id": "524b3054",
   "metadata": {},
   "outputs": [
    {
     "name": "stdout",
     "output_type": "stream",
     "text": [
      "              precision    recall  f1-score   support\n",
      "\n",
      "      hiphop       0.77      0.84      0.80        79\n",
      "   classical       0.88      0.94      0.91        86\n",
      "       blues       0.76      0.53      0.62        74\n",
      "  electronic       0.81      0.72      0.76        76\n",
      "       metal       0.93      0.84      0.88        82\n",
      "        jazz       0.62      0.80      0.70        76\n",
      "     country       0.76      0.61      0.68        79\n",
      "         pop       0.65      0.60      0.62        84\n",
      "        rock       0.75      0.76      0.76        80\n",
      "      reggae       0.66      0.86      0.75        80\n",
      "\n",
      "    accuracy                           0.75       796\n",
      "   macro avg       0.76      0.75      0.75       796\n",
      "weighted avg       0.76      0.75      0.75       796\n",
      "\n"
     ]
    }
   ],
   "source": [
    "model_18 = RandomForestClassifier(n_estimators=600, max_features=30, max_depth=5,min_samples_leaf=2)  \n",
    "model_18.fit(X_train, y_train)\n",
    "preds_18 = model_18.predict(X_train)\n",
    "y_true = y_train\n",
    "y_pred = preds_18\n",
    "target_names = ['hiphop', 'classical', 'blues', 'electronic','metal', 'jazz', 'country', 'pop', 'rock', 'reggae']\n",
    "print(classification_report(y_true, y_pred, target_names=target_names))"
   ]
  },
  {
   "cell_type": "code",
   "execution_count": 29,
   "id": "e7f20fa9",
   "metadata": {},
   "outputs": [
    {
     "name": "stdout",
     "output_type": "stream",
     "text": [
      "              precision    recall  f1-score   support\n",
      "\n",
      "      hiphop       0.41      0.43      0.42        21\n",
      "   classical       0.57      0.93      0.70        14\n",
      "       blues       0.50      0.09      0.15        23\n",
      "  electronic       0.61      0.46      0.52        24\n",
      "       metal       0.50      0.71      0.59        17\n",
      "        jazz       0.41      0.46      0.43        24\n",
      "     country       0.37      0.33      0.35        21\n",
      "         pop       0.24      0.25      0.24        16\n",
      "        rock       0.50      0.40      0.44        20\n",
      "      reggae       0.41      0.63      0.50        19\n",
      "\n",
      "    accuracy                           0.45       199\n",
      "   macro avg       0.45      0.47      0.43       199\n",
      "weighted avg       0.45      0.45      0.42       199\n",
      "\n"
     ]
    }
   ],
   "source": [
    "model_18 = RandomForestClassifier(n_estimators=600, max_features=30, max_depth=5,min_samples_leaf=2)  \n",
    "model_18.fit(X_train, y_train)\n",
    "preds_18 = model_18.predict(X_test)\n",
    "y_true = y_test\n",
    "y_pred = preds_18\n",
    "target_names = ['hiphop', 'classical', 'blues', 'electronic','metal', 'jazz', 'country', 'pop', 'rock', 'reggae']\n",
    "print(classification_report(y_true, y_pred, target_names=target_names))"
   ]
  },
  {
   "cell_type": "code",
   "execution_count": 24,
   "id": "2e09fd6a",
   "metadata": {},
   "outputs": [
    {
     "name": "stdout",
     "output_type": "stream",
     "text": [
      "              precision    recall  f1-score   support\n",
      "\n",
      "      hiphop       0.76      0.80      0.78        79\n",
      "   classical       0.87      0.93      0.90        86\n",
      "       blues       0.74      0.46      0.57        74\n",
      "  electronic       0.80      0.75      0.78        76\n",
      "       metal       0.92      0.84      0.88        82\n",
      "        jazz       0.58      0.79      0.67        76\n",
      "     country       0.73      0.58      0.65        79\n",
      "         pop       0.59      0.55      0.57        84\n",
      "        rock       0.77      0.75      0.76        80\n",
      "      reggae       0.64      0.85      0.73        80\n",
      "\n",
      "    accuracy                           0.73       796\n",
      "   macro avg       0.74      0.73      0.73       796\n",
      "weighted avg       0.74      0.73      0.73       796\n",
      "\n"
     ]
    }
   ],
   "source": [
    "model_19 = RandomForestClassifier(n_estimators=500, max_features=30, max_depth=5,min_samples_leaf=2)  \n",
    "model_19.fit(X_train, y_train)\n",
    "preds_19 = model_19.predict(X_train)\n",
    "y_true = y_train\n",
    "y_pred = preds_19\n",
    "target_names = ['hiphop', 'classical', 'blues', 'electronic','metal', 'jazz', 'country', 'pop', 'rock', 'reggae']\n",
    "print(classification_report(y_true, y_pred, target_names=target_names))"
   ]
  },
  {
   "cell_type": "code",
   "execution_count": 25,
   "id": "2423b365",
   "metadata": {},
   "outputs": [
    {
     "name": "stdout",
     "output_type": "stream",
     "text": [
      "              precision    recall  f1-score   support\n",
      "\n",
      "      hiphop       0.75      0.82      0.78        79\n",
      "   classical       0.87      0.95      0.91        86\n",
      "       blues       0.80      0.43      0.56        74\n",
      "  electronic       0.81      0.72      0.76        76\n",
      "       metal       0.92      0.83      0.87        82\n",
      "        jazz       0.60      0.79      0.68        76\n",
      "     country       0.70      0.61      0.65        79\n",
      "         pop       0.63      0.60      0.61        84\n",
      "        rock       0.74      0.72      0.73        80\n",
      "      reggae       0.64      0.85      0.73        80\n",
      "\n",
      "    accuracy                           0.74       796\n",
      "   macro avg       0.75      0.73      0.73       796\n",
      "weighted avg       0.75      0.74      0.73       796\n",
      "\n"
     ]
    }
   ],
   "source": [
    "model_20 = RandomForestClassifier(n_estimators=500, max_features=20, max_depth=5,min_samples_leaf=2)  \n",
    "model_20.fit(X_train, y_train)\n",
    "preds_20 = model_20.predict(X_train)\n",
    "y_true = y_train\n",
    "y_pred = preds_20\n",
    "target_names = ['hiphop', 'classical', 'blues', 'electronic','metal', 'jazz', 'country', 'pop', 'rock', 'reggae']\n",
    "print(classification_report(y_true, y_pred, target_names=target_names))"
   ]
  },
  {
   "cell_type": "code",
   "execution_count": 26,
   "id": "27cddeeb",
   "metadata": {},
   "outputs": [
    {
     "name": "stdout",
     "output_type": "stream",
     "text": [
      "              precision    recall  f1-score   support\n",
      "\n",
      "      hiphop       0.43      0.43      0.43        21\n",
      "   classical       0.57      0.93      0.70        14\n",
      "       blues       0.50      0.04      0.08        23\n",
      "  electronic       0.52      0.50      0.51        24\n",
      "       metal       0.50      0.71      0.59        17\n",
      "        jazz       0.39      0.46      0.42        24\n",
      "     country       0.33      0.24      0.28        21\n",
      "         pop       0.07      0.06      0.06        16\n",
      "        rock       0.44      0.40      0.42        20\n",
      "      reggae       0.40      0.63      0.49        19\n",
      "\n",
      "    accuracy                           0.42       199\n",
      "   macro avg       0.42      0.44      0.40       199\n",
      "weighted avg       0.42      0.42      0.39       199\n",
      "\n"
     ]
    }
   ],
   "source": [
    "model_20 = RandomForestClassifier(n_estimators=500, max_features=20, max_depth=5,min_samples_leaf=2)  \n",
    "model_20.fit(X_train, y_train)\n",
    "preds_20 = model_20.predict(X_test)\n",
    "y_true = y_test\n",
    "y_pred = preds_20\n",
    "target_names = ['hiphop', 'classical', 'blues', 'electronic','metal', 'jazz', 'country', 'pop', 'rock', 'reggae']\n",
    "print(classification_report(y_true, y_pred, target_names=target_names))"
   ]
  },
  {
   "cell_type": "code",
   "execution_count": 30,
   "id": "29063e77",
   "metadata": {},
   "outputs": [
    {
     "name": "stdout",
     "output_type": "stream",
     "text": [
      "              precision    recall  f1-score   support\n",
      "\n",
      "      hiphop       0.83      0.92      0.87        79\n",
      "   classical       0.92      0.92      0.92        86\n",
      "       blues       0.78      0.70      0.74        74\n",
      "  electronic       0.82      0.84      0.83        76\n",
      "       metal       0.95      0.85      0.90        82\n",
      "        jazz       0.74      0.86      0.79        76\n",
      "     country       0.75      0.73      0.74        79\n",
      "         pop       0.82      0.74      0.78        84\n",
      "        rock       0.88      0.79      0.83        80\n",
      "      reggae       0.79      0.89      0.84        80\n",
      "\n",
      "    accuracy                           0.83       796\n",
      "   macro avg       0.83      0.82      0.82       796\n",
      "weighted avg       0.83      0.83      0.82       796\n",
      "\n"
     ]
    }
   ],
   "source": [
    "model_21 = RandomForestClassifier(n_estimators=700, max_features=398, max_depth=6,min_samples_leaf=4)  \n",
    "model_21.fit(X_train, y_train)\n",
    "preds_21 = model_21.predict(X_train)\n",
    "y_true = y_train\n",
    "y_pred = preds_21\n",
    "target_names = ['hiphop', 'classical', 'blues', 'electronic','metal', 'jazz', 'country', 'pop', 'rock', 'reggae']\n",
    "print(classification_report(y_true, y_pred, target_names=target_names))"
   ]
  },
  {
   "cell_type": "code",
   "execution_count": 31,
   "id": "c47735aa",
   "metadata": {},
   "outputs": [
    {
     "name": "stdout",
     "output_type": "stream",
     "text": [
      "              precision    recall  f1-score   support\n",
      "\n",
      "      hiphop       0.40      0.38      0.39        21\n",
      "   classical       0.57      0.86      0.69        14\n",
      "       blues       0.20      0.09      0.12        23\n",
      "  electronic       0.59      0.54      0.57        24\n",
      "       metal       0.55      0.65      0.59        17\n",
      "        jazz       0.48      0.54      0.51        24\n",
      "     country       0.37      0.33      0.35        21\n",
      "         pop       0.18      0.19      0.18        16\n",
      "        rock       0.44      0.40      0.42        20\n",
      "      reggae       0.40      0.53      0.45        19\n",
      "\n",
      "    accuracy                           0.44       199\n",
      "   macro avg       0.42      0.45      0.43       199\n",
      "weighted avg       0.42      0.44      0.42       199\n",
      "\n"
     ]
    }
   ],
   "source": [
    "#Checking for overfit\n",
    "\n",
    "model_21 = RandomForestClassifier(n_estimators=700, max_features=398, max_depth=6,min_samples_leaf=4)  \n",
    "model_21.fit(X_train, y_train)\n",
    "preds_21 = model_21.predict(X_test)\n",
    "y_true = y_test\n",
    "y_pred = preds_21\n",
    "target_names = ['hiphop', 'classical', 'blues', 'electronic','metal', 'jazz', 'country', 'pop', 'rock', 'reggae']\n",
    "print(classification_report(y_true, y_pred, target_names=target_names))"
   ]
  },
  {
   "cell_type": "code",
   "execution_count": 32,
   "id": "cb5cd5fe",
   "metadata": {},
   "outputs": [
    {
     "name": "stdout",
     "output_type": "stream",
     "text": [
      "              precision    recall  f1-score   support\n",
      "\n",
      "      hiphop       0.86      0.94      0.90        79\n",
      "   classical       0.90      0.94      0.92        86\n",
      "       blues       0.82      0.64      0.72        74\n",
      "  electronic       0.86      0.83      0.85        76\n",
      "       metal       0.95      0.84      0.89        82\n",
      "        jazz       0.70      0.87      0.78        76\n",
      "     country       0.73      0.73      0.73        79\n",
      "         pop       0.76      0.76      0.76        84\n",
      "        rock       0.86      0.78      0.82        80\n",
      "      reggae       0.82      0.90      0.86        80\n",
      "\n",
      "    accuracy                           0.82       796\n",
      "   macro avg       0.83      0.82      0.82       796\n",
      "weighted avg       0.83      0.82      0.82       796\n",
      "\n"
     ]
    }
   ],
   "source": [
    "model_21 = RandomForestClassifier(n_estimators=650, max_features=55, max_depth=6,min_samples_leaf=4)  \n",
    "model_21.fit(X_train, y_train)\n",
    "preds_21 = model_21.predict(X_train)\n",
    "y_true = y_train\n",
    "y_pred = preds_21\n",
    "target_names = ['hiphop', 'classical', 'blues', 'electronic','metal', 'jazz', 'country', 'pop', 'rock', 'reggae']\n",
    "print(classification_report(y_true, y_pred, target_names=target_names))"
   ]
  },
  {
   "cell_type": "code",
   "execution_count": 33,
   "id": "8915d9d5",
   "metadata": {},
   "outputs": [
    {
     "name": "stdout",
     "output_type": "stream",
     "text": [
      "              precision    recall  f1-score   support\n",
      "\n",
      "      hiphop       0.47      0.43      0.45        21\n",
      "   classical       0.54      0.93      0.68        14\n",
      "       blues       0.22      0.09      0.12        23\n",
      "  electronic       0.62      0.54      0.58        24\n",
      "       metal       0.52      0.65      0.58        17\n",
      "        jazz       0.44      0.46      0.45        24\n",
      "     country       0.32      0.29      0.30        21\n",
      "         pop       0.18      0.19      0.18        16\n",
      "        rock       0.42      0.40      0.41        20\n",
      "      reggae       0.40      0.53      0.45        19\n",
      "\n",
      "    accuracy                           0.43       199\n",
      "   macro avg       0.41      0.45      0.42       199\n",
      "weighted avg       0.41      0.43      0.41       199\n",
      "\n"
     ]
    }
   ],
   "source": [
    "model_21 = RandomForestClassifier(n_estimators=650, max_features=55, max_depth=6,min_samples_leaf=4)  \n",
    "model_21.fit(X_train, y_train)\n",
    "preds_21 = model_21.predict(X_test)\n",
    "y_true = y_test\n",
    "y_pred = preds_21\n",
    "target_names = ['hiphop', 'classical', 'blues', 'electronic','metal', 'jazz', 'country', 'pop', 'rock', 'reggae']\n",
    "print(classification_report(y_true, y_pred, target_names=target_names))"
   ]
  },
  {
   "cell_type": "markdown",
   "id": "8649e1c5",
   "metadata": {},
   "source": [
    "second best\n",
    "X_train, X_test, y_train, y_test = train_test_split(X, y,test_size=0.2, random_state=42)\n",
    "model_22 = RandomForestClassifier(n_estimators=550, max_features=35, max_depth=6,min_samples_leaf=2)  \n"
   ]
  },
  {
   "cell_type": "code",
   "execution_count": 102,
   "id": "b9a2b3df",
   "metadata": {},
   "outputs": [
    {
     "name": "stdout",
     "output_type": "stream",
     "text": [
      "              precision    recall  f1-score   support\n",
      "\n",
      "      hiphop       0.94      0.97      0.95        62\n",
      "   classical       0.96      0.96      0.96        74\n",
      "       blues       0.97      0.61      0.75        59\n",
      "  electronic       0.96      0.84      0.90        57\n",
      "       metal       0.97      0.94      0.95        66\n",
      "        jazz       0.87      0.85      0.86        54\n",
      "     country       0.71      0.89      0.79        72\n",
      "         pop       0.78      0.87      0.82        68\n",
      "        rock       0.88      0.86      0.87        69\n",
      "      reggae       0.83      0.91      0.87        65\n",
      "\n",
      "    accuracy                           0.87       646\n",
      "   macro avg       0.89      0.87      0.87       646\n",
      "weighted avg       0.88      0.87      0.87       646\n",
      "\n"
     ]
    }
   ],
   "source": [
    "model_22 = RandomForestClassifier(n_estimators=550, max_features=35, max_depth=6,min_samples_leaf=2)  \n",
    "model_22.fit(X_train, y_train)\n",
    "preds_22 = model_22.predict(X_train)\n",
    "y_true = y_train\n",
    "y_pred = preds_22\n",
    "target_names = ['hiphop', 'classical', 'blues', 'electronic','metal', 'jazz', 'country', 'pop', 'rock', 'reggae']\n",
    "print(classification_report(y_true, y_pred, target_names=target_names))"
   ]
  },
  {
   "cell_type": "code",
   "execution_count": 103,
   "id": "257a88a1",
   "metadata": {},
   "outputs": [
    {
     "name": "stdout",
     "output_type": "stream",
     "text": [
      "              precision    recall  f1-score   support\n",
      "\n",
      "      hiphop       0.53      0.50      0.51        38\n",
      "   classical       0.62      0.92      0.74        26\n",
      "       blues       0.33      0.03      0.05        38\n",
      "  electronic       0.65      0.47      0.54        43\n",
      "       metal       0.56      0.61      0.58        33\n",
      "        jazz       0.51      0.41      0.46        46\n",
      "     country       0.26      0.50      0.34        28\n",
      "         pop       0.30      0.28      0.29        32\n",
      "        rock       0.34      0.42      0.38        31\n",
      "      reggae       0.51      0.68      0.58        34\n",
      "\n",
      "    accuracy                           0.46       349\n",
      "   macro avg       0.46      0.48      0.45       349\n",
      "weighted avg       0.47      0.46      0.44       349\n",
      "\n"
     ]
    }
   ],
   "source": [
    "model_22 = RandomForestClassifier(n_estimators=550, max_features=35, max_depth=6,min_samples_leaf=2)  \n",
    "model_22.fit(X_train, y_train)\n",
    "preds_22 = model_22.predict(X_test)\n",
    "y_true = y_test\n",
    "y_pred = preds_22\n",
    "target_names = ['hiphop', 'classical', 'blues', 'electronic','metal', 'jazz', 'country', 'pop', 'rock', 'reggae']\n",
    "print(classification_report(y_true, y_pred, target_names=target_names))"
   ]
  },
  {
   "cell_type": "markdown",
   "id": "2083a5ba",
   "metadata": {},
   "source": [
    "Trying different train test split to improve accuracy"
   ]
  },
  {
   "cell_type": "code",
   "execution_count": 106,
   "id": "c7a4be0a",
   "metadata": {},
   "outputs": [],
   "source": [
    "X_train, X_test, y_train, y_test = train_test_split(X, y,test_size=0.3, random_state=42)"
   ]
  },
  {
   "cell_type": "markdown",
   "id": "3be37e06",
   "metadata": {},
   "source": [
    "# 3rd best \n",
    "X_train, X_test, y_train, y_test = train_test_split(X, y,test_size=0.3, random_state=42)\n",
    "model_22 = RandomForestClassifier(n_estimators=550, max_features=30, max_depth=6,min_samples_leaf=3)  "
   ]
  },
  {
   "cell_type": "code",
   "execution_count": 107,
   "id": "ec721dca",
   "metadata": {},
   "outputs": [
    {
     "name": "stdout",
     "output_type": "stream",
     "text": [
      "              precision    recall  f1-score   support\n",
      "\n",
      "      hiphop       0.91      0.97      0.94        66\n",
      "   classical       0.93      0.95      0.94        80\n",
      "       blues       0.90      0.68      0.77        63\n",
      "  electronic       0.89      0.83      0.86        65\n",
      "       metal       0.94      0.89      0.91        71\n",
      "        jazz       0.85      0.82      0.84        62\n",
      "     country       0.69      0.82      0.75        74\n",
      "         pop       0.78      0.77      0.77        73\n",
      "        rock       0.85      0.81      0.83        72\n",
      "      reggae       0.79      0.90      0.84        70\n",
      "\n",
      "    accuracy                           0.85       696\n",
      "   macro avg       0.85      0.84      0.85       696\n",
      "weighted avg       0.85      0.85      0.85       696\n",
      "\n"
     ]
    }
   ],
   "source": [
    "model_22 = RandomForestClassifier(n_estimators=550, max_features=30, max_depth=6,min_samples_leaf=3)  \n",
    "model_22.fit(X_train, y_train)\n",
    "preds_22 = model_22.predict(X_train)\n",
    "y_true = y_train\n",
    "y_pred = preds_22\n",
    "target_names = ['hiphop', 'classical', 'blues', 'electronic','metal', 'jazz', 'country', 'pop', 'rock', 'reggae']\n",
    "print(classification_report(y_true, y_pred, target_names=target_names))"
   ]
  },
  {
   "cell_type": "code",
   "execution_count": 108,
   "id": "cdb0df39",
   "metadata": {},
   "outputs": [
    {
     "name": "stdout",
     "output_type": "stream",
     "text": [
      "              precision    recall  f1-score   support\n",
      "\n",
      "      hiphop       0.45      0.38      0.41        34\n",
      "   classical       0.55      0.90      0.68        20\n",
      "       blues       0.50      0.09      0.15        34\n",
      "  electronic       0.59      0.49      0.53        35\n",
      "       metal       0.53      0.61      0.57        28\n",
      "        jazz       0.51      0.47      0.49        38\n",
      "     country       0.32      0.54      0.40        26\n",
      "         pop       0.32      0.30      0.31        27\n",
      "        rock       0.32      0.32      0.32        28\n",
      "      reggae       0.50      0.66      0.57        29\n",
      "\n",
      "    accuracy                           0.45       299\n",
      "   macro avg       0.46      0.47      0.44       299\n",
      "weighted avg       0.46      0.45      0.44       299\n",
      "\n"
     ]
    }
   ],
   "source": [
    "model_22 = RandomForestClassifier(n_estimators=550, max_features=30, max_depth=6,min_samples_leaf=3)   \n",
    "model_22.fit(X_train, y_train)\n",
    "preds_22 = model_22.predict(X_test)\n",
    "y_true = y_test\n",
    "y_pred = preds_22\n",
    "target_names = ['hiphop', 'classical', 'blues', 'electronic','metal', 'jazz', 'country', 'pop', 'rock', 'reggae']\n",
    "print(classification_report(y_true, y_pred, target_names=target_names))"
   ]
  },
  {
   "cell_type": "code",
   "execution_count": 51,
   "id": "98d608b1",
   "metadata": {},
   "outputs": [
    {
     "name": "stdout",
     "output_type": "stream",
     "text": [
      "              precision    recall  f1-score   support\n",
      "\n",
      "      hiphop       0.85      0.94      0.89        66\n",
      "   classical       0.91      0.97      0.94        80\n",
      "       blues       0.89      0.67      0.76        63\n",
      "  electronic       0.85      0.82      0.83        65\n",
      "       metal       0.92      0.86      0.89        71\n",
      "        jazz       0.82      0.79      0.80        62\n",
      "     country       0.68      0.81      0.74        74\n",
      "         pop       0.77      0.79      0.78        73\n",
      "        rock       0.82      0.76      0.79        72\n",
      "      reggae       0.86      0.89      0.87        70\n",
      "\n",
      "    accuracy                           0.83       696\n",
      "   macro avg       0.84      0.83      0.83       696\n",
      "weighted avg       0.84      0.83      0.83       696\n",
      "\n"
     ]
    }
   ],
   "source": [
    "model_21 = RandomForestClassifier(n_estimators=650, max_features=55, max_depth=6,min_samples_leaf=4)  \n",
    "model_21.fit(X_train, y_train)\n",
    "preds_21 = model_21.predict(X_train)\n",
    "y_true = y_train\n",
    "y_pred = preds_21\n",
    "target_names = ['hiphop', 'classical', 'blues', 'electronic','metal', 'jazz', 'country', 'pop', 'rock', 'reggae']\n",
    "print(classification_report(y_true, y_pred, target_names=target_names))"
   ]
  },
  {
   "cell_type": "code",
   "execution_count": 52,
   "id": "2ec8d726",
   "metadata": {},
   "outputs": [
    {
     "name": "stdout",
     "output_type": "stream",
     "text": [
      "              precision    recall  f1-score   support\n",
      "\n",
      "      hiphop       0.44      0.35      0.39        34\n",
      "   classical       0.50      0.90      0.64        20\n",
      "       blues       0.50      0.09      0.15        34\n",
      "  electronic       0.62      0.51      0.56        35\n",
      "       metal       0.47      0.57      0.52        28\n",
      "        jazz       0.56      0.53      0.54        38\n",
      "     country       0.28      0.46      0.35        26\n",
      "         pop       0.33      0.30      0.31        27\n",
      "        rock       0.36      0.32      0.34        28\n",
      "      reggae       0.46      0.62      0.53        29\n",
      "\n",
      "    accuracy                           0.45       299\n",
      "   macro avg       0.45      0.47      0.43       299\n",
      "weighted avg       0.46      0.45      0.43       299\n",
      "\n"
     ]
    }
   ],
   "source": [
    "#Checking for overfitting\n",
    "model_21 = RandomForestClassifier(n_estimators=650, max_features=55, max_depth=6,min_samples_leaf=4)  \n",
    "model_21.fit(X_train, y_train)\n",
    "preds_21 = model_21.predict(X_test)\n",
    "y_true = y_test\n",
    "y_pred = preds_21\n",
    "target_names = ['hiphop', 'classical', 'blues', 'electronic','metal', 'jazz', 'country', 'pop', 'rock', 'reggae']\n",
    "print(classification_report(y_true, y_pred, target_names=target_names))"
   ]
  },
  {
   "cell_type": "code",
   "execution_count": 53,
   "id": "25b29372",
   "metadata": {},
   "outputs": [
    {
     "name": "stdout",
     "output_type": "stream",
     "text": [
      "              precision    recall  f1-score   support\n",
      "\n",
      "      hiphop       1.00      1.00      1.00        66\n",
      "   classical       0.94      0.97      0.96        80\n",
      "       blues       1.00      0.94      0.97        63\n",
      "  electronic       0.94      0.95      0.95        65\n",
      "       metal       0.95      0.97      0.96        71\n",
      "        jazz       0.98      0.94      0.96        62\n",
      "     country       0.96      0.96      0.96        74\n",
      "         pop       0.96      1.00      0.98        73\n",
      "        rock       0.99      0.96      0.97        72\n",
      "      reggae       0.97      0.97      0.97        70\n",
      "\n",
      "    accuracy                           0.97       696\n",
      "   macro avg       0.97      0.97      0.97       696\n",
      "weighted avg       0.97      0.97      0.97       696\n",
      "\n"
     ]
    }
   ],
   "source": [
    "model_23 = RandomForestClassifier(n_estimators=600, max_features=50, max_depth=10,min_samples_leaf=4)  \n",
    "model_23.fit(X_train, y_train)\n",
    "preds_23 = model_23.predict(X_train)\n",
    "y_true = y_train\n",
    "y_pred = preds_23\n",
    "target_names = ['hiphop', 'classical', 'blues', 'electronic','metal', 'jazz', 'country', 'pop', 'rock', 'reggae']\n",
    "print(classification_report(y_true, y_pred, target_names=target_names))"
   ]
  },
  {
   "cell_type": "code",
   "execution_count": 54,
   "id": "4ad398dd",
   "metadata": {},
   "outputs": [
    {
     "name": "stdout",
     "output_type": "stream",
     "text": [
      "              precision    recall  f1-score   support\n",
      "\n",
      "      hiphop       0.82      0.83      0.83        66\n",
      "   classical       0.88      0.97      0.92        80\n",
      "       blues       1.00      0.27      0.42        63\n",
      "  electronic       0.86      0.75      0.80        65\n",
      "       metal       0.92      0.85      0.88        71\n",
      "        jazz       0.71      0.74      0.72        62\n",
      "     country       0.54      0.76      0.63        74\n",
      "         pop       0.62      0.62      0.62        73\n",
      "        rock       0.75      0.74      0.74        72\n",
      "      reggae       0.70      0.89      0.78        70\n",
      "\n",
      "    accuracy                           0.75       696\n",
      "   macro avg       0.78      0.74      0.74       696\n",
      "weighted avg       0.78      0.75      0.74       696\n",
      "\n"
     ]
    }
   ],
   "source": [
    "model_24 = RandomForestClassifier(n_estimators=400, max_features=30, max_depth=5,min_samples_leaf=2)  \n",
    "model_24.fit(X_train, y_train)\n",
    "preds_24 = model_24.predict(X_train)\n",
    "y_true = y_train\n",
    "y_pred = preds_24\n",
    "target_names = ['hiphop', 'classical', 'blues', 'electronic','metal', 'jazz', 'country', 'pop', 'rock', 'reggae']\n",
    "print(classification_report(y_true, y_pred, target_names=target_names))"
   ]
  },
  {
   "cell_type": "code",
   "execution_count": 55,
   "id": "a454fe9e",
   "metadata": {},
   "outputs": [
    {
     "name": "stdout",
     "output_type": "stream",
     "text": [
      "              precision    recall  f1-score   support\n",
      "\n",
      "      hiphop       0.81      0.83      0.82        66\n",
      "   classical       0.88      0.96      0.92        80\n",
      "       blues       0.88      0.22      0.35        63\n",
      "  electronic       0.84      0.74      0.79        65\n",
      "       metal       0.91      0.86      0.88        71\n",
      "        jazz       0.70      0.71      0.70        62\n",
      "     country       0.53      0.73      0.62        74\n",
      "         pop       0.60      0.62      0.61        73\n",
      "        rock       0.70      0.69      0.70        72\n",
      "      reggae       0.68      0.87      0.76        70\n",
      "\n",
      "    accuracy                           0.73       696\n",
      "   macro avg       0.75      0.72      0.72       696\n",
      "weighted avg       0.75      0.73      0.72       696\n",
      "\n"
     ]
    }
   ],
   "source": [
    "model_25 = RandomForestClassifier(n_estimators=350, max_features=30, max_depth=5,min_samples_leaf=2)  \n",
    "model_25.fit(X_train, y_train)\n",
    "preds_25 = model_25.predict(X_train)\n",
    "y_true = y_train\n",
    "y_pred = preds_25\n",
    "target_names = ['hiphop', 'classical', 'blues', 'electronic','metal', 'jazz', 'country', 'pop', 'rock', 'reggae']\n",
    "print(classification_report(y_true, y_pred, target_names=target_names))"
   ]
  },
  {
   "cell_type": "code",
   "execution_count": 56,
   "id": "77d8688a",
   "metadata": {},
   "outputs": [
    {
     "name": "stdout",
     "output_type": "stream",
     "text": [
      "              precision    recall  f1-score   support\n",
      "\n",
      "      hiphop       0.50      0.41      0.45        34\n",
      "   classical       0.51      0.90      0.65        20\n",
      "       blues       0.67      0.06      0.11        34\n",
      "  electronic       0.62      0.46      0.52        35\n",
      "       metal       0.53      0.64      0.58        28\n",
      "        jazz       0.51      0.50      0.51        38\n",
      "     country       0.28      0.46      0.35        26\n",
      "         pop       0.14      0.11      0.12        27\n",
      "        rock       0.31      0.32      0.32        28\n",
      "      reggae       0.44      0.66      0.53        29\n",
      "\n",
      "    accuracy                           0.43       299\n",
      "   macro avg       0.45      0.45      0.41       299\n",
      "weighted avg       0.46      0.43      0.41       299\n",
      "\n"
     ]
    }
   ],
   "source": [
    "model_25 = RandomForestClassifier(n_estimators=350, max_features=30, max_depth=5,min_samples_leaf=2)  \n",
    "model_25.fit(X_train, y_train)\n",
    "preds_25 = model_25.predict(X_test)\n",
    "y_true = y_test\n",
    "y_pred = preds_25\n",
    "target_names = ['hiphop', 'classical', 'blues', 'electronic','metal', 'jazz', 'country', 'pop', 'rock', 'reggae']\n",
    "print(classification_report(y_true, y_pred, target_names=target_names))"
   ]
  },
  {
   "cell_type": "code",
   "execution_count": 57,
   "id": "34df16dd",
   "metadata": {},
   "outputs": [
    {
     "name": "stdout",
     "output_type": "stream",
     "text": [
      "              precision    recall  f1-score   support\n",
      "\n",
      "      hiphop       0.78      0.80      0.79        66\n",
      "   classical       0.89      0.96      0.92        80\n",
      "       blues       0.90      0.29      0.43        63\n",
      "  electronic       0.85      0.77      0.81        65\n",
      "       metal       0.92      0.86      0.89        71\n",
      "        jazz       0.75      0.73      0.74        62\n",
      "     country       0.51      0.70      0.59        74\n",
      "         pop       0.62      0.62      0.62        73\n",
      "        rock       0.73      0.74      0.73        72\n",
      "      reggae       0.67      0.86      0.75        70\n",
      "\n",
      "    accuracy                           0.74       696\n",
      "   macro avg       0.76      0.73      0.73       696\n",
      "weighted avg       0.76      0.74      0.73       696\n",
      "\n"
     ]
    }
   ],
   "source": [
    "model_26 = RandomForestClassifier(n_estimators=500, max_features=30, max_depth=5,min_samples_leaf=2)  \n",
    "model_26.fit(X_train, y_train)\n",
    "preds_26 = model_26.predict(X_train)\n",
    "y_true = y_train\n",
    "y_pred = preds_26\n",
    "target_names = ['hiphop', 'classical', 'blues', 'electronic','metal', 'jazz', 'country', 'pop', 'rock', 'reggae']\n",
    "print(classification_report(y_true, y_pred, target_names=target_names))"
   ]
  },
  {
   "cell_type": "code",
   "execution_count": 58,
   "id": "77942d0c",
   "metadata": {},
   "outputs": [
    {
     "name": "stdout",
     "output_type": "stream",
     "text": [
      "              precision    recall  f1-score   support\n",
      "\n",
      "      hiphop       0.48      0.38      0.43        34\n",
      "   classical       0.53      0.90      0.67        20\n",
      "       blues       1.00      0.03      0.06        34\n",
      "  electronic       0.58      0.40      0.47        35\n",
      "       metal       0.49      0.61      0.54        28\n",
      "        jazz       0.51      0.47      0.49        38\n",
      "     country       0.30      0.50      0.38        26\n",
      "         pop       0.22      0.19      0.20        27\n",
      "        rock       0.27      0.29      0.28        28\n",
      "      reggae       0.40      0.66      0.50        29\n",
      "\n",
      "    accuracy                           0.42       299\n",
      "   macro avg       0.48      0.44      0.40       299\n",
      "weighted avg       0.49      0.42      0.39       299\n",
      "\n"
     ]
    }
   ],
   "source": [
    "model_26 = RandomForestClassifier(n_estimators=500, max_features=30, max_depth=5,min_samples_leaf=2)  \n",
    "model_26.fit(X_train, y_train)\n",
    "preds_26 = model_26.predict(X_test)\n",
    "y_true = y_test\n",
    "y_pred = preds_26\n",
    "target_names = ['hiphop', 'classical', 'blues', 'electronic','metal', 'jazz', 'country', 'pop', 'rock', 'reggae']\n",
    "print(classification_report(y_true, y_pred, target_names=target_names))"
   ]
  },
  {
   "cell_type": "code",
   "execution_count": 63,
   "id": "01c80ed7",
   "metadata": {},
   "outputs": [
    {
     "name": "stdout",
     "output_type": "stream",
     "text": [
      "              precision    recall  f1-score   support\n",
      "\n",
      "      hiphop       0.87      0.94      0.91        66\n",
      "   classical       0.90      0.96      0.93        80\n",
      "       blues       0.93      0.59      0.72        63\n",
      "  electronic       0.87      0.82      0.84        65\n",
      "       metal       0.94      0.89      0.91        71\n",
      "        jazz       0.82      0.79      0.80        62\n",
      "     country       0.67      0.84      0.75        74\n",
      "         pop       0.74      0.79      0.77        73\n",
      "        rock       0.86      0.78      0.82        72\n",
      "      reggae       0.83      0.90      0.86        70\n",
      "\n",
      "    accuracy                           0.83       696\n",
      "   macro avg       0.84      0.83      0.83       696\n",
      "weighted avg       0.84      0.83      0.83       696\n",
      "\n"
     ]
    }
   ],
   "source": [
    "model_27 = RandomForestClassifier(n_estimators=700, max_features=55, max_depth=6,min_samples_leaf=4)  \n",
    "model_27.fit(X_train, y_train)\n",
    "preds_27 = model_27.predict(X_train)\n",
    "y_true = y_train\n",
    "y_pred = preds_27\n",
    "target_names = ['hiphop', 'classical', 'blues', 'electronic','metal', 'jazz', 'country', 'pop', 'rock', 'reggae']\n",
    "print(classification_report(y_true, y_pred, target_names=target_names))"
   ]
  },
  {
   "cell_type": "code",
   "execution_count": 66,
   "id": "cda7fc2c",
   "metadata": {},
   "outputs": [
    {
     "name": "stdout",
     "output_type": "stream",
     "text": [
      "              precision    recall  f1-score   support\n",
      "\n",
      "      hiphop       0.43      0.38      0.41        34\n",
      "   classical       0.53      0.90      0.67        20\n",
      "       blues       0.33      0.06      0.10        34\n",
      "  electronic       0.58      0.43      0.49        35\n",
      "       metal       0.52      0.61      0.56        28\n",
      "        jazz       0.51      0.53      0.52        38\n",
      "     country       0.28      0.46      0.35        26\n",
      "         pop       0.27      0.26      0.26        27\n",
      "        rock       0.35      0.32      0.33        28\n",
      "      reggae       0.47      0.59      0.52        29\n",
      "\n",
      "    accuracy                           0.43       299\n",
      "   macro avg       0.43      0.45      0.42       299\n",
      "weighted avg       0.43      0.43      0.41       299\n",
      "\n"
     ]
    }
   ],
   "source": [
    "model_27 = RandomForestClassifier(n_estimators=700, max_features=55, max_depth=6,min_samples_leaf=4)  \n",
    "model_27.fit(X_train, y_train)\n",
    "preds_27 = model_27.predict(X_test)\n",
    "y_true = y_test\n",
    "y_pred = preds_27\n",
    "target_names = ['hiphop', 'classical', 'blues', 'electronic','metal', 'jazz', 'country', 'pop', 'rock', 'reggae']\n",
    "print(classification_report(y_true, y_pred, target_names=target_names))"
   ]
  },
  {
   "cell_type": "code",
   "execution_count": 64,
   "id": "c4315639",
   "metadata": {},
   "outputs": [
    {
     "name": "stdout",
     "output_type": "stream",
     "text": [
      "              precision    recall  f1-score   support\n",
      "\n",
      "      hiphop       0.90      0.94      0.92        66\n",
      "   classical       0.92      0.97      0.95        80\n",
      "       blues       0.98      0.65      0.78        63\n",
      "  electronic       0.90      0.83      0.86        65\n",
      "       metal       0.96      0.92      0.94        71\n",
      "        jazz       0.85      0.81      0.83        62\n",
      "     country       0.68      0.82      0.74        74\n",
      "         pop       0.77      0.84      0.80        73\n",
      "        rock       0.85      0.81      0.83        72\n",
      "      reggae       0.83      0.90      0.86        70\n",
      "\n",
      "    accuracy                           0.85       696\n",
      "   macro avg       0.86      0.85      0.85       696\n",
      "weighted avg       0.86      0.85      0.85       696\n",
      "\n"
     ]
    }
   ],
   "source": [
    "model_28 = RandomForestClassifier(n_estimators=700, max_features=45, max_depth=6,min_samples_leaf=3)  \n",
    "model_28.fit(X_train, y_train)\n",
    "preds_28 = model_28.predict(X_train)\n",
    "y_true = y_train\n",
    "y_pred = preds_28\n",
    "target_names = ['hiphop', 'classical', 'blues', 'electronic','metal', 'jazz', 'country', 'pop', 'rock', 'reggae']\n",
    "print(classification_report(y_true, y_pred, target_names=target_names))"
   ]
  },
  {
   "cell_type": "code",
   "execution_count": 65,
   "id": "c28e9892",
   "metadata": {},
   "outputs": [
    {
     "name": "stdout",
     "output_type": "stream",
     "text": [
      "              precision    recall  f1-score   support\n",
      "\n",
      "      hiphop       0.46      0.32      0.38        34\n",
      "   classical       0.53      0.90      0.67        20\n",
      "       blues       0.40      0.06      0.10        34\n",
      "  electronic       0.57      0.49      0.52        35\n",
      "       metal       0.50      0.61      0.55        28\n",
      "        jazz       0.50      0.47      0.49        38\n",
      "     country       0.30      0.50      0.37        26\n",
      "         pop       0.26      0.26      0.26        27\n",
      "        rock       0.33      0.29      0.31        28\n",
      "      reggae       0.44      0.62      0.51        29\n",
      "\n",
      "    accuracy                           0.43       299\n",
      "   macro avg       0.43      0.45      0.42       299\n",
      "weighted avg       0.43      0.43      0.41       299\n",
      "\n"
     ]
    }
   ],
   "source": [
    "model_28 = RandomForestClassifier(n_estimators=700, max_features=45, max_depth=6,min_samples_leaf=3)  \n",
    "model_28.fit(X_train, y_train)\n",
    "preds_28 = model_28.predict(X_test)\n",
    "y_true = y_test\n",
    "y_pred = preds_28\n",
    "target_names = ['hiphop', 'classical', 'blues', 'electronic','metal', 'jazz', 'country', 'pop', 'rock', 'reggae']\n",
    "print(classification_report(y_true, y_pred, target_names=target_names))"
   ]
  },
  {
   "cell_type": "code",
   "execution_count": 67,
   "id": "384da888",
   "metadata": {},
   "outputs": [
    {
     "name": "stdout",
     "output_type": "stream",
     "text": [
      "Fitting 5 folds for each of 20 candidates, totalling 100 fits\n",
      "[CV] END max_depth=6, max_features=44, min_samples_leaf=9, n_estimators=867; total time=   3.2s\n",
      "[CV] END max_depth=6, max_features=44, min_samples_leaf=9, n_estimators=867; total time=   2.2s\n",
      "[CV] END max_depth=6, max_features=44, min_samples_leaf=9, n_estimators=867; total time=   2.0s\n",
      "[CV] END max_depth=6, max_features=44, min_samples_leaf=9, n_estimators=867; total time=   2.0s\n",
      "[CV] END max_depth=6, max_features=44, min_samples_leaf=9, n_estimators=867; total time=   2.0s\n",
      "[CV] END max_depth=6, max_features=16, min_samples_leaf=1, n_estimators=244; total time=   0.4s\n",
      "[CV] END max_depth=6, max_features=16, min_samples_leaf=1, n_estimators=244; total time=   0.4s\n",
      "[CV] END max_depth=6, max_features=16, min_samples_leaf=1, n_estimators=244; total time=   0.4s\n",
      "[CV] END max_depth=6, max_features=16, min_samples_leaf=1, n_estimators=244; total time=   0.4s\n",
      "[CV] END max_depth=6, max_features=16, min_samples_leaf=1, n_estimators=244; total time=   0.4s\n",
      "[CV] END max_depth=2, max_features=13, min_samples_leaf=8, n_estimators=849; total time=   1.2s\n",
      "[CV] END max_depth=2, max_features=13, min_samples_leaf=8, n_estimators=849; total time=   1.2s\n",
      "[CV] END max_depth=2, max_features=13, min_samples_leaf=8, n_estimators=849; total time=   1.2s\n",
      "[CV] END max_depth=2, max_features=13, min_samples_leaf=8, n_estimators=849; total time=   1.1s\n",
      "[CV] END max_depth=2, max_features=13, min_samples_leaf=8, n_estimators=849; total time=   1.1s\n",
      "[CV] END max_depth=7, max_features=26, min_samples_leaf=3, n_estimators=376; total time=   0.8s\n",
      "[CV] END max_depth=7, max_features=26, min_samples_leaf=3, n_estimators=376; total time=   0.8s\n",
      "[CV] END max_depth=7, max_features=26, min_samples_leaf=3, n_estimators=376; total time=   0.8s\n",
      "[CV] END max_depth=7, max_features=26, min_samples_leaf=3, n_estimators=376; total time=   0.8s\n",
      "[CV] END max_depth=7, max_features=26, min_samples_leaf=3, n_estimators=376; total time=   0.8s\n",
      "[CV] END max_depth=6, max_features=19, min_samples_leaf=5, n_estimators=352; total time=   0.7s\n",
      "[CV] END max_depth=6, max_features=19, min_samples_leaf=5, n_estimators=352; total time=   0.7s\n",
      "[CV] END max_depth=6, max_features=19, min_samples_leaf=5, n_estimators=352; total time=   0.7s\n",
      "[CV] END max_depth=6, max_features=19, min_samples_leaf=5, n_estimators=352; total time=   0.7s\n",
      "[CV] END max_depth=6, max_features=19, min_samples_leaf=5, n_estimators=352; total time=   0.9s\n",
      "[CV] END max_depth=3, max_features=5, min_samples_leaf=8, n_estimators=853; total time=   1.1s\n",
      "[CV] END max_depth=3, max_features=5, min_samples_leaf=8, n_estimators=853; total time=   1.1s\n",
      "[CV] END max_depth=3, max_features=5, min_samples_leaf=8, n_estimators=853; total time=   1.5s\n",
      "[CV] END max_depth=3, max_features=5, min_samples_leaf=8, n_estimators=853; total time=   1.2s\n",
      "[CV] END max_depth=3, max_features=5, min_samples_leaf=8, n_estimators=853; total time=   1.5s\n",
      "[CV] END max_depth=8, max_features=31, min_samples_leaf=1, n_estimators=186; total time=   0.6s\n",
      "[CV] END max_depth=8, max_features=31, min_samples_leaf=1, n_estimators=186; total time=   0.5s\n",
      "[CV] END max_depth=8, max_features=31, min_samples_leaf=1, n_estimators=186; total time=   0.6s\n",
      "[CV] END max_depth=8, max_features=31, min_samples_leaf=1, n_estimators=186; total time=   0.7s\n",
      "[CV] END max_depth=8, max_features=31, min_samples_leaf=1, n_estimators=186; total time=   0.9s\n",
      "[CV] END max_depth=8, max_features=23, min_samples_leaf=2, n_estimators=996; total time=   3.3s\n",
      "[CV] END max_depth=8, max_features=23, min_samples_leaf=2, n_estimators=996; total time=   2.6s\n",
      "[CV] END max_depth=8, max_features=23, min_samples_leaf=2, n_estimators=996; total time=   2.3s\n",
      "[CV] END max_depth=8, max_features=23, min_samples_leaf=2, n_estimators=996; total time=   2.3s\n",
      "[CV] END max_depth=8, max_features=23, min_samples_leaf=2, n_estimators=996; total time=   2.4s\n",
      "[CV] END max_depth=2, max_features=9, min_samples_leaf=9, n_estimators=753; total time=   1.1s\n",
      "[CV] END max_depth=2, max_features=9, min_samples_leaf=9, n_estimators=753; total time=   0.9s\n",
      "[CV] END max_depth=2, max_features=9, min_samples_leaf=9, n_estimators=753; total time=   1.0s\n",
      "[CV] END max_depth=2, max_features=9, min_samples_leaf=9, n_estimators=753; total time=   1.1s\n",
      "[CV] END max_depth=2, max_features=9, min_samples_leaf=9, n_estimators=753; total time=   0.9s\n",
      "[CV] END max_depth=4, max_features=48, min_samples_leaf=9, n_estimators=642; total time=   1.5s\n",
      "[CV] END max_depth=4, max_features=48, min_samples_leaf=9, n_estimators=642; total time=   1.5s\n",
      "[CV] END max_depth=4, max_features=48, min_samples_leaf=9, n_estimators=642; total time=   1.5s\n",
      "[CV] END max_depth=4, max_features=48, min_samples_leaf=9, n_estimators=642; total time=   1.5s\n",
      "[CV] END max_depth=4, max_features=48, min_samples_leaf=9, n_estimators=642; total time=   1.5s\n",
      "[CV] END max_depth=8, max_features=4, min_samples_leaf=7, n_estimators=661; total time=   1.0s\n",
      "[CV] END max_depth=8, max_features=4, min_samples_leaf=7, n_estimators=661; total time=   0.9s\n",
      "[CV] END max_depth=8, max_features=4, min_samples_leaf=7, n_estimators=661; total time=   0.9s\n",
      "[CV] END max_depth=8, max_features=4, min_samples_leaf=7, n_estimators=661; total time=   0.9s\n",
      "[CV] END max_depth=8, max_features=4, min_samples_leaf=7, n_estimators=661; total time=   0.9s\n",
      "[CV] END max_depth=4, max_features=5, min_samples_leaf=9, n_estimators=597; total time=   0.8s\n",
      "[CV] END max_depth=4, max_features=5, min_samples_leaf=9, n_estimators=597; total time=   0.8s\n",
      "[CV] END max_depth=4, max_features=5, min_samples_leaf=9, n_estimators=597; total time=   0.8s\n",
      "[CV] END max_depth=4, max_features=5, min_samples_leaf=9, n_estimators=597; total time=   0.8s\n",
      "[CV] END max_depth=4, max_features=5, min_samples_leaf=9, n_estimators=597; total time=   0.8s\n",
      "[CV] END max_depth=5, max_features=17, min_samples_leaf=4, n_estimators=397; total time=   0.7s\n",
      "[CV] END max_depth=5, max_features=17, min_samples_leaf=4, n_estimators=397; total time=   0.7s\n",
      "[CV] END max_depth=5, max_features=17, min_samples_leaf=4, n_estimators=397; total time=   0.7s\n",
      "[CV] END max_depth=5, max_features=17, min_samples_leaf=4, n_estimators=397; total time=   0.7s\n",
      "[CV] END max_depth=5, max_features=17, min_samples_leaf=4, n_estimators=397; total time=   0.7s\n",
      "[CV] END max_depth=3, max_features=16, min_samples_leaf=1, n_estimators=296; total time=   0.7s\n",
      "[CV] END max_depth=3, max_features=16, min_samples_leaf=1, n_estimators=296; total time=   0.7s\n",
      "[CV] END max_depth=3, max_features=16, min_samples_leaf=1, n_estimators=296; total time=   0.8s\n",
      "[CV] END max_depth=3, max_features=16, min_samples_leaf=1, n_estimators=296; total time=   0.8s\n",
      "[CV] END max_depth=3, max_features=16, min_samples_leaf=1, n_estimators=296; total time=   0.9s\n",
      "[CV] END max_depth=3, max_features=24, min_samples_leaf=8, n_estimators=382; total time=   1.2s\n",
      "[CV] END max_depth=3, max_features=24, min_samples_leaf=8, n_estimators=382; total time=   1.2s\n",
      "[CV] END max_depth=3, max_features=24, min_samples_leaf=8, n_estimators=382; total time=   1.2s\n",
      "[CV] END max_depth=3, max_features=24, min_samples_leaf=8, n_estimators=382; total time=   1.2s\n",
      "[CV] END max_depth=3, max_features=24, min_samples_leaf=8, n_estimators=382; total time=   1.2s\n",
      "[CV] END max_depth=9, max_features=23, min_samples_leaf=4, n_estimators=226; total time=   1.2s\n",
      "[CV] END max_depth=9, max_features=23, min_samples_leaf=4, n_estimators=226; total time=   1.4s\n",
      "[CV] END max_depth=9, max_features=23, min_samples_leaf=4, n_estimators=226; total time=   1.4s\n",
      "[CV] END max_depth=9, max_features=23, min_samples_leaf=4, n_estimators=226; total time=   1.2s\n",
      "[CV] END max_depth=9, max_features=23, min_samples_leaf=4, n_estimators=226; total time=   1.3s\n",
      "[CV] END max_depth=8, max_features=37, min_samples_leaf=6, n_estimators=413; total time=   2.7s\n",
      "[CV] END max_depth=8, max_features=37, min_samples_leaf=6, n_estimators=413; total time=   2.9s\n",
      "[CV] END max_depth=8, max_features=37, min_samples_leaf=6, n_estimators=413; total time=   2.8s\n",
      "[CV] END max_depth=8, max_features=37, min_samples_leaf=6, n_estimators=413; total time=   2.7s\n",
      "[CV] END max_depth=8, max_features=37, min_samples_leaf=6, n_estimators=413; total time=   2.3s\n"
     ]
    },
    {
     "name": "stdout",
     "output_type": "stream",
     "text": [
      "[CV] END max_depth=4, max_features=39, min_samples_leaf=9, n_estimators=388; total time=   1.5s\n",
      "[CV] END max_depth=4, max_features=39, min_samples_leaf=9, n_estimators=388; total time=   1.3s\n",
      "[CV] END max_depth=4, max_features=39, min_samples_leaf=9, n_estimators=388; total time=   0.9s\n",
      "[CV] END max_depth=4, max_features=39, min_samples_leaf=9, n_estimators=388; total time=   0.8s\n",
      "[CV] END max_depth=4, max_features=39, min_samples_leaf=9, n_estimators=388; total time=   0.7s\n",
      "[CV] END max_depth=3, max_features=11, min_samples_leaf=8, n_estimators=755; total time=   0.9s\n",
      "[CV] END max_depth=3, max_features=11, min_samples_leaf=8, n_estimators=755; total time=   0.9s\n",
      "[CV] END max_depth=3, max_features=11, min_samples_leaf=8, n_estimators=755; total time=   1.0s\n",
      "[CV] END max_depth=3, max_features=11, min_samples_leaf=8, n_estimators=755; total time=   0.9s\n",
      "[CV] END max_depth=3, max_features=11, min_samples_leaf=8, n_estimators=755; total time=   0.9s\n",
      "[CV] END max_depth=8, max_features=26, min_samples_leaf=8, n_estimators=343; total time=   0.7s\n",
      "[CV] END max_depth=8, max_features=26, min_samples_leaf=8, n_estimators=343; total time=   0.7s\n",
      "[CV] END max_depth=8, max_features=26, min_samples_leaf=8, n_estimators=343; total time=   0.7s\n",
      "[CV] END max_depth=8, max_features=26, min_samples_leaf=8, n_estimators=343; total time=   0.7s\n",
      "[CV] END max_depth=8, max_features=26, min_samples_leaf=8, n_estimators=343; total time=   0.7s\n"
     ]
    }
   ],
   "source": [
    "model = RandomForestClassifier(n_jobs =-1)  \n",
    "model_parameters = { 'n_estimators': randint(100,1000),\n",
    "                    'max_features': randint(1,60),\n",
    "                    'max_depth' : randint(1,10),\n",
    "                    'min_samples_leaf':randint(1,10),\n",
    "                   }\n",
    "random_search= RandomizedSearchCV(model, model_parameters, n_iter=20, cv=5, random_state=1, verbose=2)\n",
    "\n",
    "model =random_search.fit(X_train, y_train)"
   ]
  },
  {
   "cell_type": "code",
   "execution_count": 68,
   "id": "a9c0fb8f",
   "metadata": {},
   "outputs": [
    {
     "data": {
      "text/plain": [
       "{'max_depth': 8,\n",
       " 'max_features': 31,\n",
       " 'min_samples_leaf': 1,\n",
       " 'n_estimators': 186}"
      ]
     },
     "execution_count": 68,
     "metadata": {},
     "output_type": "execute_result"
    }
   ],
   "source": [
    "random_search.best_params_"
   ]
  },
  {
   "cell_type": "code",
   "execution_count": 78,
   "id": "1b44189c",
   "metadata": {},
   "outputs": [
    {
     "name": "stdout",
     "output_type": "stream",
     "text": [
      "              precision    recall  f1-score   support\n",
      "\n",
      "      hiphop       1.00      1.00      1.00        62\n",
      "   classical       1.00      0.97      0.99        74\n",
      "       blues       1.00      0.98      0.99        59\n",
      "  electronic       1.00      0.98      0.99        57\n",
      "       metal       1.00      0.97      0.98        66\n",
      "        jazz       0.98      1.00      0.99        54\n",
      "     country       0.95      0.99      0.97        72\n",
      "         pop       0.97      1.00      0.99        68\n",
      "        rock       1.00      1.00      1.00        69\n",
      "      reggae       0.98      0.98      0.98        65\n",
      "\n",
      "    accuracy                           0.99       646\n",
      "   macro avg       0.99      0.99      0.99       646\n",
      "weighted avg       0.99      0.99      0.99       646\n",
      "\n"
     ]
    }
   ],
   "source": [
    "model_29 = RandomForestClassifier(n_estimators=186, max_features=31, max_depth=8,min_samples_leaf=1)  \n",
    "model_29.fit(X_train, y_train)\n",
    "preds_29 = model_29.predict(X_train)\n",
    "y_true = y_train\n",
    "y_pred = preds_29\n",
    "target_names = ['hiphop', 'classical', 'blues', 'electronic','metal', 'jazz', 'country', 'pop', 'rock', 'reggae']\n",
    "print(classification_report(y_true, y_pred, target_names=target_names))"
   ]
  },
  {
   "cell_type": "code",
   "execution_count": 79,
   "id": "776115ca",
   "metadata": {},
   "outputs": [
    {
     "name": "stdout",
     "output_type": "stream",
     "text": [
      "              precision    recall  f1-score   support\n",
      "\n",
      "      hiphop       0.54      0.50      0.52        38\n",
      "   classical       0.71      0.92      0.80        26\n",
      "       blues       0.56      0.13      0.21        38\n",
      "  electronic       0.60      0.42      0.49        43\n",
      "       metal       0.58      0.64      0.61        33\n",
      "        jazz       0.57      0.50      0.53        46\n",
      "     country       0.28      0.50      0.36        28\n",
      "         pop       0.26      0.34      0.30        32\n",
      "        rock       0.37      0.42      0.39        31\n",
      "      reggae       0.55      0.62      0.58        34\n",
      "\n",
      "    accuracy                           0.48       349\n",
      "   macro avg       0.50      0.50      0.48       349\n",
      "weighted avg       0.51      0.48      0.48       349\n",
      "\n"
     ]
    }
   ],
   "source": [
    "model_29 = RandomForestClassifier(n_estimators=186, max_features=31, max_depth=8,min_samples_leaf=1)  \n",
    "model_29.fit(X_train, y_train)\n",
    "preds_29 = model_29.predict(X_test)\n",
    "y_true = y_test\n",
    "y_pred = preds_29\n",
    "target_names = ['hiphop', 'classical', 'blues', 'electronic','metal', 'jazz', 'country', 'pop', 'rock', 'reggae']\n",
    "print(classification_report(y_true, y_pred, target_names=target_names))"
   ]
  },
  {
   "cell_type": "markdown",
   "id": "debf6fa1",
   "metadata": {},
   "source": [
    "# Best models"
   ]
  },
  {
   "cell_type": "markdown",
   "id": "3270a735",
   "metadata": {},
   "source": [
    "X_train, X_test, y_train, y_test = train_test_split(X, y,test_size=0.35, random_state=42) \n",
    "model_30 = RandomForestClassifier(n_estimators=710, max_features=30, max_depth=6,min_samples_leaf=2)"
   ]
  },
  {
   "cell_type": "markdown",
   "id": "f576416f",
   "metadata": {},
   "source": [
    "X_train, X_test, y_train, y_test = train_test_split(X, y,test_size=0.3, random_state=42) \n",
    "model_22 = RandomForestClassifier(n_estimators=550, max_features=30, max_depth=6,min_samples_leaf=3)"
   ]
  },
  {
   "cell_type": "markdown",
   "id": "644b7633",
   "metadata": {},
   "source": [
    " X_train, X_test, y_train, y_test = train_test_split(X, y,test_size=0.2, random_state=42) \n",
    "model_22 = RandomForestClassifier(n_estimators=550, max_features=35, max_depth=6,min_samples_leaf=2)"
   ]
  },
  {
   "cell_type": "code",
   "execution_count": null,
   "id": "33c56689",
   "metadata": {},
   "outputs": [],
   "source": []
  }
 ],
 "metadata": {
  "kernelspec": {
   "display_name": "Python 3 (ipykernel)",
   "language": "python",
   "name": "python3"
  },
  "language_info": {
   "codemirror_mode": {
    "name": "ipython",
    "version": 3
   },
   "file_extension": ".py",
   "mimetype": "text/x-python",
   "name": "python",
   "nbconvert_exporter": "python",
   "pygments_lexer": "ipython3",
   "version": "3.8.12"
  },
  "toc": {
   "base_numbering": 1,
   "nav_menu": {},
   "number_sections": true,
   "sideBar": true,
   "skip_h1_title": false,
   "title_cell": "Table of Contents",
   "title_sidebar": "Contents",
   "toc_cell": false,
   "toc_position": {},
   "toc_section_display": true,
   "toc_window_display": false
  }
 },
 "nbformat": 4,
 "nbformat_minor": 5
}
