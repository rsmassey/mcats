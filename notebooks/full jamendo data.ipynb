{
 "cells": [
  {
   "cell_type": "code",
   "execution_count": 22,
   "id": "c287966a",
   "metadata": {},
   "outputs": [
    {
     "name": "stderr",
     "output_type": "stream",
     "text": [
      "2023-03-02 19:54:45.773962: I tensorflow/core/platform/cpu_feature_guard.cc:193] This TensorFlow binary is optimized with oneAPI Deep Neural Network Library (oneDNN) to use the following CPU instructions in performance-critical operations:  AVX2 FMA\n",
      "To enable them in other operations, rebuild TensorFlow with the appropriate compiler flags.\n",
      "2023-03-02 19:54:46.198310: W tensorflow/compiler/xla/stream_executor/platform/default/dso_loader.cc:64] Could not load dynamic library 'libcudart.so.11.0'; dlerror: libcudart.so.11.0: cannot open shared object file: No such file or directory\n",
      "2023-03-02 19:54:46.198363: I tensorflow/compiler/xla/stream_executor/cuda/cudart_stub.cc:29] Ignore above cudart dlerror if you do not have a GPU set up on your machine.\n",
      "2023-03-02 19:54:47.666855: W tensorflow/compiler/xla/stream_executor/platform/default/dso_loader.cc:64] Could not load dynamic library 'libnvinfer.so.7'; dlerror: libnvinfer.so.7: cannot open shared object file: No such file or directory\n",
      "2023-03-02 19:54:47.667006: W tensorflow/compiler/xla/stream_executor/platform/default/dso_loader.cc:64] Could not load dynamic library 'libnvinfer_plugin.so.7'; dlerror: libnvinfer_plugin.so.7: cannot open shared object file: No such file or directory\n",
      "2023-03-02 19:54:47.667017: W tensorflow/compiler/tf2tensorrt/utils/py_utils.cc:38] TF-TRT Warning: Cannot dlopen some TensorRT libraries. If you would like to use Nvidia GPU with TensorRT, please make sure the missing libraries mentioned above are installed properly.\n"
     ]
    }
   ],
   "source": [
    "import pandas as pd\n",
    "import os\n",
    "import glob\n",
    "import pandas as pd\n",
    "import numpy as np\n",
    "import tensorflow as tf\n",
    "from sklearn.ensemble import VotingClassifier\n",
    "from sklearn.tree import DecisionTreeClassifier\n",
    "from sklearn.ensemble import RandomForestClassifier\n",
    "from sklearn.naive_bayes import GaussianNB\n",
    "from sklearn.neighbors import KNeighborsClassifier\n",
    "from sklearn.svm import SVC\n",
    "from sklearn.neural_network import MLPClassifier\n",
    "from sklearn.ensemble import AdaBoostClassifier\n",
    "from sklearn.ensemble import GradientBoostingClassifier\n",
    "from sklearn.ensemble import ExtraTreesClassifier\n",
    "from sklearn.linear_model import LogisticRegression\n",
    "from sklearn.model_selection import train_test_split\n",
    "from sklearn.metrics import accuracy_score\n",
    "from sklearn.preprocessing import LabelEncoder\n",
    "from xgboost import XGBClassifier\n",
    "from catboost import CatBoostClassifier\n",
    "from sklearn.inspection import permutation_importance\n",
    "from sklearn.metrics import accuracy_score\n",
    "from sklearn.metrics import classification_report\n",
    "from sklearn.model_selection import train_test_split"
   ]
  },
  {
   "cell_type": "code",
   "execution_count": 4,
   "id": "2aea98f9",
   "metadata": {},
   "outputs": [
    {
     "data": {
      "text/plain": [
       "(9933, 95)"
      ]
     },
     "execution_count": 4,
     "metadata": {},
     "output_type": "execute_result"
    }
   ],
   "source": [
    "data.shape"
   ]
  },
  {
   "cell_type": "code",
   "execution_count": 12,
   "id": "125baef8",
   "metadata": {},
   "outputs": [],
   "source": [
    "train_data = pd.read_csv(\"../mcats/data/train_data.csv\")"
   ]
  },
  {
   "cell_type": "code",
   "execution_count": 13,
   "id": "43a6f784",
   "metadata": {},
   "outputs": [],
   "source": [
    "test_data = pd.read_csv(\"../mcats/data/test_data.csv\")"
   ]
  },
  {
   "cell_type": "code",
   "execution_count": 14,
   "id": "b2c47685",
   "metadata": {},
   "outputs": [],
   "source": [
    "val_data = pd.read_csv(\"../mcats/data/val_data.csv\")"
   ]
  },
  {
   "cell_type": "code",
   "execution_count": 15,
   "id": "e2665898",
   "metadata": {},
   "outputs": [],
   "source": [
    " \n",
    "\n",
    "# Split the data into X and y\n",
    "X_train = train_data.iloc[:, 1:-1]\n",
    "y_train = train_data.iloc[:, -1]\n",
    "X_val = val_data.iloc[:, 1:-1]\n",
    "y_val = val_data.iloc[:, -1]\n",
    "X_test = test_data.iloc[:, 1:-1]\n",
    "y_test = test_data.iloc[:, -1]    \n"
   ]
  },
  {
   "cell_type": "code",
   "execution_count": 16,
   "id": "e5fbf55d",
   "metadata": {},
   "outputs": [
    {
     "data": {
      "text/plain": [
       "(3530, 89)"
      ]
     },
     "execution_count": 16,
     "metadata": {},
     "output_type": "execute_result"
    }
   ],
   "source": [
    "X_train.shape\n"
   ]
  },
  {
   "cell_type": "code",
   "execution_count": 17,
   "id": "64d867fe",
   "metadata": {},
   "outputs": [
    {
     "data": {
      "text/plain": [
       "(1165, 89)"
      ]
     },
     "execution_count": 17,
     "metadata": {},
     "output_type": "execute_result"
    }
   ],
   "source": [
    "X_test.shape"
   ]
  },
  {
   "cell_type": "code",
   "execution_count": 18,
   "id": "eea1c37e",
   "metadata": {},
   "outputs": [
    {
     "data": {
      "text/plain": [
       "(1165,)"
      ]
     },
     "execution_count": 18,
     "metadata": {},
     "output_type": "execute_result"
    }
   ],
   "source": [
    "y_test.shape"
   ]
  },
  {
   "cell_type": "code",
   "execution_count": 28,
   "id": "a32c8cc5",
   "metadata": {},
   "outputs": [
    {
     "name": "stdout",
     "output_type": "stream",
     "text": [
      "LogisticRegression : 0.5399141630901287\n",
      "ExtraTreesClassifier : 0.5493562231759657\n",
      "DecisionTree : 0.4206008583690987\n",
      "RandomForest : 0.5690987124463519\n",
      "Naive Bayes : 0.4592274678111588\n",
      "KNeighbours : 0.5167381974248927\n",
      "SVM : 0.5699570815450644\n",
      "AdaBoostClassifier : 0.44892703862660943\n",
      "GradientBoostingClassifier:  0.5510729613733906\n",
      "XGB : 0.5587982832618026\n",
      "CatBoost : 0.5854077253218885\n",
      "MLP:  0.5467811158798284\n"
     ]
    }
   ],
   "source": [
    "classifiers = [\n",
    "               ['LogisticRegression :', LogisticRegression(max_iter = 1000)],\n",
    "               ['ExtraTreesClassifier :', ExtraTreesClassifier()],\n",
    "               ['DecisionTree :',DecisionTreeClassifier()],\n",
    "               ['RandomForest :',RandomForestClassifier()], \n",
    "               ['Naive Bayes :', GaussianNB()],\n",
    "               ['KNeighbours :', KNeighborsClassifier()],\n",
    "               ['SVM :', SVC()],\n",
    "               ['AdaBoostClassifier :', AdaBoostClassifier()],\n",
    "               ['GradientBoostingClassifier: ', GradientBoostingClassifier()],\n",
    "               ['XGB :', XGBClassifier()],\n",
    "               ['CatBoost :', CatBoostClassifier(logging_level='Silent')],\n",
    "               ['MLP: ', MLPClassifier(max_iter=500)],\n",
    "            ]\n",
    "\n",
    "for name,classifier in classifiers:\n",
    "    classifier = classifier\n",
    "    classifier.fit(X_train, y_train.ravel())\n",
    "    predictions = classifier.predict(X_test)\n",
    "    print(name, accuracy_score(y_test, predictions))"
   ]
  },
  {
   "cell_type": "code",
   "execution_count": 30,
   "id": "f6fe0d71",
   "metadata": {},
   "outputs": [
    {
     "data": {
      "text/plain": [
       "0                       tempo\n",
       "1                  beats_mean\n",
       "2                   beats_var\n",
       "3         zero_crossings_mean\n",
       "4          zero_crossings_var\n",
       "5     spectral_centroids_mean\n",
       "6      spectral_centroids_var\n",
       "7       spectral_rolloff_mean\n",
       "8        spectral_rolloff_var\n",
       "9                 mfcc_1_mean\n",
       "10                 mfcc_1_var\n",
       "11                mfcc_2_mean\n",
       "12                 mfcc_2_var\n",
       "13                mfcc_3_mean\n",
       "14                 mfcc_3_var\n",
       "15                mfcc_4_mean\n",
       "16                 mfcc_4_var\n",
       "17                mfcc_5_mean\n",
       "18                 mfcc_5_var\n",
       "19                mfcc_6_mean\n",
       "Name: feature, dtype: object"
      ]
     },
     "execution_count": 30,
     "metadata": {},
     "output_type": "execute_result"
    }
   ],
   "source": [
    "clf1 = LogisticRegression(max_iter = 1000)\n",
    "clf2 = KNeighborsClassifier()\n",
    "clf3 = SVC(probability=True)\n",
    "eclf1 = VotingClassifier(estimators=[('logistic', clf1), ('KNN', clf2), ('SVC', clf3)], voting='soft')\n",
    "model = eclf1.fit(X_train, y_train) # Fit model\n",
    "\n",
    "permutation_score = permutation_importance(model, X_train, y_train, n_repeats=100) # Perform Permutation\n",
    "\n",
    "importance_df = pd.DataFrame(np.vstack((X_train.columns,\n",
    "                                        permutation_score.importances_mean)).T) # Unstack results\n",
    "\n",
    "importance_df.columns=['feature','feature importance'] # Change column names\n",
    "\n",
    "importance_df.sort_values(by=\"feature importance\", ascending = False) # Order by importance\n",
    "\n",
    "best_feature = importance_df.feature[0:20]\n",
    "best_feature "
   ]
  },
  {
   "cell_type": "code",
   "execution_count": null,
   "id": "0ab3b891",
   "metadata": {},
   "outputs": [],
   "source": []
  }
 ],
 "metadata": {
  "kernelspec": {
   "display_name": "Python 3 (ipykernel)",
   "language": "python",
   "name": "python3"
  },
  "language_info": {
   "codemirror_mode": {
    "name": "ipython",
    "version": 3
   },
   "file_extension": ".py",
   "mimetype": "text/x-python",
   "name": "python",
   "nbconvert_exporter": "python",
   "pygments_lexer": "ipython3",
   "version": "3.8.12"
  },
  "toc": {
   "base_numbering": 1,
   "nav_menu": {},
   "number_sections": true,
   "sideBar": true,
   "skip_h1_title": false,
   "title_cell": "Table of Contents",
   "title_sidebar": "Contents",
   "toc_cell": false,
   "toc_position": {},
   "toc_section_display": true,
   "toc_window_display": false
  }
 },
 "nbformat": 4,
 "nbformat_minor": 5
}
