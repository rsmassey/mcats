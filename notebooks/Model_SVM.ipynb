{
 "cells": [
  {
   "cell_type": "code",
   "execution_count": 13,
   "id": "5ed0289e-61c5-4a20-8621-896c276e76f5",
   "metadata": {},
   "outputs": [],
   "source": [
    "import pandas as pd\n",
    "from sklearn.model_selection import train_test_split\n",
    "import librosa"
   ]
  },
  {
   "cell_type": "code",
   "execution_count": 2,
   "id": "8eabe427-8f7d-4f2f-8cfc-96df1f9c485a",
   "metadata": {},
   "outputs": [],
   "source": [
    "df = pd.read_csv('normalized_data.csv')"
   ]
  },
  {
   "cell_type": "code",
   "execution_count": 3,
   "id": "74f245c3-a262-4db1-a272-46036be6d4b9",
   "metadata": {},
   "outputs": [],
   "source": [
    "X = df.drop(columns=['Unnamed: 0', 'genre'])"
   ]
  },
  {
   "cell_type": "code",
   "execution_count": 7,
   "id": "65683230-7ecc-404b-b4f4-ee8b535a5cba",
   "metadata": {},
   "outputs": [],
   "source": [
    "y = df['genre']"
   ]
  },
  {
   "cell_type": "code",
   "execution_count": 8,
   "id": "437afc7e-0c93-478f-8502-01e7bac718eb",
   "metadata": {},
   "outputs": [],
   "source": [
    "X_train, X_test, y_train, y_test = train_test_split(X, y, test_size=0.3, random_state=42)"
   ]
  },
  {
   "cell_type": "code",
   "execution_count": 10,
   "id": "3271619d-57bf-4e9e-b002-acc90be90efd",
   "metadata": {},
   "outputs": [
    {
     "name": "stdout",
     "output_type": "stream",
     "text": [
      "Accuracy: 0.73\n"
     ]
    }
   ],
   "source": [
    "from sklearn import svm\n",
    "\n",
    "# Train an SVM model\n",
    "clf = svm.SVC(kernel='linear', C=0.2)\n",
    "clf.fit(X_train, y_train)\n",
    "\n",
    "# Evaluate the model on the test data\n",
    "accuracy = clf.score(X_test, y_test)\n",
    "print(\"Accuracy:\", accuracy)"
   ]
  },
  {
   "cell_type": "code",
   "execution_count": 16,
   "id": "abb7f906-de43-405b-8997-3a942ffbf32a",
   "metadata": {},
   "outputs": [],
   "source": [
    "def normalize_volume(file_path):\n",
    "    y, sr = librosa.load(file_path)\n",
    "    y_norm = librosa.util.normalize(y, axis=0)\n",
    "    return y_norm, sr"
   ]
  },
  {
   "cell_type": "code",
   "execution_count": 24,
   "id": "b29fe73b-9e72-4b0e-afa5-232ff415c522",
   "metadata": {},
   "outputs": [],
   "source": [
    "def extract_features(y_norm, sr):\n",
    "\n",
    "    features = []\n",
    "\n",
    "    # Tempo and beats\n",
    "    tempo, beats = librosa.beat.beat_track(y=y_norm, sr=sr)\n",
    "    beats_mean = beats.mean()\n",
    "    beats_var = beats.var()\n",
    "    features.extend((tempo, beats_mean, beats_var))\n",
    "\n",
    "    # Zero crossings\n",
    "    zero_crossings = librosa.zero_crossings(y=y_norm, pad=False)\n",
    "    zero_crossings_mean = zero_crossings.mean()\n",
    "    zero_crossings_var = zero_crossings.var()\n",
    "    features.extend((zero_crossings_mean, zero_crossings_var))\n",
    "\n",
    "    # Spectral centroid\n",
    "    spectral_centroids = librosa.feature.spectral_centroid(y=y_norm, sr=sr)[0]\n",
    "    spectral_centroids_mean = spectral_centroids.mean()\n",
    "    spectral_centroids_var = spectral_centroids.var()\n",
    "    features.extend((spectral_centroids_mean,spectral_centroids_var))\n",
    "\n",
    "    # Specral Rolloff\n",
    "    spectral_rolloff = librosa.feature.spectral_rolloff(y=y_norm, sr=sr)[0]\n",
    "    spectral_rolloff_mean = spectral_rolloff.mean()\n",
    "    spectral_rolloff_var = spectral_rolloff.var()\n",
    "    features.extend((spectral_rolloff_mean, spectral_rolloff_var))\n",
    "\n",
    "    # MFCCs\n",
    "    mfccs = librosa.feature.mfcc(y=y_norm, sr=sr, n_mfcc=40)\n",
    "    for mfcc in mfccs:\n",
    "        features.append(mfcc.mean())\n",
    "        features.append(mfcc.var())\n",
    "\n",
    "    return features"
   ]
  },
  {
   "cell_type": "code",
   "execution_count": 19,
   "id": "e6ff33ff-c3c4-4453-b84a-b91981db9d21",
   "metadata": {},
   "outputs": [],
   "source": [
    "y_new, sr = normalize_volume('song_input.wav')"
   ]
  },
  {
   "cell_type": "code",
   "execution_count": 26,
   "id": "890569a1-5e76-41e6-8c3c-166b2372d2d3",
   "metadata": {},
   "outputs": [],
   "source": [
    "y_new_features = extract_features(y_new, sr)"
   ]
  },
  {
   "cell_type": "code",
   "execution_count": 28,
   "id": "64b71db8-b1e2-463c-aa85-15ac2038c5f0",
   "metadata": {},
   "outputs": [],
   "source": [
    "y_new_features = pd.DataFrame(y_new_features)"
   ]
  },
  {
   "cell_type": "code",
   "execution_count": 30,
   "id": "d627b3d9-57c6-4f69-bd98-af8d09226624",
   "metadata": {},
   "outputs": [
    {
     "data": {
      "text/html": [
       "<div>\n",
       "<style scoped>\n",
       "    .dataframe tbody tr th:only-of-type {\n",
       "        vertical-align: middle;\n",
       "    }\n",
       "\n",
       "    .dataframe tbody tr th {\n",
       "        vertical-align: top;\n",
       "    }\n",
       "\n",
       "    .dataframe thead th {\n",
       "        text-align: right;\n",
       "    }\n",
       "</style>\n",
       "<table border=\"1\" class=\"dataframe\">\n",
       "  <thead>\n",
       "    <tr style=\"text-align: right;\">\n",
       "      <th></th>\n",
       "      <th>0</th>\n",
       "    </tr>\n",
       "  </thead>\n",
       "  <tbody>\n",
       "    <tr>\n",
       "      <th>0</th>\n",
       "      <td>1.359992e+02</td>\n",
       "    </tr>\n",
       "    <tr>\n",
       "      <th>1</th>\n",
       "      <td>2.383744e+03</td>\n",
       "    </tr>\n",
       "    <tr>\n",
       "      <th>2</th>\n",
       "      <td>1.745494e+06</td>\n",
       "    </tr>\n",
       "    <tr>\n",
       "      <th>3</th>\n",
       "      <td>1.963157e-02</td>\n",
       "    </tr>\n",
       "    <tr>\n",
       "      <th>4</th>\n",
       "      <td>1.924617e-02</td>\n",
       "    </tr>\n",
       "    <tr>\n",
       "      <th>...</th>\n",
       "      <td>...</td>\n",
       "    </tr>\n",
       "    <tr>\n",
       "      <th>84</th>\n",
       "      <td>2.071960e+02</td>\n",
       "    </tr>\n",
       "    <tr>\n",
       "      <th>85</th>\n",
       "      <td>6.379077e-01</td>\n",
       "    </tr>\n",
       "    <tr>\n",
       "      <th>86</th>\n",
       "      <td>1.277039e+02</td>\n",
       "    </tr>\n",
       "    <tr>\n",
       "      <th>87</th>\n",
       "      <td>-2.132262e+00</td>\n",
       "    </tr>\n",
       "    <tr>\n",
       "      <th>88</th>\n",
       "      <td>7.145184e+01</td>\n",
       "    </tr>\n",
       "  </tbody>\n",
       "</table>\n",
       "<p>89 rows × 1 columns</p>\n",
       "</div>"
      ],
      "text/plain": [
       "               0\n",
       "0   1.359992e+02\n",
       "1   2.383744e+03\n",
       "2   1.745494e+06\n",
       "3   1.963157e-02\n",
       "4   1.924617e-02\n",
       "..           ...\n",
       "84  2.071960e+02\n",
       "85  6.379077e-01\n",
       "86  1.277039e+02\n",
       "87 -2.132262e+00\n",
       "88  7.145184e+01\n",
       "\n",
       "[89 rows x 1 columns]"
      ]
     },
     "execution_count": 30,
     "metadata": {},
     "output_type": "execute_result"
    }
   ],
   "source": [
    "y_new_features"
   ]
  },
  {
   "cell_type": "code",
   "execution_count": 31,
   "id": "fef6cb05-c06b-418d-a63e-e756cf82cba2",
   "metadata": {},
   "outputs": [
    {
     "name": "stderr",
     "output_type": "stream",
     "text": [
      "/home/rsmassey/.pyenv/versions/3.8.12/envs/lewagon/lib/python3.8/site-packages/sklearn/base.py:450: UserWarning: X does not have valid feature names, but SVC was fitted with feature names\n",
      "  warnings.warn(\n"
     ]
    },
    {
     "data": {
      "text/plain": [
       "array([8])"
      ]
     },
     "execution_count": 31,
     "metadata": {},
     "output_type": "execute_result"
    }
   ],
   "source": [
    "clf.predict(y_new_features.T)"
   ]
  },
  {
   "cell_type": "code",
   "execution_count": null,
   "id": "7b6644c1-c61d-448d-a3cd-d2a7695d4e1b",
   "metadata": {},
   "outputs": [],
   "source": []
  }
 ],
 "metadata": {
  "kernelspec": {
   "display_name": "Python 3 (ipykernel)",
   "language": "python",
   "name": "python3"
  },
  "language_info": {
   "codemirror_mode": {
    "name": "ipython",
    "version": 3
   },
   "file_extension": ".py",
   "mimetype": "text/x-python",
   "name": "python",
   "nbconvert_exporter": "python",
   "pygments_lexer": "ipython3",
   "version": "3.8.12"
  }
 },
 "nbformat": 4,
 "nbformat_minor": 5
}
