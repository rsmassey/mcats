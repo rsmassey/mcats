{
 "cells": [
  {
   "cell_type": "code",
   "execution_count": 1,
   "id": "5ed0289e-61c5-4a20-8621-896c276e76f5",
   "metadata": {},
   "outputs": [],
   "source": [
    "import pandas as pd\n",
    "from sklearn.model_selection import train_test_split\n",
    "import librosa\n",
    "import numpy as np"
   ]
  },
  {
   "cell_type": "code",
   "execution_count": 2,
   "id": "2f8a12b4-4652-47a5-926b-45ef74232bb9",
   "metadata": {},
   "outputs": [
    {
     "data": {
      "text/html": [
       "<div>\n",
       "<style scoped>\n",
       "    .dataframe tbody tr th:only-of-type {\n",
       "        vertical-align: middle;\n",
       "    }\n",
       "\n",
       "    .dataframe tbody tr th {\n",
       "        vertical-align: top;\n",
       "    }\n",
       "\n",
       "    .dataframe thead th {\n",
       "        text-align: right;\n",
       "    }\n",
       "</style>\n",
       "<table border=\"1\" class=\"dataframe\">\n",
       "  <thead>\n",
       "    <tr style=\"text-align: right;\">\n",
       "      <th></th>\n",
       "      <th>Unnamed: 0</th>\n",
       "      <th>tempo</th>\n",
       "      <th>beats_mean</th>\n",
       "      <th>beats_var</th>\n",
       "      <th>zero_crossings_mean</th>\n",
       "      <th>zero_crossings_var</th>\n",
       "      <th>spectral_centroids_mean</th>\n",
       "      <th>spectral_centroids_var</th>\n",
       "      <th>spectral_rolloff_mean</th>\n",
       "      <th>spectral_rolloff_var</th>\n",
       "      <th>...</th>\n",
       "      <th>mfcc_36_var</th>\n",
       "      <th>mfcc_37_mean</th>\n",
       "      <th>mfcc_37_var</th>\n",
       "      <th>mfcc_38_mean</th>\n",
       "      <th>mfcc_38_var</th>\n",
       "      <th>mfcc_39_mean</th>\n",
       "      <th>mfcc_39_var</th>\n",
       "      <th>mfcc_40_mean</th>\n",
       "      <th>mfcc_40_var</th>\n",
       "      <th>genre</th>\n",
       "    </tr>\n",
       "  </thead>\n",
       "  <tbody>\n",
       "    <tr>\n",
       "      <th>0</th>\n",
       "      <td>hiphop.00023.wav</td>\n",
       "      <td>92.285156</td>\n",
       "      <td>615.644444</td>\n",
       "      <td>127869.962469</td>\n",
       "      <td>0.106795</td>\n",
       "      <td>0.095389</td>\n",
       "      <td>2240.289987</td>\n",
       "      <td>2.507330e+05</td>\n",
       "      <td>4728.444932</td>\n",
       "      <td>9.157069e+05</td>\n",
       "      <td>...</td>\n",
       "      <td>47.585796</td>\n",
       "      <td>1.154457</td>\n",
       "      <td>50.316574</td>\n",
       "      <td>-1.381446</td>\n",
       "      <td>23.372005</td>\n",
       "      <td>1.305299</td>\n",
       "      <td>36.742570</td>\n",
       "      <td>0.337945</td>\n",
       "      <td>71.727540</td>\n",
       "      <td>0</td>\n",
       "    </tr>\n",
       "    <tr>\n",
       "      <th>1</th>\n",
       "      <td>hiphop.00005.wav</td>\n",
       "      <td>71.777344</td>\n",
       "      <td>620.352941</td>\n",
       "      <td>128424.110727</td>\n",
       "      <td>0.124813</td>\n",
       "      <td>0.109234</td>\n",
       "      <td>2709.171522</td>\n",
       "      <td>2.480529e+05</td>\n",
       "      <td>5794.946346</td>\n",
       "      <td>4.929356e+05</td>\n",
       "      <td>...</td>\n",
       "      <td>27.654715</td>\n",
       "      <td>-2.486334</td>\n",
       "      <td>21.648327</td>\n",
       "      <td>-3.563625</td>\n",
       "      <td>24.654837</td>\n",
       "      <td>0.979186</td>\n",
       "      <td>25.516537</td>\n",
       "      <td>-1.214071</td>\n",
       "      <td>20.588590</td>\n",
       "      <td>0</td>\n",
       "    </tr>\n",
       "    <tr>\n",
       "      <th>2</th>\n",
       "      <td>hiphop.00038.wav</td>\n",
       "      <td>184.570312</td>\n",
       "      <td>696.183908</td>\n",
       "      <td>125604.012155</td>\n",
       "      <td>0.097494</td>\n",
       "      <td>0.087989</td>\n",
       "      <td>2208.657920</td>\n",
       "      <td>7.392277e+05</td>\n",
       "      <td>4416.680187</td>\n",
       "      <td>3.317985e+06</td>\n",
       "      <td>...</td>\n",
       "      <td>55.536156</td>\n",
       "      <td>2.605921</td>\n",
       "      <td>40.015804</td>\n",
       "      <td>0.314736</td>\n",
       "      <td>37.543396</td>\n",
       "      <td>-1.903816</td>\n",
       "      <td>69.482570</td>\n",
       "      <td>-1.689978</td>\n",
       "      <td>56.672527</td>\n",
       "      <td>0</td>\n",
       "    </tr>\n",
       "    <tr>\n",
       "      <th>3</th>\n",
       "      <td>hiphop.00089.wav</td>\n",
       "      <td>123.046875</td>\n",
       "      <td>629.274194</td>\n",
       "      <td>134176.682882</td>\n",
       "      <td>0.117709</td>\n",
       "      <td>0.103853</td>\n",
       "      <td>2669.947537</td>\n",
       "      <td>3.381432e+05</td>\n",
       "      <td>5526.430800</td>\n",
       "      <td>9.360238e+05</td>\n",
       "      <td>...</td>\n",
       "      <td>27.342222</td>\n",
       "      <td>2.616406</td>\n",
       "      <td>26.674131</td>\n",
       "      <td>3.882169</td>\n",
       "      <td>31.033888</td>\n",
       "      <td>0.000797</td>\n",
       "      <td>29.586660</td>\n",
       "      <td>-3.057104</td>\n",
       "      <td>27.250423</td>\n",
       "      <td>0</td>\n",
       "    </tr>\n",
       "    <tr>\n",
       "      <th>4</th>\n",
       "      <td>hiphop.00011.wav</td>\n",
       "      <td>135.999178</td>\n",
       "      <td>626.742424</td>\n",
       "      <td>131923.494261</td>\n",
       "      <td>0.094250</td>\n",
       "      <td>0.085367</td>\n",
       "      <td>2095.493684</td>\n",
       "      <td>4.303503e+05</td>\n",
       "      <td>4581.942544</td>\n",
       "      <td>1.717747e+06</td>\n",
       "      <td>...</td>\n",
       "      <td>22.264261</td>\n",
       "      <td>-1.381398</td>\n",
       "      <td>29.754260</td>\n",
       "      <td>-3.853168</td>\n",
       "      <td>43.618480</td>\n",
       "      <td>-1.329632</td>\n",
       "      <td>43.874313</td>\n",
       "      <td>-1.523081</td>\n",
       "      <td>44.711205</td>\n",
       "      <td>0</td>\n",
       "    </tr>\n",
       "    <tr>\n",
       "      <th>...</th>\n",
       "      <td>...</td>\n",
       "      <td>...</td>\n",
       "      <td>...</td>\n",
       "      <td>...</td>\n",
       "      <td>...</td>\n",
       "      <td>...</td>\n",
       "      <td>...</td>\n",
       "      <td>...</td>\n",
       "      <td>...</td>\n",
       "      <td>...</td>\n",
       "      <td>...</td>\n",
       "      <td>...</td>\n",
       "      <td>...</td>\n",
       "      <td>...</td>\n",
       "      <td>...</td>\n",
       "      <td>...</td>\n",
       "      <td>...</td>\n",
       "      <td>...</td>\n",
       "      <td>...</td>\n",
       "      <td>...</td>\n",
       "      <td>...</td>\n",
       "    </tr>\n",
       "    <tr>\n",
       "      <th>994</th>\n",
       "      <td>reggae.00077.wav</td>\n",
       "      <td>143.554688</td>\n",
       "      <td>631.126761</td>\n",
       "      <td>127756.814918</td>\n",
       "      <td>0.060978</td>\n",
       "      <td>0.057259</td>\n",
       "      <td>1778.172234</td>\n",
       "      <td>3.300590e+05</td>\n",
       "      <td>3821.785501</td>\n",
       "      <td>1.442120e+06</td>\n",
       "      <td>...</td>\n",
       "      <td>47.298325</td>\n",
       "      <td>-0.170242</td>\n",
       "      <td>25.619661</td>\n",
       "      <td>-0.525215</td>\n",
       "      <td>28.561947</td>\n",
       "      <td>-1.983141</td>\n",
       "      <td>33.000610</td>\n",
       "      <td>-3.230880</td>\n",
       "      <td>27.734670</td>\n",
       "      <td>9</td>\n",
       "    </tr>\n",
       "    <tr>\n",
       "      <th>995</th>\n",
       "      <td>reggae.00088.wav</td>\n",
       "      <td>107.666016</td>\n",
       "      <td>642.000000</td>\n",
       "      <td>133582.264151</td>\n",
       "      <td>0.189495</td>\n",
       "      <td>0.153587</td>\n",
       "      <td>3880.960743</td>\n",
       "      <td>4.861260e+05</td>\n",
       "      <td>8249.673214</td>\n",
       "      <td>7.519219e+05</td>\n",
       "      <td>...</td>\n",
       "      <td>21.731133</td>\n",
       "      <td>-1.073448</td>\n",
       "      <td>29.302908</td>\n",
       "      <td>-2.115449</td>\n",
       "      <td>43.037712</td>\n",
       "      <td>-2.562399</td>\n",
       "      <td>40.909020</td>\n",
       "      <td>-1.027565</td>\n",
       "      <td>76.040300</td>\n",
       "      <td>9</td>\n",
       "    </tr>\n",
       "    <tr>\n",
       "      <th>996</th>\n",
       "      <td>reggae.00061.wav</td>\n",
       "      <td>92.285156</td>\n",
       "      <td>624.244444</td>\n",
       "      <td>129301.695802</td>\n",
       "      <td>0.133775</td>\n",
       "      <td>0.115880</td>\n",
       "      <td>3123.715746</td>\n",
       "      <td>1.222962e+06</td>\n",
       "      <td>6474.566211</td>\n",
       "      <td>4.403254e+06</td>\n",
       "      <td>...</td>\n",
       "      <td>51.249687</td>\n",
       "      <td>0.210070</td>\n",
       "      <td>55.459160</td>\n",
       "      <td>-2.398417</td>\n",
       "      <td>50.192474</td>\n",
       "      <td>-1.948333</td>\n",
       "      <td>65.469580</td>\n",
       "      <td>-1.779201</td>\n",
       "      <td>110.525980</td>\n",
       "      <td>9</td>\n",
       "    </tr>\n",
       "    <tr>\n",
       "      <th>997</th>\n",
       "      <td>reggae.00009.wav</td>\n",
       "      <td>161.499023</td>\n",
       "      <td>627.828947</td>\n",
       "      <td>129036.799688</td>\n",
       "      <td>0.060649</td>\n",
       "      <td>0.056971</td>\n",
       "      <td>1609.837286</td>\n",
       "      <td>1.052387e+06</td>\n",
       "      <td>3270.931858</td>\n",
       "      <td>4.916736e+06</td>\n",
       "      <td>...</td>\n",
       "      <td>36.730537</td>\n",
       "      <td>-1.229882</td>\n",
       "      <td>42.058662</td>\n",
       "      <td>0.953682</td>\n",
       "      <td>45.284046</td>\n",
       "      <td>-1.704754</td>\n",
       "      <td>38.796140</td>\n",
       "      <td>-2.359887</td>\n",
       "      <td>60.576107</td>\n",
       "      <td>9</td>\n",
       "    </tr>\n",
       "    <tr>\n",
       "      <th>998</th>\n",
       "      <td>reggae.00036.wav</td>\n",
       "      <td>86.132812</td>\n",
       "      <td>622.785714</td>\n",
       "      <td>130927.930272</td>\n",
       "      <td>0.059281</td>\n",
       "      <td>0.055767</td>\n",
       "      <td>1811.157901</td>\n",
       "      <td>6.541610e+05</td>\n",
       "      <td>4119.003657</td>\n",
       "      <td>2.870172e+06</td>\n",
       "      <td>...</td>\n",
       "      <td>39.912502</td>\n",
       "      <td>0.419523</td>\n",
       "      <td>48.548470</td>\n",
       "      <td>2.504131</td>\n",
       "      <td>46.845314</td>\n",
       "      <td>1.588610</td>\n",
       "      <td>27.411304</td>\n",
       "      <td>-3.924355</td>\n",
       "      <td>46.218277</td>\n",
       "      <td>9</td>\n",
       "    </tr>\n",
       "  </tbody>\n",
       "</table>\n",
       "<p>999 rows × 91 columns</p>\n",
       "</div>"
      ],
      "text/plain": [
       "           Unnamed: 0       tempo  beats_mean      beats_var  \\\n",
       "0    hiphop.00023.wav   92.285156  615.644444  127869.962469   \n",
       "1    hiphop.00005.wav   71.777344  620.352941  128424.110727   \n",
       "2    hiphop.00038.wav  184.570312  696.183908  125604.012155   \n",
       "3    hiphop.00089.wav  123.046875  629.274194  134176.682882   \n",
       "4    hiphop.00011.wav  135.999178  626.742424  131923.494261   \n",
       "..                ...         ...         ...            ...   \n",
       "994  reggae.00077.wav  143.554688  631.126761  127756.814918   \n",
       "995  reggae.00088.wav  107.666016  642.000000  133582.264151   \n",
       "996  reggae.00061.wav   92.285156  624.244444  129301.695802   \n",
       "997  reggae.00009.wav  161.499023  627.828947  129036.799688   \n",
       "998  reggae.00036.wav   86.132812  622.785714  130927.930272   \n",
       "\n",
       "     zero_crossings_mean  zero_crossings_var  spectral_centroids_mean  \\\n",
       "0               0.106795            0.095389              2240.289987   \n",
       "1               0.124813            0.109234              2709.171522   \n",
       "2               0.097494            0.087989              2208.657920   \n",
       "3               0.117709            0.103853              2669.947537   \n",
       "4               0.094250            0.085367              2095.493684   \n",
       "..                   ...                 ...                      ...   \n",
       "994             0.060978            0.057259              1778.172234   \n",
       "995             0.189495            0.153587              3880.960743   \n",
       "996             0.133775            0.115880              3123.715746   \n",
       "997             0.060649            0.056971              1609.837286   \n",
       "998             0.059281            0.055767              1811.157901   \n",
       "\n",
       "     spectral_centroids_var  spectral_rolloff_mean  spectral_rolloff_var  ...  \\\n",
       "0              2.507330e+05            4728.444932          9.157069e+05  ...   \n",
       "1              2.480529e+05            5794.946346          4.929356e+05  ...   \n",
       "2              7.392277e+05            4416.680187          3.317985e+06  ...   \n",
       "3              3.381432e+05            5526.430800          9.360238e+05  ...   \n",
       "4              4.303503e+05            4581.942544          1.717747e+06  ...   \n",
       "..                      ...                    ...                   ...  ...   \n",
       "994            3.300590e+05            3821.785501          1.442120e+06  ...   \n",
       "995            4.861260e+05            8249.673214          7.519219e+05  ...   \n",
       "996            1.222962e+06            6474.566211          4.403254e+06  ...   \n",
       "997            1.052387e+06            3270.931858          4.916736e+06  ...   \n",
       "998            6.541610e+05            4119.003657          2.870172e+06  ...   \n",
       "\n",
       "     mfcc_36_var  mfcc_37_mean  mfcc_37_var  mfcc_38_mean  mfcc_38_var  \\\n",
       "0      47.585796      1.154457    50.316574     -1.381446    23.372005   \n",
       "1      27.654715     -2.486334    21.648327     -3.563625    24.654837   \n",
       "2      55.536156      2.605921    40.015804      0.314736    37.543396   \n",
       "3      27.342222      2.616406    26.674131      3.882169    31.033888   \n",
       "4      22.264261     -1.381398    29.754260     -3.853168    43.618480   \n",
       "..           ...           ...          ...           ...          ...   \n",
       "994    47.298325     -0.170242    25.619661     -0.525215    28.561947   \n",
       "995    21.731133     -1.073448    29.302908     -2.115449    43.037712   \n",
       "996    51.249687      0.210070    55.459160     -2.398417    50.192474   \n",
       "997    36.730537     -1.229882    42.058662      0.953682    45.284046   \n",
       "998    39.912502      0.419523    48.548470      2.504131    46.845314   \n",
       "\n",
       "     mfcc_39_mean  mfcc_39_var  mfcc_40_mean  mfcc_40_var  genre  \n",
       "0        1.305299    36.742570      0.337945    71.727540      0  \n",
       "1        0.979186    25.516537     -1.214071    20.588590      0  \n",
       "2       -1.903816    69.482570     -1.689978    56.672527      0  \n",
       "3        0.000797    29.586660     -3.057104    27.250423      0  \n",
       "4       -1.329632    43.874313     -1.523081    44.711205      0  \n",
       "..            ...          ...           ...          ...    ...  \n",
       "994     -1.983141    33.000610     -3.230880    27.734670      9  \n",
       "995     -2.562399    40.909020     -1.027565    76.040300      9  \n",
       "996     -1.948333    65.469580     -1.779201   110.525980      9  \n",
       "997     -1.704754    38.796140     -2.359887    60.576107      9  \n",
       "998      1.588610    27.411304     -3.924355    46.218277      9  \n",
       "\n",
       "[999 rows x 91 columns]"
      ]
     },
     "execution_count": 2,
     "metadata": {},
     "output_type": "execute_result"
    }
   ],
   "source": [
    "unscaled = pd.read_csv('data.csv')\n",
    "unscaled"
   ]
  },
  {
   "cell_type": "code",
   "execution_count": 3,
   "id": "8eabe427-8f7d-4f2f-8cfc-96df1f9c485a",
   "metadata": {},
   "outputs": [],
   "source": [
    "df = pd.read_csv('normalized_data.csv')"
   ]
  },
  {
   "cell_type": "code",
   "execution_count": 4,
   "id": "74f245c3-a262-4db1-a272-46036be6d4b9",
   "metadata": {},
   "outputs": [],
   "source": [
    "X = df.drop(columns=['Unnamed: 0', 'genre'])"
   ]
  },
  {
   "cell_type": "code",
   "execution_count": 5,
   "id": "65683230-7ecc-404b-b4f4-ee8b535a5cba",
   "metadata": {},
   "outputs": [],
   "source": [
    "y = df['genre']"
   ]
  },
  {
   "cell_type": "code",
   "execution_count": 6,
   "id": "437afc7e-0c93-478f-8502-01e7bac718eb",
   "metadata": {},
   "outputs": [],
   "source": [
    "X_train, X_test, y_train, y_test = train_test_split(X, y, test_size=0.3, random_state=42)"
   ]
  },
  {
   "cell_type": "code",
   "execution_count": 7,
   "id": "3271619d-57bf-4e9e-b002-acc90be90efd",
   "metadata": {},
   "outputs": [
    {
     "name": "stdout",
     "output_type": "stream",
     "text": [
      "Accuracy: 0.73\n"
     ]
    }
   ],
   "source": [
    "from sklearn import svm\n",
    "\n",
    "# Train an SVM model\n",
    "clf = svm.SVC(kernel='linear', C=0.2)\n",
    "clf.fit(X_train, y_train)\n",
    "\n",
    "# Evaluate the model on the test data\n",
    "accuracy = clf.score(X_test, y_test)\n",
    "print(\"Accuracy:\", accuracy)"
   ]
  },
  {
   "cell_type": "code",
   "execution_count": 8,
   "id": "626f03e5-6023-46e0-8b33-e7a50d8309dd",
   "metadata": {},
   "outputs": [],
   "source": [
    "def split_audio(y_norm, sr):\n",
    "    n_samples = int(30 * sr)  # Number of samples in 30 seconds\n",
    "    n_channels = y_norm.shape[0]  # Number of channels in the audio\n",
    "    pieces = []\n",
    "\n",
    "    for i in range(0, len(y_norm), n_samples * n_channels):\n",
    "        piece = y_norm[i:i + n_samples * n_channels]\n",
    "        pieces.append(piece)\n",
    "        \n",
    "    return pieces, sr"
   ]
  },
  {
   "cell_type": "code",
   "execution_count": 9,
   "id": "abb7f906-de43-405b-8997-3a942ffbf32a",
   "metadata": {},
   "outputs": [],
   "source": [
    "def normalize_volume(file_path):\n",
    "    y, sr = librosa.load(file_path)\n",
    "    y_norm = librosa.util.normalize(y, axis=0)\n",
    "    return y_norm, sr"
   ]
  },
  {
   "cell_type": "code",
   "execution_count": 10,
   "id": "b29fe73b-9e72-4b0e-afa5-232ff415c522",
   "metadata": {},
   "outputs": [],
   "source": [
    "def extract_features(y_norm, sr):\n",
    "\n",
    "    features = []\n",
    "\n",
    "    # Tempo and beats\n",
    "    tempo, beats = librosa.beat.beat_track(y=y_norm, sr=sr)\n",
    "    beats_mean = beats.mean()\n",
    "    beats_var = beats.var()\n",
    "    features.extend((tempo, beats_mean, beats_var))\n",
    "\n",
    "    # Zero crossings\n",
    "    zero_crossings = librosa.zero_crossings(y=y_norm, pad=False)\n",
    "    zero_crossings_mean = zero_crossings.mean()\n",
    "    zero_crossings_var = zero_crossings.var()\n",
    "    features.extend((zero_crossings_mean, zero_crossings_var))\n",
    "\n",
    "    # Spectral centroid\n",
    "    spectral_centroids = librosa.feature.spectral_centroid(y=y_norm, sr=sr)[0]\n",
    "    spectral_centroids_mean = spectral_centroids.mean()\n",
    "    spectral_centroids_var = spectral_centroids.var()\n",
    "    features.extend((spectral_centroids_mean,spectral_centroids_var))\n",
    "\n",
    "    # Specral Rolloff\n",
    "    spectral_rolloff = librosa.feature.spectral_rolloff(y=y_norm, sr=sr)[0]\n",
    "    spectral_rolloff_mean = spectral_rolloff.mean()\n",
    "    spectral_rolloff_var = spectral_rolloff.var()\n",
    "    features.extend((spectral_rolloff_mean, spectral_rolloff_var))\n",
    "\n",
    "    # MFCCs\n",
    "    mfccs = librosa.feature.mfcc(y=y_norm, sr=sr, n_mfcc=40)\n",
    "    for mfcc in mfccs:\n",
    "        features.append(mfcc.mean())\n",
    "        features.append(mfcc.var())\n",
    "\n",
    "    return features"
   ]
  },
  {
   "cell_type": "code",
   "execution_count": 11,
   "id": "bbe4f9f7-02ec-4639-99e5-bbe056b72da8",
   "metadata": {},
   "outputs": [],
   "source": [
    "def predict_genre(file_path):\n",
    "    predictions = []\n",
    "    y_new, sr = normalize_volume(file_path)\n",
    "    pieces = np.array(split_audio(y_new, sr))\n",
    "    for piece in pieces:\n",
    "        piece_features = extract_features(piece, sr)\n",
    "        piece_features = pd.DataFrame(piece_features)\n",
    "        predictions.append(clf.predict(piece_features.T))\n",
    "    return predictions"
   ]
  },
  {
   "cell_type": "code",
   "execution_count": 12,
   "id": "e6ff33ff-c3c4-4453-b84a-b91981db9d21",
   "metadata": {},
   "outputs": [],
   "source": [
    "y_new, sr = normalize_volume('Slipknot - Psychosocial [OFFICIAL VIDEO] [HD].wav')"
   ]
  },
  {
   "cell_type": "code",
   "execution_count": 13,
   "id": "b51bfb9b-eead-487e-ad17-c82eada51bac",
   "metadata": {},
   "outputs": [],
   "source": [
    "y_new_clip = y_new[30 * sr: 30 * sr *2]"
   ]
  },
  {
   "cell_type": "code",
   "execution_count": 14,
   "id": "3a6406e9-0783-431d-8094-97e5f3017d8a",
   "metadata": {},
   "outputs": [
    {
     "data": {
      "text/plain": [
       "array([ 0.07429586,  0.10781234,  0.09167857, ..., -0.40762517,\n",
       "       -0.36363664, -0.18119341], dtype=float32)"
      ]
     },
     "execution_count": 14,
     "metadata": {},
     "output_type": "execute_result"
    }
   ],
   "source": [
    "y_new_clip"
   ]
  },
  {
   "cell_type": "code",
   "execution_count": 15,
   "id": "890569a1-5e76-41e6-8c3c-166b2372d2d3",
   "metadata": {},
   "outputs": [],
   "source": [
    "y_new_clip_features = extract_features(np.array(y_new_clip), sr)"
   ]
  },
  {
   "cell_type": "code",
   "execution_count": 16,
   "id": "e9387421-6c1c-4410-bd8f-917b8220221f",
   "metadata": {},
   "outputs": [
    {
     "data": {
      "text/plain": [
       "array([ 1.35999178e+02,  6.38348485e+02,  1.32236651e+05,  1.53939531e-01,\n",
       "        1.30242152e-01,  2.90468882e+03,  3.20752185e+05,  5.97350555e+03,\n",
       "        1.20646185e+06,  2.50628614e+00,  1.25076892e+03,  7.20101624e+01,\n",
       "        3.74355133e+02, -1.33805809e+01,  1.93212814e+02,  3.68437576e+01,\n",
       "        1.47537872e+02,  6.74254119e-01,  1.50141235e+02,  1.64846992e+01,\n",
       "        5.10680504e+01, -3.99426603e+00,  5.22837410e+01,  1.26674080e+01,\n",
       "        4.77942162e+01, -5.62663507e+00,  3.30876961e+01,  1.00120392e+01,\n",
       "        3.62085152e+01, -6.42077017e+00,  3.46047783e+01,  1.03205500e+01,\n",
       "        3.13195877e+01, -4.21915340e+00,  2.43507652e+01,  4.04138803e+00,\n",
       "        2.38231373e+01, -9.31008148e+00,  2.38516998e+01,  5.73434687e+00,\n",
       "        2.31838932e+01, -9.45936203e+00,  2.18566895e+01,  4.30589533e+00,\n",
       "        2.62099094e+01, -6.74682999e+00,  2.71604462e+01,  6.85018063e+00,\n",
       "        2.07810841e+01, -9.81876373e+00,  2.28279762e+01,  3.45144701e+00,\n",
       "        2.47978992e+01, -6.61445951e+00,  2.02831097e+01,  2.84490800e+00,\n",
       "        2.12212105e+01, -8.38231564e+00,  1.65307026e+01,  2.50684905e+00,\n",
       "        1.79867249e+01, -8.45423126e+00,  1.52944832e+01,  2.34195161e+00,\n",
       "        1.56642942e+01, -7.57074785e+00,  1.59364748e+01,  1.61362743e+00,\n",
       "        1.37389860e+01, -7.67999268e+00,  1.41487532e+01,  2.96388793e+00,\n",
       "        1.27196779e+01, -5.92500639e+00,  1.36721020e+01,  1.41957688e+00,\n",
       "        1.54306898e+01, -3.83364081e+00,  1.23925037e+01,  1.48838937e+00,\n",
       "        1.23989925e+01, -4.79991817e+00,  1.16281338e+01,  8.07392418e-01,\n",
       "        1.37980452e+01, -5.97039318e+00,  1.26081905e+01,  5.78735113e-01,\n",
       "        1.39785395e+01])"
      ]
     },
     "execution_count": 16,
     "metadata": {},
     "output_type": "execute_result"
    }
   ],
   "source": [
    "y_new_clip_features = np.array(y_new_clip_features).T\n",
    "y_new_clip_features"
   ]
  },
  {
   "cell_type": "code",
   "execution_count": 17,
   "id": "6451343a-c5e1-438f-99e8-5c6b6aea630e",
   "metadata": {},
   "outputs": [
    {
     "data": {
      "text/plain": [
       "(89,)"
      ]
     },
     "execution_count": 17,
     "metadata": {},
     "output_type": "execute_result"
    }
   ],
   "source": [
    "y_new_clip_features.shape"
   ]
  },
  {
   "cell_type": "code",
   "execution_count": 18,
   "id": "e38f427b-f0ab-4229-8a8c-0b01e580fad3",
   "metadata": {},
   "outputs": [],
   "source": [
    "y_new_clip_features = y_new_clip_features.reshape(1, 89)"
   ]
  },
  {
   "cell_type": "code",
   "execution_count": 19,
   "id": "6bacc00f-145e-4063-8cbd-d1cf123a2042",
   "metadata": {},
   "outputs": [
    {
     "data": {
      "text/plain": [
       "(1, 89)"
      ]
     },
     "execution_count": 19,
     "metadata": {},
     "output_type": "execute_result"
    }
   ],
   "source": [
    "y_new_clip_features.shape"
   ]
  },
  {
   "cell_type": "code",
   "execution_count": 20,
   "id": "175c011b-8bae-425e-a424-a4f7fbeac2d1",
   "metadata": {},
   "outputs": [],
   "source": [
    "columns = ['tempo', 'beats_mean', 'beats_var', \n",
    "    'zero_crossings_mean', 'zero_crossings_var',\n",
    "    'spectral_centroids_mean', 'spectral_centroids_var', 'spectral_rolloff_mean',\n",
    "    'spectral_rolloff_var']\n",
    "for i in range(40):\n",
    "    columns.extend((f'mfcc_{i+1}_mean', f'mfcc_{i+1}_var'))"
   ]
  },
  {
   "cell_type": "code",
   "execution_count": 21,
   "id": "29662387-81ef-4b57-9372-a39111dc3e9f",
   "metadata": {},
   "outputs": [
    {
     "data": {
      "text/plain": [
       "array([[ 1.35999178e+02,  6.38348485e+02,  1.32236651e+05,\n",
       "         1.53939531e-01,  1.30242152e-01,  2.90468882e+03,\n",
       "         3.20752185e+05,  5.97350555e+03,  1.20646185e+06,\n",
       "         2.50628614e+00,  1.25076892e+03,  7.20101624e+01,\n",
       "         3.74355133e+02, -1.33805809e+01,  1.93212814e+02,\n",
       "         3.68437576e+01,  1.47537872e+02,  6.74254119e-01,\n",
       "         1.50141235e+02,  1.64846992e+01,  5.10680504e+01,\n",
       "        -3.99426603e+00,  5.22837410e+01,  1.26674080e+01,\n",
       "         4.77942162e+01, -5.62663507e+00,  3.30876961e+01,\n",
       "         1.00120392e+01,  3.62085152e+01, -6.42077017e+00,\n",
       "         3.46047783e+01,  1.03205500e+01,  3.13195877e+01,\n",
       "        -4.21915340e+00,  2.43507652e+01,  4.04138803e+00,\n",
       "         2.38231373e+01, -9.31008148e+00,  2.38516998e+01,\n",
       "         5.73434687e+00,  2.31838932e+01, -9.45936203e+00,\n",
       "         2.18566895e+01,  4.30589533e+00,  2.62099094e+01,\n",
       "        -6.74682999e+00,  2.71604462e+01,  6.85018063e+00,\n",
       "         2.07810841e+01, -9.81876373e+00,  2.28279762e+01,\n",
       "         3.45144701e+00,  2.47978992e+01, -6.61445951e+00,\n",
       "         2.02831097e+01,  2.84490800e+00,  2.12212105e+01,\n",
       "        -8.38231564e+00,  1.65307026e+01,  2.50684905e+00,\n",
       "         1.79867249e+01, -8.45423126e+00,  1.52944832e+01,\n",
       "         2.34195161e+00,  1.56642942e+01, -7.57074785e+00,\n",
       "         1.59364748e+01,  1.61362743e+00,  1.37389860e+01,\n",
       "        -7.67999268e+00,  1.41487532e+01,  2.96388793e+00,\n",
       "         1.27196779e+01, -5.92500639e+00,  1.36721020e+01,\n",
       "         1.41957688e+00,  1.54306898e+01, -3.83364081e+00,\n",
       "         1.23925037e+01,  1.48838937e+00,  1.23989925e+01,\n",
       "        -4.79991817e+00,  1.16281338e+01,  8.07392418e-01,\n",
       "         1.37980452e+01, -5.97039318e+00,  1.26081905e+01,\n",
       "         5.78735113e-01,  1.39785395e+01]])"
      ]
     },
     "execution_count": 21,
     "metadata": {},
     "output_type": "execute_result"
    }
   ],
   "source": [
    "y_new_clip_features"
   ]
  },
  {
   "cell_type": "code",
   "execution_count": 22,
   "id": "fef6cb05-c06b-418d-a63e-e756cf82cba2",
   "metadata": {},
   "outputs": [],
   "source": [
    "from sklearn.preprocessing import StandardScaler\n",
    "\n",
    "# Create an instance of StandardScaler\n",
    "scaler = StandardScaler()\n",
    "\n",
    "scaled = scaler.fit_transform(unscaled.drop(columns=['Unnamed: 0', 'genre']))"
   ]
  },
  {
   "cell_type": "code",
   "execution_count": 23,
   "id": "89db79dc-0e1f-4d79-a693-8f743f8baf47",
   "metadata": {},
   "outputs": [
    {
     "name": "stderr",
     "output_type": "stream",
     "text": [
      "/home/rsmassey/.pyenv/versions/3.8.12/envs/lewagon/lib/python3.8/site-packages/sklearn/base.py:450: UserWarning: X does not have valid feature names, but StandardScaler was fitted with feature names\n",
      "  warnings.warn(\n"
     ]
    }
   ],
   "source": [
    "y_clip_norm = pd.DataFrame(scaler.transform(y_new_clip_features))"
   ]
  },
  {
   "cell_type": "code",
   "execution_count": 24,
   "id": "71a9e2a6-20c6-4573-b596-ef97b2594919",
   "metadata": {},
   "outputs": [
    {
     "data": {
      "text/html": [
       "<div>\n",
       "<style scoped>\n",
       "    .dataframe tbody tr th:only-of-type {\n",
       "        vertical-align: middle;\n",
       "    }\n",
       "\n",
       "    .dataframe tbody tr th {\n",
       "        vertical-align: top;\n",
       "    }\n",
       "\n",
       "    .dataframe thead th {\n",
       "        text-align: right;\n",
       "    }\n",
       "</style>\n",
       "<table border=\"1\" class=\"dataframe\">\n",
       "  <thead>\n",
       "    <tr style=\"text-align: right;\">\n",
       "      <th></th>\n",
       "      <th>0</th>\n",
       "      <th>1</th>\n",
       "      <th>2</th>\n",
       "      <th>3</th>\n",
       "      <th>4</th>\n",
       "      <th>5</th>\n",
       "      <th>6</th>\n",
       "      <th>7</th>\n",
       "      <th>8</th>\n",
       "      <th>9</th>\n",
       "      <th>...</th>\n",
       "      <th>79</th>\n",
       "      <th>80</th>\n",
       "      <th>81</th>\n",
       "      <th>82</th>\n",
       "      <th>83</th>\n",
       "      <th>84</th>\n",
       "      <th>85</th>\n",
       "      <th>86</th>\n",
       "      <th>87</th>\n",
       "      <th>88</th>\n",
       "    </tr>\n",
       "  </thead>\n",
       "  <tbody>\n",
       "    <tr>\n",
       "      <th>0</th>\n",
       "      <td>0.595093</td>\n",
       "      <td>0.205854</td>\n",
       "      <td>0.351198</td>\n",
       "      <td>1.197409</td>\n",
       "      <td>1.205979</td>\n",
       "      <td>0.981209</td>\n",
       "      <td>-0.371985</td>\n",
       "      <td>0.889671</td>\n",
       "      <td>-0.447298</td>\n",
       "      <td>1.554603</td>\n",
       "      <td>...</td>\n",
       "      <td>1.482198</td>\n",
       "      <td>-1.307874</td>\n",
       "      <td>-1.545134</td>\n",
       "      <td>-1.399069</td>\n",
       "      <td>1.143481</td>\n",
       "      <td>-1.237163</td>\n",
       "      <td>-1.855199</td>\n",
       "      <td>-1.050008</td>\n",
       "      <td>0.817807</td>\n",
       "      <td>-1.017176</td>\n",
       "    </tr>\n",
       "  </tbody>\n",
       "</table>\n",
       "<p>1 rows × 89 columns</p>\n",
       "</div>"
      ],
      "text/plain": [
       "         0         1         2         3         4         5         6   \\\n",
       "0  0.595093  0.205854  0.351198  1.197409  1.205979  0.981209 -0.371985   \n",
       "\n",
       "         7         8         9   ...        79        80        81        82  \\\n",
       "0  0.889671 -0.447298  1.554603  ...  1.482198 -1.307874 -1.545134 -1.399069   \n",
       "\n",
       "         83        84        85        86        87        88  \n",
       "0  1.143481 -1.237163 -1.855199 -1.050008  0.817807 -1.017176  \n",
       "\n",
       "[1 rows x 89 columns]"
      ]
     },
     "execution_count": 24,
     "metadata": {},
     "output_type": "execute_result"
    }
   ],
   "source": [
    "y_clip_norm"
   ]
  },
  {
   "cell_type": "code",
   "execution_count": 25,
   "id": "5ba4d941-5ebc-401d-8f79-14fe3f70c27b",
   "metadata": {},
   "outputs": [
    {
     "name": "stderr",
     "output_type": "stream",
     "text": [
      "/home/rsmassey/.pyenv/versions/3.8.12/envs/lewagon/lib/python3.8/site-packages/sklearn/base.py:450: UserWarning: X does not have valid feature names, but SVC was fitted with feature names\n",
      "  warnings.warn(\n"
     ]
    },
    {
     "data": {
      "text/plain": [
       "array([3])"
      ]
     },
     "execution_count": 25,
     "metadata": {},
     "output_type": "execute_result"
    }
   ],
   "source": [
    "clf.predict(y_clip_norm)"
   ]
  },
  {
   "cell_type": "code",
   "execution_count": 26,
   "id": "e4adc705-9b7b-4610-8d5f-b7a55107fa50",
   "metadata": {},
   "outputs": [],
   "source": [
    "y_2, sr = normalize_volume('song_input.wav')"
   ]
  },
  {
   "cell_type": "code",
   "execution_count": 27,
   "id": "b45290ec-b52a-4bed-b7fd-8d7004859f8b",
   "metadata": {},
   "outputs": [],
   "source": [
    "y_2_clip = y_2[30 * sr: 30 * sr *2]"
   ]
  },
  {
   "cell_type": "code",
   "execution_count": 28,
   "id": "a6f36f46-6588-44f6-9bdf-f37c1f2cc391",
   "metadata": {},
   "outputs": [],
   "source": [
    "y_2_clip_features = extract_features(np.array(y_2_clip), sr)"
   ]
  },
  {
   "cell_type": "code",
   "execution_count": 29,
   "id": "e0f35630-7044-4172-b932-69f2f7559488",
   "metadata": {},
   "outputs": [],
   "source": [
    "y_2_clip_features = np.array(y_2_clip_features).T"
   ]
  },
  {
   "cell_type": "code",
   "execution_count": 30,
   "id": "db0014b6-e60c-4349-9eb2-3a5a9f53ae03",
   "metadata": {},
   "outputs": [],
   "source": [
    "y_2_clip_features = np.array(y_2_clip_features).reshape(1, 89)"
   ]
  },
  {
   "cell_type": "code",
   "execution_count": 31,
   "id": "78dda02f-e3d1-455c-ad22-b02b62cac04f",
   "metadata": {},
   "outputs": [
    {
     "data": {
      "text/plain": [
       "(1, 89)"
      ]
     },
     "execution_count": 31,
     "metadata": {},
     "output_type": "execute_result"
    }
   ],
   "source": [
    "y_2_clip_features.shape"
   ]
  },
  {
   "cell_type": "code",
   "execution_count": 32,
   "id": "45b3ca1a-c45e-48b5-b327-7bc7114141b1",
   "metadata": {},
   "outputs": [],
   "source": [
    "y_2_clip_features = pd.DataFrame(y_2_clip_features, columns=columns)"
   ]
  },
  {
   "cell_type": "code",
   "execution_count": 33,
   "id": "92018ee1-a056-4336-ae41-36f9f5bc0979",
   "metadata": {},
   "outputs": [
    {
     "data": {
      "text/html": [
       "<div>\n",
       "<style scoped>\n",
       "    .dataframe tbody tr th:only-of-type {\n",
       "        vertical-align: middle;\n",
       "    }\n",
       "\n",
       "    .dataframe tbody tr th {\n",
       "        vertical-align: top;\n",
       "    }\n",
       "\n",
       "    .dataframe thead th {\n",
       "        text-align: right;\n",
       "    }\n",
       "</style>\n",
       "<table border=\"1\" class=\"dataframe\">\n",
       "  <thead>\n",
       "    <tr style=\"text-align: right;\">\n",
       "      <th></th>\n",
       "      <th>tempo</th>\n",
       "      <th>beats_mean</th>\n",
       "      <th>beats_var</th>\n",
       "      <th>zero_crossings_mean</th>\n",
       "      <th>zero_crossings_var</th>\n",
       "      <th>spectral_centroids_mean</th>\n",
       "      <th>spectral_centroids_var</th>\n",
       "      <th>spectral_rolloff_mean</th>\n",
       "      <th>spectral_rolloff_var</th>\n",
       "      <th>mfcc_1_mean</th>\n",
       "      <th>...</th>\n",
       "      <th>mfcc_36_mean</th>\n",
       "      <th>mfcc_36_var</th>\n",
       "      <th>mfcc_37_mean</th>\n",
       "      <th>mfcc_37_var</th>\n",
       "      <th>mfcc_38_mean</th>\n",
       "      <th>mfcc_38_var</th>\n",
       "      <th>mfcc_39_mean</th>\n",
       "      <th>mfcc_39_var</th>\n",
       "      <th>mfcc_40_mean</th>\n",
       "      <th>mfcc_40_var</th>\n",
       "    </tr>\n",
       "  </thead>\n",
       "  <tbody>\n",
       "    <tr>\n",
       "      <th>0</th>\n",
       "      <td>99.384014</td>\n",
       "      <td>660.734694</td>\n",
       "      <td>132699.419409</td>\n",
       "      <td>0.013252</td>\n",
       "      <td>0.013076</td>\n",
       "      <td>430.269077</td>\n",
       "      <td>71857.545656</td>\n",
       "      <td>605.696337</td>\n",
       "      <td>458943.955196</td>\n",
       "      <td>-355.190552</td>\n",
       "      <td>...</td>\n",
       "      <td>-2.705887</td>\n",
       "      <td>57.514336</td>\n",
       "      <td>-1.265992</td>\n",
       "      <td>70.413933</td>\n",
       "      <td>-0.61601</td>\n",
       "      <td>56.971466</td>\n",
       "      <td>-0.333326</td>\n",
       "      <td>42.124027</td>\n",
       "      <td>-2.113365</td>\n",
       "      <td>47.629322</td>\n",
       "    </tr>\n",
       "  </tbody>\n",
       "</table>\n",
       "<p>1 rows × 89 columns</p>\n",
       "</div>"
      ],
      "text/plain": [
       "       tempo  beats_mean      beats_var  zero_crossings_mean  \\\n",
       "0  99.384014  660.734694  132699.419409             0.013252   \n",
       "\n",
       "   zero_crossings_var  spectral_centroids_mean  spectral_centroids_var  \\\n",
       "0            0.013076               430.269077            71857.545656   \n",
       "\n",
       "   spectral_rolloff_mean  spectral_rolloff_var  mfcc_1_mean  ...  \\\n",
       "0             605.696337         458943.955196  -355.190552  ...   \n",
       "\n",
       "   mfcc_36_mean  mfcc_36_var  mfcc_37_mean  mfcc_37_var  mfcc_38_mean  \\\n",
       "0     -2.705887    57.514336     -1.265992    70.413933      -0.61601   \n",
       "\n",
       "   mfcc_38_var  mfcc_39_mean  mfcc_39_var  mfcc_40_mean  mfcc_40_var  \n",
       "0    56.971466     -0.333326    42.124027     -2.113365    47.629322  \n",
       "\n",
       "[1 rows x 89 columns]"
      ]
     },
     "execution_count": 33,
     "metadata": {},
     "output_type": "execute_result"
    }
   ],
   "source": [
    "y_2_clip_features"
   ]
  },
  {
   "cell_type": "code",
   "execution_count": 34,
   "id": "6b96c39e-fa33-4656-ba52-d24b2ea44f15",
   "metadata": {},
   "outputs": [],
   "source": [
    "y_2_clip_norm = pd.DataFrame(scaler.transform(y_2_clip_features), columns=columns)"
   ]
  },
  {
   "cell_type": "code",
   "execution_count": 35,
   "id": "c751fe76-40d8-4c42-a4a7-dcddacd6a7a7",
   "metadata": {},
   "outputs": [
    {
     "data": {
      "text/html": [
       "<div>\n",
       "<style scoped>\n",
       "    .dataframe tbody tr th:only-of-type {\n",
       "        vertical-align: middle;\n",
       "    }\n",
       "\n",
       "    .dataframe tbody tr th {\n",
       "        vertical-align: top;\n",
       "    }\n",
       "\n",
       "    .dataframe thead th {\n",
       "        text-align: right;\n",
       "    }\n",
       "</style>\n",
       "<table border=\"1\" class=\"dataframe\">\n",
       "  <thead>\n",
       "    <tr style=\"text-align: right;\">\n",
       "      <th></th>\n",
       "      <th>tempo</th>\n",
       "      <th>beats_mean</th>\n",
       "      <th>beats_var</th>\n",
       "      <th>zero_crossings_mean</th>\n",
       "      <th>zero_crossings_var</th>\n",
       "      <th>spectral_centroids_mean</th>\n",
       "      <th>spectral_centroids_var</th>\n",
       "      <th>spectral_rolloff_mean</th>\n",
       "      <th>spectral_rolloff_var</th>\n",
       "      <th>mfcc_1_mean</th>\n",
       "      <th>...</th>\n",
       "      <th>mfcc_36_mean</th>\n",
       "      <th>mfcc_36_var</th>\n",
       "      <th>mfcc_37_mean</th>\n",
       "      <th>mfcc_37_var</th>\n",
       "      <th>mfcc_38_mean</th>\n",
       "      <th>mfcc_38_var</th>\n",
       "      <th>mfcc_39_mean</th>\n",
       "      <th>mfcc_39_var</th>\n",
       "      <th>mfcc_40_mean</th>\n",
       "      <th>mfcc_40_var</th>\n",
       "    </tr>\n",
       "  </thead>\n",
       "  <tbody>\n",
       "    <tr>\n",
       "      <th>0</th>\n",
       "      <td>-0.709195</td>\n",
       "      <td>0.850835</td>\n",
       "      <td>0.389331</td>\n",
       "      <td>-2.1629</td>\n",
       "      <td>-2.420445</td>\n",
       "      <td>-2.476043</td>\n",
       "      <td>-0.993131</td>\n",
       "      <td>-2.520024</td>\n",
       "      <td>-0.972103</td>\n",
       "      <td>-3.247052</td>\n",
       "      <td>...</td>\n",
       "      <td>-0.352611</td>\n",
       "      <td>0.4587</td>\n",
       "      <td>0.093523</td>\n",
       "      <td>1.051274</td>\n",
       "      <td>0.497674</td>\n",
       "      <td>0.21734</td>\n",
       "      <td>0.282185</td>\n",
       "      <td>-0.446295</td>\n",
       "      <td>-0.145526</td>\n",
       "      <td>-0.344306</td>\n",
       "    </tr>\n",
       "  </tbody>\n",
       "</table>\n",
       "<p>1 rows × 89 columns</p>\n",
       "</div>"
      ],
      "text/plain": [
       "      tempo  beats_mean  beats_var  zero_crossings_mean  zero_crossings_var  \\\n",
       "0 -0.709195    0.850835   0.389331              -2.1629           -2.420445   \n",
       "\n",
       "   spectral_centroids_mean  spectral_centroids_var  spectral_rolloff_mean  \\\n",
       "0                -2.476043               -0.993131              -2.520024   \n",
       "\n",
       "   spectral_rolloff_var  mfcc_1_mean  ...  mfcc_36_mean  mfcc_36_var  \\\n",
       "0             -0.972103    -3.247052  ...     -0.352611       0.4587   \n",
       "\n",
       "   mfcc_37_mean  mfcc_37_var  mfcc_38_mean  mfcc_38_var  mfcc_39_mean  \\\n",
       "0      0.093523     1.051274      0.497674      0.21734      0.282185   \n",
       "\n",
       "   mfcc_39_var  mfcc_40_mean  mfcc_40_var  \n",
       "0    -0.446295     -0.145526    -0.344306  \n",
       "\n",
       "[1 rows x 89 columns]"
      ]
     },
     "execution_count": 35,
     "metadata": {},
     "output_type": "execute_result"
    }
   ],
   "source": [
    "y_2_clip_norm"
   ]
  },
  {
   "cell_type": "code",
   "execution_count": 36,
   "id": "783f8f16-ec4f-42f0-b62f-79b4ee1fb3f9",
   "metadata": {},
   "outputs": [],
   "source": [
    "prediction = clf.predict(y_2_clip_norm)"
   ]
  },
  {
   "cell_type": "code",
   "execution_count": 37,
   "id": "e6fec683-24f4-44d7-9f70-da62acf07ce9",
   "metadata": {},
   "outputs": [
    {
     "data": {
      "text/plain": [
       "4"
      ]
     },
     "execution_count": 37,
     "metadata": {},
     "output_type": "execute_result"
    }
   ],
   "source": [
    "prediction[0]"
   ]
  },
  {
   "cell_type": "code",
   "execution_count": 38,
   "id": "ecefad19-bdb9-44ef-98c2-94a74b42c7a1",
   "metadata": {},
   "outputs": [],
   "source": [
    "def predict_song(file_path, model):\n",
    "    \n",
    "    number_to_genre = {0:'hiphop',\n",
    "                     1:'classical',\n",
    "                     2:'blues',\n",
    "                     3:'metal',\n",
    "                     4:'jazz',\n",
    "                     5:'country',\n",
    "                     6:'pop',\n",
    "                     7:'rock',\n",
    "                     8:'disco',\n",
    "                     9:'reggae'}\n",
    "    \n",
    "    columns = ['tempo', 'beats_mean', 'beats_var', \n",
    "    'zero_crossings_mean', 'zero_crossings_var',\n",
    "    'spectral_centroids_mean', 'spectral_centroids_var', 'spectral_rolloff_mean',\n",
    "    'spectral_rolloff_var']\n",
    "    for i in range(40):\n",
    "        columns.extend((f'mfcc_{i+1}_mean', f'mfcc_{i+1}_var'))\n",
    "    \n",
    "    X_norm, sr = normalize_volume(file_path)\n",
    "    X_clip = X_norm[30 * sr: 30 * sr *2]\n",
    "    X_clip_features = extract_features(np.array(X_clip), sr)\n",
    "    X_clip_features = np.array(X_clip_features).T\n",
    "    X_clip_features = np.array(X_clip_features).reshape(1, 89)\n",
    "    X_clip_features = pd.DataFrame(X_clip_features, columns=columns)\n",
    "    X_clip_norm = pd.DataFrame(scaler.transform(X_clip_features), columns=columns)\n",
    "    prediction = model.predict(X_clip_norm)[0]\n",
    "    \n",
    "    return number_to_genre[prediction]"
   ]
  },
  {
   "cell_type": "code",
   "execution_count": 39,
   "id": "0ab29273-40ec-402c-a2d5-97b3ca019c16",
   "metadata": {},
   "outputs": [
    {
     "data": {
      "text/plain": [
       "'metal'"
      ]
     },
     "execution_count": 39,
     "metadata": {},
     "output_type": "execute_result"
    }
   ],
   "source": [
    "predict_song('Slipknot - Psychosocial [OFFICIAL VIDEO] [HD].wav', clf)"
   ]
  },
  {
   "cell_type": "code",
   "execution_count": 40,
   "id": "93477329-d587-4d92-ae85-90133ce27588",
   "metadata": {},
   "outputs": [
    {
     "data": {
      "text/plain": [
       "'jazz'"
      ]
     },
     "execution_count": 40,
     "metadata": {},
     "output_type": "execute_result"
    }
   ],
   "source": [
    "predict_song('song_input.wav', clf)"
   ]
  },
  {
   "cell_type": "code",
   "execution_count": 41,
   "id": "9b7784c9-7cae-4e7f-829b-5134d7765d0f",
   "metadata": {},
   "outputs": [
    {
     "data": {
      "text/plain": [
       "'disco'"
      ]
     },
     "execution_count": 41,
     "metadata": {},
     "output_type": "execute_result"
    }
   ],
   "source": [
    "predict_song('Shania Twain - Man! I Feel Like A Woman (Official Music Video).wav',clf)"
   ]
  },
  {
   "cell_type": "code",
   "execution_count": 42,
   "id": "3dcc9ca2-631e-4c79-9aa3-4a454c7bffba",
   "metadata": {},
   "outputs": [
    {
     "data": {
      "text/plain": [
       "'blues'"
      ]
     },
     "execution_count": 42,
     "metadata": {},
     "output_type": "execute_result"
    }
   ],
   "source": [
    "predict_song('Kenny Rogers - The Gambler.wav',clf)"
   ]
  },
  {
   "cell_type": "code",
   "execution_count": 55,
   "id": "17303564-76ad-4246-b362-3c273b8ac534",
   "metadata": {},
   "outputs": [
    {
     "name": "stdout",
     "output_type": "stream",
     "text": [
      "Accuracy: 0.73\n"
     ]
    }
   ],
   "source": [
    "# Train an SVM model\n",
    "rbf = svm.SVC(kernel='rbf', C=3)\n",
    "rbf.fit(X_train, y_train)\n",
    "\n",
    "# Evaluate the model on the test data\n",
    "accuracy = rbf.score(X_test, y_test)\n",
    "print(\"Accuracy:\", accuracy)"
   ]
  },
  {
   "cell_type": "code",
   "execution_count": 56,
   "id": "c073583d-0e63-441d-9a62-17dab3a3cf70",
   "metadata": {},
   "outputs": [
    {
     "data": {
      "text/plain": [
       "'metal'"
      ]
     },
     "execution_count": 56,
     "metadata": {},
     "output_type": "execute_result"
    }
   ],
   "source": [
    "predict_song('Slipknot - Psychosocial [OFFICIAL VIDEO] [HD].wav', rbf)"
   ]
  },
  {
   "cell_type": "code",
   "execution_count": 57,
   "id": "2a7c27d7-07cc-4831-a2da-7ad7954c3ac1",
   "metadata": {},
   "outputs": [
    {
     "data": {
      "text/plain": [
       "'blues'"
      ]
     },
     "execution_count": 57,
     "metadata": {},
     "output_type": "execute_result"
    }
   ],
   "source": [
    "predict_song('song_input.wav', rbf)"
   ]
  },
  {
   "cell_type": "code",
   "execution_count": 58,
   "id": "e14065ba-6028-451e-9269-ceab317d88ee",
   "metadata": {},
   "outputs": [
    {
     "data": {
      "text/plain": [
       "'country'"
      ]
     },
     "execution_count": 58,
     "metadata": {},
     "output_type": "execute_result"
    }
   ],
   "source": [
    "predict_song('Shania Twain - Man! I Feel Like A Woman (Official Music Video).wav',rbf)"
   ]
  },
  {
   "cell_type": "code",
   "execution_count": 59,
   "id": "cecdae28-6341-4005-976d-02cbf41d95bc",
   "metadata": {},
   "outputs": [
    {
     "data": {
      "text/plain": [
       "'reggae'"
      ]
     },
     "execution_count": 59,
     "metadata": {},
     "output_type": "execute_result"
    }
   ],
   "source": [
    "predict_song('Kenny Rogers - The Gambler.wav',rbf)"
   ]
  },
  {
   "cell_type": "code",
   "execution_count": null,
   "id": "1e8c57eb-9182-4ce9-9eb0-775e6b341ea4",
   "metadata": {},
   "outputs": [],
   "source": []
  }
 ],
 "metadata": {
  "kernelspec": {
   "display_name": "Python 3 (ipykernel)",
   "language": "python",
   "name": "python3"
  },
  "language_info": {
   "codemirror_mode": {
    "name": "ipython",
    "version": 3
   },
   "file_extension": ".py",
   "mimetype": "text/x-python",
   "name": "python",
   "nbconvert_exporter": "python",
   "pygments_lexer": "ipython3",
   "version": "3.8.12"
  }
 },
 "nbformat": 4,
 "nbformat_minor": 5
}
