{
 "cells": [
  {
   "cell_type": "code",
   "execution_count": 254,
   "id": "beea80a7",
   "metadata": {},
   "outputs": [],
   "source": [
    "import pandas as pd\n",
    "import numpy as np\n",
    "import matplotlib.pyplot as plt\n",
    "from sklearn.model_selection import train_test_split\n",
    "from sklearn.ensemble import RandomForestClassifier\n",
    "from sklearn.metrics import classification_report\n",
    "from sklearn.model_selection import GridSearchCV\n",
    "from sklearn.model_selection import RandomizedSearchCV\n",
    "from sklearn.impute import SimpleImputer\n",
    "from sklearn.compose import ColumnTransformer\n",
    "from sklearn.pipeline import Pipeline\n",
    "from sklearn.preprocessing import OrdinalEncoder\n",
    "\n",
    "from scipy.stats import randint\n",
    "from sklearn.metrics import r2_score"
   ]
  },
  {
   "cell_type": "code",
   "execution_count": 248,
   "id": "bebb3cd7",
   "metadata": {},
   "outputs": [],
   "source": [
    "data = pd.read_csv(\"../mcats/data/norm_jamendo_data.csv\")"
   ]
  },
  {
   "cell_type": "code",
   "execution_count": 249,
   "id": "1ada3c4e",
   "metadata": {},
   "outputs": [],
   "source": [
    "data = data.drop(\"Unnamed: 0\", axis =1)"
   ]
  },
  {
   "cell_type": "code",
   "execution_count": 256,
   "id": "af7d4e1c",
   "metadata": {},
   "outputs": [
    {
     "data": {
      "text/html": [
       "<div>\n",
       "<style scoped>\n",
       "    .dataframe tbody tr th:only-of-type {\n",
       "        vertical-align: middle;\n",
       "    }\n",
       "\n",
       "    .dataframe tbody tr th {\n",
       "        vertical-align: top;\n",
       "    }\n",
       "\n",
       "    .dataframe thead th {\n",
       "        text-align: right;\n",
       "    }\n",
       "</style>\n",
       "<table border=\"1\" class=\"dataframe\">\n",
       "  <thead>\n",
       "    <tr style=\"text-align: right;\">\n",
       "      <th></th>\n",
       "      <th>tempo</th>\n",
       "      <th>beats_mean</th>\n",
       "      <th>beats_var</th>\n",
       "      <th>zero_crossings_mean</th>\n",
       "      <th>zero_crossings_var</th>\n",
       "      <th>spectral_centroids_mean</th>\n",
       "      <th>spectral_centroids_var</th>\n",
       "      <th>spectral_rolloff_mean</th>\n",
       "      <th>spectral_rolloff_var</th>\n",
       "      <th>mfcc_1_mean</th>\n",
       "      <th>...</th>\n",
       "      <th>mfcc_36_var</th>\n",
       "      <th>mfcc_37_mean</th>\n",
       "      <th>mfcc_37_var</th>\n",
       "      <th>mfcc_38_mean</th>\n",
       "      <th>mfcc_38_var</th>\n",
       "      <th>mfcc_39_mean</th>\n",
       "      <th>mfcc_39_var</th>\n",
       "      <th>mfcc_40_mean</th>\n",
       "      <th>mfcc_40_var</th>\n",
       "      <th>genre</th>\n",
       "    </tr>\n",
       "  </thead>\n",
       "  <tbody>\n",
       "    <tr>\n",
       "      <th>0</th>\n",
       "      <td>1.018113</td>\n",
       "      <td>0.135270</td>\n",
       "      <td>0.180556</td>\n",
       "      <td>-1.282956</td>\n",
       "      <td>-1.412306</td>\n",
       "      <td>-0.676326</td>\n",
       "      <td>2.115854</td>\n",
       "      <td>-0.462081</td>\n",
       "      <td>3.433362</td>\n",
       "      <td>-1.228685</td>\n",
       "      <td>...</td>\n",
       "      <td>-0.827748</td>\n",
       "      <td>0.256880</td>\n",
       "      <td>-0.865114</td>\n",
       "      <td>-1.180249</td>\n",
       "      <td>-0.817053</td>\n",
       "      <td>-0.215914</td>\n",
       "      <td>-0.595622</td>\n",
       "      <td>-0.043381</td>\n",
       "      <td>-0.692133</td>\n",
       "      <td>0</td>\n",
       "    </tr>\n",
       "    <tr>\n",
       "      <th>1</th>\n",
       "      <td>-1.022612</td>\n",
       "      <td>0.118673</td>\n",
       "      <td>0.096810</td>\n",
       "      <td>0.439562</td>\n",
       "      <td>0.512986</td>\n",
       "      <td>0.163186</td>\n",
       "      <td>4.039769</td>\n",
       "      <td>0.008108</td>\n",
       "      <td>3.698887</td>\n",
       "      <td>-1.111126</td>\n",
       "      <td>...</td>\n",
       "      <td>0.463255</td>\n",
       "      <td>-1.921676</td>\n",
       "      <td>-0.826218</td>\n",
       "      <td>0.442914</td>\n",
       "      <td>-0.273238</td>\n",
       "      <td>0.776645</td>\n",
       "      <td>-0.737289</td>\n",
       "      <td>-0.386016</td>\n",
       "      <td>-0.421638</td>\n",
       "      <td>0</td>\n",
       "    </tr>\n",
       "    <tr>\n",
       "      <th>2</th>\n",
       "      <td>1.018113</td>\n",
       "      <td>-0.452742</td>\n",
       "      <td>-0.189997</td>\n",
       "      <td>0.100949</td>\n",
       "      <td>0.157808</td>\n",
       "      <td>0.562454</td>\n",
       "      <td>0.841790</td>\n",
       "      <td>0.359046</td>\n",
       "      <td>0.968367</td>\n",
       "      <td>0.354093</td>\n",
       "      <td>...</td>\n",
       "      <td>-0.802828</td>\n",
       "      <td>1.485403</td>\n",
       "      <td>-0.094997</td>\n",
       "      <td>2.529697</td>\n",
       "      <td>-0.053233</td>\n",
       "      <td>1.407770</td>\n",
       "      <td>-0.114887</td>\n",
       "      <td>-1.010934</td>\n",
       "      <td>-0.074881</td>\n",
       "      <td>0</td>\n",
       "    </tr>\n",
       "  </tbody>\n",
       "</table>\n",
       "<p>3 rows × 90 columns</p>\n",
       "</div>"
      ],
      "text/plain": [
       "      tempo  beats_mean  beats_var  zero_crossings_mean  zero_crossings_var  \\\n",
       "0  1.018113    0.135270   0.180556            -1.282956           -1.412306   \n",
       "1 -1.022612    0.118673   0.096810             0.439562            0.512986   \n",
       "2  1.018113   -0.452742  -0.189997             0.100949            0.157808   \n",
       "\n",
       "   spectral_centroids_mean  spectral_centroids_var  spectral_rolloff_mean  \\\n",
       "0                -0.676326                2.115854              -0.462081   \n",
       "1                 0.163186                4.039769               0.008108   \n",
       "2                 0.562454                0.841790               0.359046   \n",
       "\n",
       "   spectral_rolloff_var  mfcc_1_mean  ...  mfcc_36_var  mfcc_37_mean  \\\n",
       "0              3.433362    -1.228685  ...    -0.827748      0.256880   \n",
       "1              3.698887    -1.111126  ...     0.463255     -1.921676   \n",
       "2              0.968367     0.354093  ...    -0.802828      1.485403   \n",
       "\n",
       "   mfcc_37_var  mfcc_38_mean  mfcc_38_var  mfcc_39_mean  mfcc_39_var  \\\n",
       "0    -0.865114     -1.180249    -0.817053     -0.215914    -0.595622   \n",
       "1    -0.826218      0.442914    -0.273238      0.776645    -0.737289   \n",
       "2    -0.094997      2.529697    -0.053233      1.407770    -0.114887   \n",
       "\n",
       "   mfcc_40_mean  mfcc_40_var  genre  \n",
       "0     -0.043381    -0.692133      0  \n",
       "1     -0.386016    -0.421638      0  \n",
       "2     -1.010934    -0.074881      0  \n",
       "\n",
       "[3 rows x 90 columns]"
      ]
     },
     "execution_count": 256,
     "metadata": {},
     "output_type": "execute_result"
    }
   ],
   "source": [
    "data.head(3)"
   ]
  },
  {
   "cell_type": "code",
   "execution_count": 250,
   "id": "ba13fcb4",
   "metadata": {},
   "outputs": [],
   "source": [
    "X = data.drop(columns = \"genre\")\n",
    "y = data[\"genre\"]"
   ]
  },
  {
   "cell_type": "code",
   "execution_count": 5,
   "id": "283b72fe",
   "metadata": {},
   "outputs": [
    {
     "data": {
      "text/plain": [
       "(995, 89)"
      ]
     },
     "execution_count": 5,
     "metadata": {},
     "output_type": "execute_result"
    }
   ],
   "source": [
    "X.shape"
   ]
  },
  {
   "cell_type": "code",
   "execution_count": 255,
   "id": "c4ba4b83",
   "metadata": {},
   "outputs": [
    {
     "ename": "NameError",
     "evalue": "name 'categorical_columns' is not defined",
     "output_type": "error",
     "traceback": [
      "\u001b[0;31m---------------------------------------------------------------------------\u001b[0m",
      "\u001b[0;31mNameError\u001b[0m                                 Traceback (most recent call last)",
      "Cell \u001b[0;32mIn[255], line 8\u001b[0m\n\u001b[1;32m      1\u001b[0m categorical_encoder \u001b[38;5;241m=\u001b[39m OrdinalEncoder(\n\u001b[1;32m      2\u001b[0m     handle_unknown\u001b[38;5;241m=\u001b[39m\u001b[38;5;124m\"\u001b[39m\u001b[38;5;124muse_encoded_value\u001b[39m\u001b[38;5;124m\"\u001b[39m, unknown_value\u001b[38;5;241m=\u001b[39m\u001b[38;5;241m-\u001b[39m\u001b[38;5;241m1\u001b[39m, encoded_missing_value\u001b[38;5;241m=\u001b[39m\u001b[38;5;241m-\u001b[39m\u001b[38;5;241m1\u001b[39m\n\u001b[1;32m      3\u001b[0m )\n\u001b[1;32m      4\u001b[0m numerical_pipe \u001b[38;5;241m=\u001b[39m SimpleImputer(strategy\u001b[38;5;241m=\u001b[39m\u001b[38;5;124m\"\u001b[39m\u001b[38;5;124mmean\u001b[39m\u001b[38;5;124m\"\u001b[39m)\n\u001b[1;32m      6\u001b[0m preprocessing \u001b[38;5;241m=\u001b[39m ColumnTransformer(\n\u001b[1;32m      7\u001b[0m     [\n\u001b[0;32m----> 8\u001b[0m         (\u001b[38;5;124m\"\u001b[39m\u001b[38;5;124mcat\u001b[39m\u001b[38;5;124m\"\u001b[39m, categorical_encoder, \u001b[43mcategorical_columns\u001b[49m),\n\u001b[1;32m      9\u001b[0m         (\u001b[38;5;124m\"\u001b[39m\u001b[38;5;124mnum\u001b[39m\u001b[38;5;124m\"\u001b[39m, numerical_pipe, numerical_columns),\n\u001b[1;32m     10\u001b[0m     ],\n\u001b[1;32m     11\u001b[0m     verbose_feature_names_out\u001b[38;5;241m=\u001b[39m\u001b[38;5;28;01mFalse\u001b[39;00m,\n\u001b[1;32m     12\u001b[0m )\n\u001b[1;32m     14\u001b[0m rf \u001b[38;5;241m=\u001b[39m Pipeline(\n\u001b[1;32m     15\u001b[0m     [\n\u001b[1;32m     16\u001b[0m         (\u001b[38;5;124m\"\u001b[39m\u001b[38;5;124mpreprocess\u001b[39m\u001b[38;5;124m\"\u001b[39m, preprocessing),\n\u001b[1;32m     17\u001b[0m         (\u001b[38;5;124m\"\u001b[39m\u001b[38;5;124mclassifier\u001b[39m\u001b[38;5;124m\"\u001b[39m, RandomForestClassifier(random_state\u001b[38;5;241m=\u001b[39m\u001b[38;5;241m42\u001b[39m)),\n\u001b[1;32m     18\u001b[0m     ]\n\u001b[1;32m     19\u001b[0m )\n\u001b[1;32m     20\u001b[0m rf\u001b[38;5;241m.\u001b[39mfit(X_train, y_train)\n",
      "\u001b[0;31mNameError\u001b[0m: name 'categorical_columns' is not defined"
     ]
    }
   ],
   "source": []
  },
  {
   "cell_type": "markdown",
   "id": "114ef3a8",
   "metadata": {},
   "source": [
    "# First train test split at .35"
   ]
  },
  {
   "cell_type": "markdown",
   "id": "2d69cadf",
   "metadata": {},
   "source": [
    "#post on stackoverflow recommened max features at 30-50% of total features, n_estimators more trees might stop overfitting, \n",
    "#max_depth 5-10, min_samples_leaf more than 1"
   ]
  },
  {
   "cell_type": "code",
   "execution_count": 240,
   "id": "2fcc157f",
   "metadata": {},
   "outputs": [],
   "source": [
    "X_train, X_test, y_train, y_test = train_test_split(X, y,test_size=0.35, random_state=42) \n"
   ]
  },
  {
   "cell_type": "code",
   "execution_count": 241,
   "id": "9e414fdd",
   "metadata": {},
   "outputs": [
    {
     "name": "stdout",
     "output_type": "stream",
     "text": [
      "              precision    recall  f1-score   support\n",
      "\n",
      "      hiphop       0.97      0.98      0.98        62\n",
      "   classical       0.87      0.97      0.92        74\n",
      "       blues       0.96      0.90      0.93        59\n",
      "  electronic       0.90      0.91      0.90        57\n",
      "       metal       0.94      0.92      0.93        66\n",
      "        jazz       0.94      0.87      0.90        54\n",
      "     country       0.90      0.90      0.90        72\n",
      "         pop       0.94      0.96      0.95        68\n",
      "        rock       0.95      0.91      0.93        69\n",
      "      reggae       0.94      0.94      0.94        65\n",
      "\n",
      "    accuracy                           0.93       646\n",
      "   macro avg       0.93      0.93      0.93       646\n",
      "weighted avg       0.93      0.93      0.93       646\n",
      "\n"
     ]
    }
   ],
   "source": [
    "model_39 = RandomForestClassifier(n_estimators=687, max_features=49, max_depth=9,min_samples_leaf=6)\n",
    "model_39.fit(X_train, y_train)\n",
    "preds_39 = model_39.predict(X_train)\n",
    "y_true = y_train\n",
    "y_pred = preds_39\n",
    "target_names = ['hiphop', 'classical', 'blues', 'electronic','metal', 'jazz', 'country', 'pop', 'rock', 'reggae']\n",
    "print(classification_report(y_true, y_pred, target_names=target_names))"
   ]
  },
  {
   "cell_type": "code",
   "execution_count": 257,
   "id": "5ab09439",
   "metadata": {},
   "outputs": [
    {
     "name": "stdout",
     "output_type": "stream",
     "text": [
      "RF train accuracy: 0.923\n",
      "RF test accuracy: 0.447\n"
     ]
    }
   ],
   "source": [
    "print(f\"RF train accuracy: {model_39.score(X_train, y_train):.3f}\")\n",
    "print(f\"RF test accuracy: {model_39.score(X_test, y_test):.3f}\")"
   ]
  },
  {
   "cell_type": "code",
   "execution_count": 242,
   "id": "a5c11ff0",
   "metadata": {},
   "outputs": [
    {
     "name": "stdout",
     "output_type": "stream",
     "text": [
      "              precision    recall  f1-score   support\n",
      "\n",
      "      hiphop       0.46      0.45      0.45        38\n",
      "   classical       0.57      0.92      0.71        26\n",
      "       blues       0.27      0.08      0.12        38\n",
      "  electronic       0.58      0.42      0.49        43\n",
      "       metal       0.54      0.61      0.57        33\n",
      "        jazz       0.53      0.43      0.48        46\n",
      "     country       0.31      0.46      0.37        28\n",
      "         pop       0.26      0.31      0.28        32\n",
      "        rock       0.34      0.39      0.36        31\n",
      "      reggae       0.57      0.62      0.59        34\n",
      "\n",
      "    accuracy                           0.45       349\n",
      "   macro avg       0.44      0.47      0.44       349\n",
      "weighted avg       0.45      0.45      0.44       349\n",
      "\n"
     ]
    }
   ],
   "source": [
    "model_39 = RandomForestClassifier(n_estimators=687, max_features=49, max_depth=9,min_samples_leaf=6)\n",
    "model_39.fit(X_train, y_train)\n",
    "preds_39 = model_39.predict(X_test)\n",
    "y_true = y_test\n",
    "y_pred = preds_39\n",
    "target_names = ['hiphop', 'classical', 'blues', 'electronic','metal', 'jazz', 'country', 'pop', 'rock', 'reggae']\n",
    "print(classification_report(y_true, y_pred, target_names=target_names))"
   ]
  },
  {
   "cell_type": "code",
   "execution_count": 212,
   "id": "c5f30cb7",
   "metadata": {},
   "outputs": [
    {
     "name": "stdout",
     "output_type": "stream",
     "text": [
      "              precision    recall  f1-score   support\n",
      "\n",
      "      hiphop       0.95      0.98      0.97        62\n",
      "   classical       0.86      0.97      0.91        74\n",
      "       blues       0.98      0.85      0.91        59\n",
      "  electronic       0.90      0.91      0.90        57\n",
      "       metal       0.94      0.91      0.92        66\n",
      "        jazz       0.96      0.89      0.92        54\n",
      "     country       0.91      0.89      0.90        72\n",
      "         pop       0.92      0.97      0.94        68\n",
      "        rock       0.96      0.93      0.94        69\n",
      "      reggae       0.92      0.94      0.93        65\n",
      "\n",
      "    accuracy                           0.93       646\n",
      "   macro avg       0.93      0.92      0.93       646\n",
      "weighted avg       0.93      0.93      0.93       646\n",
      "\n"
     ]
    }
   ],
   "source": [
    "model_41 = RandomForestClassifier(n_estimators=688, max_features=46, max_depth=9,min_samples_leaf=6)\n",
    "model_41.fit(X_train, y_train)\n",
    "preds_41 = model_41.predict(X_train)\n",
    "y_true = y_train\n",
    "y_pred = preds_41\n",
    "target_names = ['hiphop', 'classical', 'blues', 'electronic','metal', 'jazz', 'country', 'pop', 'rock', 'reggae']\n",
    "print(classification_report(y_true, y_pred, target_names=target_names))"
   ]
  },
  {
   "cell_type": "code",
   "execution_count": 213,
   "id": "a611a4e0",
   "metadata": {},
   "outputs": [
    {
     "name": "stdout",
     "output_type": "stream",
     "text": [
      "              precision    recall  f1-score   support\n",
      "\n",
      "      hiphop       0.51      0.47      0.49        38\n",
      "   classical       0.55      0.88      0.68        26\n",
      "       blues       0.33      0.11      0.16        38\n",
      "  electronic       0.62      0.47      0.53        43\n",
      "       metal       0.56      0.61      0.58        33\n",
      "        jazz       0.49      0.43      0.46        46\n",
      "     country       0.33      0.50      0.40        28\n",
      "         pop       0.26      0.31      0.28        32\n",
      "        rock       0.31      0.35      0.33        31\n",
      "      reggae       0.57      0.59      0.58        34\n",
      "\n",
      "    accuracy                           0.46       349\n",
      "   macro avg       0.45      0.47      0.45       349\n",
      "weighted avg       0.46      0.46      0.45       349\n",
      "\n"
     ]
    }
   ],
   "source": [
    "model_41 = RandomForestClassifier(n_estimators=688, max_features=46, max_depth=9,min_samples_leaf=6)\n",
    "model_41.fit(X_train, y_train)\n",
    "preds_41 = model_41.predict(X_test)\n",
    "y_true = y_test\n",
    "y_pred = preds_41\n",
    "target_names = ['hiphop', 'classical', 'blues', 'electronic','metal', 'jazz', 'country', 'pop', 'rock', 'reggae']\n",
    "print(classification_report(y_true, y_pred, target_names=target_names))"
   ]
  },
  {
   "cell_type": "code",
   "execution_count": 225,
   "id": "990d33ff",
   "metadata": {},
   "outputs": [
    {
     "name": "stdout",
     "output_type": "stream",
     "text": [
      "              precision    recall  f1-score   support\n",
      "\n",
      "      hiphop       0.97      0.98      0.98        62\n",
      "   classical       0.90      0.97      0.94        74\n",
      "       blues       0.96      0.90      0.93        59\n",
      "  electronic       0.93      0.91      0.92        57\n",
      "       metal       0.94      0.95      0.95        66\n",
      "        jazz       0.96      0.89      0.92        54\n",
      "     country       0.94      0.93      0.94        72\n",
      "         pop       0.94      1.00      0.97        68\n",
      "        rock       0.97      0.93      0.95        69\n",
      "      reggae       0.94      0.95      0.95        65\n",
      "\n",
      "    accuracy                           0.94       646\n",
      "   macro avg       0.95      0.94      0.94       646\n",
      "weighted avg       0.94      0.94      0.94       646\n",
      "\n"
     ]
    }
   ],
   "source": [
    "model_34 = RandomForestClassifier(n_estimators=685, max_features=48, max_depth=9,min_samples_leaf=5)\n",
    "model_34.fit(X_train, y_train)\n",
    "preds_34 = model_34.predict(X_train)\n",
    "y_true = y_train\n",
    "y_pred = preds_34\n",
    "target_names = ['hiphop', 'classical', 'blues', 'electronic','metal', 'jazz', 'country', 'pop', 'rock', 'reggae']\n",
    "print(classification_report(y_true, y_pred, target_names=target_names))"
   ]
  },
  {
   "cell_type": "code",
   "execution_count": 226,
   "id": "30d3815d",
   "metadata": {},
   "outputs": [
    {
     "name": "stdout",
     "output_type": "stream",
     "text": [
      "              precision    recall  f1-score   support\n",
      "\n",
      "      hiphop       0.47      0.47      0.47        38\n",
      "   classical       0.60      0.92      0.73        26\n",
      "       blues       0.29      0.11      0.15        38\n",
      "  electronic       0.58      0.42      0.49        43\n",
      "       metal       0.56      0.61      0.58        33\n",
      "        jazz       0.51      0.43      0.47        46\n",
      "     country       0.33      0.50      0.40        28\n",
      "         pop       0.28      0.34      0.31        32\n",
      "        rock       0.34      0.39      0.36        31\n",
      "      reggae       0.60      0.62      0.61        34\n",
      "\n",
      "    accuracy                           0.46       349\n",
      "   macro avg       0.46      0.48      0.46       349\n",
      "weighted avg       0.46      0.46      0.45       349\n",
      "\n"
     ]
    }
   ],
   "source": [
    "model_34 = RandomForestClassifier(n_estimators=685, max_features=48, max_depth=9,min_samples_leaf=5)\n",
    "model_34.fit(X_train, y_train)\n",
    "preds_34 = model_34.predict(X_test)\n",
    "y_true = y_test\n",
    "y_pred = preds_34\n",
    "target_names = ['hiphop', 'classical', 'blues', 'electronic','metal', 'jazz', 'country', 'pop', 'rock', 'reggae']\n",
    "print(classification_report(y_true, y_pred, target_names=target_names))"
   ]
  },
  {
   "cell_type": "code",
   "execution_count": 266,
   "id": "d95d9f97",
   "metadata": {},
   "outputs": [
    {
     "name": "stdout",
     "output_type": "stream",
     "text": [
      "Fitting 5 folds for each of 20 candidates, totalling 100 fits\n",
      "[CV] END max_depth=6, max_features=51, min_samples_leaf=9, n_estimators=655; total time=  10.1s\n",
      "[CV] END max_depth=6, max_features=51, min_samples_leaf=9, n_estimators=655; total time=   4.6s\n",
      "[CV] END max_depth=6, max_features=51, min_samples_leaf=9, n_estimators=655; total time=   4.4s\n",
      "[CV] END max_depth=6, max_features=51, min_samples_leaf=9, n_estimators=655; total time=   4.3s\n",
      "[CV] END max_depth=6, max_features=51, min_samples_leaf=9, n_estimators=655; total time=   4.1s\n",
      "[CV] END max_depth=6, max_features=55, min_samples_leaf=1, n_estimators=544; total time=   3.7s\n",
      "[CV] END max_depth=6, max_features=55, min_samples_leaf=1, n_estimators=544; total time=   3.7s\n",
      "[CV] END max_depth=6, max_features=55, min_samples_leaf=1, n_estimators=544; total time=   3.7s\n",
      "[CV] END max_depth=6, max_features=55, min_samples_leaf=1, n_estimators=544; total time=   3.7s\n",
      "[CV] END max_depth=6, max_features=55, min_samples_leaf=1, n_estimators=544; total time=   3.7s\n",
      "[CV] END max_depth=2, max_features=52, min_samples_leaf=8, n_estimators=637; total time=   2.2s\n",
      "[CV] END max_depth=2, max_features=52, min_samples_leaf=8, n_estimators=637; total time=   2.2s\n",
      "[CV] END max_depth=2, max_features=52, min_samples_leaf=8, n_estimators=637; total time=   2.0s\n",
      "[CV] END max_depth=2, max_features=52, min_samples_leaf=8, n_estimators=637; total time=   2.2s\n",
      "[CV] END max_depth=2, max_features=52, min_samples_leaf=8, n_estimators=637; total time=   2.1s\n",
      "[CV] END max_depth=7, max_features=58, min_samples_leaf=5, n_estimators=654; total time=   4.6s\n",
      "[CV] END max_depth=7, max_features=58, min_samples_leaf=5, n_estimators=654; total time=   4.6s\n",
      "[CV] END max_depth=7, max_features=58, min_samples_leaf=5, n_estimators=654; total time=   4.7s\n",
      "[CV] END max_depth=7, max_features=58, min_samples_leaf=5, n_estimators=654; total time=   4.7s\n",
      "[CV] END max_depth=7, max_features=58, min_samples_leaf=5, n_estimators=654; total time=   4.8s\n",
      "[CV] END max_depth=6, max_features=58, min_samples_leaf=5, n_estimators=795; total time=   5.7s\n",
      "[CV] END max_depth=6, max_features=58, min_samples_leaf=5, n_estimators=795; total time=   5.3s\n",
      "[CV] END max_depth=6, max_features=58, min_samples_leaf=5, n_estimators=795; total time=   5.3s\n",
      "[CV] END max_depth=6, max_features=58, min_samples_leaf=5, n_estimators=795; total time=   5.7s\n",
      "[CV] END max_depth=6, max_features=58, min_samples_leaf=5, n_estimators=795; total time=   5.7s\n",
      "[CV] END max_depth=3, max_features=44, min_samples_leaf=8, n_estimators=871; total time=   3.4s\n",
      "[CV] END max_depth=3, max_features=44, min_samples_leaf=8, n_estimators=871; total time=   3.5s\n",
      "[CV] END max_depth=3, max_features=44, min_samples_leaf=8, n_estimators=871; total time=   3.7s\n",
      "[CV] END max_depth=3, max_features=44, min_samples_leaf=8, n_estimators=871; total time=   3.5s\n",
      "[CV] END max_depth=3, max_features=44, min_samples_leaf=8, n_estimators=871; total time=   3.5s\n",
      "[CV] END max_depth=2, max_features=40, min_samples_leaf=7, n_estimators=541; total time=   1.8s\n",
      "[CV] END max_depth=2, max_features=40, min_samples_leaf=7, n_estimators=541; total time=   1.8s\n",
      "[CV] END max_depth=2, max_features=40, min_samples_leaf=7, n_estimators=541; total time=   1.9s\n",
      "[CV] END max_depth=2, max_features=40, min_samples_leaf=7, n_estimators=541; total time=   2.0s\n",
      "[CV] END max_depth=2, max_features=40, min_samples_leaf=7, n_estimators=541; total time=   2.0s\n",
      "[CV] END max_depth=8, max_features=62, min_samples_leaf=2, n_estimators=784; total time=   7.2s\n",
      "[CV] END max_depth=8, max_features=62, min_samples_leaf=2, n_estimators=784; total time=   6.8s\n",
      "[CV] END max_depth=8, max_features=62, min_samples_leaf=2, n_estimators=784; total time=   6.5s\n",
      "[CV] END max_depth=8, max_features=62, min_samples_leaf=2, n_estimators=784; total time=   7.1s\n",
      "[CV] END max_depth=8, max_features=62, min_samples_leaf=2, n_estimators=784; total time=   6.6s\n",
      "[CV] END max_depth=2, max_features=48, min_samples_leaf=9, n_estimators=541; total time=   1.9s\n",
      "[CV] END max_depth=2, max_features=48, min_samples_leaf=9, n_estimators=541; total time=   1.9s\n",
      "[CV] END max_depth=2, max_features=48, min_samples_leaf=9, n_estimators=541; total time=   1.9s\n",
      "[CV] END max_depth=2, max_features=48, min_samples_leaf=9, n_estimators=541; total time=   1.8s\n",
      "[CV] END max_depth=2, max_features=48, min_samples_leaf=9, n_estimators=541; total time=   1.8s\n",
      "[CV] END max_depth=4, max_features=55, min_samples_leaf=9, n_estimators=430; total time=   2.2s\n",
      "[CV] END max_depth=4, max_features=55, min_samples_leaf=9, n_estimators=430; total time=   2.2s\n",
      "[CV] END max_depth=4, max_features=55, min_samples_leaf=9, n_estimators=430; total time=   2.4s\n",
      "[CV] END max_depth=4, max_features=55, min_samples_leaf=9, n_estimators=430; total time=   2.2s\n",
      "[CV] END max_depth=4, max_features=55, min_samples_leaf=9, n_estimators=430; total time=   2.4s\n",
      "[CV] END max_depth=8, max_features=43, min_samples_leaf=7, n_estimators=805; total time=   4.8s\n",
      "[CV] END max_depth=8, max_features=43, min_samples_leaf=7, n_estimators=805; total time=   4.7s\n",
      "[CV] END max_depth=8, max_features=43, min_samples_leaf=7, n_estimators=805; total time=   4.7s\n",
      "[CV] END max_depth=8, max_features=43, min_samples_leaf=7, n_estimators=805; total time=   5.0s\n",
      "[CV] END max_depth=8, max_features=43, min_samples_leaf=7, n_estimators=805; total time=   4.7s\n",
      "[CV] END max_depth=2, max_features=43, min_samples_leaf=5, n_estimators=680; total time=   2.3s\n",
      "[CV] END max_depth=2, max_features=43, min_samples_leaf=5, n_estimators=680; total time=   2.4s\n",
      "[CV] END max_depth=2, max_features=43, min_samples_leaf=5, n_estimators=680; total time=   2.2s\n",
      "[CV] END max_depth=2, max_features=43, min_samples_leaf=5, n_estimators=680; total time=   2.1s\n",
      "[CV] END max_depth=2, max_features=43, min_samples_leaf=5, n_estimators=680; total time=   2.3s\n",
      "[CV] END max_depth=2, max_features=51, min_samples_leaf=5, n_estimators=736; total time=   2.5s\n",
      "[CV] END max_depth=2, max_features=51, min_samples_leaf=5, n_estimators=736; total time=   2.6s\n",
      "[CV] END max_depth=2, max_features=51, min_samples_leaf=5, n_estimators=736; total time=   2.6s\n",
      "[CV] END max_depth=2, max_features=51, min_samples_leaf=5, n_estimators=736; total time=   2.6s\n",
      "[CV] END max_depth=2, max_features=51, min_samples_leaf=5, n_estimators=736; total time=   2.6s\n",
      "[CV] END max_depth=4, max_features=49, min_samples_leaf=3, n_estimators=415; total time=   2.0s\n",
      "[CV] END max_depth=4, max_features=49, min_samples_leaf=3, n_estimators=415; total time=   2.0s\n",
      "[CV] END max_depth=4, max_features=49, min_samples_leaf=3, n_estimators=415; total time=   2.1s\n",
      "[CV] END max_depth=4, max_features=49, min_samples_leaf=3, n_estimators=415; total time=   2.0s\n",
      "[CV] END max_depth=4, max_features=49, min_samples_leaf=3, n_estimators=415; total time=   1.9s\n",
      "[CV] END max_depth=1, max_features=44, min_samples_leaf=3, n_estimators=871; total time=   2.3s\n",
      "[CV] END max_depth=1, max_features=44, min_samples_leaf=3, n_estimators=871; total time=   2.6s\n",
      "[CV] END max_depth=1, max_features=44, min_samples_leaf=3, n_estimators=871; total time=   2.5s\n",
      "[CV] END max_depth=1, max_features=44, min_samples_leaf=3, n_estimators=871; total time=   2.4s\n",
      "[CV] END max_depth=1, max_features=44, min_samples_leaf=3, n_estimators=871; total time=   2.4s\n",
      "[CV] END max_depth=8, max_features=48, min_samples_leaf=7, n_estimators=665; total time=   4.1s\n",
      "[CV] END max_depth=8, max_features=48, min_samples_leaf=7, n_estimators=665; total time=   3.9s\n",
      "[CV] END max_depth=8, max_features=48, min_samples_leaf=7, n_estimators=665; total time=   3.9s\n",
      "[CV] END max_depth=8, max_features=48, min_samples_leaf=7, n_estimators=665; total time=   3.9s\n",
      "[CV] END max_depth=8, max_features=48, min_samples_leaf=7, n_estimators=665; total time=   3.8s\n",
      "[CV] END max_depth=4, max_features=47, min_samples_leaf=8, n_estimators=781; total time=   3.3s\n",
      "[CV] END max_depth=4, max_features=47, min_samples_leaf=8, n_estimators=781; total time=   3.6s\n",
      "[CV] END max_depth=4, max_features=47, min_samples_leaf=8, n_estimators=781; total time=   3.5s\n",
      "[CV] END max_depth=4, max_features=47, min_samples_leaf=8, n_estimators=781; total time=   3.6s\n",
      "[CV] END max_depth=4, max_features=47, min_samples_leaf=8, n_estimators=781; total time=   3.3s\n"
     ]
    },
    {
     "name": "stdout",
     "output_type": "stream",
     "text": [
      "[CV] END max_depth=5, max_features=45, min_samples_leaf=4, n_estimators=566; total time=   2.7s\n",
      "[CV] END max_depth=5, max_features=45, min_samples_leaf=4, n_estimators=566; total time=   2.7s\n",
      "[CV] END max_depth=5, max_features=45, min_samples_leaf=4, n_estimators=566; total time=   2.7s\n",
      "[CV] END max_depth=5, max_features=45, min_samples_leaf=4, n_estimators=566; total time=   2.7s\n",
      "[CV] END max_depth=5, max_features=45, min_samples_leaf=4, n_estimators=566; total time=   2.8s\n",
      "[CV] END max_depth=9, max_features=40, min_samples_leaf=3, n_estimators=666; total time=   3.9s\n",
      "[CV] END max_depth=9, max_features=40, min_samples_leaf=3, n_estimators=666; total time=   3.9s\n",
      "[CV] END max_depth=9, max_features=40, min_samples_leaf=3, n_estimators=666; total time=   4.1s\n",
      "[CV] END max_depth=9, max_features=40, min_samples_leaf=3, n_estimators=666; total time=   4.0s\n",
      "[CV] END max_depth=9, max_features=40, min_samples_leaf=3, n_estimators=666; total time=   4.1s\n",
      "[CV] END max_depth=8, max_features=55, min_samples_leaf=8, n_estimators=681; total time=   4.6s\n",
      "[CV] END max_depth=8, max_features=55, min_samples_leaf=8, n_estimators=681; total time=   4.9s\n",
      "[CV] END max_depth=8, max_features=55, min_samples_leaf=8, n_estimators=681; total time=   4.7s\n",
      "[CV] END max_depth=8, max_features=55, min_samples_leaf=8, n_estimators=681; total time=   6.8s\n",
      "[CV] END max_depth=8, max_features=55, min_samples_leaf=8, n_estimators=681; total time=   4.6s\n"
     ]
    }
   ],
   "source": [
    "model = RandomForestClassifier(n_jobs =-1)  \n",
    "model_parameters = { 'n_estimators': randint(400,900),\n",
    "                    'max_features': randint(40,63),\n",
    "                    'max_depth' : randint(1,10),\n",
    "                    'min_samples_leaf':randint(1,10),\n",
    "                   }\n",
    "random_search= RandomizedSearchCV(model, model_parameters, n_iter=20, cv=5, random_state=1, verbose=2)\n",
    "\n",
    "model =random_search.fit(X_train, y_train)"
   ]
  },
  {
   "cell_type": "code",
   "execution_count": 265,
   "id": "ab5b0276",
   "metadata": {},
   "outputs": [
    {
     "name": "stdout",
     "output_type": "stream",
     "text": [
      "{'n_estimators': <scipy.stats._distn_infrastructure.rv_discrete_frozen object at 0x7f456928b850>, 'max_features': <scipy.stats._distn_infrastructure.rv_discrete_frozen object at 0x7f45690cd700>, 'max_depth': <scipy.stats._distn_infrastructure.rv_discrete_frozen object at 0x7f456928b070>, 'min_samples_leaf': <scipy.stats._distn_infrastructure.rv_discrete_frozen object at 0x7f4569084c40>}\n"
     ]
    }
   ],
   "source": [
    "print(model_parameters)"
   ]
  },
  {
   "cell_type": "code",
   "execution_count": 54,
   "id": "d18bf437",
   "metadata": {},
   "outputs": [
    {
     "data": {
      "text/plain": [
       "{'max_depth': 6,\n",
       " 'max_features': 16,\n",
       " 'min_samples_leaf': 1,\n",
       " 'n_estimators': 344}"
      ]
     },
     "execution_count": 54,
     "metadata": {},
     "output_type": "execute_result"
    }
   ],
   "source": [
    "random_search.best_params_"
   ]
  },
  {
   "cell_type": "code",
   "execution_count": 56,
   "id": "a73bf885",
   "metadata": {},
   "outputs": [
    {
     "name": "stdout",
     "output_type": "stream",
     "text": [
      "              precision    recall  f1-score   support\n",
      "\n",
      "      hiphop       0.94      1.00      0.97        62\n",
      "   classical       0.97      0.96      0.97        74\n",
      "       blues       0.98      0.73      0.83        59\n",
      "  electronic       0.98      0.84      0.91        57\n",
      "       metal       0.98      0.91      0.94        66\n",
      "        jazz       0.94      0.89      0.91        54\n",
      "     country       0.76      0.92      0.83        72\n",
      "         pop       0.81      0.82      0.82        68\n",
      "        rock       0.85      0.88      0.87        69\n",
      "      reggae       0.81      0.92      0.86        65\n",
      "\n",
      "    accuracy                           0.89       646\n",
      "   macro avg       0.90      0.89      0.89       646\n",
      "weighted avg       0.90      0.89      0.89       646\n",
      "\n"
     ]
    }
   ],
   "source": [
    "model_33 = RandomForestClassifier(n_estimators=344, max_features=16, max_depth=6,min_samples_leaf=1)\n",
    "model_33.fit(X_train, y_train)\n",
    "preds_33 = model_33.predict(X_train)\n",
    "y_true = y_train\n",
    "y_pred = preds_33\n",
    "target_names = ['hiphop', 'classical', 'blues', 'electronic','metal', 'jazz', 'country', 'pop', 'rock', 'reggae']\n",
    "print(classification_report(y_true, y_pred, target_names=target_names))"
   ]
  },
  {
   "cell_type": "code",
   "execution_count": 57,
   "id": "2bf2802b",
   "metadata": {},
   "outputs": [
    {
     "name": "stdout",
     "output_type": "stream",
     "text": [
      "              precision    recall  f1-score   support\n",
      "\n",
      "      hiphop       0.50      0.45      0.47        38\n",
      "   classical       0.65      0.92      0.76        26\n",
      "       blues       1.00      0.03      0.05        38\n",
      "  electronic       0.58      0.42      0.49        43\n",
      "       metal       0.54      0.61      0.57        33\n",
      "        jazz       0.53      0.43      0.48        46\n",
      "     country       0.29      0.57      0.39        28\n",
      "         pop       0.23      0.22      0.22        32\n",
      "        rock       0.28      0.35      0.31        31\n",
      "      reggae       0.50      0.68      0.58        34\n",
      "\n",
      "    accuracy                           0.45       349\n",
      "   macro avg       0.51      0.47      0.43       349\n",
      "weighted avg       0.52      0.45      0.43       349\n",
      "\n"
     ]
    }
   ],
   "source": [
    "model_33 = RandomForestClassifier(n_estimators=344, max_features=16, max_depth=6,min_samples_leaf=1)\n",
    "model_33.fit(X_train, y_train)\n",
    "preds_33 = model_33.predict(X_test)\n",
    "y_true = y_test\n",
    "y_pred = preds_33\n",
    "target_names = ['hiphop', 'classical', 'blues', 'electronic','metal', 'jazz', 'country', 'pop', 'rock', 'reggae']\n",
    "print(classification_report(y_true, y_pred, target_names=target_names))"
   ]
  },
  {
   "cell_type": "markdown",
   "id": "c76d9b31",
   "metadata": {},
   "source": [
    "# If n_estimators are under 400 the data seems to overfit. "
   ]
  },
  {
   "cell_type": "code",
   "execution_count": 51,
   "id": "21216d56",
   "metadata": {},
   "outputs": [
    {
     "name": "stdout",
     "output_type": "stream",
     "text": [
      "              precision    recall  f1-score   support\n",
      "\n",
      "      hiphop       0.98      0.98      0.98        62\n",
      "   classical       0.95      0.97      0.96        74\n",
      "       blues       0.96      0.88      0.92        59\n",
      "  electronic       0.98      0.93      0.95        57\n",
      "       metal       0.97      0.95      0.96        66\n",
      "        jazz       0.94      0.91      0.92        54\n",
      "     country       0.87      0.96      0.91        72\n",
      "         pop       0.85      0.94      0.90        68\n",
      "        rock       0.98      0.90      0.94        69\n",
      "      reggae       0.92      0.94      0.93        65\n",
      "\n",
      "    accuracy                           0.94       646\n",
      "   macro avg       0.94      0.94      0.94       646\n",
      "weighted avg       0.94      0.94      0.94       646\n",
      "\n"
     ]
    }
   ],
   "source": [
    "model_32 = RandomForestClassifier(n_estimators=476, max_features=26, max_depth=7,min_samples_leaf=3)\n",
    "model_32.fit(X_train, y_train)\n",
    "preds_32 = model_32.predict(X_train)\n",
    "y_true = y_train\n",
    "y_pred = preds_32\n",
    "target_names = ['hiphop', 'classical', 'blues', 'electronic','metal', 'jazz', 'country', 'pop', 'rock', 'reggae']\n",
    "print(classification_report(y_true, y_pred, target_names=target_names))"
   ]
  },
  {
   "cell_type": "code",
   "execution_count": 52,
   "id": "bc9eb6a5",
   "metadata": {},
   "outputs": [
    {
     "name": "stdout",
     "output_type": "stream",
     "text": [
      "              precision    recall  f1-score   support\n",
      "\n",
      "      hiphop       0.46      0.45      0.45        38\n",
      "   classical       0.65      0.92      0.76        26\n",
      "       blues       0.50      0.11      0.17        38\n",
      "  electronic       0.60      0.42      0.49        43\n",
      "       metal       0.56      0.61      0.58        33\n",
      "        jazz       0.49      0.43      0.46        46\n",
      "     country       0.33      0.61      0.42        28\n",
      "         pop       0.23      0.25      0.24        32\n",
      "        rock       0.35      0.42      0.38        31\n",
      "      reggae       0.58      0.62      0.60        34\n",
      "\n",
      "    accuracy                           0.46       349\n",
      "   macro avg       0.47      0.48      0.46       349\n",
      "weighted avg       0.48      0.46      0.45       349\n",
      "\n"
     ]
    }
   ],
   "source": [
    "model_32 = RandomForestClassifier(n_estimators=476, max_features=26, max_depth=7,min_samples_leaf=3)\n",
    "model_32.fit(X_train, y_train)\n",
    "preds_32 = model_32.predict(X_test)\n",
    "y_true = y_test\n",
    "y_pred = preds_32\n",
    "target_names = ['hiphop', 'classical', 'blues', 'electronic','metal', 'jazz', 'country', 'pop', 'rock', 'reggae']\n",
    "print(classification_report(y_true, y_pred, target_names=target_names))"
   ]
  },
  {
   "cell_type": "code",
   "execution_count": 37,
   "id": "89f54d49",
   "metadata": {},
   "outputs": [
    {
     "name": "stdout",
     "output_type": "stream",
     "text": [
      "              precision    recall  f1-score   support\n",
      "\n",
      "      hiphop       0.95      0.98      0.97        62\n",
      "   classical       0.96      0.96      0.96        74\n",
      "       blues       0.95      0.71      0.82        59\n",
      "  electronic       0.96      0.84      0.90        57\n",
      "       metal       0.98      0.92      0.95        66\n",
      "        jazz       0.92      0.87      0.90        54\n",
      "     country       0.70      0.89      0.78        72\n",
      "         pop       0.81      0.85      0.83        68\n",
      "        rock       0.89      0.84      0.87        69\n",
      "      reggae       0.82      0.91      0.86        65\n",
      "\n",
      "    accuracy                           0.88       646\n",
      "   macro avg       0.89      0.88      0.88       646\n",
      "weighted avg       0.89      0.88      0.88       646\n",
      "\n"
     ]
    }
   ],
   "source": [
    "model_30 = RandomForestClassifier(n_estimators=710, max_features=30, max_depth=6,min_samples_leaf=2)\n",
    "model_30.fit(X_train, y_train)\n",
    "preds_30 = model_30.predict(X_train)\n",
    "y_true = y_train\n",
    "y_pred = preds_30\n",
    "target_names = ['hiphop', 'classical', 'blues', 'electronic','metal', 'jazz', 'country', 'pop', 'rock', 'reggae']\n",
    "print(classification_report(y_true, y_pred, target_names=target_names))"
   ]
  },
  {
   "cell_type": "code",
   "execution_count": 38,
   "id": "31cb7cff",
   "metadata": {},
   "outputs": [
    {
     "name": "stdout",
     "output_type": "stream",
     "text": [
      "              precision    recall  f1-score   support\n",
      "\n",
      "      hiphop       0.55      0.47      0.51        38\n",
      "   classical       0.65      0.92      0.76        26\n",
      "       blues       0.33      0.03      0.05        38\n",
      "  electronic       0.63      0.44      0.52        43\n",
      "       metal       0.56      0.61      0.58        33\n",
      "        jazz       0.50      0.43      0.47        46\n",
      "     country       0.27      0.54      0.36        28\n",
      "         pop       0.25      0.22      0.23        32\n",
      "        rock       0.33      0.42      0.37        31\n",
      "      reggae       0.49      0.68      0.57        34\n",
      "\n",
      "    accuracy                           0.46       349\n",
      "   macro avg       0.46      0.48      0.44       349\n",
      "weighted avg       0.46      0.46      0.44       349\n",
      "\n"
     ]
    }
   ],
   "source": [
    "model_30 = RandomForestClassifier(n_estimators=710, max_features=30, max_depth=6,min_samples_leaf=2)\n",
    "model_30.fit(X_train, y_train)\n",
    "preds_30 = model_30.predict(X_test)\n",
    "y_true = y_test\n",
    "y_pred = preds_30\n",
    "target_names = ['hiphop', 'classical', 'blues', 'electronic','metal', 'jazz', 'country', 'pop', 'rock', 'reggae']\n",
    "print(classification_report(y_true, y_pred, target_names=target_names))"
   ]
  },
  {
   "cell_type": "code",
   "execution_count": 39,
   "id": "e75a8b7c",
   "metadata": {},
   "outputs": [
    {
     "name": "stdout",
     "output_type": "stream",
     "text": [
      "              precision    recall  f1-score   support\n",
      "\n",
      "      hiphop       0.91      0.95      0.93        62\n",
      "   classical       0.92      0.96      0.94        74\n",
      "       blues       0.95      0.66      0.78        59\n",
      "  electronic       0.91      0.84      0.87        57\n",
      "       metal       0.95      0.89      0.92        66\n",
      "        jazz       0.87      0.85      0.86        54\n",
      "     country       0.71      0.83      0.76        72\n",
      "         pop       0.82      0.85      0.83        68\n",
      "        rock       0.81      0.80      0.80        69\n",
      "      reggae       0.83      0.91      0.87        65\n",
      "\n",
      "    accuracy                           0.86       646\n",
      "   macro avg       0.87      0.86      0.86       646\n",
      "weighted avg       0.86      0.86      0.86       646\n",
      "\n"
     ]
    }
   ],
   "source": [
    "model_22 = RandomForestClassifier(n_estimators=550, max_features=30, max_depth=6,min_samples_leaf=3)\n",
    "model_22.fit(X_train, y_train)\n",
    "preds_22 = model_22.predict(X_train)\n",
    "y_true = y_train\n",
    "y_pred = preds_22\n",
    "target_names = ['hiphop', 'classical', 'blues', 'electronic','metal', 'jazz', 'country', 'pop', 'rock', 'reggae']\n",
    "print(classification_report(y_true, y_pred, target_names=target_names))"
   ]
  },
  {
   "cell_type": "code",
   "execution_count": 40,
   "id": "d790249c",
   "metadata": {},
   "outputs": [
    {
     "name": "stdout",
     "output_type": "stream",
     "text": [
      "              precision    recall  f1-score   support\n",
      "\n",
      "      hiphop       0.56      0.50      0.53        38\n",
      "   classical       0.60      0.92      0.73        26\n",
      "       blues       0.40      0.05      0.09        38\n",
      "  electronic       0.67      0.47      0.55        43\n",
      "       metal       0.53      0.61      0.56        33\n",
      "        jazz       0.50      0.43      0.47        46\n",
      "     country       0.33      0.54      0.41        28\n",
      "         pop       0.26      0.31      0.28        32\n",
      "        rock       0.27      0.32      0.29        31\n",
      "      reggae       0.55      0.65      0.59        34\n",
      "\n",
      "    accuracy                           0.46       349\n",
      "   macro avg       0.47      0.48      0.45       349\n",
      "weighted avg       0.47      0.46      0.45       349\n",
      "\n"
     ]
    }
   ],
   "source": [
    "model_22 = RandomForestClassifier(n_estimators=550, max_features=30, max_depth=6,min_samples_leaf=3)\n",
    "model_22.fit(X_train, y_train)\n",
    "preds_22 = model_22.predict(X_test)\n",
    "y_true = y_test\n",
    "y_pred = preds_22\n",
    "target_names = ['hiphop', 'classical', 'blues', 'electronic','metal', 'jazz', 'country', 'pop', 'rock', 'reggae']\n",
    "print(classification_report(y_true, y_pred, target_names=target_names))"
   ]
  },
  {
   "cell_type": "code",
   "execution_count": 41,
   "id": "842d7d95",
   "metadata": {},
   "outputs": [
    {
     "name": "stdout",
     "output_type": "stream",
     "text": [
      "              precision    recall  f1-score   support\n",
      "\n",
      "      hiphop       0.94      0.98      0.96        62\n",
      "   classical       0.99      0.96      0.97        74\n",
      "       blues       0.95      0.68      0.79        59\n",
      "  electronic       0.96      0.86      0.91        57\n",
      "       metal       0.98      0.89      0.94        66\n",
      "        jazz       0.91      0.91      0.91        54\n",
      "     country       0.68      0.89      0.77        72\n",
      "         pop       0.78      0.82      0.80        68\n",
      "        rock       0.85      0.81      0.83        69\n",
      "      reggae       0.84      0.91      0.87        65\n",
      "\n",
      "    accuracy                           0.87       646\n",
      "   macro avg       0.89      0.87      0.88       646\n",
      "weighted avg       0.88      0.87      0.87       646\n",
      "\n"
     ]
    }
   ],
   "source": [
    "model_31 = RandomForestClassifier(n_estimators=550, max_features=35, max_depth=6,min_samples_leaf=2)\n",
    "model_31.fit(X_train, y_train)\n",
    "preds_31 = model_31.predict(X_train)\n",
    "y_true = y_train\n",
    "y_pred = preds_31\n",
    "target_names = ['hiphop', 'classical', 'blues', 'electronic','metal', 'jazz', 'country', 'pop', 'rock', 'reggae']\n",
    "print(classification_report(y_true, y_pred, target_names=target_names))"
   ]
  },
  {
   "cell_type": "code",
   "execution_count": 42,
   "id": "a9bc900c",
   "metadata": {},
   "outputs": [
    {
     "name": "stdout",
     "output_type": "stream",
     "text": [
      "              precision    recall  f1-score   support\n",
      "\n",
      "      hiphop       0.51      0.47      0.49        38\n",
      "   classical       0.65      0.92      0.76        26\n",
      "       blues       0.67      0.05      0.10        38\n",
      "  electronic       0.65      0.47      0.54        43\n",
      "       metal       0.54      0.61      0.57        33\n",
      "        jazz       0.55      0.46      0.50        46\n",
      "     country       0.26      0.50      0.34        28\n",
      "         pop       0.26      0.28      0.27        32\n",
      "        rock       0.32      0.35      0.34        31\n",
      "      reggae       0.49      0.65      0.56        34\n",
      "\n",
      "    accuracy                           0.46       349\n",
      "   macro avg       0.49      0.48      0.45       349\n",
      "weighted avg       0.50      0.46      0.44       349\n",
      "\n"
     ]
    }
   ],
   "source": [
    "model_31 = RandomForestClassifier(n_estimators=550, max_features=35, max_depth=6,min_samples_leaf=2)\n",
    "model_31.fit(X_train, y_train)\n",
    "preds_31 = model_31.predict(X_test)\n",
    "y_true = y_test\n",
    "y_pred = preds_31\n",
    "target_names = ['hiphop', 'classical', 'blues', 'electronic','metal', 'jazz', 'country', 'pop', 'rock', 'reggae']\n",
    "print(classification_report(y_true, y_pred, target_names=target_names))"
   ]
  },
  {
   "cell_type": "code",
   "execution_count": 43,
   "id": "5f4b0d9c",
   "metadata": {},
   "outputs": [
    {
     "name": "stdout",
     "output_type": "stream",
     "text": [
      "              precision    recall  f1-score   support\n",
      "\n",
      "      hiphop       0.85      0.85      0.85        62\n",
      "   classical       0.90      0.95      0.92        74\n",
      "       blues       1.00      0.20      0.34        59\n",
      "  electronic       0.88      0.74      0.80        57\n",
      "       metal       0.94      0.88      0.91        66\n",
      "        jazz       0.76      0.65      0.70        54\n",
      "     country       0.48      0.78      0.59        72\n",
      "         pop       0.63      0.62      0.62        68\n",
      "        rock       0.74      0.72      0.73        69\n",
      "      reggae       0.69      0.91      0.78        65\n",
      "\n",
      "    accuracy                           0.74       646\n",
      "   macro avg       0.79      0.73      0.72       646\n",
      "weighted avg       0.78      0.74      0.73       646\n",
      "\n"
     ]
    }
   ],
   "source": [
    "model_17 = RandomForestClassifier(n_estimators=400, max_features=30, max_depth=5,min_samples_leaf=2)\n",
    "model_17.fit(X_train, y_train)\n",
    "preds_17 = model_17.predict(X_train)\n",
    "y_true = y_train\n",
    "y_pred = preds_17\n",
    "target_names = ['hiphop', 'classical', 'blues', 'electronic','metal', 'jazz', 'country', 'pop', 'rock', 'reggae']\n",
    "print(classification_report(y_true, y_pred, target_names=target_names))\n"
   ]
  },
  {
   "cell_type": "code",
   "execution_count": 44,
   "id": "7e9ed851",
   "metadata": {},
   "outputs": [
    {
     "name": "stdout",
     "output_type": "stream",
     "text": [
      "              precision    recall  f1-score   support\n",
      "\n",
      "      hiphop       0.50      0.50      0.50        38\n",
      "   classical       0.62      0.92      0.74        26\n",
      "       blues       0.50      0.03      0.05        38\n",
      "  electronic       0.64      0.42      0.51        43\n",
      "       metal       0.51      0.61      0.56        33\n",
      "        jazz       0.53      0.37      0.44        46\n",
      "     country       0.25      0.57      0.35        28\n",
      "         pop       0.27      0.19      0.22        32\n",
      "        rock       0.29      0.35      0.32        31\n",
      "      reggae       0.48      0.68      0.56        34\n",
      "\n",
      "    accuracy                           0.44       349\n",
      "   macro avg       0.46      0.46      0.42       349\n",
      "weighted avg       0.47      0.44      0.42       349\n",
      "\n"
     ]
    }
   ],
   "source": [
    "model_17 = RandomForestClassifier(n_estimators=400, max_features=30, max_depth=5,min_samples_leaf=2)\n",
    "model_17.fit(X_train, y_train)\n",
    "preds_17 = model_17.predict(X_test)\n",
    "y_true = y_test\n",
    "y_pred = preds_17\n",
    "target_names = ['hiphop', 'classical', 'blues', 'electronic','metal', 'jazz', 'country', 'pop', 'rock', 'reggae']\n",
    "print(classification_report(y_true, y_pred, target_names=target_names))"
   ]
  },
  {
   "cell_type": "code",
   "execution_count": 45,
   "id": "1f30db5d",
   "metadata": {},
   "outputs": [
    {
     "name": "stdout",
     "output_type": "stream",
     "text": [
      "              precision    recall  f1-score   support\n",
      "\n",
      "      hiphop       0.94      0.95      0.94        62\n",
      "   classical       0.96      0.96      0.96        74\n",
      "       blues       0.97      0.63      0.76        59\n",
      "  electronic       0.92      0.84      0.88        57\n",
      "       metal       0.97      0.92      0.95        66\n",
      "        jazz       0.89      0.87      0.88        54\n",
      "     country       0.73      0.90      0.81        72\n",
      "         pop       0.77      0.85      0.81        68\n",
      "        rock       0.85      0.84      0.85        69\n",
      "      reggae       0.83      0.91      0.87        65\n",
      "\n",
      "    accuracy                           0.87       646\n",
      "   macro avg       0.88      0.87      0.87       646\n",
      "weighted avg       0.88      0.87      0.87       646\n",
      "\n"
     ]
    }
   ],
   "source": [
    "model_30 = RandomForestClassifier(n_estimators=710, max_features=30, max_depth=6,min_samples_leaf=2)\n",
    "model_30.fit(X_train, y_train)\n",
    "preds_30 = model_30.predict(X_train)\n",
    "y_true = y_train\n",
    "y_pred = preds_30\n",
    "target_names = ['hiphop', 'classical', 'blues', 'electronic','metal', 'jazz', 'country', 'pop', 'rock', 'reggae']\n",
    "print(classification_report(y_true, y_pred, target_names=target_names))"
   ]
  },
  {
   "cell_type": "code",
   "execution_count": 46,
   "id": "32d1e4bc",
   "metadata": {},
   "outputs": [
    {
     "name": "stdout",
     "output_type": "stream",
     "text": [
      "              precision    recall  f1-score   support\n",
      "\n",
      "      hiphop       0.53      0.50      0.51        38\n",
      "   classical       0.65      0.92      0.76        26\n",
      "       blues       0.50      0.03      0.05        38\n",
      "  electronic       0.59      0.44      0.51        43\n",
      "       metal       0.56      0.61      0.58        33\n",
      "        jazz       0.50      0.41      0.45        46\n",
      "     country       0.28      0.54      0.37        28\n",
      "         pop       0.21      0.25      0.23        32\n",
      "        rock       0.32      0.39      0.35        31\n",
      "      reggae       0.55      0.65      0.59        34\n",
      "\n",
      "    accuracy                           0.46       349\n",
      "   macro avg       0.47      0.47      0.44       349\n",
      "weighted avg       0.48      0.46      0.43       349\n",
      "\n"
     ]
    }
   ],
   "source": [
    "model_30 = RandomForestClassifier(n_estimators=710, max_features=30, max_depth=6,min_samples_leaf=2)\n",
    "model_30.fit(X_train, y_train)\n",
    "preds_30 = model_30.predict(X_test)\n",
    "y_true = y_test\n",
    "y_pred = preds_30\n",
    "target_names = ['hiphop', 'classical', 'blues', 'electronic','metal', 'jazz', 'country', 'pop', 'rock', 'reggae']\n",
    "print(classification_report(y_true, y_pred, target_names=target_names))"
   ]
  },
  {
   "cell_type": "markdown",
   "id": "52c4a847",
   "metadata": {},
   "source": [
    "# Second train test split at 0.3"
   ]
  },
  {
   "cell_type": "code",
   "execution_count": 214,
   "id": "b3975ce8",
   "metadata": {},
   "outputs": [],
   "source": [
    "X_train, X_test, y_train, y_test = train_test_split(X, y,test_size=0.3, random_state=42) "
   ]
  },
  {
   "cell_type": "markdown",
   "id": "353df2a8",
   "metadata": {},
   "source": [
    "# Model 39 is the second best but seems more balanced for pop."
   ]
  },
  {
   "cell_type": "code",
   "execution_count": 246,
   "id": "f303f6ff",
   "metadata": {},
   "outputs": [
    {
     "name": "stdout",
     "output_type": "stream",
     "text": [
      "              precision    recall  f1-score   support\n",
      "\n",
      "      hiphop       0.97      0.98      0.98        62\n",
      "   classical       0.87      0.97      0.92        74\n",
      "       blues       0.96      0.88      0.92        59\n",
      "  electronic       0.90      0.91      0.90        57\n",
      "       metal       0.94      0.92      0.93        66\n",
      "        jazz       0.94      0.87      0.90        54\n",
      "     country       0.91      0.89      0.90        72\n",
      "         pop       0.93      0.97      0.95        68\n",
      "        rock       0.97      0.91      0.94        69\n",
      "      reggae       0.91      0.94      0.92        65\n",
      "\n",
      "    accuracy                           0.93       646\n",
      "   macro avg       0.93      0.93      0.93       646\n",
      "weighted avg       0.93      0.93      0.93       646\n",
      "\n"
     ]
    }
   ],
   "source": [
    "model_39 = RandomForestClassifier(n_estimators=687, max_features=49, max_depth=9,min_samples_leaf=6)\n",
    "model_39.fit(X_train, y_train)\n",
    "preds_39 = model_39.predict(X_train)\n",
    "y_true = y_train\n",
    "y_pred = preds_39\n",
    "target_names = ['hiphop', 'classical', 'blues', 'electronic','metal', 'jazz', 'country', 'pop', 'rock', 'reggae']\n",
    "print(classification_report(y_true, y_pred, target_names=target_names))"
   ]
  },
  {
   "cell_type": "code",
   "execution_count": 247,
   "id": "f0bc0464",
   "metadata": {},
   "outputs": [
    {
     "name": "stdout",
     "output_type": "stream",
     "text": [
      "              precision    recall  f1-score   support\n",
      "\n",
      "      hiphop       0.43      0.42      0.43        38\n",
      "   classical       0.56      0.92      0.70        26\n",
      "       blues       0.44      0.11      0.17        38\n",
      "  electronic       0.59      0.47      0.52        43\n",
      "       metal       0.53      0.61      0.56        33\n",
      "        jazz       0.53      0.43      0.48        46\n",
      "     country       0.33      0.50      0.40        28\n",
      "         pop       0.31      0.38      0.34        32\n",
      "        rock       0.30      0.32      0.31        31\n",
      "      reggae       0.58      0.62      0.60        34\n",
      "\n",
      "    accuracy                           0.46       349\n",
      "   macro avg       0.46      0.48      0.45       349\n",
      "weighted avg       0.47      0.46      0.45       349\n",
      "\n"
     ]
    }
   ],
   "source": [
    "model_39 = RandomForestClassifier(n_estimators=687, max_features=49, max_depth=9,min_samples_leaf=6)\n",
    "model_39.fit(X_train, y_train)\n",
    "preds_39 = model_39.predict(X_test)\n",
    "y_true = y_test\n",
    "y_pred = preds_39\n",
    "target_names = ['hiphop', 'classical', 'blues', 'electronic','metal', 'jazz', 'country', 'pop', 'rock', 'reggae']\n",
    "print(classification_report(y_true, y_pred, target_names=target_names))"
   ]
  },
  {
   "cell_type": "markdown",
   "id": "2010af2d",
   "metadata": {},
   "source": [
    "Model 39 has a lower accuracy score but seems to be more balanced. It has less of a problem with pop than the other models."
   ]
  },
  {
   "cell_type": "code",
   "execution_count": 215,
   "id": "d5ccf562",
   "metadata": {},
   "outputs": [
    {
     "name": "stdout",
     "output_type": "stream",
     "text": [
      "              precision    recall  f1-score   support\n",
      "\n",
      "      hiphop       0.96      0.98      0.97        66\n",
      "   classical       0.84      0.97      0.90        80\n",
      "       blues       0.96      0.87      0.92        63\n",
      "  electronic       0.88      0.92      0.90        65\n",
      "       metal       0.93      0.92      0.92        71\n",
      "        jazz       0.95      0.85      0.90        62\n",
      "     country       0.89      0.85      0.87        74\n",
      "         pop       0.95      0.96      0.95        73\n",
      "        rock       0.97      0.90      0.94        72\n",
      "      reggae       0.92      0.94      0.93        70\n",
      "\n",
      "    accuracy                           0.92       696\n",
      "   macro avg       0.92      0.92      0.92       696\n",
      "weighted avg       0.92      0.92      0.92       696\n",
      "\n"
     ]
    }
   ],
   "source": [
    "model_41 = RandomForestClassifier(n_estimators=688, max_features=46, max_depth=9,min_samples_leaf=6)\n",
    "model_41.fit(X_train, y_train)\n",
    "preds_41 = model_41.predict(X_train)\n",
    "y_true = y_train\n",
    "y_pred = preds_41\n",
    "target_names = ['hiphop', 'classical', 'blues', 'electronic','metal', 'jazz', 'country', 'pop', 'rock', 'reggae']\n",
    "print(classification_report(y_true, y_pred, target_names=target_names))"
   ]
  },
  {
   "cell_type": "code",
   "execution_count": 216,
   "id": "130bcdd7",
   "metadata": {},
   "outputs": [
    {
     "name": "stdout",
     "output_type": "stream",
     "text": [
      "              precision    recall  f1-score   support\n",
      "\n",
      "      hiphop       0.47      0.41      0.44        34\n",
      "   classical       0.50      0.90      0.64        20\n",
      "       blues       0.36      0.12      0.18        34\n",
      "  electronic       0.61      0.49      0.54        35\n",
      "       metal       0.57      0.61      0.59        28\n",
      "        jazz       0.54      0.53      0.53        38\n",
      "     country       0.33      0.42      0.37        26\n",
      "         pop       0.25      0.30      0.27        27\n",
      "        rock       0.35      0.39      0.37        28\n",
      "      reggae       0.58      0.62      0.60        29\n",
      "\n",
      "    accuracy                           0.46       299\n",
      "   macro avg       0.46      0.48      0.45       299\n",
      "weighted avg       0.46      0.46      0.45       299\n",
      "\n"
     ]
    }
   ],
   "source": [
    "model_41 = RandomForestClassifier(n_estimators=688, max_features=46, max_depth=9,min_samples_leaf=6)\n",
    "model_41.fit(X_train, y_train)\n",
    "preds_41 = model_41.predict(X_test)\n",
    "y_true = y_test\n",
    "y_pred = preds_41\n",
    "target_names = ['hiphop', 'classical', 'blues', 'electronic','metal', 'jazz', 'country', 'pop', 'rock', 'reggae']\n",
    "print(classification_report(y_true, y_pred, target_names=target_names))"
   ]
  },
  {
   "cell_type": "markdown",
   "id": "fdcb0965",
   "metadata": {},
   "source": [
    "#  34 is the best model with train test split of .3"
   ]
  },
  {
   "cell_type": "code",
   "execution_count": 233,
   "id": "d7614117",
   "metadata": {},
   "outputs": [
    {
     "name": "stdout",
     "output_type": "stream",
     "text": [
      "              precision    recall  f1-score   support\n",
      "\n",
      "      hiphop       0.97      0.98      0.98        62\n",
      "   classical       0.90      0.97      0.94        74\n",
      "       blues       0.98      0.90      0.94        59\n",
      "  electronic       0.93      0.91      0.92        57\n",
      "       metal       0.94      0.94      0.94        66\n",
      "        jazz       0.96      0.89      0.92        54\n",
      "     country       0.93      0.93      0.93        72\n",
      "         pop       0.94      1.00      0.97        68\n",
      "        rock       0.97      0.93      0.95        69\n",
      "      reggae       0.94      0.97      0.95        65\n",
      "\n",
      "    accuracy                           0.94       646\n",
      "   macro avg       0.95      0.94      0.94       646\n",
      "weighted avg       0.95      0.94      0.94       646\n",
      "\n"
     ]
    }
   ],
   "source": [
    "model_34 = RandomForestClassifier(n_estimators=680, max_features=48, max_depth=9,min_samples_leaf=5)\n",
    "model_34.fit(X_train, y_train)\n",
    "preds_34 = model_34.predict(X_train)\n",
    "y_true = y_train\n",
    "y_pred = preds_34\n",
    "target_names = ['hiphop', 'classical', 'blues', 'electronic','metal', 'jazz', 'country', 'pop', 'rock', 'reggae']\n",
    "print(classification_report(y_true, y_pred, target_names=target_names))"
   ]
  },
  {
   "cell_type": "code",
   "execution_count": 263,
   "id": "260976ea",
   "metadata": {},
   "outputs": [
    {
     "ename": "KeyboardInterrupt",
     "evalue": "",
     "output_type": "error",
     "traceback": [
      "\u001b[0;31m---------------------------------------------------------------------------\u001b[0m",
      "\u001b[0;31mEmpty\u001b[0m                                     Traceback (most recent call last)",
      "File \u001b[0;32m~/.pyenv/versions/3.8.12/envs/mcats/lib/python3.8/site-packages/joblib/parallel.py:862\u001b[0m, in \u001b[0;36mParallel.dispatch_one_batch\u001b[0;34m(self, iterator)\u001b[0m\n\u001b[1;32m    861\u001b[0m \u001b[38;5;28;01mtry\u001b[39;00m:\n\u001b[0;32m--> 862\u001b[0m     tasks \u001b[38;5;241m=\u001b[39m \u001b[38;5;28;43mself\u001b[39;49m\u001b[38;5;241;43m.\u001b[39;49m\u001b[43m_ready_batches\u001b[49m\u001b[38;5;241;43m.\u001b[39;49m\u001b[43mget\u001b[49m\u001b[43m(\u001b[49m\u001b[43mblock\u001b[49m\u001b[38;5;241;43m=\u001b[39;49m\u001b[38;5;28;43;01mFalse\u001b[39;49;00m\u001b[43m)\u001b[49m\n\u001b[1;32m    863\u001b[0m \u001b[38;5;28;01mexcept\u001b[39;00m queue\u001b[38;5;241m.\u001b[39mEmpty:\n\u001b[1;32m    864\u001b[0m     \u001b[38;5;66;03m# slice the iterator n_jobs * batchsize items at a time. If the\u001b[39;00m\n\u001b[1;32m    865\u001b[0m     \u001b[38;5;66;03m# slice returns less than that, then the current batchsize puts\u001b[39;00m\n\u001b[0;32m   (...)\u001b[0m\n\u001b[1;32m    868\u001b[0m     \u001b[38;5;66;03m# accordingly to distribute evenly the last items between all\u001b[39;00m\n\u001b[1;32m    869\u001b[0m     \u001b[38;5;66;03m# workers.\u001b[39;00m\n",
      "File \u001b[0;32m~/.pyenv/versions/3.8.12/lib/python3.8/queue.py:167\u001b[0m, in \u001b[0;36mQueue.get\u001b[0;34m(self, block, timeout)\u001b[0m\n\u001b[1;32m    166\u001b[0m     \u001b[38;5;28;01mif\u001b[39;00m \u001b[38;5;129;01mnot\u001b[39;00m \u001b[38;5;28mself\u001b[39m\u001b[38;5;241m.\u001b[39m_qsize():\n\u001b[0;32m--> 167\u001b[0m         \u001b[38;5;28;01mraise\u001b[39;00m Empty\n\u001b[1;32m    168\u001b[0m \u001b[38;5;28;01melif\u001b[39;00m timeout \u001b[38;5;129;01mis\u001b[39;00m \u001b[38;5;28;01mNone\u001b[39;00m:\n",
      "\u001b[0;31mEmpty\u001b[0m: ",
      "\nDuring handling of the above exception, another exception occurred:\n",
      "\u001b[0;31mKeyboardInterrupt\u001b[0m                         Traceback (most recent call last)",
      "Cell \u001b[0;32mIn[263], line 4\u001b[0m\n\u001b[1;32m      1\u001b[0m \u001b[38;5;28;01mfrom\u001b[39;00m \u001b[38;5;21;01msklearn\u001b[39;00m\u001b[38;5;21;01m.\u001b[39;00m\u001b[38;5;21;01minspection\u001b[39;00m \u001b[38;5;28;01mimport\u001b[39;00m permutation_importance\n\u001b[1;32m      2\u001b[0m model \u001b[38;5;241m=\u001b[39m RandomForestClassifier(n_estimators\u001b[38;5;241m=\u001b[39m\u001b[38;5;241m680\u001b[39m, max_features\u001b[38;5;241m=\u001b[39m\u001b[38;5;241m48\u001b[39m, max_depth\u001b[38;5;241m=\u001b[39m\u001b[38;5;241m9\u001b[39m,min_samples_leaf\u001b[38;5;241m=\u001b[39m\u001b[38;5;241m5\u001b[39m)\u001b[38;5;241m.\u001b[39mfit(X, y) \u001b[38;5;66;03m# Fit model\u001b[39;00m\n\u001b[0;32m----> 4\u001b[0m permutation_score \u001b[38;5;241m=\u001b[39m \u001b[43mpermutation_importance\u001b[49m\u001b[43m(\u001b[49m\u001b[43mmodel\u001b[49m\u001b[43m,\u001b[49m\u001b[43m \u001b[49m\u001b[43mX\u001b[49m\u001b[43m,\u001b[49m\u001b[43m \u001b[49m\u001b[43my\u001b[49m\u001b[43m,\u001b[49m\u001b[43m \u001b[49m\u001b[43mn_repeats\u001b[49m\u001b[38;5;241;43m=\u001b[39;49m\u001b[38;5;241;43m100\u001b[39;49m\u001b[43m)\u001b[49m \u001b[38;5;66;03m# Perform Permutation\u001b[39;00m\n\u001b[1;32m      6\u001b[0m importance_df \u001b[38;5;241m=\u001b[39m pd\u001b[38;5;241m.\u001b[39mDataFrame(np\u001b[38;5;241m.\u001b[39mvstack((X\u001b[38;5;241m.\u001b[39mcolumns,\n\u001b[1;32m      7\u001b[0m                                         permutation_score\u001b[38;5;241m.\u001b[39mimportances_mean))\u001b[38;5;241m.\u001b[39mT) \u001b[38;5;66;03m# Unstack results\u001b[39;00m\n\u001b[1;32m      9\u001b[0m importance_df\u001b[38;5;241m.\u001b[39mcolumns\u001b[38;5;241m=\u001b[39m[\u001b[38;5;124m'\u001b[39m\u001b[38;5;124mfeature\u001b[39m\u001b[38;5;124m'\u001b[39m,\u001b[38;5;124m'\u001b[39m\u001b[38;5;124mfeature importance\u001b[39m\u001b[38;5;124m'\u001b[39m] \u001b[38;5;66;03m# Change column names\u001b[39;00m\n",
      "File \u001b[0;32m~/.pyenv/versions/3.8.12/envs/mcats/lib/python3.8/site-packages/sklearn/inspection/_permutation_importance.py:258\u001b[0m, in \u001b[0;36mpermutation_importance\u001b[0;34m(estimator, X, y, scoring, n_repeats, n_jobs, random_state, sample_weight, max_samples)\u001b[0m\n\u001b[1;32m    254\u001b[0m     scorer \u001b[38;5;241m=\u001b[39m _MultimetricScorer(scorers\u001b[38;5;241m=\u001b[39mscorers_dict)\n\u001b[1;32m    256\u001b[0m baseline_score \u001b[38;5;241m=\u001b[39m _weights_scorer(scorer, estimator, X, y, sample_weight)\n\u001b[0;32m--> 258\u001b[0m scores \u001b[38;5;241m=\u001b[39m \u001b[43mParallel\u001b[49m\u001b[43m(\u001b[49m\u001b[43mn_jobs\u001b[49m\u001b[38;5;241;43m=\u001b[39;49m\u001b[43mn_jobs\u001b[49m\u001b[43m)\u001b[49m\u001b[43m(\u001b[49m\n\u001b[1;32m    259\u001b[0m \u001b[43m    \u001b[49m\u001b[43mdelayed\u001b[49m\u001b[43m(\u001b[49m\u001b[43m_calculate_permutation_scores\u001b[49m\u001b[43m)\u001b[49m\u001b[43m(\u001b[49m\n\u001b[1;32m    260\u001b[0m \u001b[43m        \u001b[49m\u001b[43mestimator\u001b[49m\u001b[43m,\u001b[49m\n\u001b[1;32m    261\u001b[0m \u001b[43m        \u001b[49m\u001b[43mX\u001b[49m\u001b[43m,\u001b[49m\n\u001b[1;32m    262\u001b[0m \u001b[43m        \u001b[49m\u001b[43my\u001b[49m\u001b[43m,\u001b[49m\n\u001b[1;32m    263\u001b[0m \u001b[43m        \u001b[49m\u001b[43msample_weight\u001b[49m\u001b[43m,\u001b[49m\n\u001b[1;32m    264\u001b[0m \u001b[43m        \u001b[49m\u001b[43mcol_idx\u001b[49m\u001b[43m,\u001b[49m\n\u001b[1;32m    265\u001b[0m \u001b[43m        \u001b[49m\u001b[43mrandom_seed\u001b[49m\u001b[43m,\u001b[49m\n\u001b[1;32m    266\u001b[0m \u001b[43m        \u001b[49m\u001b[43mn_repeats\u001b[49m\u001b[43m,\u001b[49m\n\u001b[1;32m    267\u001b[0m \u001b[43m        \u001b[49m\u001b[43mscorer\u001b[49m\u001b[43m,\u001b[49m\n\u001b[1;32m    268\u001b[0m \u001b[43m        \u001b[49m\u001b[43mmax_samples\u001b[49m\u001b[43m,\u001b[49m\n\u001b[1;32m    269\u001b[0m \u001b[43m    \u001b[49m\u001b[43m)\u001b[49m\n\u001b[1;32m    270\u001b[0m \u001b[43m    \u001b[49m\u001b[38;5;28;43;01mfor\u001b[39;49;00m\u001b[43m \u001b[49m\u001b[43mcol_idx\u001b[49m\u001b[43m \u001b[49m\u001b[38;5;129;43;01min\u001b[39;49;00m\u001b[43m \u001b[49m\u001b[38;5;28;43mrange\u001b[39;49m\u001b[43m(\u001b[49m\u001b[43mX\u001b[49m\u001b[38;5;241;43m.\u001b[39;49m\u001b[43mshape\u001b[49m\u001b[43m[\u001b[49m\u001b[38;5;241;43m1\u001b[39;49m\u001b[43m]\u001b[49m\u001b[43m)\u001b[49m\n\u001b[1;32m    271\u001b[0m \u001b[43m\u001b[49m\u001b[43m)\u001b[49m\n\u001b[1;32m    273\u001b[0m \u001b[38;5;28;01mif\u001b[39;00m \u001b[38;5;28misinstance\u001b[39m(baseline_score, \u001b[38;5;28mdict\u001b[39m):\n\u001b[1;32m    274\u001b[0m     \u001b[38;5;28;01mreturn\u001b[39;00m {\n\u001b[1;32m    275\u001b[0m         name: _create_importances_bunch(\n\u001b[1;32m    276\u001b[0m             baseline_score[name],\n\u001b[0;32m   (...)\u001b[0m\n\u001b[1;32m    280\u001b[0m         \u001b[38;5;28;01mfor\u001b[39;00m name \u001b[38;5;129;01min\u001b[39;00m baseline_score\n\u001b[1;32m    281\u001b[0m     }\n",
      "File \u001b[0;32m~/.pyenv/versions/3.8.12/envs/mcats/lib/python3.8/site-packages/sklearn/utils/parallel.py:63\u001b[0m, in \u001b[0;36mParallel.__call__\u001b[0;34m(self, iterable)\u001b[0m\n\u001b[1;32m     58\u001b[0m config \u001b[38;5;241m=\u001b[39m get_config()\n\u001b[1;32m     59\u001b[0m iterable_with_config \u001b[38;5;241m=\u001b[39m (\n\u001b[1;32m     60\u001b[0m     (_with_config(delayed_func, config), args, kwargs)\n\u001b[1;32m     61\u001b[0m     \u001b[38;5;28;01mfor\u001b[39;00m delayed_func, args, kwargs \u001b[38;5;129;01min\u001b[39;00m iterable\n\u001b[1;32m     62\u001b[0m )\n\u001b[0;32m---> 63\u001b[0m \u001b[38;5;28;01mreturn\u001b[39;00m \u001b[38;5;28;43msuper\u001b[39;49m\u001b[43m(\u001b[49m\u001b[43m)\u001b[49m\u001b[38;5;241;43m.\u001b[39;49m\u001b[38;5;21;43m__call__\u001b[39;49m\u001b[43m(\u001b[49m\u001b[43miterable_with_config\u001b[49m\u001b[43m)\u001b[49m\n",
      "File \u001b[0;32m~/.pyenv/versions/3.8.12/envs/mcats/lib/python3.8/site-packages/joblib/parallel.py:1088\u001b[0m, in \u001b[0;36mParallel.__call__\u001b[0;34m(self, iterable)\u001b[0m\n\u001b[1;32m   1085\u001b[0m \u001b[38;5;28;01mif\u001b[39;00m \u001b[38;5;28mself\u001b[39m\u001b[38;5;241m.\u001b[39mdispatch_one_batch(iterator):\n\u001b[1;32m   1086\u001b[0m     \u001b[38;5;28mself\u001b[39m\u001b[38;5;241m.\u001b[39m_iterating \u001b[38;5;241m=\u001b[39m \u001b[38;5;28mself\u001b[39m\u001b[38;5;241m.\u001b[39m_original_iterator \u001b[38;5;129;01mis\u001b[39;00m \u001b[38;5;129;01mnot\u001b[39;00m \u001b[38;5;28;01mNone\u001b[39;00m\n\u001b[0;32m-> 1088\u001b[0m \u001b[38;5;28;01mwhile\u001b[39;00m \u001b[38;5;28;43mself\u001b[39;49m\u001b[38;5;241;43m.\u001b[39;49m\u001b[43mdispatch_one_batch\u001b[49m\u001b[43m(\u001b[49m\u001b[43miterator\u001b[49m\u001b[43m)\u001b[49m:\n\u001b[1;32m   1089\u001b[0m     \u001b[38;5;28;01mpass\u001b[39;00m\n\u001b[1;32m   1091\u001b[0m \u001b[38;5;28;01mif\u001b[39;00m pre_dispatch \u001b[38;5;241m==\u001b[39m \u001b[38;5;124m\"\u001b[39m\u001b[38;5;124mall\u001b[39m\u001b[38;5;124m\"\u001b[39m \u001b[38;5;129;01mor\u001b[39;00m n_jobs \u001b[38;5;241m==\u001b[39m \u001b[38;5;241m1\u001b[39m:\n\u001b[1;32m   1092\u001b[0m     \u001b[38;5;66;03m# The iterable was consumed all at once by the above for loop.\u001b[39;00m\n\u001b[1;32m   1093\u001b[0m     \u001b[38;5;66;03m# No need to wait for async callbacks to trigger to\u001b[39;00m\n\u001b[1;32m   1094\u001b[0m     \u001b[38;5;66;03m# consumption.\u001b[39;00m\n",
      "File \u001b[0;32m~/.pyenv/versions/3.8.12/envs/mcats/lib/python3.8/site-packages/joblib/parallel.py:901\u001b[0m, in \u001b[0;36mParallel.dispatch_one_batch\u001b[0;34m(self, iterator)\u001b[0m\n\u001b[1;32m    899\u001b[0m     \u001b[38;5;28;01mreturn\u001b[39;00m \u001b[38;5;28;01mFalse\u001b[39;00m\n\u001b[1;32m    900\u001b[0m \u001b[38;5;28;01melse\u001b[39;00m:\n\u001b[0;32m--> 901\u001b[0m     \u001b[38;5;28;43mself\u001b[39;49m\u001b[38;5;241;43m.\u001b[39;49m\u001b[43m_dispatch\u001b[49m\u001b[43m(\u001b[49m\u001b[43mtasks\u001b[49m\u001b[43m)\u001b[49m\n\u001b[1;32m    902\u001b[0m     \u001b[38;5;28;01mreturn\u001b[39;00m \u001b[38;5;28;01mTrue\u001b[39;00m\n",
      "File \u001b[0;32m~/.pyenv/versions/3.8.12/envs/mcats/lib/python3.8/site-packages/joblib/parallel.py:819\u001b[0m, in \u001b[0;36mParallel._dispatch\u001b[0;34m(self, batch)\u001b[0m\n\u001b[1;32m    817\u001b[0m \u001b[38;5;28;01mwith\u001b[39;00m \u001b[38;5;28mself\u001b[39m\u001b[38;5;241m.\u001b[39m_lock:\n\u001b[1;32m    818\u001b[0m     job_idx \u001b[38;5;241m=\u001b[39m \u001b[38;5;28mlen\u001b[39m(\u001b[38;5;28mself\u001b[39m\u001b[38;5;241m.\u001b[39m_jobs)\n\u001b[0;32m--> 819\u001b[0m     job \u001b[38;5;241m=\u001b[39m \u001b[38;5;28;43mself\u001b[39;49m\u001b[38;5;241;43m.\u001b[39;49m\u001b[43m_backend\u001b[49m\u001b[38;5;241;43m.\u001b[39;49m\u001b[43mapply_async\u001b[49m\u001b[43m(\u001b[49m\u001b[43mbatch\u001b[49m\u001b[43m,\u001b[49m\u001b[43m \u001b[49m\u001b[43mcallback\u001b[49m\u001b[38;5;241;43m=\u001b[39;49m\u001b[43mcb\u001b[49m\u001b[43m)\u001b[49m\n\u001b[1;32m    820\u001b[0m     \u001b[38;5;66;03m# A job can complete so quickly than its callback is\u001b[39;00m\n\u001b[1;32m    821\u001b[0m     \u001b[38;5;66;03m# called before we get here, causing self._jobs to\u001b[39;00m\n\u001b[1;32m    822\u001b[0m     \u001b[38;5;66;03m# grow. To ensure correct results ordering, .insert is\u001b[39;00m\n\u001b[1;32m    823\u001b[0m     \u001b[38;5;66;03m# used (rather than .append) in the following line\u001b[39;00m\n\u001b[1;32m    824\u001b[0m     \u001b[38;5;28mself\u001b[39m\u001b[38;5;241m.\u001b[39m_jobs\u001b[38;5;241m.\u001b[39minsert(job_idx, job)\n",
      "File \u001b[0;32m~/.pyenv/versions/3.8.12/envs/mcats/lib/python3.8/site-packages/joblib/_parallel_backends.py:208\u001b[0m, in \u001b[0;36mSequentialBackend.apply_async\u001b[0;34m(self, func, callback)\u001b[0m\n\u001b[1;32m    206\u001b[0m \u001b[38;5;28;01mdef\u001b[39;00m \u001b[38;5;21mapply_async\u001b[39m(\u001b[38;5;28mself\u001b[39m, func, callback\u001b[38;5;241m=\u001b[39m\u001b[38;5;28;01mNone\u001b[39;00m):\n\u001b[1;32m    207\u001b[0m \u001b[38;5;250m    \u001b[39m\u001b[38;5;124;03m\"\"\"Schedule a func to be run\"\"\"\u001b[39;00m\n\u001b[0;32m--> 208\u001b[0m     result \u001b[38;5;241m=\u001b[39m \u001b[43mImmediateResult\u001b[49m\u001b[43m(\u001b[49m\u001b[43mfunc\u001b[49m\u001b[43m)\u001b[49m\n\u001b[1;32m    209\u001b[0m     \u001b[38;5;28;01mif\u001b[39;00m callback:\n\u001b[1;32m    210\u001b[0m         callback(result)\n",
      "File \u001b[0;32m~/.pyenv/versions/3.8.12/envs/mcats/lib/python3.8/site-packages/joblib/_parallel_backends.py:597\u001b[0m, in \u001b[0;36mImmediateResult.__init__\u001b[0;34m(self, batch)\u001b[0m\n\u001b[1;32m    594\u001b[0m \u001b[38;5;28;01mdef\u001b[39;00m \u001b[38;5;21m__init__\u001b[39m(\u001b[38;5;28mself\u001b[39m, batch):\n\u001b[1;32m    595\u001b[0m     \u001b[38;5;66;03m# Don't delay the application, to avoid keeping the input\u001b[39;00m\n\u001b[1;32m    596\u001b[0m     \u001b[38;5;66;03m# arguments in memory\u001b[39;00m\n\u001b[0;32m--> 597\u001b[0m     \u001b[38;5;28mself\u001b[39m\u001b[38;5;241m.\u001b[39mresults \u001b[38;5;241m=\u001b[39m \u001b[43mbatch\u001b[49m\u001b[43m(\u001b[49m\u001b[43m)\u001b[49m\n",
      "File \u001b[0;32m~/.pyenv/versions/3.8.12/envs/mcats/lib/python3.8/site-packages/joblib/parallel.py:288\u001b[0m, in \u001b[0;36mBatchedCalls.__call__\u001b[0;34m(self)\u001b[0m\n\u001b[1;32m    284\u001b[0m \u001b[38;5;28;01mdef\u001b[39;00m \u001b[38;5;21m__call__\u001b[39m(\u001b[38;5;28mself\u001b[39m):\n\u001b[1;32m    285\u001b[0m     \u001b[38;5;66;03m# Set the default nested backend to self._backend but do not set the\u001b[39;00m\n\u001b[1;32m    286\u001b[0m     \u001b[38;5;66;03m# change the default number of processes to -1\u001b[39;00m\n\u001b[1;32m    287\u001b[0m     \u001b[38;5;28;01mwith\u001b[39;00m parallel_backend(\u001b[38;5;28mself\u001b[39m\u001b[38;5;241m.\u001b[39m_backend, n_jobs\u001b[38;5;241m=\u001b[39m\u001b[38;5;28mself\u001b[39m\u001b[38;5;241m.\u001b[39m_n_jobs):\n\u001b[0;32m--> 288\u001b[0m         \u001b[38;5;28;01mreturn\u001b[39;00m [func(\u001b[38;5;241m*\u001b[39margs, \u001b[38;5;241m*\u001b[39m\u001b[38;5;241m*\u001b[39mkwargs)\n\u001b[1;32m    289\u001b[0m                 \u001b[38;5;28;01mfor\u001b[39;00m func, args, kwargs \u001b[38;5;129;01min\u001b[39;00m \u001b[38;5;28mself\u001b[39m\u001b[38;5;241m.\u001b[39mitems]\n",
      "File \u001b[0;32m~/.pyenv/versions/3.8.12/envs/mcats/lib/python3.8/site-packages/joblib/parallel.py:288\u001b[0m, in \u001b[0;36m<listcomp>\u001b[0;34m(.0)\u001b[0m\n\u001b[1;32m    284\u001b[0m \u001b[38;5;28;01mdef\u001b[39;00m \u001b[38;5;21m__call__\u001b[39m(\u001b[38;5;28mself\u001b[39m):\n\u001b[1;32m    285\u001b[0m     \u001b[38;5;66;03m# Set the default nested backend to self._backend but do not set the\u001b[39;00m\n\u001b[1;32m    286\u001b[0m     \u001b[38;5;66;03m# change the default number of processes to -1\u001b[39;00m\n\u001b[1;32m    287\u001b[0m     \u001b[38;5;28;01mwith\u001b[39;00m parallel_backend(\u001b[38;5;28mself\u001b[39m\u001b[38;5;241m.\u001b[39m_backend, n_jobs\u001b[38;5;241m=\u001b[39m\u001b[38;5;28mself\u001b[39m\u001b[38;5;241m.\u001b[39m_n_jobs):\n\u001b[0;32m--> 288\u001b[0m         \u001b[38;5;28;01mreturn\u001b[39;00m [\u001b[43mfunc\u001b[49m\u001b[43m(\u001b[49m\u001b[38;5;241;43m*\u001b[39;49m\u001b[43margs\u001b[49m\u001b[43m,\u001b[49m\u001b[43m \u001b[49m\u001b[38;5;241;43m*\u001b[39;49m\u001b[38;5;241;43m*\u001b[39;49m\u001b[43mkwargs\u001b[49m\u001b[43m)\u001b[49m\n\u001b[1;32m    289\u001b[0m                 \u001b[38;5;28;01mfor\u001b[39;00m func, args, kwargs \u001b[38;5;129;01min\u001b[39;00m \u001b[38;5;28mself\u001b[39m\u001b[38;5;241m.\u001b[39mitems]\n",
      "File \u001b[0;32m~/.pyenv/versions/3.8.12/envs/mcats/lib/python3.8/site-packages/sklearn/utils/parallel.py:123\u001b[0m, in \u001b[0;36m_FuncWrapper.__call__\u001b[0;34m(self, *args, **kwargs)\u001b[0m\n\u001b[1;32m    121\u001b[0m     config \u001b[38;5;241m=\u001b[39m {}\n\u001b[1;32m    122\u001b[0m \u001b[38;5;28;01mwith\u001b[39;00m config_context(\u001b[38;5;241m*\u001b[39m\u001b[38;5;241m*\u001b[39mconfig):\n\u001b[0;32m--> 123\u001b[0m     \u001b[38;5;28;01mreturn\u001b[39;00m \u001b[38;5;28;43mself\u001b[39;49m\u001b[38;5;241;43m.\u001b[39;49m\u001b[43mfunction\u001b[49m\u001b[43m(\u001b[49m\u001b[38;5;241;43m*\u001b[39;49m\u001b[43margs\u001b[49m\u001b[43m,\u001b[49m\u001b[43m \u001b[49m\u001b[38;5;241;43m*\u001b[39;49m\u001b[38;5;241;43m*\u001b[39;49m\u001b[43mkwargs\u001b[49m\u001b[43m)\u001b[49m\n",
      "File \u001b[0;32m~/.pyenv/versions/3.8.12/envs/mcats/lib/python3.8/site-packages/sklearn/inspection/_permutation_importance.py:63\u001b[0m, in \u001b[0;36m_calculate_permutation_scores\u001b[0;34m(estimator, X, y, sample_weight, col_idx, random_state, n_repeats, scorer, max_samples)\u001b[0m\n\u001b[1;32m     61\u001b[0m     \u001b[38;5;28;01melse\u001b[39;00m:\n\u001b[1;32m     62\u001b[0m         X_permuted[:, col_idx] \u001b[38;5;241m=\u001b[39m X_permuted[shuffling_idx, col_idx]\n\u001b[0;32m---> 63\u001b[0m     scores\u001b[38;5;241m.\u001b[39mappend(\u001b[43m_weights_scorer\u001b[49m\u001b[43m(\u001b[49m\u001b[43mscorer\u001b[49m\u001b[43m,\u001b[49m\u001b[43m \u001b[49m\u001b[43mestimator\u001b[49m\u001b[43m,\u001b[49m\u001b[43m \u001b[49m\u001b[43mX_permuted\u001b[49m\u001b[43m,\u001b[49m\u001b[43m \u001b[49m\u001b[43my\u001b[49m\u001b[43m,\u001b[49m\u001b[43m \u001b[49m\u001b[43msample_weight\u001b[49m\u001b[43m)\u001b[49m)\n\u001b[1;32m     65\u001b[0m \u001b[38;5;28;01mif\u001b[39;00m \u001b[38;5;28misinstance\u001b[39m(scores[\u001b[38;5;241m0\u001b[39m], \u001b[38;5;28mdict\u001b[39m):\n\u001b[1;32m     66\u001b[0m     scores \u001b[38;5;241m=\u001b[39m _aggregate_score_dicts(scores)\n",
      "File \u001b[0;32m~/.pyenv/versions/3.8.12/envs/mcats/lib/python3.8/site-packages/sklearn/inspection/_permutation_importance.py:18\u001b[0m, in \u001b[0;36m_weights_scorer\u001b[0;34m(scorer, estimator, X, y, sample_weight)\u001b[0m\n\u001b[1;32m     16\u001b[0m \u001b[38;5;28;01mif\u001b[39;00m sample_weight \u001b[38;5;129;01mis\u001b[39;00m \u001b[38;5;129;01mnot\u001b[39;00m \u001b[38;5;28;01mNone\u001b[39;00m:\n\u001b[1;32m     17\u001b[0m     \u001b[38;5;28;01mreturn\u001b[39;00m scorer(estimator, X, y, sample_weight)\n\u001b[0;32m---> 18\u001b[0m \u001b[38;5;28;01mreturn\u001b[39;00m \u001b[43mscorer\u001b[49m\u001b[43m(\u001b[49m\u001b[43mestimator\u001b[49m\u001b[43m,\u001b[49m\u001b[43m \u001b[49m\u001b[43mX\u001b[49m\u001b[43m,\u001b[49m\u001b[43m \u001b[49m\u001b[43my\u001b[49m\u001b[43m)\u001b[49m\n",
      "File \u001b[0;32m~/.pyenv/versions/3.8.12/envs/mcats/lib/python3.8/site-packages/sklearn/metrics/_scorer.py:444\u001b[0m, in \u001b[0;36m_passthrough_scorer\u001b[0;34m(estimator, *args, **kwargs)\u001b[0m\n\u001b[1;32m    442\u001b[0m \u001b[38;5;28;01mdef\u001b[39;00m \u001b[38;5;21m_passthrough_scorer\u001b[39m(estimator, \u001b[38;5;241m*\u001b[39margs, \u001b[38;5;241m*\u001b[39m\u001b[38;5;241m*\u001b[39mkwargs):\n\u001b[1;32m    443\u001b[0m \u001b[38;5;250m    \u001b[39m\u001b[38;5;124;03m\"\"\"Function that wraps estimator.score\"\"\"\u001b[39;00m\n\u001b[0;32m--> 444\u001b[0m     \u001b[38;5;28;01mreturn\u001b[39;00m \u001b[43mestimator\u001b[49m\u001b[38;5;241;43m.\u001b[39;49m\u001b[43mscore\u001b[49m\u001b[43m(\u001b[49m\u001b[38;5;241;43m*\u001b[39;49m\u001b[43margs\u001b[49m\u001b[43m,\u001b[49m\u001b[43m \u001b[49m\u001b[38;5;241;43m*\u001b[39;49m\u001b[38;5;241;43m*\u001b[39;49m\u001b[43mkwargs\u001b[49m\u001b[43m)\u001b[49m\n",
      "File \u001b[0;32m~/.pyenv/versions/3.8.12/envs/mcats/lib/python3.8/site-packages/sklearn/base.py:649\u001b[0m, in \u001b[0;36mClassifierMixin.score\u001b[0;34m(self, X, y, sample_weight)\u001b[0m\n\u001b[1;32m    624\u001b[0m \u001b[38;5;250m\u001b[39m\u001b[38;5;124;03m\"\"\"\u001b[39;00m\n\u001b[1;32m    625\u001b[0m \u001b[38;5;124;03mReturn the mean accuracy on the given test data and labels.\u001b[39;00m\n\u001b[1;32m    626\u001b[0m \n\u001b[0;32m   (...)\u001b[0m\n\u001b[1;32m    645\u001b[0m \u001b[38;5;124;03m    Mean accuracy of ``self.predict(X)`` wrt. `y`.\u001b[39;00m\n\u001b[1;32m    646\u001b[0m \u001b[38;5;124;03m\"\"\"\u001b[39;00m\n\u001b[1;32m    647\u001b[0m \u001b[38;5;28;01mfrom\u001b[39;00m \u001b[38;5;21;01m.\u001b[39;00m\u001b[38;5;21;01mmetrics\u001b[39;00m \u001b[38;5;28;01mimport\u001b[39;00m accuracy_score\n\u001b[0;32m--> 649\u001b[0m \u001b[38;5;28;01mreturn\u001b[39;00m accuracy_score(y, \u001b[38;5;28;43mself\u001b[39;49m\u001b[38;5;241;43m.\u001b[39;49m\u001b[43mpredict\u001b[49m\u001b[43m(\u001b[49m\u001b[43mX\u001b[49m\u001b[43m)\u001b[49m, sample_weight\u001b[38;5;241m=\u001b[39msample_weight)\n",
      "File \u001b[0;32m~/.pyenv/versions/3.8.12/envs/mcats/lib/python3.8/site-packages/sklearn/ensemble/_forest.py:820\u001b[0m, in \u001b[0;36mForestClassifier.predict\u001b[0;34m(self, X)\u001b[0m\n\u001b[1;32m    799\u001b[0m \u001b[38;5;28;01mdef\u001b[39;00m \u001b[38;5;21mpredict\u001b[39m(\u001b[38;5;28mself\u001b[39m, X):\n\u001b[1;32m    800\u001b[0m \u001b[38;5;250m    \u001b[39m\u001b[38;5;124;03m\"\"\"\u001b[39;00m\n\u001b[1;32m    801\u001b[0m \u001b[38;5;124;03m    Predict class for X.\u001b[39;00m\n\u001b[1;32m    802\u001b[0m \n\u001b[0;32m   (...)\u001b[0m\n\u001b[1;32m    818\u001b[0m \u001b[38;5;124;03m        The predicted classes.\u001b[39;00m\n\u001b[1;32m    819\u001b[0m \u001b[38;5;124;03m    \"\"\"\u001b[39;00m\n\u001b[0;32m--> 820\u001b[0m     proba \u001b[38;5;241m=\u001b[39m \u001b[38;5;28;43mself\u001b[39;49m\u001b[38;5;241;43m.\u001b[39;49m\u001b[43mpredict_proba\u001b[49m\u001b[43m(\u001b[49m\u001b[43mX\u001b[49m\u001b[43m)\u001b[49m\n\u001b[1;32m    822\u001b[0m     \u001b[38;5;28;01mif\u001b[39;00m \u001b[38;5;28mself\u001b[39m\u001b[38;5;241m.\u001b[39mn_outputs_ \u001b[38;5;241m==\u001b[39m \u001b[38;5;241m1\u001b[39m:\n\u001b[1;32m    823\u001b[0m         \u001b[38;5;28;01mreturn\u001b[39;00m \u001b[38;5;28mself\u001b[39m\u001b[38;5;241m.\u001b[39mclasses_\u001b[38;5;241m.\u001b[39mtake(np\u001b[38;5;241m.\u001b[39margmax(proba, axis\u001b[38;5;241m=\u001b[39m\u001b[38;5;241m1\u001b[39m), axis\u001b[38;5;241m=\u001b[39m\u001b[38;5;241m0\u001b[39m)\n",
      "File \u001b[0;32m~/.pyenv/versions/3.8.12/envs/mcats/lib/python3.8/site-packages/sklearn/ensemble/_forest.py:873\u001b[0m, in \u001b[0;36mForestClassifier.predict_proba\u001b[0;34m(self, X)\u001b[0m\n\u001b[1;32m    868\u001b[0m all_proba \u001b[38;5;241m=\u001b[39m [\n\u001b[1;32m    869\u001b[0m     np\u001b[38;5;241m.\u001b[39mzeros((X\u001b[38;5;241m.\u001b[39mshape[\u001b[38;5;241m0\u001b[39m], j), dtype\u001b[38;5;241m=\u001b[39mnp\u001b[38;5;241m.\u001b[39mfloat64)\n\u001b[1;32m    870\u001b[0m     \u001b[38;5;28;01mfor\u001b[39;00m j \u001b[38;5;129;01min\u001b[39;00m np\u001b[38;5;241m.\u001b[39matleast_1d(\u001b[38;5;28mself\u001b[39m\u001b[38;5;241m.\u001b[39mn_classes_)\n\u001b[1;32m    871\u001b[0m ]\n\u001b[1;32m    872\u001b[0m lock \u001b[38;5;241m=\u001b[39m threading\u001b[38;5;241m.\u001b[39mLock()\n\u001b[0;32m--> 873\u001b[0m \u001b[43mParallel\u001b[49m\u001b[43m(\u001b[49m\u001b[43mn_jobs\u001b[49m\u001b[38;5;241;43m=\u001b[39;49m\u001b[43mn_jobs\u001b[49m\u001b[43m,\u001b[49m\u001b[43m \u001b[49m\u001b[43mverbose\u001b[49m\u001b[38;5;241;43m=\u001b[39;49m\u001b[38;5;28;43mself\u001b[39;49m\u001b[38;5;241;43m.\u001b[39;49m\u001b[43mverbose\u001b[49m\u001b[43m,\u001b[49m\u001b[43m \u001b[49m\u001b[43mrequire\u001b[49m\u001b[38;5;241;43m=\u001b[39;49m\u001b[38;5;124;43m\"\u001b[39;49m\u001b[38;5;124;43msharedmem\u001b[39;49m\u001b[38;5;124;43m\"\u001b[39;49m\u001b[43m)\u001b[49m\u001b[43m(\u001b[49m\n\u001b[1;32m    874\u001b[0m \u001b[43m    \u001b[49m\u001b[43mdelayed\u001b[49m\u001b[43m(\u001b[49m\u001b[43m_accumulate_prediction\u001b[49m\u001b[43m)\u001b[49m\u001b[43m(\u001b[49m\u001b[43me\u001b[49m\u001b[38;5;241;43m.\u001b[39;49m\u001b[43mpredict_proba\u001b[49m\u001b[43m,\u001b[49m\u001b[43m \u001b[49m\u001b[43mX\u001b[49m\u001b[43m,\u001b[49m\u001b[43m \u001b[49m\u001b[43mall_proba\u001b[49m\u001b[43m,\u001b[49m\u001b[43m \u001b[49m\u001b[43mlock\u001b[49m\u001b[43m)\u001b[49m\n\u001b[1;32m    875\u001b[0m \u001b[43m    \u001b[49m\u001b[38;5;28;43;01mfor\u001b[39;49;00m\u001b[43m \u001b[49m\u001b[43me\u001b[49m\u001b[43m \u001b[49m\u001b[38;5;129;43;01min\u001b[39;49;00m\u001b[43m \u001b[49m\u001b[38;5;28;43mself\u001b[39;49m\u001b[38;5;241;43m.\u001b[39;49m\u001b[43mestimators_\u001b[49m\n\u001b[1;32m    876\u001b[0m \u001b[43m\u001b[49m\u001b[43m)\u001b[49m\n\u001b[1;32m    878\u001b[0m \u001b[38;5;28;01mfor\u001b[39;00m proba \u001b[38;5;129;01min\u001b[39;00m all_proba:\n\u001b[1;32m    879\u001b[0m     proba \u001b[38;5;241m/\u001b[39m\u001b[38;5;241m=\u001b[39m \u001b[38;5;28mlen\u001b[39m(\u001b[38;5;28mself\u001b[39m\u001b[38;5;241m.\u001b[39mestimators_)\n",
      "File \u001b[0;32m~/.pyenv/versions/3.8.12/envs/mcats/lib/python3.8/site-packages/sklearn/utils/parallel.py:63\u001b[0m, in \u001b[0;36mParallel.__call__\u001b[0;34m(self, iterable)\u001b[0m\n\u001b[1;32m     58\u001b[0m config \u001b[38;5;241m=\u001b[39m get_config()\n\u001b[1;32m     59\u001b[0m iterable_with_config \u001b[38;5;241m=\u001b[39m (\n\u001b[1;32m     60\u001b[0m     (_with_config(delayed_func, config), args, kwargs)\n\u001b[1;32m     61\u001b[0m     \u001b[38;5;28;01mfor\u001b[39;00m delayed_func, args, kwargs \u001b[38;5;129;01min\u001b[39;00m iterable\n\u001b[1;32m     62\u001b[0m )\n\u001b[0;32m---> 63\u001b[0m \u001b[38;5;28;01mreturn\u001b[39;00m \u001b[38;5;28;43msuper\u001b[39;49m\u001b[43m(\u001b[49m\u001b[43m)\u001b[49m\u001b[38;5;241;43m.\u001b[39;49m\u001b[38;5;21;43m__call__\u001b[39;49m\u001b[43m(\u001b[49m\u001b[43miterable_with_config\u001b[49m\u001b[43m)\u001b[49m\n",
      "File \u001b[0;32m~/.pyenv/versions/3.8.12/envs/mcats/lib/python3.8/site-packages/joblib/parallel.py:1088\u001b[0m, in \u001b[0;36mParallel.__call__\u001b[0;34m(self, iterable)\u001b[0m\n\u001b[1;32m   1085\u001b[0m \u001b[38;5;28;01mif\u001b[39;00m \u001b[38;5;28mself\u001b[39m\u001b[38;5;241m.\u001b[39mdispatch_one_batch(iterator):\n\u001b[1;32m   1086\u001b[0m     \u001b[38;5;28mself\u001b[39m\u001b[38;5;241m.\u001b[39m_iterating \u001b[38;5;241m=\u001b[39m \u001b[38;5;28mself\u001b[39m\u001b[38;5;241m.\u001b[39m_original_iterator \u001b[38;5;129;01mis\u001b[39;00m \u001b[38;5;129;01mnot\u001b[39;00m \u001b[38;5;28;01mNone\u001b[39;00m\n\u001b[0;32m-> 1088\u001b[0m \u001b[38;5;28;01mwhile\u001b[39;00m \u001b[38;5;28;43mself\u001b[39;49m\u001b[38;5;241;43m.\u001b[39;49m\u001b[43mdispatch_one_batch\u001b[49m\u001b[43m(\u001b[49m\u001b[43miterator\u001b[49m\u001b[43m)\u001b[49m:\n\u001b[1;32m   1089\u001b[0m     \u001b[38;5;28;01mpass\u001b[39;00m\n\u001b[1;32m   1091\u001b[0m \u001b[38;5;28;01mif\u001b[39;00m pre_dispatch \u001b[38;5;241m==\u001b[39m \u001b[38;5;124m\"\u001b[39m\u001b[38;5;124mall\u001b[39m\u001b[38;5;124m\"\u001b[39m \u001b[38;5;129;01mor\u001b[39;00m n_jobs \u001b[38;5;241m==\u001b[39m \u001b[38;5;241m1\u001b[39m:\n\u001b[1;32m   1092\u001b[0m     \u001b[38;5;66;03m# The iterable was consumed all at once by the above for loop.\u001b[39;00m\n\u001b[1;32m   1093\u001b[0m     \u001b[38;5;66;03m# No need to wait for async callbacks to trigger to\u001b[39;00m\n\u001b[1;32m   1094\u001b[0m     \u001b[38;5;66;03m# consumption.\u001b[39;00m\n",
      "File \u001b[0;32m~/.pyenv/versions/3.8.12/envs/mcats/lib/python3.8/site-packages/joblib/parallel.py:873\u001b[0m, in \u001b[0;36mParallel.dispatch_one_batch\u001b[0;34m(self, iterator)\u001b[0m\n\u001b[1;32m    870\u001b[0m n_jobs \u001b[38;5;241m=\u001b[39m \u001b[38;5;28mself\u001b[39m\u001b[38;5;241m.\u001b[39m_cached_effective_n_jobs\n\u001b[1;32m    871\u001b[0m big_batch_size \u001b[38;5;241m=\u001b[39m batch_size \u001b[38;5;241m*\u001b[39m n_jobs\n\u001b[0;32m--> 873\u001b[0m islice \u001b[38;5;241m=\u001b[39m \u001b[38;5;28;43mlist\u001b[39;49m\u001b[43m(\u001b[49m\u001b[43mitertools\u001b[49m\u001b[38;5;241;43m.\u001b[39;49m\u001b[43mislice\u001b[49m\u001b[43m(\u001b[49m\u001b[43miterator\u001b[49m\u001b[43m,\u001b[49m\u001b[43m \u001b[49m\u001b[43mbig_batch_size\u001b[49m\u001b[43m)\u001b[49m\u001b[43m)\u001b[49m\n\u001b[1;32m    874\u001b[0m \u001b[38;5;28;01mif\u001b[39;00m \u001b[38;5;28mlen\u001b[39m(islice) \u001b[38;5;241m==\u001b[39m \u001b[38;5;241m0\u001b[39m:\n\u001b[1;32m    875\u001b[0m     \u001b[38;5;28;01mreturn\u001b[39;00m \u001b[38;5;28;01mFalse\u001b[39;00m\n",
      "File \u001b[0;32m~/.pyenv/versions/3.8.12/envs/mcats/lib/python3.8/site-packages/sklearn/utils/parallel.py:59\u001b[0m, in \u001b[0;36m<genexpr>\u001b[0;34m(.0)\u001b[0m\n\u001b[1;32m     54\u001b[0m \u001b[38;5;66;03m# Capture the thread-local scikit-learn configuration at the time\u001b[39;00m\n\u001b[1;32m     55\u001b[0m \u001b[38;5;66;03m# Parallel.__call__ is issued since the tasks can be dispatched\u001b[39;00m\n\u001b[1;32m     56\u001b[0m \u001b[38;5;66;03m# in a different thread depending on the backend and on the value of\u001b[39;00m\n\u001b[1;32m     57\u001b[0m \u001b[38;5;66;03m# pre_dispatch and n_jobs.\u001b[39;00m\n\u001b[1;32m     58\u001b[0m config \u001b[38;5;241m=\u001b[39m get_config()\n\u001b[0;32m---> 59\u001b[0m iterable_with_config \u001b[38;5;241m=\u001b[39m (\n\u001b[1;32m     60\u001b[0m     (_with_config(delayed_func, config), args, kwargs)\n\u001b[1;32m     61\u001b[0m     \u001b[38;5;28;01mfor\u001b[39;00m delayed_func, args, kwargs \u001b[38;5;129;01min\u001b[39;00m iterable\n\u001b[1;32m     62\u001b[0m )\n\u001b[1;32m     63\u001b[0m \u001b[38;5;28;01mreturn\u001b[39;00m \u001b[38;5;28msuper\u001b[39m()\u001b[38;5;241m.\u001b[39m\u001b[38;5;21m__call__\u001b[39m(iterable_with_config)\n",
      "File \u001b[0;32m~/.pyenv/versions/3.8.12/envs/mcats/lib/python3.8/site-packages/sklearn/ensemble/_forest.py:874\u001b[0m, in \u001b[0;36m<genexpr>\u001b[0;34m(.0)\u001b[0m\n\u001b[1;32m    868\u001b[0m all_proba \u001b[38;5;241m=\u001b[39m [\n\u001b[1;32m    869\u001b[0m     np\u001b[38;5;241m.\u001b[39mzeros((X\u001b[38;5;241m.\u001b[39mshape[\u001b[38;5;241m0\u001b[39m], j), dtype\u001b[38;5;241m=\u001b[39mnp\u001b[38;5;241m.\u001b[39mfloat64)\n\u001b[1;32m    870\u001b[0m     \u001b[38;5;28;01mfor\u001b[39;00m j \u001b[38;5;129;01min\u001b[39;00m np\u001b[38;5;241m.\u001b[39matleast_1d(\u001b[38;5;28mself\u001b[39m\u001b[38;5;241m.\u001b[39mn_classes_)\n\u001b[1;32m    871\u001b[0m ]\n\u001b[1;32m    872\u001b[0m lock \u001b[38;5;241m=\u001b[39m threading\u001b[38;5;241m.\u001b[39mLock()\n\u001b[1;32m    873\u001b[0m Parallel(n_jobs\u001b[38;5;241m=\u001b[39mn_jobs, verbose\u001b[38;5;241m=\u001b[39m\u001b[38;5;28mself\u001b[39m\u001b[38;5;241m.\u001b[39mverbose, require\u001b[38;5;241m=\u001b[39m\u001b[38;5;124m\"\u001b[39m\u001b[38;5;124msharedmem\u001b[39m\u001b[38;5;124m\"\u001b[39m)(\n\u001b[0;32m--> 874\u001b[0m     \u001b[43mdelayed\u001b[49m\u001b[43m(\u001b[49m\u001b[43m_accumulate_prediction\u001b[49m\u001b[43m)\u001b[49m\u001b[43m(\u001b[49m\u001b[43me\u001b[49m\u001b[38;5;241;43m.\u001b[39;49m\u001b[43mpredict_proba\u001b[49m\u001b[43m,\u001b[49m\u001b[43m \u001b[49m\u001b[43mX\u001b[49m\u001b[43m,\u001b[49m\u001b[43m \u001b[49m\u001b[43mall_proba\u001b[49m\u001b[43m,\u001b[49m\u001b[43m \u001b[49m\u001b[43mlock\u001b[49m\u001b[43m)\u001b[49m\n\u001b[1;32m    875\u001b[0m     \u001b[38;5;28;01mfor\u001b[39;00m e \u001b[38;5;129;01min\u001b[39;00m \u001b[38;5;28mself\u001b[39m\u001b[38;5;241m.\u001b[39mestimators_\n\u001b[1;32m    876\u001b[0m )\n\u001b[1;32m    878\u001b[0m \u001b[38;5;28;01mfor\u001b[39;00m proba \u001b[38;5;129;01min\u001b[39;00m all_proba:\n\u001b[1;32m    879\u001b[0m     proba \u001b[38;5;241m/\u001b[39m\u001b[38;5;241m=\u001b[39m \u001b[38;5;28mlen\u001b[39m(\u001b[38;5;28mself\u001b[39m\u001b[38;5;241m.\u001b[39mestimators_)\n",
      "File \u001b[0;32m~/.pyenv/versions/3.8.12/envs/mcats/lib/python3.8/site-packages/sklearn/utils/parallel.py:95\u001b[0m, in \u001b[0;36mdelayed.<locals>.delayed_function\u001b[0;34m(*args, **kwargs)\u001b[0m\n\u001b[1;32m     93\u001b[0m \u001b[38;5;129m@functools\u001b[39m\u001b[38;5;241m.\u001b[39mwraps(function)\n\u001b[1;32m     94\u001b[0m \u001b[38;5;28;01mdef\u001b[39;00m \u001b[38;5;21mdelayed_function\u001b[39m(\u001b[38;5;241m*\u001b[39margs, \u001b[38;5;241m*\u001b[39m\u001b[38;5;241m*\u001b[39mkwargs):\n\u001b[0;32m---> 95\u001b[0m     \u001b[38;5;28;01mreturn\u001b[39;00m \u001b[43m_FuncWrapper\u001b[49m\u001b[43m(\u001b[49m\u001b[43mfunction\u001b[49m\u001b[43m)\u001b[49m, args, kwargs\n",
      "File \u001b[0;32m~/.pyenv/versions/3.8.12/envs/mcats/lib/python3.8/site-packages/sklearn/utils/parallel.py:105\u001b[0m, in \u001b[0;36m_FuncWrapper.__init__\u001b[0;34m(self, function)\u001b[0m\n\u001b[1;32m    103\u001b[0m \u001b[38;5;28;01mdef\u001b[39;00m \u001b[38;5;21m__init__\u001b[39m(\u001b[38;5;28mself\u001b[39m, function):\n\u001b[1;32m    104\u001b[0m     \u001b[38;5;28mself\u001b[39m\u001b[38;5;241m.\u001b[39mfunction \u001b[38;5;241m=\u001b[39m function\n\u001b[0;32m--> 105\u001b[0m     \u001b[43mupdate_wrapper\u001b[49m\u001b[43m(\u001b[49m\u001b[38;5;28;43mself\u001b[39;49m\u001b[43m,\u001b[49m\u001b[43m \u001b[49m\u001b[38;5;28;43mself\u001b[39;49m\u001b[38;5;241;43m.\u001b[39;49m\u001b[43mfunction\u001b[49m\u001b[43m)\u001b[49m\n",
      "File \u001b[0;32m~/.pyenv/versions/3.8.12/lib/python3.8/functools.py:55\u001b[0m, in \u001b[0;36mupdate_wrapper\u001b[0;34m(wrapper, wrapped, assigned, updated)\u001b[0m\n\u001b[1;32m     53\u001b[0m         \u001b[38;5;28;01mpass\u001b[39;00m\n\u001b[1;32m     54\u001b[0m     \u001b[38;5;28;01melse\u001b[39;00m:\n\u001b[0;32m---> 55\u001b[0m         \u001b[38;5;28;43msetattr\u001b[39;49m\u001b[43m(\u001b[49m\u001b[43mwrapper\u001b[49m\u001b[43m,\u001b[49m\u001b[43m \u001b[49m\u001b[43mattr\u001b[49m\u001b[43m,\u001b[49m\u001b[43m \u001b[49m\u001b[43mvalue\u001b[49m\u001b[43m)\u001b[49m\n\u001b[1;32m     56\u001b[0m \u001b[38;5;28;01mfor\u001b[39;00m attr \u001b[38;5;129;01min\u001b[39;00m updated:\n\u001b[1;32m     57\u001b[0m     \u001b[38;5;28mgetattr\u001b[39m(wrapper, attr)\u001b[38;5;241m.\u001b[39mupdate(\u001b[38;5;28mgetattr\u001b[39m(wrapped, attr, {}))\n",
      "\u001b[0;31mKeyboardInterrupt\u001b[0m: "
     ]
    }
   ],
   "source": [
    "from sklearn.inspection import permutation_importance\n",
    "model = RandomForestClassifier(n_estimators=680, max_features=48, max_depth=9,min_samples_leaf=5).fit(X, y) # Fit model\n",
    "\n",
    "permutation_score = permutation_importance(model, X, y, n_repeats=100) # Perform Permutation\n",
    "\n",
    "importance_df = pd.DataFrame(np.vstack((X.columns,\n",
    "                                        permutation_score.importances_mean)).T) # Unstack results\n",
    "\n",
    "importance_df.columns=['feature','feature importance'] # Change column names\n",
    "\n",
    "importance_df.sort_values(by=\"feature importance\", ascending = False)"
   ]
  },
  {
   "cell_type": "code",
   "execution_count": 234,
   "id": "57e7d927",
   "metadata": {},
   "outputs": [
    {
     "name": "stdout",
     "output_type": "stream",
     "text": [
      "              precision    recall  f1-score   support\n",
      "\n",
      "      hiphop       0.53      0.55      0.54        38\n",
      "   classical       0.59      0.92      0.72        26\n",
      "       blues       0.36      0.13      0.19        38\n",
      "  electronic       0.66      0.44      0.53        43\n",
      "       metal       0.56      0.61      0.58        33\n",
      "        jazz       0.55      0.46      0.50        46\n",
      "     country       0.30      0.46      0.37        28\n",
      "         pop       0.28      0.31      0.29        32\n",
      "        rock       0.35      0.42      0.38        31\n",
      "      reggae       0.60      0.62      0.61        34\n",
      "\n",
      "    accuracy                           0.48       349\n",
      "   macro avg       0.48      0.49      0.47       349\n",
      "weighted avg       0.49      0.48      0.47       349\n",
      "\n"
     ]
    }
   ],
   "source": [
    "model_34 = RandomForestClassifier(n_estimators=680, max_features=48, max_depth=9,min_samples_leaf=5)\n",
    "model_34.fit(X_train, y_train)\n",
    "preds_34 = model_34.predict(X_test)\n",
    "y_true = y_test\n",
    "y_pred = preds_34\n",
    "target_names = ['hiphop', 'classical', 'blues', 'electronic','metal', 'jazz', 'country', 'pop', 'rock', 'reggae']\n",
    "print(classification_report(y_true, y_pred, target_names=target_names))"
   ]
  },
  {
   "cell_type": "code",
   "execution_count": 69,
   "id": "c26b7594",
   "metadata": {},
   "outputs": [
    {
     "name": "stdout",
     "output_type": "stream",
     "text": [
      "Fitting 5 folds for each of 20 candidates, totalling 100 fits\n",
      "[CV] END max_depth=6, max_features=51, min_samples_leaf=9, n_estimators=655; total time=   2.9s\n",
      "[CV] END max_depth=6, max_features=51, min_samples_leaf=9, n_estimators=655; total time=   1.5s\n",
      "[CV] END max_depth=6, max_features=51, min_samples_leaf=9, n_estimators=655; total time=   1.5s\n",
      "[CV] END max_depth=6, max_features=51, min_samples_leaf=9, n_estimators=655; total time=   1.5s\n",
      "[CV] END max_depth=6, max_features=51, min_samples_leaf=9, n_estimators=655; total time=   1.5s\n",
      "[CV] END max_depth=6, max_features=55, min_samples_leaf=1, n_estimators=544; total time=   1.5s\n",
      "[CV] END max_depth=6, max_features=55, min_samples_leaf=1, n_estimators=544; total time=   1.5s\n",
      "[CV] END max_depth=6, max_features=55, min_samples_leaf=1, n_estimators=544; total time=   1.6s\n",
      "[CV] END max_depth=6, max_features=55, min_samples_leaf=1, n_estimators=544; total time=   1.6s\n",
      "[CV] END max_depth=6, max_features=55, min_samples_leaf=1, n_estimators=544; total time=   1.7s\n",
      "[CV] END max_depth=2, max_features=52, min_samples_leaf=8, n_estimators=637; total time=   1.2s\n",
      "[CV] END max_depth=2, max_features=52, min_samples_leaf=8, n_estimators=637; total time=   1.2s\n",
      "[CV] END max_depth=2, max_features=52, min_samples_leaf=8, n_estimators=637; total time=   1.1s\n",
      "[CV] END max_depth=2, max_features=52, min_samples_leaf=8, n_estimators=637; total time=   1.2s\n",
      "[CV] END max_depth=2, max_features=52, min_samples_leaf=8, n_estimators=637; total time=   1.2s\n",
      "[CV] END max_depth=7, max_features=58, min_samples_leaf=5, n_estimators=654; total time=   2.1s\n",
      "[CV] END max_depth=7, max_features=58, min_samples_leaf=5, n_estimators=654; total time=   2.2s\n",
      "[CV] END max_depth=7, max_features=58, min_samples_leaf=5, n_estimators=654; total time=   2.1s\n",
      "[CV] END max_depth=7, max_features=58, min_samples_leaf=5, n_estimators=654; total time=   2.1s\n",
      "[CV] END max_depth=7, max_features=58, min_samples_leaf=5, n_estimators=654; total time=   2.1s\n",
      "[CV] END max_depth=6, max_features=58, min_samples_leaf=5, n_estimators=795; total time=   2.4s\n",
      "[CV] END max_depth=6, max_features=58, min_samples_leaf=5, n_estimators=795; total time=   2.5s\n",
      "[CV] END max_depth=6, max_features=58, min_samples_leaf=5, n_estimators=795; total time=   2.6s\n",
      "[CV] END max_depth=6, max_features=58, min_samples_leaf=5, n_estimators=795; total time=   2.5s\n",
      "[CV] END max_depth=6, max_features=58, min_samples_leaf=5, n_estimators=795; total time=   2.4s\n",
      "[CV] END max_depth=3, max_features=44, min_samples_leaf=8, n_estimators=871; total time=   2.0s\n",
      "[CV] END max_depth=3, max_features=44, min_samples_leaf=8, n_estimators=871; total time=   1.7s\n",
      "[CV] END max_depth=3, max_features=44, min_samples_leaf=8, n_estimators=871; total time=   1.7s\n",
      "[CV] END max_depth=3, max_features=44, min_samples_leaf=8, n_estimators=871; total time=   1.7s\n",
      "[CV] END max_depth=3, max_features=44, min_samples_leaf=8, n_estimators=871; total time=   1.7s\n",
      "[CV] END max_depth=2, max_features=40, min_samples_leaf=7, n_estimators=541; total time=   0.9s\n",
      "[CV] END max_depth=2, max_features=40, min_samples_leaf=7, n_estimators=541; total time=   0.9s\n",
      "[CV] END max_depth=2, max_features=40, min_samples_leaf=7, n_estimators=541; total time=   0.9s\n",
      "[CV] END max_depth=2, max_features=40, min_samples_leaf=7, n_estimators=541; total time=   0.9s\n",
      "[CV] END max_depth=2, max_features=40, min_samples_leaf=7, n_estimators=541; total time=   0.9s\n",
      "[CV] END max_depth=8, max_features=62, min_samples_leaf=2, n_estimators=784; total time=   2.9s\n",
      "[CV] END max_depth=8, max_features=62, min_samples_leaf=2, n_estimators=784; total time=   3.0s\n",
      "[CV] END max_depth=8, max_features=62, min_samples_leaf=2, n_estimators=784; total time=   2.9s\n",
      "[CV] END max_depth=8, max_features=62, min_samples_leaf=2, n_estimators=784; total time=   3.1s\n",
      "[CV] END max_depth=8, max_features=62, min_samples_leaf=2, n_estimators=784; total time=   4.7s\n",
      "[CV] END max_depth=2, max_features=48, min_samples_leaf=9, n_estimators=541; total time=   1.4s\n",
      "[CV] END max_depth=2, max_features=48, min_samples_leaf=9, n_estimators=541; total time=   1.4s\n",
      "[CV] END max_depth=2, max_features=48, min_samples_leaf=9, n_estimators=541; total time=   1.4s\n",
      "[CV] END max_depth=2, max_features=48, min_samples_leaf=9, n_estimators=541; total time=   1.4s\n",
      "[CV] END max_depth=2, max_features=48, min_samples_leaf=9, n_estimators=541; total time=   1.5s\n",
      "[CV] END max_depth=4, max_features=55, min_samples_leaf=9, n_estimators=430; total time=   1.6s\n",
      "[CV] END max_depth=4, max_features=55, min_samples_leaf=9, n_estimators=430; total time=   1.6s\n",
      "[CV] END max_depth=4, max_features=55, min_samples_leaf=9, n_estimators=430; total time=   1.9s\n",
      "[CV] END max_depth=4, max_features=55, min_samples_leaf=9, n_estimators=430; total time=   1.7s\n",
      "[CV] END max_depth=4, max_features=55, min_samples_leaf=9, n_estimators=430; total time=   1.6s\n",
      "[CV] END max_depth=8, max_features=43, min_samples_leaf=7, n_estimators=805; total time=   3.5s\n",
      "[CV] END max_depth=8, max_features=43, min_samples_leaf=7, n_estimators=805; total time=   3.4s\n",
      "[CV] END max_depth=8, max_features=43, min_samples_leaf=7, n_estimators=805; total time=   3.4s\n",
      "[CV] END max_depth=8, max_features=43, min_samples_leaf=7, n_estimators=805; total time=   3.2s\n",
      "[CV] END max_depth=8, max_features=43, min_samples_leaf=7, n_estimators=805; total time=   3.2s\n",
      "[CV] END max_depth=2, max_features=43, min_samples_leaf=5, n_estimators=680; total time=   1.7s\n",
      "[CV] END max_depth=2, max_features=43, min_samples_leaf=5, n_estimators=680; total time=   1.6s\n",
      "[CV] END max_depth=2, max_features=43, min_samples_leaf=5, n_estimators=680; total time=   1.6s\n",
      "[CV] END max_depth=2, max_features=43, min_samples_leaf=5, n_estimators=680; total time=   1.6s\n",
      "[CV] END max_depth=2, max_features=43, min_samples_leaf=5, n_estimators=680; total time=   1.7s\n",
      "[CV] END max_depth=2, max_features=51, min_samples_leaf=5, n_estimators=736; total time=   1.9s\n",
      "[CV] END max_depth=2, max_features=51, min_samples_leaf=5, n_estimators=736; total time=   1.8s\n",
      "[CV] END max_depth=2, max_features=51, min_samples_leaf=5, n_estimators=736; total time=   1.9s\n",
      "[CV] END max_depth=2, max_features=51, min_samples_leaf=5, n_estimators=736; total time=   1.8s\n",
      "[CV] END max_depth=2, max_features=51, min_samples_leaf=5, n_estimators=736; total time=   1.8s\n",
      "[CV] END max_depth=4, max_features=49, min_samples_leaf=3, n_estimators=415; total time=   1.4s\n",
      "[CV] END max_depth=4, max_features=49, min_samples_leaf=3, n_estimators=415; total time=   1.4s\n",
      "[CV] END max_depth=4, max_features=49, min_samples_leaf=3, n_estimators=415; total time=   1.4s\n",
      "[CV] END max_depth=4, max_features=49, min_samples_leaf=3, n_estimators=415; total time=   1.5s\n",
      "[CV] END max_depth=4, max_features=49, min_samples_leaf=3, n_estimators=415; total time=   1.4s\n",
      "[CV] END max_depth=1, max_features=44, min_samples_leaf=3, n_estimators=871; total time=   1.7s\n",
      "[CV] END max_depth=1, max_features=44, min_samples_leaf=3, n_estimators=871; total time=   1.6s\n",
      "[CV] END max_depth=1, max_features=44, min_samples_leaf=3, n_estimators=871; total time=   1.6s\n",
      "[CV] END max_depth=1, max_features=44, min_samples_leaf=3, n_estimators=871; total time=   1.7s\n",
      "[CV] END max_depth=1, max_features=44, min_samples_leaf=3, n_estimators=871; total time=   1.7s\n",
      "[CV] END max_depth=8, max_features=48, min_samples_leaf=7, n_estimators=665; total time=   2.6s\n",
      "[CV] END max_depth=8, max_features=48, min_samples_leaf=7, n_estimators=665; total time=   2.7s\n",
      "[CV] END max_depth=8, max_features=48, min_samples_leaf=7, n_estimators=665; total time=   2.8s\n",
      "[CV] END max_depth=8, max_features=48, min_samples_leaf=7, n_estimators=665; total time=   2.7s\n",
      "[CV] END max_depth=8, max_features=48, min_samples_leaf=7, n_estimators=665; total time=   2.7s\n",
      "[CV] END max_depth=4, max_features=47, min_samples_leaf=8, n_estimators=781; total time=   2.4s\n",
      "[CV] END max_depth=4, max_features=47, min_samples_leaf=8, n_estimators=781; total time=   2.4s\n",
      "[CV] END max_depth=4, max_features=47, min_samples_leaf=8, n_estimators=781; total time=   2.5s\n",
      "[CV] END max_depth=4, max_features=47, min_samples_leaf=8, n_estimators=781; total time=   2.5s\n",
      "[CV] END max_depth=4, max_features=47, min_samples_leaf=8, n_estimators=781; total time=   2.4s\n"
     ]
    },
    {
     "name": "stdout",
     "output_type": "stream",
     "text": [
      "[CV] END max_depth=5, max_features=45, min_samples_leaf=4, n_estimators=566; total time=   2.1s\n",
      "[CV] END max_depth=5, max_features=45, min_samples_leaf=4, n_estimators=566; total time=   2.1s\n",
      "[CV] END max_depth=5, max_features=45, min_samples_leaf=4, n_estimators=566; total time=   2.0s\n",
      "[CV] END max_depth=5, max_features=45, min_samples_leaf=4, n_estimators=566; total time=   2.1s\n",
      "[CV] END max_depth=5, max_features=45, min_samples_leaf=4, n_estimators=566; total time=   1.9s\n",
      "[CV] END max_depth=9, max_features=40, min_samples_leaf=3, n_estimators=666; total time=   2.7s\n",
      "[CV] END max_depth=9, max_features=40, min_samples_leaf=3, n_estimators=666; total time=   2.6s\n",
      "[CV] END max_depth=9, max_features=40, min_samples_leaf=3, n_estimators=666; total time=   2.6s\n",
      "[CV] END max_depth=9, max_features=40, min_samples_leaf=3, n_estimators=666; total time=   2.8s\n",
      "[CV] END max_depth=9, max_features=40, min_samples_leaf=3, n_estimators=666; total time=   2.7s\n",
      "[CV] END max_depth=8, max_features=55, min_samples_leaf=8, n_estimators=681; total time=   3.0s\n",
      "[CV] END max_depth=8, max_features=55, min_samples_leaf=8, n_estimators=681; total time=   3.1s\n",
      "[CV] END max_depth=8, max_features=55, min_samples_leaf=8, n_estimators=681; total time=   3.0s\n",
      "[CV] END max_depth=8, max_features=55, min_samples_leaf=8, n_estimators=681; total time=   3.2s\n",
      "[CV] END max_depth=8, max_features=55, min_samples_leaf=8, n_estimators=681; total time=   3.0s\n"
     ]
    }
   ],
   "source": [
    "model = RandomForestClassifier(n_jobs =-1)  \n",
    "model_parameters = { 'n_estimators': randint(400,900),\n",
    "                    'max_features': randint(40,63),\n",
    "                    'max_depth' : randint(1,10),\n",
    "                    'min_samples_leaf':randint(1,10),\n",
    "                   }\n",
    "random_search= RandomizedSearchCV(model, model_parameters, n_iter=20, cv=5, random_state=1, verbose=2)\n",
    "\n",
    "model =random_search.fit(X_train, y_train)"
   ]
  },
  {
   "cell_type": "code",
   "execution_count": 70,
   "id": "adf0740d",
   "metadata": {},
   "outputs": [
    {
     "data": {
      "text/plain": [
       "{'max_depth': 6,\n",
       " 'max_features': 55,\n",
       " 'min_samples_leaf': 1,\n",
       " 'n_estimators': 544}"
      ]
     },
     "execution_count": 70,
     "metadata": {},
     "output_type": "execute_result"
    }
   ],
   "source": [
    "random_search.best_params_"
   ]
  },
  {
   "cell_type": "code",
   "execution_count": 93,
   "id": "10d03223",
   "metadata": {},
   "outputs": [
    {
     "name": "stdout",
     "output_type": "stream",
     "text": [
      "              precision    recall  f1-score   support\n",
      "\n",
      "      hiphop       0.90      0.98      0.94        66\n",
      "   classical       0.95      0.96      0.96        80\n",
      "       blues       0.93      0.68      0.79        63\n",
      "  electronic       0.92      0.86      0.89        65\n",
      "       metal       0.98      0.89      0.93        71\n",
      "        jazz       0.85      0.82      0.84        62\n",
      "     country       0.72      0.85      0.78        74\n",
      "         pop       0.82      0.84      0.83        73\n",
      "        rock       0.82      0.85      0.84        72\n",
      "      reggae       0.82      0.90      0.86        70\n",
      "\n",
      "    accuracy                           0.87       696\n",
      "   macro avg       0.87      0.86      0.87       696\n",
      "weighted avg       0.87      0.87      0.87       696\n",
      "\n"
     ]
    }
   ],
   "source": [
    "model_33 = RandomForestClassifier(n_estimators=630, max_features=45, max_depth=6,min_samples_leaf=2)\n",
    "model_33.fit(X_train, y_train)\n",
    "preds_33 = model_33.predict(X_train)\n",
    "y_true = y_train\n",
    "y_pred = preds_33\n",
    "target_names = ['hiphop', 'classical', 'blues', 'electronic','metal', 'jazz', 'country', 'pop', 'rock', 'reggae']\n",
    "print(classification_report(y_true, y_pred, target_names=target_names))"
   ]
  },
  {
   "cell_type": "code",
   "execution_count": 94,
   "id": "07f286e3",
   "metadata": {},
   "outputs": [
    {
     "name": "stdout",
     "output_type": "stream",
     "text": [
      "              precision    recall  f1-score   support\n",
      "\n",
      "      hiphop       0.46      0.35      0.40        34\n",
      "   classical       0.53      0.90      0.67        20\n",
      "       blues       0.50      0.06      0.11        34\n",
      "  electronic       0.59      0.49      0.53        35\n",
      "       metal       0.53      0.61      0.57        28\n",
      "        jazz       0.51      0.50      0.51        38\n",
      "     country       0.30      0.50      0.38        26\n",
      "         pop       0.31      0.30      0.30        27\n",
      "        rock       0.39      0.39      0.39        28\n",
      "      reggae       0.45      0.62      0.52        29\n",
      "\n",
      "    accuracy                           0.45       299\n",
      "   macro avg       0.46      0.47      0.44       299\n",
      "weighted avg       0.46      0.45      0.43       299\n",
      "\n"
     ]
    }
   ],
   "source": [
    "model_33 = RandomForestClassifier(n_estimators=630, max_features=45, max_depth=6,min_samples_leaf=2)\n",
    "model_33.fit(X_train, y_train)\n",
    "preds_33 = model_33.predict(X_test)\n",
    "y_true = y_test\n",
    "y_pred = preds_33\n",
    "target_names = ['hiphop', 'classical', 'blues', 'electronic','metal', 'jazz', 'country', 'pop', 'rock', 'reggae']\n",
    "print(classification_report(y_true, y_pred, target_names=target_names))"
   ]
  },
  {
   "cell_type": "code",
   "execution_count": 18,
   "id": "cc20f7e2",
   "metadata": {},
   "outputs": [
    {
     "name": "stdout",
     "output_type": "stream",
     "text": [
      "              precision    recall  f1-score   support\n",
      "\n",
      "      hiphop       0.90      0.97      0.93        66\n",
      "   classical       0.93      0.96      0.94        80\n",
      "       blues       0.93      0.68      0.79        63\n",
      "  electronic       0.92      0.83      0.87        65\n",
      "       metal       0.95      0.87      0.91        71\n",
      "        jazz       0.86      0.82      0.84        62\n",
      "     country       0.69      0.81      0.75        74\n",
      "         pop       0.79      0.82      0.81        73\n",
      "        rock       0.81      0.81      0.81        72\n",
      "      reggae       0.82      0.91      0.86        70\n",
      "\n",
      "    accuracy                           0.85       696\n",
      "   macro avg       0.86      0.85      0.85       696\n",
      "weighted avg       0.86      0.85      0.85       696\n",
      "\n"
     ]
    }
   ],
   "source": [
    "model_22 = RandomForestClassifier(n_estimators=550, max_features=30, max_depth=6,min_samples_leaf=3)\n",
    "model_22.fit(X_train, y_train)\n",
    "preds_22 = model_22.predict(X_train)\n",
    "y_true = y_train\n",
    "y_pred = preds_22\n",
    "target_names = ['hiphop', 'classical', 'blues', 'electronic','metal', 'jazz', 'country', 'pop', 'rock', 'reggae']\n",
    "print(classification_report(y_true, y_pred, target_names=target_names))"
   ]
  },
  {
   "cell_type": "code",
   "execution_count": 19,
   "id": "f0c2c717",
   "metadata": {},
   "outputs": [
    {
     "name": "stdout",
     "output_type": "stream",
     "text": [
      "              precision    recall  f1-score   support\n",
      "\n",
      "      hiphop       0.48      0.38      0.43        34\n",
      "   classical       0.53      0.90      0.67        20\n",
      "       blues       0.50      0.06      0.11        34\n",
      "  electronic       0.61      0.49      0.54        35\n",
      "       metal       0.50      0.61      0.55        28\n",
      "        jazz       0.50      0.50      0.50        38\n",
      "     country       0.32      0.54      0.40        26\n",
      "         pop       0.35      0.30      0.32        27\n",
      "        rock       0.33      0.32      0.33        28\n",
      "      reggae       0.50      0.69      0.58        29\n",
      "\n",
      "    accuracy                           0.46       299\n",
      "   macro avg       0.46      0.48      0.44       299\n",
      "weighted avg       0.47      0.46      0.43       299\n",
      "\n"
     ]
    }
   ],
   "source": [
    "model_22 = RandomForestClassifier(n_estimators=550, max_features=30, max_depth=6,min_samples_leaf=3)\n",
    "model_22.fit(X_train, y_train)\n",
    "preds_22 = model_22.predict(X_test)\n",
    "y_true = y_test\n",
    "y_pred = preds_22\n",
    "target_names = ['hiphop', 'classical', 'blues', 'electronic','metal', 'jazz', 'country', 'pop', 'rock', 'reggae']\n",
    "print(classification_report(y_true, y_pred, target_names=target_names))"
   ]
  },
  {
   "cell_type": "code",
   "execution_count": 20,
   "id": "40da644a",
   "metadata": {},
   "outputs": [
    {
     "name": "stdout",
     "output_type": "stream",
     "text": [
      "              precision    recall  f1-score   support\n",
      "\n",
      "      hiphop       0.76      0.83      0.80        66\n",
      "   classical       0.89      0.95      0.92        80\n",
      "       blues       0.93      0.22      0.36        63\n",
      "  electronic       0.86      0.77      0.81        65\n",
      "       metal       0.94      0.86      0.90        71\n",
      "        jazz       0.71      0.74      0.72        62\n",
      "     country       0.55      0.78      0.65        74\n",
      "         pop       0.64      0.62      0.63        73\n",
      "        rock       0.71      0.75      0.73        72\n",
      "      reggae       0.68      0.83      0.75        70\n",
      "\n",
      "    accuracy                           0.74       696\n",
      "   macro avg       0.77      0.74      0.73       696\n",
      "weighted avg       0.77      0.74      0.73       696\n",
      "\n"
     ]
    }
   ],
   "source": [
    "model_17 = RandomForestClassifier(n_estimators=400, max_features=30, max_depth=5,min_samples_leaf=2)\n",
    "model_17.fit(X_train, y_train)\n",
    "preds_17 = model_17.predict(X_train)\n",
    "y_true = y_train\n",
    "y_pred = preds_17\n",
    "target_names = ['hiphop', 'classical', 'blues', 'electronic','metal', 'jazz', 'country', 'pop', 'rock', 'reggae']\n",
    "print(classification_report(y_true, y_pred, target_names=target_names))"
   ]
  },
  {
   "cell_type": "code",
   "execution_count": 21,
   "id": "0a296b82",
   "metadata": {},
   "outputs": [
    {
     "name": "stdout",
     "output_type": "stream",
     "text": [
      "              precision    recall  f1-score   support\n",
      "\n",
      "      hiphop       0.50      0.38      0.43        34\n",
      "   classical       0.53      0.90      0.67        20\n",
      "       blues       0.50      0.03      0.06        34\n",
      "  electronic       0.65      0.49      0.56        35\n",
      "       metal       0.55      0.64      0.59        28\n",
      "        jazz       0.49      0.47      0.48        38\n",
      "     country       0.30      0.54      0.38        26\n",
      "         pop       0.21      0.15      0.17        27\n",
      "        rock       0.31      0.32      0.32        28\n",
      "      reggae       0.41      0.66      0.51        29\n",
      "\n",
      "    accuracy                           0.44       299\n",
      "   macro avg       0.44      0.46      0.42       299\n",
      "weighted avg       0.45      0.44      0.41       299\n",
      "\n"
     ]
    }
   ],
   "source": [
    "model_17 = RandomForestClassifier(n_estimators=400, max_features=30, max_depth=5,min_samples_leaf=2)\n",
    "model_17.fit(X_train, y_train)\n",
    "preds_17 = model_17.predict(X_test)\n",
    "y_true = y_test\n",
    "y_pred = preds_17\n",
    "target_names = ['hiphop', 'classical', 'blues', 'electronic','metal', 'jazz', 'country', 'pop', 'rock', 'reggae']\n",
    "print(classification_report(y_true, y_pred, target_names=target_names))"
   ]
  },
  {
   "cell_type": "code",
   "execution_count": 22,
   "id": "9746f1c8",
   "metadata": {},
   "outputs": [
    {
     "name": "stdout",
     "output_type": "stream",
     "text": [
      "              precision    recall  f1-score   support\n",
      "\n",
      "      hiphop       0.91      0.95      0.93        66\n",
      "   classical       0.95      0.96      0.96        80\n",
      "       blues       0.98      0.65      0.78        63\n",
      "  electronic       0.93      0.85      0.89        65\n",
      "       metal       0.97      0.92      0.94        71\n",
      "        jazz       0.85      0.85      0.85        62\n",
      "     country       0.71      0.84      0.77        74\n",
      "         pop       0.79      0.85      0.82        73\n",
      "        rock       0.84      0.86      0.85        72\n",
      "      reggae       0.82      0.90      0.86        70\n",
      "\n",
      "    accuracy                           0.87       696\n",
      "   macro avg       0.88      0.86      0.87       696\n",
      "weighted avg       0.87      0.87      0.87       696\n",
      "\n"
     ]
    }
   ],
   "source": [
    "model_30 = RandomForestClassifier(n_estimators=710, max_features=30, max_depth=6,min_samples_leaf=2)\n",
    "model_30.fit(X_train, y_train)\n",
    "preds_30 = model_30.predict(X_train)\n",
    "y_true = y_train\n",
    "y_pred = preds_30\n",
    "target_names = ['hiphop', 'classical', 'blues', 'electronic','metal', 'jazz', 'country', 'pop', 'rock', 'reggae']\n",
    "print(classification_report(y_true, y_pred, target_names=target_names))"
   ]
  },
  {
   "cell_type": "code",
   "execution_count": 23,
   "id": "db457559",
   "metadata": {},
   "outputs": [
    {
     "name": "stdout",
     "output_type": "stream",
     "text": [
      "              precision    recall  f1-score   support\n",
      "\n",
      "      hiphop       0.48      0.38      0.43        34\n",
      "   classical       0.55      0.90      0.68        20\n",
      "       blues       0.50      0.06      0.11        34\n",
      "  electronic       0.62      0.51      0.56        35\n",
      "       metal       0.52      0.61      0.56        28\n",
      "        jazz       0.51      0.50      0.51        38\n",
      "     country       0.34      0.54      0.42        26\n",
      "         pop       0.35      0.33      0.34        27\n",
      "        rock       0.32      0.32      0.32        28\n",
      "      reggae       0.46      0.66      0.54        29\n",
      "\n",
      "    accuracy                           0.46       299\n",
      "   macro avg       0.46      0.48      0.45       299\n",
      "weighted avg       0.47      0.46      0.44       299\n",
      "\n"
     ]
    }
   ],
   "source": [
    "model_30.fit(X_train, y_train)\n",
    "preds_30 = model_30.predict(X_test)\n",
    "y_true = y_test\n",
    "y_pred = preds_30\n",
    "target_names = ['hiphop', 'classical', 'blues', 'electronic','metal', 'jazz', 'country', 'pop', 'rock', 'reggae']\n",
    "print(classification_report(y_true, y_pred, target_names=target_names))"
   ]
  },
  {
   "cell_type": "code",
   "execution_count": 24,
   "id": "a7ee23d2",
   "metadata": {},
   "outputs": [
    {
     "name": "stdout",
     "output_type": "stream",
     "text": [
      "              precision    recall  f1-score   support\n",
      "\n",
      "      hiphop       0.91      0.95      0.93        66\n",
      "   classical       0.96      0.96      0.96        80\n",
      "       blues       0.94      0.70      0.80        63\n",
      "  electronic       0.93      0.85      0.89        65\n",
      "       metal       0.97      0.92      0.94        71\n",
      "        jazz       0.85      0.82      0.84        62\n",
      "     country       0.71      0.85      0.77        74\n",
      "         pop       0.80      0.86      0.83        73\n",
      "        rock       0.86      0.82      0.84        72\n",
      "      reggae       0.82      0.90      0.86        70\n",
      "\n",
      "    accuracy                           0.87       696\n",
      "   macro avg       0.87      0.86      0.87       696\n",
      "weighted avg       0.87      0.87      0.87       696\n",
      "\n"
     ]
    }
   ],
   "source": [
    "model_31 = RandomForestClassifier(n_estimators=550, max_features=35, max_depth=6,min_samples_leaf=2)\n",
    "model_31.fit(X_train, y_train)\n",
    "preds_31 = model_31.predict(X_train)\n",
    "y_true = y_train\n",
    "y_pred = preds_31\n",
    "target_names = ['hiphop', 'classical', 'blues', 'electronic','metal', 'jazz', 'country', 'pop', 'rock', 'reggae']\n",
    "print(classification_report(y_true, y_pred, target_names=target_names))"
   ]
  },
  {
   "cell_type": "code",
   "execution_count": 25,
   "id": "f3c81aba",
   "metadata": {},
   "outputs": [
    {
     "name": "stdout",
     "output_type": "stream",
     "text": [
      "              precision    recall  f1-score   support\n",
      "\n",
      "      hiphop       0.48      0.38      0.43        34\n",
      "   classical       0.55      0.90      0.68        20\n",
      "       blues       0.67      0.06      0.11        34\n",
      "  electronic       0.62      0.51      0.56        35\n",
      "       metal       0.53      0.61      0.57        28\n",
      "        jazz       0.52      0.45      0.48        38\n",
      "     country       0.29      0.54      0.38        26\n",
      "         pop       0.31      0.30      0.30        27\n",
      "        rock       0.37      0.36      0.36        28\n",
      "      reggae       0.41      0.59      0.49        29\n",
      "\n",
      "    accuracy                           0.45       299\n",
      "   macro avg       0.47      0.47      0.44       299\n",
      "weighted avg       0.48      0.45      0.43       299\n",
      "\n"
     ]
    }
   ],
   "source": [
    "model_31 = RandomForestClassifier(n_estimators=550, max_features=35, max_depth=6,min_samples_leaf=2)\n",
    "model_31.fit(X_train, y_train)\n",
    "preds_31 = model_31.predict(X_test)\n",
    "y_true = y_test\n",
    "y_pred = preds_31\n",
    "target_names = ['hiphop', 'classical', 'blues', 'electronic','metal', 'jazz', 'country', 'pop', 'rock', 'reggae']\n",
    "print(classification_report(y_true, y_pred, target_names=target_names))"
   ]
  },
  {
   "cell_type": "markdown",
   "id": "7e932f0c",
   "metadata": {},
   "source": [
    "# 3rd train test split of  .2"
   ]
  },
  {
   "cell_type": "code",
   "execution_count": 251,
   "id": "c5f64251",
   "metadata": {},
   "outputs": [],
   "source": [
    "X_train, X_test, y_train, y_test = train_test_split(X, y,test_size=0.2, random_state=42)"
   ]
  },
  {
   "cell_type": "code",
   "execution_count": 252,
   "id": "805d9617",
   "metadata": {},
   "outputs": [
    {
     "name": "stdout",
     "output_type": "stream",
     "text": [
      "              precision    recall  f1-score   support\n",
      "\n",
      "      hiphop       0.96      0.99      0.97        79\n",
      "   classical       0.83      0.97      0.89        86\n",
      "       blues       0.91      0.91      0.91        74\n",
      "  electronic       0.89      0.93      0.91        76\n",
      "       metal       0.94      0.91      0.93        82\n",
      "        jazz       0.93      0.87      0.90        76\n",
      "     country       0.94      0.85      0.89        79\n",
      "         pop       0.95      0.95      0.95        84\n",
      "        rock       0.96      0.90      0.93        80\n",
      "      reggae       0.93      0.93      0.93        80\n",
      "\n",
      "    accuracy                           0.92       796\n",
      "   macro avg       0.92      0.92      0.92       796\n",
      "weighted avg       0.92      0.92      0.92       796\n",
      "\n"
     ]
    }
   ],
   "source": [
    "model_39 = RandomForestClassifier(n_estimators=687, max_features=49, max_depth=9,min_samples_leaf=6)\n",
    "model_39.fit(X_train, y_train)\n",
    "preds_39 = model_39.predict(X_train)\n",
    "y_true = y_train\n",
    "y_pred = preds_39\n",
    "target_names = ['hiphop', 'classical', 'blues', 'electronic','metal', 'jazz', 'country', 'pop', 'rock', 'reggae']\n",
    "print(classification_report(y_true, y_pred, target_names=target_names))"
   ]
  },
  {
   "cell_type": "code",
   "execution_count": 253,
   "id": "9676792d",
   "metadata": {},
   "outputs": [
    {
     "name": "stdout",
     "output_type": "stream",
     "text": [
      "              precision    recall  f1-score   support\n",
      "\n",
      "      hiphop       0.48      0.48      0.48        21\n",
      "   classical       0.54      0.93      0.68        14\n",
      "       blues       0.20      0.09      0.12        23\n",
      "  electronic       0.57      0.50      0.53        24\n",
      "       metal       0.50      0.65      0.56        17\n",
      "        jazz       0.48      0.46      0.47        24\n",
      "     country       0.47      0.43      0.45        21\n",
      "         pop       0.17      0.19      0.18        16\n",
      "        rock       0.42      0.40      0.41        20\n",
      "      reggae       0.45      0.53      0.49        19\n",
      "\n",
      "    accuracy                           0.45       199\n",
      "   macro avg       0.43      0.46      0.44       199\n",
      "weighted avg       0.43      0.45      0.43       199\n",
      "\n"
     ]
    }
   ],
   "source": [
    "model_39 = RandomForestClassifier(n_estimators=687, max_features=49, max_depth=9,min_samples_leaf=6)\n",
    "model_39.fit(X_train, y_train)\n",
    "preds_39 = model_39.predict(X_test)\n",
    "y_true = y_test\n",
    "y_pred = preds_39\n",
    "target_names = ['hiphop', 'classical', 'blues', 'electronic','metal', 'jazz', 'country', 'pop', 'rock', 'reggae']\n",
    "print(classification_report(y_true, y_pred, target_names=target_names))"
   ]
  },
  {
   "cell_type": "code",
   "execution_count": 218,
   "id": "31f52ec1",
   "metadata": {},
   "outputs": [
    {
     "name": "stdout",
     "output_type": "stream",
     "text": [
      "              precision    recall  f1-score   support\n",
      "\n",
      "      hiphop       0.95      0.99      0.97        79\n",
      "   classical       0.85      0.97      0.90        86\n",
      "       blues       0.91      0.92      0.91        74\n",
      "  electronic       0.91      0.92      0.92        76\n",
      "       metal       0.93      0.94      0.93        82\n",
      "        jazz       0.93      0.88      0.91        76\n",
      "     country       0.96      0.85      0.90        79\n",
      "         pop       0.94      0.95      0.95        84\n",
      "        rock       0.96      0.89      0.92        80\n",
      "      reggae       0.94      0.94      0.94        80\n",
      "\n",
      "    accuracy                           0.92       796\n",
      "   macro avg       0.93      0.92      0.92       796\n",
      "weighted avg       0.93      0.92      0.92       796\n",
      "\n"
     ]
    }
   ],
   "source": [
    "model_41 = RandomForestClassifier(n_estimators=688, max_features=46, max_depth=9,min_samples_leaf=6)\n",
    "model_41.fit(X_train, y_train)\n",
    "preds_41 = model_41.predict(X_train)\n",
    "y_true = y_train\n",
    "y_pred = preds_41\n",
    "target_names = ['hiphop', 'classical', 'blues', 'electronic','metal', 'jazz', 'country', 'pop', 'rock', 'reggae']\n",
    "print(classification_report(y_true, y_pred, target_names=target_names))"
   ]
  },
  {
   "cell_type": "code",
   "execution_count": 219,
   "id": "e8ebb48b",
   "metadata": {},
   "outputs": [
    {
     "name": "stdout",
     "output_type": "stream",
     "text": [
      "              precision    recall  f1-score   support\n",
      "\n",
      "      hiphop       0.50      0.48      0.49        21\n",
      "   classical       0.57      0.93      0.70        14\n",
      "       blues       0.30      0.13      0.18        23\n",
      "  electronic       0.59      0.54      0.57        24\n",
      "       metal       0.50      0.65      0.56        17\n",
      "        jazz       0.52      0.50      0.51        24\n",
      "     country       0.38      0.29      0.32        21\n",
      "         pop       0.14      0.19      0.16        16\n",
      "        rock       0.40      0.40      0.40        20\n",
      "      reggae       0.50      0.58      0.54        19\n",
      "\n",
      "    accuracy                           0.45       199\n",
      "   macro avg       0.44      0.47      0.44       199\n",
      "weighted avg       0.44      0.45      0.44       199\n",
      "\n"
     ]
    }
   ],
   "source": [
    "model_41 = RandomForestClassifier(n_estimators=688, max_features=46, max_depth=9,min_samples_leaf=6)\n",
    "model_41.fit(X_train, y_train)\n",
    "preds_41 = model_41.predict(X_test)\n",
    "y_true = y_test\n",
    "y_pred = preds_41\n",
    "target_names = ['hiphop', 'classical', 'blues', 'electronic','metal', 'jazz', 'country', 'pop', 'rock', 'reggae']\n",
    "print(classification_report(y_true, y_pred, target_names=target_names))"
   ]
  },
  {
   "cell_type": "code",
   "execution_count": 102,
   "id": "36048d76",
   "metadata": {},
   "outputs": [
    {
     "name": "stdout",
     "output_type": "stream",
     "text": [
      "Fitting 5 folds for each of 20 candidates, totalling 100 fits\n",
      "[CV] END max_depth=6, max_features=51, min_samples_leaf=9, n_estimators=655; total time=   2.7s\n",
      "[CV] END max_depth=6, max_features=51, min_samples_leaf=9, n_estimators=655; total time=   1.7s\n",
      "[CV] END max_depth=6, max_features=51, min_samples_leaf=9, n_estimators=655; total time=   1.7s\n",
      "[CV] END max_depth=6, max_features=51, min_samples_leaf=9, n_estimators=655; total time=   1.7s\n",
      "[CV] END max_depth=6, max_features=51, min_samples_leaf=9, n_estimators=655; total time=   1.7s\n",
      "[CV] END max_depth=6, max_features=55, min_samples_leaf=1, n_estimators=544; total time=   1.7s\n",
      "[CV] END max_depth=6, max_features=55, min_samples_leaf=1, n_estimators=544; total time=   2.0s\n",
      "[CV] END max_depth=6, max_features=55, min_samples_leaf=1, n_estimators=544; total time=   2.6s\n",
      "[CV] END max_depth=6, max_features=55, min_samples_leaf=1, n_estimators=544; total time=   2.5s\n",
      "[CV] END max_depth=6, max_features=55, min_samples_leaf=1, n_estimators=544; total time=   2.3s\n",
      "[CV] END max_depth=2, max_features=52, min_samples_leaf=8, n_estimators=637; total time=   1.4s\n",
      "[CV] END max_depth=2, max_features=52, min_samples_leaf=8, n_estimators=637; total time=   1.3s\n",
      "[CV] END max_depth=2, max_features=52, min_samples_leaf=8, n_estimators=637; total time=   1.2s\n",
      "[CV] END max_depth=2, max_features=52, min_samples_leaf=8, n_estimators=637; total time=   1.4s\n",
      "[CV] END max_depth=2, max_features=52, min_samples_leaf=8, n_estimators=637; total time=   1.5s\n",
      "[CV] END max_depth=7, max_features=58, min_samples_leaf=5, n_estimators=654; total time=   3.0s\n",
      "[CV] END max_depth=7, max_features=58, min_samples_leaf=5, n_estimators=654; total time=   2.4s\n",
      "[CV] END max_depth=7, max_features=58, min_samples_leaf=5, n_estimators=654; total time=   2.4s\n",
      "[CV] END max_depth=7, max_features=58, min_samples_leaf=5, n_estimators=654; total time=   2.5s\n",
      "[CV] END max_depth=7, max_features=58, min_samples_leaf=5, n_estimators=654; total time=   2.7s\n",
      "[CV] END max_depth=6, max_features=58, min_samples_leaf=5, n_estimators=795; total time=   3.0s\n",
      "[CV] END max_depth=6, max_features=58, min_samples_leaf=5, n_estimators=795; total time=   3.0s\n",
      "[CV] END max_depth=6, max_features=58, min_samples_leaf=5, n_estimators=795; total time=   3.1s\n",
      "[CV] END max_depth=6, max_features=58, min_samples_leaf=5, n_estimators=795; total time=   3.3s\n",
      "[CV] END max_depth=6, max_features=58, min_samples_leaf=5, n_estimators=795; total time=   4.1s\n",
      "[CV] END max_depth=3, max_features=44, min_samples_leaf=8, n_estimators=871; total time=   1.9s\n",
      "[CV] END max_depth=3, max_features=44, min_samples_leaf=8, n_estimators=871; total time=   1.9s\n",
      "[CV] END max_depth=3, max_features=44, min_samples_leaf=8, n_estimators=871; total time=   1.8s\n",
      "[CV] END max_depth=3, max_features=44, min_samples_leaf=8, n_estimators=871; total time=   1.8s\n",
      "[CV] END max_depth=3, max_features=44, min_samples_leaf=8, n_estimators=871; total time=   1.8s\n",
      "[CV] END max_depth=2, max_features=40, min_samples_leaf=7, n_estimators=541; total time=   0.9s\n",
      "[CV] END max_depth=2, max_features=40, min_samples_leaf=7, n_estimators=541; total time=   0.9s\n",
      "[CV] END max_depth=2, max_features=40, min_samples_leaf=7, n_estimators=541; total time=   0.9s\n",
      "[CV] END max_depth=2, max_features=40, min_samples_leaf=7, n_estimators=541; total time=   0.9s\n",
      "[CV] END max_depth=2, max_features=40, min_samples_leaf=7, n_estimators=541; total time=   0.9s\n",
      "[CV] END max_depth=8, max_features=62, min_samples_leaf=2, n_estimators=784; total time=   3.4s\n",
      "[CV] END max_depth=8, max_features=62, min_samples_leaf=2, n_estimators=784; total time=   5.1s\n",
      "[CV] END max_depth=8, max_features=62, min_samples_leaf=2, n_estimators=784; total time=   5.1s\n",
      "[CV] END max_depth=8, max_features=62, min_samples_leaf=2, n_estimators=784; total time=   5.0s\n",
      "[CV] END max_depth=8, max_features=62, min_samples_leaf=2, n_estimators=784; total time=   5.1s\n",
      "[CV] END max_depth=2, max_features=48, min_samples_leaf=9, n_estimators=541; total time=   1.4s\n",
      "[CV] END max_depth=2, max_features=48, min_samples_leaf=9, n_estimators=541; total time=   1.6s\n",
      "[CV] END max_depth=2, max_features=48, min_samples_leaf=9, n_estimators=541; total time=   1.5s\n",
      "[CV] END max_depth=2, max_features=48, min_samples_leaf=9, n_estimators=541; total time=   1.4s\n",
      "[CV] END max_depth=2, max_features=48, min_samples_leaf=9, n_estimators=541; total time=   1.4s\n",
      "[CV] END max_depth=4, max_features=55, min_samples_leaf=9, n_estimators=430; total time=   1.7s\n",
      "[CV] END max_depth=4, max_features=55, min_samples_leaf=9, n_estimators=430; total time=   1.9s\n",
      "[CV] END max_depth=4, max_features=55, min_samples_leaf=9, n_estimators=430; total time=   1.8s\n",
      "[CV] END max_depth=4, max_features=55, min_samples_leaf=9, n_estimators=430; total time=   1.8s\n",
      "[CV] END max_depth=4, max_features=55, min_samples_leaf=9, n_estimators=430; total time=   1.7s\n",
      "[CV] END max_depth=8, max_features=43, min_samples_leaf=7, n_estimators=805; total time=   3.6s\n",
      "[CV] END max_depth=8, max_features=43, min_samples_leaf=7, n_estimators=805; total time=   3.8s\n",
      "[CV] END max_depth=8, max_features=43, min_samples_leaf=7, n_estimators=805; total time=   3.9s\n",
      "[CV] END max_depth=8, max_features=43, min_samples_leaf=7, n_estimators=805; total time=   3.7s\n",
      "[CV] END max_depth=8, max_features=43, min_samples_leaf=7, n_estimators=805; total time=   4.3s\n",
      "[CV] END max_depth=2, max_features=43, min_samples_leaf=5, n_estimators=680; total time=   2.5s\n",
      "[CV] END max_depth=2, max_features=43, min_samples_leaf=5, n_estimators=680; total time=   2.6s\n",
      "[CV] END max_depth=2, max_features=43, min_samples_leaf=5, n_estimators=680; total time=   2.6s\n",
      "[CV] END max_depth=2, max_features=43, min_samples_leaf=5, n_estimators=680; total time=   2.3s\n",
      "[CV] END max_depth=2, max_features=43, min_samples_leaf=5, n_estimators=680; total time=   2.1s\n",
      "[CV] END max_depth=2, max_features=51, min_samples_leaf=5, n_estimators=736; total time=   2.1s\n",
      "[CV] END max_depth=2, max_features=51, min_samples_leaf=5, n_estimators=736; total time=   2.1s\n",
      "[CV] END max_depth=2, max_features=51, min_samples_leaf=5, n_estimators=736; total time=   2.1s\n",
      "[CV] END max_depth=2, max_features=51, min_samples_leaf=5, n_estimators=736; total time=   2.2s\n",
      "[CV] END max_depth=2, max_features=51, min_samples_leaf=5, n_estimators=736; total time=   2.1s\n",
      "[CV] END max_depth=4, max_features=49, min_samples_leaf=3, n_estimators=415; total time=   1.6s\n",
      "[CV] END max_depth=4, max_features=49, min_samples_leaf=3, n_estimators=415; total time=   1.6s\n",
      "[CV] END max_depth=4, max_features=49, min_samples_leaf=3, n_estimators=415; total time=   1.6s\n",
      "[CV] END max_depth=4, max_features=49, min_samples_leaf=3, n_estimators=415; total time=   1.5s\n",
      "[CV] END max_depth=4, max_features=49, min_samples_leaf=3, n_estimators=415; total time=   1.7s\n",
      "[CV] END max_depth=1, max_features=44, min_samples_leaf=3, n_estimators=871; total time=   2.1s\n",
      "[CV] END max_depth=1, max_features=44, min_samples_leaf=3, n_estimators=871; total time=   1.9s\n",
      "[CV] END max_depth=1, max_features=44, min_samples_leaf=3, n_estimators=871; total time=   2.0s\n",
      "[CV] END max_depth=1, max_features=44, min_samples_leaf=3, n_estimators=871; total time=   1.8s\n",
      "[CV] END max_depth=1, max_features=44, min_samples_leaf=3, n_estimators=871; total time=   1.8s\n",
      "[CV] END max_depth=8, max_features=48, min_samples_leaf=7, n_estimators=665; total time=   3.2s\n",
      "[CV] END max_depth=8, max_features=48, min_samples_leaf=7, n_estimators=665; total time=   3.3s\n",
      "[CV] END max_depth=8, max_features=48, min_samples_leaf=7, n_estimators=665; total time=   3.7s\n",
      "[CV] END max_depth=8, max_features=48, min_samples_leaf=7, n_estimators=665; total time=   3.3s\n",
      "[CV] END max_depth=8, max_features=48, min_samples_leaf=7, n_estimators=665; total time=   3.2s\n",
      "[CV] END max_depth=4, max_features=47, min_samples_leaf=8, n_estimators=781; total time=   2.9s\n",
      "[CV] END max_depth=4, max_features=47, min_samples_leaf=8, n_estimators=781; total time=   3.0s\n",
      "[CV] END max_depth=4, max_features=47, min_samples_leaf=8, n_estimators=781; total time=   2.8s\n",
      "[CV] END max_depth=4, max_features=47, min_samples_leaf=8, n_estimators=781; total time=   2.7s\n",
      "[CV] END max_depth=4, max_features=47, min_samples_leaf=8, n_estimators=781; total time=   2.7s\n"
     ]
    },
    {
     "name": "stdout",
     "output_type": "stream",
     "text": [
      "[CV] END max_depth=5, max_features=45, min_samples_leaf=4, n_estimators=566; total time=   2.3s\n",
      "[CV] END max_depth=5, max_features=45, min_samples_leaf=4, n_estimators=566; total time=   2.2s\n",
      "[CV] END max_depth=5, max_features=45, min_samples_leaf=4, n_estimators=566; total time=   2.2s\n",
      "[CV] END max_depth=5, max_features=45, min_samples_leaf=4, n_estimators=566; total time=   2.3s\n",
      "[CV] END max_depth=5, max_features=45, min_samples_leaf=4, n_estimators=566; total time=   2.3s\n",
      "[CV] END max_depth=9, max_features=40, min_samples_leaf=3, n_estimators=666; total time=   3.1s\n",
      "[CV] END max_depth=9, max_features=40, min_samples_leaf=3, n_estimators=666; total time=   3.2s\n",
      "[CV] END max_depth=9, max_features=40, min_samples_leaf=3, n_estimators=666; total time=   3.5s\n",
      "[CV] END max_depth=9, max_features=40, min_samples_leaf=3, n_estimators=666; total time=   3.3s\n",
      "[CV] END max_depth=9, max_features=40, min_samples_leaf=3, n_estimators=666; total time=   3.3s\n",
      "[CV] END max_depth=8, max_features=55, min_samples_leaf=8, n_estimators=681; total time=   3.9s\n",
      "[CV] END max_depth=8, max_features=55, min_samples_leaf=8, n_estimators=681; total time=   3.6s\n",
      "[CV] END max_depth=8, max_features=55, min_samples_leaf=8, n_estimators=681; total time=   4.0s\n",
      "[CV] END max_depth=8, max_features=55, min_samples_leaf=8, n_estimators=681; total time=   3.5s\n",
      "[CV] END max_depth=8, max_features=55, min_samples_leaf=8, n_estimators=681; total time=   3.5s\n"
     ]
    }
   ],
   "source": [
    "model = RandomForestClassifier(n_jobs =-1)  \n",
    "model_parameters = { 'n_estimators': randint(400,900),\n",
    "                    'max_features': randint(40,63),\n",
    "                    'max_depth' : randint(1,10),\n",
    "                    'min_samples_leaf':randint(1,10),\n",
    "                   }\n",
    "random_search= RandomizedSearchCV(model, model_parameters, n_iter=20, cv=5, random_state=1, verbose=2)\n",
    "\n",
    "model =random_search.fit(X_train, y_train)"
   ]
  },
  {
   "cell_type": "code",
   "execution_count": 104,
   "id": "f9792fba",
   "metadata": {},
   "outputs": [
    {
     "data": {
      "text/plain": [
       "{'max_depth': 9,\n",
       " 'max_features': 40,\n",
       " 'min_samples_leaf': 3,\n",
       " 'n_estimators': 666}"
      ]
     },
     "execution_count": 104,
     "metadata": {},
     "output_type": "execute_result"
    }
   ],
   "source": [
    "random_search.best_params_"
   ]
  },
  {
   "cell_type": "code",
   "execution_count": 236,
   "id": "e8f0bf37",
   "metadata": {},
   "outputs": [
    {
     "name": "stdout",
     "output_type": "stream",
     "text": [
      "              precision    recall  f1-score   support\n",
      "\n",
      "      hiphop       1.00      0.98      0.99        62\n",
      "   classical       0.89      0.97      0.93        74\n",
      "       blues       0.98      0.90      0.94        59\n",
      "  electronic       0.91      0.93      0.92        57\n",
      "       metal       0.94      0.95      0.95        66\n",
      "        jazz       0.96      0.91      0.93        54\n",
      "     country       0.96      0.93      0.94        72\n",
      "         pop       0.93      0.99      0.96        68\n",
      "        rock       0.97      0.93      0.95        69\n",
      "      reggae       0.94      0.95      0.95        65\n",
      "\n",
      "    accuracy                           0.95       646\n",
      "   macro avg       0.95      0.94      0.95       646\n",
      "weighted avg       0.95      0.95      0.95       646\n",
      "\n"
     ]
    }
   ],
   "source": [
    "model_34 = RandomForestClassifier(n_estimators=680, max_features=48, max_depth=9,min_samples_leaf=5)\n",
    "model_34.fit(X_train, y_train)\n",
    "preds_34 = model_34.predict(X_train)\n",
    "y_true = y_train\n",
    "y_pred = preds_34\n",
    "target_names = ['hiphop', 'classical', 'blues', 'electronic','metal', 'jazz', 'country', 'pop', 'rock', 'reggae']\n",
    "print(classification_report(y_true, y_pred, target_names=target_names))"
   ]
  },
  {
   "cell_type": "code",
   "execution_count": 235,
   "id": "93252ab0",
   "metadata": {},
   "outputs": [
    {
     "name": "stdout",
     "output_type": "stream",
     "text": [
      "              precision    recall  f1-score   support\n",
      "\n",
      "      hiphop       0.47      0.47      0.47        38\n",
      "   classical       0.60      0.92      0.73        26\n",
      "       blues       0.40      0.16      0.23        38\n",
      "  electronic       0.56      0.42      0.48        43\n",
      "       metal       0.54      0.61      0.57        33\n",
      "        jazz       0.54      0.46      0.49        46\n",
      "     country       0.32      0.46      0.38        28\n",
      "         pop       0.29      0.34      0.31        32\n",
      "        rock       0.32      0.35      0.34        31\n",
      "      reggae       0.60      0.62      0.61        34\n",
      "\n",
      "    accuracy                           0.47       349\n",
      "   macro avg       0.46      0.48      0.46       349\n",
      "weighted avg       0.47      0.47      0.46       349\n",
      "\n"
     ]
    }
   ],
   "source": [
    "model_34 = RandomForestClassifier(n_estimators=680, max_features=48, max_depth=9,min_samples_leaf=5)\n",
    "model_34.fit(X_train, y_train)\n",
    "preds_34 = model_34.predict(X_test)\n",
    "y_true = y_test\n",
    "y_pred = preds_34\n",
    "target_names = ['hiphop', 'classical', 'blues', 'electronic','metal', 'jazz', 'country', 'pop', 'rock', 'reggae']\n",
    "print(classification_report(y_true, y_pred, target_names=target_names))"
   ]
  },
  {
   "cell_type": "code",
   "execution_count": 168,
   "id": "37d54947",
   "metadata": {},
   "outputs": [
    {
     "name": "stdout",
     "output_type": "stream",
     "text": [
      "              precision    recall  f1-score   support\n",
      "\n",
      "      hiphop       0.96      0.97      0.97        79\n",
      "   classical       0.83      0.97      0.89        86\n",
      "       blues       0.92      0.91      0.91        74\n",
      "  electronic       0.91      0.93      0.92        76\n",
      "       metal       0.93      0.94      0.93        82\n",
      "        jazz       0.94      0.87      0.90        76\n",
      "     country       0.94      0.82      0.88        79\n",
      "         pop       0.94      0.98      0.96        84\n",
      "        rock       0.97      0.90      0.94        80\n",
      "      reggae       0.91      0.94      0.93        80\n",
      "\n",
      "    accuracy                           0.92       796\n",
      "   macro avg       0.93      0.92      0.92       796\n",
      "weighted avg       0.93      0.92      0.92       796\n",
      "\n"
     ]
    }
   ],
   "source": [
    "model_39 = RandomForestClassifier(n_estimators=687, max_features=49, max_depth=9,min_samples_leaf=6)\n",
    "model_39.fit(X_train, y_train)\n",
    "preds_39 = model_39.predict(X_train)\n",
    "y_true = y_train\n",
    "y_pred = preds_39\n",
    "target_names = ['hiphop', 'classical', 'blues', 'electronic','metal', 'jazz', 'country', 'pop', 'rock', 'reggae']\n",
    "print(classification_report(y_true, y_pred, target_names=target_names))"
   ]
  },
  {
   "cell_type": "code",
   "execution_count": 169,
   "id": "3c32daf8",
   "metadata": {},
   "outputs": [
    {
     "name": "stdout",
     "output_type": "stream",
     "text": [
      "              precision    recall  f1-score   support\n",
      "\n",
      "      hiphop       0.48      0.48      0.48        21\n",
      "   classical       0.54      0.93      0.68        14\n",
      "       blues       0.44      0.17      0.25        23\n",
      "  electronic       0.57      0.50      0.53        24\n",
      "       metal       0.55      0.65      0.59        17\n",
      "        jazz       0.54      0.54      0.54        24\n",
      "     country       0.39      0.33      0.36        21\n",
      "         pop       0.24      0.31      0.27        16\n",
      "        rock       0.48      0.50      0.49        20\n",
      "      reggae       0.50      0.53      0.51        19\n",
      "\n",
      "    accuracy                           0.48       199\n",
      "   macro avg       0.47      0.49      0.47       199\n",
      "weighted avg       0.48      0.48      0.47       199\n",
      "\n"
     ]
    }
   ],
   "source": [
    "model_39 = RandomForestClassifier(n_estimators=687, max_features=49, max_depth=9,min_samples_leaf=6)\n",
    "model_39.fit(X_train, y_train)\n",
    "preds_39 = model_39.predict(X_test)\n",
    "y_true = y_test\n",
    "y_pred = preds_39\n",
    "target_names = ['hiphop', 'classical', 'blues', 'electronic','metal', 'jazz', 'country', 'pop', 'rock', 'reggae']\n",
    "print(classification_report(y_true, y_pred, target_names=target_names))"
   ]
  },
  {
   "cell_type": "code",
   "execution_count": 207,
   "id": "fb387425",
   "metadata": {},
   "outputs": [
    {
     "name": "stdout",
     "output_type": "stream",
     "text": [
      "              precision    recall  f1-score   support\n",
      "\n",
      "      hiphop       0.95      0.99      0.97        79\n",
      "   classical       0.85      0.97      0.90        86\n",
      "       blues       0.92      0.91      0.91        74\n",
      "  electronic       0.90      0.92      0.91        76\n",
      "       metal       0.93      0.93      0.93        82\n",
      "        jazz       0.92      0.88      0.90        76\n",
      "     country       0.96      0.85      0.90        79\n",
      "         pop       0.93      0.98      0.95        84\n",
      "        rock       0.97      0.89      0.93        80\n",
      "      reggae       0.94      0.93      0.93        80\n",
      "\n",
      "    accuracy                           0.92       796\n",
      "   macro avg       0.93      0.92      0.92       796\n",
      "weighted avg       0.93      0.92      0.92       796\n",
      "\n"
     ]
    }
   ],
   "source": [
    "model_41 = RandomForestClassifier(n_estimators=688, max_features=46, max_depth=9,min_samples_leaf=6)\n",
    "model_41.fit(X_train, y_train)\n",
    "preds_41 = model_41.predict(X_train)\n",
    "y_true = y_train\n",
    "y_pred = preds_41\n",
    "target_names = ['hiphop', 'classical', 'blues', 'electronic','metal', 'jazz', 'country', 'pop', 'rock', 'reggae']\n",
    "print(classification_report(y_true, y_pred, target_names=target_names))"
   ]
  },
  {
   "cell_type": "code",
   "execution_count": 206,
   "id": "8a980697",
   "metadata": {},
   "outputs": [
    {
     "name": "stdout",
     "output_type": "stream",
     "text": [
      "              precision    recall  f1-score   support\n",
      "\n",
      "      hiphop       0.50      0.48      0.49        21\n",
      "   classical       0.57      0.93      0.70        14\n",
      "       blues       0.40      0.17      0.24        23\n",
      "  electronic       0.59      0.54      0.57        24\n",
      "       metal       0.55      0.71      0.62        17\n",
      "        jazz       0.54      0.54      0.54        24\n",
      "     country       0.44      0.38      0.41        21\n",
      "         pop       0.21      0.25      0.23        16\n",
      "        rock       0.44      0.40      0.42        20\n",
      "      reggae       0.48      0.58      0.52        19\n",
      "\n",
      "    accuracy                           0.48       199\n",
      "   macro avg       0.47      0.50      0.47       199\n",
      "weighted avg       0.48      0.48      0.47       199\n",
      "\n"
     ]
    }
   ],
   "source": [
    "model_41 = RandomForestClassifier(n_estimators=688, max_features=46, max_depth=9,min_samples_leaf=6)\n",
    "model_41.fit(X_train, y_train)\n",
    "preds_41 = model_41.predict(X_test)\n",
    "y_true = y_test\n",
    "y_pred = preds_41\n",
    "target_names = ['hiphop', 'classical', 'blues', 'electronic','metal', 'jazz', 'country', 'pop', 'rock', 'reggae']\n",
    "print(classification_report(y_true, y_pred, target_names=target_names))"
   ]
  },
  {
   "cell_type": "markdown",
   "id": "b0d3897f",
   "metadata": {},
   "source": [
    "If the maxdepth is under 7 the accuracy rates go down. Minsamples leaf between 5 and 8"
   ]
  },
  {
   "cell_type": "code",
   "execution_count": 171,
   "id": "9720d8e0",
   "metadata": {},
   "outputs": [
    {
     "name": "stdout",
     "output_type": "stream",
     "text": [
      "              precision    recall  f1-score   support\n",
      "\n",
      "      hiphop       0.97      0.99      0.98        79\n",
      "   classical       0.84      0.95      0.89        86\n",
      "       blues       0.91      0.92      0.91        74\n",
      "  electronic       0.90      0.93      0.92        76\n",
      "       metal       0.92      0.93      0.92        82\n",
      "        jazz       0.93      0.87      0.90        76\n",
      "     country       0.94      0.85      0.89        79\n",
      "         pop       0.94      0.96      0.95        84\n",
      "        rock       0.97      0.88      0.92        80\n",
      "      reggae       0.93      0.94      0.93        80\n",
      "\n",
      "    accuracy                           0.92       796\n",
      "   macro avg       0.92      0.92      0.92       796\n",
      "weighted avg       0.92      0.92      0.92       796\n",
      "\n"
     ]
    }
   ],
   "source": [
    "model_40 = RandomForestClassifier(n_estimators=688, max_features=49, max_depth=9,min_samples_leaf=6)\n",
    "model_40.fit(X_train, y_train)\n",
    "preds_40 = model_40.predict(X_train)\n",
    "y_true = y_train\n",
    "y_pred = preds_40\n",
    "target_names = ['hiphop', 'classical', 'blues', 'electronic','metal', 'jazz', 'country', 'pop', 'rock', 'reggae']\n",
    "print(classification_report(y_true, y_pred, target_names=target_names))"
   ]
  },
  {
   "cell_type": "code",
   "execution_count": 172,
   "id": "e3ebebb1",
   "metadata": {},
   "outputs": [
    {
     "name": "stdout",
     "output_type": "stream",
     "text": [
      "              precision    recall  f1-score   support\n",
      "\n",
      "      hiphop       0.45      0.43      0.44        21\n",
      "   classical       0.57      0.93      0.70        14\n",
      "       blues       0.22      0.09      0.12        23\n",
      "  electronic       0.56      0.58      0.57        24\n",
      "       metal       0.52      0.65      0.58        17\n",
      "        jazz       0.48      0.50      0.49        24\n",
      "     country       0.33      0.29      0.31        21\n",
      "         pop       0.20      0.25      0.22        16\n",
      "        rock       0.35      0.30      0.32        20\n",
      "      reggae       0.48      0.53      0.50        19\n",
      "\n",
      "    accuracy                           0.44       199\n",
      "   macro avg       0.42      0.45      0.43       199\n",
      "weighted avg       0.42      0.44      0.42       199\n",
      "\n"
     ]
    }
   ],
   "source": [
    "model_40 = RandomForestClassifier(n_estimators=688, max_features=49, max_depth=9,min_samples_leaf=6)\n",
    "model_40.fit(X_train, y_train)\n",
    "preds_40 = model_40.predict(X_test)\n",
    "y_true = y_test\n",
    "y_pred = preds_40\n",
    "target_names = ['hiphop', 'classical', 'blues', 'electronic','metal', 'jazz', 'country', 'pop', 'rock', 'reggae']\n",
    "print(classification_report(y_true, y_pred, target_names=target_names))"
   ]
  },
  {
   "cell_type": "code",
   "execution_count": 114,
   "id": "548152d8",
   "metadata": {},
   "outputs": [
    {
     "name": "stdout",
     "output_type": "stream",
     "text": [
      "              precision    recall  f1-score   support\n",
      "\n",
      "      hiphop       0.96      0.99      0.97        79\n",
      "   classical       0.87      0.97      0.92        86\n",
      "       blues       0.89      0.89      0.89        74\n",
      "  electronic       0.91      0.93      0.92        76\n",
      "       metal       0.95      0.93      0.94        82\n",
      "        jazz       0.92      0.89      0.91        76\n",
      "     country       0.93      0.87      0.90        79\n",
      "         pop       0.91      0.94      0.92        84\n",
      "        rock       0.96      0.89      0.92        80\n",
      "      reggae       0.94      0.93      0.93        80\n",
      "\n",
      "    accuracy                           0.92       796\n",
      "   macro avg       0.92      0.92      0.92       796\n",
      "weighted avg       0.92      0.92      0.92       796\n",
      "\n"
     ]
    }
   ],
   "source": [
    "model_35 = RandomForestClassifier(n_estimators=670, max_features=46, max_depth=8,min_samples_leaf=5)\n",
    "model_35.fit(X_train, y_train)\n",
    "preds_35 = model_35.predict(X_train)\n",
    "y_true = y_train\n",
    "y_pred = preds_35\n",
    "target_names = ['hiphop', 'classical', 'blues', 'electronic','metal', 'jazz', 'country', 'pop', 'rock', 'reggae']\n",
    "print(classification_report(y_true, y_pred, target_names=target_names))"
   ]
  },
  {
   "cell_type": "code",
   "execution_count": 119,
   "id": "3d638a50",
   "metadata": {},
   "outputs": [
    {
     "name": "stdout",
     "output_type": "stream",
     "text": [
      "              precision    recall  f1-score   support\n",
      "\n",
      "      hiphop       0.53      0.48      0.50        21\n",
      "   classical       0.57      0.93      0.70        14\n",
      "       blues       0.33      0.17      0.23        23\n",
      "  electronic       0.57      0.54      0.55        24\n",
      "       metal       0.50      0.65      0.56        17\n",
      "        jazz       0.50      0.46      0.48        24\n",
      "     country       0.35      0.33      0.34        21\n",
      "         pop       0.29      0.38      0.32        16\n",
      "        rock       0.44      0.35      0.39        20\n",
      "      reggae       0.52      0.58      0.55        19\n",
      "\n",
      "    accuracy                           0.47       199\n",
      "   macro avg       0.46      0.49      0.46       199\n",
      "weighted avg       0.46      0.47      0.45       199\n",
      "\n"
     ]
    }
   ],
   "source": [
    "model_35 = RandomForestClassifier(n_estimators=670, max_features=46, max_depth=8,min_samples_leaf=5)\n",
    "model_35.fit(X_train, y_train)\n",
    "preds_35 = model_35.predict(X_test)\n",
    "y_true = y_test\n",
    "y_pred = preds_35\n",
    "target_names = ['hiphop', 'classical', 'blues', 'electronic','metal', 'jazz', 'country', 'pop', 'rock', 'reggae']\n",
    "print(classification_report(y_true, y_pred, target_names=target_names))"
   ]
  },
  {
   "cell_type": "code",
   "execution_count": 118,
   "id": "6472f30c",
   "metadata": {},
   "outputs": [
    {
     "name": "stdout",
     "output_type": "stream",
     "text": [
      "              precision    recall  f1-score   support\n",
      "\n",
      "      hiphop       0.94      0.99      0.96        79\n",
      "   classical       0.84      0.97      0.90        86\n",
      "       blues       0.90      0.86      0.88        74\n",
      "  electronic       0.88      0.92      0.90        76\n",
      "       metal       0.94      0.90      0.92        82\n",
      "        jazz       0.92      0.86      0.88        76\n",
      "     country       0.86      0.82      0.84        79\n",
      "         pop       0.93      0.92      0.92        84\n",
      "        rock       0.95      0.86      0.90        80\n",
      "      reggae       0.91      0.93      0.92        80\n",
      "\n",
      "    accuracy                           0.90       796\n",
      "   macro avg       0.90      0.90      0.90       796\n",
      "weighted avg       0.90      0.90      0.90       796\n",
      "\n"
     ]
    }
   ],
   "source": [
    "model_36 = RandomForestClassifier(n_estimators=670, max_features=48, max_depth=8,min_samples_leaf=6)\n",
    "model_36.fit(X_train, y_train)\n",
    "preds_36 = model_36.predict(X_train)\n",
    "y_true = y_train\n",
    "y_pred = preds_36\n",
    "target_names = ['hiphop', 'classical', 'blues', 'electronic','metal', 'jazz', 'country', 'pop', 'rock', 'reggae']\n",
    "print(classification_report(y_true, y_pred, target_names=target_names))"
   ]
  },
  {
   "cell_type": "code",
   "execution_count": 117,
   "id": "55dcb10f",
   "metadata": {},
   "outputs": [
    {
     "name": "stdout",
     "output_type": "stream",
     "text": [
      "              precision    recall  f1-score   support\n",
      "\n",
      "      hiphop       0.45      0.48      0.47        21\n",
      "   classical       0.54      0.93      0.68        14\n",
      "       blues       0.25      0.13      0.17        23\n",
      "  electronic       0.59      0.54      0.57        24\n",
      "       metal       0.54      0.76      0.63        17\n",
      "        jazz       0.48      0.46      0.47        24\n",
      "     country       0.47      0.38      0.42        21\n",
      "         pop       0.18      0.19      0.18        16\n",
      "        rock       0.44      0.35      0.39        20\n",
      "      reggae       0.45      0.53      0.49        19\n",
      "\n",
      "    accuracy                           0.46       199\n",
      "   macro avg       0.44      0.47      0.45       199\n",
      "weighted avg       0.44      0.46      0.44       199\n",
      "\n"
     ]
    }
   ],
   "source": [
    "model_36 = RandomForestClassifier(n_estimators=670, max_features=48, max_depth=8,min_samples_leaf=6)\n",
    "model_36.fit(X_train, y_train)\n",
    "preds_36 = model_36.predict(X_test)\n",
    "y_true = y_test\n",
    "y_pred = preds_36\n",
    "target_names = ['hiphop', 'classical', 'blues', 'electronic','metal', 'jazz', 'country', 'pop', 'rock', 'reggae']\n",
    "print(classification_report(y_true, y_pred, target_names=target_names))"
   ]
  },
  {
   "cell_type": "code",
   "execution_count": 115,
   "id": "cb70ed2c",
   "metadata": {},
   "outputs": [
    {
     "name": "stdout",
     "output_type": "stream",
     "text": [
      "              precision    recall  f1-score   support\n",
      "\n",
      "      hiphop       0.47      0.43      0.45        21\n",
      "   classical       0.54      0.93      0.68        14\n",
      "       blues       0.38      0.13      0.19        23\n",
      "  electronic       0.60      0.50      0.55        24\n",
      "       metal       0.50      0.65      0.56        17\n",
      "        jazz       0.50      0.50      0.50        24\n",
      "     country       0.43      0.43      0.43        21\n",
      "         pop       0.29      0.38      0.32        16\n",
      "        rock       0.42      0.40      0.41        20\n",
      "      reggae       0.48      0.53      0.50        19\n",
      "\n",
      "    accuracy                           0.47       199\n",
      "   macro avg       0.46      0.49      0.46       199\n",
      "weighted avg       0.46      0.47      0.45       199\n",
      "\n"
     ]
    }
   ],
   "source": [
    "model_35 = RandomForestClassifier(n_estimators=670, max_features=46, max_depth=8,min_samples_leaf=5)\n",
    "model_35.fit(X_train, y_train)\n",
    "preds_35 = model_35.predict(X_test)\n",
    "y_true = y_test\n",
    "y_pred = preds_35\n",
    "target_names = ['hiphop', 'classical', 'blues', 'electronic','metal', 'jazz', 'country', 'pop', 'rock', 'reggae']\n",
    "print(classification_report(y_true, y_pred, target_names=target_names))"
   ]
  },
  {
   "cell_type": "code",
   "execution_count": 120,
   "id": "719f3ceb",
   "metadata": {},
   "outputs": [
    {
     "name": "stdout",
     "output_type": "stream",
     "text": [
      "              precision    recall  f1-score   support\n",
      "\n",
      "      hiphop       0.97      0.99      0.98        79\n",
      "   classical       0.88      0.98      0.92        86\n",
      "       blues       0.95      0.93      0.94        74\n",
      "  electronic       0.91      0.93      0.92        76\n",
      "       metal       0.93      0.94      0.93        82\n",
      "        jazz       0.93      0.92      0.93        76\n",
      "     country       0.93      0.87      0.90        79\n",
      "         pop       0.96      0.98      0.97        84\n",
      "        rock       0.99      0.90      0.94        80\n",
      "      reggae       0.95      0.94      0.94        80\n",
      "\n",
      "    accuracy                           0.94       796\n",
      "   macro avg       0.94      0.94      0.94       796\n",
      "weighted avg       0.94      0.94      0.94       796\n",
      "\n"
     ]
    }
   ],
   "source": [
    "model_37 = RandomForestClassifier(n_estimators=680, max_features=49, max_depth=9,min_samples_leaf=5)\n",
    "model_37.fit(X_train, y_train)\n",
    "preds_37 = model_37.predict(X_train)\n",
    "y_true = y_train\n",
    "y_pred = preds_37\n",
    "target_names = ['hiphop', 'classical', 'blues', 'electronic','metal', 'jazz', 'country', 'pop', 'rock', 'reggae']\n",
    "print(classification_report(y_true, y_pred, target_names=target_names))"
   ]
  },
  {
   "cell_type": "code",
   "execution_count": 142,
   "id": "7508f630",
   "metadata": {},
   "outputs": [
    {
     "name": "stdout",
     "output_type": "stream",
     "text": [
      "              precision    recall  f1-score   support\n",
      "\n",
      "      hiphop       0.47      0.43      0.45        21\n",
      "   classical       0.54      0.93      0.68        14\n",
      "       blues       0.42      0.22      0.29        23\n",
      "  electronic       0.58      0.58      0.58        24\n",
      "       metal       0.50      0.65      0.56        17\n",
      "        jazz       0.55      0.46      0.50        24\n",
      "     country       0.39      0.33      0.36        21\n",
      "         pop       0.19      0.25      0.22        16\n",
      "        rock       0.44      0.35      0.39        20\n",
      "      reggae       0.48      0.58      0.52        19\n",
      "\n",
      "    accuracy                           0.46       199\n",
      "   macro avg       0.46      0.48      0.46       199\n",
      "weighted avg       0.46      0.46      0.45       199\n",
      "\n"
     ]
    }
   ],
   "source": [
    "model_37 = RandomForestClassifier(n_estimators=680, max_features=49, max_depth=9,min_samples_leaf=5)\n",
    "model_37.fit(X_train, y_train)\n",
    "preds_37 = model_37.predict(X_test)\n",
    "y_true = y_test\n",
    "y_pred = preds_37\n",
    "target_names = ['hiphop', 'classical', 'blues', 'electronic','metal', 'jazz', 'country', 'pop', 'rock', 'reggae']\n",
    "print(classification_report(y_true, y_pred, target_names=target_names))"
   ]
  },
  {
   "cell_type": "code",
   "execution_count": 144,
   "id": "18ab3c82",
   "metadata": {},
   "outputs": [
    {
     "name": "stdout",
     "output_type": "stream",
     "text": [
      "              precision    recall  f1-score   support\n",
      "\n",
      "      hiphop       0.99      0.99      0.99        79\n",
      "   classical       0.87      0.97      0.92        86\n",
      "       blues       0.88      0.89      0.89        74\n",
      "  electronic       0.91      0.92      0.92        76\n",
      "       metal       0.95      0.94      0.94        82\n",
      "        jazz       0.92      0.87      0.89        76\n",
      "     country       0.90      0.89      0.89        79\n",
      "         pop       0.93      0.98      0.95        84\n",
      "        rock       0.96      0.86      0.91        80\n",
      "      reggae       0.94      0.93      0.93        80\n",
      "\n",
      "    accuracy                           0.92       796\n",
      "   macro avg       0.92      0.92      0.92       796\n",
      "weighted avg       0.92      0.92      0.92       796\n",
      "\n"
     ]
    }
   ],
   "source": [
    "model_38 = RandomForestClassifier(n_estimators=675, max_features=49, max_depth=8,min_samples_leaf=5)\n",
    "model_38.fit(X_train, y_train)\n",
    "preds_38 = model_38.predict(X_train)\n",
    "y_true = y_train\n",
    "y_pred = preds_38\n",
    "target_names = ['hiphop', 'classical', 'blues', 'electronic','metal', 'jazz', 'country', 'pop', 'rock', 'reggae']\n",
    "print(classification_report(y_true, y_pred, target_names=target_names))"
   ]
  },
  {
   "cell_type": "code",
   "execution_count": 145,
   "id": "8888d46d",
   "metadata": {},
   "outputs": [
    {
     "name": "stdout",
     "output_type": "stream",
     "text": [
      "              precision    recall  f1-score   support\n",
      "\n",
      "      hiphop       0.50      0.48      0.49        21\n",
      "   classical       0.57      0.93      0.70        14\n",
      "       blues       0.22      0.09      0.12        23\n",
      "  electronic       0.59      0.54      0.57        24\n",
      "       metal       0.52      0.71      0.60        17\n",
      "        jazz       0.52      0.54      0.53        24\n",
      "     country       0.35      0.29      0.32        21\n",
      "         pop       0.24      0.31      0.27        16\n",
      "        rock       0.47      0.40      0.43        20\n",
      "      reggae       0.45      0.53      0.49        19\n",
      "\n",
      "    accuracy                           0.46       199\n",
      "   macro avg       0.44      0.48      0.45       199\n",
      "weighted avg       0.44      0.46      0.44       199\n",
      "\n"
     ]
    }
   ],
   "source": [
    "model_38 = RandomForestClassifier(n_estimators=675, max_features=49, max_depth=8,min_samples_leaf=5)\n",
    "model_38.fit(X_train, y_train)\n",
    "preds_38 = model_38.predict(X_test)\n",
    "y_true = y_test\n",
    "y_pred = preds_38\n",
    "target_names = ['hiphop', 'classical', 'blues', 'electronic','metal', 'jazz', 'country', 'pop', 'rock', 'reggae']\n",
    "print(classification_report(y_true, y_pred, target_names=target_names))"
   ]
  },
  {
   "cell_type": "code",
   "execution_count": 27,
   "id": "2c030d5a",
   "metadata": {},
   "outputs": [
    {
     "name": "stdout",
     "output_type": "stream",
     "text": [
      "              precision    recall  f1-score   support\n",
      "\n",
      "      hiphop       0.85      0.92      0.88        79\n",
      "   classical       0.95      0.97      0.96        86\n",
      "       blues       0.80      0.66      0.73        74\n",
      "  electronic       0.88      0.83      0.85        76\n",
      "       metal       0.97      0.90      0.94        82\n",
      "        jazz       0.74      0.88      0.80        76\n",
      "     country       0.81      0.81      0.81        79\n",
      "         pop       0.77      0.75      0.76        84\n",
      "        rock       0.90      0.79      0.84        80\n",
      "      reggae       0.78      0.90      0.84        80\n",
      "\n",
      "    accuracy                           0.84       796\n",
      "   macro avg       0.85      0.84      0.84       796\n",
      "weighted avg       0.85      0.84      0.84       796\n",
      "\n"
     ]
    }
   ],
   "source": [
    "model_31 = RandomForestClassifier(n_estimators=550, max_features=35, max_depth=6,min_samples_leaf=2)\n",
    "model_31.fit(X_train, y_train)\n",
    "preds_31 = model_31.predict(X_train)\n",
    "y_true = y_train\n",
    "y_pred = preds_31\n",
    "target_names = ['hiphop', 'classical', 'blues', 'electronic','metal', 'jazz', 'country', 'pop', 'rock', 'reggae']\n",
    "print(classification_report(y_true, y_pred, target_names=target_names))"
   ]
  },
  {
   "cell_type": "code",
   "execution_count": 28,
   "id": "4c586417",
   "metadata": {},
   "outputs": [
    {
     "name": "stdout",
     "output_type": "stream",
     "text": [
      "              precision    recall  f1-score   support\n",
      "\n",
      "      hiphop       0.53      0.48      0.50        21\n",
      "   classical       0.57      0.93      0.70        14\n",
      "       blues       0.33      0.09      0.14        23\n",
      "  electronic       0.60      0.50      0.55        24\n",
      "       metal       0.52      0.71      0.60        17\n",
      "        jazz       0.44      0.50      0.47        24\n",
      "     country       0.42      0.38      0.40        21\n",
      "         pop       0.17      0.19      0.18        16\n",
      "        rock       0.39      0.35      0.37        20\n",
      "      reggae       0.46      0.63      0.53        19\n",
      "\n",
      "    accuracy                           0.46       199\n",
      "   macro avg       0.44      0.47      0.44       199\n",
      "weighted avg       0.45      0.46      0.44       199\n",
      "\n"
     ]
    }
   ],
   "source": [
    "model_31 = RandomForestClassifier(n_estimators=550, max_features=35, max_depth=6,min_samples_leaf=2)\n",
    "model_31.fit(X_train, y_train)\n",
    "preds_31 = model_31.predict(X_test)\n",
    "y_true = y_test\n",
    "y_pred = preds_31\n",
    "target_names = ['hiphop', 'classical', 'blues', 'electronic','metal', 'jazz', 'country', 'pop', 'rock', 'reggae']\n",
    "print(classification_report(y_true, y_pred, target_names=target_names))"
   ]
  },
  {
   "cell_type": "code",
   "execution_count": 29,
   "id": "2f678c76",
   "metadata": {},
   "outputs": [
    {
     "name": "stdout",
     "output_type": "stream",
     "text": [
      "              precision    recall  f1-score   support\n",
      "\n",
      "      hiphop       0.75      0.85      0.80        79\n",
      "   classical       0.89      0.94      0.92        86\n",
      "       blues       0.80      0.49      0.61        74\n",
      "  electronic       0.82      0.74      0.78        76\n",
      "       metal       0.92      0.84      0.88        82\n",
      "        jazz       0.60      0.79      0.68        76\n",
      "     country       0.68      0.61      0.64        79\n",
      "         pop       0.65      0.56      0.60        84\n",
      "        rock       0.73      0.72      0.73        80\n",
      "      reggae       0.65      0.86      0.74        80\n",
      "\n",
      "    accuracy                           0.74       796\n",
      "   macro avg       0.75      0.74      0.74       796\n",
      "weighted avg       0.75      0.74      0.74       796\n",
      "\n"
     ]
    }
   ],
   "source": [
    "model_17 = RandomForestClassifier(n_estimators=400, max_features=30, max_depth=5,min_samples_leaf=2)\n",
    "model_17.fit(X_train, y_train)\n",
    "preds_17 = model_17.predict(X_train)\n",
    "y_true = y_train\n",
    "y_pred = preds_17\n",
    "target_names = ['hiphop', 'classical', 'blues', 'electronic','metal', 'jazz', 'country', 'pop', 'rock', 'reggae']\n",
    "print(classification_report(y_true, y_pred, target_names=target_names))\n"
   ]
  },
  {
   "cell_type": "code",
   "execution_count": 30,
   "id": "ff88c431",
   "metadata": {},
   "outputs": [
    {
     "name": "stdout",
     "output_type": "stream",
     "text": [
      "              precision    recall  f1-score   support\n",
      "\n",
      "      hiphop       0.56      0.48      0.51        21\n",
      "   classical       0.54      0.93      0.68        14\n",
      "       blues       0.67      0.09      0.15        23\n",
      "  electronic       0.58      0.58      0.58        24\n",
      "       metal       0.50      0.71      0.59        17\n",
      "        jazz       0.39      0.46      0.42        24\n",
      "     country       0.39      0.33      0.36        21\n",
      "         pop       0.12      0.12      0.12        16\n",
      "        rock       0.43      0.30      0.35        20\n",
      "      reggae       0.41      0.63      0.50        19\n",
      "\n",
      "    accuracy                           0.45       199\n",
      "   macro avg       0.46      0.46      0.43       199\n",
      "weighted avg       0.47      0.45      0.42       199\n",
      "\n"
     ]
    }
   ],
   "source": [
    "model_17 = RandomForestClassifier(n_estimators=400, max_features=30, max_depth=5,min_samples_leaf=2)\n",
    "model_17.fit(X_train, y_train)\n",
    "preds_17 = model_17.predict(X_test)\n",
    "y_true = y_test\n",
    "y_pred = preds_17\n",
    "target_names = ['hiphop', 'classical', 'blues', 'electronic','metal', 'jazz', 'country', 'pop', 'rock', 'reggae']\n",
    "print(classification_report(y_true, y_pred, target_names=target_names))\n"
   ]
  },
  {
   "cell_type": "code",
   "execution_count": 31,
   "id": "8700d727",
   "metadata": {},
   "outputs": [
    {
     "name": "stdout",
     "output_type": "stream",
     "text": [
      "              precision    recall  f1-score   support\n",
      "\n",
      "      hiphop       0.90      0.92      0.91        79\n",
      "   classical       0.92      0.97      0.94        86\n",
      "       blues       0.84      0.69      0.76        74\n",
      "  electronic       0.88      0.83      0.85        76\n",
      "       metal       0.96      0.88      0.92        82\n",
      "        jazz       0.78      0.88      0.83        76\n",
      "     country       0.78      0.78      0.78        79\n",
      "         pop       0.76      0.80      0.78        84\n",
      "        rock       0.88      0.81      0.84        80\n",
      "      reggae       0.81      0.90      0.85        80\n",
      "\n",
      "    accuracy                           0.85       796\n",
      "   macro avg       0.85      0.85      0.85       796\n",
      "weighted avg       0.85      0.85      0.85       796\n",
      "\n"
     ]
    }
   ],
   "source": [
    "model_22 = RandomForestClassifier(n_estimators=550, max_features=30, max_depth=6,min_samples_leaf=3)\n",
    "model_22.fit(X_train, y_train)\n",
    "preds_22 = model_22.predict(X_train)\n",
    "y_true = y_train\n",
    "y_pred = preds_22\n",
    "target_names = ['hiphop', 'classical', 'blues', 'electronic','metal', 'jazz', 'country', 'pop', 'rock', 'reggae']\n",
    "print(classification_report(y_true, y_pred, target_names=target_names))"
   ]
  },
  {
   "cell_type": "code",
   "execution_count": 32,
   "id": "acdcb449",
   "metadata": {},
   "outputs": [
    {
     "name": "stdout",
     "output_type": "stream",
     "text": [
      "              precision    recall  f1-score   support\n",
      "\n",
      "      hiphop       0.45      0.43      0.44        21\n",
      "   classical       0.57      0.93      0.70        14\n",
      "       blues       0.22      0.09      0.12        23\n",
      "  electronic       0.57      0.50      0.53        24\n",
      "       metal       0.52      0.71      0.60        17\n",
      "        jazz       0.44      0.50      0.47        24\n",
      "     country       0.44      0.33      0.38        21\n",
      "         pop       0.25      0.25      0.25        16\n",
      "        rock       0.35      0.30      0.32        20\n",
      "      reggae       0.44      0.63      0.52        19\n",
      "\n",
      "    accuracy                           0.45       199\n",
      "   macro avg       0.43      0.47      0.43       199\n",
      "weighted avg       0.42      0.45      0.42       199\n",
      "\n"
     ]
    }
   ],
   "source": [
    "model_22 = RandomForestClassifier(n_estimators=550, max_features=30, max_depth=6,min_samples_leaf=3)\n",
    "model_22.fit(X_train, y_train)\n",
    "preds_22 = model_22.predict(X_test)\n",
    "y_true = y_test\n",
    "y_pred = preds_22\n",
    "target_names = ['hiphop', 'classical', 'blues', 'electronic','metal', 'jazz', 'country', 'pop', 'rock', 'reggae']\n",
    "print(classification_report(y_true, y_pred, target_names=target_names))"
   ]
  },
  {
   "cell_type": "code",
   "execution_count": 33,
   "id": "95541472",
   "metadata": {},
   "outputs": [
    {
     "name": "stdout",
     "output_type": "stream",
     "text": [
      "              precision    recall  f1-score   support\n",
      "\n",
      "      hiphop       0.90      0.94      0.92        79\n",
      "   classical       0.95      0.97      0.96        86\n",
      "       blues       0.85      0.68      0.75        74\n",
      "  electronic       0.93      0.86      0.89        76\n",
      "       metal       0.99      0.90      0.94        82\n",
      "        jazz       0.74      0.87      0.80        76\n",
      "     country       0.76      0.82      0.79        79\n",
      "         pop       0.79      0.81      0.80        84\n",
      "        rock       0.90      0.81      0.86        80\n",
      "      reggae       0.80      0.91      0.85        80\n",
      "\n",
      "    accuracy                           0.86       796\n",
      "   macro avg       0.86      0.86      0.86       796\n",
      "weighted avg       0.86      0.86      0.86       796\n",
      "\n"
     ]
    }
   ],
   "source": [
    "model_30 = RandomForestClassifier(n_estimators=710, max_features=30, max_depth=6,min_samples_leaf=2)\n",
    "model_30.fit(X_train, y_train)\n",
    "preds_30 = model_30.predict(X_train)\n",
    "y_true = y_train\n",
    "y_pred = preds_30\n",
    "target_names = ['hiphop', 'classical', 'blues', 'electronic','metal', 'jazz', 'country', 'pop', 'rock', 'reggae']\n",
    "print(classification_report(y_true, y_pred, target_names=target_names))"
   ]
  },
  {
   "cell_type": "code",
   "execution_count": 34,
   "id": "b635b855",
   "metadata": {},
   "outputs": [
    {
     "name": "stdout",
     "output_type": "stream",
     "text": [
      "              precision    recall  f1-score   support\n",
      "\n",
      "      hiphop       0.43      0.48      0.45        21\n",
      "   classical       0.59      0.93      0.72        14\n",
      "       blues       0.29      0.09      0.13        23\n",
      "  electronic       0.60      0.50      0.55        24\n",
      "       metal       0.52      0.65      0.58        17\n",
      "        jazz       0.46      0.46      0.46        24\n",
      "     country       0.42      0.38      0.40        21\n",
      "         pop       0.21      0.25      0.23        16\n",
      "        rock       0.40      0.40      0.40        20\n",
      "      reggae       0.46      0.58      0.51        19\n",
      "\n",
      "    accuracy                           0.45       199\n",
      "   macro avg       0.44      0.47      0.44       199\n",
      "weighted avg       0.44      0.45      0.43       199\n",
      "\n"
     ]
    }
   ],
   "source": [
    "model_30 = RandomForestClassifier(n_estimators=710, max_features=30, max_depth=6,min_samples_leaf=2)\n",
    "model_30.fit(X_train, y_train)\n",
    "preds_30 = model_30.predict(X_test)\n",
    "y_true = y_test\n",
    "y_pred = preds_30\n",
    "target_names = ['hiphop', 'classical', 'blues', 'electronic','metal', 'jazz', 'country', 'pop', 'rock', 'reggae']\n",
    "print(classification_report(y_true, y_pred, target_names=target_names))"
   ]
  },
  {
   "cell_type": "code",
   "execution_count": null,
   "id": "675276d5",
   "metadata": {},
   "outputs": [],
   "source": []
  }
 ],
 "metadata": {
  "kernelspec": {
   "display_name": "Python 3 (ipykernel)",
   "language": "python",
   "name": "python3"
  },
  "language_info": {
   "codemirror_mode": {
    "name": "ipython",
    "version": 3
   },
   "file_extension": ".py",
   "mimetype": "text/x-python",
   "name": "python",
   "nbconvert_exporter": "python",
   "pygments_lexer": "ipython3",
   "version": "3.8.12"
  },
  "toc": {
   "base_numbering": 1,
   "nav_menu": {},
   "number_sections": true,
   "sideBar": true,
   "skip_h1_title": false,
   "title_cell": "Table of Contents",
   "title_sidebar": "Contents",
   "toc_cell": false,
   "toc_position": {},
   "toc_section_display": true,
   "toc_window_display": false
  }
 },
 "nbformat": 4,
 "nbformat_minor": 5
}
