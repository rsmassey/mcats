{
 "cells": [
  {
   "cell_type": "code",
   "execution_count": 23,
   "id": "698ae165",
   "metadata": {},
   "outputs": [],
   "source": [
    "\n",
    "# example of grid searching key hyperparametres for SVC\n",
    "import numpy as np\n",
    "import matplotlib.pyplot as plt\n",
    "from sklearn.decomposition import PCA\n",
    "from sklearn.pipeline import Pipeline\n",
    "from sklearn.model_selection import RepeatedStratifiedKFold\n",
    "from sklearn.model_selection import GridSearchCV\n",
    "from sklearn.metrics import classification_report\n",
    "from sklearn.svm import SVC\n",
    "import pandas as pd\n",
    "from sklearn.metrics import accuracy_score\n",
    "from matplotlib import pyplot as plt\n",
    "from sklearn import svm\n",
    "from sklearn.inspection import permutation_importance"
   ]
  },
  {
   "cell_type": "code",
   "execution_count": 24,
   "id": "8fa9a426",
   "metadata": {},
   "outputs": [],
   "source": [
    "# Load the data splits\n",
    "train_data = pd.read_csv('../mcats/data/train_data.csv')\n",
    "val_data = pd.read_csv('../mcats/data/test_data.csv')\n",
    "test_data = pd.read_csv('../mcats/data/val_data.csv')\n",
    "\n",
    "# Split the data into X and y\n",
    "X_train = train_data.iloc[:, 1:-1]\n",
    "y_train = train_data.iloc[:, -1]\n",
    "X_val = val_data.iloc[:, 1:-1]\n",
    "y_val = val_data.iloc[:, -1]\n",
    "X_test = test_data.iloc[:, 1:-1]\n",
    "y_test = test_data.iloc[:, -1]"
   ]
  },
  {
   "cell_type": "code",
   "execution_count": 21,
   "id": "1e6c6e32",
   "metadata": {},
   "outputs": [
    {
     "ename": "AttributeError",
     "evalue": "'SVC' object has no attribute 'feature_importances_'",
     "output_type": "error",
     "traceback": [
      "\u001b[0;31m---------------------------------------------------------------------------\u001b[0m",
      "\u001b[0;31mAttributeError\u001b[0m                            Traceback (most recent call last)",
      "Cell \u001b[0;32mIn[21], line 3\u001b[0m\n\u001b[1;32m      1\u001b[0m model \u001b[38;5;241m=\u001b[39m SVC()\n\u001b[1;32m      2\u001b[0m model\u001b[38;5;241m.\u001b[39mfit(X_train,y_train)\n\u001b[0;32m----> 3\u001b[0m \u001b[38;5;28mprint\u001b[39m(\u001b[43mmodel\u001b[49m\u001b[38;5;241;43m.\u001b[39;49m\u001b[43mfeature_importances_\u001b[49m) \u001b[38;5;66;03m#use inbuilt class feature_importances of tree based classifiers\u001b[39;00m\n\u001b[1;32m      4\u001b[0m \u001b[38;5;66;03m#plot graph of feature importances for better visualization\u001b[39;00m\n\u001b[1;32m      5\u001b[0m feat_importances \u001b[38;5;241m=\u001b[39m pd\u001b[38;5;241m.\u001b[39mSeries(model\u001b[38;5;241m.\u001b[39mfeature_importances_, index\u001b[38;5;241m=\u001b[39mX_train\u001b[38;5;241m.\u001b[39mcolumns)\n",
      "\u001b[0;31mAttributeError\u001b[0m: 'SVC' object has no attribute 'feature_importances_'"
     ]
    }
   ],
   "source": [
    "model = SVC()\n",
    "model.fit(X_train,y_train)\n",
    "print(model.feature_importances_) #use inbuilt class feature_importances of tree based classifiers\n",
    "#plot graph of feature importances for better visualization\n",
    "feat_importances = pd.Series(model.feature_importances_, index=X_train.columns)\n",
    "feat_importances.nlargest(10).plot(kind='barh')\n",
    "plt.show()"
   ]
  },
  {
   "cell_type": "code",
   "execution_count": 17,
   "id": "41b85ecd",
   "metadata": {},
   "outputs": [
    {
     "ename": "IndexError",
     "evalue": "index 57 is out of bounds for axis 0 with size 10",
     "output_type": "error",
     "traceback": [
      "\u001b[0;31m---------------------------------------------------------------------------\u001b[0m",
      "\u001b[0;31mIndexError\u001b[0m                                Traceback (most recent call last)",
      "Cell \u001b[0;32mIn[17], line 13\u001b[0m\n\u001b[1;32m     11\u001b[0m sorted_idx \u001b[38;5;241m=\u001b[39m perm_importance\u001b[38;5;241m.\u001b[39mimportances_mean\u001b[38;5;241m.\u001b[39margsort()\n\u001b[1;32m     12\u001b[0m \u001b[38;5;66;03m#sorted_idx.nlargest(10).plot(kind='barh')\u001b[39;00m\n\u001b[0;32m---> 13\u001b[0m plt\u001b[38;5;241m.\u001b[39mbarh(\u001b[43mfeatures\u001b[49m\u001b[43m[\u001b[49m\u001b[43msorted_idx\u001b[49m\u001b[43m]\u001b[49m, perm_importance\u001b[38;5;241m.\u001b[39mimportances_mean[sorted_idx])\n\u001b[1;32m     14\u001b[0m plt\u001b[38;5;241m.\u001b[39mxlabel(\u001b[38;5;124m\"\u001b[39m\u001b[38;5;124mPermutation Importance\u001b[39m\u001b[38;5;124m\"\u001b[39m)\n",
      "\u001b[0;31mIndexError\u001b[0m: index 57 is out of bounds for axis 0 with size 10"
     ]
    }
   ],
   "source": [
    "\n",
    "\n",
    "%matplotlib inline\n",
    "\n",
    "svc =  SVC(kernel='linear', C=.5)\n",
    "svc.fit(X_train, y_train)\n",
    "\n",
    "perm_importance = permutation_importance(svc, X_test, y_test)\n",
    "\n",
    "feature_names = ['feature1', 'feature2', 'feature3', 'feature4','feature5','feature6','feature7', 'feature8','feature9','feature10' ]\n",
    "features = np.array(feature_names)\n",
    "\n",
    "sorted_idx = perm_importance.importances_mean.argsort()\n",
    "#sorted_idx.nlargest(10).plot(kind='barh')\n",
    "plt.barh(features[sorted_idx], perm_importance.importances_mean[sorted_idx])\n",
    "plt.xlabel(\"Permutation Importance\")"
   ]
  },
  {
   "cell_type": "code",
   "execution_count": 20,
   "id": "82798b56",
   "metadata": {},
   "outputs": [
    {
     "ename": "AttributeError",
     "evalue": "'SVC' object has no attribute 'dual_coef_'",
     "output_type": "error",
     "traceback": [
      "\u001b[0;31m---------------------------------------------------------------------------\u001b[0m",
      "\u001b[0;31mAttributeError\u001b[0m                            Traceback (most recent call last)",
      "Cell \u001b[0;32mIn[20], line 2\u001b[0m\n\u001b[1;32m      1\u001b[0m svm \u001b[38;5;241m=\u001b[39m SVC(gamma\u001b[38;5;241m=\u001b[39m\u001b[38;5;124m'\u001b[39m\u001b[38;5;124mscale\u001b[39m\u001b[38;5;124m'\u001b[39m, C\u001b[38;5;241m=\u001b[39m\u001b[38;5;241m.50\u001b[39m, kernel \u001b[38;5;241m=\u001b[39m \u001b[38;5;124m'\u001b[39m\u001b[38;5;124mlinear\u001b[39m\u001b[38;5;124m'\u001b[39m)\n\u001b[0;32m----> 2\u001b[0m pd\u001b[38;5;241m.\u001b[39mSeries(\u001b[38;5;28mabs\u001b[39m(\u001b[43msvm\u001b[49m\u001b[38;5;241;43m.\u001b[39;49m\u001b[43mcoef_\u001b[49m[\u001b[38;5;241m0\u001b[39m]), index\u001b[38;5;241m=\u001b[39mfeatures\u001b[38;5;241m.\u001b[39mcolumns)\u001b[38;5;241m.\u001b[39mnlargest(\u001b[38;5;241m10\u001b[39m)\u001b[38;5;241m.\u001b[39mplot(kind\u001b[38;5;241m=\u001b[39m\u001b[38;5;124m'\u001b[39m\u001b[38;5;124mbarh\u001b[39m\u001b[38;5;124m'\u001b[39m)\n",
      "File \u001b[0;32m~/.pyenv/versions/3.8.12/envs/mcats/lib/python3.8/site-packages/sklearn/svm/_base.py:660\u001b[0m, in \u001b[0;36mBaseLibSVM.coef_\u001b[0;34m(self)\u001b[0m\n\u001b[1;32m    657\u001b[0m \u001b[38;5;28;01mif\u001b[39;00m \u001b[38;5;28mself\u001b[39m\u001b[38;5;241m.\u001b[39mkernel \u001b[38;5;241m!=\u001b[39m \u001b[38;5;124m\"\u001b[39m\u001b[38;5;124mlinear\u001b[39m\u001b[38;5;124m\"\u001b[39m:\n\u001b[1;32m    658\u001b[0m     \u001b[38;5;28;01mraise\u001b[39;00m \u001b[38;5;167;01mAttributeError\u001b[39;00m(\u001b[38;5;124m\"\u001b[39m\u001b[38;5;124mcoef_ is only available when using a linear kernel\u001b[39m\u001b[38;5;124m\"\u001b[39m)\n\u001b[0;32m--> 660\u001b[0m coef \u001b[38;5;241m=\u001b[39m \u001b[38;5;28;43mself\u001b[39;49m\u001b[38;5;241;43m.\u001b[39;49m\u001b[43m_get_coef\u001b[49m\u001b[43m(\u001b[49m\u001b[43m)\u001b[49m\n\u001b[1;32m    662\u001b[0m \u001b[38;5;66;03m# coef_ being a read-only property, it's better to mark the value as\u001b[39;00m\n\u001b[1;32m    663\u001b[0m \u001b[38;5;66;03m# immutable to avoid hiding potential bugs for the unsuspecting user.\u001b[39;00m\n\u001b[1;32m    664\u001b[0m \u001b[38;5;28;01mif\u001b[39;00m sp\u001b[38;5;241m.\u001b[39missparse(coef):\n\u001b[1;32m    665\u001b[0m     \u001b[38;5;66;03m# sparse matrix do not have global flags\u001b[39;00m\n",
      "File \u001b[0;32m~/.pyenv/versions/3.8.12/envs/mcats/lib/python3.8/site-packages/sklearn/svm/_base.py:967\u001b[0m, in \u001b[0;36mBaseSVC._get_coef\u001b[0;34m(self)\u001b[0m\n\u001b[1;32m    966\u001b[0m \u001b[38;5;28;01mdef\u001b[39;00m \u001b[38;5;21m_get_coef\u001b[39m(\u001b[38;5;28mself\u001b[39m):\n\u001b[0;32m--> 967\u001b[0m     \u001b[38;5;28;01mif\u001b[39;00m \u001b[38;5;28;43mself\u001b[39;49m\u001b[38;5;241;43m.\u001b[39;49m\u001b[43mdual_coef_\u001b[49m\u001b[38;5;241m.\u001b[39mshape[\u001b[38;5;241m0\u001b[39m] \u001b[38;5;241m==\u001b[39m \u001b[38;5;241m1\u001b[39m:\n\u001b[1;32m    968\u001b[0m         \u001b[38;5;66;03m# binary classifier\u001b[39;00m\n\u001b[1;32m    969\u001b[0m         coef \u001b[38;5;241m=\u001b[39m safe_sparse_dot(\u001b[38;5;28mself\u001b[39m\u001b[38;5;241m.\u001b[39mdual_coef_, \u001b[38;5;28mself\u001b[39m\u001b[38;5;241m.\u001b[39msupport_vectors_)\n\u001b[1;32m    970\u001b[0m     \u001b[38;5;28;01melse\u001b[39;00m:\n\u001b[1;32m    971\u001b[0m         \u001b[38;5;66;03m# 1vs1 classifier\u001b[39;00m\n",
      "\u001b[0;31mAttributeError\u001b[0m: 'SVC' object has no attribute 'dual_coef_'"
     ]
    }
   ],
   "source": [
    "svm = SVC(gamma='scale', C=.50, kernel = 'linear')\n",
    "pd.Series(abs(svm.coef_[0]), index=features.columns).nlargest(10).plot(kind='barh')\n"
   ]
  },
  {
   "cell_type": "code",
   "execution_count": 5,
   "id": "1984beec",
   "metadata": {},
   "outputs": [
    {
     "name": "stdout",
     "output_type": "stream",
     "text": [
      "Best: 0.962134 using {'C': 50, 'gamma': 'scale', 'kernel': 'rbf'}\n",
      "0.944570 (0.013481) with: {'C': 50, 'gamma': 'scale', 'kernel': 'poly'}\n",
      "0.962134 (0.008913) with: {'C': 50, 'gamma': 'scale', 'kernel': 'rbf'}\n",
      "0.460812 (0.025791) with: {'C': 50, 'gamma': 'scale', 'kernel': 'sigmoid'}\n",
      "0.933711 (0.013558) with: {'C': 10, 'gamma': 'scale', 'kernel': 'poly'}\n",
      "0.958451 (0.009490) with: {'C': 10, 'gamma': 'scale', 'kernel': 'rbf'}\n",
      "0.467422 (0.026087) with: {'C': 10, 'gamma': 'scale', 'kernel': 'sigmoid'}\n",
      "0.766856 (0.025339) with: {'C': 1.0, 'gamma': 'scale', 'kernel': 'poly'}\n",
      "0.859585 (0.011945) with: {'C': 1.0, 'gamma': 'scale', 'kernel': 'rbf'}\n",
      "0.545420 (0.021645) with: {'C': 1.0, 'gamma': 'scale', 'kernel': 'sigmoid'}\n",
      "0.583286 (0.024108) with: {'C': 0.1, 'gamma': 'scale', 'kernel': 'poly'}\n",
      "0.650047 (0.017611) with: {'C': 0.1, 'gamma': 'scale', 'kernel': 'rbf'}\n",
      "0.571294 (0.020354) with: {'C': 0.1, 'gamma': 'scale', 'kernel': 'sigmoid'}\n",
      "0.220680 (0.013153) with: {'C': 0.01, 'gamma': 'scale', 'kernel': 'poly'}\n",
      "0.330123 (0.010718) with: {'C': 0.01, 'gamma': 'scale', 'kernel': 'rbf'}\n",
      "0.403211 (0.013904) with: {'C': 0.01, 'gamma': 'scale', 'kernel': 'sigmoid'}\n"
     ]
    }
   ],
   "source": [
    "# define model and parameters\n",
    "model = SVC()\n",
    "kernel = ['poly', 'rbf', 'sigmoid']\n",
    "C = [50, 10, 1.0, 0.1, 0.01]\n",
    "gamma = ['scale']\n",
    "# define grid search\n",
    "grid = dict(kernel=kernel,C=C,gamma=gamma)\n",
    "cv = RepeatedStratifiedKFold(n_splits=10, n_repeats=3, random_state=1)\n",
    "grid_search = GridSearchCV(estimator=model, param_grid=grid, n_jobs=-1, cv=cv, scoring='accuracy',error_score=0)\n",
    "grid_result = grid_search.fit(X_train, y_train)\n",
    "# summarize results\n",
    "print(\"Best: %f using %s\" % (grid_result.best_score_, grid_result.best_params_))\n",
    "means = grid_result.cv_results_['mean_test_score']\n",
    "stds = grid_result.cv_results_['std_test_score']\n",
    "params = grid_result.cv_results_['params']\n",
    "for mean, stdev, param in zip(means, stds, params):\n",
    "    print(\"%f (%f) with: %r\" % (mean, stdev, param))"
   ]
  },
  {
   "cell_type": "code",
   "execution_count": 53,
   "id": "f87d3deb",
   "metadata": {},
   "outputs": [
    {
     "name": "stdout",
     "output_type": "stream",
     "text": [
      "              precision    recall  f1-score   support\n",
      "\n",
      "      hiphop       0.58      0.62      0.60       477\n",
      "   classical       0.56      0.74      0.64       437\n",
      "         pop       0.50      0.42      0.46       423\n",
      "  electronic       0.59      0.59      0.59       424\n",
      "       metal       0.65      0.81      0.72       443\n",
      "        rock       0.62      0.41      0.50       450\n",
      "     country       0.44      0.45      0.45       419\n",
      "      reggae       0.69      0.58      0.63       457\n",
      "\n",
      "    accuracy                           0.58      3530\n",
      "   macro avg       0.58      0.58      0.57      3530\n",
      "weighted avg       0.58      0.58      0.57      3530\n",
      "\n"
     ]
    }
   ],
   "source": [
    "model_9 = SVC(C= .50, gamma= 'scale', kernel='sigmoid')\n",
    "model_9.fit(X_train, y_train)\n",
    "preds = model_9.predict(X_train)\n",
    "#y_ true is y_test  predict on x_text  y_pred is the output of the model\n",
    "y_true = y_train\n",
    "y_pred = preds\n",
    "target_names = ['hiphop','classical','pop','electronic','metal', 'rock','country','reggae']\n",
    "print(classification_report(y_true, y_pred, target_names=target_names))"
   ]
  },
  {
   "cell_type": "code",
   "execution_count": 54,
   "id": "5724e31c",
   "metadata": {},
   "outputs": [
    {
     "name": "stdout",
     "output_type": "stream",
     "text": [
      "              precision    recall  f1-score   support\n",
      "\n",
      "      hiphop       0.47      0.56      0.51       140\n",
      "   classical       0.48      0.68      0.56       172\n",
      "         pop       0.41      0.28      0.33       164\n",
      "  electronic       0.41      0.43      0.42       148\n",
      "       metal       0.58      0.66      0.62       122\n",
      "        rock       0.50      0.36      0.42       154\n",
      "     country       0.32      0.34      0.33       119\n",
      "      reggae       0.58      0.45      0.50       155\n",
      "\n",
      "    accuracy                           0.47      1174\n",
      "   macro avg       0.47      0.47      0.46      1174\n",
      "weighted avg       0.47      0.47      0.46      1174\n",
      "\n"
     ]
    }
   ],
   "source": [
    "model_9 = SVC(C= .50, gamma= 'scale', kernel='sigmoid')\n",
    "model_9.fit(X_train, y_train)\n",
    "preds = model_9.predict(X_test)\n",
    "#y_ true is y_test  predict on x_text  y_pred is the output of the model\n",
    "y_true = y_test\n",
    "y_pred = preds\n",
    "target_names = ['hiphop','classical','pop','electronic','metal', 'rock','country','reggae']\n",
    "print(classification_report(y_true, y_pred, target_names=target_names))"
   ]
  },
  {
   "cell_type": "code",
   "execution_count": 49,
   "id": "37663009",
   "metadata": {},
   "outputs": [
    {
     "name": "stdout",
     "output_type": "stream",
     "text": [
      "              precision    recall  f1-score   support\n",
      "\n",
      "      hiphop       0.17      1.00      0.29       477\n",
      "   classical       0.94      0.54      0.68       437\n",
      "         pop       1.00      0.02      0.03       423\n",
      "  electronic       1.00      0.01      0.02       424\n",
      "       metal       0.00      0.00      0.00       443\n",
      "        rock       0.30      0.29      0.29       450\n",
      "     country       1.00      0.07      0.13       419\n",
      "      reggae       0.75      0.02      0.04       457\n",
      "\n",
      "    accuracy                           0.25      3530\n",
      "   macro avg       0.64      0.24      0.19      3530\n",
      "weighted avg       0.63      0.25      0.19      3530\n",
      "\n"
     ]
    }
   ],
   "source": [
    "model_8 = SVC(C= .01, gamma= 'scale', kernel='poly')\n",
    "model_8.fit(X_train, y_train)\n",
    "preds = model_8.predict(X_train)\n",
    "#y_ true is y_test  predict on x_text  y_pred is the output of the model\n",
    "y_true = y_train\n",
    "y_pred = preds\n",
    "target_names = ['hiphop','classical','pop','electronic','metal', 'rock','country','reggae']\n",
    "print(classification_report(y_true, y_pred, target_names=target_names))"
   ]
  },
  {
   "cell_type": "code",
   "execution_count": 47,
   "id": "3a0b0b34",
   "metadata": {},
   "outputs": [
    {
     "name": "stdout",
     "output_type": "stream",
     "text": [
      "              precision    recall  f1-score   support\n",
      "\n",
      "      hiphop       0.43      0.83      0.57       477\n",
      "   classical       0.70      0.91      0.79       437\n",
      "         pop       0.34      0.13      0.19       423\n",
      "  electronic       0.54      0.25      0.34       424\n",
      "       metal       0.78      0.03      0.06       443\n",
      "        rock       0.29      0.91      0.44       450\n",
      "     country       0.62      0.04      0.07       419\n",
      "      reggae       0.59      0.33      0.43       457\n",
      "\n",
      "    accuracy                           0.44      3530\n",
      "   macro avg       0.54      0.43      0.36      3530\n",
      "weighted avg       0.54      0.44      0.37      3530\n",
      "\n"
     ]
    }
   ],
   "source": [
    "model_7 = SVC(C= .01, gamma= 'scale', kernel='sigmoid')\n",
    "model_7.fit(X_train, y_train)\n",
    "preds = model_7.predict(X_train)\n",
    "#y_ true is y_test  predict on x_text  y_pred is the output of the model\n",
    "y_true = y_train\n",
    "y_pred = preds\n",
    "target_names = ['hiphop','classical','pop','electronic','metal', 'rock','country','reggae']\n",
    "print(classification_report(y_true, y_pred, target_names=target_names))"
   ]
  },
  {
   "cell_type": "code",
   "execution_count": 48,
   "id": "696ba975",
   "metadata": {},
   "outputs": [
    {
     "name": "stdout",
     "output_type": "stream",
     "text": [
      "              precision    recall  f1-score   support\n",
      "\n",
      "      hiphop       0.34      0.74      0.46       140\n",
      "   classical       0.72      0.87      0.79       172\n",
      "         pop       0.36      0.18      0.24       164\n",
      "  electronic       0.39      0.22      0.28       148\n",
      "       metal       0.00      0.00      0.00       122\n",
      "        rock       0.32      0.84      0.46       154\n",
      "     country       0.33      0.03      0.06       119\n",
      "      reggae       0.39      0.20      0.26       155\n",
      "\n",
      "    accuracy                           0.41      1174\n",
      "   macro avg       0.36      0.38      0.32      1174\n",
      "weighted avg       0.37      0.41      0.34      1174\n",
      "\n"
     ]
    },
    {
     "name": "stderr",
     "output_type": "stream",
     "text": [
      "/root/.pyenv/versions/3.8.12/envs/mcats/lib/python3.8/site-packages/sklearn/metrics/_classification.py:1344: UndefinedMetricWarning: Precision and F-score are ill-defined and being set to 0.0 in labels with no predicted samples. Use `zero_division` parameter to control this behavior.\n",
      "  _warn_prf(average, modifier, msg_start, len(result))\n",
      "/root/.pyenv/versions/3.8.12/envs/mcats/lib/python3.8/site-packages/sklearn/metrics/_classification.py:1344: UndefinedMetricWarning: Precision and F-score are ill-defined and being set to 0.0 in labels with no predicted samples. Use `zero_division` parameter to control this behavior.\n",
      "  _warn_prf(average, modifier, msg_start, len(result))\n",
      "/root/.pyenv/versions/3.8.12/envs/mcats/lib/python3.8/site-packages/sklearn/metrics/_classification.py:1344: UndefinedMetricWarning: Precision and F-score are ill-defined and being set to 0.0 in labels with no predicted samples. Use `zero_division` parameter to control this behavior.\n",
      "  _warn_prf(average, modifier, msg_start, len(result))\n"
     ]
    }
   ],
   "source": [
    "model_7 = SVC(C= .01, gamma= 'scale', kernel='sigmoid')\n",
    "model_7.fit(X_train, y_train)\n",
    "preds = model_7.predict(X_test)\n",
    "#y_ true is y_test  predict on x_text  y_pred is the output of the model\n",
    "y_true = y_test\n",
    "y_pred = preds\n",
    "target_names = ['hiphop','classical','pop','electronic','metal', 'rock','country','reggae']\n",
    "print(classification_report(y_true, y_pred, target_names=target_names))"
   ]
  },
  {
   "cell_type": "code",
   "execution_count": 30,
   "id": "9b97c6e7",
   "metadata": {},
   "outputs": [
    {
     "name": "stdout",
     "output_type": "stream",
     "text": [
      "              precision    recall  f1-score   support\n",
      "\n",
      "      hiphop       0.58      0.62      0.60       477\n",
      "   classical       0.50      0.76      0.60       437\n",
      "         pop       0.48      0.42      0.44       423\n",
      "  electronic       0.58      0.54      0.56       424\n",
      "       metal       0.61      0.77      0.68       443\n",
      "        rock       0.61      0.39      0.47       450\n",
      "     country       0.45      0.42      0.43       419\n",
      "      reggae       0.64      0.51      0.57       457\n",
      "\n",
      "    accuracy                           0.55      3530\n",
      "   macro avg       0.56      0.55      0.55      3530\n",
      "weighted avg       0.56      0.55      0.55      3530\n",
      "\n"
     ]
    }
   ],
   "source": [
    "model_6 = SVC(C= 1, gamma= 'scale', kernel='sigmoid')\n",
    "model_6.fit(X_train, y_train)\n",
    "preds = model_6.predict(X_train)\n",
    "#y_ true is y_test  predict on x_text  y_pred is the output of the model\n",
    "y_true = y_train\n",
    "y_pred = preds\n",
    "target_names = ['hiphop','classical','pop','electronic','metal', 'rock','country','reggae']\n",
    "print(classification_report(y_true, y_pred, target_names=target_names))"
   ]
  },
  {
   "cell_type": "code",
   "execution_count": 31,
   "id": "cdaf0d00",
   "metadata": {},
   "outputs": [
    {
     "name": "stdout",
     "output_type": "stream",
     "text": [
      "              precision    recall  f1-score   support\n",
      "\n",
      "      hiphop       0.51      0.61      0.56       140\n",
      "   classical       0.44      0.67      0.53       172\n",
      "         pop       0.39      0.26      0.31       164\n",
      "  electronic       0.43      0.39      0.41       148\n",
      "       metal       0.55      0.64      0.59       122\n",
      "        rock       0.45      0.32      0.37       154\n",
      "     country       0.28      0.30      0.29       119\n",
      "      reggae       0.50      0.39      0.44       155\n",
      "\n",
      "    accuracy                           0.45      1174\n",
      "   macro avg       0.44      0.45      0.44      1174\n",
      "weighted avg       0.44      0.45      0.44      1174\n",
      "\n"
     ]
    }
   ],
   "source": [
    "model_6 = SVC(C= 1, gamma= 'scale', kernel='sigmoid')\n",
    "model_6.fit(X_train, y_train)\n",
    "preds = model_6.predict(X_test)\n",
    "#y_ true is y_test  predict on x_text  y_pred is the output of the model\n",
    "y_true = y_test\n",
    "y_pred = preds\n",
    "target_names = ['hiphop','classical','pop','electronic','metal', 'rock','country','reggae']\n",
    "print(classification_report(y_true, y_pred, target_names=target_names))"
   ]
  },
  {
   "cell_type": "code",
   "execution_count": 28,
   "id": "50017ee2",
   "metadata": {},
   "outputs": [
    {
     "name": "stdout",
     "output_type": "stream",
     "text": [
      "              precision    recall  f1-score   support\n",
      "\n",
      "      hiphop       0.59      0.63      0.61       477\n",
      "   classical       0.66      0.79      0.72       437\n",
      "         pop       0.47      0.40      0.44       423\n",
      "  electronic       0.55      0.59      0.57       424\n",
      "       metal       0.60      0.86      0.71       443\n",
      "        rock       0.53      0.36      0.43       450\n",
      "     country       0.54      0.41      0.46       419\n",
      "      reggae       0.65      0.60      0.62       457\n",
      "\n",
      "    accuracy                           0.58      3530\n",
      "   macro avg       0.57      0.58      0.57      3530\n",
      "weighted avg       0.58      0.58      0.57      3530\n",
      "\n"
     ]
    }
   ],
   "source": [
    "model_5 = SVC(C= .1, gamma= 'scale', kernel='sigmoid')\n",
    "model_5.fit(X_train, y_train)\n",
    "preds = model_5.predict(X_train)\n",
    "#y_ true is y_test  predict on x_text  y_pred is the output of the model\n",
    "y_true = y_train\n",
    "y_pred = preds\n",
    "target_names = ['hiphop','classical','pop','electronic','metal', 'rock','country','reggae']\n",
    "print(classification_report(y_true, y_pred, target_names=target_names))"
   ]
  },
  {
   "cell_type": "code",
   "execution_count": 29,
   "id": "03692de9",
   "metadata": {},
   "outputs": [
    {
     "name": "stdout",
     "output_type": "stream",
     "text": [
      "              precision    recall  f1-score   support\n",
      "\n",
      "      hiphop       0.51      0.59      0.55       140\n",
      "   classical       0.57      0.70      0.63       172\n",
      "         pop       0.33      0.26      0.29       164\n",
      "  electronic       0.38      0.42      0.40       148\n",
      "       metal       0.58      0.80      0.68       122\n",
      "        rock       0.45      0.29      0.35       154\n",
      "     country       0.40      0.39      0.40       119\n",
      "      reggae       0.59      0.48      0.53       155\n",
      "\n",
      "    accuracy                           0.49      1174\n",
      "   macro avg       0.48      0.49      0.48      1174\n",
      "weighted avg       0.48      0.49      0.48      1174\n",
      "\n"
     ]
    }
   ],
   "source": [
    "model_5 = SVC(C= .1, gamma= 'scale', kernel='sigmoid')\n",
    "model_5.fit(X_train, y_train)\n",
    "preds = model_5.predict(X_test)\n",
    "#y_ true is y_test  predict on x_text  y_pred is the output of the model\n",
    "y_true = y_test\n",
    "y_pred = preds\n",
    "target_names = ['hiphop','classical','pop','electronic','metal', 'rock','country','reggae']\n",
    "print(classification_report(y_true, y_pred, target_names=target_names))"
   ]
  },
  {
   "cell_type": "markdown",
   "id": "c273dc2a",
   "metadata": {},
   "source": [
    "# Best model without PCA"
   ]
  },
  {
   "cell_type": "code",
   "execution_count": 26,
   "id": "e56b0a4c",
   "metadata": {},
   "outputs": [
    {
     "name": "stdout",
     "output_type": "stream",
     "text": [
      "              precision    recall  f1-score   support\n",
      "\n",
      "      hiphop       0.71      0.82      0.76       477\n",
      "   classical       0.72      0.94      0.81       437\n",
      "         pop       0.61      0.45      0.52       423\n",
      "  electronic       0.72      0.69      0.70       424\n",
      "       metal       0.73      0.81      0.76       443\n",
      "        rock       0.61      0.53      0.56       450\n",
      "     country       0.62      0.54      0.58       419\n",
      "      reggae       0.81      0.76      0.78       457\n",
      "\n",
      "    accuracy                           0.70      3530\n",
      "   macro avg       0.69      0.69      0.69      3530\n",
      "weighted avg       0.69      0.70      0.69      3530\n",
      "\n"
     ]
    }
   ],
   "source": [
    "model_4 = SVC(C= .1, gamma= 'scale', kernel='rbf')\n",
    "model_4.fit(X_train, y_train)\n",
    "preds = model_4.predict(X_train)\n",
    "#y_ true is y_test  predict on x_text  y_pred is the output of the model\n",
    "y_true = y_train\n",
    "y_pred = preds\n",
    "target_names = ['hiphop','classical','pop','electronic','metal', 'rock','country','reggae']\n",
    "print(classification_report(y_true, y_pred, target_names=target_names))"
   ]
  },
  {
   "cell_type": "code",
   "execution_count": 27,
   "id": "0e0bc3fd",
   "metadata": {},
   "outputs": [
    {
     "name": "stdout",
     "output_type": "stream",
     "text": [
      "              precision    recall  f1-score   support\n",
      "\n",
      "      hiphop       0.55      0.71      0.62       140\n",
      "   classical       0.66      0.88      0.75       172\n",
      "         pop       0.43      0.27      0.33       164\n",
      "  electronic       0.46      0.39      0.42       148\n",
      "       metal       0.61      0.72      0.66       122\n",
      "        rock       0.42      0.32      0.36       154\n",
      "     country       0.46      0.53      0.49       119\n",
      "      reggae       0.72      0.65      0.68       155\n",
      "\n",
      "    accuracy                           0.56      1174\n",
      "   macro avg       0.54      0.56      0.54      1174\n",
      "weighted avg       0.54      0.56      0.54      1174\n",
      "\n"
     ]
    }
   ],
   "source": [
    "model_4 = SVC(C= .1, gamma= 'scale', kernel='rbf')\n",
    "model_4.fit(X_train, y_train)\n",
    "preds = model_4.predict(X_test)\n",
    "#y_ true is y_test  predict on x_text  y_pred is the output of the model\n",
    "y_true = y_test\n",
    "y_pred = preds\n",
    "target_names = ['hiphop','classical','pop','electronic','metal', 'rock','country','reggae']\n",
    "print(classification_report(y_true, y_pred, target_names=target_names))"
   ]
  },
  {
   "cell_type": "code",
   "execution_count": 24,
   "id": "186491bf",
   "metadata": {},
   "outputs": [
    {
     "name": "stdout",
     "output_type": "stream",
     "text": [
      "              precision    recall  f1-score   support\n",
      "\n",
      "      hiphop       0.97      0.97      0.97       477\n",
      "   classical       0.99      0.99      0.99       437\n",
      "         pop       0.89      0.88      0.89       423\n",
      "  electronic       0.95      0.96      0.95       424\n",
      "       metal       0.93      0.93      0.93       443\n",
      "        rock       0.89      0.88      0.88       450\n",
      "     country       0.90      0.93      0.91       419\n",
      "      reggae       0.96      0.95      0.96       457\n",
      "\n",
      "    accuracy                           0.94      3530\n",
      "   macro avg       0.93      0.93      0.93      3530\n",
      "weighted avg       0.94      0.94      0.94      3530\n",
      "\n"
     ]
    }
   ],
   "source": [
    "model_1 = SVC(C= 1, gamma= 'scale', kernel='rbf')\n",
    "model_1.fit(X_train, y_train)\n",
    "preds = model_1.predict(X_train)\n",
    "#y_ true is y_test  predict on x_text  y_pred is the output of the model\n",
    "y_true = y_train\n",
    "y_pred = preds\n",
    "target_names = ['hiphop','classical','pop','electronic','metal', 'rock','country','reggae']\n",
    "print(classification_report(y_true, y_pred, target_names=target_names))"
   ]
  },
  {
   "cell_type": "code",
   "execution_count": 25,
   "id": "1e266799",
   "metadata": {},
   "outputs": [
    {
     "name": "stdout",
     "output_type": "stream",
     "text": [
      "              precision    recall  f1-score   support\n",
      "\n",
      "      hiphop       0.64      0.75      0.69       140\n",
      "   classical       0.75      0.90      0.82       172\n",
      "         pop       0.45      0.37      0.41       164\n",
      "  electronic       0.53      0.45      0.48       148\n",
      "       metal       0.63      0.59      0.61       122\n",
      "        rock       0.43      0.38      0.40       154\n",
      "     country       0.43      0.55      0.49       119\n",
      "      reggae       0.79      0.73      0.76       155\n",
      "\n",
      "    accuracy                           0.59      1174\n",
      "   macro avg       0.58      0.59      0.58      1174\n",
      "weighted avg       0.59      0.59      0.58      1174\n",
      "\n"
     ]
    }
   ],
   "source": [
    "model_1 = SVC(C= 1, gamma= 'scale', kernel='rbf')\n",
    "model_1.fit(X_train, y_train)\n",
    "preds = model_1.predict(X_test)\n",
    "#y_ true is y_test  predict on x_text  y_pred is the output of the model\n",
    "y_true = y_test\n",
    "y_pred = preds\n",
    "target_names = ['hiphop','classical','pop','electronic','metal', 'rock','country','reggae']\n",
    "print(classification_report(y_true, y_pred, target_names=target_names))"
   ]
  },
  {
   "cell_type": "code",
   "execution_count": 18,
   "id": "15b00ad3",
   "metadata": {},
   "outputs": [
    {
     "name": "stdout",
     "output_type": "stream",
     "text": [
      "              precision    recall  f1-score   support\n",
      "\n",
      "      hiphop       1.00      1.00      1.00       477\n",
      "   classical       1.00      1.00      1.00       437\n",
      "         pop       1.00      1.00      1.00       423\n",
      "  electronic       1.00      1.00      1.00       424\n",
      "       metal       1.00      1.00      1.00       443\n",
      "        rock       1.00      1.00      1.00       450\n",
      "     country       1.00      1.00      1.00       419\n",
      "      reggae       1.00      1.00      1.00       457\n",
      "\n",
      "    accuracy                           1.00      3530\n",
      "   macro avg       1.00      1.00      1.00      3530\n",
      "weighted avg       1.00      1.00      1.00      3530\n",
      "\n"
     ]
    }
   ],
   "source": [
    "model_2 = SVC(C= 50, gamma= 'scale', kernel='rbf')\n",
    "model_2.fit(X_train, y_train)\n",
    "preds = model_2.predict(X_train)\n",
    "#y_ true is y_test  predict on x_text  y_pred is the output of the model\n",
    "y_true = y_train\n",
    "y_pred = preds\n",
    "target_names = ['hiphop','classical','pop','electronic','metal', 'rock','country','reggae']\n",
    "print(classification_report(y_true, y_pred, target_names=target_names))"
   ]
  },
  {
   "cell_type": "code",
   "execution_count": 19,
   "id": "16948bee",
   "metadata": {},
   "outputs": [
    {
     "name": "stdout",
     "output_type": "stream",
     "text": [
      "              precision    recall  f1-score   support\n",
      "\n",
      "      hiphop       0.58      0.62      0.60       477\n",
      "   classical       0.50      0.76      0.60       437\n",
      "         pop       0.48      0.42      0.44       423\n",
      "  electronic       0.58      0.54      0.56       424\n",
      "       metal       0.61      0.77      0.68       443\n",
      "        rock       0.61      0.39      0.47       450\n",
      "     country       0.45      0.42      0.43       419\n",
      "      reggae       0.64      0.51      0.57       457\n",
      "\n",
      "    accuracy                           0.55      3530\n",
      "   macro avg       0.56      0.55      0.55      3530\n",
      "weighted avg       0.56      0.55      0.55      3530\n",
      "\n"
     ]
    }
   ],
   "source": [
    "model_3 = SVC(C= 1, gamma= 'scale', kernel='sigmoid')\n",
    "model_3.fit(X_train, y_train)\n",
    "preds = model_3.predict(X_train)\n",
    "#y_ true is y_test  predict on x_text  y_pred is the output of the model\n",
    "y_true = y_train\n",
    "y_pred = preds\n",
    "target_names = ['hiphop','classical','pop','electronic','metal', 'rock','country','reggae']\n",
    "print(classification_report(y_true, y_pred, target_names=target_names))"
   ]
  },
  {
   "cell_type": "code",
   "execution_count": 20,
   "id": "67aaea01",
   "metadata": {},
   "outputs": [
    {
     "name": "stdout",
     "output_type": "stream",
     "text": [
      "              precision    recall  f1-score   support\n",
      "\n",
      "      hiphop       0.51      0.61      0.56       140\n",
      "   classical       0.44      0.67      0.53       172\n",
      "         pop       0.39      0.26      0.31       164\n",
      "  electronic       0.43      0.39      0.41       148\n",
      "       metal       0.55      0.64      0.59       122\n",
      "        rock       0.45      0.32      0.37       154\n",
      "     country       0.28      0.30      0.29       119\n",
      "      reggae       0.50      0.39      0.44       155\n",
      "\n",
      "    accuracy                           0.45      1174\n",
      "   macro avg       0.44      0.45      0.44      1174\n",
      "weighted avg       0.44      0.45      0.44      1174\n",
      "\n"
     ]
    }
   ],
   "source": [
    "model_3 = SVC(C= 1, gamma= 'scale', kernel='sigmoid')\n",
    "model_3.fit(X_train, y_train)\n",
    "preds = model_3.predict(X_test)\n",
    "#y_ true is y_test  predict on x_text  y_pred is the output of the model\n",
    "y_true = y_test\n",
    "y_pred = preds\n",
    "target_names = ['hiphop','classical','pop','electronic','metal', 'rock','country','reggae']\n",
    "print(classification_report(y_true, y_pred, target_names=target_names))"
   ]
  },
  {
   "cell_type": "code",
   "execution_count": 39,
   "id": "b5713f43",
   "metadata": {},
   "outputs": [
    {
     "name": "stdout",
     "output_type": "stream",
     "text": [
      "Best parameter (CV score=0.873):\n",
      "{'pca__n_components': 80}\n"
     ]
    }
   ],
   "source": [
    "pca = PCA()\n",
    "# set the tolerance to a large value to make the example faster\n",
    "svm = SVC()\n",
    "pipe = Pipeline(steps=[(\"pca\", pca), (\"svm\",svm)])\n",
    "param_grid = {\n",
    "    \"pca__n_components\": [5, 15, 30, 45, 60, 70, 80],\n",
    "    \n",
    "}\n",
    "search = GridSearchCV(pipe, param_grid, n_jobs=2)\n",
    "search.fit(X_train, y_train)\n",
    "print(\"Best parameter (CV score=%0.3f):\" % search.best_score_)\n",
    "print(search.best_params_)"
   ]
  },
  {
   "cell_type": "code",
   "execution_count": 43,
   "id": "70517070",
   "metadata": {},
   "outputs": [
    {
     "name": "stdout",
     "output_type": "stream",
     "text": [
      "Training Set Accuracy: 69.29178470254958%\n",
      "Testing Set Accuracy: 55.70698466780238%\n"
     ]
    }
   ],
   "source": [
    "component_count = 80\n",
    "pca = PCA(n_components=component_count)\n",
    "pca.fit(X_train)\n",
    "\n",
    "#Transforming x_train and x_test \n",
    "X_train_pca = pca.transform(X_train)\n",
    "X_test_pca = pca.transform(X_test)\n",
    "\n",
    "\n",
    "#Training\n",
    "model = SVC(C= .1, gamma= 'scale', kernel='rbf').fit(X_train_pca, y_train)\n",
    "\n",
    "\n",
    "#Predict\n",
    "y_pred_train = model.predict(X_train_pca)\n",
    "y_pred_test = model.predict(X_test_pca)\n",
    "\n",
    "#Performance Evaluation\n",
    "train_score = accuracy_score(y_train, y_pred_train)*100\n",
    "test_score = accuracy_score(y_test, y_pred_test)*100\n",
    "\n",
    "print(\"Training Set Accuracy:\",str(train_score)+'%')\n",
    "print(\"Testing Set Accuracy:\",str(test_score)+'%')"
   ]
  },
  {
   "cell_type": "code",
   "execution_count": 44,
   "id": "31fd0b04",
   "metadata": {},
   "outputs": [
    {
     "name": "stderr",
     "output_type": "stream",
     "text": [
      "/root/.pyenv/versions/3.8.12/envs/mcats/lib/python3.8/site-packages/sklearn/model_selection/_validation.py:378: FitFailedWarning: \n",
      "5 fits failed out of a total of 90.\n",
      "The score on these train-test partitions for these parameters will be set to nan.\n",
      "If these failures are not expected, you can try to debug them by setting error_score='raise'.\n",
      "\n",
      "Below are more details about the failures:\n",
      "--------------------------------------------------------------------------------\n",
      "5 fits failed with the following error:\n",
      "Traceback (most recent call last):\n",
      "  File \"/root/.pyenv/versions/3.8.12/envs/mcats/lib/python3.8/site-packages/sklearn/model_selection/_validation.py\", line 686, in _fit_and_score\n",
      "    estimator.fit(X_train, y_train, **fit_params)\n",
      "  File \"/root/.pyenv/versions/3.8.12/envs/mcats/lib/python3.8/site-packages/sklearn/pipeline.py\", line 401, in fit\n",
      "    Xt = self._fit(X, y, **fit_params_steps)\n",
      "  File \"/root/.pyenv/versions/3.8.12/envs/mcats/lib/python3.8/site-packages/sklearn/pipeline.py\", line 359, in _fit\n",
      "    X, fitted_transformer = fit_transform_one_cached(\n",
      "  File \"/root/.pyenv/versions/3.8.12/envs/mcats/lib/python3.8/site-packages/joblib/memory.py\", line 349, in __call__\n",
      "    return self.func(*args, **kwargs)\n",
      "  File \"/root/.pyenv/versions/3.8.12/envs/mcats/lib/python3.8/site-packages/sklearn/pipeline.py\", line 893, in _fit_transform_one\n",
      "    res = transformer.fit_transform(X, y, **fit_params)\n",
      "  File \"/root/.pyenv/versions/3.8.12/envs/mcats/lib/python3.8/site-packages/sklearn/utils/_set_output.py\", line 142, in wrapped\n",
      "    data_to_wrap = f(self, X, *args, **kwargs)\n",
      "  File \"/root/.pyenv/versions/3.8.12/envs/mcats/lib/python3.8/site-packages/sklearn/decomposition/_pca.py\", line 462, in fit_transform\n",
      "    U, S, Vt = self._fit(X)\n",
      "  File \"/root/.pyenv/versions/3.8.12/envs/mcats/lib/python3.8/site-packages/sklearn/decomposition/_pca.py\", line 512, in _fit\n",
      "    return self._fit_full(X, n_components)\n",
      "  File \"/root/.pyenv/versions/3.8.12/envs/mcats/lib/python3.8/site-packages/sklearn/decomposition/_pca.py\", line 526, in _fit_full\n",
      "    raise ValueError(\n",
      "ValueError: n_components=90 must be between 0 and min(n_samples, n_features)=89 with svd_solver='full'\n",
      "\n",
      "  warnings.warn(some_fits_failed_message, FitFailedWarning)\n",
      "/root/.pyenv/versions/3.8.12/envs/mcats/lib/python3.8/site-packages/sklearn/model_selection/_search.py:952: UserWarning: One or more of the test scores are non-finite: [0.86657224 0.87110482 0.8713881  0.87110482 0.86855524 0.86827195\n",
      " 0.87223796 0.87167139 0.87252125 0.87252125 0.87393768 0.87478754\n",
      " 0.87450425 0.87478754 0.87648725 0.87705382 0.87705382        nan]\n",
      "  warnings.warn(\n"
     ]
    },
    {
     "name": "stdout",
     "output_type": "stream",
     "text": [
      "Best parameter (CV score=0.877):\n",
      "{'pca__n_components': 87}\n"
     ]
    }
   ],
   "source": [
    "pca = PCA()\n",
    "# set the tolerance to a large value to make the example faster\n",
    "svm = SVC()\n",
    "pipe = Pipeline(steps=[(\"pca\", pca), (\"svm\",svm)])\n",
    "\n",
    "param_grid = {\n",
    "    \"pca__n_components\": [ 60,65,70, 73, 71, 72, 74,75, 80, 81,82, 83, 84,85,86, 87, 89, 90],\n",
    "    \n",
    "}\n",
    "search = GridSearchCV(pipe, param_grid, n_jobs=2)\n",
    "search.fit(X_train, y_train)\n",
    "print(\"Best parameter (CV score=%0.3f):\" % search.best_score_)\n",
    "print(search.best_params_)"
   ]
  },
  {
   "cell_type": "markdown",
   "id": "6796db44",
   "metadata": {},
   "source": [
    "# Best SVM model?"
   ]
  },
  {
   "cell_type": "code",
   "execution_count": 45,
   "id": "813c80ea",
   "metadata": {},
   "outputs": [
    {
     "name": "stdout",
     "output_type": "stream",
     "text": [
      "Training Set Accuracy: 69.54674220963173%\n",
      "Testing Set Accuracy: 55.5366269165247%\n"
     ]
    }
   ],
   "source": [
    "component_count = 87\n",
    "pca = PCA(n_components=component_count)\n",
    "pca.fit(X_train)\n",
    "\n",
    "#Transforming x_train and x_test \n",
    "X_train_pca = pca.transform(X_train)\n",
    "X_test_pca = pca.transform(X_test)\n",
    "\n",
    "\n",
    "#Training\n",
    "model = SVC(C= .1, gamma= 'scale', kernel='rbf').fit(X_train_pca, y_train)\n",
    "\n",
    "\n",
    "#Predict\n",
    "y_pred_train = model.predict(X_train_pca)\n",
    "y_pred_test = model.predict(X_test_pca)\n",
    "\n",
    "#Performance Evaluation\n",
    "train_score = accuracy_score(y_train, y_pred_train)*100\n",
    "test_score = accuracy_score(y_test, y_pred_test)*100\n",
    "\n",
    "print(\"Training Set Accuracy:\",str(train_score)+'%')\n",
    "print(\"Testing Set Accuracy:\",str(test_score)+'%')"
   ]
  },
  {
   "cell_type": "code",
   "execution_count": 46,
   "id": "089eea9d",
   "metadata": {},
   "outputs": [
    {
     "name": "stderr",
     "output_type": "stream",
     "text": [
      "/root/.pyenv/versions/3.8.12/envs/mcats/lib/python3.8/site-packages/sklearn/model_selection/_validation.py:378: FitFailedWarning: \n",
      "20 fits failed out of a total of 90.\n",
      "The score on these train-test partitions for these parameters will be set to nan.\n",
      "If these failures are not expected, you can try to debug them by setting error_score='raise'.\n",
      "\n",
      "Below are more details about the failures:\n",
      "--------------------------------------------------------------------------------\n",
      "5 fits failed with the following error:\n",
      "Traceback (most recent call last):\n",
      "  File \"/root/.pyenv/versions/3.8.12/envs/mcats/lib/python3.8/site-packages/sklearn/model_selection/_validation.py\", line 686, in _fit_and_score\n",
      "    estimator.fit(X_train, y_train, **fit_params)\n",
      "  File \"/root/.pyenv/versions/3.8.12/envs/mcats/lib/python3.8/site-packages/sklearn/pipeline.py\", line 401, in fit\n",
      "    Xt = self._fit(X, y, **fit_params_steps)\n",
      "  File \"/root/.pyenv/versions/3.8.12/envs/mcats/lib/python3.8/site-packages/sklearn/pipeline.py\", line 359, in _fit\n",
      "    X, fitted_transformer = fit_transform_one_cached(\n",
      "  File \"/root/.pyenv/versions/3.8.12/envs/mcats/lib/python3.8/site-packages/joblib/memory.py\", line 349, in __call__\n",
      "    return self.func(*args, **kwargs)\n",
      "  File \"/root/.pyenv/versions/3.8.12/envs/mcats/lib/python3.8/site-packages/sklearn/pipeline.py\", line 893, in _fit_transform_one\n",
      "    res = transformer.fit_transform(X, y, **fit_params)\n",
      "  File \"/root/.pyenv/versions/3.8.12/envs/mcats/lib/python3.8/site-packages/sklearn/utils/_set_output.py\", line 142, in wrapped\n",
      "    data_to_wrap = f(self, X, *args, **kwargs)\n",
      "  File \"/root/.pyenv/versions/3.8.12/envs/mcats/lib/python3.8/site-packages/sklearn/decomposition/_pca.py\", line 462, in fit_transform\n",
      "    U, S, Vt = self._fit(X)\n",
      "  File \"/root/.pyenv/versions/3.8.12/envs/mcats/lib/python3.8/site-packages/sklearn/decomposition/_pca.py\", line 512, in _fit\n",
      "    return self._fit_full(X, n_components)\n",
      "  File \"/root/.pyenv/versions/3.8.12/envs/mcats/lib/python3.8/site-packages/sklearn/decomposition/_pca.py\", line 526, in _fit_full\n",
      "    raise ValueError(\n",
      "ValueError: n_components=90 must be between 0 and min(n_samples, n_features)=89 with svd_solver='full'\n",
      "\n",
      "--------------------------------------------------------------------------------\n",
      "5 fits failed with the following error:\n",
      "Traceback (most recent call last):\n",
      "  File \"/root/.pyenv/versions/3.8.12/envs/mcats/lib/python3.8/site-packages/sklearn/model_selection/_validation.py\", line 686, in _fit_and_score\n",
      "    estimator.fit(X_train, y_train, **fit_params)\n",
      "  File \"/root/.pyenv/versions/3.8.12/envs/mcats/lib/python3.8/site-packages/sklearn/pipeline.py\", line 401, in fit\n",
      "    Xt = self._fit(X, y, **fit_params_steps)\n",
      "  File \"/root/.pyenv/versions/3.8.12/envs/mcats/lib/python3.8/site-packages/sklearn/pipeline.py\", line 359, in _fit\n",
      "    X, fitted_transformer = fit_transform_one_cached(\n",
      "  File \"/root/.pyenv/versions/3.8.12/envs/mcats/lib/python3.8/site-packages/joblib/memory.py\", line 349, in __call__\n",
      "    return self.func(*args, **kwargs)\n",
      "  File \"/root/.pyenv/versions/3.8.12/envs/mcats/lib/python3.8/site-packages/sklearn/pipeline.py\", line 893, in _fit_transform_one\n",
      "    res = transformer.fit_transform(X, y, **fit_params)\n",
      "  File \"/root/.pyenv/versions/3.8.12/envs/mcats/lib/python3.8/site-packages/sklearn/utils/_set_output.py\", line 142, in wrapped\n",
      "    data_to_wrap = f(self, X, *args, **kwargs)\n",
      "  File \"/root/.pyenv/versions/3.8.12/envs/mcats/lib/python3.8/site-packages/sklearn/decomposition/_pca.py\", line 462, in fit_transform\n",
      "    U, S, Vt = self._fit(X)\n",
      "  File \"/root/.pyenv/versions/3.8.12/envs/mcats/lib/python3.8/site-packages/sklearn/decomposition/_pca.py\", line 512, in _fit\n",
      "    return self._fit_full(X, n_components)\n",
      "  File \"/root/.pyenv/versions/3.8.12/envs/mcats/lib/python3.8/site-packages/sklearn/decomposition/_pca.py\", line 526, in _fit_full\n",
      "    raise ValueError(\n",
      "ValueError: n_components=91 must be between 0 and min(n_samples, n_features)=89 with svd_solver='full'\n",
      "\n",
      "--------------------------------------------------------------------------------\n",
      "5 fits failed with the following error:\n",
      "Traceback (most recent call last):\n",
      "  File \"/root/.pyenv/versions/3.8.12/envs/mcats/lib/python3.8/site-packages/sklearn/model_selection/_validation.py\", line 686, in _fit_and_score\n",
      "    estimator.fit(X_train, y_train, **fit_params)\n",
      "  File \"/root/.pyenv/versions/3.8.12/envs/mcats/lib/python3.8/site-packages/sklearn/pipeline.py\", line 401, in fit\n",
      "    Xt = self._fit(X, y, **fit_params_steps)\n",
      "  File \"/root/.pyenv/versions/3.8.12/envs/mcats/lib/python3.8/site-packages/sklearn/pipeline.py\", line 359, in _fit\n",
      "    X, fitted_transformer = fit_transform_one_cached(\n",
      "  File \"/root/.pyenv/versions/3.8.12/envs/mcats/lib/python3.8/site-packages/joblib/memory.py\", line 349, in __call__\n",
      "    return self.func(*args, **kwargs)\n",
      "  File \"/root/.pyenv/versions/3.8.12/envs/mcats/lib/python3.8/site-packages/sklearn/pipeline.py\", line 893, in _fit_transform_one\n",
      "    res = transformer.fit_transform(X, y, **fit_params)\n",
      "  File \"/root/.pyenv/versions/3.8.12/envs/mcats/lib/python3.8/site-packages/sklearn/utils/_set_output.py\", line 142, in wrapped\n",
      "    data_to_wrap = f(self, X, *args, **kwargs)\n",
      "  File \"/root/.pyenv/versions/3.8.12/envs/mcats/lib/python3.8/site-packages/sklearn/decomposition/_pca.py\", line 462, in fit_transform\n",
      "    U, S, Vt = self._fit(X)\n",
      "  File \"/root/.pyenv/versions/3.8.12/envs/mcats/lib/python3.8/site-packages/sklearn/decomposition/_pca.py\", line 512, in _fit\n",
      "    return self._fit_full(X, n_components)\n",
      "  File \"/root/.pyenv/versions/3.8.12/envs/mcats/lib/python3.8/site-packages/sklearn/decomposition/_pca.py\", line 526, in _fit_full\n",
      "    raise ValueError(\n",
      "ValueError: n_components=92 must be between 0 and min(n_samples, n_features)=89 with svd_solver='full'\n",
      "\n",
      "--------------------------------------------------------------------------------\n",
      "5 fits failed with the following error:\n",
      "Traceback (most recent call last):\n",
      "  File \"/root/.pyenv/versions/3.8.12/envs/mcats/lib/python3.8/site-packages/sklearn/model_selection/_validation.py\", line 686, in _fit_and_score\n",
      "    estimator.fit(X_train, y_train, **fit_params)\n",
      "  File \"/root/.pyenv/versions/3.8.12/envs/mcats/lib/python3.8/site-packages/sklearn/pipeline.py\", line 401, in fit\n",
      "    Xt = self._fit(X, y, **fit_params_steps)\n",
      "  File \"/root/.pyenv/versions/3.8.12/envs/mcats/lib/python3.8/site-packages/sklearn/pipeline.py\", line 359, in _fit\n",
      "    X, fitted_transformer = fit_transform_one_cached(\n",
      "  File \"/root/.pyenv/versions/3.8.12/envs/mcats/lib/python3.8/site-packages/joblib/memory.py\", line 349, in __call__\n",
      "    return self.func(*args, **kwargs)\n",
      "  File \"/root/.pyenv/versions/3.8.12/envs/mcats/lib/python3.8/site-packages/sklearn/pipeline.py\", line 893, in _fit_transform_one\n",
      "    res = transformer.fit_transform(X, y, **fit_params)\n",
      "  File \"/root/.pyenv/versions/3.8.12/envs/mcats/lib/python3.8/site-packages/sklearn/utils/_set_output.py\", line 142, in wrapped\n",
      "    data_to_wrap = f(self, X, *args, **kwargs)\n",
      "  File \"/root/.pyenv/versions/3.8.12/envs/mcats/lib/python3.8/site-packages/sklearn/decomposition/_pca.py\", line 462, in fit_transform\n",
      "    U, S, Vt = self._fit(X)\n",
      "  File \"/root/.pyenv/versions/3.8.12/envs/mcats/lib/python3.8/site-packages/sklearn/decomposition/_pca.py\", line 512, in _fit\n",
      "    return self._fit_full(X, n_components)\n",
      "  File \"/root/.pyenv/versions/3.8.12/envs/mcats/lib/python3.8/site-packages/sklearn/decomposition/_pca.py\", line 526, in _fit_full\n",
      "    raise ValueError(\n",
      "ValueError: n_components=93 must be between 0 and min(n_samples, n_features)=89 with svd_solver='full'\n",
      "\n",
      "  warnings.warn(some_fits_failed_message, FitFailedWarning)\n",
      "/root/.pyenv/versions/3.8.12/envs/mcats/lib/python3.8/site-packages/sklearn/model_selection/_search.py:952: UserWarning: One or more of the test scores are non-finite: [0.87167139 0.87167139 0.87252125 0.87308782 0.87280453 0.87252125\n",
      " 0.87252125 0.87393768 0.87478754 0.87450425 0.87478754 0.87648725\n",
      " 0.87705382 0.87705382        nan        nan        nan        nan]\n",
      "  warnings.warn(\n"
     ]
    },
    {
     "name": "stdout",
     "output_type": "stream",
     "text": [
      "Best parameter (CV score=0.877):\n",
      "{'pca__n_components': 87}\n"
     ]
    }
   ],
   "source": [
    "pca = PCA()\n",
    "# set the tolerance to a large value to make the example faster\n",
    "svm = SVC()\n",
    "pipe = Pipeline(steps=[(\"pca\", pca), (\"svm\",svm)])\n",
    "\n",
    "param_grid = {\n",
    "    \"pca__n_components\": [ 75,76, 77, 78,79, 80, 81,82, 83, 84,85,86, 87, 89, 90, 91, 92,93],\n",
    "    \n",
    "}\n",
    "search = GridSearchCV(pipe, param_grid, n_jobs=2)\n",
    "search.fit(X_train, y_train)\n",
    "print(\"Best parameter (CV score=%0.3f):\" % search.best_score_)\n",
    "print(search.best_params_)"
   ]
  },
  {
   "cell_type": "code",
   "execution_count": 30,
   "id": "0e43ed6e",
   "metadata": {},
   "outputs": [
    {
     "name": "stdout",
     "output_type": "stream",
     "text": [
      "Training Set Accuracy: 57.56373937677054%\n",
      "Testing Set Accuracy: 47.018739352640544%\n"
     ]
    },
    {
     "data": {
      "text/plain": [
       "{'decision_function_shape': 'ovr',\n",
       " 'break_ties': False,\n",
       " 'kernel': 'sigmoid',\n",
       " 'degree': 3,\n",
       " 'gamma': 'scale',\n",
       " 'coef0': 0.0,\n",
       " 'tol': 0.001,\n",
       " 'C': 0.5,\n",
       " 'nu': 0.0,\n",
       " 'epsilon': 0.0,\n",
       " 'shrinking': True,\n",
       " 'probability': False,\n",
       " 'cache_size': 200,\n",
       " 'class_weight': None,\n",
       " 'verbose': False,\n",
       " 'max_iter': -1,\n",
       " 'random_state': None,\n",
       " '_sparse': False,\n",
       " 'n_features_in_': 87,\n",
       " 'class_weight_': array([1., 1., 1., 1., 1., 1., 1., 1.]),\n",
       " 'classes_': array([0, 1, 2, 3, 4, 5, 6, 7]),\n",
       " '_gamma': 0.011561959866540978,\n",
       " 'support_': array([   0,    4,    6, ..., 3523, 3525, 3526], dtype=int32),\n",
       " 'support_vectors_': array([[-2.56970057,  4.13343298,  6.76796915, ...,  0.1945853 ,\n",
       "          0.35723089,  0.37608834],\n",
       "        [ 3.15499788,  4.87233663, -1.6911024 , ..., -0.20718374,\n",
       "         -0.19397329,  0.1681363 ],\n",
       "        [-1.09211226,  3.34315783,  0.0705337 , ..., -0.04523064,\n",
       "         -0.06487431, -0.01263255],\n",
       "        ...,\n",
       "        [ 2.48856815,  3.02155884, -2.49851669, ..., -0.37410659,\n",
       "         -0.10506977, -0.20421213],\n",
       "        [ 2.97042315,  2.45056787, -1.60708133, ..., -0.0832837 ,\n",
       "         -0.06638915, -0.19549923],\n",
       "        [ 1.23766785,  4.00381883,  0.01455881, ..., -0.05080447,\n",
       "          0.15896673, -0.19386845]]),\n",
       " '_n_support': array([370, 137, 414, 375, 375, 443, 401, 369], dtype=int32),\n",
       " 'dual_coef_': array([[ 0. ,  0. ,  0. , ..., -0.5, -0.5, -0.5],\n",
       "        [ 0. ,  0. ,  0. , ..., -0. , -0.5, -0. ],\n",
       "        [ 0.5,  0. ,  0.5, ..., -0.5, -0.5, -0. ],\n",
       "        ...,\n",
       "        [ 0. ,  0. ,  0. , ..., -0. , -0. , -0. ],\n",
       "        [ 0. ,  0. ,  0. , ..., -0. , -0. , -0. ],\n",
       "        [ 0.5,  0.5,  0. , ..., -0. , -0.5, -0. ]]),\n",
       " 'intercept_': array([ 1.85153594, -0.84378464, -0.33591298,  0.38092983, -0.05572232,\n",
       "        -0.51603653, -0.45749269, -3.83367369, -0.813093  ,  1.34141934,\n",
       "        -0.12068253, -4.87733394, -3.00787511,  0.48814558,  1.34697406,\n",
       "         0.71669438,  0.09671018,  0.81491435,  0.94461811,  0.52082102,\n",
       "        -0.54096411,  0.03559982, -2.19323964, -1.8464676 , -0.39181912,\n",
       "        -1.01029102, -0.00550496,  0.63568554]),\n",
       " '_probA': array([], dtype=float64),\n",
       " '_probB': array([], dtype=float64),\n",
       " 'fit_status_': 0,\n",
       " '_num_iter': array([ 78, 435, 524, 161, 777, 400, 319, 163,  87,  91,  98, 157, 123,\n",
       "        385, 299, 332, 468, 488, 213, 354, 358, 375, 530, 466, 203, 287,\n",
       "        277, 331], dtype=int32),\n",
       " 'shape_fit_': (3530, 87),\n",
       " '_intercept_': array([ 1.85153594, -0.84378464, -0.33591298,  0.38092983, -0.05572232,\n",
       "        -0.51603653, -0.45749269, -3.83367369, -0.813093  ,  1.34141934,\n",
       "        -0.12068253, -4.87733394, -3.00787511,  0.48814558,  1.34697406,\n",
       "         0.71669438,  0.09671018,  0.81491435,  0.94461811,  0.52082102,\n",
       "        -0.54096411,  0.03559982, -2.19323964, -1.8464676 , -0.39181912,\n",
       "        -1.01029102, -0.00550496,  0.63568554]),\n",
       " '_dual_coef_': array([[ 0. ,  0. ,  0. , ..., -0.5, -0.5, -0.5],\n",
       "        [ 0. ,  0. ,  0. , ..., -0. , -0.5, -0. ],\n",
       "        [ 0.5,  0. ,  0.5, ..., -0.5, -0.5, -0. ],\n",
       "        ...,\n",
       "        [ 0. ,  0. ,  0. , ..., -0. , -0. , -0. ],\n",
       "        [ 0. ,  0. ,  0. , ..., -0. , -0. , -0. ],\n",
       "        [ 0.5,  0.5,  0. , ..., -0. , -0.5, -0. ]]),\n",
       " 'n_iter_': array([ 78, 435, 524, 161, 777, 400, 319, 163,  87,  91,  98, 157, 123,\n",
       "        385, 299, 332, 468, 488, 213, 354, 358, 375, 530, 466, 203, 287,\n",
       "        277, 331], dtype=int32)}"
      ]
     },
     "execution_count": 30,
     "metadata": {},
     "output_type": "execute_result"
    }
   ],
   "source": [
    "\n",
    "\n",
    "component_count = 87\n",
    "pca = PCA(n_components=component_count)\n",
    "pca.fit(X_train)\n",
    "#Transforming x_train and x_test \n",
    "X_train_pca = pca.transform(X_train)\n",
    "X_test_pca = pca.transform(X_test)\n",
    "\n",
    "\n",
    "#Training\n",
    "model = SVC(C= .50, gamma= 'scale', kernel='sigmoid').fit(X_train_pca, y_train)\n",
    "\n",
    "\n",
    "#Predict\n",
    "y_pred_train = model.predict(X_train_pca)\n",
    "y_pred_test = model.predict(X_test_pca)\n",
    "\n",
    "#Performance Evaluation\n",
    "train_score = accuracy_score(y_train, y_pred_train)*100\n",
    "test_score = accuracy_score(y_test, y_pred_test)*100\n",
    "\n",
    "print(\"Training Set Accuracy:\",str(train_score)+'%')\n",
    "print(\"Testing Set Accuracy:\",str(test_score)+'%')\n",
    "\n",
    "vars(model)\n"
   ]
  },
  {
   "cell_type": "code",
   "execution_count": 32,
   "id": "5ec39dc4",
   "metadata": {},
   "outputs": [
    {
     "data": {
      "text/plain": [
       "array([370, 137, 414, 375, 375, 443, 401, 369], dtype=int32)"
      ]
     },
     "execution_count": 32,
     "metadata": {},
     "output_type": "execute_result"
    }
   ],
   "source": [
    "model.n_support_"
   ]
  },
  {
   "cell_type": "code",
   "execution_count": 29,
   "id": "0f580183",
   "metadata": {},
   "outputs": [
    {
     "data": {
      "text/plain": [
       "'1.2.1'"
      ]
     },
     "execution_count": 29,
     "metadata": {},
     "output_type": "execute_result"
    }
   ],
   "source": [
    "import sklearn\n",
    "sklearn.__version__"
   ]
  },
  {
   "cell_type": "code",
   "execution_count": null,
   "id": "83934f79",
   "metadata": {},
   "outputs": [],
   "source": []
  }
 ],
 "metadata": {
  "kernelspec": {
   "display_name": "Python 3 (ipykernel)",
   "language": "python",
   "name": "python3"
  },
  "language_info": {
   "codemirror_mode": {
    "name": "ipython",
    "version": 3
   },
   "file_extension": ".py",
   "mimetype": "text/x-python",
   "name": "python",
   "nbconvert_exporter": "python",
   "pygments_lexer": "ipython3",
   "version": "3.8.12"
  },
  "toc": {
   "base_numbering": 1,
   "nav_menu": {},
   "number_sections": true,
   "sideBar": true,
   "skip_h1_title": false,
   "title_cell": "Table of Contents",
   "title_sidebar": "Contents",
   "toc_cell": false,
   "toc_position": {},
   "toc_section_display": true,
   "toc_window_display": false
  }
 },
 "nbformat": 4,
 "nbformat_minor": 5
}
